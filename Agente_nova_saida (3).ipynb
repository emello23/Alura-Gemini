{
  "nbformat": 4,
  "nbformat_minor": 0,
  "metadata": {
    "colab": {
      "provenance": [],
      "authorship_tag": "ABX9TyOtUEBgK37wIGKLAM2r+ewK",
      "include_colab_link": true
    },
    "kernelspec": {
      "name": "python3",
      "display_name": "Python 3"
    },
    "language_info": {
      "name": "python"
    }
  },
  "cells": [
    {
      "cell_type": "markdown",
      "metadata": {
        "id": "view-in-github",
        "colab_type": "text"
      },
      "source": [
        "<a href=\"https://colab.research.google.com/github/emello23/Alura-Gemini/blob/main/Agente_nova_saida.ipynb\" target=\"_parent\"><img src=\"https://colab.research.google.com/assets/colab-badge.svg\" alt=\"Open In Colab\"/></a>"
      ]
    },
    {
      "cell_type": "code",
      "execution_count": null,
      "metadata": {
        "id": "BtTC3gLfzG9R",
        "colab": {
          "base_uri": "https://localhost:8080/"
        },
        "outputId": "516114d0-b982-4cd3-f813-acea78db40b2"
      },
      "outputs": [
        {
          "output_type": "stream",
          "name": "stdout",
          "text": [
            "Requirement already satisfied: pandas in /usr/local/lib/python3.11/dist-packages (2.2.2)\n",
            "Requirement already satisfied: google-api-python-client in /usr/local/lib/python3.11/dist-packages (2.171.0)\n",
            "Requirement already satisfied: google-generativeai in /usr/local/lib/python3.11/dist-packages (0.8.5)\n",
            "Requirement already satisfied: numpy>=1.23.2 in /usr/local/lib/python3.11/dist-packages (from pandas) (2.0.2)\n",
            "Requirement already satisfied: python-dateutil>=2.8.2 in /usr/local/lib/python3.11/dist-packages (from pandas) (2.9.0.post0)\n",
            "Requirement already satisfied: pytz>=2020.1 in /usr/local/lib/python3.11/dist-packages (from pandas) (2025.2)\n",
            "Requirement already satisfied: tzdata>=2022.7 in /usr/local/lib/python3.11/dist-packages (from pandas) (2025.2)\n",
            "Requirement already satisfied: httplib2<1.0.0,>=0.19.0 in /usr/local/lib/python3.11/dist-packages (from google-api-python-client) (0.22.0)\n",
            "Requirement already satisfied: google-auth!=2.24.0,!=2.25.0,<3.0.0,>=1.32.0 in /usr/local/lib/python3.11/dist-packages (from google-api-python-client) (2.38.0)\n",
            "Requirement already satisfied: google-auth-httplib2<1.0.0,>=0.2.0 in /usr/local/lib/python3.11/dist-packages (from google-api-python-client) (0.2.0)\n",
            "Requirement already satisfied: google-api-core!=2.0.*,!=2.1.*,!=2.2.*,!=2.3.0,<3.0.0,>=1.31.5 in /usr/local/lib/python3.11/dist-packages (from google-api-python-client) (2.25.0)\n",
            "Requirement already satisfied: uritemplate<5,>=3.0.1 in /usr/local/lib/python3.11/dist-packages (from google-api-python-client) (4.2.0)\n",
            "Requirement already satisfied: google-ai-generativelanguage==0.6.15 in /usr/local/lib/python3.11/dist-packages (from google-generativeai) (0.6.15)\n",
            "Requirement already satisfied: protobuf in /usr/local/lib/python3.11/dist-packages (from google-generativeai) (5.29.5)\n",
            "Requirement already satisfied: pydantic in /usr/local/lib/python3.11/dist-packages (from google-generativeai) (2.11.5)\n",
            "Requirement already satisfied: tqdm in /usr/local/lib/python3.11/dist-packages (from google-generativeai) (4.67.1)\n",
            "Requirement already satisfied: typing-extensions in /usr/local/lib/python3.11/dist-packages (from google-generativeai) (4.14.0)\n",
            "Requirement already satisfied: proto-plus<2.0.0dev,>=1.22.3 in /usr/local/lib/python3.11/dist-packages (from google-ai-generativelanguage==0.6.15->google-generativeai) (1.26.1)\n",
            "Requirement already satisfied: googleapis-common-protos<2.0.0,>=1.56.2 in /usr/local/lib/python3.11/dist-packages (from google-api-core!=2.0.*,!=2.1.*,!=2.2.*,!=2.3.0,<3.0.0,>=1.31.5->google-api-python-client) (1.70.0)\n",
            "Requirement already satisfied: requests<3.0.0,>=2.18.0 in /usr/local/lib/python3.11/dist-packages (from google-api-core!=2.0.*,!=2.1.*,!=2.2.*,!=2.3.0,<3.0.0,>=1.31.5->google-api-python-client) (2.32.3)\n",
            "Requirement already satisfied: cachetools<6.0,>=2.0.0 in /usr/local/lib/python3.11/dist-packages (from google-auth!=2.24.0,!=2.25.0,<3.0.0,>=1.32.0->google-api-python-client) (5.5.2)\n",
            "Requirement already satisfied: pyasn1-modules>=0.2.1 in /usr/local/lib/python3.11/dist-packages (from google-auth!=2.24.0,!=2.25.0,<3.0.0,>=1.32.0->google-api-python-client) (0.4.2)\n",
            "Requirement already satisfied: rsa<5,>=3.1.4 in /usr/local/lib/python3.11/dist-packages (from google-auth!=2.24.0,!=2.25.0,<3.0.0,>=1.32.0->google-api-python-client) (4.9.1)\n",
            "Requirement already satisfied: pyparsing!=3.0.0,!=3.0.1,!=3.0.2,!=3.0.3,<4,>=2.4.2 in /usr/local/lib/python3.11/dist-packages (from httplib2<1.0.0,>=0.19.0->google-api-python-client) (3.2.3)\n",
            "Requirement already satisfied: six>=1.5 in /usr/local/lib/python3.11/dist-packages (from python-dateutil>=2.8.2->pandas) (1.17.0)\n",
            "Requirement already satisfied: annotated-types>=0.6.0 in /usr/local/lib/python3.11/dist-packages (from pydantic->google-generativeai) (0.7.0)\n",
            "Requirement already satisfied: pydantic-core==2.33.2 in /usr/local/lib/python3.11/dist-packages (from pydantic->google-generativeai) (2.33.2)\n",
            "Requirement already satisfied: typing-inspection>=0.4.0 in /usr/local/lib/python3.11/dist-packages (from pydantic->google-generativeai) (0.4.1)\n",
            "Requirement already satisfied: grpcio<2.0.0,>=1.33.2 in /usr/local/lib/python3.11/dist-packages (from google-api-core[grpc]!=2.0.*,!=2.1.*,!=2.10.*,!=2.2.*,!=2.3.*,!=2.4.*,!=2.5.*,!=2.6.*,!=2.7.*,!=2.8.*,!=2.9.*,<3.0.0dev,>=1.34.1->google-ai-generativelanguage==0.6.15->google-generativeai) (1.72.1)\n",
            "Requirement already satisfied: grpcio-status<2.0.0,>=1.33.2 in /usr/local/lib/python3.11/dist-packages (from google-api-core[grpc]!=2.0.*,!=2.1.*,!=2.10.*,!=2.2.*,!=2.3.*,!=2.4.*,!=2.5.*,!=2.6.*,!=2.7.*,!=2.8.*,!=2.9.*,<3.0.0dev,>=1.34.1->google-ai-generativelanguage==0.6.15->google-generativeai) (1.71.0)\n",
            "Requirement already satisfied: pyasn1<0.7.0,>=0.6.1 in /usr/local/lib/python3.11/dist-packages (from pyasn1-modules>=0.2.1->google-auth!=2.24.0,!=2.25.0,<3.0.0,>=1.32.0->google-api-python-client) (0.6.1)\n",
            "Requirement already satisfied: charset-normalizer<4,>=2 in /usr/local/lib/python3.11/dist-packages (from requests<3.0.0,>=2.18.0->google-api-core!=2.0.*,!=2.1.*,!=2.2.*,!=2.3.0,<3.0.0,>=1.31.5->google-api-python-client) (3.4.2)\n",
            "Requirement already satisfied: idna<4,>=2.5 in /usr/local/lib/python3.11/dist-packages (from requests<3.0.0,>=2.18.0->google-api-core!=2.0.*,!=2.1.*,!=2.2.*,!=2.3.0,<3.0.0,>=1.31.5->google-api-python-client) (3.10)\n",
            "Requirement already satisfied: urllib3<3,>=1.21.1 in /usr/local/lib/python3.11/dist-packages (from requests<3.0.0,>=2.18.0->google-api-core!=2.0.*,!=2.1.*,!=2.2.*,!=2.3.0,<3.0.0,>=1.31.5->google-api-python-client) (2.4.0)\n",
            "Requirement already satisfied: certifi>=2017.4.17 in /usr/local/lib/python3.11/dist-packages (from requests<3.0.0,>=2.18.0->google-api-core!=2.0.*,!=2.1.*,!=2.2.*,!=2.3.0,<3.0.0,>=1.31.5->google-api-python-client) (2025.4.26)\n"
          ]
        }
      ],
      "source": [
        "!pip install pandas google-api-python-client google-generativeai\n"
      ]
    },
    {
      "cell_type": "code",
      "source": [
        "import pandas as pd\n",
        "import time\n",
        "from IPython.display import display, Markdown\n",
        "from tabulate import tabulate\n",
        "from urllib.parse import quote_plus\n",
        "import google.generativeai as genai # SDK do Gemini\n",
        "import json # Para parsear a resposta do Gemini\n",
        "from google.colab import userdata # Para acessar a API key\n",
        "\n",
        "# --- Configura\u00e7\u00e3o do Agente e API Key ---\n",
        "GOOGLE_API_KEY = None\n",
        "gemini_model_instance = None # Renomeado para clareza\n",
        "\n",
        "try:\n",
        "    # O nome padr\u00e3o para secrets \u00e9 sem o sufixo _, a menos que voc\u00ea tenha nomeado especificamente assim.\n",
        "    # Vou usar 'GOOGLE_API_KEY' como padr\u00e3o, conforme a pr\u00e1tica comum.\n",
        "    GOOGLE_API_KEY = userdata.get('GOOGLE_API_KEY')\n",
        "    if not GOOGLE_API_KEY:\n",
        "        display(Markdown(\"<font color='red'>**Erro Cr\u00edtico: GOOGLE_API_KEY n\u00e3o encontrada nos Secrets do Colab.** \"\n",
        "                         \"Por favor, configure-a com o nome 'GOOGLE_API_KEY'.</font>\"))\n",
        "    else:\n",
        "        genai.configure(api_key=GOOGLE_API_KEY)\n",
        "        gemini_model_instance = genai.GenerativeModel(\n",
        "            model_name='gemini-1.5-flash-latest', # Modelo eficiente e capaz\n",
        "            # A op\u00e7\u00e3o response_mime_type pode ser usada com modelos mais recentes\n",
        "            # e configura\u00e7\u00f5es de seguran\u00e7a apropriadas.\n",
        "            # generation_config=genai.types.GenerationConfig(\n",
        "            #     response_mime_type=\"application/json\"\n",
        "            # )\n",
        "        )\n",
        "        display(Markdown(\"\u2705 *SDK do Gemini e modelo (`gemini-1.5-flash-latest`) configurados com sucesso.*\"))\n",
        "except Exception as e:\n",
        "    display(Markdown(f\"<font color='red'>**Erro Cr\u00edtico ao configurar o SDK do Gemini:** {e}. \"\n",
        "                     \"Verifique sua API Key, permiss\u00f5es e se o nome do secret est\u00e1 correto ('GOOGLE_API_KEY'). \"\n",
        "                     \"O agente n\u00e3o funcionar\u00e1 sem isso.</font>\"))\n",
        "    # O script poderia parar aqui ou continuar com funcionalidades limitadas se houvesse um fallback.\n",
        "    # Para este agente, o Gemini \u00e9 essencial.\n",
        "\n",
        "# --- Fun\u00e7\u00f5es Utilit\u00e1rias ---\n",
        "\n",
        "def carregar_dados_viagem(caminho_arquivo: str) -> pd.DataFrame | None:\n",
        "    \"\"\"\n",
        "    Carrega os dados de viagem do arquivo CSV e valida as colunas necess\u00e1rias.\n",
        "    \"\"\"\n",
        "    colunas_requeridas = ['cidade', 'pais', 'data_chegada', 'data_partida', 'hospedagem']\n",
        "    try:\n",
        "        df = pd.read_csv(caminho_arquivo)\n",
        "\n",
        "        # Validar se as colunas requeridas existem\n",
        "        if not all(col in df.columns for col in colunas_requeridas):\n",
        "            colunas_faltando = [col for col in colunas_requeridas if col not in df.columns]\n",
        "            display(Markdown(f\"<font color='red'>**Erro: O arquivo `{caminho_arquivo}` n\u00e3o cont\u00e9m as colunas requeridas.** \"\n",
        "                             f\"Faltam as seguintes colunas: {', '.join(colunas_faltando)}.</font>\"))\n",
        "            return None\n",
        "\n",
        "        display(Markdown(f\"### Arquivo de Viagem (`{caminho_arquivo}`)\"))\n",
        "        display(df[colunas_requeridas]) # Exibe apenas as colunas relevantes\n",
        "        return df\n",
        "    except FileNotFoundError:\n",
        "        display(Markdown(f\"<font color='red'>**Erro: Arquivo `{caminho_arquivo}` n\u00e3o encontrado.** Verifique o nome e o local.</font>\"))\n",
        "        return None\n",
        "    except Exception as e:\n",
        "        display(Markdown(f\"<font color='red'>**Erro ao carregar o arquivo CSV `{caminho_arquivo}`:** {e}</font>\"))\n",
        "        return None\n",
        "\n",
        "def gerar_links_pesquisa_google(cidade: str, pais: str) -> tuple[str, str, str]:\n",
        "    \"\"\"Gera links de pesquisa \u00fateis para Google Search e Google Maps.\"\"\"\n",
        "    query_atracoes = f\"principais atra\u00e7\u00f5es tur\u00edsticas em {cidade} {pais}\"\n",
        "    link_google_search = f\"https://www.google.com/search?q={quote_plus(query_atracoes)}\"\n",
        "    query_maps_atracoes = f\"atra\u00e7\u00f5es tur\u00edsticas em {cidade}, {pais}\"\n",
        "    link_google_maps_atracoes = f\"https://www.google.com/maps/search/{quote_plus(query_maps_atracoes)}\"\n",
        "    query_maps_cidade = f\"{cidade}, {pais}\"\n",
        "    link_google_maps_cidade = f\"https://www.google.com/maps/place/{quote_plus(query_maps_cidade)}\"\n",
        "    return link_google_search, link_google_maps_atracoes, link_google_maps_cidade\n",
        "\n",
        "# --- Defini\u00e7\u00e3o do Agente Pesquisador de Atra\u00e7\u00f5es ---\n",
        "\n",
        "class AgentePesquisadorAtracoes:\n",
        "    \"\"\"\n",
        "    Um agente respons\u00e1vel por pesquisar atra\u00e7\u00f5es tur\u00edsticas usando o Gemini\n",
        "    e fornecer links \u00fateis para pesquisa manual.\n",
        "    \"\"\"\n",
        "    def __init__(self, modelo_llm: genai.GenerativeModel):\n",
        "        if modelo_llm is None:\n",
        "            raise ValueError(\"O modelo LLM (Gemini) n\u00e3o pode ser None para este agente.\")\n",
        "        self.modelo = modelo_llm\n",
        "        self.safety_settings = [ # Configura\u00e7\u00f5es de seguran\u00e7a para o Gemini\n",
        "            {\"category\": \"HARM_CATEGORY_HARASSMENT\", \"threshold\": \"BLOCK_MEDIUM_AND_ABOVE\"},\n",
        "            {\"category\": \"HARM_CATEGORY_HATE_SPEECH\", \"threshold\": \"BLOCK_MEDIUM_AND_ABOVE\"},\n",
        "            {\"category\": \"HARM_CATEGORY_SEXUALLY_EXPLICIT\", \"threshold\": \"BLOCK_MEDIUM_AND_ABOVE\"},\n",
        "            {\"category\": \"HARM_CATEGORY_DANGEROUS_CONTENT\", \"threshold\": \"BLOCK_MEDIUM_AND_ABOVE\"},\n",
        "        ]\n",
        "\n",
        "    def _obter_sugestoes_gemini(self, cidade: str, pais: str, top_n: int = 7) -> list[dict]:\n",
        "        \"\"\"\n",
        "        Ferramenta interna do agente para consultar o Gemini sobre atra\u00e7\u00f5es.\n",
        "        \"\"\"\n",
        "        display(Markdown(f\"\ud83e\udde0 *Agente consultando Gemini sobre atra\u00e7\u00f5es em: **{cidade}, {pais}** (Top {top_n})...*\"))\n",
        "\n",
        "        prompt = f\"\"\"\n",
        "        Voc\u00ea \u00e9 um assistente de planejamento de viagens altamente especializado e eficiente.\n",
        "        Sua tarefa \u00e9 identificar as {top_n} principais e mais recomendadas atra\u00e7\u00f5es tur\u00edsticas para a cidade de {cidade}, localizada em {pais}.\n",
        "\n",
        "        Crit\u00e9rios para sua sele\u00e7\u00e3o:\n",
        "        1.  **Popularidade e Reconhecimento:** Atra\u00e7\u00f5es bem conhecidas e frequentemente visitadas.\n",
        "        2.  **Qualidade das Avalia\u00e7\u00f5es:** Lugares geralmente com avalia\u00e7\u00f5es positivas (ex: acima de 4.0/5 estrelas).\n",
        "        3.  **Relev\u00e2ncia Cultural/Hist\u00f3rica:** Locais com significado importante.\n",
        "        4.  **Diversidade de Experi\u00eancias:** Inclua uma mistura de tipos, como museus, monumentos, parques, mercados, igrejas/catedrais, mirantes, etc., quando apropriado para a cidade.\n",
        "        5.  **Singularidade:** Atra\u00e7\u00f5es que oferecem uma experi\u00eancia \u00fanica ou ic\u00f4nica da cidade/regi\u00e3o.\n",
        "\n",
        "        Formato da Resposta:\n",
        "        Retorne **estritamente uma lista JSON**. Cada elemento da lista deve ser um dicion\u00e1rio representando uma atra\u00e7\u00e3o,\n",
        "        contendo EXATAMENTE as seguintes chaves:\n",
        "        - \"nome\": (string) O nome oficial e completo da atra\u00e7\u00e3o.\n",
        "        - \"tipo_principal\": (string) A categoria principal da atra\u00e7\u00e3o (ex: \"Museu de Arte\", \"Catedral G\u00f3tica\", \"Parque Urbano\", \"Mercado Hist\u00f3rico\", \"Monumento Nacional\", \"Mirante Panor\u00e2mico\"). Seja espec\u00edfico.\n",
        "        - \"descricao_enxuta\": (string) Uma descri\u00e7\u00e3o concisa e informativa (1-2 frases) que justifique sua inclus\u00e3o, destacando seus principais atrativos.\n",
        "        - \"avaliacao_geral\": (string, opcional) Uma estimativa da avalia\u00e7\u00e3o geral se for amplamente conhecida (ex: \"Excelente\", \"Muito Popular\", \"4.5/5 estrelas\"). Use \"N/A\" se n\u00e3o houver uma estimativa clara.\n",
        "        - \"destaque_principal\": (string) O motivo principal pelo qual um turista deveria visitar (ex: \"Vistas incr\u00edveis da cidade\", \"Cole\u00e7\u00e3o de arte renascentista\", \"Arquitetura impressionante\", \"Atmosfera vibrante\").\n",
        "\n",
        "        Exemplo de um item na lista JSON:\n",
        "        {{\n",
        "          \"nome\": \"Museu do Louvre\",\n",
        "          \"tipo_principal\": \"Museu de Arte e Antiguidades\",\n",
        "          \"descricao_enxuta\": \"Um dos maiores e mais visitados museus do mundo, lar de obras-primas como a Mona Lisa e a V\u00eanus de Milo.\",\n",
        "          \"avaliacao_geral\": \"4.7/5 estrelas\",\n",
        "          \"destaque_principal\": \"Cole\u00e7\u00e3o de arte de renome mundial\"\n",
        "        }}\n",
        "\n",
        "        Garanta que a sa\u00edda seja SOMENTE a lista JSON, sem nenhum texto introdut\u00f3rio, coment\u00e1rios ou formata\u00e7\u00e3o adicional.\n",
        "        \"\"\"\n",
        "\n",
        "        try:\n",
        "            response = self.modelo.generate_content(\n",
        "                prompt,\n",
        "                generation_config=genai.types.GenerationConfig(\n",
        "                    temperature=0.4, # Um pouco mais factual, menos aleat\u00f3rio\n",
        "                    max_output_tokens=3072 # Espa\u00e7o suficiente para a lista JSON\n",
        "                ),\n",
        "                safety_settings=self.safety_settings\n",
        "            )\n",
        "\n",
        "            json_text = response.text.strip()\n",
        "            # Tentativa robusta de extrair JSON, mesmo que o modelo adicione ```json ... ```\n",
        "            if json_text.startswith(\"```json\"):\n",
        "                json_text = json_text[7:]\n",
        "            if json_text.endswith(\"```\"):\n",
        "                json_text = json_text[:-3]\n",
        "            json_text = json_text.strip()\n",
        "\n",
        "            if not json_text:\n",
        "                display(Markdown(f\"<font color='orange'>Aviso: Gemini retornou uma resposta vazia para {cidade}.</font>\"))\n",
        "                return []\n",
        "\n",
        "            atracoes = json.loads(json_text)\n",
        "            # Garantir que \u00e9 uma lista, mesmo que o Gemini retorne algo diferente\n",
        "            if not isinstance(atracoes, list):\n",
        "                 display(Markdown(f\"<font color='orange'>Aviso: Gemini retornou um formato inesperado (n\u00e3o uma lista) para {cidade}.</font>\"))\n",
        "                 return []\n",
        "\n",
        "            display(Markdown(f\"\u2705 *Gemini retornou {len(atracoes)} sugest\u00f5es de atra\u00e7\u00f5es para {cidade}.*\"))\n",
        "            return atracoes[:top_n]\n",
        "        except json.JSONDecodeError as e:\n",
        "            display(Markdown(f\"<font color='red'>**Erro (JSONDecodeError) ao processar resposta do Gemini para {cidade}:** {e}. \"\n",
        "                             \"Isso geralmente ocorre se o modelo n\u00e3o retornar um JSON v\u00e1lido.</font>\"))\n",
        "            if hasattr(response, 'text'):\n",
        "                display(Markdown(f\"<pre>Resposta Bruta do Gemini:\\n{response.text}</pre>\"))\n",
        "            else:\n",
        "                 display(Markdown(f\"<pre>Nenhuma resposta de texto recebida do Gemini.</pre>\"))\n",
        "            return []\n",
        "        except Exception as e:\n",
        "            # Captura de erros mais gen\u00e9ricos, como problemas de API (quota, etc.)\n",
        "            # ou bloqueios de seguran\u00e7a n\u00e3o esperados.\n",
        "            display(Markdown(f\"<font color='red'>**Erro inesperado ao consultar Gemini para {cidade}:** {e}</font>\"))\n",
        "            if hasattr(response, 'prompt_feedback'):\n",
        "                display(Markdown(f\"Feedback do Prompt: {response.prompt_feedback}\"))\n",
        "            return []\n",
        "\n",
        "    def pesquisar_destino(self, cidade: str, pais: str, top_n_sugestoes: int = 7) -> dict:\n",
        "        \"\"\"\n",
        "        Executa a pesquisa de atra\u00e7\u00f5es para um destino espec\u00edfico.\n",
        "        \"\"\"\n",
        "        display(Markdown(f\"\\n### \ud83c\udf0d Agente Iniciando Pesquisa para: **{cidade}, {pais}**\"))\n",
        "\n",
        "        links = gerar_links_pesquisa_google(cidade, pais)\n",
        "        sugestoes_gemini = self._obter_sugestoes_gemini(cidade, pais, top_n=top_n_sugestoes)\n",
        "\n",
        "        display(Markdown(f\"--- Pesquisa para **{cidade}, {pais}** finalizada pelo agente. ---\"))\n",
        "        return {\n",
        "            \"cidade\": cidade,\n",
        "            \"pais\": pais,\n",
        "            \"link_google_search\": links[0],\n",
        "            \"link_google_maps_atracoes\": links[1],\n",
        "            \"link_google_maps_cidade\": links[2],\n",
        "            \"sugestoes_gemini\": sugestoes_gemini\n",
        "        }\n",
        "\n",
        "# --- Fun\u00e7\u00e3o Principal de Execu\u00e7\u00e3o ---\n",
        "def executar_planejador_viagem(caminho_arquivo_csv: str = 'europa.csv'):\n",
        "    \"\"\"\n",
        "    Orquestra o carregamento dos dados da viagem e a pesquisa de atra\u00e7\u00f5es para cada destino.\n",
        "    Recebe o caminho do arquivo CSV como par\u00e2metro.\n",
        "    \"\"\"\n",
        "    if not GOOGLE_API_KEY or not gemini_model_instance:\n",
        "        display(Markdown(\"<font color='red'>**Execu\u00e7\u00e3o Interrompida.** API Key do Google ou modelo Gemini n\u00e3o configurados corretamente na inicializa\u00e7\u00e3o.</font>\"))\n",
        "        return\n",
        "\n",
        "    df_viagem = carregar_dados_viagem(caminho_arquivo_csv)\n",
        "\n",
        "    if df_viagem is None:\n",
        "        display(Markdown(\"<font color='red'>**N\u00e3o foi poss\u00edvel prosseguir sem os dados da viagem.**</font>\"))\n",
        "        return\n",
        "\n",
        "    try:\n",
        "        agente_pesquisador = AgentePesquisadorAtracoes(modelo_llm=gemini_model_instance)\n",
        "    except ValueError as e:\n",
        "        display(Markdown(f\"<font color='red'>**Erro ao criar o agente pesquisador:** {e}</font>\"))\n",
        "        return\n",
        "\n",
        "    display(Markdown(\"\\n# \ud83d\uddfa\ufe0f **Relat\u00f3rio de Pesquisa de Atra\u00e7\u00f5es do Agente** \u2708\ufe0f\"))\n",
        "\n",
        "    resultados_completos = []\n",
        "    for indice, linha_viagem in df_viagem.iterrows():\n",
        "        cidade = linha_viagem['cidade']\n",
        "        pais = linha_viagem['pais']\n",
        "\n",
        "        resultado_destino = agente_pesquisador.pesquisar_destino(cidade, pais, top_n_sugestoes=15)\n",
        "\n",
        "        # Adicionar dados da viagem original ao resultado\n",
        "        resultado_destino['data_chegada'] = linha_viagem['data_chegada']\n",
        "        resultado_destino['data_partida'] = linha_viagem['data_partida']\n",
        "        resultado_destino['hospedagem'] = linha_viagem['hospedagem']\n",
        "        resultados_completos.append(resultado_destino)\n",
        "\n",
        "        # Exibi\u00e7\u00e3o imediata por destino\n",
        "        display(Markdown(f\"\\n## \ud83d\udccd Destino: **{resultado_destino['cidade']}, {resultado_destino['pais']}**\"))\n",
        "        display(Markdown(f\"\ud83d\uddd3\ufe0f **Per\u00edodo:** {resultado_destino['data_chegada']} a {resultado_destino['data_partida']}\"))\n",
        "        display(Markdown(f\"\ud83c\udfe8 **Hospedagem:** {resultado_destino['hospedagem']}\"))\n",
        "\n",
        "        display(Markdown(\"#### \ud83d\udd0d Links \u00dateis para Pesquisa Manual Detalhada (abrem em nova aba):\"))\n",
        "        display(Markdown(f\"- **[Google Search: Principais atra\u00e7\u00f5es]({resultado_destino['link_google_search']})** \")) # Removido {} extra\n",
        "        display(Markdown(f\"- **[Google Maps: Atra\u00e7\u00f5es na \u00e1rea]({resultado_destino['link_google_maps_atracoes']})** \")) # Removido {} extra\n",
        "        display(Markdown(f\"- **[Google Maps: Vis\u00e3o geral da cidade]({resultado_destino['link_google_maps_cidade']})** \")) # Removido {} extra\n",
        "\n",
        "        if resultado_destino['sugestoes_gemini']:\n",
        "            display(Markdown(\"#### \u2728 Sugest\u00f5es de Atra\u00e7\u00f5es Principais (via Agente Gemini):\"))\n",
        "\n",
        "            tabela_atracoes_data = []\n",
        "            # Chaves como definidas no prompt do Gemini\n",
        "            headers = [\"N\u00ba\", \"Atra\u00e7\u00e3o\", \"Tipo Principal\", \"Descri\u00e7\u00e3o Enxuta\", \"Avalia\u00e7\u00e3o Geral\", \"Destaque Principal\"]\n",
        "\n",
        "            for i, atracao in enumerate(resultado_destino['sugestoes_gemini']):\n",
        "                tabela_atracoes_data.append([\n",
        "                    i + 1,\n",
        "                    atracao.get('nome', 'N/A'),\n",
        "                    atracao.get('tipo_principal', 'N/A'),\n",
        "                    atracao.get('descricao_enxuta', 'N/A'),\n",
        "                    atracao.get('avaliacao_geral', 'N/A'),\n",
        "                    atracao.get('destaque_principal', 'N/A')\n",
        "                ])\n",
        "\n",
        "            tabela_formatada = tabulate(tabela_atracoes_data, headers=headers, tablefmt=\"pipe\", stralign=\"left\")\n",
        "            display(Markdown(tabela_formatada))\n",
        "        else:\n",
        "            display(Markdown(\"<font color='orange'>\u26a0\ufe0f Nenhuma sugest\u00e3o de atra\u00e7\u00e3o espec\u00edfica retornada pelo Gemini para este destino. \"\n",
        "                             \"Utilize os links de pesquisa manual acima.</font>\"))\n",
        "        display(Markdown(\"---\")) # Separador visual entre destinos\n",
        "\n",
        "    # Voc\u00ea pode querer fazer algo com 'resultados_completos' aqui, como salvar em um JSON.\n",
        "    # Exemplo:\n",
        "    # with open('planejamento_viagem_atracoes.json', 'w', encoding='utf-8') as f:\n",
        "    #     json.dump(resultados_completos, f, ensure_ascii=False, indent=4)\n",
        "    # display(Markdown(\"\\n\ud83d\udcbe *Relat\u00f3rio completo tamb\u00e9m salvo em `planejamento_viagem_atracoes.json` (descomente para ativar).*\"))\n",
        "\n",
        "# --- Ponto de Entrada da Execu\u00e7\u00e3o ---\n",
        "if __name__ == \"__main__\":\n",
        "    # Certifique-se de que as bibliotecas est\u00e3o instaladas\n",
        "    # Em um notebook Colab, voc\u00ea executaria !pip install -q pandas google-generativeai tabulate em uma c\u00e9lula separada.\n",
        "    # Agora voc\u00ea pode chamar a fun\u00e7\u00e3o passando o caminho do seu arquivo CSV, por exemplo:\n",
        "    # executar_planejador_viagem('meu_arquivo_viagem.csv')\n",
        "    # Se nenhum caminho for fornecido, ele usar\u00e1 'europa.csv' por padr\u00e3o.\n",
        "    executar_planejador_viagem()"
      ],
      "metadata": {
        "id": "OK0vHJM92vIj",
        "colab": {
          "base_uri": "https://localhost:8080/",
          "height": 1000
        },
        "collapsed": true,
        "outputId": "f41a9ee6-dc74-4a2f-bd72-ba95d0265de8"
      },
      "execution_count": null,
      "outputs": [
        {
          "output_type": "display_data",
          "data": {
            "text/plain": [
              "<IPython.core.display.Markdown object>"
            ],
            "text/markdown": "\u2705 *SDK do Gemini e modelo (`gemini-1.5-flash-latest`) configurados com sucesso.*"
          },
          "metadata": {}
        },
        {
          "output_type": "display_data",
          "data": {
            "text/plain": [
              "<IPython.core.display.Markdown object>"
            ],
            "text/markdown": "### Arquivo de Viagem (`europa.csv`)"
          },
          "metadata": {}
        },
        {
          "output_type": "display_data",
          "data": {
            "text/plain": [
              "     cidade     pais data_chegada data_partida                    hospedagem\n",
              "0      Roma   It\u00e1lia   2025-09-13   2025-09-16  Via Francesco Caracciolo n.7\n",
              "1  Floren\u00e7a   It\u00e1lia   2025-09-16   2025-09-19                  Hotel Bodoni\n",
              "2     Viena  A\u00fastria   2025-09-20   2025-09-24            Hilton Vienna Park"
            ],
            "text/html": [
              "\n",
              "  <div id=\"df-4b237f6e-8429-4a50-af35-d883fefc501c\" class=\"colab-df-container\">\n",
              "    <div>\n",
              "<style scoped>\n",
              "    .dataframe tbody tr th:only-of-type {\n",
              "        vertical-align: middle;\n",
              "    }\n",
              "\n",
              "    .dataframe tbody tr th {\n",
              "        vertical-align: top;\n",
              "    }\n",
              "\n",
              "    .dataframe thead th {\n",
              "        text-align: right;\n",
              "    }\n",
              "</style>\n",
              "<table border=\"1\" class=\"dataframe\">\n",
              "  <thead>\n",
              "    <tr style=\"text-align: right;\">\n",
              "      <th></th>\n",
              "      <th>cidade</th>\n",
              "      <th>pais</th>\n",
              "      <th>data_chegada</th>\n",
              "      <th>data_partida</th>\n",
              "      <th>hospedagem</th>\n",
              "    </tr>\n",
              "  </thead>\n",
              "  <tbody>\n",
              "    <tr>\n",
              "      <th>0</th>\n",
              "      <td>Roma</td>\n",
              "      <td>It\u00e1lia</td>\n",
              "      <td>2025-09-13</td>\n",
              "      <td>2025-09-16</td>\n",
              "      <td>Via Francesco Caracciolo n.7</td>\n",
              "    </tr>\n",
              "    <tr>\n",
              "      <th>1</th>\n",
              "      <td>Floren\u00e7a</td>\n",
              "      <td>It\u00e1lia</td>\n",
              "      <td>2025-09-16</td>\n",
              "      <td>2025-09-19</td>\n",
              "      <td>Hotel Bodoni</td>\n",
              "    </tr>\n",
              "    <tr>\n",
              "      <th>2</th>\n",
              "      <td>Viena</td>\n",
              "      <td>A\u00fastria</td>\n",
              "      <td>2025-09-20</td>\n",
              "      <td>2025-09-24</td>\n",
              "      <td>Hilton Vienna Park</td>\n",
              "    </tr>\n",
              "  </tbody>\n",
              "</table>\n",
              "</div>\n",
              "    <div class=\"colab-df-buttons\">\n",
              "\n",
              "  <div class=\"colab-df-container\">\n",
              "    <button class=\"colab-df-convert\" onclick=\"convertToInteractive('df-4b237f6e-8429-4a50-af35-d883fefc501c')\"\n",
              "            title=\"Convert this dataframe to an interactive table.\"\n",
              "            style=\"display:none;\">\n",
              "\n",
              "  <svg xmlns=\"http://www.w3.org/2000/svg\" height=\"24px\" viewBox=\"0 -960 960 960\">\n",
              "    <path d=\"M120-120v-720h720v720H120Zm60-500h600v-160H180v160Zm220 220h160v-160H400v160Zm0 220h160v-160H400v160ZM180-400h160v-160H180v160Zm440 0h160v-160H620v160ZM180-180h160v-160H180v160Zm440 0h160v-160H620v160Z\"/>\n",
              "  </svg>\n",
              "    </button>\n",
              "\n",
              "  <style>\n",
              "    .colab-df-container {\n",
              "      display:flex;\n",
              "      gap: 12px;\n",
              "    }\n",
              "\n",
              "    .colab-df-convert {\n",
              "      background-color: #E8F0FE;\n",
              "      border: none;\n",
              "      border-radius: 50%;\n",
              "      cursor: pointer;\n",
              "      display: none;\n",
              "      fill: #1967D2;\n",
              "      height: 32px;\n",
              "      padding: 0 0 0 0;\n",
              "      width: 32px;\n",
              "    }\n",
              "\n",
              "    .colab-df-convert:hover {\n",
              "      background-color: #E2EBFA;\n",
              "      box-shadow: 0px 1px 2px rgba(60, 64, 67, 0.3), 0px 1px 3px 1px rgba(60, 64, 67, 0.15);\n",
              "      fill: #174EA6;\n",
              "    }\n",
              "\n",
              "    .colab-df-buttons div {\n",
              "      margin-bottom: 4px;\n",
              "    }\n",
              "\n",
              "    [theme=dark] .colab-df-convert {\n",
              "      background-color: #3B4455;\n",
              "      fill: #D2E3FC;\n",
              "    }\n",
              "\n",
              "    [theme=dark] .colab-df-convert:hover {\n",
              "      background-color: #434B5C;\n",
              "      box-shadow: 0px 1px 3px 1px rgba(0, 0, 0, 0.15);\n",
              "      filter: drop-shadow(0px 1px 2px rgba(0, 0, 0, 0.3));\n",
              "      fill: #FFFFFF;\n",
              "    }\n",
              "  </style>\n",
              "\n",
              "    <script>\n",
              "      const buttonEl =\n",
              "        document.querySelector('#df-4b237f6e-8429-4a50-af35-d883fefc501c button.colab-df-convert');\n",
              "      buttonEl.style.display =\n",
              "        google.colab.kernel.accessAllowed ? 'block' : 'none';\n",
              "\n",
              "      async function convertToInteractive(key) {\n",
              "        const element = document.querySelector('#df-4b237f6e-8429-4a50-af35-d883fefc501c');\n",
              "        const dataTable =\n",
              "          await google.colab.kernel.invokeFunction('convertToInteractive',\n",
              "                                                    [key], {});\n",
              "        if (!dataTable) return;\n",
              "\n",
              "        const docLinkHtml = 'Like what you see? Visit the ' +\n",
              "          '<a target=\"_blank\" href=https://colab.research.google.com/notebooks/data_table.ipynb>data table notebook</a>'\n",
              "          + ' to learn more about interactive tables.';\n",
              "        element.innerHTML = '';\n",
              "        dataTable['output_type'] = 'display_data';\n",
              "        await google.colab.output.renderOutput(dataTable, element);\n",
              "        const docLink = document.createElement('div');\n",
              "        docLink.innerHTML = docLinkHtml;\n",
              "        element.appendChild(docLink);\n",
              "      }\n",
              "    </script>\n",
              "  </div>\n",
              "\n",
              "\n",
              "    <div id=\"df-3c12bea4-2243-4ad5-a1be-ea46e78cd5c2\">\n",
              "      <button class=\"colab-df-quickchart\" onclick=\"quickchart('df-3c12bea4-2243-4ad5-a1be-ea46e78cd5c2')\"\n",
              "                title=\"Suggest charts\"\n",
              "                style=\"display:none;\">\n",
              "\n",
              "<svg xmlns=\"http://www.w3.org/2000/svg\" height=\"24px\"viewBox=\"0 0 24 24\"\n",
              "     width=\"24px\">\n",
              "    <g>\n",
              "        <path d=\"M19 3H5c-1.1 0-2 .9-2 2v14c0 1.1.9 2 2 2h14c1.1 0 2-.9 2-2V5c0-1.1-.9-2-2-2zM9 17H7v-7h2v7zm4 0h-2V7h2v10zm4 0h-2v-4h2v4z\"/>\n",
              "    </g>\n",
              "</svg>\n",
              "      </button>\n",
              "\n",
              "<style>\n",
              "  .colab-df-quickchart {\n",
              "      --bg-color: #E8F0FE;\n",
              "      --fill-color: #1967D2;\n",
              "      --hover-bg-color: #E2EBFA;\n",
              "      --hover-fill-color: #174EA6;\n",
              "      --disabled-fill-color: #AAA;\n",
              "      --disabled-bg-color: #DDD;\n",
              "  }\n",
              "\n",
              "  [theme=dark] .colab-df-quickchart {\n",
              "      --bg-color: #3B4455;\n",
              "      --fill-color: #D2E3FC;\n",
              "      --hover-bg-color: #434B5C;\n",
              "      --hover-fill-color: #FFFFFF;\n",
              "      --disabled-bg-color: #3B4455;\n",
              "      --disabled-fill-color: #666;\n",
              "  }\n",
              "\n",
              "  .colab-df-quickchart {\n",
              "    background-color: var(--bg-color);\n",
              "    border: none;\n",
              "    border-radius: 50%;\n",
              "    cursor: pointer;\n",
              "    display: none;\n",
              "    fill: var(--fill-color);\n",
              "    height: 32px;\n",
              "    padding: 0;\n",
              "    width: 32px;\n",
              "  }\n",
              "\n",
              "  .colab-df-quickchart:hover {\n",
              "    background-color: var(--hover-bg-color);\n",
              "    box-shadow: 0 1px 2px rgba(60, 64, 67, 0.3), 0 1px 3px 1px rgba(60, 64, 67, 0.15);\n",
              "    fill: var(--button-hover-fill-color);\n",
              "  }\n",
              "\n",
              "  .colab-df-quickchart-complete:disabled,\n",
              "  .colab-df-quickchart-complete:disabled:hover {\n",
              "    background-color: var(--disabled-bg-color);\n",
              "    fill: var(--disabled-fill-color);\n",
              "    box-shadow: none;\n",
              "  }\n",
              "\n",
              "  .colab-df-spinner {\n",
              "    border: 2px solid var(--fill-color);\n",
              "    border-color: transparent;\n",
              "    border-bottom-color: var(--fill-color);\n",
              "    animation:\n",
              "      spin 1s steps(1) infinite;\n",
              "  }\n",
              "\n",
              "  @keyframes spin {\n",
              "    0% {\n",
              "      border-color: transparent;\n",
              "      border-bottom-color: var(--fill-color);\n",
              "      border-left-color: var(--fill-color);\n",
              "    }\n",
              "    20% {\n",
              "      border-color: transparent;\n",
              "      border-left-color: var(--fill-color);\n",
              "      border-top-color: var(--fill-color);\n",
              "    }\n",
              "    30% {\n",
              "      border-color: transparent;\n",
              "      border-left-color: var(--fill-color);\n",
              "      border-top-color: var(--fill-color);\n",
              "      border-right-color: var(--fill-color);\n",
              "    }\n",
              "    40% {\n",
              "      border-color: transparent;\n",
              "      border-right-color: var(--fill-color);\n",
              "      border-top-color: var(--fill-color);\n",
              "    }\n",
              "    60% {\n",
              "      border-color: transparent;\n",
              "      border-right-color: var(--fill-color);\n",
              "    }\n",
              "    80% {\n",
              "      border-color: transparent;\n",
              "      border-right-color: var(--fill-color);\n",
              "      border-bottom-color: var(--fill-color);\n",
              "    }\n",
              "    90% {\n",
              "      border-color: transparent;\n",
              "      border-bottom-color: var(--fill-color);\n",
              "    }\n",
              "  }\n",
              "</style>\n",
              "\n",
              "      <script>\n",
              "        async function quickchart(key) {\n",
              "          const quickchartButtonEl =\n",
              "            document.querySelector('#' + key + ' button');\n",
              "          quickchartButtonEl.disabled = true;  // To prevent multiple clicks.\n",
              "          quickchartButtonEl.classList.add('colab-df-spinner');\n",
              "          try {\n",
              "            const charts = await google.colab.kernel.invokeFunction(\n",
              "                'suggestCharts', [key], {});\n",
              "          } catch (error) {\n",
              "            console.error('Error during call to suggestCharts:', error);\n",
              "          }\n",
              "          quickchartButtonEl.classList.remove('colab-df-spinner');\n",
              "          quickchartButtonEl.classList.add('colab-df-quickchart-complete');\n",
              "        }\n",
              "        (() => {\n",
              "          let quickchartButtonEl =\n",
              "            document.querySelector('#df-3c12bea4-2243-4ad5-a1be-ea46e78cd5c2 button');\n",
              "          quickchartButtonEl.style.display =\n",
              "            google.colab.kernel.accessAllowed ? 'block' : 'none';\n",
              "        })();\n",
              "      </script>\n",
              "    </div>\n",
              "\n",
              "    </div>\n",
              "  </div>\n"
            ],
            "application/vnd.google.colaboratory.intrinsic+json": {
              "type": "dataframe",
              "summary": "{\n  \"name\": \"    executar_planejador_viagem()\",\n  \"rows\": 3,\n  \"fields\": [\n    {\n      \"column\": \"cidade\",\n      \"properties\": {\n        \"dtype\": \"string\",\n        \"num_unique_values\": 3,\n        \"samples\": [\n          \"Roma\",\n          \"Floren\\u00e7a\",\n          \"Viena\"\n        ],\n        \"semantic_type\": \"\",\n        \"description\": \"\"\n      }\n    },\n    {\n      \"column\": \"pais\",\n      \"properties\": {\n        \"dtype\": \"string\",\n        \"num_unique_values\": 2,\n        \"samples\": [\n          \"A\\u00fastria\",\n          \"It\\u00e1lia\"\n        ],\n        \"semantic_type\": \"\",\n        \"description\": \"\"\n      }\n    },\n    {\n      \"column\": \"data_chegada\",\n      \"properties\": {\n        \"dtype\": \"object\",\n        \"num_unique_values\": 3,\n        \"samples\": [\n          \"2025-09-13\",\n          \"2025-09-16\"\n        ],\n        \"semantic_type\": \"\",\n        \"description\": \"\"\n      }\n    },\n    {\n      \"column\": \"data_partida\",\n      \"properties\": {\n        \"dtype\": \"object\",\n        \"num_unique_values\": 3,\n        \"samples\": [\n          \"2025-09-16\",\n          \"2025-09-19\"\n        ],\n        \"semantic_type\": \"\",\n        \"description\": \"\"\n      }\n    },\n    {\n      \"column\": \"hospedagem\",\n      \"properties\": {\n        \"dtype\": \"string\",\n        \"num_unique_values\": 3,\n        \"samples\": [\n          \"Via Francesco Caracciolo n.7\",\n          \"Hotel Bodoni\"\n        ],\n        \"semantic_type\": \"\",\n        \"description\": \"\"\n      }\n    }\n  ]\n}"
            }
          },
          "metadata": {}
        },
        {
          "output_type": "display_data",
          "data": {
            "text/plain": [
              "<IPython.core.display.Markdown object>"
            ],
            "text/markdown": "\n# \ud83d\uddfa\ufe0f **Relat\u00f3rio de Pesquisa de Atra\u00e7\u00f5es do Agente** \u2708\ufe0f"
          },
          "metadata": {}
        },
        {
          "output_type": "display_data",
          "data": {
            "text/plain": [
              "<IPython.core.display.Markdown object>"
            ],
            "text/markdown": "\n### \ud83c\udf0d Agente Iniciando Pesquisa para: **Roma, It\u00e1lia**"
          },
          "metadata": {}
        },
        {
          "output_type": "display_data",
          "data": {
            "text/plain": [
              "<IPython.core.display.Markdown object>"
            ],
            "text/markdown": "\ud83e\udde0 *Agente consultando Gemini sobre atra\u00e7\u00f5es em: **Roma, It\u00e1lia** (Top 15)...*"
          },
          "metadata": {}
        },
        {
          "output_type": "display_data",
          "data": {
            "text/plain": [
              "<IPython.core.display.Markdown object>"
            ],
            "text/markdown": "\u2705 *Gemini retornou 15 sugest\u00f5es de atra\u00e7\u00f5es para Roma.*"
          },
          "metadata": {}
        },
        {
          "output_type": "display_data",
          "data": {
            "text/plain": [
              "<IPython.core.display.Markdown object>"
            ],
            "text/markdown": "--- Pesquisa para **Roma, It\u00e1lia** finalizada pelo agente. ---"
          },
          "metadata": {}
        },
        {
          "output_type": "display_data",
          "data": {
            "text/plain": [
              "<IPython.core.display.Markdown object>"
            ],
            "text/markdown": "\n## \ud83d\udccd Destino: **Roma, It\u00e1lia**"
          },
          "metadata": {}
        },
        {
          "output_type": "display_data",
          "data": {
            "text/plain": [
              "<IPython.core.display.Markdown object>"
            ],
            "text/markdown": "\ud83d\uddd3\ufe0f **Per\u00edodo:** 2025-09-13 a 2025-09-16"
          },
          "metadata": {}
        },
        {
          "output_type": "display_data",
          "data": {
            "text/plain": [
              "<IPython.core.display.Markdown object>"
            ],
            "text/markdown": "\ud83c\udfe8 **Hospedagem:** Via Francesco Caracciolo n.7"
          },
          "metadata": {}
        },
        {
          "output_type": "display_data",
          "data": {
            "text/plain": [
              "<IPython.core.display.Markdown object>"
            ],
            "text/markdown": "#### \ud83d\udd0d Links \u00dateis para Pesquisa Manual Detalhada (abrem em nova aba):"
          },
          "metadata": {}
        },
        {
          "output_type": "display_data",
          "data": {
            "text/plain": [
              "<IPython.core.display.Markdown object>"
            ],
            "text/markdown": "- **[Google Search: Principais atra\u00e7\u00f5es](https://www.google.com/search?q=principais+atra%C3%A7%C3%B5es+tur%C3%ADsticas+em+Roma+It%C3%A1lia)** "
          },
          "metadata": {}
        },
        {
          "output_type": "display_data",
          "data": {
            "text/plain": [
              "<IPython.core.display.Markdown object>"
            ],
            "text/markdown": "- **[Google Maps: Atra\u00e7\u00f5es na \u00e1rea](https://www.google.com/maps/search/atra%C3%A7%C3%B5es+tur%C3%ADsticas+em+Roma%2C+It%C3%A1lia)** "
          },
          "metadata": {}
        },
        {
          "output_type": "display_data",
          "data": {
            "text/plain": [
              "<IPython.core.display.Markdown object>"
            ],
            "text/markdown": "- **[Google Maps: Vis\u00e3o geral da cidade](https://www.google.com/maps/place/Roma%2C+It%C3%A1lia)** "
          },
          "metadata": {}
        },
        {
          "output_type": "display_data",
          "data": {
            "text/plain": [
              "<IPython.core.display.Markdown object>"
            ],
            "text/markdown": "#### \u2728 Sugest\u00f5es de Atra\u00e7\u00f5es Principais (via Agente Gemini):"
          },
          "metadata": {}
        },
        {
          "output_type": "display_data",
          "data": {
            "text/plain": [
              "<IPython.core.display.Markdown object>"
            ],
            "text/markdown": "|   N\u00ba | Atra\u00e7\u00e3o               | Tipo Principal               | Descri\u00e7\u00e3o Enxuta                                                                                         | Avalia\u00e7\u00e3o Geral   | Destaque Principal                                  |\n|-----:|:----------------------|:-----------------------------|:---------------------------------------------------------------------------------------------------------|:------------------|:----------------------------------------------------|\n|    1 | Coliseu               | Monumento Nacional           | Anfiteatro ic\u00f4nico do Imp\u00e9rio Romano, palco de combates de gladiadores e espet\u00e1culos p\u00fablicos.           | Excelente         | S\u00edmbolo de Roma e da hist\u00f3ria imperial              |\n|    2 | F\u00f3rum Romano          | S\u00edtio Arqueol\u00f3gico           | Ru\u00ednas do centro c\u00edvico e pol\u00edtico da antiga Roma, com templos, bas\u00edlicas e edif\u00edcios p\u00fablicos.          | Muito Popular     | Viagem ao cora\u00e7\u00e3o da Roma Antiga                    |\n|    3 | Pal\u00e1cio do Vaticano   | Complexo Religioso e Museu   | Sede do Papa e centro do catolicismo, com a Bas\u00edlica de S\u00e3o Pedro e os Museus Vaticanos.                 | Excelente         | Arte, hist\u00f3ria e f\u00e9 em um s\u00f3 lugar                  |\n|    4 | Bas\u00edlica de S\u00e3o Pedro | Catedral Cat\u00f3lica            | Bas\u00edlica monumental, uma obra-prima da arquitetura renascentista e barroca, com a Piet\u00e0 de Michelangelo. | Excelente         | Magnific\u00eancia arquitet\u00f4nica e import\u00e2ncia religiosa |\n|    5 | Museus Vaticanos      | Museu de Arte e Antiguidades | Cole\u00e7\u00e3o extensa de arte e artefatos, incluindo a Capela Sistina com os afrescos de Michelangelo.         | Excelente         | Tesouros art\u00edsticos inigual\u00e1veis                    |\n|    6 | Fontana di Trevi      | Fonte Barroca                | Fonte monumental e ic\u00f4nica, um dos s\u00edmbolos mais reconhecidos de Roma, com esculturas exuberantes.       | Muito Popular     | Beleza e atmosfera rom\u00e2ntica                        |\n|    7 | Pantheon              | Templo Romano                | Templo romano bem preservado, admirado pela sua c\u00fapula perfeita e arquitetura inovadora.                 | Excelente         | Maravilha da engenharia e arquitetura romana        |\n|    8 | Piazza Navona         | Pra\u00e7a Barroca                | Pra\u00e7a animada com fontes barrocas, artistas de rua e caf\u00e9s, ideal para passear e desfrutar da atmosfera. | Muito Popular     | Ambiente vibrante e beleza arquitet\u00f4nica            |\n|    9 | Piazza di Spagna      | Pra\u00e7a Hist\u00f3rica              | Pra\u00e7a elegante com a famosa Escadaria Espanhola, ponto de encontro e local de compras.                   | Muito Popular     | Eleg\u00e2ncia e charme romano                           |\n|   10 | Castel Sant'Angelo    | Castelo Hist\u00f3rico            | Castelo imponente com vistas panor\u00e2micas de Roma, que serviu como mausol\u00e9u, fortaleza e pris\u00e3o papal.    | Muito Popular     | Hist\u00f3ria, arquitetura e vistas deslumbrantes        |\n|   11 | Bairro Trastevere     | Bairro Hist\u00f3rico             | Bairro charmoso com ruas de paralelep\u00edpedos, restaurantes tradicionais e atmosfera bo\u00eamia.               | Muito Popular     | Experi\u00eancia aut\u00eantica romana                        |\n|   12 | Jardins Borghese      | Parque Urbano e Museu        | Belos jardins com esculturas, fontes e galerias de arte, incluindo a Galeria Borghese.                   | Excelente         | Arte, natureza e relaxamento                        |\n|   13 | Galeria Borghese      | Museu de Arte                | Museu com uma cole\u00e7\u00e3o impressionante de esculturas e pinturas, incluindo obras de Bernini e Caravaggio.  | Excelente         | Obras-primas da arte barroca                        |\n|   14 | Catacombas de Roma    | S\u00edtio Arqueol\u00f3gico           | Rede subterr\u00e2nea de t\u00faneis e c\u00e2maras usadas como cemit\u00e9rios pelos primeiros crist\u00e3os.                    | Muito Popular     | Experi\u00eancia hist\u00f3rica e espiritual \u00fanica            |\n|   15 | Circo M\u00e1ximo          | S\u00edtio Arqueol\u00f3gico           | Antigo est\u00e1dio romano para corridas de bigas, com capacidade para mais de 250.000 espectadores.          | Muito Popular     | Vislumbre da grandiosidade da Roma Antiga           |"
          },
          "metadata": {}
        },
        {
          "output_type": "display_data",
          "data": {
            "text/plain": [
              "<IPython.core.display.Markdown object>"
            ],
            "text/markdown": "---"
          },
          "metadata": {}
        },
        {
          "output_type": "display_data",
          "data": {
            "text/plain": [
              "<IPython.core.display.Markdown object>"
            ],
            "text/markdown": "\n### \ud83c\udf0d Agente Iniciando Pesquisa para: **Floren\u00e7a, It\u00e1lia**"
          },
          "metadata": {}
        },
        {
          "output_type": "display_data",
          "data": {
            "text/plain": [
              "<IPython.core.display.Markdown object>"
            ],
            "text/markdown": "\ud83e\udde0 *Agente consultando Gemini sobre atra\u00e7\u00f5es em: **Floren\u00e7a, It\u00e1lia** (Top 15)...*"
          },
          "metadata": {}
        },
        {
          "output_type": "display_data",
          "data": {
            "text/plain": [
              "<IPython.core.display.Markdown object>"
            ],
            "text/markdown": "\u2705 *Gemini retornou 15 sugest\u00f5es de atra\u00e7\u00f5es para Floren\u00e7a.*"
          },
          "metadata": {}
        },
        {
          "output_type": "display_data",
          "data": {
            "text/plain": [
              "<IPython.core.display.Markdown object>"
            ],
            "text/markdown": "--- Pesquisa para **Floren\u00e7a, It\u00e1lia** finalizada pelo agente. ---"
          },
          "metadata": {}
        },
        {
          "output_type": "display_data",
          "data": {
            "text/plain": [
              "<IPython.core.display.Markdown object>"
            ],
            "text/markdown": "\n## \ud83d\udccd Destino: **Floren\u00e7a, It\u00e1lia**"
          },
          "metadata": {}
        },
        {
          "output_type": "display_data",
          "data": {
            "text/plain": [
              "<IPython.core.display.Markdown object>"
            ],
            "text/markdown": "\ud83d\uddd3\ufe0f **Per\u00edodo:** 2025-09-16 a 2025-09-19"
          },
          "metadata": {}
        },
        {
          "output_type": "display_data",
          "data": {
            "text/plain": [
              "<IPython.core.display.Markdown object>"
            ],
            "text/markdown": "\ud83c\udfe8 **Hospedagem:** Hotel Bodoni"
          },
          "metadata": {}
        },
        {
          "output_type": "display_data",
          "data": {
            "text/plain": [
              "<IPython.core.display.Markdown object>"
            ],
            "text/markdown": "#### \ud83d\udd0d Links \u00dateis para Pesquisa Manual Detalhada (abrem em nova aba):"
          },
          "metadata": {}
        },
        {
          "output_type": "display_data",
          "data": {
            "text/plain": [
              "<IPython.core.display.Markdown object>"
            ],
            "text/markdown": "- **[Google Search: Principais atra\u00e7\u00f5es](https://www.google.com/search?q=principais+atra%C3%A7%C3%B5es+tur%C3%ADsticas+em+Floren%C3%A7a+It%C3%A1lia)** "
          },
          "metadata": {}
        },
        {
          "output_type": "display_data",
          "data": {
            "text/plain": [
              "<IPython.core.display.Markdown object>"
            ],
            "text/markdown": "- **[Google Maps: Atra\u00e7\u00f5es na \u00e1rea](https://www.google.com/maps/search/atra%C3%A7%C3%B5es+tur%C3%ADsticas+em+Floren%C3%A7a%2C+It%C3%A1lia)** "
          },
          "metadata": {}
        },
        {
          "output_type": "display_data",
          "data": {
            "text/plain": [
              "<IPython.core.display.Markdown object>"
            ],
            "text/markdown": "- **[Google Maps: Vis\u00e3o geral da cidade](https://www.google.com/maps/place/Floren%C3%A7a%2C+It%C3%A1lia)** "
          },
          "metadata": {}
        },
        {
          "output_type": "display_data",
          "data": {
            "text/plain": [
              "<IPython.core.display.Markdown object>"
            ],
            "text/markdown": "#### \u2728 Sugest\u00f5es de Atra\u00e7\u00f5es Principais (via Agente Gemini):"
          },
          "metadata": {}
        },
        {
          "output_type": "display_data",
          "data": {
            "text/plain": [
              "<IPython.core.display.Markdown object>"
            ],
            "text/markdown": "|   N\u00ba | Atra\u00e7\u00e3o                      | Tipo Principal          | Descri\u00e7\u00e3o Enxuta                                                                                                              | Avalia\u00e7\u00e3o Geral   | Destaque Principal                                   |\n|-----:|:-----------------------------|:------------------------|:------------------------------------------------------------------------------------------------------------------------------|:------------------|:-----------------------------------------------------|\n|    1 | Galeria da Academia          | Museu de Arte           | Abriga a cole\u00e7\u00e3o mais completa de obras de arte de Michelangelo, incluindo o David e as pinturas da Capela Sistina.           | Excelente         | Cole\u00e7\u00e3o de obras-primas de Michelangelo              |\n|    2 | Ponte Vecchio                | Ponte Hist\u00f3rica         | Uma ponte medieval \u00fanica, famosa por suas lojas constru\u00eddas ao longo dela, oferecendo vistas deslumbrantes do rio Arno.       | Muito Popular     | Arquitetura medieval e vistas panor\u00e2micas            |\n|    3 | Catedral de Floren\u00e7a (Duomo) | Catedral G\u00f3tica         | Uma obra-prima da arquitetura g\u00f3tica, com a sua c\u00fapula de Brunelleschi e o campan\u00e1rio de Giotto.                              | Excelente         | Arquitetura imponente e obras de arte renascentistas |\n|    4 | Palazzo Pitti                | Pal\u00e1cio Hist\u00f3rico       | Um enorme pal\u00e1cio renascentista que abriga cinco museus, incluindo a Galeria de Arte Moderna e o Museu do Figurino e da Moda. | Muito Bom         | Cole\u00e7\u00f5es de arte e arquitetura grandiosa             |\n|    5 | Uffizi Gallery               | Museu de Arte           | Um dos museus mais importantes do mundo, com uma vasta cole\u00e7\u00e3o de pinturas renascentistas italianas.                          | Excelente         | Obras-primas da Renascen\u00e7a italiana                  |\n|    6 | Piazza della Signoria        | Pra\u00e7a P\u00fablica Hist\u00f3rica | Uma pra\u00e7a hist\u00f3rica no cora\u00e7\u00e3o de Floren\u00e7a, cercada por edif\u00edcios importantes, esculturas e fontes.                           | Muito Popular     | Atmosfera vibrante e arquitetura hist\u00f3rica           |\n|    7 | Palazzo Vecchio              | Pal\u00e1cio Municipal       | O antigo pal\u00e1cio municipal de Floren\u00e7a, com uma rica hist\u00f3ria e belos sal\u00f5es decorados com afrescos.                          | Muito Bom         | Hist\u00f3ria e arquitetura renascentistas                |\n|    8 | Boboli Gardens               | Jardim Hist\u00f3rico        | Um dos primeiros e mais importantes jardins italianos, com fontes, esculturas e paisagismo exuberante.                        | Excelente         | Paisagismo exuberante e esculturas renascentistas    |\n|    9 | Mercado de San Lorenzo       | Mercado Hist\u00f3rico       | Um mercado vibrante com bancas de couro, artesanato e produtos locais.                                                        | Muito Popular     | Experi\u00eancia de compras aut\u00eantica e atmosfera animada |\n|   10 | Piazzale Michelangelo        | Mirante Panor\u00e2mico      | Um mirante com vistas panor\u00e2micas de tirar o f\u00f4lego de toda a cidade de Floren\u00e7a.                                             | Excelente         | Vistas panor\u00e2micas deslumbrantes de Floren\u00e7a         |\n|   11 | Bas\u00edlica de Santa Croce      | Bas\u00edlica Franciscana    | Uma bas\u00edlica g\u00f3tica que abriga os t\u00famulos de figuras importantes da hist\u00f3ria italiana, como Michelangelo e Galileu.           | Muito Bom         | Arquitetura g\u00f3tica e t\u00famulos de figuras hist\u00f3ricas   |\n|   12 | Bargello Museum              | Museu de Escultura      | Um museu que abriga uma cole\u00e7\u00e3o excepcional de esculturas renascentistas, incluindo obras de Donatello e Michelangelo.        | Muito Bom         | Cole\u00e7\u00e3o de esculturas renascentistas                 |\n|   13 | Ponte Santa Trinita          | Ponte Hist\u00f3rica         | Uma elegante ponte de pedra sobre o rio Arno, conhecida por suas vistas e arquitetura.                                        | Muito Popular     | Arquitetura elegante e vistas do rio Arno            |\n|   14 | Palazzo Davanzati            | Museu Hist\u00f3rico         | Um pal\u00e1cio medieval bem preservado que oferece um vislumbre da vida de uma rica fam\u00edlia florentina no s\u00e9culo XIV.             | Muito Bom         | Vislumbre da vida medieval florentina                |\n|   15 | Capela dos M\u00e9dici            | Capela Mausol\u00e9u         | Uma capela suntuosa que serve como mausol\u00e9u para os membros da fam\u00edlia M\u00e9dici, com decora\u00e7\u00e3o exuberante e esculturas.         | Excelente         | Arquitetura e decora\u00e7\u00e3o exuberantes                  |"
          },
          "metadata": {}
        },
        {
          "output_type": "display_data",
          "data": {
            "text/plain": [
              "<IPython.core.display.Markdown object>"
            ],
            "text/markdown": "---"
          },
          "metadata": {}
        },
        {
          "output_type": "display_data",
          "data": {
            "text/plain": [
              "<IPython.core.display.Markdown object>"
            ],
            "text/markdown": "\n### \ud83c\udf0d Agente Iniciando Pesquisa para: **Viena, A\u00fastria**"
          },
          "metadata": {}
        },
        {
          "output_type": "display_data",
          "data": {
            "text/plain": [
              "<IPython.core.display.Markdown object>"
            ],
            "text/markdown": "\ud83e\udde0 *Agente consultando Gemini sobre atra\u00e7\u00f5es em: **Viena, A\u00fastria** (Top 15)...*"
          },
          "metadata": {}
        },
        {
          "output_type": "display_data",
          "data": {
            "text/plain": [
              "<IPython.core.display.Markdown object>"
            ],
            "text/markdown": "\u2705 *Gemini retornou 15 sugest\u00f5es de atra\u00e7\u00f5es para Viena.*"
          },
          "metadata": {}
        },
        {
          "output_type": "display_data",
          "data": {
            "text/plain": [
              "<IPython.core.display.Markdown object>"
            ],
            "text/markdown": "--- Pesquisa para **Viena, A\u00fastria** finalizada pelo agente. ---"
          },
          "metadata": {}
        },
        {
          "output_type": "display_data",
          "data": {
            "text/plain": [
              "<IPython.core.display.Markdown object>"
            ],
            "text/markdown": "\n## \ud83d\udccd Destino: **Viena, A\u00fastria**"
          },
          "metadata": {}
        },
        {
          "output_type": "display_data",
          "data": {
            "text/plain": [
              "<IPython.core.display.Markdown object>"
            ],
            "text/markdown": "\ud83d\uddd3\ufe0f **Per\u00edodo:** 2025-09-20 a 2025-09-24"
          },
          "metadata": {}
        },
        {
          "output_type": "display_data",
          "data": {
            "text/plain": [
              "<IPython.core.display.Markdown object>"
            ],
            "text/markdown": "\ud83c\udfe8 **Hospedagem:** Hilton Vienna Park"
          },
          "metadata": {}
        },
        {
          "output_type": "display_data",
          "data": {
            "text/plain": [
              "<IPython.core.display.Markdown object>"
            ],
            "text/markdown": "#### \ud83d\udd0d Links \u00dateis para Pesquisa Manual Detalhada (abrem em nova aba):"
          },
          "metadata": {}
        },
        {
          "output_type": "display_data",
          "data": {
            "text/plain": [
              "<IPython.core.display.Markdown object>"
            ],
            "text/markdown": "- **[Google Search: Principais atra\u00e7\u00f5es](https://www.google.com/search?q=principais+atra%C3%A7%C3%B5es+tur%C3%ADsticas+em+Viena+A%C3%BAstria)** "
          },
          "metadata": {}
        },
        {
          "output_type": "display_data",
          "data": {
            "text/plain": [
              "<IPython.core.display.Markdown object>"
            ],
            "text/markdown": "- **[Google Maps: Atra\u00e7\u00f5es na \u00e1rea](https://www.google.com/maps/search/atra%C3%A7%C3%B5es+tur%C3%ADsticas+em+Viena%2C+A%C3%BAstria)** "
          },
          "metadata": {}
        },
        {
          "output_type": "display_data",
          "data": {
            "text/plain": [
              "<IPython.core.display.Markdown object>"
            ],
            "text/markdown": "- **[Google Maps: Vis\u00e3o geral da cidade](https://www.google.com/maps/place/Viena%2C+A%C3%BAstria)** "
          },
          "metadata": {}
        },
        {
          "output_type": "display_data",
          "data": {
            "text/plain": [
              "<IPython.core.display.Markdown object>"
            ],
            "text/markdown": "#### \u2728 Sugest\u00f5es de Atra\u00e7\u00f5es Principais (via Agente Gemini):"
          },
          "metadata": {}
        },
        {
          "output_type": "display_data",
          "data": {
            "text/plain": [
              "<IPython.core.display.Markdown object>"
            ],
            "text/markdown": "|   N\u00ba | Atra\u00e7\u00e3o                                         | Tipo Principal                 | Descri\u00e7\u00e3o Enxuta                                                                                                                   | Avalia\u00e7\u00e3o Geral   | Destaque Principal                                 |\n|-----:|:------------------------------------------------|:-------------------------------|:-----------------------------------------------------------------------------------------------------------------------------------|:------------------|:---------------------------------------------------|\n|    1 | Pal\u00e1cio de Sch\u00f6nbrunn                           | Pal\u00e1cio Hist\u00f3rico e Jardins    | Resid\u00eancia de ver\u00e3o dos Habsburgos, com belos jardins, fontes e um labirinto.  Oferece um vislumbre da vida imperial austr\u00edaca.    | Excelente         | Arquitetura imperial e jardins exuberantes         |\n|    2 | Hofburg                                         | Complexo de Pal\u00e1cios           | Antiga resid\u00eancia de inverno dos Habsburgos, agora um complexo que abriga museus, capelas e a Escola Espanhola de Equita\u00e7\u00e3o.       | Muito Popular     | Hist\u00f3ria imperial e arquitetura grandiosa          |\n|    3 | Catedral de Santo Est\u00eav\u00e3o                       | Catedral G\u00f3tica                | S\u00edmbolo ic\u00f4nico de Viena, com sua arquitetura g\u00f3tica impressionante e tesouros hist\u00f3ricos.                                         | Excelente         | Arquitetura g\u00f3tica e import\u00e2ncia hist\u00f3rica         |\n|    4 | Museu de Hist\u00f3ria da Arte                       | Museu de Arte                  | Cole\u00e7\u00e3o extensa de pinturas, esculturas e objetos de arte desde a antiguidade at\u00e9 o s\u00e9culo XVIII.                                  | 4.5/5 estrelas    | Cole\u00e7\u00e3o abrangente de obras-primas                 |\n|    5 | Museu Albertina                                 | Museu de Arte Gr\u00e1fica          | Uma das maiores e mais importantes cole\u00e7\u00f5es de arte gr\u00e1fica do mundo, com obras de D\u00fcrer, Michelangelo e Picasso.                  | 4.6/5 estrelas    | Cole\u00e7\u00e3o excepcional de gravuras e desenhos         |\n|    6 | Belvedere                                       | Museu de Arte e Pal\u00e1cio        | Pal\u00e1cio barroco que abriga a maior cole\u00e7\u00e3o de obras de Gustav Klimt, incluindo 'O Beijo'.                                          | Excelente         | Obras-primas de Gustav Klimt                       |\n|    7 | Prater                                          | Parque de Divers\u00f5es            | Parque de divers\u00f5es famoso pela sua ic\u00f4nica roda-gigante, oferecendo divers\u00e3o para todas as idades.                                | Muito Popular     | Divers\u00e3o e entretenimento para toda a fam\u00edlia      |\n|    8 | Naschmarkt                                      | Mercado Hist\u00f3rico              | Um dos maiores e mais antigos mercados ao ar livre da Europa, com uma grande variedade de produtos frescos, especiarias e comidas. | 4.4/5 estrelas    | Experi\u00eancia gastron\u00f4mica e cultural vibrante       |\n|    9 | Casa da M\u00fasica                                  | Centro Cultural e de Concertos | Centro de concertos moderno com arquitetura impressionante e uma programa\u00e7\u00e3o diversificada de eventos musicais.                    | 4.5/5 estrelas    | Arquitetura moderna e concertos de alta qualidade  |\n|   10 | Roda Gigante do Prater                          | Mirante Panor\u00e2mico             | Oferece vistas panor\u00e2micas deslumbrantes da cidade de Viena a partir de sua altura.                                                | Muito Popular     | Vistas panor\u00e2micas de Viena                        |\n|   11 | Pal\u00e1cio de Belvedere Superior                   | Pal\u00e1cio Barroco e Museu        | Pal\u00e1cio barroco que abriga a maior cole\u00e7\u00e3o de obras de Gustav Klimt, incluindo 'O Beijo'.                                          | Excelente         | Obras-primas de Gustav Klimt e arquitetura barroca |\n|   12 | Espa\u00e7o de Exposi\u00e7\u00f5es de Viena (MuseumsQuartier) | Complexo de Museus             | Complexo de museus que abriga diversas institui\u00e7\u00f5es culturais, incluindo o Leopold Museum e o MUMOK.                               | Muito Popular     | Diversidade de museus e galerias de arte           |\n|   13 | Volksgarten                                     | Parque Urbano                  | Um belo parque no centro de Viena, com jardins bem cuidados, monumentos e o famoso Teatro de Ver\u00e3o.                                | 4.3/5 estrelas    | Espa\u00e7o verde tranquilo no cora\u00e7\u00e3o da cidade        |\n|   14 | Dan\u00fabio                                         | Rio e \u00c1rea Recreativa          | O rio Dan\u00fabio oferece passeios de barco, ciclovias e \u00e1reas de lazer ao longo de suas margens.                                      | N/A               | Passeios de barco e atividades ao ar livre         |\n|   15 | Stephansplatz                                   | Pra\u00e7a Hist\u00f3rica                | Pra\u00e7a central de Viena, localizada em frente \u00e0 Catedral de Santo Est\u00eav\u00e3o, um ponto de encontro vibrante.                           | Muito Popular     | Atmosfera vibrante e localiza\u00e7\u00e3o central           |"
          },
          "metadata": {}
        },
        {
          "output_type": "display_data",
          "data": {
            "text/plain": [
              "<IPython.core.display.Markdown object>"
            ],
            "text/markdown": "---"
          },
          "metadata": {}
        }
      ]
    },
    {
      "cell_type": "code",
      "metadata": {
        "colab": {
          "base_uri": "https://localhost:8080/",
          "height": 1000
        },
        "collapsed": true,
        "id": "4b422ff2",
        "outputId": "68331002-915c-40b6-a027-b7193205526f"
      },
      "source": [
        "executar_planejador_viagem(\"/content/europa.csv\")"
      ],
      "execution_count": null,
      "outputs": [
        {
          "output_type": "display_data",
          "data": {
            "text/plain": [
              "<IPython.core.display.Markdown object>"
            ],
            "text/markdown": "### Arquivo de Viagem (`/content/europa.csv`)"
          },
          "metadata": {}
        },
        {
          "output_type": "display_data",
          "data": {
            "text/plain": [
              "     cidade     pais data_chegada data_partida                    hospedagem\n",
              "0      Roma   It\u00e1lia   2025-09-13   2025-09-16  Via Francesco Caracciolo n.7\n",
              "1  Floren\u00e7a   It\u00e1lia   2025-09-16   2025-09-19                  Hotel Bodoni\n",
              "2     Viena  A\u00fastria   2025-09-20   2025-09-24            Hilton Vienna Park"
            ],
            "text/html": [
              "\n",
              "  <div id=\"df-107f5227-924f-4646-9631-74b5dfeb0c22\" class=\"colab-df-container\">\n",
              "    <div>\n",
              "<style scoped>\n",
              "    .dataframe tbody tr th:only-of-type {\n",
              "        vertical-align: middle;\n",
              "    }\n",
              "\n",
              "    .dataframe tbody tr th {\n",
              "        vertical-align: top;\n",
              "    }\n",
              "\n",
              "    .dataframe thead th {\n",
              "        text-align: right;\n",
              "    }\n",
              "</style>\n",
              "<table border=\"1\" class=\"dataframe\">\n",
              "  <thead>\n",
              "    <tr style=\"text-align: right;\">\n",
              "      <th></th>\n",
              "      <th>cidade</th>\n",
              "      <th>pais</th>\n",
              "      <th>data_chegada</th>\n",
              "      <th>data_partida</th>\n",
              "      <th>hospedagem</th>\n",
              "    </tr>\n",
              "  </thead>\n",
              "  <tbody>\n",
              "    <tr>\n",
              "      <th>0</th>\n",
              "      <td>Roma</td>\n",
              "      <td>It\u00e1lia</td>\n",
              "      <td>2025-09-13</td>\n",
              "      <td>2025-09-16</td>\n",
              "      <td>Via Francesco Caracciolo n.7</td>\n",
              "    </tr>\n",
              "    <tr>\n",
              "      <th>1</th>\n",
              "      <td>Floren\u00e7a</td>\n",
              "      <td>It\u00e1lia</td>\n",
              "      <td>2025-09-16</td>\n",
              "      <td>2025-09-19</td>\n",
              "      <td>Hotel Bodoni</td>\n",
              "    </tr>\n",
              "    <tr>\n",
              "      <th>2</th>\n",
              "      <td>Viena</td>\n",
              "      <td>A\u00fastria</td>\n",
              "      <td>2025-09-20</td>\n",
              "      <td>2025-09-24</td>\n",
              "      <td>Hilton Vienna Park</td>\n",
              "    </tr>\n",
              "  </tbody>\n",
              "</table>\n",
              "</div>\n",
              "    <div class=\"colab-df-buttons\">\n",
              "\n",
              "  <div class=\"colab-df-container\">\n",
              "    <button class=\"colab-df-convert\" onclick=\"convertToInteractive('df-107f5227-924f-4646-9631-74b5dfeb0c22')\"\n",
              "            title=\"Convert this dataframe to an interactive table.\"\n",
              "            style=\"display:none;\">\n",
              "\n",
              "  <svg xmlns=\"http://www.w3.org/2000/svg\" height=\"24px\" viewBox=\"0 -960 960 960\">\n",
              "    <path d=\"M120-120v-720h720v720H120Zm60-500h600v-160H180v160Zm220 220h160v-160H400v160Zm0 220h160v-160H400v160ZM180-400h160v-160H180v160Zm440 0h160v-160H620v160ZM180-180h160v-160H180v160Zm440 0h160v-160H620v160Z\"/>\n",
              "  </svg>\n",
              "    </button>\n",
              "\n",
              "  <style>\n",
              "    .colab-df-container {\n",
              "      display:flex;\n",
              "      gap: 12px;\n",
              "    }\n",
              "\n",
              "    .colab-df-convert {\n",
              "      background-color: #E8F0FE;\n",
              "      border: none;\n",
              "      border-radius: 50%;\n",
              "      cursor: pointer;\n",
              "      display: none;\n",
              "      fill: #1967D2;\n",
              "      height: 32px;\n",
              "      padding: 0 0 0 0;\n",
              "      width: 32px;\n",
              "    }\n",
              "\n",
              "    .colab-df-convert:hover {\n",
              "      background-color: #E2EBFA;\n",
              "      box-shadow: 0px 1px 2px rgba(60, 64, 67, 0.3), 0px 1px 3px 1px rgba(60, 64, 67, 0.15);\n",
              "      fill: #174EA6;\n",
              "    }\n",
              "\n",
              "    .colab-df-buttons div {\n",
              "      margin-bottom: 4px;\n",
              "    }\n",
              "\n",
              "    [theme=dark] .colab-df-convert {\n",
              "      background-color: #3B4455;\n",
              "      fill: #D2E3FC;\n",
              "    }\n",
              "\n",
              "    [theme=dark] .colab-df-convert:hover {\n",
              "      background-color: #434B5C;\n",
              "      box-shadow: 0px 1px 3px 1px rgba(0, 0, 0, 0.15);\n",
              "      filter: drop-shadow(0px 1px 2px rgba(0, 0, 0, 0.3));\n",
              "      fill: #FFFFFF;\n",
              "    }\n",
              "  </style>\n",
              "\n",
              "    <script>\n",
              "      const buttonEl =\n",
              "        document.querySelector('#df-107f5227-924f-4646-9631-74b5dfeb0c22 button.colab-df-convert');\n",
              "      buttonEl.style.display =\n",
              "        google.colab.kernel.accessAllowed ? 'block' : 'none';\n",
              "\n",
              "      async function convertToInteractive(key) {\n",
              "        const element = document.querySelector('#df-107f5227-924f-4646-9631-74b5dfeb0c22');\n",
              "        const dataTable =\n",
              "          await google.colab.kernel.invokeFunction('convertToInteractive',\n",
              "                                                    [key], {});\n",
              "        if (!dataTable) return;\n",
              "\n",
              "        const docLinkHtml = 'Like what you see? Visit the ' +\n",
              "          '<a target=\"_blank\" href=https://colab.research.google.com/notebooks/data_table.ipynb>data table notebook</a>'\n",
              "          + ' to learn more about interactive tables.';\n",
              "        element.innerHTML = '';\n",
              "        dataTable['output_type'] = 'display_data';\n",
              "        await google.colab.output.renderOutput(dataTable, element);\n",
              "        const docLink = document.createElement('div');\n",
              "        docLink.innerHTML = docLinkHtml;\n",
              "        element.appendChild(docLink);\n",
              "      }\n",
              "    </script>\n",
              "  </div>\n",
              "\n",
              "\n",
              "    <div id=\"df-2b36065f-7d32-474a-929f-e6a7df5b8ea0\">\n",
              "      <button class=\"colab-df-quickchart\" onclick=\"quickchart('df-2b36065f-7d32-474a-929f-e6a7df5b8ea0')\"\n",
              "                title=\"Suggest charts\"\n",
              "                style=\"display:none;\">\n",
              "\n",
              "<svg xmlns=\"http://www.w3.org/2000/svg\" height=\"24px\"viewBox=\"0 0 24 24\"\n",
              "     width=\"24px\">\n",
              "    <g>\n",
              "        <path d=\"M19 3H5c-1.1 0-2 .9-2 2v14c0 1.1.9 2 2 2h14c1.1 0 2-.9 2-2V5c0-1.1-.9-2-2-2zM9 17H7v-7h2v7zm4 0h-2V7h2v10zm4 0h-2v-4h2v4z\"/>\n",
              "    </g>\n",
              "</svg>\n",
              "      </button>\n",
              "\n",
              "<style>\n",
              "  .colab-df-quickchart {\n",
              "      --bg-color: #E8F0FE;\n",
              "      --fill-color: #1967D2;\n",
              "      --hover-bg-color: #E2EBFA;\n",
              "      --hover-fill-color: #174EA6;\n",
              "      --disabled-fill-color: #AAA;\n",
              "      --disabled-bg-color: #DDD;\n",
              "  }\n",
              "\n",
              "  [theme=dark] .colab-df-quickchart {\n",
              "      --bg-color: #3B4455;\n",
              "      --fill-color: #D2E3FC;\n",
              "      --hover-bg-color: #434B5C;\n",
              "      --hover-fill-color: #FFFFFF;\n",
              "      --disabled-bg-color: #3B4455;\n",
              "      --disabled-fill-color: #666;\n",
              "  }\n",
              "\n",
              "  .colab-df-quickchart {\n",
              "    background-color: var(--bg-color);\n",
              "    border: none;\n",
              "    border-radius: 50%;\n",
              "    cursor: pointer;\n",
              "    display: none;\n",
              "    fill: var(--fill-color);\n",
              "    height: 32px;\n",
              "    padding: 0;\n",
              "    width: 32px;\n",
              "  }\n",
              "\n",
              "  .colab-df-quickchart:hover {\n",
              "    background-color: var(--hover-bg-color);\n",
              "    box-shadow: 0 1px 2px rgba(60, 64, 67, 0.3), 0 1px 3px 1px rgba(60, 64, 67, 0.15);\n",
              "    fill: var(--button-hover-fill-color);\n",
              "  }\n",
              "\n",
              "  .colab-df-quickchart-complete:disabled,\n",
              "  .colab-df-quickchart-complete:disabled:hover {\n",
              "    background-color: var(--disabled-bg-color);\n",
              "    fill: var(--disabled-fill-color);\n",
              "    box-shadow: none;\n",
              "  }\n",
              "\n",
              "  .colab-df-spinner {\n",
              "    border: 2px solid var(--fill-color);\n",
              "    border-color: transparent;\n",
              "    border-bottom-color: var(--fill-color);\n",
              "    animation:\n",
              "      spin 1s steps(1) infinite;\n",
              "  }\n",
              "\n",
              "  @keyframes spin {\n",
              "    0% {\n",
              "      border-color: transparent;\n",
              "      border-bottom-color: var(--fill-color);\n",
              "      border-left-color: var(--fill-color);\n",
              "    }\n",
              "    20% {\n",
              "      border-color: transparent;\n",
              "      border-left-color: var(--fill-color);\n",
              "      border-top-color: var(--fill-color);\n",
              "    }\n",
              "    30% {\n",
              "      border-color: transparent;\n",
              "      border-left-color: var(--fill-color);\n",
              "      border-top-color: var(--fill-color);\n",
              "      border-right-color: var(--fill-color);\n",
              "    }\n",
              "    40% {\n",
              "      border-color: transparent;\n",
              "      border-right-color: var(--fill-color);\n",
              "      border-top-color: var(--fill-color);\n",
              "    }\n",
              "    60% {\n",
              "      border-color: transparent;\n",
              "      border-right-color: var(--fill-color);\n",
              "    }\n",
              "    80% {\n",
              "      border-color: transparent;\n",
              "      border-right-color: var(--fill-color);\n",
              "      border-bottom-color: var(--fill-color);\n",
              "    }\n",
              "    90% {\n",
              "      border-color: transparent;\n",
              "      border-bottom-color: var(--fill-color);\n",
              "    }\n",
              "  }\n",
              "</style>\n",
              "\n",
              "      <script>\n",
              "        async function quickchart(key) {\n",
              "          const quickchartButtonEl =\n",
              "            document.querySelector('#' + key + ' button');\n",
              "          quickchartButtonEl.disabled = true;  // To prevent multiple clicks.\n",
              "          quickchartButtonEl.classList.add('colab-df-spinner');\n",
              "          try {\n",
              "            const charts = await google.colab.kernel.invokeFunction(\n",
              "                'suggestCharts', [key], {});\n",
              "          } catch (error) {\n",
              "            console.error('Error during call to suggestCharts:', error);\n",
              "          }\n",
              "          quickchartButtonEl.classList.remove('colab-df-spinner');\n",
              "          quickchartButtonEl.classList.add('colab-df-quickchart-complete');\n",
              "        }\n",
              "        (() => {\n",
              "          let quickchartButtonEl =\n",
              "            document.querySelector('#df-2b36065f-7d32-474a-929f-e6a7df5b8ea0 button');\n",
              "          quickchartButtonEl.style.display =\n",
              "            google.colab.kernel.accessAllowed ? 'block' : 'none';\n",
              "        })();\n",
              "      </script>\n",
              "    </div>\n",
              "\n",
              "    </div>\n",
              "  </div>\n"
            ],
            "application/vnd.google.colaboratory.intrinsic+json": {
              "type": "dataframe",
              "summary": "{\n  \"name\": \"executar_planejador_viagem(\\\"/content/europa\",\n  \"rows\": 3,\n  \"fields\": [\n    {\n      \"column\": \"cidade\",\n      \"properties\": {\n        \"dtype\": \"string\",\n        \"num_unique_values\": 3,\n        \"samples\": [\n          \"Roma\",\n          \"Floren\\u00e7a\",\n          \"Viena\"\n        ],\n        \"semantic_type\": \"\",\n        \"description\": \"\"\n      }\n    },\n    {\n      \"column\": \"pais\",\n      \"properties\": {\n        \"dtype\": \"string\",\n        \"num_unique_values\": 2,\n        \"samples\": [\n          \"A\\u00fastria\",\n          \"It\\u00e1lia\"\n        ],\n        \"semantic_type\": \"\",\n        \"description\": \"\"\n      }\n    },\n    {\n      \"column\": \"data_chegada\",\n      \"properties\": {\n        \"dtype\": \"object\",\n        \"num_unique_values\": 3,\n        \"samples\": [\n          \"2025-09-13\",\n          \"2025-09-16\"\n        ],\n        \"semantic_type\": \"\",\n        \"description\": \"\"\n      }\n    },\n    {\n      \"column\": \"data_partida\",\n      \"properties\": {\n        \"dtype\": \"object\",\n        \"num_unique_values\": 3,\n        \"samples\": [\n          \"2025-09-16\",\n          \"2025-09-19\"\n        ],\n        \"semantic_type\": \"\",\n        \"description\": \"\"\n      }\n    },\n    {\n      \"column\": \"hospedagem\",\n      \"properties\": {\n        \"dtype\": \"string\",\n        \"num_unique_values\": 3,\n        \"samples\": [\n          \"Via Francesco Caracciolo n.7\",\n          \"Hotel Bodoni\"\n        ],\n        \"semantic_type\": \"\",\n        \"description\": \"\"\n      }\n    }\n  ]\n}"
            }
          },
          "metadata": {}
        },
        {
          "output_type": "display_data",
          "data": {
            "text/plain": [
              "<IPython.core.display.Markdown object>"
            ],
            "text/markdown": "\n# \ud83d\uddfa\ufe0f **Relat\u00f3rio de Pesquisa de Atra\u00e7\u00f5es do Agente** \u2708\ufe0f"
          },
          "metadata": {}
        },
        {
          "output_type": "display_data",
          "data": {
            "text/plain": [
              "<IPython.core.display.Markdown object>"
            ],
            "text/markdown": "\n### \ud83c\udf0d Agente Iniciando Pesquisa para: **Roma, It\u00e1lia**"
          },
          "metadata": {}
        },
        {
          "output_type": "display_data",
          "data": {
            "text/plain": [
              "<IPython.core.display.Markdown object>"
            ],
            "text/markdown": "\ud83e\udde0 *Agente consultando Gemini sobre atra\u00e7\u00f5es em: **Roma, It\u00e1lia** (Top 15)...*"
          },
          "metadata": {}
        },
        {
          "output_type": "display_data",
          "data": {
            "text/plain": [
              "<IPython.core.display.Markdown object>"
            ],
            "text/markdown": "\u2705 *Gemini retornou 15 sugest\u00f5es de atra\u00e7\u00f5es para Roma.*"
          },
          "metadata": {}
        },
        {
          "output_type": "display_data",
          "data": {
            "text/plain": [
              "<IPython.core.display.Markdown object>"
            ],
            "text/markdown": "--- Pesquisa para **Roma, It\u00e1lia** finalizada pelo agente. ---"
          },
          "metadata": {}
        },
        {
          "output_type": "display_data",
          "data": {
            "text/plain": [
              "<IPython.core.display.Markdown object>"
            ],
            "text/markdown": "\n## \ud83d\udccd Destino: **Roma, It\u00e1lia**"
          },
          "metadata": {}
        },
        {
          "output_type": "display_data",
          "data": {
            "text/plain": [
              "<IPython.core.display.Markdown object>"
            ],
            "text/markdown": "\ud83d\uddd3\ufe0f **Per\u00edodo:** 2025-09-13 a 2025-09-16"
          },
          "metadata": {}
        },
        {
          "output_type": "display_data",
          "data": {
            "text/plain": [
              "<IPython.core.display.Markdown object>"
            ],
            "text/markdown": "\ud83c\udfe8 **Hospedagem:** Via Francesco Caracciolo n.7"
          },
          "metadata": {}
        },
        {
          "output_type": "display_data",
          "data": {
            "text/plain": [
              "<IPython.core.display.Markdown object>"
            ],
            "text/markdown": "#### \ud83d\udd0d Links \u00dateis para Pesquisa Manual Detalhada (abrem em nova aba):"
          },
          "metadata": {}
        },
        {
          "output_type": "display_data",
          "data": {
            "text/plain": [
              "<IPython.core.display.Markdown object>"
            ],
            "text/markdown": "- **[Google Search: Principais atra\u00e7\u00f5es](https://www.google.com/search?q=principais+atra%C3%A7%C3%B5es+tur%C3%ADsticas+em+Roma+It%C3%A1lia)** "
          },
          "metadata": {}
        },
        {
          "output_type": "display_data",
          "data": {
            "text/plain": [
              "<IPython.core.display.Markdown object>"
            ],
            "text/markdown": "- **[Google Maps: Atra\u00e7\u00f5es na \u00e1rea](https://www.google.com/maps/search/atra%C3%A7%C3%B5es+tur%C3%ADsticas+em+Roma%2C+It%C3%A1lia)** "
          },
          "metadata": {}
        },
        {
          "output_type": "display_data",
          "data": {
            "text/plain": [
              "<IPython.core.display.Markdown object>"
            ],
            "text/markdown": "- **[Google Maps: Vis\u00e3o geral da cidade](https://www.google.com/maps/place/Roma%2C+It%C3%A1lia)** "
          },
          "metadata": {}
        },
        {
          "output_type": "display_data",
          "data": {
            "text/plain": [
              "<IPython.core.display.Markdown object>"
            ],
            "text/markdown": "#### \u2728 Sugest\u00f5es de Atra\u00e7\u00f5es Principais (via Agente Gemini):"
          },
          "metadata": {}
        },
        {
          "output_type": "display_data",
          "data": {
            "text/plain": [
              "<IPython.core.display.Markdown object>"
            ],
            "text/markdown": "|   N\u00ba | Atra\u00e7\u00e3o                 | Tipo Principal                 | Descri\u00e7\u00e3o Enxuta                                                                                        | Avalia\u00e7\u00e3o Geral   | Destaque Principal                             |\n|-----:|:------------------------|:-------------------------------|:--------------------------------------------------------------------------------------------------------|:------------------|:-----------------------------------------------|\n|    1 | Coliseu                 | Monumento Nacional             | Anfiteatro ic\u00f4nico do Imp\u00e9rio Romano, palco de espet\u00e1culos grandiosos, s\u00edmbolo da cidade.               | Excelente         | Arquitetura impressionante e hist\u00f3ria milenar  |\n|    2 | F\u00f3rum Romano            | S\u00edtio Arqueol\u00f3gico             | Ru\u00ednas do centro c\u00edvico e pol\u00edtico da antiga Roma, com templos, bas\u00edlicas e monumentos.                 | Muito Popular     | Viagem ao passado da civiliza\u00e7\u00e3o romana        |\n|    3 | Pal\u00e1cio do Vaticano     | Complexo Religioso e Hist\u00f3rico | Sede da Igreja Cat\u00f3lica, com a Bas\u00edlica de S\u00e3o Pedro e os Museus Vaticanos, incluindo a Capela Sistina. | Excelente         | Arte renascentista e arquitetura monumental    |\n|    4 | Bas\u00edlica de S\u00e3o Pedro   | Catedral                       | Bas\u00edlica papal de grandiosidade arquitet\u00f4nica, com obras-primas de Michelangelo e Bernini.              | Excelente         | Magn\u00edfica arquitetura e arte religiosa         |\n|    5 | Museus Vaticanos        | Museu de Arte e Antiguidades   | Cole\u00e7\u00e3o vasta de arte e artefatos de diferentes \u00e9pocas, incluindo a Capela Sistina.                     | Excelente         | Cole\u00e7\u00e3o de arte e hist\u00f3ria incompar\u00e1vel        |\n|    6 | Fontana di Trevi        | Fonte Monumental               | Fonte barroca exuberante, cen\u00e1rio de filmes e lendas, um marco ic\u00f4nico de Roma.                         | Muito Popular     | Beleza arquitet\u00f4nica e atmosfera rom\u00e2ntica     |\n|    7 | Pantheon                | Templo Romano                  | Templo romano excepcionalmente preservado, com uma c\u00fapula impressionante e um oculus.                   | Excelente         | Arquitetura e engenharia romana surpreendentes |\n|    8 | Piazza Navona           | Pra\u00e7a Hist\u00f3rica                | Pra\u00e7a barroca vibrante, com fontes ornamentadas, artistas de rua e caf\u00e9s.                               | Muito Popular     | Atmosfera animada e beleza arquitet\u00f4nica       |\n|    9 | Espa\u00e7o Nacional de Roma | Parque Urbano                  | Grande parque com jardins, museus e monumentos, ideal para relaxar e apreciar a natureza.               | Muito Popular     | Espa\u00e7o verde e \u00e1reas culturais                 |\n|   10 | Castel Sant'Angelo      | Castelo Hist\u00f3rico              | Castelo com hist\u00f3ria complexa, que serviu como mausol\u00e9u, fortaleza e pris\u00e3o papal.                      | Muito Popular     | Vista panor\u00e2mica e hist\u00f3ria fascinante         |\n|   11 | Ponte Sisto             | Ponte Hist\u00f3rica                | Ponte pitoresca com vistas encantadoras do Rio Tibre e da cidade.                                       | Muito Popular     | Vistas rom\u00e2nticas e atmosfera tranquila        |\n|   12 | Campo de' Fiori         | Mercado Hist\u00f3rico              | Mercado movimentado com produtos frescos, flores e atmosfera vibrante, especialmente pela manh\u00e3.        | Muito Popular     | Experi\u00eancia aut\u00eantica e produtos locais        |\n|   13 | Jan\u00edculo                | Mirante Panor\u00e2mico             | Colina que oferece vistas panor\u00e2micas deslumbrantes de Roma, especialmente ao p\u00f4r do sol.               | Muito Popular     | Vistas panor\u00e2micas de tirar o f\u00f4lego           |\n|   14 | Galeria Borghese        | Museu de Arte                  | Museu com uma cole\u00e7\u00e3o impressionante de esculturas e pinturas de Bernini, Caravaggio e outros mestres.  | Excelente         | Obras-primas da arte barroca e renascentista   |\n|   15 | Catacombas Romanas      | S\u00edtio Arqueol\u00f3gico             | Rede subterr\u00e2nea de t\u00faneis e c\u00e2maras usadas como cemit\u00e9rios pelos primeiros crist\u00e3os.                   | Muito Popular     | Experi\u00eancia hist\u00f3rica e espiritual \u00fanica       |"
          },
          "metadata": {}
        },
        {
          "output_type": "display_data",
          "data": {
            "text/plain": [
              "<IPython.core.display.Markdown object>"
            ],
            "text/markdown": "---"
          },
          "metadata": {}
        },
        {
          "output_type": "display_data",
          "data": {
            "text/plain": [
              "<IPython.core.display.Markdown object>"
            ],
            "text/markdown": "\n### \ud83c\udf0d Agente Iniciando Pesquisa para: **Floren\u00e7a, It\u00e1lia**"
          },
          "metadata": {}
        },
        {
          "output_type": "display_data",
          "data": {
            "text/plain": [
              "<IPython.core.display.Markdown object>"
            ],
            "text/markdown": "\ud83e\udde0 *Agente consultando Gemini sobre atra\u00e7\u00f5es em: **Floren\u00e7a, It\u00e1lia** (Top 15)...*"
          },
          "metadata": {}
        },
        {
          "output_type": "display_data",
          "data": {
            "text/plain": [
              "<IPython.core.display.Markdown object>"
            ],
            "text/markdown": "\u2705 *Gemini retornou 15 sugest\u00f5es de atra\u00e7\u00f5es para Floren\u00e7a.*"
          },
          "metadata": {}
        },
        {
          "output_type": "display_data",
          "data": {
            "text/plain": [
              "<IPython.core.display.Markdown object>"
            ],
            "text/markdown": "--- Pesquisa para **Floren\u00e7a, It\u00e1lia** finalizada pelo agente. ---"
          },
          "metadata": {}
        },
        {
          "output_type": "display_data",
          "data": {
            "text/plain": [
              "<IPython.core.display.Markdown object>"
            ],
            "text/markdown": "\n## \ud83d\udccd Destino: **Floren\u00e7a, It\u00e1lia**"
          },
          "metadata": {}
        },
        {
          "output_type": "display_data",
          "data": {
            "text/plain": [
              "<IPython.core.display.Markdown object>"
            ],
            "text/markdown": "\ud83d\uddd3\ufe0f **Per\u00edodo:** 2025-09-16 a 2025-09-19"
          },
          "metadata": {}
        },
        {
          "output_type": "display_data",
          "data": {
            "text/plain": [
              "<IPython.core.display.Markdown object>"
            ],
            "text/markdown": "\ud83c\udfe8 **Hospedagem:** Hotel Bodoni"
          },
          "metadata": {}
        },
        {
          "output_type": "display_data",
          "data": {
            "text/plain": [
              "<IPython.core.display.Markdown object>"
            ],
            "text/markdown": "#### \ud83d\udd0d Links \u00dateis para Pesquisa Manual Detalhada (abrem em nova aba):"
          },
          "metadata": {}
        },
        {
          "output_type": "display_data",
          "data": {
            "text/plain": [
              "<IPython.core.display.Markdown object>"
            ],
            "text/markdown": "- **[Google Search: Principais atra\u00e7\u00f5es](https://www.google.com/search?q=principais+atra%C3%A7%C3%B5es+tur%C3%ADsticas+em+Floren%C3%A7a+It%C3%A1lia)** "
          },
          "metadata": {}
        },
        {
          "output_type": "display_data",
          "data": {
            "text/plain": [
              "<IPython.core.display.Markdown object>"
            ],
            "text/markdown": "- **[Google Maps: Atra\u00e7\u00f5es na \u00e1rea](https://www.google.com/maps/search/atra%C3%A7%C3%B5es+tur%C3%ADsticas+em+Floren%C3%A7a%2C+It%C3%A1lia)** "
          },
          "metadata": {}
        },
        {
          "output_type": "display_data",
          "data": {
            "text/plain": [
              "<IPython.core.display.Markdown object>"
            ],
            "text/markdown": "- **[Google Maps: Vis\u00e3o geral da cidade](https://www.google.com/maps/place/Floren%C3%A7a%2C+It%C3%A1lia)** "
          },
          "metadata": {}
        },
        {
          "output_type": "display_data",
          "data": {
            "text/plain": [
              "<IPython.core.display.Markdown object>"
            ],
            "text/markdown": "#### \u2728 Sugest\u00f5es de Atra\u00e7\u00f5es Principais (via Agente Gemini):"
          },
          "metadata": {}
        },
        {
          "output_type": "display_data",
          "data": {
            "text/plain": [
              "<IPython.core.display.Markdown object>"
            ],
            "text/markdown": "|   N\u00ba | Atra\u00e7\u00e3o                      | Tipo Principal           | Descri\u00e7\u00e3o Enxuta                                                                                                              | Avalia\u00e7\u00e3o Geral   | Destaque Principal                                        |\n|-----:|:-----------------------------|:-------------------------|:------------------------------------------------------------------------------------------------------------------------------|:------------------|:----------------------------------------------------------|\n|    1 | Galeria da Academia          | Museu de Arte            | Abriga a maior cole\u00e7\u00e3o de obras de Michelangelo, incluindo o David e as pinturas da Capela Sistina.                           | Excelente         | Cole\u00e7\u00e3o de obras-primas renascentistas                    |\n|    2 | Ponte Vecchio                | Ponte Hist\u00f3rica          | Uma ponte medieval \u00fanica, famosa por suas lojas constru\u00eddas ao longo dela, oferecendo vistas encantadoras do rio Arno.        | Muito Popular     | Arquitetura ic\u00f4nica e vistas pitorescas                   |\n|    3 | Catedral de Floren\u00e7a (Duomo) | Catedral G\u00f3tica          | Uma magn\u00edfica catedral com uma c\u00fapula de Brunelleschi e o Campan\u00e1rio de Giotto, s\u00edmbolos de Floren\u00e7a.                         | Excelente         | Arquitetura impressionante e obras de arte renascentistas |\n|    4 | Palazzo Pitti                | Pal\u00e1cio Hist\u00f3rico        | Um enorme pal\u00e1cio renascentista que abriga cinco museus, incluindo a Galeria de Arte Moderna e o Museu do Figurino e da Moda. | Muito Bom         | Arquitetura grandiosa e cole\u00e7\u00f5es de arte diversificadas   |\n|    5 | Uffizi Gallery               | Museu de Arte            | Um dos museus mais importantes do mundo, com uma cole\u00e7\u00e3o excepcional de pinturas renascentistas.                              | Excelente         | Cole\u00e7\u00e3o incompar\u00e1vel de arte renascentista italiana       |\n|    6 | Piazza della Signoria        | Pra\u00e7a P\u00fablica Hist\u00f3rica  | Uma pra\u00e7a animada no cora\u00e7\u00e3o de Floren\u00e7a, cercada por edif\u00edcios hist\u00f3ricos importantes, como o Palazzo Vecchio.               | Muito Popular     | Atmosfera vibrante e arquitetura hist\u00f3rica                |\n|    7 | Palazzo Vecchio              | Pal\u00e1cio Hist\u00f3rico        | O antigo pal\u00e1cio do governo de Floren\u00e7a, com interiores opulentos e uma rica hist\u00f3ria.                                        | Muito Bom         | Hist\u00f3ria e arte florentina                                |\n|    8 | Boboli Gardens               | Jardim Hist\u00f3rico         | Belos jardins italianos com fontes, esculturas e vistas panor\u00e2micas da cidade.                                                | Excelente         | Paisagismo italiano e vistas deslumbrantes                |\n|    9 | Mercado de San Lorenzo       | Mercado Hist\u00f3rico        | Um mercado vibrante com produtos frescos, artesanato e artigos de couro.                                                      | Muito Popular     | Experi\u00eancia aut\u00eantica e compras \u00fanicas                    |\n|   10 | Piazzale Michelangelo        | Mirante Panor\u00e2mico       | Um mirante com vistas deslumbrantes de toda a cidade de Floren\u00e7a.                                                             | Excelente         | Vistas panor\u00e2micas de tirar o f\u00f4lego                      |\n|   11 | Baptistery of San Giovanni   | Batist\u00e9rio Rom\u00e2nico      | Um batist\u00e9rio octogonal com portas de bronze famosas, incluindo as Portas do Para\u00edso de Ghiberti.                             | Muito Bom         | Arquitetura e arte rom\u00e2nica                               |\n|   12 | Ponte Santa Trinita          | Ponte Hist\u00f3rica          | Uma elegante ponte com vistas encantadoras do rio Arno e da cidade.                                                           | Muito Popular     | Vistas pitorescas e arquitetura elegante                  |\n|   13 | Palazzo Davanzati            | Museu Hist\u00f3rico          | Um museu que mostra a vida de uma rica fam\u00edlia florentina no s\u00e9culo XIV.                                                      | Bom               | Vislumbre da vida medieval florentina                     |\n|   14 | Museo di San Marco           | Museu de Arte e Hist\u00f3ria | Um museu que abriga uma cole\u00e7\u00e3o de obras de Fra Angelico, incluindo afrescos no antigo mosteiro.                              | Muito Bom         | Obras-primas de Fra Angelico e arquitetura hist\u00f3rica      |\n|   15 | Bargello Museum              | Museu de Escultura       | Um museu que abriga uma cole\u00e7\u00e3o impressionante de esculturas renascentistas, incluindo obras de Donatello e Michelangelo.     | Muito Bom         | Cole\u00e7\u00e3o excepcional de esculturas renascentistas          |"
          },
          "metadata": {}
        },
        {
          "output_type": "display_data",
          "data": {
            "text/plain": [
              "<IPython.core.display.Markdown object>"
            ],
            "text/markdown": "---"
          },
          "metadata": {}
        },
        {
          "output_type": "display_data",
          "data": {
            "text/plain": [
              "<IPython.core.display.Markdown object>"
            ],
            "text/markdown": "\n### \ud83c\udf0d Agente Iniciando Pesquisa para: **Viena, A\u00fastria**"
          },
          "metadata": {}
        },
        {
          "output_type": "display_data",
          "data": {
            "text/plain": [
              "<IPython.core.display.Markdown object>"
            ],
            "text/markdown": "\ud83e\udde0 *Agente consultando Gemini sobre atra\u00e7\u00f5es em: **Viena, A\u00fastria** (Top 15)...*"
          },
          "metadata": {}
        },
        {
          "output_type": "display_data",
          "data": {
            "text/plain": [
              "<IPython.core.display.Markdown object>"
            ],
            "text/markdown": "\u2705 *Gemini retornou 15 sugest\u00f5es de atra\u00e7\u00f5es para Viena.*"
          },
          "metadata": {}
        },
        {
          "output_type": "display_data",
          "data": {
            "text/plain": [
              "<IPython.core.display.Markdown object>"
            ],
            "text/markdown": "--- Pesquisa para **Viena, A\u00fastria** finalizada pelo agente. ---"
          },
          "metadata": {}
        },
        {
          "output_type": "display_data",
          "data": {
            "text/plain": [
              "<IPython.core.display.Markdown object>"
            ],
            "text/markdown": "\n## \ud83d\udccd Destino: **Viena, A\u00fastria**"
          },
          "metadata": {}
        },
        {
          "output_type": "display_data",
          "data": {
            "text/plain": [
              "<IPython.core.display.Markdown object>"
            ],
            "text/markdown": "\ud83d\uddd3\ufe0f **Per\u00edodo:** 2025-09-20 a 2025-09-24"
          },
          "metadata": {}
        },
        {
          "output_type": "display_data",
          "data": {
            "text/plain": [
              "<IPython.core.display.Markdown object>"
            ],
            "text/markdown": "\ud83c\udfe8 **Hospedagem:** Hilton Vienna Park"
          },
          "metadata": {}
        },
        {
          "output_type": "display_data",
          "data": {
            "text/plain": [
              "<IPython.core.display.Markdown object>"
            ],
            "text/markdown": "#### \ud83d\udd0d Links \u00dateis para Pesquisa Manual Detalhada (abrem em nova aba):"
          },
          "metadata": {}
        },
        {
          "output_type": "display_data",
          "data": {
            "text/plain": [
              "<IPython.core.display.Markdown object>"
            ],
            "text/markdown": "- **[Google Search: Principais atra\u00e7\u00f5es](https://www.google.com/search?q=principais+atra%C3%A7%C3%B5es+tur%C3%ADsticas+em+Viena+A%C3%BAstria)** "
          },
          "metadata": {}
        },
        {
          "output_type": "display_data",
          "data": {
            "text/plain": [
              "<IPython.core.display.Markdown object>"
            ],
            "text/markdown": "- **[Google Maps: Atra\u00e7\u00f5es na \u00e1rea](https://www.google.com/maps/search/atra%C3%A7%C3%B5es+tur%C3%ADsticas+em+Viena%2C+A%C3%BAstria)** "
          },
          "metadata": {}
        },
        {
          "output_type": "display_data",
          "data": {
            "text/plain": [
              "<IPython.core.display.Markdown object>"
            ],
            "text/markdown": "- **[Google Maps: Vis\u00e3o geral da cidade](https://www.google.com/maps/place/Viena%2C+A%C3%BAstria)** "
          },
          "metadata": {}
        },
        {
          "output_type": "display_data",
          "data": {
            "text/plain": [
              "<IPython.core.display.Markdown object>"
            ],
            "text/markdown": "#### \u2728 Sugest\u00f5es de Atra\u00e7\u00f5es Principais (via Agente Gemini):"
          },
          "metadata": {}
        },
        {
          "output_type": "display_data",
          "data": {
            "text/plain": [
              "<IPython.core.display.Markdown object>"
            ],
            "text/markdown": "|   N\u00ba | Atra\u00e7\u00e3o                                   | Tipo Principal                 | Descri\u00e7\u00e3o Enxuta                                                                                                                          | Avalia\u00e7\u00e3o Geral   | Destaque Principal                                |\n|-----:|:------------------------------------------|:-------------------------------|:------------------------------------------------------------------------------------------------------------------------------------------|:------------------|:--------------------------------------------------|\n|    1 | Pal\u00e1cio de Sch\u00f6nbrunn                     | Pal\u00e1cio Hist\u00f3rico e Jardins    | Resid\u00eancia de ver\u00e3o dos Habsburgos, com exuberantes jardins, fontes e museus, oferecendo um vislumbre da hist\u00f3ria imperial austr\u00edaca.     | Excelente         | Arquitetura imperial e jardins magn\u00edficos         |\n|    2 | Hofburg                                   | Complexo de Pal\u00e1cios           | Antiga resid\u00eancia de inverno dos Habsburgos, abrigando museus, capelas e a Escola Espanhola de Equita\u00e7\u00e3o, um centro hist\u00f3rico e cultural. | Muito Popular     | Hist\u00f3ria imperial e arquitetura impressionante    |\n|    3 | Catedral de S\u00e3o Est\u00eav\u00e3o                   | Catedral G\u00f3tica                | S\u00edmbolo ic\u00f4nico de Viena, com sua arquitetura g\u00f3tica impressionante, tesouros religiosos e vistas panor\u00e2micas do topo da torre sul.       | Excelente         | Arquitetura g\u00f3tica e vistas panor\u00e2micas           |\n|    4 | Museu de Hist\u00f3ria da Arte                 | Museu de Arte                  | Cole\u00e7\u00e3o excepcional de pinturas, esculturas e objetos de arte, abrangendo s\u00e9culos de hist\u00f3ria da arte europeia.                           | 4.5/5 estrelas    | Cole\u00e7\u00e3o de arte de renome mundial                 |\n|    5 | Museu Albertina                           | Museu de Arte Gr\u00e1fica          | Cole\u00e7\u00e3o impressionante de gravuras, desenhos e fotografias, incluindo obras de mestres como D\u00fcrer e Michelangelo.                         | 4.5/5 estrelas    | Cole\u00e7\u00e3o de arte gr\u00e1fica excepcional               |\n|    6 | Belvedere                                 | Museu de Arte e Pal\u00e1cio        | Pal\u00e1cio barroco que abriga a maior cole\u00e7\u00e3o de obras de Gustav Klimt, incluindo 'O Beijo'.                                                 | Excelente         | Obras-primas de Gustav Klimt                      |\n|    7 | Prater                                    | Parque de Divers\u00f5es            | Parque de divers\u00f5es ic\u00f4nico, com a famosa roda-gigante Wiener Riesenrad, oferecendo vistas deslumbrantes da cidade.                       | Muito Popular     | Entretenimento e vistas panor\u00e2micas               |\n|    8 | Naschmarkt                                | Mercado Hist\u00f3rico              | Mercado vibrante e colorido, oferecendo uma ampla variedade de produtos frescos, especiarias e comidas internacionais.                    | 4.0/5 estrelas    | Experi\u00eancia gastron\u00f4mica e cultural               |\n|    9 | Casa da M\u00fasica                            | Centro de M\u00fasica e Arquitetura | Centro de concertos moderno com arquitetura impressionante e ac\u00fastica excepcional, palco de eventos musicais de renome.                   | 4.5/5 estrelas    | Arquitetura moderna e concertos de alta qualidade |\n|   10 | Stephansplatz                             | Pra\u00e7a P\u00fablica Hist\u00f3rica        | Pra\u00e7a central de Viena, localizada em frente \u00e0 Catedral de S\u00e3o Est\u00eav\u00e3o, um local hist\u00f3rico e ponto de encontro.                           | Muito Popular     | Atmosfera vibrante e localiza\u00e7\u00e3o central          |\n|   11 | Dan\u00fabio                                   | Rio e Passeios de Barco        | Rio que atravessa Viena, oferecendo passeios de barco panor\u00e2micos e vistas \u00fanicas da cidade.                                              | Muito Popular     | Passeios de barco e vistas da cidade              |\n|   12 | Volksgarten                               | Parque Urbano                  | Parque tranquilo e bonito, ideal para relaxar, passear ou visitar o monumento a Mozart.                                                   | 4.0/5 estrelas    | Espa\u00e7o verde e relaxamento                        |\n|   13 | Museu do Estado de Viena                  | Museu de Arte e Hist\u00f3ria       | Museu abrangente com cole\u00e7\u00f5es de arte e hist\u00f3ria da \u00c1ustria, incluindo artefatos hist\u00f3ricos e obras de arte.                              | 4.0/5 estrelas    | Hist\u00f3ria e arte austr\u00edacas                        |\n|   14 | Roda Gigante do Prater (Wiener Riesenrad) | Atra\u00e7\u00e3o de Parque de Divers\u00f5es | Roda gigante ic\u00f4nica do Prater, oferecendo vistas panor\u00e2micas de Viena, um s\u00edmbolo da cidade.                                             | Muito Popular     | Vistas panor\u00e2micas de Viena                       |\n|   15 | Pal\u00e1cio de Belvedere Inferior             | Pal\u00e1cio e Museu de Arte        | Pal\u00e1cio barroco que abriga cole\u00e7\u00f5es de arte austr\u00edaca, incluindo obras de Gustav Klimt e Egon Schiele.                                    | Excelente         | Obras de arte austr\u00edacas importantes              |"
          },
          "metadata": {}
        },
        {
          "output_type": "display_data",
          "data": {
            "text/plain": [
              "<IPython.core.display.Markdown object>"
            ],
            "text/markdown": "---"
          },
          "metadata": {}
        }
      ]
    },
    {
      "cell_type": "code",
      "source": [
        "from datetime import datetime, timedelta, timezone\n",
        "\n",
        "# --- IN\u00cdCIO: Adapte esta se\u00e7\u00e3o com os dados reais da sua pesquisa ---\n",
        "# Suponha que esta vari\u00e1vel (ou um conjunto de vari\u00e1veis) contenha\n",
        "# todas as informa\u00e7\u00f5es compiladas pelo seu Agente \"Pesquisador de Atra\u00e7\u00f5es\".\n",
        "# O exemplo abaixo mostra uma ESTRUTURA SUGERIDA para organizar os dados\n",
        "# para facilitar a gera\u00e7\u00e3o do Markdown. Voc\u00ea precisar\u00e1 preench\u00ea-la ou\n",
        "# adaptar o c\u00f3digo de gera\u00e7\u00e3o do Markdown \u00e0 sua estrutura de dados existente.\n",
        "\n",
        "# Obten\u00e7\u00e3o da data e hora atuais para o relat\u00f3rio\n",
        "# Em um ambiente Colab real, para obter a hora din\u00e2mica, voc\u00ea usaria:\n",
        "# current_time_utc = datetime.now(timezone.utc)\n",
        "# Para este exemplo, usaremos a hora fornecida no contexto: 2025-06-16T12:19:18.371Z\n",
        "fixed_current_time_iso = \"2025-06-16T12:19:18.371Z\"\n",
        "current_time_utc = datetime.fromisoformat(fixed_current_time_iso.replace('Z', '+00:00'))\n",
        "\n",
        "current_time_brasilia = current_time_utc - timedelta(hours=3)\n",
        "\n",
        "data_geracao_relatorio_utc_str = current_time_utc.strftime(\"%d/%m/%Y %H:%M:%S (UTC)\")\n",
        "data_geracao_relatorio_brasilia_str = current_time_brasilia.strftime(\"%d/%m/%Y %H:%M:%S (UTC-3)\")\n",
        "\n",
        "dados_compilados = {\n",
        "    \"titulo_pesquisa\": \"Relat\u00f3rio da Pesquisa de Atra\u00e7\u00f5es Tur\u00edsticas\",\n",
        "    \"data_execucao_pesquisa\": \"15/06/2025\",  # Substitua pela data real da sua pesquisa\n",
        "    \"data_geracao_relatorio_utc\": data_geracao_relatorio_utc_str,\n",
        "    \"data_geracao_relatorio_brasilia\": data_geracao_relatorio_brasilia_str,\n",
        "    \"introducao\": (\n",
        "        \"Este documento cont\u00e9m os resultados detalhados da pesquisa de atra\u00e7\u00f5es \"\n",
        "        \"realizada pelo Agente Pesquisador. As informa\u00e7\u00f5es aqui presentes servir\u00e3o \"\n",
        "        \"como base para o Agente Organizador de Roteiro.\"\n",
        "    ),\n",
        "    \"atracoes_pesquisadas\": [\n",
        "        {\n",
        "            \"nome_atracao\": \"Nome da Atra\u00e7\u00e3o Exemplo 1\",\n",
        "            \"dados_brutos\": {\n",
        "                \"Localiza\u00e7\u00e3o\": \"Endere\u00e7o completo, coordenadas GPS\",\n",
        "                \"Hor\u00e1rio de Funcionamento\": \"Seg-Sex: 09:00-18:00, S\u00e1b: 10:00-16:00\",\n",
        "                \"Pre\u00e7o(s)\": \"Adulto: R$XX, Crian\u00e7a: R$YY, Idoso: R$ZZ\",\n",
        "                \"Website Oficial\": \"http://www.exemploatracao1.com\"\n",
        "            },\n",
        "            \"analise_detalhada\": (\n",
        "                \"An\u00e1lise aprofundada sobre a atra\u00e7\u00e3o, incluindo sua hist\u00f3ria, \"\n",
        "                \"relev\u00e2ncia cultural, pontos de interesse principais, o que esperar, \"\n",
        "                \"dicas de visita\u00e7\u00e3o (melhor hor\u00e1rio, tempo estimado de visita), etc.\"\n",
        "            ),\n",
        "            \"conclusoes_recomendacoes\": (\n",
        "                \"Conclus\u00f5es sobre a atra\u00e7\u00e3o: para qual perfil de turista \u00e9 mais indicada, \"\n",
        "                \"se \u00e9 imperd\u00edvel ou opcional, pr\u00f3s e contras.\"\n",
        "            ),\n",
        "            \"fontes_consultadas\": [\n",
        "                \"https://www.wikipedia.org/wiki/AtracaoExemplo1\",\n",
        "                \"https://www.tripadvisor.com/AtracaoExemplo1Review\"\n",
        "            ],\n",
        "            \"insights_adicionais\": (\n",
        "                \"Qualquer insight extra gerado, como: 'A compra de ingressos online \"\n",
        "                \"evita filas significativas.' ou 'Ideal para visitar em dias de semana \"\n",
        "                \"pela manh\u00e3 para uma experi\u00eancia mais tranquila.'\"\n",
        "            )\n",
        "        },\n",
        "        {\n",
        "            \"nome_atracao\": \"Nome da Atra\u00e7\u00e3o Exemplo 2\",\n",
        "            \"dados_brutos\": { # Preencha com dados da segunda atra\u00e7\u00e3o\n",
        "                \"Localiza\u00e7\u00e3o\": \"...\",\n",
        "                \"Hor\u00e1rio de Funcionamento\": \"...\",\n",
        "            },\n",
        "            \"analise_detalhada\": \"...\",\n",
        "            \"conclusoes_recomendacoes\": \"...\",\n",
        "            \"fontes_consultadas\": [\"...\"],\n",
        "            \"insights_adicionais\": \"...\"\n",
        "        }\n",
        "        # Adicione mais dicion\u00e1rios de atra\u00e7\u00f5es conforme necess\u00e1rio\n",
        "    ],\n",
        "    \"resumo_executivo_pesquisa\": (\n",
        "        \"Um breve resumo das principais descobertas, tend\u00eancias observadas \"\n",
        "        \"e as atra\u00e7\u00f5es mais promissoras identificadas.\"\n",
        "    ),\n",
        "    \"consideracoes_para_organizador_roteiro\": (\n",
        "        \"Sugest\u00f5es e pontos de aten\u00e7\u00e3o para o Agente Organizador de Roteiro, \"\n",
        "        \"como: 'Considerar o tempo de deslocamento entre as atra\u00e7\u00f5es X e Y.' \"\n",
        "        \"ou 'Verificar eventos especiais durante o per\u00edodo da viagem.'\"\n",
        "    )\n",
        "}\n",
        "# --- FIM: Adapte esta se\u00e7\u00e3o com os dados reais da sua pesquisa ---\n",
        "\n",
        "# Constru\u00e7\u00e3o do conte\u00fado em formato Markdown\n",
        "markdown_output = []\n",
        "\n",
        "markdown_output.append(f\"# {dados_compilados.get('titulo_pesquisa', 'Resultados da Pesquisa de Atra\u00e7\u00f5es')}\")\n",
        "markdown_output.append(f\"\\n**Data da Pesquisa (Execu\u00e7\u00e3o do Agente):** {dados_compilados.get('data_execucao_pesquisa', 'N\u00e3o especificada')}\")\n",
        "markdown_output.append(f\"**Data de Gera\u00e7\u00e3o deste Relat\u00f3rio:** {dados_compilados.get('data_geracao_relatorio_utc')} / {dados_compilados.get('data_geracao_relatorio_brasilia')}\\n\")\n",
        "\n",
        "markdown_output.append(f\"## Introdu\u00e7\u00e3o\\n{dados_compilados.get('introducao', 'Introdu\u00e7\u00e3o n\u00e3o fornecida.')}\\n\")\n",
        "\n",
        "if dados_compilados.get('atracoes_pesquisadas'):\n",
        "    markdown_output.append(\"## Detalhamento das Atra\u00e7\u00f5es Pesquisadas\")\n",
        "    for atracao in dados_compilados['atracoes_pesquisadas']:\n",
        "        markdown_output.append(f\"\\n### {atracao.get('nome_atracao', 'Atra\u00e7\u00e3o Sem Nome')}\")\n",
        "\n",
        "        if atracao.get('dados_brutos'):\n",
        "            markdown_output.append(\"\\n#### Dados Brutos / Informa\u00e7\u00f5es Essenciais\")\n",
        "            for chave, valor in atracao['dados_brutos'].items():\n",
        "                if isinstance(valor, str) and valor.startswith(\"http\"):\n",
        "                    markdown_output.append(f\"- **{chave}:** [{valor}]({valor})\")\n",
        "                else:\n",
        "                    markdown_output.append(f\"- **{chave}:** {valor}\")\n",
        "\n",
        "        markdown_output.append(f\"\\n#### An\u00e1lise Detalhada\\n{atracao.get('analise_detalhada', 'N/A')}\")\n",
        "        markdown_output.append(f\"\\n#### Conclus\u00f5es e Recomenda\u00e7\u00f5es\\n{atracao.get('conclusoes_recomendacoes', 'N/A')}\")\n",
        "\n",
        "        if atracao.get('fontes_consultadas'):\n",
        "            markdown_output.append(\"\\n##### Fontes Consultadas:\")\n",
        "            for fonte in atracao['fontes_consultadas']:\n",
        "                markdown_output.append(f\"- [{fonte}]({fonte})\") # Formata como link clic\u00e1vel\n",
        "\n",
        "        markdown_output.append(f\"\\n##### Insights Adicionais\\n{atracao.get('insights_adicionais', 'Nenhum insight adicional.')}\\n\")\n",
        "\n",
        "markdown_output.append(f\"## Resumo Executivo da Pesquisa\\n{dados_compilados.get('resumo_executivo_pesquisa', 'Resumo n\u00e3o fornecido.')}\\n\")\n",
        "markdown_output.append(f\"## Considera\u00e7\u00f5es para o Agente Organizador de Roteiro\\n{dados_compilados.get('consideracoes_para_organizador_roteiro', 'Nenhuma considera\u00e7\u00e3o espec\u00edfica.')}\\n\")\n",
        "\n",
        "conteudo_final_markdown = \"\\n\".join(markdown_output)\n",
        "\n",
        "# Especifica\u00e7\u00f5es do arquivo de sa\u00edda\n",
        "nome_arquivo = \"pesquisa_agente.md\"\n",
        "localizacao_arquivo = f\"/content/{nome_arquivo}\" # Diretamente na raiz do /content/\n",
        "\n",
        "# Comando para salvar o arquivo\n",
        "try:\n",
        "    with open(localizacao_arquivo, \"w\", encoding=\"utf-8\") as f:\n",
        "        f.write(conteudo_final_markdown)\n",
        "    print(f\"Arquivo '{localizacao_arquivo}' gerado com sucesso! \ud83c\udf89\")\n",
        "except Exception as e:\n",
        "    print(f\"Ocorreu um erro ao tentar salvar o arquivo '{localizacao_arquivo}': {e} \ud83d\ude25\")\n"
      ],
      "metadata": {
        "id": "eWd_1_Kzsahf"
      },
      "execution_count": null,
      "outputs": []
    },
    {
      "cell_type": "code",
      "metadata": {},
      "source": [
        "import json\n",
        "\n",
        "# Salva todos os dados de atra\u00e7\u00f5es em um arquivo JSON\n",
        "output_filename = \"atracoes_pesquisadas.json\"\n",
        "with open(output_filename, \"w\", encoding=\"utf-8\") as f:\n",
        "    json.dump(agente.all_attractions_data, f, ensure_ascii=False, indent=4)\n",
        "\n",
        "print(f\"Dados salvos em {output_filename}\")\n"
      ]
    }
  ]
}