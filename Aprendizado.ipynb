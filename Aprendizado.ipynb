{
  "nbformat": 4,
  "nbformat_minor": 0,
  "metadata": {
    "colab": {
      "provenance": [],
      "include_colab_link": true
    },
    "kernelspec": {
      "name": "python3",
      "display_name": "Python 3"
    },
    "language_info": {
      "name": "python"
    }
  },
  "cells": [
    {
      "cell_type": "markdown",
      "metadata": {
        "id": "view-in-github",
        "colab_type": "text"
      },
      "source": [
        "<a href=\"https://colab.research.google.com/github/emello23/Alura-Gemini/blob/main/Aprendizado.ipynb\" target=\"_parent\"><img src=\"https://colab.research.google.com/assets/colab-badge.svg\" alt=\"Open In Colab\"/></a>"
      ]
    },
    {
      "cell_type": "markdown",
      "source": [
        "\n",
        "\n",
        "\"\"\"\n",
        "Script para extrair texto de um PDF, gerar resumo e tópicos com a API do Gemini\n",
        "e criar um chatbot para interagir com o conteúdo.\n",
        "\"\"\""
      ],
      "metadata": {
        "id": "ENtx9IF7x7jX"
      }
    },
    {
      "cell_type": "code",
      "source": [],
      "metadata": {
        "id": "KvjdxxJooi_y"
      },
      "execution_count": 11,
      "outputs": []
    },
    {
      "cell_type": "markdown",
      "source": [],
      "metadata": {
        "id": "9AprP9CDqZpD"
      }
    },
    {
      "cell_type": "code",
      "source": [
        "# Montar o Google Drive\n",
        "from google.colab import drive\n",
        "drive.mount('/content/drive')"
      ],
      "metadata": {
        "id": "s5dYG2kDdbZ_",
        "colab": {
          "base_uri": "https://localhost:8080/",
          "height": 0
        },
        "outputId": "c3594247-f3de-4ab1-f3a4-0032abace6c2"
      },
      "execution_count": 12,
      "outputs": [
        {
          "output_type": "stream",
          "name": "stdout",
          "text": [
            "Drive already mounted at /content/drive; to attempt to forcibly remount, call drive.mount(\"/content/drive\", force_remount=True).\n"
          ]
        }
      ]
    },
    {
      "cell_type": "code",
      "source": [
        "# Instalar/Atualizar as bibliotecas necessárias\n",
        "!pip install --upgrade google-genai PyMuPDF\n"
      ],
      "metadata": {
        "id": "lGCELBEr-InA",
        "collapsed": true,
        "colab": {
          "base_uri": "https://localhost:8080/",
          "height": 0
        },
        "outputId": "75369451-1ca2-473a-ea33-5a21fcd26a1a"
      },
      "execution_count": 13,
      "outputs": [
        {
          "output_type": "stream",
          "name": "stdout",
          "text": [
            "Requirement already satisfied: google-genai in /usr/local/lib/python3.11/dist-packages (1.15.0)\n",
            "Requirement already satisfied: PyMuPDF in /usr/local/lib/python3.11/dist-packages (1.25.5)\n",
            "Requirement already satisfied: anyio<5.0.0,>=4.8.0 in /usr/local/lib/python3.11/dist-packages (from google-genai) (4.9.0)\n",
            "Requirement already satisfied: google-auth<3.0.0,>=2.14.1 in /usr/local/lib/python3.11/dist-packages (from google-genai) (2.38.0)\n",
            "Requirement already satisfied: httpx<1.0.0,>=0.28.1 in /usr/local/lib/python3.11/dist-packages (from google-genai) (0.28.1)\n",
            "Requirement already satisfied: pydantic<3.0.0,>=2.0.0 in /usr/local/lib/python3.11/dist-packages (from google-genai) (2.11.4)\n",
            "Requirement already satisfied: requests<3.0.0,>=2.28.1 in /usr/local/lib/python3.11/dist-packages (from google-genai) (2.32.3)\n",
            "Requirement already satisfied: websockets<15.1.0,>=13.0.0 in /usr/local/lib/python3.11/dist-packages (from google-genai) (15.0.1)\n",
            "Requirement already satisfied: typing-extensions<5.0.0,>=4.11.0 in /usr/local/lib/python3.11/dist-packages (from google-genai) (4.13.2)\n",
            "Requirement already satisfied: idna>=2.8 in /usr/local/lib/python3.11/dist-packages (from anyio<5.0.0,>=4.8.0->google-genai) (3.10)\n",
            "Requirement already satisfied: sniffio>=1.1 in /usr/local/lib/python3.11/dist-packages (from anyio<5.0.0,>=4.8.0->google-genai) (1.3.1)\n",
            "Requirement already satisfied: cachetools<6.0,>=2.0.0 in /usr/local/lib/python3.11/dist-packages (from google-auth<3.0.0,>=2.14.1->google-genai) (5.5.2)\n",
            "Requirement already satisfied: pyasn1-modules>=0.2.1 in /usr/local/lib/python3.11/dist-packages (from google-auth<3.0.0,>=2.14.1->google-genai) (0.4.2)\n",
            "Requirement already satisfied: rsa<5,>=3.1.4 in /usr/local/lib/python3.11/dist-packages (from google-auth<3.0.0,>=2.14.1->google-genai) (4.9.1)\n",
            "Requirement already satisfied: certifi in /usr/local/lib/python3.11/dist-packages (from httpx<1.0.0,>=0.28.1->google-genai) (2025.4.26)\n",
            "Requirement already satisfied: httpcore==1.* in /usr/local/lib/python3.11/dist-packages (from httpx<1.0.0,>=0.28.1->google-genai) (1.0.9)\n",
            "Requirement already satisfied: h11>=0.16 in /usr/local/lib/python3.11/dist-packages (from httpcore==1.*->httpx<1.0.0,>=0.28.1->google-genai) (0.16.0)\n",
            "Requirement already satisfied: annotated-types>=0.6.0 in /usr/local/lib/python3.11/dist-packages (from pydantic<3.0.0,>=2.0.0->google-genai) (0.7.0)\n",
            "Requirement already satisfied: pydantic-core==2.33.2 in /usr/local/lib/python3.11/dist-packages (from pydantic<3.0.0,>=2.0.0->google-genai) (2.33.2)\n",
            "Requirement already satisfied: typing-inspection>=0.4.0 in /usr/local/lib/python3.11/dist-packages (from pydantic<3.0.0,>=2.0.0->google-genai) (0.4.0)\n",
            "Requirement already satisfied: charset-normalizer<4,>=2 in /usr/local/lib/python3.11/dist-packages (from requests<3.0.0,>=2.28.1->google-genai) (3.4.2)\n",
            "Requirement already satisfied: urllib3<3,>=1.21.1 in /usr/local/lib/python3.11/dist-packages (from requests<3.0.0,>=2.28.1->google-genai) (2.4.0)\n",
            "Requirement already satisfied: pyasn1<0.7.0,>=0.6.1 in /usr/local/lib/python3.11/dist-packages (from pyasn1-modules>=0.2.1->google-auth<3.0.0,>=2.14.1->google-genai) (0.6.1)\n"
          ]
        }
      ]
    },
    {
      "cell_type": "code",
      "source": [
        "import os\n",
        "from google.colab import userdata\n",
        "from google import genai\n",
        "from google.genai import types # Importação ativa\n",
        "import fitz  # Importa a biblioteca PyMuPDF"
      ],
      "metadata": {
        "id": "Du_leth3cD3v"
      },
      "execution_count": 14,
      "outputs": []
    },
    {
      "cell_type": "code",
      "source": [
        "# Importa classes do módulo IPython.display para formatar a saída no notebook.\n",
        "# - HTML: Permite exibir conteúdo HTML diretamente.\n",
        "# - Markdown: Permite exibir conteúdo formatado em Markdown.\n",
        "\n",
        "from IPython.display import HTML, Markdown"
      ],
      "metadata": {
        "id": "8Cq1z9zkk14A"
      },
      "execution_count": 15,
      "outputs": []
    },
    {
      "cell_type": "code",
      "source": [
        "# Configurar a chave da API\n",
        "os.environ['GOOGLE_API_KEY'] = userdata.get('GOOGLE_API_KEY')\n",
        "client = genai.Client()"
      ],
      "metadata": {
        "id": "vqkXAdE8cJxT"
      },
      "execution_count": 16,
      "outputs": []
    },
    {
      "cell_type": "code",
      "source": [
        "# Definir o modelo a ser usado\n",
        "modelo = \"gemini-2.0-flash\"\n"
      ],
      "metadata": {
        "id": "gL-FVrZVcX38"
      },
      "execution_count": 17,
      "outputs": []
    },
    {
      "cell_type": "code",
      "source": [
        "# --- PARTE ONDE VOCÊ CARREGA O PDF ---\n",
        "# Atualize o caminho do PDF para apontar para o seu arquivo no Google Drive\n",
        "# Alternativa: Coloque o arquivo na sua pasta raiz do My Drive\n",
        "#              e renomei-o para aprendizado.pdf mantendo este mesmo caminho.\n",
        "caminho_do_pdf = \"/content/drive/My Drive/aprendizado.pdf\" # <-- ATUALIZE ESTA LINHA COM O CAMINHO CORRETO'"
      ],
      "metadata": {
        "id": "4WNFIXhQl0Ff"
      },
      "execution_count": 18,
      "outputs": []
    },
    {
      "cell_type": "code",
      "source": [
        "def extrair_texto_de_pdf(caminho_do_arquivo):\n",
        "    \"\"\"Extrai texto de um arquivo PDF.\"\"\"\n",
        "    texto_completo = \"\"\n",
        "    try:\n",
        "        documento = fitz.open(caminho_do_arquivo)\n",
        "        for pagina_num in range(documento.page_count):\n",
        "            pagina = documento.load_page(pagina_num)\n",
        "            texto_completo += pagina.get_text()\n",
        "        documento.close()\n",
        "    except Exception as e:\n",
        "        print(f\"Erro ao extrair texto do PDF: {e}\")\n",
        "        texto_completo = None # Retorna None em caso de erro\n",
        "    return texto_completo\n",
        "\n"
      ],
      "metadata": {
        "id": "SVIA1oYHcj1g"
      },
      "execution_count": 19,
      "outputs": []
    },
    {
      "cell_type": "code",
      "source": [
        "texto_do_pdf = extrair_texto_de_pdf(caminho_do_pdf)\n",
        "\n"
      ],
      "metadata": {
        "id": "aRPFYuJscmC2",
        "collapsed": true
      },
      "execution_count": 20,
      "outputs": []
    },
    {
      "cell_type": "code",
      "source": [
        " Inglaterra\n",
        ""
      ],
      "metadata": {
        "id": "iO2673OTsisK"
      },
      "execution_count": null,
      "outputs": []
    },
    {
      "cell_type": "code",
      "source": [
        "if texto_do_pdf: # Verifica se a extração do texto foi bem-sucedida\n",
        "    # --- Alteração aqui para imprimir em Markdown ---\n",
        "    display(Markdown(\"## Texto extraído do PDF (primeiros 500 caracteres):\"))\n",
        "    print(texto_do_pdf[:500] + \"...\") # Este print pode permanecer, pois é um trecho longo\n",
        "    # --- Fim da alteração ---\n",
        "\n",
        "    # --- USANDO GEMINI PARA AJUDAR COM RESUMO E TÓPICOS ---\n",
        "    # Gerar um resumo inicial\n",
        "    try:\n",
        "        response_resumo = client.models.generate_content(\n",
        "            model=modelo,\n",
        "            contents=f\"Por favor, gere um resumo conciso do seguinte texto:\\n\\n{texto_do_pdf}\"\n",
        "        )\n",
        "        if response_resumo and response_resumo.text: # Verifica se a resposta e o texto existem\n",
        "            resumo = response_resumo.text\n",
        "            # --- Alteração aqui para imprimir em Markdown ---\n",
        "            display(Markdown(\"## Resumo gerado pelo Gemini:\"))\n",
        "            display(Markdown(resumo))\n",
        "            # --- Fim da alteração ---\n",
        "        else:\n",
        "            # --- Alteração aqui para imprimir em Markdown ---\n",
        "            display(Markdown(\"## Não foi possível gerar um resumo.\"))\n",
        "            # --- Fim da alteração ---\n",
        "    except Exception as e:\n",
        "        print(f\"Erro ao gerar resumo: {e}\")\n",
        "\n",
        "\n",
        "    # Tentar identificar tópicos principais\n",
        "    try:\n",
        "        response_topicos = client.models.generate_content(\n",
        "            model=modelo,\n",
        "            contents=f\"Por favor, liste os principais tópicos e sub-tópicos (numerados se possível) encontrados no seguinte texto:\\n\\n{texto_do_pdf}\"\n",
        "        )\n",
        "        if response_topicos and response_topicos.text: # Verifica se a resposta e o texto existem\n",
        "            topicos_identificados = response_topicos.text\n",
        "            # --- Alteração aqui para imprimir em Markdown ---\n",
        "            display(Markdown(\"## Tópicos identificados pelo Gemini:\"))\n",
        "            display(Markdown(topicos_identificados))\n",
        "            # --- Fim da alteração ---\n",
        "        else:\n",
        "             # --- Alteração aqui para imprimir em Markdown ---\n",
        "            display(Markdown(\"## Não foi possível identificar tópicos.\"))\n",
        "            # --- Fim da alteração ---\n",
        "    except Exception as e:\n",
        "        print(f\"Erro ao identificar tópicos: {e}\")\n",
        "\n",
        "    # --- PARTE DO CHATBOT ---\n",
        "    # --- Alterações aqui para imprimir em Markdown ---\n",
        "    display(Markdown(\"## Ok! Vamos aprender sobre o conteúdo do documento.\"))\n",
        "    display(Markdown(\"Eu farei perguntas sobre o conteúdo do documento. Tente respondê-las!\"))\n",
        "    display(Markdown(\"Digite 'fim' para encerrar o chat.\"))\n",
        "    display(Markdown(\"Desconsidere a 'Pergunta 1:' digitando 'OK'\"))\n",
        "    display(Markdown(\"### Vamos começar!\"))\n",
        "    # --- Fim das alterações ---\n",
        "\n",
        "    # Abordagem para gerar perguntas\n",
        "    try:\n",
        "        response_perguntas = client.models.generate_content(\n",
        "            model=modelo,\n",
        "            contents=f\"Com base no seguinte texto, gere 10 perguntas sobre o seu conteúdo para que um usuário possa respondê-las. Liste as perguntas numeradas.\\n\\n{texto_do_pdf}\"\n",
        "        )\n",
        "\n",
        "        if response_perguntas and response_perguntas.text: # Verifica se a resposta e o texto existem\n",
        "            perguntas_geradas = response_perguntas.text.split('\\n') # Divide as perguntas em uma lista\n",
        "            # Filtra linhas vazias e numerações que não são perguntas válidas\n",
        "            perguntas_validas = [p.strip() for p in perguntas_geradas if p.strip() and any(char.isdigit() for char in p.strip().split('.')[0])]\n",
        "\n",
        "\n",
        "            if not perguntas_validas:\n",
        "                 # --- Alteração aqui para imprimir em Markdown ---\n",
        "                display(Markdown(\"## Não foi possível gerar perguntas a partir do PDF.\"))\n",
        "                 # --- Fim da alteração ---\n",
        "            else:\n",
        "                indice_pergunta_atual = 0\n",
        "\n",
        "                while indice_pergunta_atual < len(perguntas_validas):\n",
        "                    pergunta_atual = perguntas_validas[indice_pergunta_atual]\n",
        "                     # --- Alteração aqui para imprimir em Markdown ---\n",
        "                    display(Markdown(f\"### Pergunta {indice_pergunta_atual + 1}: {pergunta_atual}\"))\n",
        "                    # --- Fim da alteração ---\n",
        "\n",
        "                    resposta_usuario = input(\"Sua resposta: \")\n",
        "\n",
        "                    if resposta_usuario.lower() == \"fim\":\n",
        "                        print(\"Chat encerrado. Até a próxima!\") # Este print pode permanecer\n",
        "                        break\n",
        "\n",
        "                    # Usar o Gemini para avaliar a resposta do usuário\n",
        "                    try:\n",
        "                        chat_avaliacao_config = types.GenerateContentConfig(\n",
        "                          system_instruction = f\"Você é um avaliador de respostas baseado no seguinte texto. A pergunta foi: '{pergunta_atual}'. Avalie a resposta do usuário ('{resposta_usuario}') com base no texto original e diga se ela está correta, incorreta ou parcialmente correta, explicando brevemente por que. O texto original é:\\n\\n{texto_do_pdf}\"\n",
        "                        )\n",
        "                        chat_avaliacao = client.chats.create(model=modelo, config=chat_avaliacao_config)\n",
        "                        response_avaliacao = chat_avaliacao.send_message(f\"Pergunta: {pergunta_atual}\\nResposta do usuário: {resposta_usuario}\")\n",
        "\n",
        "                        if response_avaliacao and response_avaliacao.text: # Verifica se a resposta e o texto existem\n",
        "                             # --- Alteração aqui para imprimir em Markdown ---\n",
        "                            display(Markdown(\"### Avaliação do Gemini: \"))\n",
        "                            display(Markdown(response_avaliacao.text))\n",
        "                             # --- Fim da alteração ---\n",
        "                        else:\n",
        "                             # --- Alteração aqui para imprimir em Markdown ---\n",
        "                            display(Markdown(\"## Não foi possível avaliar a resposta.\"))\n",
        "                            # --- Fim da alteração ---\n",
        "\n",
        "                    except Exception as e:\n",
        "                        print(f\"Erro ao avaliar a resposta: {e}\")\n",
        "\n",
        "                    indice_pergunta_atual += 1 # Passa para a próxima pergunta\n",
        "\n",
        "                if indice_pergunta_atual == len(perguntas_validas):\n",
        "                   # --- Alteração aqui para imprimir em Markdown ---\n",
        "                   display(Markdown(\"\\n## Você respondeu a todas as perguntas. Chat encerrado. Até a próxima!\"))\n",
        "                   # --- Fim da alteração ---\n",
        "        else:\n",
        "             # --- Alteração aqui para imprimir em Markdown ---\n",
        "            display(Markdown(\"## Não foi possível gerar perguntas a partir do PDF.\"))\n",
        "            # --- Fim da alteração ---\n",
        "    except Exception as e:\n",
        "        print(f\"Erro ao gerar perguntas ou executar o loop do chatbot: {e}\")\n",
        "\n",
        "else:\n",
        "     # --- Alteração aqui para imprimir em Markdown ---\n",
        "    display(Markdown(\"## Não foi possível prosseguir porque a extração do texto do PDF falhou.\"))\n",
        "    # --- Fim da alteração ---"
      ],
      "metadata": {
        "colab": {
          "base_uri": "https://localhost:8080/",
          "height": 2898
        },
        "id": "SfZMyLJtnNvh",
        "outputId": "31fafcc1-8c7e-4b03-a3ab-5d6c0f9027cf"
      },
      "execution_count": 22,
      "outputs": [
        {
          "output_type": "display_data",
          "data": {
            "text/plain": [
              "<IPython.core.display.Markdown object>"
            ],
            "text/markdown": "## Texto extraído do PDF (primeiros 500 caracteres):"
          },
          "metadata": {}
        },
        {
          "output_type": "stream",
          "name": "stdout",
          "text": [
            "Aula2\n",
            "Lenalda Andrade Santos\n",
            "A REVOLUÇÃO FRANCESA\n",
            "META\n",
            "Revisar e aprofundar o estudo do movimento que se transformou no modelo clássico de \n",
            "revolução burguesa. \n",
            "OBJETIVOS\n",
            "Ao ﬁ nal desta aula, o aluno deverá:\n",
            "Analisar a Revolução Francesa como um evento capital de toda a \n",
            "história do mundo moderno.\n",
            "Identiﬁ car a contribuição do movimento revolucionário francês para o ﬁ m da\n",
            " antiga ordem feudal-absolutista.\n",
            "Indicar bibliograﬁ a que permita aos alunos aprofundarem o estudo do tema \n",
            "das revoluções ...\n"
          ]
        },
        {
          "output_type": "display_data",
          "data": {
            "text/plain": [
              "<IPython.core.display.Markdown object>"
            ],
            "text/markdown": "## Resumo gerado pelo Gemini:"
          },
          "metadata": {}
        },
        {
          "output_type": "display_data",
          "data": {
            "text/plain": [
              "<IPython.core.display.Markdown object>"
            ],
            "text/markdown": "Este texto da Aula 2 revisa e aprofunda o estudo da Revolução Francesa como um modelo de revolução burguesa. Analisa a França pré-revolucionária, a estrutura social do Antigo Regime e os fatores que levaram à convocação dos Estados Gerais. Apresenta as diferentes fases da Revolução, desde a tomada da Bastilha até o período napoleônico, destacando suas contribuições sociais, econômicas, políticas, religiosas e culturais. Discute o papel da burguesia no movimento e na sociedade pós-revolucionária, mencionando a Declaração dos Direitos do Homem e do Cidadão e as diferentes interpretações sobre a natureza da Revolução. Conclui que a Revolução Francesa foi o resultado da confluência de quatro movimentos distintos e que, embora a burguesia tenha sido a classe dominante, o movimento revolucionário não deve ser considerada apenas uma revolução burguesa.\n"
          },
          "metadata": {}
        },
        {
          "output_type": "display_data",
          "data": {
            "text/plain": [
              "<IPython.core.display.Markdown object>"
            ],
            "text/markdown": "## Tópicos identificados pelo Gemini:"
          },
          "metadata": {}
        },
        {
          "output_type": "display_data",
          "data": {
            "text/plain": [
              "<IPython.core.display.Markdown object>"
            ],
            "text/markdown": "Com prazer! Aqui está a lista dos principais tópicos e sub-tópicos encontrados no texto \"Aula 2: A Revolução Francesa\", organizada para facilitar a compreensão:\n\n**I. INTRODUÇÃO**\n    *   Importância histórica da Revolução Francesa (citação de Hobsbawm)\n    *   Objetivo da aula: apresentar diferentes abordagens da revolução.\n\n**II. A FRANÇA ÀS VÉSPERAS DA REVOLUÇÃO**\n    *   Controle da burguesia sobre as finanças, comércio e indústria\n    *   Monopólio da nobreza nos altos cargos e privilégios\n    *   Crescimento da burguesia: poder econômico, participação política e consciência de classe.\n    *   Difusão das teorias iluministas e novos valores burgueses.\n    *   Interesse da burguesia em consolidar o trabalho assalariado e formar um mercado consumidor interno.\n    *   Problemas na estrutura fundiária e no fornecimento de matérias-primas.\n    *   Regulamentações das corporações de ofício que limitavam o crescimento da indústria.\n    *   Aliança entre a burguesia e os camponeses para lutar contra o Antigo Regime.\n\n**III. A SOCIEDADE DO ANTIGO REGIME**\n    *   Divisão em três estados:\n        1.  **Primeiro Estado:** Clero\n            *   Alto clero (privilegiado)\n            *   Baixo clero (simpatizante dos revolucionários)\n        2.  **Segundo Estado:** Nobreza\n            *   Nobreza palaciana (corte em Versalhes)\n            *   Nobreza provincial (privilégios feudais)\n            *   Nobreza de toga (burgueses com títulos)\n        3.  **Terceiro Estado:** Restante da população (camponeses, burguesia, camadas populares)\n    *   Isenção de impostos e privilégios do clero e da nobreza.\n    *   Reivindicações do Terceiro Estado: extinção dos privilégios e igualdade civil.\n    *   Monarquia absolutista e teoria do \"direito divino\" dos reis.\n    *   Repúdio às instituições francesas e influência do Iluminismo.\n\n**IV. A CONVOCAÇÃO DOS ESTADOS GERAIS**\n    *   Crise e convocação dos Estados Gerais por Luís XVI (instituição consultiva).\n    *   Sistema de votação por Estado (desvantagem para o Terceiro Estado).\n    *   Panfletos da burguesia e reuniões públicas.\n    *   Cahiers de doléances (cadernos de lamentações):\n        1.  Número de representantes do Terceiro Estado igual ao dos outros dois somados.\n        2.  Votação por cabeça e não por Estado.\n    *   Aceitação de dobrar o número de representantes do Terceiro Estado, mas não do voto por cabeça.\n\n**V. COM A CABEÇA DE LUÍS XVI ROLOU UM MUNDO INTEIRO**\n    *   Repercussões da Revolução Francesa na Europa\n    *   Organização de \"partidos\" jacobinos em outros países\n    *   Divisão da Revolução Francesa em cinco fases:\n        1.  Inspiração no parlamentarismo inglês\n        2.  Tomada da Bastilha e intervenção da plebe\n        3.  Ditadura jacobina e o Terror\n            *   Transformação dos jacobinos em organização política estruturada\n            *   Consolidação das conquistas da Revolução\n            *   Confisco e venda das terras da Igreja e da nobreza\n            *   Criação do exército nacional\n        4.  Queda de Robespierre e o golpe de Termidor\n        5.  Ascensão de Napoleão Bonaparte e o golpe de 18 Brumário\n    *   Contribuições da Revolução Francesa:\n        1.  Sociais: fim do feudalismo, igualdade de direitos, direito das minorias.\n        2.  Econômicas: abolição dos privilégios das corporações, anulação dos monopólios comerciais.\n        3.  Políticas: destruição da teoria do direito divino, experiência de governo democrático.\n        4.  Religiosas: tolerância religiosa, separação entre Estado e Igreja.\n        5.  Culturais: instrução pública como obrigação do Estado, sistema de educação em massa.\n\n**VI. A QUEDA DA BASTILHA**\n    *   Armamento da população e problemas de pobreza e fome em Paris.\n    *   Tomada da Bastilha em 14 de julho de 1789 (símbolo do absolutismo).\n    *   Início oficial da Revolução Francesa com a participação das massas trabalhadoras.\n\n**VII. A REVOLUÇÃO FRANCESA**\n    *   Luta contra o despotismo e os privilégios em nome da liberdade e da igualdade.\n    *   Condições favoráveis na França: despotismo minado, servidão feudal contestada, burguesia com progresso sem compensação política.\n    *   Propaganda estrangeira e oposição aos déspotas.\n    *   A igualdade como princípio fundamental da Revolução.\n    *   A Revolução conquistou o mundo: fim dos despotismos, multiplicação das constituições, libertação dos povos oprimidos.\n    *   Aproveitamento da Revolução pela burguesia: substituição da aristocracia na administração pública, benefício das vendas de bens nacionalizados.\n    *   Injustiça em relação ao povo, que não obteve sua parte completa na Revolução.\n    *   Horrores da Revolução: guerra, desprezo pelos princípios, volta do despotismo, desigualdade social.\n    *   Princípios como religião mística, exaltação do patriotismo.\n\n**VIII. O SIGNIFICADO DA REVOLUÇÃO (Hannah Arendt)**\n    *   Análise do momento em que a palavra \"revolução\" ganha nova conotação (irresistibilidade).\n    *   Diálogo entre Luís XVI e o duque de Liancourt sobre a Queda da Bastilha.\n    *   Ênfase na irresistibilidade do movimento revolucionário.\n    *   Aparecimento da multidão dos pobres e oprimidos em plena luz do dia.\n    *   Abertura do domínio público aos que não eram livres, presos às necessidades do dia a dia.\n\n**IX. REVOLUÇÕES INGLESA E FRANCESA**\n    *   Criação dos instrumentos institucionais e intelectuais que permitiram à burguesia o exercício da dominação social e da hegemonia política.\n    *   Revolução Inglesa: conquista da liberdade civil e política.\n    *   Revolução Francesa: acrescentou a ideia de igualdade social e democracia política.\n    *   A burguesia renunciou à ideia de revolução e se aliou às forças do Antigo Regime.\n    *   Lutas da classe operária obrigaram os Estados liberais a se transformarem em Estados liberais e democráticos.\n    *   A burguesia não foi a classe que iniciou, conduziu e levou a bom termo a revolução e suas conquistas.\n\n**X. A RELIGIÃO PRIVADA CONTRA O ESTADO**\n    *   Efeitos da Revolução sobre a vida privada.\n    *   Ataque do Estado aos poderes das comunidades do Antigo Regime.\n    *   Luta contra a Igreja Católica:\n        *   Conflito entre crenças privadas e cerimônias públicas.\n        *   Conflisco dos bens eclesiásticos e Constituição Civil do clero.\n        *   Controle do Estado sobre o culto religioso.\n        *   Concordata de 1801: Napoleão renunciou ao controle tirânico do Estado.\n\n**XI. DECLARAÇÃO DOS DIREITOS DO HOMEM E DO CIDADÃO: 26 DE AGOSTO DE 1789**\n    *   Apresentação dos artigos da Declaração, com ênfase nos direitos naturais, inalienáveis e sagrados do homem.\n\n**XII. CONCLUSÃO**\n    *   A Revolução Francesa como confluência de quatro movimentos distintos: aristocrático, burguês, camponês e do proletariado urbano.\n    *   O processo revolucionário começou em 1787 com a revolta da aristocracia.\n    *   Importância da revolta dos camponeses e da contrarrevolução da aristocracia.\n\n**XIII. ATIVIDADES**\n\n**XIV. PRÓXIMA AULA**\n\n**XV. REFERÊNCIAS**\n\n**XVI. RESUMO**\n\nEspero que esta organização seja útil! Se precisar de mais alguma coisa, é só pedir."
          },
          "metadata": {}
        },
        {
          "output_type": "display_data",
          "data": {
            "text/plain": [
              "<IPython.core.display.Markdown object>"
            ],
            "text/markdown": "## Ok! Vamos aprender sobre o conteúdo do documento."
          },
          "metadata": {}
        },
        {
          "output_type": "display_data",
          "data": {
            "text/plain": [
              "<IPython.core.display.Markdown object>"
            ],
            "text/markdown": "Eu farei perguntas sobre o conteúdo do documento. Tente respondê-las!"
          },
          "metadata": {}
        },
        {
          "output_type": "display_data",
          "data": {
            "text/plain": [
              "<IPython.core.display.Markdown object>"
            ],
            "text/markdown": "Digite 'fim' para encerrar o chat."
          },
          "metadata": {}
        },
        {
          "output_type": "display_data",
          "data": {
            "text/plain": [
              "<IPython.core.display.Markdown object>"
            ],
            "text/markdown": "Desconsidere a 'Pergunta 1:' digitando 'OK'"
          },
          "metadata": {}
        },
        {
          "output_type": "display_data",
          "data": {
            "text/plain": [
              "<IPython.core.display.Markdown object>"
            ],
            "text/markdown": "### Vamos começar!"
          },
          "metadata": {}
        },
        {
          "output_type": "display_data",
          "data": {
            "text/plain": [
              "<IPython.core.display.Markdown object>"
            ],
            "text/markdown": "### Pergunta 1: Aqui estão 10 perguntas sobre o conteúdo do texto fornecido:"
          },
          "metadata": {}
        },
        {
          "name": "stdout",
          "output_type": "stream",
          "text": [
            "Sua resposta: ok\n"
          ]
        },
        {
          "output_type": "display_data",
          "data": {
            "text/plain": [
              "<IPython.core.display.Markdown object>"
            ],
            "text/markdown": "### Avaliação do Gemini: "
          },
          "metadata": {}
        },
        {
          "output_type": "display_data",
          "data": {
            "text/plain": [
              "<IPython.core.display.Markdown object>"
            ],
            "text/markdown": "A resposta está **incorreta**. O usuário simplesmente respondeu \"ok\" em vez de responder às 10 perguntas sobre o texto fornecido.\n"
          },
          "metadata": {}
        },
        {
          "output_type": "display_data",
          "data": {
            "text/plain": [
              "<IPython.core.display.Markdown object>"
            ],
            "text/markdown": "### Pergunta 2: 1.  Qual é a principal meta da aula sobre a Revolução Francesa?"
          },
          "metadata": {}
        },
        {
          "name": "stdout",
          "output_type": "stream",
          "text": [
            "Sua resposta: Derrubar a nobreza\n"
          ]
        },
        {
          "output_type": "display_data",
          "data": {
            "text/plain": [
              "<IPython.core.display.Markdown object>"
            ],
            "text/markdown": "### Avaliação do Gemini: "
          },
          "metadata": {}
        },
        {
          "output_type": "display_data",
          "data": {
            "text/plain": [
              "<IPython.core.display.Markdown object>"
            ],
            "text/markdown": "A resposta está parcialmente correta. Embora a derrubada da nobreza seja um aspecto importante da Revolução Francesa, a principal meta da aula é mais abrangente. De acordo com o texto, a meta principal é \"Revisar e aprofundar o estudo do movimento que se transformou no modelo clássico de revolução burguesa\". A resposta do usuário menciona um resultado da revolução, mas não o objetivo principal do estudo da aula."
          },
          "metadata": {}
        },
        {
          "output_type": "display_data",
          "data": {
            "text/plain": [
              "<IPython.core.display.Markdown object>"
            ],
            "text/markdown": "### Pergunta 3: 2.  Segundo Eric J. Hobsbawm, quais foram as duas revoluções que causaram a maior transformação social desde a antiguidade?"
          },
          "metadata": {}
        },
        {
          "name": "stdout",
          "output_type": "stream",
          "text": [
            "Sua resposta: Revolução Francesa e a Industrial na Inglaterra\n"
          ]
        },
        {
          "output_type": "display_data",
          "data": {
            "text/plain": [
              "<IPython.core.display.Markdown object>"
            ],
            "text/markdown": "### Avaliação do Gemini: "
          },
          "metadata": {}
        },
        {
          "output_type": "display_data",
          "data": {
            "text/plain": [
              "<IPython.core.display.Markdown object>"
            ],
            "text/markdown": "A resposta do usuário está correta. O texto afirma que, segundo Eric J. Hobsbawm, a Revolução Francesa e a Revolução Industrial Inglesa causaram a maior transformação social desde a antiguidade."
          },
          "metadata": {}
        },
        {
          "output_type": "display_data",
          "data": {
            "text/plain": [
              "<IPython.core.display.Markdown object>"
            ],
            "text/markdown": "### Pergunta 4: 3.  Como era a estrutura social da França no século XVIII e qual era o papel da burguesia nesse contexto?"
          },
          "metadata": {}
        },
        {
          "name": "stdout",
          "output_type": "stream",
          "text": [
            "Sua resposta: Nobreza e clero e a burguesia se submetia à nobreza\n"
          ]
        },
        {
          "output_type": "display_data",
          "data": {
            "text/plain": [
              "<IPython.core.display.Markdown object>"
            ],
            "text/markdown": "### Avaliação do Gemini: "
          },
          "metadata": {}
        },
        {
          "output_type": "display_data",
          "data": {
            "text/plain": [
              "<IPython.core.display.Markdown object>"
            ],
            "text/markdown": "A resposta do usuário está **parcialmente correta**.\n\n*   **Estrutura Social:** A resposta identifica corretamente a nobreza e o clero como parte da estrutura social da França no século XVIII. No entanto, ela omite o \"Terceiro Estado\", que era a grande maioria da população e incluía camponeses e trabalhadores urbanos, além da própria burguesia.\n\n*   **Papel da Burguesia:** A afirmação de que a burguesia se submetia à nobreza é uma simplificação. Embora a burguesia não tivesse os mesmos privilégios legais e políticos da nobreza, ela controlava grande parte da economia, das finanças, do comércio e da indústria, e buscava mais poder político e reconhecimento social. O texto original afirma: \"No século XVIII, embora a estrutura social da França permanecesse com vários aspectos originários dos tempos feudais, a burguesia controlava as finanças, o comércio e a indústria. Fornecia à monarquia os recursos necessários para o funcionamento do aparelho de Estado, enquanto a nobreza monopolizava muitos dos altos cargos, tirando daí diversos privilégios.\""
          },
          "metadata": {}
        },
        {
          "output_type": "display_data",
          "data": {
            "text/plain": [
              "<IPython.core.display.Markdown object>"
            ],
            "text/markdown": "### Pergunta 5: 4.  Quais eram os três estados que compunham a sociedade do Antigo Regime na França e quais eram seus principais objetivos?"
          },
          "metadata": {}
        },
        {
          "name": "stdout",
          "output_type": "stream",
          "text": [
            "Sua resposta: Clero, nobreza e terceiro estado\n"
          ]
        },
        {
          "output_type": "display_data",
          "data": {
            "text/plain": [
              "<IPython.core.display.Markdown object>"
            ],
            "text/markdown": "### Avaliação do Gemini: "
          },
          "metadata": {}
        },
        {
          "output_type": "display_data",
          "data": {
            "text/plain": [
              "<IPython.core.display.Markdown object>"
            ],
            "text/markdown": "A resposta do usuário está parcialmente correta.\n\nExplicação:\n\n*   A resposta identifica corretamente os três estados (clero, nobreza e terceiro estado) que compunham a sociedade do Antigo Regime na França.\n*   No entanto, ela não aborda a segunda parte da pergunta, que é \"quais eram seus principais objetivos?\". A resposta se limita a elencar os estados, sem mencionar seus objetivos."
          },
          "metadata": {}
        },
        {
          "output_type": "display_data",
          "data": {
            "text/plain": [
              "<IPython.core.display.Markdown object>"
            ],
            "text/markdown": "### Pergunta 6: 5.  Qual era a concepção de poder da monarquia absolutista francesa no final do século XVIII?"
          },
          "metadata": {}
        },
        {
          "name": "stdout",
          "output_type": "stream",
          "text": [
            "Sua resposta: Todo poder ao rei\n"
          ]
        },
        {
          "output_type": "display_data",
          "data": {
            "text/plain": [
              "<IPython.core.display.Markdown object>"
            ],
            "text/markdown": "### Avaliação do Gemini: "
          },
          "metadata": {}
        },
        {
          "output_type": "display_data",
          "data": {
            "text/plain": [
              "<IPython.core.display.Markdown object>"
            ],
            "text/markdown": "A resposta do usuário \"Todo poder ao rei\" está correta. O texto afirma que a França no final do século XVIII era uma monarquia absolutista, onde o monarca não prestava contas de seus atos e sua autoridade não tinha limites legais."
          },
          "metadata": {}
        },
        {
          "output_type": "display_data",
          "data": {
            "text/plain": [
              "<IPython.core.display.Markdown object>"
            ],
            "text/markdown": "### Pergunta 7: 6.  Por que Luís XVI convocou os Estados Gerais e quais eram as principais reivindicações do Terceiro Estado?"
          },
          "metadata": {}
        },
        {
          "name": "stdout",
          "output_type": "stream",
          "text": [
            "Sua resposta: Para acalmar a insatisfação popular\n"
          ]
        },
        {
          "output_type": "display_data",
          "data": {
            "text/plain": [
              "<IPython.core.display.Markdown object>"
            ],
            "text/markdown": "### Avaliação do Gemini: "
          },
          "metadata": {}
        },
        {
          "output_type": "display_data",
          "data": {
            "text/plain": [
              "<IPython.core.display.Markdown object>"
            ],
            "text/markdown": "A resposta do usuário é parcialmente correta.\n\nExplicação: O texto afirma que Luís XVI convocou os Estados Gerais devido a uma \"insustentável crise\". A insatisfação popular era um sintoma dessa crise, mas não a única causa. A resposta não menciona as reivindicações do Terceiro Estado.\n"
          },
          "metadata": {}
        },
        {
          "output_type": "display_data",
          "data": {
            "text/plain": [
              "<IPython.core.display.Markdown object>"
            ],
            "text/markdown": "### Pergunta 8: 7.  Quais foram as cinco fases da Revolução Francesa e quais foram as principais características de cada uma delas?"
          },
          "metadata": {}
        },
        {
          "output_type": "stream",
          "name": "stdout",
          "text": [
            "Sua resposta: fim\n",
            "Chat encerrado. Até a próxima!\n"
          ]
        }
      ]
    }
  ]
}