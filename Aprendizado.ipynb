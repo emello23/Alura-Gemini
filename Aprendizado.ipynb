{
  "nbformat": 4,
  "nbformat_minor": 0,
  "metadata": {
    "colab": {
      "provenance": [],
      "include_colab_link": true
    },
    "kernelspec": {
      "name": "python3",
      "display_name": "Python 3"
    },
    "language_info": {
      "name": "python"
    }
  },
  "cells": [
    {
      "cell_type": "markdown",
      "metadata": {
        "id": "view-in-github",
        "colab_type": "text"
      },
      "source": [
        "<a href=\"https://colab.research.google.com/github/emello23/Alura-Gemini/blob/main/Aprendizado.ipynb\" target=\"_parent\"><img src=\"https://colab.research.google.com/assets/colab-badge.svg\" alt=\"Open In Colab\"/></a>"
      ]
    },
    {
      "cell_type": "markdown",
      "source": [
        "\n",
        "\n",
        "\"\"\"\n",
        "Script para extrair texto de um PDF, gerar resumo e tópicos com a API do Gemini\n",
        "e criar um chatbot para interagir com o conteúdo.\n",
        "\"\"\""
      ],
      "metadata": {
        "id": "ENtx9IF7x7jX"
      }
    },
    {
      "cell_type": "markdown",
      "source": [],
      "metadata": {
        "id": "9AprP9CDqZpD"
      }
    },
    {
      "cell_type": "code",
      "source": [
        "# Montar o Google Drive\n",
        "from google.colab import drive\n",
        "drive.mount('/content/drive')"
      ],
      "metadata": {
        "id": "s5dYG2kDdbZ_",
        "colab": {
          "base_uri": "https://localhost:8080/"
        },
        "outputId": "8aaf2494-e164-44c6-e2cd-8af2f9593a27"
      },
      "execution_count": 11,
      "outputs": [
        {
          "output_type": "stream",
          "name": "stdout",
          "text": [
            "Drive already mounted at /content/drive; to attempt to forcibly remount, call drive.mount(\"/content/drive\", force_remount=True).\n"
          ]
        }
      ]
    },
    {
      "cell_type": "code",
      "source": [
        "# Instalar/Atualizar as bibliotecas necessárias\n",
        "!pip install --upgrade google-genai PyMuPDF\n"
      ],
      "metadata": {
        "id": "lGCELBEr-InA",
        "collapsed": true,
        "colab": {
          "base_uri": "https://localhost:8080/"
        },
        "outputId": "1c393a28-b1ba-4f0a-8b4a-852681d52749"
      },
      "execution_count": 12,
      "outputs": [
        {
          "output_type": "stream",
          "name": "stdout",
          "text": [
            "Requirement already satisfied: google-genai in /usr/local/lib/python3.11/dist-packages (1.15.0)\n",
            "Requirement already satisfied: PyMuPDF in /usr/local/lib/python3.11/dist-packages (1.25.5)\n",
            "Requirement already satisfied: anyio<5.0.0,>=4.8.0 in /usr/local/lib/python3.11/dist-packages (from google-genai) (4.9.0)\n",
            "Requirement already satisfied: google-auth<3.0.0,>=2.14.1 in /usr/local/lib/python3.11/dist-packages (from google-genai) (2.38.0)\n",
            "Requirement already satisfied: httpx<1.0.0,>=0.28.1 in /usr/local/lib/python3.11/dist-packages (from google-genai) (0.28.1)\n",
            "Requirement already satisfied: pydantic<3.0.0,>=2.0.0 in /usr/local/lib/python3.11/dist-packages (from google-genai) (2.11.4)\n",
            "Requirement already satisfied: requests<3.0.0,>=2.28.1 in /usr/local/lib/python3.11/dist-packages (from google-genai) (2.32.3)\n",
            "Requirement already satisfied: websockets<15.1.0,>=13.0.0 in /usr/local/lib/python3.11/dist-packages (from google-genai) (15.0.1)\n",
            "Requirement already satisfied: typing-extensions<5.0.0,>=4.11.0 in /usr/local/lib/python3.11/dist-packages (from google-genai) (4.13.2)\n",
            "Requirement already satisfied: idna>=2.8 in /usr/local/lib/python3.11/dist-packages (from anyio<5.0.0,>=4.8.0->google-genai) (3.10)\n",
            "Requirement already satisfied: sniffio>=1.1 in /usr/local/lib/python3.11/dist-packages (from anyio<5.0.0,>=4.8.0->google-genai) (1.3.1)\n",
            "Requirement already satisfied: cachetools<6.0,>=2.0.0 in /usr/local/lib/python3.11/dist-packages (from google-auth<3.0.0,>=2.14.1->google-genai) (5.5.2)\n",
            "Requirement already satisfied: pyasn1-modules>=0.2.1 in /usr/local/lib/python3.11/dist-packages (from google-auth<3.0.0,>=2.14.1->google-genai) (0.4.2)\n",
            "Requirement already satisfied: rsa<5,>=3.1.4 in /usr/local/lib/python3.11/dist-packages (from google-auth<3.0.0,>=2.14.1->google-genai) (4.9.1)\n",
            "Requirement already satisfied: certifi in /usr/local/lib/python3.11/dist-packages (from httpx<1.0.0,>=0.28.1->google-genai) (2025.4.26)\n",
            "Requirement already satisfied: httpcore==1.* in /usr/local/lib/python3.11/dist-packages (from httpx<1.0.0,>=0.28.1->google-genai) (1.0.9)\n",
            "Requirement already satisfied: h11>=0.16 in /usr/local/lib/python3.11/dist-packages (from httpcore==1.*->httpx<1.0.0,>=0.28.1->google-genai) (0.16.0)\n",
            "Requirement already satisfied: annotated-types>=0.6.0 in /usr/local/lib/python3.11/dist-packages (from pydantic<3.0.0,>=2.0.0->google-genai) (0.7.0)\n",
            "Requirement already satisfied: pydantic-core==2.33.2 in /usr/local/lib/python3.11/dist-packages (from pydantic<3.0.0,>=2.0.0->google-genai) (2.33.2)\n",
            "Requirement already satisfied: typing-inspection>=0.4.0 in /usr/local/lib/python3.11/dist-packages (from pydantic<3.0.0,>=2.0.0->google-genai) (0.4.0)\n",
            "Requirement already satisfied: charset-normalizer<4,>=2 in /usr/local/lib/python3.11/dist-packages (from requests<3.0.0,>=2.28.1->google-genai) (3.4.2)\n",
            "Requirement already satisfied: urllib3<3,>=1.21.1 in /usr/local/lib/python3.11/dist-packages (from requests<3.0.0,>=2.28.1->google-genai) (2.4.0)\n",
            "Requirement already satisfied: pyasn1<0.7.0,>=0.6.1 in /usr/local/lib/python3.11/dist-packages (from pyasn1-modules>=0.2.1->google-auth<3.0.0,>=2.14.1->google-genai) (0.6.1)\n"
          ]
        }
      ]
    },
    {
      "cell_type": "code",
      "source": [
        "import os\n",
        "from google.colab import userdata\n",
        "from google import genai\n",
        "from google.genai import types # Importação ativa\n",
        "import fitz  # Importa a biblioteca PyMuPDF"
      ],
      "metadata": {
        "id": "Du_leth3cD3v"
      },
      "execution_count": 13,
      "outputs": []
    },
    {
      "cell_type": "code",
      "source": [
        "# Importa classes do módulo IPython.display para formatar a saída no notebook.\n",
        "# - HTML: Permite exibir conteúdo HTML diretamente.\n",
        "# - Markdown: Permite exibir conteúdo formatado em Markdown.\n",
        "\n",
        "from IPython.display import HTML, Markdown"
      ],
      "metadata": {
        "id": "8Cq1z9zkk14A"
      },
      "execution_count": 14,
      "outputs": []
    },
    {
      "cell_type": "code",
      "source": [
        "# Configurar a chave da API\n",
        "os.environ['GOOGLE_API_KEY'] = userdata.get('GOOGLE_API_KEY')\n",
        "client = genai.Client()"
      ],
      "metadata": {
        "id": "vqkXAdE8cJxT"
      },
      "execution_count": 15,
      "outputs": []
    },
    {
      "cell_type": "code",
      "source": [
        "# Definir o modelo a ser usado\n",
        "modelo = \"gemini-2.0-flash\"\n"
      ],
      "metadata": {
        "id": "gL-FVrZVcX38"
      },
      "execution_count": 16,
      "outputs": []
    },
    {
      "cell_type": "code",
      "source": [
        "# --- PARTE ONDE VOCÊ CARREGA O PDF ---\n",
        "# Atualize o caminho do PDF para apontar para o seu arquivo no Google Drive\n",
        "# Alternativa: Coloque o arquivo na sua pasta raiz do My Drive\n",
        "#              e renomei-o para aprendizado.pdf mantendo este mesmo caminho.\n",
        "caminho_do_pdf = \"/content/drive/My Drive/aprendizado.pdf\" # <-- ATUALIZE ESTA LINHA COM O CAMINHO CORRETO'"
      ],
      "metadata": {
        "id": "4WNFIXhQl0Ff"
      },
      "execution_count": 17,
      "outputs": []
    },
    {
      "cell_type": "code",
      "source": [
        "def extrair_texto_de_pdf(caminho_do_arquivo):\n",
        "    \"\"\"Extrai texto de um arquivo PDF.\"\"\"\n",
        "    texto_completo = \"\"\n",
        "    try:\n",
        "        documento = fitz.open(caminho_do_arquivo)\n",
        "        for pagina_num in range(documento.page_count):\n",
        "            pagina = documento.load_page(pagina_num)\n",
        "            texto_completo += pagina.get_text()\n",
        "        documento.close()\n",
        "    except Exception as e:\n",
        "        print(f\"Erro ao extrair texto do PDF: {e}\")\n",
        "        texto_completo = None # Retorna None em caso de erro\n",
        "    return texto_completo\n",
        "\n"
      ],
      "metadata": {
        "id": "SVIA1oYHcj1g"
      },
      "execution_count": 18,
      "outputs": []
    },
    {
      "cell_type": "code",
      "source": [
        "texto_do_pdf = extrair_texto_de_pdf(caminho_do_pdf)\n",
        "\n"
      ],
      "metadata": {
        "id": "aRPFYuJscmC2",
        "collapsed": true
      },
      "execution_count": 19,
      "outputs": []
    },
    {
      "cell_type": "code",
      "source": [
        "if texto_do_pdf: # Verifica se a extração do texto foi bem-sucedida\n",
        "    # --- Alteração aqui para imprimir em Markdown ---\n",
        "    display(Markdown(\"## Texto extraído do PDF (primeiros 500 caracteres):\"))\n",
        "    print(texto_do_pdf[:500] + \"...\") # Este print pode permanecer, pois é um trecho longo\n",
        "    # --- Fim da alteração ---\n",
        "\n",
        "    # --- USANDO GEMINI PARA AJUDAR COM RESUMO E TÓPICOS ---\n",
        "    # Gerar um resumo inicial\n",
        "    try:\n",
        "        response_resumo = client.models.generate_content(\n",
        "            model=modelo,\n",
        "            contents=f\"Por favor, gere um resumo conciso do seguinte texto:\\n\\n{texto_do_pdf}\"\n",
        "        )\n",
        "        if response_resumo and response_resumo.text: # Verifica se a resposta e o texto existem\n",
        "            resumo = response_resumo.text\n",
        "            # --- Alteração aqui para imprimir em Markdown ---\n",
        "            display(Markdown(\"## Resumo gerado pelo Gemini:\"))\n",
        "            display(Markdown(resumo))\n",
        "            # --- Fim da alteração ---\n",
        "        else:\n",
        "            # --- Alteração aqui para imprimir em Markdown ---\n",
        "            display(Markdown(\"## Não foi possível gerar um resumo.\"))\n",
        "            # --- Fim da alteração ---\n",
        "    except Exception as e:\n",
        "        print(f\"Erro ao gerar resumo: {e}\")\n",
        "\n",
        "\n",
        "    # Tentar identificar tópicos principais\n",
        "    try:\n",
        "        response_topicos = client.models.generate_content(\n",
        "            model=modelo,\n",
        "            contents=f\"Por favor, liste os principais tópicos e sub-tópicos (numerados se possível) encontrados no seguinte texto:\\n\\n{texto_do_pdf}\"\n",
        "        )\n",
        "        if response_topicos and response_topicos.text: # Verifica se a resposta e o texto existem\n",
        "            topicos_identificados = response_topicos.text\n",
        "            # --- Alteração aqui para imprimir em Markdown ---\n",
        "            display(Markdown(\"## Tópicos identificados pelo Gemini:\"))\n",
        "            display(Markdown(topicos_identificados))\n",
        "            # --- Fim da alteração ---\n",
        "        else:\n",
        "             # --- Alteração aqui para imprimir em Markdown ---\n",
        "            display(Markdown(\"## Não foi possível identificar tópicos.\"))\n",
        "            # --- Fim da alteração ---\n",
        "    except Exception as e:\n",
        "        print(f\"Erro ao identificar tópicos: {e}\")\n",
        "\n",
        "    # --- PARTE DO CHATBOT ---\n",
        "    # --- Alterações aqui para imprimir em Markdown ---\n",
        "    display(Markdown(\"## Ok! Vamos aprender sobre o conteúdo do documento.\"))\n",
        "    display(Markdown(\"Eu farei perguntas sobre o conteúdo do documento. Tente respondê-las!\"))\n",
        "    display(Markdown(\"Digite 'fim' para encerrar o chat.\"))\n",
        "    display(Markdown(\"Desconsidere a 'Pergunta 1:' digitando 'OK'\"))\n",
        "    display(Markdown(\"### Vamos começar!\"))\n",
        "    # --- Fim das alterações ---\n",
        "\n",
        "    # Abordagem para gerar perguntas\n",
        "    try:\n",
        "        response_perguntas = client.models.generate_content(\n",
        "            model=modelo,\n",
        "            contents=f\"Com base no seguinte texto, gere 10 perguntas sobre o seu conteúdo para que um usuário possa respondê-las. Liste as perguntas numeradas.\\n\\n{texto_do_pdf}\"\n",
        "        )\n",
        "\n",
        "        if response_perguntas and response_perguntas.text: # Verifica se a resposta e o texto existem\n",
        "            perguntas_geradas = response_perguntas.text.split('\\n') # Divide as perguntas em uma lista\n",
        "            # Filtra linhas vazias e numerações que não são perguntas válidas\n",
        "            perguntas_validas = [p.strip() for p in perguntas_geradas if p.strip() and any(char.isdigit() for char in p.strip().split('.')[0])]\n",
        "\n",
        "\n",
        "            if not perguntas_validas:\n",
        "                 # --- Alteração aqui para imprimir em Markdown ---\n",
        "                display(Markdown(\"## Não foi possível gerar perguntas a partir do PDF.\"))\n",
        "                 # --- Fim da alteração ---\n",
        "            else:\n",
        "                indice_pergunta_atual = 0\n",
        "\n",
        "                while indice_pergunta_atual < len(perguntas_validas):\n",
        "                    pergunta_atual = perguntas_validas[indice_pergunta_atual]\n",
        "                     # --- Alteração aqui para imprimir em Markdown ---\n",
        "                    display(Markdown(f\"### Pergunta {indice_pergunta_atual + 1}: {pergunta_atual}\"))\n",
        "                    # --- Fim da alteração ---\n",
        "\n",
        "                    resposta_usuario = input(\"Sua resposta: \")\n",
        "\n",
        "                    if resposta_usuario.lower() == \"fim\":\n",
        "                        print(\"Chat encerrado. Até a próxima!\") # Este print pode permanecer\n",
        "                        break\n",
        "\n",
        "                    # Usar o Gemini para avaliar a resposta do usuário\n",
        "                    try:\n",
        "                        chat_avaliacao_config = types.GenerateContentConfig(\n",
        "                          system_instruction = f\"Você é um avaliador de respostas baseado no seguinte texto. A pergunta foi: '{pergunta_atual}'. Avalie a resposta do usuário ('{resposta_usuario}') com base no texto original e diga se ela está correta, incorreta ou parcialmente correta, explicando brevemente por que. O texto original é:\\n\\n{texto_do_pdf}\"\n",
        "                        )\n",
        "                        chat_avaliacao = client.chats.create(model=modelo, config=chat_avaliacao_config)\n",
        "                        response_avaliacao = chat_avaliacao.send_message(f\"Pergunta: {pergunta_atual}\\nResposta do usuário: {resposta_usuario}\")\n",
        "\n",
        "                        if response_avaliacao and response_avaliacao.text: # Verifica se a resposta e o texto existem\n",
        "                             # --- Alteração aqui para imprimir em Markdown ---\n",
        "                            display(Markdown(\"### Avaliação do Gemini: \"))\n",
        "                            display(Markdown(response_avaliacao.text))\n",
        "                             # --- Fim da alteração ---\n",
        "                        else:\n",
        "                             # --- Alteração aqui para imprimir em Markdown ---\n",
        "                            display(Markdown(\"## Não foi possível avaliar a resposta.\"))\n",
        "                            # --- Fim da alteração ---\n",
        "\n",
        "                    except Exception as e:\n",
        "                        print(f\"Erro ao avaliar a resposta: {e}\")\n",
        "\n",
        "                    indice_pergunta_atual += 1 # Passa para a próxima pergunta\n",
        "\n",
        "                if indice_pergunta_atual == len(perguntas_validas):\n",
        "                   # --- Alteração aqui para imprimir em Markdown ---\n",
        "                   display(Markdown(\"\\n## Você respondeu a todas as perguntas. Chat encerrado. Até a próxima!\"))\n",
        "                   # --- Fim da alteração ---\n",
        "        else:\n",
        "             # --- Alteração aqui para imprimir em Markdown ---\n",
        "            display(Markdown(\"## Não foi possível gerar perguntas a partir do PDF.\"))\n",
        "            # --- Fim da alteração ---\n",
        "    except Exception as e:\n",
        "        print(f\"Erro ao gerar perguntas ou executar o loop do chatbot: {e}\")\n",
        "\n",
        "else:\n",
        "     # --- Alteração aqui para imprimir em Markdown ---\n",
        "    display(Markdown(\"## Não foi possível prosseguir porque a extração do texto do PDF falhou.\"))\n",
        "    # --- Fim da alteração ---"
      ],
      "metadata": {
        "colab": {
          "base_uri": "https://localhost:8080/",
          "height": 1000
        },
        "id": "SfZMyLJtnNvh",
        "outputId": "ec6f8eca-8be8-4640-8400-bb519d6173cc"
      },
      "execution_count": 20,
      "outputs": [
        {
          "output_type": "display_data",
          "data": {
            "text/plain": [
              "<IPython.core.display.Markdown object>"
            ],
            "text/markdown": "## Texto extraído do PDF (primeiros 500 caracteres):"
          },
          "metadata": {}
        },
        {
          "output_type": "stream",
          "name": "stdout",
          "text": [
            "Aula2\n",
            "Lenalda Andrade Santos\n",
            "A REVOLUÇÃO FRANCESA\n",
            "META\n",
            "Revisar e aprofundar o estudo do movimento que se transformou no modelo clássico de \n",
            "revolução burguesa. \n",
            "OBJETIVOS\n",
            "Ao ﬁ nal desta aula, o aluno deverá:\n",
            "Analisar a Revolução Francesa como um evento capital de toda a \n",
            "história do mundo moderno.\n",
            "Identiﬁ car a contribuição do movimento revolucionário francês para o ﬁ m da\n",
            " antiga ordem feudal-absolutista.\n",
            "Indicar bibliograﬁ a que permita aos alunos aprofundarem o estudo do tema \n",
            "das revoluções ...\n"
          ]
        },
        {
          "output_type": "display_data",
          "data": {
            "text/plain": [
              "<IPython.core.display.Markdown object>"
            ],
            "text/markdown": "## Resumo gerado pelo Gemini:"
          },
          "metadata": {}
        },
        {
          "output_type": "display_data",
          "data": {
            "text/plain": [
              "<IPython.core.display.Markdown object>"
            ],
            "text/markdown": "Este texto é uma revisão aprofundada da Revolução Francesa, abordando sua importância como modelo de revolução burguesa e seu impacto no fim do feudalismo-absolutismo. Ele analisa a França pré-revolucionária, destacando o poder crescente da burguesia em contraste com os privilégios da nobreza e do clero, e a insatisfação do Terceiro Estado. O texto explora a convocação dos Estados Gerais, a tomada da Bastilha, as fases da revolução (desde a inspiração parlamentar inglesa até a ditadura jacobina e o Terror), e a ascensão de Napoleão. As contribuições da Revolução são enumeradas, incluindo a liquidação do feudalismo, a afirmação da igualdade de direitos, a destruição do direito divino dos governantes e a separação entre Estado e Igreja. O texto também discute o papel da burguesia no movimento, o significado da revolução e as lutas contra o Antigo Regime.\n"
          },
          "metadata": {}
        },
        {
          "output_type": "display_data",
          "data": {
            "text/plain": [
              "<IPython.core.display.Markdown object>"
            ],
            "text/markdown": "## Tópicos identificados pelo Gemini:"
          },
          "metadata": {}
        },
        {
          "output_type": "display_data",
          "data": {
            "text/plain": [
              "<IPython.core.display.Markdown object>"
            ],
            "text/markdown": "Com certeza! Aqui está uma lista dos principais tópicos e sub-tópicos encontrados no texto \"Aula 2: A Revolução Francesa\", organizados para facilitar a compreensão da estrutura do conteúdo:\n\n**I. Introdução**\n\n*   Importância histórica da Revolução Francesa\n*   Dupla Revolução (Francesa e Industrial Inglesa)\n\n**II. A França às Vésperas da Revolução**\n\n*   Controle da burguesia sobre as finanças, comércio e indústria\n*   Monopólio da nobreza sobre altos cargos e privilégios\n*   Crescimento da burguesia e difusão das teorias iluministas\n*   Interesse da burguesia em consolidar o trabalho assalariado e formar um mercado consumidor interno\n*   Regulamentações das corporações de ofício como obstáculo ao crescimento industrial\n\n**III. A Sociedade do Antigo Regime**\n\n*   Estrutura social em três ordens:\n    1.  Primeiro Estado (Clero):\n        *   Alto Clero (privilegiado)\n        *   Baixo Clero (simpatizante da revolução)\n    2.  Segundo Estado (Nobreza):\n        *   Nobreza Palaciana (corte em Versalhes)\n        *   Nobreza Provincial (privilégios feudais)\n        *   Nobreza de Toga (burgueses com títulos)\n    3.  Terceiro Estado (Restante da população):\n        *   Camponeses\n        *   Burguesia\n        *   Camadas populares urbanas\n*   Isenção de impostos e privilégios do clero e nobreza\n*   Monarquia absolutista e teoria do \"direito divino\" dos reis\n*   Repúdio às instituições francesas e influência do Iluminismo\n\n**IV. A Convocação dos Estados Gerais**\n\n*   Crise e decisão de Luís XVI de convocar os Estados Gerais\n*   Função consultiva dos Estados Gerais\n*   Sistema de votação por Estado (favorecendo o Primeiro e Segundo Estados)\n*   Reivindicações do Terceiro Estado:\n    *   Número de representantes igual ao dos outros dois somados\n    *   Votação por cabeça, não por Estado\n\n**V. Com a Cabeça de Luís XVI Rolou um Mundo Inteiro**\n\n*   Repercussões da Revolução Francesa na Europa\n*   Organização de \"partidos\" jacobinos em outros países\n*   Divisão da Revolução Francesa em cinco fases:\n    1.  Fase inicial (parlamentarismo inglês)\n    2.  Tomada da Bastilha e intervenção da plebe\n    3.  Ditadura Jacobina e o Terror\n        *   Transformação dos jacobinos em organização política\n        *   Consolidação das conquistas da Revolução\n        *   Confisco e venda de terras da Igreja e nobres\n        *   Criação de um exército nacional\n    4.  Golpe de Termidor e o Diretório\n    5.  Golpe de 18 Brumário e o Consulado de Napoleão Bonaparte\n*   Contribuições da Revolução Francesa:\n    1.  Sociais (liquidação do feudalismo, igualdade de direitos, direito das minorias)\n    2.  Econômicas (abolição de privilégios corporativos, anulação de monopólios)\n    3.  Políticas (destruição da teoria do direito divino, experiência de governo democrático)\n    4.  Religiosas (tolerância religiosa, separação entre Estado e Igreja)\n    5.  Culturais (instrução pública obrigatória, sistema de educação em massa)\n\n**VI. A Queda da Bastilha**\n\n*   Armamento da população\n*   Pobreza e fome em Paris\n*   Tomada da Bastilha (14 de julho de 1789) como símbolo do absolutismo\n*   Início oficial da Revolução Francesa\n\n**VII. A Revolução Francesa (Análise)**\n\n*   Luta contra o despotismo e privilégios em nome da liberdade e igualdade\n*   Razões para a revolução ter ocorrido na França\n*   Importância da igualdade como princípio central da Revolução\n*   Conquista do mundo pela Revolução e seus princípios\n*   Benefícios da Revolução para a burguesia\n*   Limitações da Revolução para o povo e o mundo operário\n*   Importância dos princípios da Revolução como religião mística\n\n**VIII. O Significado da Revolução (Hannah Arendt)**\n\n*   Análise do uso da palavra \"Revolução\" com ênfase na irresistibilidade\n*   Diálogo entre Luís XVI e o Duque de Liancourt sobre a Queda da Bastilha\n*   Revolução como algo além do poder humano\n*   Abertura do domínio público para a maioria não livre (pobres e oprimidos)\n\n**IX. Revoluções Inglesa e Francesa**\n\n*   Criação de instrumentos institucionais e ideológicos para a dominação burguesa\n*   Revolução Inglesa: liberdade civil e política\n*   Revolução Francesa: igualdade social e democracia política\n*   Renúncia da burguesia à ideia de revolução no século XIX\n*   Lutas da classe operária pela democracia\n*   Papel da gentry e do povo nas revoluções Inglesa e Francesa\n\n**X. A Religião Privada Contra o Estado**\n\n*   Ataque do Estado aos poderes das comunidades do Antigo Regime\n*   Luta contra a Igreja Católica pelo controle da vida privada\n*   Conflito entre tolerância religiosa e necessidades financeiras do Estado\n*   Confisco dos bens eclesiásticos e Constituição Civil do clero\n*   Controle estatal sobre locais, datas e cerimônias religiosas\n*   Concordata de 1801 e direito do Estado em intervir nas questões religiosas\n\n**XI. Declaração dos Direitos do Homem e do Cidadão: 26 de Agosto de 1789**\n\n*   Apresentação dos artigos da Declaração\n\n**XII. Conclusão**\n\n*   Revolução Francesa como confluência de quatro movimentos distintos:\n    *   Revolução Aristocrática (1787-1799)\n    *   Revolução Burguesa (1789-1799)\n    *   Revolução Camponesa (1789-1793)\n    *   Revolução do Proletariado Urbano (1792-1794)\n*   Importância de cada revolução para o processo geral\n\n**XIII. Atividades**\n\n**XIV. Próxima Aula**\n\n*   A Comuna de Paris\n\n**XV. Referências**\n\n**XVI. Resumo**\n* Breve resumo dos assuntos tratados.\n* Destaque dos principais aspectos da sociedade do Antigo Regime, consultando outras obras de referência.\n* Indicação das principais fases e contribuições da Revolução\n* Apresentação do papel da burguesia no movimento revolucionário.\n"
          },
          "metadata": {}
        },
        {
          "output_type": "display_data",
          "data": {
            "text/plain": [
              "<IPython.core.display.Markdown object>"
            ],
            "text/markdown": "## Ok! Vamos aprender sobre o conteúdo do documento."
          },
          "metadata": {}
        },
        {
          "output_type": "display_data",
          "data": {
            "text/plain": [
              "<IPython.core.display.Markdown object>"
            ],
            "text/markdown": "Eu farei perguntas sobre o conteúdo do documento. Tente respondê-las!"
          },
          "metadata": {}
        },
        {
          "output_type": "display_data",
          "data": {
            "text/plain": [
              "<IPython.core.display.Markdown object>"
            ],
            "text/markdown": "Digite 'fim' para encerrar o chat."
          },
          "metadata": {}
        },
        {
          "output_type": "display_data",
          "data": {
            "text/plain": [
              "<IPython.core.display.Markdown object>"
            ],
            "text/markdown": "Desconsidere a 'Pergunta 1:' digitando 'OK'"
          },
          "metadata": {}
        },
        {
          "output_type": "display_data",
          "data": {
            "text/plain": [
              "<IPython.core.display.Markdown object>"
            ],
            "text/markdown": "### Vamos começar!"
          },
          "metadata": {}
        },
        {
          "output_type": "display_data",
          "data": {
            "text/plain": [
              "<IPython.core.display.Markdown object>"
            ],
            "text/markdown": "### Pergunta 1: Claro, aqui estão 10 perguntas sobre o conteúdo do texto fornecido:"
          },
          "metadata": {}
        },
        {
          "name": "stdout",
          "output_type": "stream",
          "text": [
            "Sua resposta: ok\n"
          ]
        },
        {
          "output_type": "display_data",
          "data": {
            "text/plain": [
              "<IPython.core.display.Markdown object>"
            ],
            "text/markdown": "### Avaliação do Gemini: "
          },
          "metadata": {}
        },
        {
          "output_type": "display_data",
          "data": {
            "text/plain": [
              "<IPython.core.display.Markdown object>"
            ],
            "text/markdown": "A resposta está incorreta. O usuário simplesmente respondeu \"ok\" em vez de fornecer as 10 perguntas solicitadas sobre o texto."
          },
          "metadata": {}
        },
        {
          "output_type": "display_data",
          "data": {
            "text/plain": [
              "<IPython.core.display.Markdown object>"
            ],
            "text/markdown": "### Pergunta 2: 1.  Qual a importância histórica da Revolução Francesa segundo Eric J. Hobsbawm, e a que \"dupla revolução\" ele se refere?"
          },
          "metadata": {}
        },
        {
          "name": "stdout",
          "output_type": "stream",
          "text": [
            "Sua resposta: Criou o proletariado\n"
          ]
        },
        {
          "output_type": "display_data",
          "data": {
            "text/plain": [
              "<IPython.core.display.Markdown object>"
            ],
            "text/markdown": "### Avaliação do Gemini: "
          },
          "metadata": {}
        },
        {
          "output_type": "display_data",
          "data": {
            "text/plain": [
              "<IPython.core.display.Markdown object>"
            ],
            "text/markdown": "A resposta do usuário está **incorreta**.\n\n**Justificativa:**\n\nO texto da aula menciona que, para Eric J. Hobsbawm, a importância histórica da Revolução Francesa reside no fato de que ela, juntamente com a Revolução Industrial Inglesa, compõe uma \"dupla revolução\" que causou a maior transformação social desde a antiguidade. O texto especifica que a \"dupla revolução\" se refere à revolução política francesa e à revolução industrial inglesa. A resposta do usuário (\"Criou o proletariado\") não está relacionada com a \"dupla revolução\" mencionada no texto."
          },
          "metadata": {}
        },
        {
          "output_type": "display_data",
          "data": {
            "text/plain": [
              "<IPython.core.display.Markdown object>"
            ],
            "text/markdown": "### Pergunta 3: 2.  Como a burguesia francesa do século XVIII influenciava a monarquia e qual era sua relação com a nobreza?"
          },
          "metadata": {}
        },
        {
          "name": "stdout",
          "output_type": "stream",
          "text": [
            "Sua resposta: Financiava a nobreza\n"
          ]
        },
        {
          "output_type": "display_data",
          "data": {
            "text/plain": [
              "<IPython.core.display.Markdown object>"
            ],
            "text/markdown": "### Avaliação do Gemini: "
          },
          "metadata": {}
        },
        {
          "output_type": "display_data",
          "data": {
            "text/plain": [
              "<IPython.core.display.Markdown object>"
            ],
            "text/markdown": "A resposta do usuário está parcialmente correta.\n\nJustificativa: O texto afirma que a burguesia \"fornecia à monarquia os recursos necessários para o funcionamento do aparelho de Estado\", o que implica que ela influenciava a monarquia através do financiamento. No entanto, a resposta do usuário menciona que a burguesia financiava a nobreza, e não a monarquia. O texto não menciona diretamente que a burguesia financiava a nobreza, mas sim que a nobreza monopolizava altos cargos e tirava diversos privilégios, o que poderia ser financiado, em parte, pelos recursos que a burguesia fornecia à monarquia.\n"
          },
          "metadata": {}
        },
        {
          "output_type": "display_data",
          "data": {
            "text/plain": [
              "<IPython.core.display.Markdown object>"
            ],
            "text/markdown": "### Pergunta 4: 3.  Quais eram as principais divisões internas do Primeiro e Segundo Estados da França às vésperas da Revolução?"
          },
          "metadata": {}
        },
        {
          "name": "stdout",
          "output_type": "stream",
          "text": [
            "Sua resposta: Clero, nobreza e burguesia\n"
          ]
        },
        {
          "output_type": "display_data",
          "data": {
            "text/plain": [
              "<IPython.core.display.Markdown object>"
            ],
            "text/markdown": "### Avaliação do Gemini: "
          },
          "metadata": {}
        },
        {
          "output_type": "display_data",
          "data": {
            "text/plain": [
              "<IPython.core.display.Markdown object>"
            ],
            "text/markdown": "A resposta do usuário está incorreta. O texto indica as divisões internas do Primeiro e Segundo Estados. A resposta do usuário lista os três estados (clero, nobreza e burguesia), e não as divisões internas dos dois primeiros."
          },
          "metadata": {}
        },
        {
          "output_type": "display_data",
          "data": {
            "text/plain": [
              "<IPython.core.display.Markdown object>"
            ],
            "text/markdown": "### Pergunta 5: 4.  Quais eram as principais reivindicações do Terceiro Estado em relação aos privilégios do Primeiro e Segundo Estados?"
          },
          "metadata": {}
        },
        {
          "name": "stdout",
          "output_type": "stream",
          "text": [
            "Sua resposta: Igualdade de direitos\n"
          ]
        },
        {
          "output_type": "display_data",
          "data": {
            "text/plain": [
              "<IPython.core.display.Markdown object>"
            ],
            "text/markdown": "### Avaliação do Gemini: "
          },
          "metadata": {}
        },
        {
          "output_type": "display_data",
          "data": {
            "text/plain": [
              "<IPython.core.display.Markdown object>"
            ],
            "text/markdown": "A resposta do usuário está correta. O texto afirma que o Terceiro Estado visava à extinção dos privilégios do Primeiro e Segundo Estados e reivindicava o estabelecimento da igualdade civil, que acabaria com privilégios de nascimento. Portanto, \"Igualdade de direitos\" é uma resposta concisa e precisa."
          },
          "metadata": {}
        },
        {
          "output_type": "display_data",
          "data": {
            "text/plain": [
              "<IPython.core.display.Markdown object>"
            ],
            "text/markdown": "### Pergunta 6: 5.  Qual era a função dos Estados Gerais e quais as reivindicações do Terceiro Estado quando Luís XVI os convocou?"
          },
          "metadata": {}
        },
        {
          "name": "stdout",
          "output_type": "stream",
          "text": [
            "Sua resposta: Nova assembéia constituinte\n"
          ]
        },
        {
          "output_type": "display_data",
          "data": {
            "text/plain": [
              "<IPython.core.display.Markdown object>"
            ],
            "text/markdown": "### Avaliação do Gemini: "
          },
          "metadata": {}
        },
        {
          "output_type": "display_data",
          "data": {
            "text/plain": [
              "<IPython.core.display.Markdown object>"
            ],
            "text/markdown": "A resposta do usuário está **incorreta**.\n\n*   **Função dos Estados Gerais:** De acordo com o texto, os Estados Gerais eram uma assembleia que o rei convocava em tempos de crise para se aconselhar. Era uma instituição consultiva, sem poder decisório.\n*   **Reivindicações do Terceiro Estado:** O Terceiro Estado, ao tomar conhecimento da convocação dos Estados Gerais, reivindicava um número de representantes igual ao dos outros dois estados somados e votação por cabeça, e não por Estado.\n\nA resposta do usuário não aborda nenhuma dessas questões."
          },
          "metadata": {}
        },
        {
          "output_type": "display_data",
          "data": {
            "text/plain": [
              "<IPython.core.display.Markdown object>"
            ],
            "text/markdown": "### Pergunta 7: 6.  Cite e explique três das principais contribuições da Revolução Francesa para o mundo, segundo o texto."
          },
          "metadata": {}
        },
        {
          "name": "stdout",
          "output_type": "stream",
          "text": [
            "Sua resposta: Liberdade, igualdade e empregos\n"
          ]
        },
        {
          "output_type": "display_data",
          "data": {
            "text/plain": [
              "<IPython.core.display.Markdown object>"
            ],
            "text/markdown": "### Avaliação do Gemini: "
          },
          "metadata": {}
        },
        {
          "output_type": "display_data",
          "data": {
            "text/plain": [
              "<IPython.core.display.Markdown object>"
            ],
            "text/markdown": "A resposta do usuário está parcialmente correta.\n\n*   **Liberdade e Igualdade:** De fato, \"liberdade\" e \"igualdade\" são valores centrais associados à Revolução Francesa, conforme evidenciado em diversas partes do texto.\n*   **Empregos:** O texto não cita \"empregos\" como uma das principais contribuições da Revolução Francesa. O texto menciona contribuições sociais, econômicas, políticas, religiosas e culturais."
          },
          "metadata": {}
        },
        {
          "output_type": "display_data",
          "data": {
            "text/plain": [
              "<IPython.core.display.Markdown object>"
            ],
            "text/markdown": "### Pergunta 8: 7.  Qual o significado da Tomada da Bastilha e por que é considerada o início oficial da Revolução Francesa?"
          },
          "metadata": {}
        },
        {
          "name": "stdout",
          "output_type": "stream",
          "text": [
            "Sua resposta: Iniciou a derrota da nobreza\n"
          ]
        },
        {
          "output_type": "display_data",
          "data": {
            "text/plain": [
              "<IPython.core.display.Markdown object>"
            ],
            "text/markdown": "### Avaliação do Gemini: "
          },
          "metadata": {}
        },
        {
          "output_type": "display_data",
          "data": {
            "text/plain": [
              "<IPython.core.display.Markdown object>"
            ],
            "text/markdown": "A resposta do usuário está parcialmente correta. A Tomada da Bastilha simbolizou um golpe contra o absolutismo monárquico e, por extensão, contra a nobreza que o sustentava. No entanto, a resposta simplifica o significado complexo do evento e sua importância como marco inicial da Revolução Francesa. A tomada da Bastilha também representou a entrada das massas populares no processo revolucionário, marcando uma escalada no confronto com o Antigo Regime."
          },
          "metadata": {}
        },
        {
          "output_type": "display_data",
          "data": {
            "text/plain": [
              "<IPython.core.display.Markdown object>"
            ],
            "text/markdown": "### Pergunta 9: 8.  Como a palavra \"revolução\" mudou de significado com a Queda da Bastilha, segundo a análise de Hannah Arendt?"
          },
          "metadata": {}
        },
        {
          "output_type": "stream",
          "name": "stdout",
          "text": [
            "Sua resposta: fim\n",
            "Chat encerrado. Até a próxima!\n"
          ]
        }
      ]
    }
  ]
}