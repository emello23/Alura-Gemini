{
  "nbformat": 4,
  "nbformat_minor": 0,
  "metadata": {
    "colab": {
      "provenance": [],
      "include_colab_link": true
    },
    "kernelspec": {
      "name": "python3",
      "display_name": "Python 3"
    },
    "language_info": {
      "name": "python"
    }
  },
  "cells": [
    {
      "cell_type": "markdown",
      "metadata": {
        "id": "view-in-github",
        "colab_type": "text"
      },
      "source": [
        "<a href=\"https://colab.research.google.com/github/emello23/Alura-Gemini/blob/main/Aprendizado.ipynb\" target=\"_parent\"><img src=\"https://colab.research.google.com/assets/colab-badge.svg\" alt=\"Open In Colab\"/></a>"
      ]
    },
    {
      "cell_type": "markdown",
      "source": [
        "\n",
        "\n",
        "\"\"\"\n",
        "Script para extrair texto de um PDF, gerar resumo e tópicos com a API do Gemini\n",
        "e criar um chatbot para interagir com o conteúdo.\n",
        "\"\"\""
      ],
      "metadata": {
        "id": "ENtx9IF7x7jX"
      }
    },
    {
      "cell_type": "code",
      "source": [
        "# Montar o Google Drive\n",
        "from google.colab import drive\n",
        "drive.mount('/content/drive')"
      ],
      "metadata": {
        "id": "s5dYG2kDdbZ_",
        "colab": {
          "base_uri": "https://localhost:8080/"
        },
        "outputId": "29caa971-d741-485f-91d4-ad17ebd9a1cf"
      },
      "execution_count": null,
      "outputs": [
        {
          "output_type": "stream",
          "name": "stdout",
          "text": [
            "Drive already mounted at /content/drive; to attempt to forcibly remount, call drive.mount(\"/content/drive\", force_remount=True).\n"
          ]
        }
      ]
    },
    {
      "cell_type": "code",
      "source": [
        "# Instalar/Atualizar as bibliotecas necessárias\n",
        "!pip install --upgrade google-genai PyMuPDF\n"
      ],
      "metadata": {
        "id": "lGCELBEr-InA",
        "collapsed": true,
        "colab": {
          "base_uri": "https://localhost:8080/"
        },
        "outputId": "9777c2bb-9ee5-43f2-cee8-212ef0f47fa9"
      },
      "execution_count": null,
      "outputs": [
        {
          "output_type": "stream",
          "name": "stdout",
          "text": [
            "Requirement already satisfied: google-genai in /usr/local/lib/python3.11/dist-packages (1.15.0)\n",
            "Requirement already satisfied: PyMuPDF in /usr/local/lib/python3.11/dist-packages (1.25.5)\n",
            "Requirement already satisfied: anyio<5.0.0,>=4.8.0 in /usr/local/lib/python3.11/dist-packages (from google-genai) (4.9.0)\n",
            "Requirement already satisfied: google-auth<3.0.0,>=2.14.1 in /usr/local/lib/python3.11/dist-packages (from google-genai) (2.38.0)\n",
            "Requirement already satisfied: httpx<1.0.0,>=0.28.1 in /usr/local/lib/python3.11/dist-packages (from google-genai) (0.28.1)\n",
            "Requirement already satisfied: pydantic<3.0.0,>=2.0.0 in /usr/local/lib/python3.11/dist-packages (from google-genai) (2.11.4)\n",
            "Requirement already satisfied: requests<3.0.0,>=2.28.1 in /usr/local/lib/python3.11/dist-packages (from google-genai) (2.32.3)\n",
            "Requirement already satisfied: websockets<15.1.0,>=13.0.0 in /usr/local/lib/python3.11/dist-packages (from google-genai) (15.0.1)\n",
            "Requirement already satisfied: typing-extensions<5.0.0,>=4.11.0 in /usr/local/lib/python3.11/dist-packages (from google-genai) (4.13.2)\n",
            "Requirement already satisfied: idna>=2.8 in /usr/local/lib/python3.11/dist-packages (from anyio<5.0.0,>=4.8.0->google-genai) (3.10)\n",
            "Requirement already satisfied: sniffio>=1.1 in /usr/local/lib/python3.11/dist-packages (from anyio<5.0.0,>=4.8.0->google-genai) (1.3.1)\n",
            "Requirement already satisfied: cachetools<6.0,>=2.0.0 in /usr/local/lib/python3.11/dist-packages (from google-auth<3.0.0,>=2.14.1->google-genai) (5.5.2)\n",
            "Requirement already satisfied: pyasn1-modules>=0.2.1 in /usr/local/lib/python3.11/dist-packages (from google-auth<3.0.0,>=2.14.1->google-genai) (0.4.2)\n",
            "Requirement already satisfied: rsa<5,>=3.1.4 in /usr/local/lib/python3.11/dist-packages (from google-auth<3.0.0,>=2.14.1->google-genai) (4.9.1)\n",
            "Requirement already satisfied: certifi in /usr/local/lib/python3.11/dist-packages (from httpx<1.0.0,>=0.28.1->google-genai) (2025.4.26)\n",
            "Requirement already satisfied: httpcore==1.* in /usr/local/lib/python3.11/dist-packages (from httpx<1.0.0,>=0.28.1->google-genai) (1.0.9)\n",
            "Requirement already satisfied: h11>=0.16 in /usr/local/lib/python3.11/dist-packages (from httpcore==1.*->httpx<1.0.0,>=0.28.1->google-genai) (0.16.0)\n",
            "Requirement already satisfied: annotated-types>=0.6.0 in /usr/local/lib/python3.11/dist-packages (from pydantic<3.0.0,>=2.0.0->google-genai) (0.7.0)\n",
            "Requirement already satisfied: pydantic-core==2.33.2 in /usr/local/lib/python3.11/dist-packages (from pydantic<3.0.0,>=2.0.0->google-genai) (2.33.2)\n",
            "Requirement already satisfied: typing-inspection>=0.4.0 in /usr/local/lib/python3.11/dist-packages (from pydantic<3.0.0,>=2.0.0->google-genai) (0.4.0)\n",
            "Requirement already satisfied: charset-normalizer<4,>=2 in /usr/local/lib/python3.11/dist-packages (from requests<3.0.0,>=2.28.1->google-genai) (3.4.2)\n",
            "Requirement already satisfied: urllib3<3,>=1.21.1 in /usr/local/lib/python3.11/dist-packages (from requests<3.0.0,>=2.28.1->google-genai) (2.4.0)\n",
            "Requirement already satisfied: pyasn1<0.7.0,>=0.6.1 in /usr/local/lib/python3.11/dist-packages (from pyasn1-modules>=0.2.1->google-auth<3.0.0,>=2.14.1->google-genai) (0.6.1)\n"
          ]
        }
      ]
    },
    {
      "cell_type": "code",
      "source": [
        "import os\n",
        "from google.colab import userdata\n",
        "from google import genai\n",
        "from google.genai import types # Importação ativa\n",
        "import fitz  # Importa a biblioteca PyMuPDF"
      ],
      "metadata": {
        "id": "Du_leth3cD3v"
      },
      "execution_count": null,
      "outputs": []
    },
    {
      "cell_type": "code",
      "source": [
        "# Configurar a chave da API\n",
        "os.environ['GOOGLE_API_KEY'] = userdata.get('GOOGLE_API_KEY')\n",
        "client = genai.Client()"
      ],
      "metadata": {
        "id": "vqkXAdE8cJxT"
      },
      "execution_count": null,
      "outputs": []
    },
    {
      "cell_type": "code",
      "source": [
        "# Definir o modelo a ser usado\n",
        "modelo = \"gemini-2.0-flash\"\n"
      ],
      "metadata": {
        "id": "gL-FVrZVcX38"
      },
      "execution_count": null,
      "outputs": []
    },
    {
      "cell_type": "code",
      "source": [
        "# --- PARTE ONDE VOCÊ CARREGA O PDF ---\n",
        "# Atualize o caminho do PDF para apontar para o seu arquivo no Google Drive\n",
        "# Alternativa: Coloque o arquivo na sua pasta raiz do My Drive\n",
        "#              e renomei-o para aprendizado.pdf mantendo este mesmo caminho.\n",
        "caminho_do_pdf = \"/content/drive/My Drive/aprendizado.pdf\" # <-- ATUALIZE ESTA LINHA COM O CAMINHO CORRETO'"
      ],
      "metadata": {
        "id": "4WNFIXhQl0Ff"
      },
      "execution_count": null,
      "outputs": []
    },
    {
      "cell_type": "code",
      "source": [
        "def extrair_texto_de_pdf(caminho_do_arquivo):\n",
        "    \"\"\"Extrai texto de um arquivo PDF.\"\"\"\n",
        "    texto_completo = \"\"\n",
        "    try:\n",
        "        documento = fitz.open(caminho_do_arquivo)\n",
        "        for pagina_num in range(documento.page_count):\n",
        "            pagina = documento.load_page(pagina_num)\n",
        "            texto_completo += pagina.get_text()\n",
        "        documento.close()\n",
        "    except Exception as e:\n",
        "        print(f\"Erro ao extrair texto do PDF: {e}\")\n",
        "        texto_completo = None # Retorna None em caso de erro\n",
        "    return texto_completo\n",
        "\n"
      ],
      "metadata": {
        "id": "SVIA1oYHcj1g"
      },
      "execution_count": null,
      "outputs": []
    },
    {
      "cell_type": "code",
      "source": [
        "texto_do_pdf = extrair_texto_de_pdf(caminho_do_pdf)\n",
        "\n"
      ],
      "metadata": {
        "id": "aRPFYuJscmC2",
        "collapsed": true
      },
      "execution_count": null,
      "outputs": []
    },
    {
      "cell_type": "code",
      "source": [
        "if texto_do_pdf: # Verifica se a extração do texto foi bem-sucedida\n",
        "    print(\"Texto extraído do PDF (primeiros 500 caracteres):\")\n",
        "    print(texto_do_pdf[:500] + \"...\") # Mostra apenas uma parte do texto para não sobrecarregar\n",
        "\n",
        "    # --- USANDO GEMINI PARA AJUDAR COM RESUMO E TÓPICOS ---\n",
        "    # Gerar um resumo inicial\n",
        "    try:\n",
        "        response_resumo = client.models.generate_content(\n",
        "            model=modelo,\n",
        "            contents=f\"Por favor, gere um resumo conciso do seguinte texto:\\n\\n{texto_do_pdf}\"\n",
        "        )\n",
        "        if response_resumo and response_resumo.text: # Verifica se a resposta e o texto existem\n",
        "            resumo = response_resumo.text\n",
        "            print(\"\\nResumo gerado pelo Gemini:\")\n",
        "            print(resumo)\n",
        "        else:\n",
        "            print(\"\\nNão foi possível gerar um resumo.\")\n",
        "    except Exception as e:\n",
        "        print(f\"Erro ao gerar resumo: {e}\")\n",
        "\n",
        "\n",
        "    # Tentar identificar tópicos principais\n",
        "    try:\n",
        "        response_topicos = client.models.generate_content(\n",
        "            model=modelo,\n",
        "            contents=f\"Por favor, liste os principais tópicos e sub-tópicos (numerados se possível) encontrados no seguinte texto:\\n\\n{texto_do_pdf}\"\n",
        "        )\n",
        "        if response_topicos and response_topicos.text: # Verifica se a resposta e o texto existem\n",
        "            topicos_identificados = response_topicos.text\n",
        "            print(\"\\nTópicos identificados pelo Gemini:\")\n",
        "            print(topicos_identificados)\n",
        "        else:\n",
        "            print(\"\\nNão foi possível identificar tópicos.\")\n",
        "    except Exception as e:\n",
        "        print(f\"Erro ao identificar tópicos: {e}\")\n",
        "\n",
        "    # --- PARTE DO CHATBOT ---\n",
        "    print(\"\\nOk! Vamos aprender sobre o conteúdo do documento.\")\n",
        "    print(\"Eu farei perguntas sobre o conteúdo do documento. Tente respondê-las!\")\n",
        "    print(\"Digite 'fim' para encerrar o chat.\")\n",
        "    print(\"Desconsidere a 'Pergunta 1:' digitando 'OK'\")\n",
        "    print(\"\\nVamos começar!\")\n",
        "\n",
        "    # Abordagem para gerar perguntas\n",
        "    try:\n",
        "        response_perguntas = client.models.generate_content(\n",
        "            model=modelo,\n",
        "            contents=f\"Com base no seguinte texto, gere 5 perguntas sobre o seu conteúdo para que um usuário possa respondê-las. Liste as perguntas numeradas.\\n\\n{texto_do_pdf}\"\n",
        "        )\n",
        "\n",
        "        if response_perguntas and response_perguntas.text: # Verifica se a resposta e o texto existem\n",
        "            perguntas_geradas = response_perguntas.text.split('\\n') # Divide as perguntas em uma lista\n",
        "            # Filtra linhas vazias e numerações que não são perguntas válidas\n",
        "            perguntas_validas = [p.strip() for p in perguntas_geradas if p.strip() and any(char.isdigit() for char in p.strip().split('.')[0])]\n",
        "\n",
        "\n",
        "            if not perguntas_validas:\n",
        "                print(\"Não foi possível gerar perguntas a partir do PDF.\")\n",
        "            else:\n",
        "                indice_pergunta_atual = 0\n",
        "\n",
        "                while indice_pergunta_atual < len(perguntas_validas):\n",
        "                    pergunta_atual = perguntas_validas[indice_pergunta_atual]\n",
        "                    print(f\"\\nPergunta {indice_pergunta_atual + 1}: {pergunta_atual}\")\n",
        "\n",
        "                    resposta_usuario = input(\"Sua resposta: \")\n",
        "\n",
        "                    if resposta_usuario.lower() == \"fim\":\n",
        "                        print(\"Chat encerrado. Até a próxima!\")\n",
        "                        break\n",
        "\n",
        "                    # Usar o Gemini para avaliar a resposta do usuário\n",
        "                    try:\n",
        "                        chat_avaliacao_config = types.GenerateContentConfig(\n",
        "                          system_instruction = f\"Você é um avaliador de respostas baseado no seguinte texto. A pergunta foi: '{pergunta_atual}'. Avalie a resposta do usuário ('{resposta_usuario}') com base no texto original e diga se ela está correta, incorreta ou parcialmente correta, explicando brevemente por que. O texto original é:\\n\\n{texto_do_pdf}\"\n",
        "                        )\n",
        "                        chat_avaliacao = client.chats.create(model=modelo, config=chat_avaliacao_config)\n",
        "                        response_avaliacao = chat_avaliacao.send_message(f\"Pergunta: {pergunta_atual}\\nResposta do usuário: {resposta_usuario}\")\n",
        "\n",
        "                        if response_avaliacao and response_avaliacao.text: # Verifica se a resposta e o texto existem\n",
        "                            print(\"Avaliação do Gemini: \", response_avaliacao.text)\n",
        "                        else:\n",
        "                            print(\"Não foi possível avaliar a resposta.\")\n",
        "\n",
        "                    except Exception as e:\n",
        "                        print(f\"Erro ao avaliar a resposta: {e}\")\n",
        "\n",
        "                    indice_pergunta_atual += 1 # Passa para a próxima pergunta\n",
        "\n",
        "                if indice_pergunta_atual == len(perguntas_validas):\n",
        "                  print(\"\\nVocê respondeu a todas as perguntas. Chat encerrado. Até a próxima!\")\n",
        "        else:\n",
        "            print(\"Não foi possível gerar perguntas a partir do PDF.\")\n",
        "    except Exception as e:\n",
        "        print(f\"Erro ao gerar perguntas ou executar o loop do chatbot: {e}\")\n",
        "\n",
        "else:\n",
        "    print(\"Não foi possível prosseguir porque a extração do texto do PDF falhou.\")"
      ],
      "metadata": {
        "id": "tajL5opxe2YT",
        "colab": {
          "base_uri": "https://localhost:8080/"
        },
        "outputId": "0b769ed0-17f2-4c1c-aea2-3ef50c952454"
      },
      "execution_count": null,
      "outputs": [
        {
          "output_type": "stream",
          "name": "stdout",
          "text": [
            "Texto extraído do PDF (primeiros 500 caracteres):\n",
            "Aula2\n",
            "Lenalda Andrade Santos\n",
            "A REVOLUÇÃO FRANCESA\n",
            "META\n",
            "Revisar e aprofundar o estudo do movimento que se transformou no modelo clássico de \n",
            "revolução burguesa. \n",
            "OBJETIVOS\n",
            "Ao ﬁ nal desta aula, o aluno deverá:\n",
            "Analisar a Revolução Francesa como um evento capital de toda a \n",
            "história do mundo moderno.\n",
            "Identiﬁ car a contribuição do movimento revolucionário francês para o ﬁ m da\n",
            " antiga ordem feudal-absolutista.\n",
            "Indicar bibliograﬁ a que permita aos alunos aprofundarem o estudo do tema \n",
            "das revoluções ...\n",
            "\n",
            "Resumo gerado pelo Gemini:\n",
            "Esta aula tem como objetivo revisar e aprofundar o estudo da Revolução Francesa, destacando sua importância como um modelo clássico de revolução burguesa e sua influência no fim da ordem feudal-absolutista. A aula aborda a França pré-revolucionária, a divisão da sociedade do Antigo Regime, a convocação dos Estados Gerais, a tomada da Bastilha e as fases da revolução, incluindo a ditadura jacobina e o período Termidoriano. São apresentadas as contribuições sociais, econômicas, políticas, religiosas e culturais da Revolução Francesa, bem como a Declaração dos Direitos do Homem e do Cidadão. A aula também analisa a mudança no significado da palavra \"revolução\" e discute os papéis da burguesia, aristocracia, camponeses e proletariado urbano no processo revolucionário, concluindo que a Revolução Francesa foi resultado da confluência desses diversos movimentos.\n",
            "\n",
            "\n",
            "Tópicos identificados pelo Gemini:\n",
            "Com certeza! Aqui está a lista dos principais tópicos e sub-tópicos do texto \"Aula 2 - A Revolução Francesa\", numerados para facilitar a visualização:\n",
            "\n",
            "**Principais Tópicos e Subtópicos:**\n",
            "\n",
            "1.  **Introdução**\n",
            "    *   Importância histórica da Revolução Francesa (Hobsbawm)\n",
            "    *   Abordagem da aula: análise de diferentes aspectos da revolução\n",
            "\n",
            "2.  **A França às Vésperas da Revolução**\n",
            "    *   Estrutura social (aspectos feudais e burguesia controlando finanças)\n",
            "    *   Ascensão da burguesia (poder econômico e consciência de classe)\n",
            "    *   Camponeses e estrutura fundiária (dependência, baixo consumo, pouca industrialização)\n",
            "    *   Regulamentações das corporações de ofício (produção artesanal)\n",
            "\n",
            "3.  **A Sociedade do Antigo Regime**\n",
            "    *   Divisão em três ordens (Primeiro, Segundo e Terceiro Estados)\n",
            "    *   Primeiro Estado (Clero):\n",
            "        *   Alto clero (privilégios)\n",
            "        *   Baixo clero (simpatia pelos revolucionários)\n",
            "    *   Segundo Estado (Nobreza):\n",
            "        *   Nobreza palaciana (Versalhes)\n",
            "        *   Nobreza provincial (origem feudal)\n",
            "        *   Nobreza de toga (burgueses com títulos)\n",
            "    *   Isenção de impostos e privilégios do clero e da nobreza\n",
            "    *   Terceiro Estado (Camponeses, burguesia, camadas populares)\n",
            "        *   Extinção dos privilégios e igualdade civil\n",
            "    *   Monarquia absolutista e \"direito divino\" dos reis\n",
            "    *   Repúdio às instituições francesas e influência do Iluminismo\n",
            "\n",
            "4.  **A Convocação dos Estados Gerais**\n",
            "    *   Crise e convocação dos Estados Gerais (assembleia consultiva)\n",
            "    *   Tradição de votação por Estado (favorecendo Primeiro e Segundo Estados)\n",
            "    *   Panfletos e reuniões da burguesia\n",
            "    *   Cahiers de doléances (\"cadernos de lamentações\")\n",
            "        *   Número de representantes do Terceiro Estado\n",
            "        *   Votação por cabeça\n",
            "    *   Rejeição do voto por cabeça pelo rei\n",
            "\n",
            "5.  **Com a Cabeça de Luís XVI Rolou um Mundo Inteiro**\n",
            "    *   Repercussões da Revolução Francesa na Europa\n",
            "    *   Organização de \"partidos\" jacobinos\n",
            "    *   Divisão da Revolução Francesa em cinco fases:\n",
            "        *   Inicial (parlamentarismo inglês)\n",
            "        *   Tomada da Bastilha (intervenção da plebe)\n",
            "        *   Ditadura jacobina (Terror)\n",
            "            *   Transformação dos jacobinos\n",
            "            *   Confisco e venda de terras da Igreja e da nobreza\n",
            "            *   Criação do exército nacional\n",
            "        *   Oposição e desconfiança da plebe radical\n",
            "        *   Golpe de Termidor e ascensão de Napoleão Bonaparte\n",
            "    *   Contribuições da Revolução Francesa:\n",
            "        *   Sociais (liquidação do feudalismo, igualdade de direitos)\n",
            "        *   Econômicas (abolição de privilégios e monopólios)\n",
            "        *   Políticas (destruição do direito divino, governo democrático)\n",
            "        *   Religiosas (tolerância e separação entre Estado e Igreja)\n",
            "        *   Culturais (instrução pública e sistema de educação em massa)\n",
            "    *   Criação dos fundamentos da moderna sociedade civil\n",
            "\n",
            "6.  **A Queda da Bastilha**\n",
            "    *   Armamento da população e fome em Paris\n",
            "    *   Tomada da Bastilha (14 de julho de 1789) como símbolo do absolutismo\n",
            "    *   Início oficial da Revolução Francesa com a participação das massas\n",
            "\n",
            "7.  **A Revolução Francesa**\n",
            "    *   Luta contra o despotismo e privilégios em nome da liberdade e igualdade\n",
            "    *   Razões para a revolução ter ocorrido na França\n",
            "    *   Propaganda estrangeira dos girondinos\n",
            "    *   A Revolução como \"apóstolo da igualdade\" (Lefebvre)\n",
            "    *   Conquista do mundo pela Revolução e fim dos despotismos\n",
            "    *   Benefícios da Revolução para a burguesia (administração pública e bens nacionalizados)\n",
            "    *   Rebaixamento do ideal pela burguesia\n",
            "    *   Injustiça da Revolução ter aproveitado apenas a uma classe\n",
            "    *   Horrores da Revolução e desgraças da liberdade\n",
            "    *   Permanência dos princípios como religião mística e exaltação do patriotismo\n",
            "\n",
            "8.  **O Significado da Revolução (Hannah Arendt)**\n",
            "    *   Mudança na conotação da palavra \"revolução\"\n",
            "    *   Ênfase na irresistibilidade do movimento (diálogo entre Luís XVI e Liancourt)\n",
            "    *   Abertura do domínio público à maioria dos não livres (pobres e oprimidos)\n",
            "\n",
            "9.  **Revoluções Inglesa e Francesa**\n",
            "    *   Criação de instrumentos institucionais e ideológicos para a dominação burguesa\n",
            "    *   Revolução Inglesa:\n",
            "        *   Conquista da liberdade civil e política\n",
            "        *   Teoria de J. Locke\n",
            "    *   Revolução Francesa:\n",
            "        *   Ideia de igualdade (justiça) social\n",
            "        *   Democracia política e social (Rousseau e jacobinos)\n",
            "    *   Ultrapassagem das necessidades e interesses da burguesia\n",
            "    *   Lutas da classe operária e transformação dos Estados liberais\n",
            "\n",
            "10. **A Religião Privada Contra o Estado**\n",
            "    *   Ataque do novo Estado aos poderes das comunidades do Antigo Regime\n",
            "    *   Luta contra a Igreja Católica (rival pelo controle da vida privada)\n",
            "    *   Conflito entre tolerância religiosa e necessidades financeiras\n",
            "    *   Confisco dos bens eclesiásticos e Constituição Civil do clero\n",
            "    *   Controle do Estado sobre locais, datas e cerimônias do culto religioso\n",
            "    *   Concordata de 1801 e direito permanente do Estado em intervir nas questões religiosas\n",
            "\n",
            "11. **Declaração dos Direitos do Homem e do Cidadão: 26 de Agosto de 1789**\n",
            "    *   Exposição dos direitos naturais, inalienáveis e sagrados do homem\n",
            "    *   Artigos sobre liberdade, prosperidade, segurança, resistência à opressão, soberania, lei, igualdade, justiça, opinião, comunicação, propriedade, etc.\n",
            "\n",
            "12. **Conclusão**\n",
            "    *   Revolução Francesa como confluência de quatro movimentos distintos (aristocrática, burguesa, camponesa e do proletariado urbano)\n",
            "    *   Início do processo revolucionário em 1787 com a revolta da aristocracia\n",
            "\n",
            "13. **Atividades**\n",
            "14. **Próxima Aula**\n",
            "15. **Referências**\n",
            "16. **Resumo**\n",
            "\n",
            "\n",
            "Ok! Vamos aprender sobre o conteúdo do documento.\n",
            "Eu farei perguntas sobre o conteúdo do documento. Tente respondê-las!\n",
            "Digite 'fim' para encerrar o chat.\n",
            "Desconsidere a 'Pergunta 1:' digitando 'OK'\n",
            "\n",
            "Vamos começar!\n",
            "\n",
            "Pergunta 1: Aqui estão 5 perguntas sobre o conteúdo do texto, numeradas, para que um usuário possa respondê-las:\n",
            "Sua resposta: OK\n",
            "Avaliação do Gemini:  A resposta do usuário (\"OK\") é **incorreta**. O usuário não respondeu às perguntas sobre o conteúdo do texto. Em vez disso, apenas acusou o recebimento da mensagem.\n",
            "\n",
            "\n",
            "Pergunta 2: 1.  Segundo o texto, quais eram as principais divisões sociais na França do Antigo Regime e quais eram os anseios do Terceiro Estado?\n",
            "Sua resposta: Clero e nobreza\n",
            "Avaliação do Gemini:  A resposta do usuário está parcialmente correta.\n",
            "\n",
            "**Explicação:**\n",
            "\n",
            "*   **Divisões Sociais:** O texto afirma que as principais divisões sociais na França do Antigo Regime eram o clero (Primeiro Estado), a nobreza (Segundo Estado) e o Terceiro Estado. A resposta do usuário menciona corretamente o clero e a nobreza, mas omite o Terceiro Estado, que era uma divisão fundamental.\n",
            "*   **Anseios do Terceiro Estado:** A resposta não aborda os anseios do Terceiro Estado, que eram principalmente a extinção dos privilégios do clero e da nobreza e o estabelecimento da igualdade civil.\n",
            "\n",
            "Pergunta 3: 2.  De acordo com o texto, quais foram as principais fases da Revolução Francesa e quais grupos sociais se destacaram em cada uma delas?\n",
            "Sua resposta: Cleroe nobreza\n",
            "Avaliação do Gemini:  A resposta do usuário está incorreta. O texto menciona as fases da Revolução Francesa e os grupos sociais que se destacaram em cada uma delas, mas \"clero e nobreza\" não representam as fases da revolução. A resposta ignora a parte da pergunta sobre as fases da revolução e também não associa corretamente os grupos sociais às fases correspondentes.\n",
            "\n",
            "\n",
            "Pergunta 4: 3.  O texto menciona a Declaração dos Direitos do Homem e do Cidadão. Cite três direitos fundamentais expressos nesse documento.\n",
            "Sua resposta: Liberdade, igualdade e fraternidade\n",
            "Avaliação do Gemini:  A resposta do usuário está parcialmente correta. O texto menciona a Declaração dos Direitos do Homem e do Cidadão, e \"liberdade\" e \"igualdade\" são de fato direitos fundamentais expressos nesse documento. No entanto, \"fraternidade\" não é explicitamente mencionada como um direito na Declaração, embora o espírito de fraternidade possa estar implícito na ideia de utilidade comum e associação política. Os artigos 1 e 2 da Declaração dos Direitos do Homem e do Cidadão (presentes no texto) mencionam a liberdade e a igualdade como direitos.\n",
            "\n",
            "\n",
            "Pergunta 5: 4.  Baseando-se no texto, explique como a Revolução Francesa impactou o conceito de \"revolução\", segundo a análise de Hannah Arendt.\n",
            "Sua resposta: A influência da \"questão social\" na Revolução Francesa, segundo Arendt, levou à violência e ao Terror, obscurecendo o potencial para a genuína liberdade política.\n",
            "Avaliação do Gemini:  A resposta do usuário está incorreta. O texto de apoio afirma que, segundo Arendt, a Revolução Francesa impactou o conceito de \"revolução\" ao introduzir a ideia de **irresistibilidade**. Arendt destaca o momento em que Luís XVI reconhece a queda da Bastilha não como uma revolta (algo controlável), mas como uma revolução (algo irrevogável e além do poder humano). A resposta do usuário foca em outro aspecto (a questão social, violência e terror), que não é o ponto central da análise de Arendt sobre o impacto da Revolução Francesa no *conceito* de revolução.\n",
            "\n",
            "Pergunta 6: 5.  O texto argumenta que a Revolução Francesa não foi apenas uma revolução burguesa. Quais outros movimentos distintos contribuíram para o processo revolucionário, segundo o autor?\n",
            "Sua resposta: Iluminismo, feminismo, popular urbano, campesino\n",
            "Avaliação do Gemini:  A resposta está parcialmente correta.\n",
            "\n",
            "*   **Correto:** O movimento popular urbano (proletariado urbano) e o campesino são mencionados no texto como contribuintes distintos para o processo revolucionário.\n",
            "*   **Incorreto:** O texto não menciona \"Iluminismo\" ou \"feminismo\" como movimentos distintos que contribuíram para o processo revolucionário, embora o Iluminismo tenha influenciado as ideias da revolução. O texto menciona uma \"revolução aristocrática\" que não foi mencionada na resposta.\n",
            "\n",
            "Portanto, a resposta identificou corretamente dois dos movimentos, mas incluiu elementos incorretos e omitiu um elemento correto.\n",
            "\n",
            "Você respondeu a todas as perguntas. Chat encerrado. Até a próxima!\n"
          ]
        }
      ]
    },
    {
      "cell_type": "code",
      "source": [],
      "metadata": {
        "id": "AUYsWKyPuesx"
      },
      "execution_count": null,
      "outputs": []
    }
  ]
}