{
  "nbformat": 4,
  "nbformat_minor": 0,
  "metadata": {
    "colab": {
      "provenance": [],
      "include_colab_link": true
    },
    "kernelspec": {
      "name": "python3",
      "display_name": "Python 3"
    },
    "language_info": {
      "name": "python"
    }
  },
  "cells": [
    {
      "cell_type": "markdown",
      "metadata": {
        "id": "view-in-github",
        "colab_type": "text"
      },
      "source": [
        "<a href=\"https://colab.research.google.com/github/emello23/Alura-Gemini/blob/main/Aprendizado.ipynb\" target=\"_parent\"><img src=\"https://colab.research.google.com/assets/colab-badge.svg\" alt=\"Open In Colab\"/></a>"
      ]
    },
    {
      "cell_type": "markdown",
      "source": [
        "# -*- coding: utf-8 -*-\n",
        "\"\"\"\n",
        "Script para extrair texto de um PDF, gerar resumo e tópicos com a API do Gemini\n",
        "e criar um chatbot para interagir com o conteúdo.\n",
        "\"\"\""
      ],
      "metadata": {
        "id": "ENtx9IF7x7jX"
      }
    },
    {
      "cell_type": "code",
      "source": [
        "# Montar o Google Drive\n",
        "from google.colab import drive\n",
        "drive.mount('/content/drive')"
      ],
      "metadata": {
        "id": "s5dYG2kDdbZ_",
        "colab": {
          "base_uri": "https://localhost:8080/"
        },
        "outputId": "8e952572-3742-4675-f0ee-5beae0e3fe84"
      },
      "execution_count": 20,
      "outputs": [
        {
          "output_type": "stream",
          "name": "stdout",
          "text": [
            "Drive already mounted at /content/drive; to attempt to forcibly remount, call drive.mount(\"/content/drive\", force_remount=True).\n"
          ]
        }
      ]
    },
    {
      "cell_type": "code",
      "source": [
        "# Instalar/Atualizar as bibliotecas necessárias\n",
        "!pip install --upgrade google-genai PyMuPDF\n"
      ],
      "metadata": {
        "id": "lGCELBEr-InA",
        "collapsed": true,
        "colab": {
          "base_uri": "https://localhost:8080/"
        },
        "outputId": "9d5c2714-88ed-4cc7-f6f0-c7320af34da8"
      },
      "execution_count": 21,
      "outputs": [
        {
          "output_type": "stream",
          "name": "stdout",
          "text": [
            "Requirement already satisfied: google-genai in /usr/local/lib/python3.11/dist-packages (1.15.0)\n",
            "Requirement already satisfied: PyMuPDF in /usr/local/lib/python3.11/dist-packages (1.25.5)\n",
            "Requirement already satisfied: anyio<5.0.0,>=4.8.0 in /usr/local/lib/python3.11/dist-packages (from google-genai) (4.9.0)\n",
            "Requirement already satisfied: google-auth<3.0.0,>=2.14.1 in /usr/local/lib/python3.11/dist-packages (from google-genai) (2.38.0)\n",
            "Requirement already satisfied: httpx<1.0.0,>=0.28.1 in /usr/local/lib/python3.11/dist-packages (from google-genai) (0.28.1)\n",
            "Requirement already satisfied: pydantic<3.0.0,>=2.0.0 in /usr/local/lib/python3.11/dist-packages (from google-genai) (2.11.4)\n",
            "Requirement already satisfied: requests<3.0.0,>=2.28.1 in /usr/local/lib/python3.11/dist-packages (from google-genai) (2.32.3)\n",
            "Requirement already satisfied: websockets<15.1.0,>=13.0.0 in /usr/local/lib/python3.11/dist-packages (from google-genai) (15.0.1)\n",
            "Requirement already satisfied: typing-extensions<5.0.0,>=4.11.0 in /usr/local/lib/python3.11/dist-packages (from google-genai) (4.13.2)\n",
            "Requirement already satisfied: idna>=2.8 in /usr/local/lib/python3.11/dist-packages (from anyio<5.0.0,>=4.8.0->google-genai) (3.10)\n",
            "Requirement already satisfied: sniffio>=1.1 in /usr/local/lib/python3.11/dist-packages (from anyio<5.0.0,>=4.8.0->google-genai) (1.3.1)\n",
            "Requirement already satisfied: cachetools<6.0,>=2.0.0 in /usr/local/lib/python3.11/dist-packages (from google-auth<3.0.0,>=2.14.1->google-genai) (5.5.2)\n",
            "Requirement already satisfied: pyasn1-modules>=0.2.1 in /usr/local/lib/python3.11/dist-packages (from google-auth<3.0.0,>=2.14.1->google-genai) (0.4.2)\n",
            "Requirement already satisfied: rsa<5,>=3.1.4 in /usr/local/lib/python3.11/dist-packages (from google-auth<3.0.0,>=2.14.1->google-genai) (4.9.1)\n",
            "Requirement already satisfied: certifi in /usr/local/lib/python3.11/dist-packages (from httpx<1.0.0,>=0.28.1->google-genai) (2025.4.26)\n",
            "Requirement already satisfied: httpcore==1.* in /usr/local/lib/python3.11/dist-packages (from httpx<1.0.0,>=0.28.1->google-genai) (1.0.9)\n",
            "Requirement already satisfied: h11>=0.16 in /usr/local/lib/python3.11/dist-packages (from httpcore==1.*->httpx<1.0.0,>=0.28.1->google-genai) (0.16.0)\n",
            "Requirement already satisfied: annotated-types>=0.6.0 in /usr/local/lib/python3.11/dist-packages (from pydantic<3.0.0,>=2.0.0->google-genai) (0.7.0)\n",
            "Requirement already satisfied: pydantic-core==2.33.2 in /usr/local/lib/python3.11/dist-packages (from pydantic<3.0.0,>=2.0.0->google-genai) (2.33.2)\n",
            "Requirement already satisfied: typing-inspection>=0.4.0 in /usr/local/lib/python3.11/dist-packages (from pydantic<3.0.0,>=2.0.0->google-genai) (0.4.0)\n",
            "Requirement already satisfied: charset-normalizer<4,>=2 in /usr/local/lib/python3.11/dist-packages (from requests<3.0.0,>=2.28.1->google-genai) (3.4.2)\n",
            "Requirement already satisfied: urllib3<3,>=1.21.1 in /usr/local/lib/python3.11/dist-packages (from requests<3.0.0,>=2.28.1->google-genai) (2.4.0)\n",
            "Requirement already satisfied: pyasn1<0.7.0,>=0.6.1 in /usr/local/lib/python3.11/dist-packages (from pyasn1-modules>=0.2.1->google-auth<3.0.0,>=2.14.1->google-genai) (0.6.1)\n"
          ]
        }
      ]
    },
    {
      "cell_type": "code",
      "source": [
        "import os\n",
        "from google.colab import userdata\n",
        "from google import genai\n",
        "from google.genai import types # Importação ativa\n",
        "import fitz  # Importa a biblioteca PyMuPDF"
      ],
      "metadata": {
        "id": "Du_leth3cD3v"
      },
      "execution_count": 22,
      "outputs": []
    },
    {
      "cell_type": "code",
      "source": [
        "# Configurar a chave da API\n",
        "os.environ['GOOGLE_API_KEY'] = userdata.get('GOOGLE_API_KEY')\n",
        "client = genai.Client()"
      ],
      "metadata": {
        "id": "vqkXAdE8cJxT"
      },
      "execution_count": 23,
      "outputs": []
    },
    {
      "cell_type": "code",
      "source": [
        "# Definir o modelo a ser usado\n",
        "modelo = \"gemini-2.0-flash\"\n"
      ],
      "metadata": {
        "id": "gL-FVrZVcX38"
      },
      "execution_count": 24,
      "outputs": []
    },
    {
      "cell_type": "code",
      "source": [
        "# --- PARTE ONDE VOCÊ CARREGA O PDF ---\n",
        "# Atualize o caminho do PDF para apontar para o seu arquivo no Google Drive\n",
        "# Alternativa: Coloque o arquivo na sua pasta raiz do My Drive\n",
        "#              e renomei-o para aprendizado.pdf mantendo este mesmo caminho.\n",
        "caminho_do_pdf = \"/content/drive/My Drive/aprendizado.pdf\" # <-- ATUALIZE ESTA LINHA COM O CAMINHO CORRETO'"
      ],
      "metadata": {
        "id": "4WNFIXhQl0Ff"
      },
      "execution_count": 25,
      "outputs": []
    },
    {
      "cell_type": "code",
      "source": [
        "def extrair_texto_de_pdf(caminho_do_arquivo):\n",
        "    \"\"\"Extrai texto de um arquivo PDF.\"\"\"\n",
        "    texto_completo = \"\"\n",
        "    try:\n",
        "        documento = fitz.open(caminho_do_arquivo)\n",
        "        for pagina_num in range(documento.page_count):\n",
        "            pagina = documento.load_page(pagina_num)\n",
        "            texto_completo += pagina.get_text()\n",
        "        documento.close()\n",
        "    except Exception as e:\n",
        "        print(f\"Erro ao extrair texto do PDF: {e}\")\n",
        "        texto_completo = None # Retorna None em caso de erro\n",
        "    return texto_completo\n",
        "\n"
      ],
      "metadata": {
        "id": "SVIA1oYHcj1g"
      },
      "execution_count": 26,
      "outputs": []
    },
    {
      "cell_type": "code",
      "source": [
        "texto_do_pdf = extrair_texto_de_pdf(caminho_do_pdf)\n",
        "\n"
      ],
      "metadata": {
        "id": "aRPFYuJscmC2",
        "collapsed": true
      },
      "execution_count": 27,
      "outputs": []
    },
    {
      "cell_type": "code",
      "source": [
        "if texto_do_pdf: # Verifica se a extração do texto foi bem-sucedida\n",
        "    print(\"Texto extraído do PDF (primeiros 500 caracteres):\")\n",
        "    print(texto_do_pdf[:500] + \"...\") # Mostra apenas uma parte do texto para não sobrecarregar\n",
        "\n",
        "    # --- USANDO GEMINI PARA AJUDAR COM RESUMO E TÓPICOS ---\n",
        "    # Gerar um resumo inicial\n",
        "    try:\n",
        "        response_resumo = client.models.generate_content(\n",
        "            model=modelo,\n",
        "            contents=f\"Por favor, gere um resumo conciso do seguinte texto:\\n\\n{texto_do_pdf}\"\n",
        "        )\n",
        "        if response_resumo and response_resumo.text: # Verifica se a resposta e o texto existem\n",
        "            resumo = response_resumo.text\n",
        "            print(\"\\nResumo gerado pelo Gemini:\")\n",
        "            print(resumo)\n",
        "        else:\n",
        "            print(\"\\nNão foi possível gerar um resumo.\")\n",
        "    except Exception as e:\n",
        "        print(f\"Erro ao gerar resumo: {e}\")\n",
        "\n",
        "\n",
        "    # Tentar identificar tópicos principais\n",
        "    try:\n",
        "        response_topicos = client.models.generate_content(\n",
        "            model=modelo,\n",
        "            contents=f\"Por favor, liste os principais tópicos e sub-tópicos (numerados se possível) encontrados no seguinte texto:\\n\\n{texto_do_pdf}\"\n",
        "        )\n",
        "        if response_topicos and response_topicos.text: # Verifica se a resposta e o texto existem\n",
        "            topicos_identificados = response_topicos.text\n",
        "            print(\"\\nTópicos identificados pelo Gemini:\")\n",
        "            print(topicos_identificados)\n",
        "        else:\n",
        "            print(\"\\nNão foi possível identificar tópicos.\")\n",
        "    except Exception as e:\n",
        "        print(f\"Erro ao identificar tópicos: {e}\")\n",
        "\n",
        "    # --- PARTE DO CHATBOT ---\n",
        "    print(\"\\nOk! Vamos aprender sobre o conteúdo do documento.\")\n",
        "    print(\"Eu farei perguntas sobre o conteúdo do documento. Tente respondê-las!\")\n",
        "    print(\"Digite 'fim' para encerrar o chat.\")\n",
        "\n",
        "    # Abordagem para gerar perguntas\n",
        "    try:\n",
        "        response_perguntas = client.models.generate_content(\n",
        "            model=modelo,\n",
        "            contents=f\"Com base no seguinte texto, gere 5 perguntas sobre o seu conteúdo para que um usuário possa respondê-las. Liste as perguntas numeradas.\\n\\n{texto_do_pdf}\"\n",
        "        )\n",
        "\n",
        "        if response_perguntas and response_perguntas.text: # Verifica se a resposta e o texto existem\n",
        "            perguntas_geradas = response_perguntas.text.split('\\n') # Divide as perguntas em uma lista\n",
        "            # Filtra linhas vazias e numerações que não são perguntas válidas\n",
        "            perguntas_validas = [p.strip() for p in perguntas_geradas if p.strip() and any(char.isdigit() for char in p.strip().split('.')[0])]\n",
        "\n",
        "\n",
        "            if not perguntas_validas:\n",
        "                print(\"Não foi possível gerar perguntas a partir do PDF.\")\n",
        "            else:\n",
        "                indice_pergunta_atual = 0\n",
        "\n",
        "                while indice_pergunta_atual < len(perguntas_validas):\n",
        "                    pergunta_atual = perguntas_validas[indice_pergunta_atual]\n",
        "                    print(f\"\\nPergunta {indice_pergunta_atual + 1}: {pergunta_atual}\")\n",
        "\n",
        "                    resposta_usuario = input(\"Sua resposta: \")\n",
        "\n",
        "                    if resposta_usuario.lower() == \"fim\":\n",
        "                        print(\"Chat encerrado. Até a próxima!\")\n",
        "                        break\n",
        "\n",
        "                    # Usar o Gemini para avaliar a resposta do usuário\n",
        "                    try:\n",
        "                        chat_avaliacao_config = types.GenerateContentConfig(\n",
        "                          system_instruction = f\"Você é um avaliador de respostas baseado no seguinte texto. A pergunta foi: '{pergunta_atual}'. Avalie a resposta do usuário ('{resposta_usuario}') com base no texto original e diga se ela está correta, incorreta ou parcialmente correta, explicando brevemente por que. O texto original é:\\n\\n{texto_do_pdf}\"\n",
        "                        )\n",
        "                        chat_avaliacao = client.chats.create(model=modelo, config=chat_avaliacao_config)\n",
        "                        response_avaliacao = chat_avaliacao.send_message(f\"Pergunta: {pergunta_atual}\\nResposta do usuário: {resposta_usuario}\")\n",
        "\n",
        "                        if response_avaliacao and response_avaliacao.text: # Verifica se a resposta e o texto existem\n",
        "                            print(\"Avaliação do Gemini: \", response_avaliacao.text)\n",
        "                        else:\n",
        "                            print(\"Não foi possível avaliar a resposta.\")\n",
        "\n",
        "                    except Exception as e:\n",
        "                        print(f\"Erro ao avaliar a resposta: {e}\")\n",
        "\n",
        "                    indice_pergunta_atual += 1 # Passa para a próxima pergunta\n",
        "\n",
        "                if indice_pergunta_atual == len(perguntas_validas):\n",
        "                  print(\"\\nVocê respondeu a todas as perguntas. Chat encerrado. Até a próxima!\")\n",
        "        else:\n",
        "            print(\"Não foi possível gerar perguntas a partir do PDF.\")\n",
        "    except Exception as e:\n",
        "        print(f\"Erro ao gerar perguntas ou executar o loop do chatbot: {e}\")\n",
        "\n",
        "else:\n",
        "    print(\"Não foi possível prosseguir porque a extração do texto do PDF falhou.\")"
      ],
      "metadata": {
        "id": "tajL5opxe2YT",
        "colab": {
          "base_uri": "https://localhost:8080/"
        },
        "outputId": "f0ce45a4-803a-4269-d771-2b3ba833801c"
      },
      "execution_count": 28,
      "outputs": [
        {
          "output_type": "stream",
          "name": "stdout",
          "text": [
            "Texto extraído do PDF (primeiros 500 caracteres):\n",
            "Aula2\n",
            "Lenalda Andrade Santos\n",
            "A REVOLUÇÃO FRANCESA\n",
            "META\n",
            "Revisar e aprofundar o estudo do movimento que se transformou no modelo clássico de \n",
            "revolução burguesa. \n",
            "OBJETIVOS\n",
            "Ao ﬁ nal desta aula, o aluno deverá:\n",
            "Analisar a Revolução Francesa como um evento capital de toda a \n",
            "história do mundo moderno.\n",
            "Identiﬁ car a contribuição do movimento revolucionário francês para o ﬁ m da\n",
            " antiga ordem feudal-absolutista.\n",
            "Indicar bibliograﬁ a que permita aos alunos aprofundarem o estudo do tema \n",
            "das revoluções ...\n",
            "\n",
            "Resumo gerado pelo Gemini:\n",
            "Esta aula sobre a Revolução Francesa visa revisar e aprofundar o conhecimento sobre este evento crucial. Aborda a França pré-revolucionária, destacando a ascensão da burguesia em contraste com os privilégios da nobreza e do clero, e a insatisfação do Terceiro Estado. Explora as fases da Revolução, desde a convocação dos Estados Gerais até a ascensão de Napoleão, incluindo a radicalização jacobina e o período do Terror. Discute as contribuições sociais, econômicas, políticas, religiosas e culturais da Revolução, enfatizando o fim do feudalismo, a Declaração dos Direitos do Homem e do Cidadão, e a importância da igualdade. A aula também analisa o papel da burguesia, camponeses e proletariado urbano no movimento revolucionário, questionando a visão da Revolução como puramente burguesa e destacando a influência das ideias iluministas.\n",
            "\n",
            "\n",
            "Tópicos identificados pelo Gemini:\n",
            "Com prazer! Aqui estão os principais tópicos e sub-tópicos do texto, organizados para melhor visualização:\n",
            "\n",
            "**Tópico Principal: A Revolução Francesa**\n",
            "\n",
            "*   **Meta:**\n",
            "    *   Revisar e aprofundar o estudo da Revolução Francesa como modelo clássico de revolução burguesa.\n",
            "\n",
            "*   **Objetivos:**\n",
            "    *   Analisar a Revolução Francesa como evento capital da história moderna.\n",
            "    *   Identificar a contribuição para o fim da antiga ordem feudal-absolutista.\n",
            "    *   Indicar bibliografia para aprofundamento.\n",
            "\n",
            "*   **Introdução:**\n",
            "    *   Importância histórica da Revolução Francesa (citação de Eric J. Hobsbawn).\n",
            "    *   Abordagem do estudo da Revolução através de diferentes aspectos, em vez de descrição dos fatos.\n",
            "\n",
            "*   **A França às Vésperas da Revolução:**\n",
            "    *   Estrutura social com traços feudais e controle burguês das finanças.\n",
            "    *   Crescimento da burguesia (econômico, político e consciência de classe).\n",
            "    *   Difusão das teorias iluministas.\n",
            "    *   Desejo da burguesia de legitimar sua tomada de poder.\n",
            "    *   Situação da maioria camponesa e suas demandas (trabalho assalariado, mercado consumidor).\n",
            "    *   Estrutura fundiária e produção agrícola.\n",
            "    *   Regulamentações das corporações de ofício e produção artesanal.\n",
            "    *   Aliança entre burguesia e camponeses para o fim do Antigo Regime.\n",
            "\n",
            "*   **A Sociedade do Antigo Regime:**\n",
            "    1.  Primeiro Estado (Clero):\n",
            "        *   Alto clero (privilégios).\n",
            "        *   Baixo clero (simpatia com os revolucionários).\n",
            "    2.  Segundo Estado (Nobreza):\n",
            "        *   Nobreza palaciana (corte em Versalhes).\n",
            "        *   Nobreza provincial (privilégios feudais).\n",
            "        *   Nobreza de toga (burgueses com títulos).\n",
            "    *   Isenção de impostos e outros privilégios para clero e nobreza.\n",
            "    3.  Terceiro Estado:\n",
            "        *   Camponeses, burguesia e camadas populares urbanas.\n",
            "        *   Extinção dos privilégios e igualdade civil.\n",
            "    *   Monarquia absolutista e \"direito divino\" dos reis.\n",
            "    *   Repúdio às instituições francesas.\n",
            "    *   Influência do Iluminismo (jornais, panfletos, discussões políticas).\n",
            "\n",
            "*   **A Convocação dos Estados Gerais:**\n",
            "    *   Crise e decisão de Luís XVI de convocar os Estados Gerais.\n",
            "    *   Função consultiva dos Estados Gerais.\n",
            "    *   Sistema de votação por Estado (favorecendo o Primeiro e Segundo Estado).\n",
            "    *   Distribuição de panfletos burgueses e reuniões públicas.\n",
            "    *   Cahiers de doléances (cadernos de lamentações) e suas reivindicações (representantes do Terceiro Estado e votação por cabeça).\n",
            "    *   Aceitação do rei em dobrar o número de representantes do Terceiro Estado, mas não aprovação do voto por cabeça.\n",
            "\n",
            "*   **Com a Cabeça de Luís XVI Rolou um Mundo Inteiro:**\n",
            "    *   Repercussões profundas na Europa.\n",
            "    *   Organização de \"partidos\" jacobinos.\n",
            "    *   Intervenção da República Francesa e de Napoleão.\n",
            "    *   Divisão da Revolução Francesa em cinco fases:\n",
            "        1.  Fase inicial (parlamentarismo inglês, reformas).\n",
            "        2.  Tomada da Bastilha (iniciativa da plebe de Paris, prisão do rei).\n",
            "        3.  Ditadura jacobina (República, Terror).\n",
            "        4.  Golpe de Termidor (Diretório, corrupção).\n",
            "        5.  Golpe de 18 Brumário (Consulado, Napoleão Bonaparte).\n",
            "    *   Contribuições da Revolução Francesa:\n",
            "        1.  Sociais (liquidação do feudalismo, igualdade de direitos, direito das minorias).\n",
            "        2.  Econômicas (abolição dos privilégios das corporações, anulação dos monopólios).\n",
            "        3.  Políticas (destruição da teoria do direito divino, governo democrático).\n",
            "        4.  Religiosas (tolerância religiosa, separação entre Estado e Igreja).\n",
            "        5.  Culturais (instrução pública obrigatória, sistema de educação em massa).\n",
            "\n",
            "*   **A Queda da Bastilha:**\n",
            "    *   População armada, pobreza e fome em Paris.\n",
            "    *   Tomada da Bastilha em 14 de julho de 1789 (Segunda Jornada Revolucionária).\n",
            "    *   Início oficial da Revolução Francesa.\n",
            "\n",
            "*   **A Revolução Francesa:**\n",
            "    *   Luta contra o despotismo e os privilégios em nome da liberdade e igualdade.\n",
            "    *   França como local propício para a revolução (despotismo minado, servidão contestada, burguesia pagando impostos).\n",
            "    *   Ilusão dos revolucionários sobre sua força ofensiva.\n",
            "    *   Aprovação da Declaração dos Direitos pelos intelectuais.\n",
            "    *   A Revolução como \"apóstolo da igualdade\" (G. Lefebvre).\n",
            "    *   Conquista do mundo pela Revolução.\n",
            "    *   Aproveitamento da burguesia na direção da administração pública.\n",
            "    *   Conquistas da burguesia e sua conservação.\n",
            "    *   Reivindicações do povo por sua parte na revolução.\n",
            "    *   Horrores da revolução (guerra, despotismo).\n",
            "    *   Permanência dos princípios revolucionários (religião mística, patriotismo).\n",
            "\n",
            "*   **O Significado da Revolução (Hannah Arendt):**\n",
            "    *   Análise do momento em que a palavra Revolução muda de conotação (julgamento da irresistibilidade do movimento).\n",
            "    *   Ênfase na irresistibilidade do movimento revolucionário (diálogo entre Luís XVI e o duque de La Rochefoucauld-Liancourt).\n",
            "    *   Abertura do domínio público à maioria dos oprimidos.\n",
            "\n",
            "*   **Revoluções Inglesa e Francesa:**\n",
            "    *   Criação dos instrumentos institucionais e ideológicos para a dominação burguesa.\n",
            "    *   Revolução Inglesa: conquista da liberdade civil e política.\n",
            "    *   Revolução Francesa: adição da ideia de igualdade social.\n",
            "    *   Renúncia da burguesia à ideia de revolução no século XIX.\n",
            "    *   Lutas da classe operária para transformar Estados liberais em democráticos.\n",
            "\n",
            "*   **A Religião Privada Contra o Estado:**\n",
            "    *   Ataque do novo Estado aos poderes das comunidades do Antigo Regime.\n",
            "    *   Luta contra a Igreja Católica (conflito público e privado).\n",
            "    *   Conﬁsco dos bens eclesiásticos e Constituição Civil do clero.\n",
            "    *   Controle do Estado sobre os locais, datas e cerimônias do culto religioso.\n",
            "\n",
            "*   **Declaração dos Direitos do Homem e do Cidadão: 26 de Agosto de 1789:**\n",
            "    *   Apresentação dos artigos da Declaração.\n",
            "\n",
            "*   **Conclusão:**\n",
            "    *   Revolução Francesa como confluência de movimentos distintos (aristocrática, burguesa, camponesa e do proletariado urbano).\n",
            "    *   A revolta da aristocracia contra a monarquia absolutista criou as condições para a burguesia tomar o poder.\n",
            "    *   A revolta dos camponeses e a contrarrevolução da aristocracia foram importantes para o desenvolvimento da revolução do proletariado urbano.\n",
            "\n",
            "*   **Atividades**\n",
            "\n",
            "*   **Próxima Aula:**\n",
            "    *   A Comuna de Paris.\n",
            "\n",
            "*   **Referências**\n",
            "\n",
            "*   **Resumo**\n",
            "\n",
            "Espero que esta lista detalhada seja útil! Se precisar de mais alguma coisa, é só pedir.\n",
            "\n",
            "Ok! Vamos aprender sobre o conteúdo do documento.\n",
            "Eu farei perguntas sobre o conteúdo do documento. Tente respondê-las!\n",
            "Digite 'fim' para encerrar o chat.\n",
            "\n",
            "Pergunta 1: Aqui estão 5 perguntas sobre o conteúdo do texto \"Aula 2 - A Revolução Francesa\":\n",
            "Sua resposta: Sim\n",
            "Avaliação do Gemini:  A resposta do usuário (\"Sim\") é incorreta. A pergunta solicitava 5 perguntas sobre o conteúdo do texto, e não uma simples afirmação.\n",
            "\n",
            "\n",
            "Pergunta 2: 1.  De acordo com o texto, qual era a principal reivindicação do Terceiro Estado na França pré-revolucionária e por que essa reivindicação era importante para esse grupo social?\n",
            "Sua resposta:  -*- coding: utf-8 -*- \"\"\" Script para extrair texto\n",
            "Avaliação do Gemini:  A resposta está **incorreta**. O texto fornecido contém informações sobre a principal reivindicação do Terceiro Estado, mas a resposta do usuário apresenta um código de programação irrelevante para a pergunta. A resposta correta deveria identificar a extinção dos privilégios do Primeiro e Segundo Estados e o estabelecimento da igualdade civil como a principal reivindicação do Terceiro Estado, explicando que essa reivindicação era crucial para acabar com os privilégios de nascimento e garantir uma sociedade mais justa e igualitária para esse grupo social, que representava a grande maioria da população francesa.\n",
            "\n",
            "\n",
            "Pergunta 3: 2.  O texto descreve a Revolução Francesa dividida em fases. Quais são as principais características da fase inicial e da fase da ditadura jacobina (Terror)?\n",
            "Sua resposta: ase Inicial (1789-1792): Instabilidade política: Marcada pela derrubada da monarquia absolutista e pela tentativa de estabelecer um novo regime. Assembleia Nacional Constituinte: Elaborou a Declaração dos Direitos do Homem e do Cidadão e a Constituição de 1791, estabelecendo uma monarquia constitucional. Radicalização popular: Crescente participação e pressão das camadas populares, culminando na Tomada da Bastilha. Divisões internas: Surgimento de diferentes grupos políticos com visões distintas sobre o futuro da França (girondinos e jacobinos). Ditadura Jacobina (1793-1794): Radicalização extrema: Liderada por Robespierre e pelos jacobinos, instaurou-se o período do Terror. Centralização do poder: Governo autoritário e repressivo, com o objetivo de eliminar os inimigos da Revolução. Execuções em massa: Milhares de pessoas consideradas suspeitas foram guilhotinadas. Medidas populares: Adoção de políticas como o tabelamento de preços e a abolição da escravidão nas colônias. Crise interna: O radicalismo e a violência levaram à perda de apoio e à queda dos jacobinos.\n",
            "Avaliação do Gemini:  A resposta do usuário está correta. Ela identifica e descreve as principais características da fase inicial da Revolução Francesa (1789-1792) e da fase da Ditadura Jacobina (Terror), conforme apresentado no texto.\n",
            "\n",
            "Pergunta 4: 3.  Segundo o texto, quais foram as principais contribuições da Revolução Francesa para o mundo nos aspectos sociais, econômicos e políticos?\n",
            "Sua resposta: Fim dos privilégios de classe\n",
            "Avaliação do Gemini:  A resposta do usuário está parcialmente correta. O fim dos privilégios de classe é uma contribuição social da Revolução Francesa, conforme mencionado no texto (\"liquidação do que restava do feudalismo, reconhecimento da igualdade de direitos perante a lei, afirmação do direito das minorias\"). No entanto, a pergunta solicita as contribuições nos aspectos sociais, econômicos e políticos, e a resposta do usuário se limita a um aspecto social.\n",
            "\n",
            "Pergunta 5: 4.  Como o texto descreve o papel da burguesia na Revolução Francesa, e como a sua relação com a ideia de revolução mudou ao longo do tempo?\n",
            "Sua resposta: ra a classe econômica ascendente, mas politicamente marginalizada, desejando mais poder e participação nas decisões do Estado\n",
            "Avaliação do Gemini:  A resposta do usuário está parcialmente correta.\n",
            "\n",
            "Explicação:\n",
            "*   **Correto:** A resposta identifica corretamente a burguesia como uma classe \"economicamente ascendente, mas politicamente marginalizada\". O texto original afirma que a burguesia controlava as finanças, o comércio e a indústria, mas era excluída dos altos cargos ocupados pela nobreza.\n",
            "*   **Incompleto:** A resposta não aborda como a relação da burguesia com a ideia de revolução mudou ao longo do tempo. O texto original indica que, embora inicialmente revolucionária, a burguesia se tornou mais conservadora com o tempo, buscando proteger suas conquistas e, em alguns casos, aliando-se a forças do Antigo Regime para garantir a estabilidade.\n",
            "\n",
            "Pergunta 6: 5.  No texto de Hannah Arendt, qual é o novo significado da palavra \"revolução\" que surge com a Queda da Bastilha e por que esse novo significado é importante para a compreensão do evento?\n",
            "Sua resposta: rendt via o verdadeiro significado de revolução no estabelecimento de instituições duradouras que garantissem a liberdade política e a participação cívica\n",
            "Avaliação do Gemini:  A resposta está incorreta.\n",
            "\n",
            "A resposta do usuário foca no estabelecimento de instituições duradouras que garantam liberdade e participação cívica, o que não está diretamente relacionado ao ponto central do texto de Arendt sobre a mudança no significado da palavra \"revolução\". O texto de Arendt argumenta que o novo significado de \"revolução\" está ligado à ideia de irresistibilidade e à percepção de que o movimento revolucionário está além do controle humano, e não primariamente ao estabelecimento de instituições.\n",
            "\n",
            "Você respondeu a todas as perguntas. Chat encerrado. Até a próxima!\n"
          ]
        }
      ]
    }
  ]
}