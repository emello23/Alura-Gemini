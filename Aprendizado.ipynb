{
  "nbformat": 4,
  "nbformat_minor": 0,
  "metadata": {
    "colab": {
      "provenance": [],
      "include_colab_link": true
    },
    "kernelspec": {
      "name": "python3",
      "display_name": "Python 3"
    },
    "language_info": {
      "name": "python"
    }
  },
  "cells": [
    {
      "cell_type": "markdown",
      "metadata": {
        "id": "view-in-github",
        "colab_type": "text"
      },
      "source": [
        "<a href=\"https://colab.research.google.com/github/emello23/Alura-Gemini/blob/main/Aprendizado.ipynb\" target=\"_parent\"><img src=\"https://colab.research.google.com/assets/colab-badge.svg\" alt=\"Open In Colab\"/></a>"
      ]
    },
    {
      "cell_type": "markdown",
      "source": [
        "\n",
        "\n",
        "\"\"\"\n",
        "Script para extrair texto de um PDF, gerar resumo e tópicos com a API do Gemini\n",
        "e criar um chatbot para interagir com o conteúdo.\n",
        "\"\"\""
      ],
      "metadata": {
        "id": "ENtx9IF7x7jX"
      }
    },
    {
      "cell_type": "code",
      "source": [],
      "metadata": {
        "id": "KvjdxxJooi_y"
      },
      "execution_count": null,
      "outputs": []
    },
    {
      "cell_type": "markdown",
      "source": [],
      "metadata": {
        "id": "9AprP9CDqZpD"
      }
    },
    {
      "cell_type": "code",
      "source": [
        "# Montar o Google Drive\n",
        "from google.colab import drive\n",
        "drive.mount('/content/drive')"
      ],
      "metadata": {
        "id": "s5dYG2kDdbZ_",
        "colab": {
          "base_uri": "https://localhost:8080/"
        },
        "outputId": "166ba3c1-32ed-4f73-95eb-007559aacf39"
      },
      "execution_count": 2,
      "outputs": [
        {
          "output_type": "stream",
          "name": "stdout",
          "text": [
            "Mounted at /content/drive\n"
          ]
        }
      ]
    },
    {
      "cell_type": "code",
      "source": [
        "# Instalar/Atualizar as bibliotecas necessárias\n",
        "!pip install --upgrade google-genai PyMuPDF\n"
      ],
      "metadata": {
        "id": "lGCELBEr-InA",
        "collapsed": true,
        "colab": {
          "base_uri": "https://localhost:8080/"
        },
        "outputId": "84c733c0-5e49-4197-bae6-7c5083681400"
      },
      "execution_count": 3,
      "outputs": [
        {
          "output_type": "stream",
          "name": "stdout",
          "text": [
            "Requirement already satisfied: google-genai in /usr/local/lib/python3.11/dist-packages (1.15.0)\n",
            "Collecting PyMuPDF\n",
            "  Downloading pymupdf-1.25.5-cp39-abi3-manylinux2014_x86_64.manylinux_2_17_x86_64.whl.metadata (3.4 kB)\n",
            "Requirement already satisfied: anyio<5.0.0,>=4.8.0 in /usr/local/lib/python3.11/dist-packages (from google-genai) (4.9.0)\n",
            "Requirement already satisfied: google-auth<3.0.0,>=2.14.1 in /usr/local/lib/python3.11/dist-packages (from google-genai) (2.38.0)\n",
            "Requirement already satisfied: httpx<1.0.0,>=0.28.1 in /usr/local/lib/python3.11/dist-packages (from google-genai) (0.28.1)\n",
            "Requirement already satisfied: pydantic<3.0.0,>=2.0.0 in /usr/local/lib/python3.11/dist-packages (from google-genai) (2.11.4)\n",
            "Requirement already satisfied: requests<3.0.0,>=2.28.1 in /usr/local/lib/python3.11/dist-packages (from google-genai) (2.32.3)\n",
            "Requirement already satisfied: websockets<15.1.0,>=13.0.0 in /usr/local/lib/python3.11/dist-packages (from google-genai) (15.0.1)\n",
            "Requirement already satisfied: typing-extensions<5.0.0,>=4.11.0 in /usr/local/lib/python3.11/dist-packages (from google-genai) (4.13.2)\n",
            "Requirement already satisfied: idna>=2.8 in /usr/local/lib/python3.11/dist-packages (from anyio<5.0.0,>=4.8.0->google-genai) (3.10)\n",
            "Requirement already satisfied: sniffio>=1.1 in /usr/local/lib/python3.11/dist-packages (from anyio<5.0.0,>=4.8.0->google-genai) (1.3.1)\n",
            "Requirement already satisfied: cachetools<6.0,>=2.0.0 in /usr/local/lib/python3.11/dist-packages (from google-auth<3.0.0,>=2.14.1->google-genai) (5.5.2)\n",
            "Requirement already satisfied: pyasn1-modules>=0.2.1 in /usr/local/lib/python3.11/dist-packages (from google-auth<3.0.0,>=2.14.1->google-genai) (0.4.2)\n",
            "Requirement already satisfied: rsa<5,>=3.1.4 in /usr/local/lib/python3.11/dist-packages (from google-auth<3.0.0,>=2.14.1->google-genai) (4.9.1)\n",
            "Requirement already satisfied: certifi in /usr/local/lib/python3.11/dist-packages (from httpx<1.0.0,>=0.28.1->google-genai) (2025.4.26)\n",
            "Requirement already satisfied: httpcore==1.* in /usr/local/lib/python3.11/dist-packages (from httpx<1.0.0,>=0.28.1->google-genai) (1.0.9)\n",
            "Requirement already satisfied: h11>=0.16 in /usr/local/lib/python3.11/dist-packages (from httpcore==1.*->httpx<1.0.0,>=0.28.1->google-genai) (0.16.0)\n",
            "Requirement already satisfied: annotated-types>=0.6.0 in /usr/local/lib/python3.11/dist-packages (from pydantic<3.0.0,>=2.0.0->google-genai) (0.7.0)\n",
            "Requirement already satisfied: pydantic-core==2.33.2 in /usr/local/lib/python3.11/dist-packages (from pydantic<3.0.0,>=2.0.0->google-genai) (2.33.2)\n",
            "Requirement already satisfied: typing-inspection>=0.4.0 in /usr/local/lib/python3.11/dist-packages (from pydantic<3.0.0,>=2.0.0->google-genai) (0.4.0)\n",
            "Requirement already satisfied: charset-normalizer<4,>=2 in /usr/local/lib/python3.11/dist-packages (from requests<3.0.0,>=2.28.1->google-genai) (3.4.2)\n",
            "Requirement already satisfied: urllib3<3,>=1.21.1 in /usr/local/lib/python3.11/dist-packages (from requests<3.0.0,>=2.28.1->google-genai) (2.4.0)\n",
            "Requirement already satisfied: pyasn1<0.7.0,>=0.6.1 in /usr/local/lib/python3.11/dist-packages (from pyasn1-modules>=0.2.1->google-auth<3.0.0,>=2.14.1->google-genai) (0.6.1)\n",
            "Downloading pymupdf-1.25.5-cp39-abi3-manylinux2014_x86_64.manylinux_2_17_x86_64.whl (20.0 MB)\n",
            "\u001b[2K   \u001b[90m━━━━━━━━━━━━━━━━━━━━━━━━━━━━━━━━━━━━━━━━\u001b[0m \u001b[32m20.0/20.0 MB\u001b[0m \u001b[31m86.9 MB/s\u001b[0m eta \u001b[36m0:00:00\u001b[0m\n",
            "\u001b[?25hInstalling collected packages: PyMuPDF\n",
            "Successfully installed PyMuPDF-1.25.5\n"
          ]
        }
      ]
    },
    {
      "cell_type": "code",
      "source": [
        "import os\n",
        "from google.colab import userdata\n",
        "from google import genai\n",
        "from google.genai import types # Importação ativa\n",
        "import fitz  # Importa a biblioteca PyMuPDF"
      ],
      "metadata": {
        "id": "Du_leth3cD3v"
      },
      "execution_count": 4,
      "outputs": []
    },
    {
      "cell_type": "code",
      "source": [
        "# Importa classes do módulo IPython.display para formatar a saída no notebook.\n",
        "# - HTML: Permite exibir conteúdo HTML diretamente.\n",
        "# - Markdown: Permite exibir conteúdo formatado em Markdown.\n",
        "\n",
        "from IPython.display import HTML, Markdown"
      ],
      "metadata": {
        "id": "8Cq1z9zkk14A"
      },
      "execution_count": 5,
      "outputs": []
    },
    {
      "cell_type": "code",
      "source": [
        "# Configurar a chave da API\n",
        "os.environ['GOOGLE_API_KEY'] = userdata.get('GOOGLE_API_KEY')\n",
        "client = genai.Client()"
      ],
      "metadata": {
        "id": "vqkXAdE8cJxT"
      },
      "execution_count": 6,
      "outputs": []
    },
    {
      "cell_type": "code",
      "source": [
        "# Definir o modelo a ser usado\n",
        "modelo = \"gemini-2.0-flash\"\n"
      ],
      "metadata": {
        "id": "gL-FVrZVcX38"
      },
      "execution_count": 7,
      "outputs": []
    },
    {
      "cell_type": "code",
      "source": [
        "# --- PARTE ONDE VOCÊ CARREGA O PDF ---\n",
        "# Atualize o caminho do PDF para apontar para o seu arquivo no Google Drive\n",
        "# Alternativa: Coloque o arquivo na sua pasta raiz do My Drive\n",
        "#              e renomei-o para aprendizado.pdf mantendo este mesmo caminho.\n",
        "caminho_do_pdf = \"/content/drive/My Drive/aprendizado.pdf\" # <-- ATUALIZE ESTA LINHA COM O CAMINHO CORRETO'"
      ],
      "metadata": {
        "id": "4WNFIXhQl0Ff"
      },
      "execution_count": 8,
      "outputs": []
    },
    {
      "cell_type": "code",
      "source": [
        "def extrair_texto_de_pdf(caminho_do_arquivo):\n",
        "    \"\"\"Extrai texto de um arquivo PDF.\"\"\"\n",
        "    texto_completo = \"\"\n",
        "    try:\n",
        "        documento = fitz.open(caminho_do_arquivo)\n",
        "        for pagina_num in range(documento.page_count):\n",
        "            pagina = documento.load_page(pagina_num)\n",
        "            texto_completo += pagina.get_text()\n",
        "        documento.close()\n",
        "    except Exception as e:\n",
        "        print(f\"Erro ao extrair texto do PDF: {e}\")\n",
        "        texto_completo = None # Retorna None em caso de erro\n",
        "    return texto_completo\n",
        "\n"
      ],
      "metadata": {
        "id": "SVIA1oYHcj1g"
      },
      "execution_count": 9,
      "outputs": []
    },
    {
      "cell_type": "code",
      "source": [
        "texto_do_pdf = extrair_texto_de_pdf(caminho_do_pdf)\n",
        "\n"
      ],
      "metadata": {
        "id": "aRPFYuJscmC2",
        "collapsed": true
      },
      "execution_count": 10,
      "outputs": []
    },
    {
      "cell_type": "code",
      "source": [
        "if texto_do_pdf: # Verifica se a extração do texto foi bem-sucedida\n",
        "    # --- Alteração aqui para imprimir em Markdown ---\n",
        "    display(Markdown(\"## Texto extraído do PDF (primeiros 500 caracteres):\"))\n",
        "    print(texto_do_pdf[:500] + \"...\") # Este print pode permanecer, pois é um trecho longo\n",
        "    # --- Fim da alteração ---\n",
        "\n",
        "    # --- USANDO GEMINI PARA AJUDAR COM RESUMO E TÓPICOS ---\n",
        "    # Gerar um resumo inicial\n",
        "    try:\n",
        "        response_resumo = client.models.generate_content(\n",
        "            model=modelo,\n",
        "            contents=f\"Por favor, gere um resumo conciso do seguinte texto:\\n\\n{texto_do_pdf}\"\n",
        "        )\n",
        "        if response_resumo and response_resumo.text: # Verifica se a resposta e o texto existem\n",
        "            resumo = response_resumo.text\n",
        "            # --- Alteração aqui para imprimir em Markdown ---\n",
        "            display(Markdown(\"## Resumo gerado pelo Gemini:\"))\n",
        "            display(Markdown(resumo))\n",
        "            # --- Fim da alteração ---\n",
        "        else:\n",
        "            # --- Alteração aqui para imprimir em Markdown ---\n",
        "            display(Markdown(\"## Não foi possível gerar um resumo.\"))\n",
        "            # --- Fim da alteração ---\n",
        "    except Exception as e:\n",
        "        print(f\"Erro ao gerar resumo: {e}\")\n",
        "\n",
        "\n",
        "    # Tentar identificar tópicos principais\n",
        "    try:\n",
        "        response_topicos = client.models.generate_content(\n",
        "            model=modelo,\n",
        "            contents=f\"Por favor, liste os principais tópicos e sub-tópicos (numerados se possível) encontrados no seguinte texto:\\n\\n{texto_do_pdf}\"\n",
        "        )\n",
        "        if response_topicos and response_topicos.text: # Verifica se a resposta e o texto existem\n",
        "            topicos_identificados = response_topicos.text\n",
        "            # --- Alteração aqui para imprimir em Markdown ---\n",
        "            display(Markdown(\"## Tópicos identificados pelo Gemini:\"))\n",
        "            display(Markdown(topicos_identificados))\n",
        "            # --- Fim da alteração ---\n",
        "        else:\n",
        "             # --- Alteração aqui para imprimir em Markdown ---\n",
        "            display(Markdown(\"## Não foi possível identificar tópicos.\"))\n",
        "            # --- Fim da alteração ---\n",
        "    except Exception as e:\n",
        "        print(f\"Erro ao identificar tópicos: {e}\")\n",
        "\n",
        "    # --- PARTE DO CHATBOT ---\n",
        "    # --- Alterações aqui para imprimir em Markdown ---\n",
        "    display(Markdown(\"## Ok! Vamos aprender sobre o conteúdo do documento.\"))\n",
        "    display(Markdown(\"Eu farei perguntas sobre o conteúdo do documento. Tente respondê-las!\"))\n",
        "    display(Markdown(\"Digite 'fim' para encerrar o chat.\"))\n",
        "    display(Markdown(\"Desconsidere a 'Pergunta 1:' digitando 'OK'\"))\n",
        "    display(Markdown(\"### Vamos começar!\"))\n",
        "    # --- Fim das alterações ---\n",
        "\n",
        "    # Abordagem para gerar perguntas\n",
        "    try:\n",
        "        response_perguntas = client.models.generate_content(\n",
        "            model=modelo,\n",
        "            contents=f\"Com base no seguinte texto, gere 10 perguntas sobre o seu conteúdo para que um usuário possa respondê-las. Liste as perguntas numeradas.\\n\\n{texto_do_pdf}\"\n",
        "        )\n",
        "\n",
        "        if response_perguntas and response_perguntas.text: # Verifica se a resposta e o texto existem\n",
        "            perguntas_geradas = response_perguntas.text.split('\\n') # Divide as perguntas em uma lista\n",
        "            # Filtra linhas vazias e numerações que não são perguntas válidas\n",
        "            perguntas_validas = [p.strip() for p in perguntas_geradas if p.strip() and any(char.isdigit() for char in p.strip().split('.')[0])]\n",
        "\n",
        "\n",
        "            if not perguntas_validas:\n",
        "                 # --- Alteração aqui para imprimir em Markdown ---\n",
        "                display(Markdown(\"## Não foi possível gerar perguntas a partir do PDF.\"))\n",
        "                 # --- Fim da alteração ---\n",
        "            else:\n",
        "                indice_pergunta_atual = 0\n",
        "\n",
        "                while indice_pergunta_atual < len(perguntas_validas):\n",
        "                    pergunta_atual = perguntas_validas[indice_pergunta_atual]\n",
        "                     # --- Alteração aqui para imprimir em Markdown ---\n",
        "                    display(Markdown(f\"### Pergunta {indice_pergunta_atual + 1}: {pergunta_atual}\"))\n",
        "                    # --- Fim da alteração ---\n",
        "\n",
        "                    resposta_usuario = input(\"Sua resposta: \")\n",
        "\n",
        "                    if resposta_usuario.lower() == \"fim\":\n",
        "                        print(\"Chat encerrado. Até a próxima!\") # Este print pode permanecer\n",
        "                        break\n",
        "\n",
        "                    # Usar o Gemini para avaliar a resposta do usuário\n",
        "                    try:\n",
        "                        chat_avaliacao_config = types.GenerateContentConfig(\n",
        "                          system_instruction = f\"Você é um avaliador de respostas baseado no seguinte texto. A pergunta foi: '{pergunta_atual}'. Avalie a resposta do usuário ('{resposta_usuario}') com base no texto original e diga se ela está correta, incorreta ou parcialmente correta, explicando brevemente por que. O texto original é:\\n\\n{texto_do_pdf}\"\n",
        "                        )\n",
        "                        chat_avaliacao = client.chats.create(model=modelo, config=chat_avaliacao_config)\n",
        "                        response_avaliacao = chat_avaliacao.send_message(f\"Pergunta: {pergunta_atual}\\nResposta do usuário: {resposta_usuario}\")\n",
        "\n",
        "                        if response_avaliacao and response_avaliacao.text: # Verifica se a resposta e o texto existem\n",
        "                             # --- Alteração aqui para imprimir em Markdown ---\n",
        "                            display(Markdown(\"### Avaliação do Gemini: \"))\n",
        "                            display(Markdown(response_avaliacao.text))\n",
        "                             # --- Fim da alteração ---\n",
        "                        else:\n",
        "                             # --- Alteração aqui para imprimir em Markdown ---\n",
        "                            display(Markdown(\"## Não foi possível avaliar a resposta.\"))\n",
        "                            # --- Fim da alteração ---\n",
        "\n",
        "                    except Exception as e:\n",
        "                        print(f\"Erro ao avaliar a resposta: {e}\")\n",
        "\n",
        "                    indice_pergunta_atual += 1 # Passa para a próxima pergunta\n",
        "\n",
        "                if indice_pergunta_atual == len(perguntas_validas):\n",
        "                   # --- Alteração aqui para imprimir em Markdown ---\n",
        "                   display(Markdown(\"\\n## Você respondeu a todas as perguntas. Chat encerrado. Até a próxima!\"))\n",
        "                   # --- Fim da alteração ---\n",
        "        else:\n",
        "             # --- Alteração aqui para imprimir em Markdown ---\n",
        "            display(Markdown(\"## Não foi possível gerar perguntas a partir do PDF.\"))\n",
        "            # --- Fim da alteração ---\n",
        "    except Exception as e:\n",
        "        print(f\"Erro ao gerar perguntas ou executar o loop do chatbot: {e}\")\n",
        "\n",
        "else:\n",
        "     # --- Alteração aqui para imprimir em Markdown ---\n",
        "    display(Markdown(\"## Não foi possível prosseguir porque a extração do texto do PDF falhou.\"))\n",
        "    # --- Fim da alteração ---"
      ],
      "metadata": {
        "colab": {
          "base_uri": "https://localhost:8080/",
          "height": 1000
        },
        "id": "SfZMyLJtnNvh",
        "outputId": "9cf7173a-33ad-4988-951d-8f5a0c125327"
      },
      "execution_count": 11,
      "outputs": [
        {
          "output_type": "display_data",
          "data": {
            "text/plain": [
              "<IPython.core.display.Markdown object>"
            ],
            "text/markdown": "## Texto extraído do PDF (primeiros 500 caracteres):"
          },
          "metadata": {}
        },
        {
          "output_type": "stream",
          "name": "stdout",
          "text": [
            "Aula2\n",
            "Lenalda Andrade Santos\n",
            "A REVOLUÇÃO FRANCESA\n",
            "META\n",
            "Revisar e aprofundar o estudo do movimento que se transformou no modelo clássico de \n",
            "revolução burguesa. \n",
            "OBJETIVOS\n",
            "Ao ﬁ nal desta aula, o aluno deverá:\n",
            "Analisar a Revolução Francesa como um evento capital de toda a \n",
            "história do mundo moderno.\n",
            "Identiﬁ car a contribuição do movimento revolucionário francês para o ﬁ m da\n",
            " antiga ordem feudal-absolutista.\n",
            "Indicar bibliograﬁ a que permita aos alunos aprofundarem o estudo do tema \n",
            "das revoluções ...\n"
          ]
        },
        {
          "output_type": "display_data",
          "data": {
            "text/plain": [
              "<IPython.core.display.Markdown object>"
            ],
            "text/markdown": "## Resumo gerado pelo Gemini:"
          },
          "metadata": {}
        },
        {
          "output_type": "display_data",
          "data": {
            "text/plain": [
              "<IPython.core.display.Markdown object>"
            ],
            "text/markdown": "O texto revisa e aprofunda o estudo da Revolução Francesa como modelo de revolução burguesa e evento capital da história moderna. Analisa a França pré-revolucionária, a divisão da sociedade do Antigo Regime, e a convocação dos Estados Gerais. Aborda as fases da revolução, da tomada da Bastilha à ascensão de Napoleão, destacando as contribuições sociais, econômicas, políticas, religiosas e culturais. Discute o papel da burguesia e a Declaração dos Direitos do Homem e do Cidadão. Conclui que a revolução foi resultado de múltiplos movimentos e que suas conquistas foram resultado das lutas populares por igualdade e justiça social.\n"
          },
          "metadata": {}
        },
        {
          "output_type": "display_data",
          "data": {
            "text/plain": [
              "<IPython.core.display.Markdown object>"
            ],
            "text/markdown": "## Tópicos identificados pelo Gemini:"
          },
          "metadata": {}
        },
        {
          "output_type": "display_data",
          "data": {
            "text/plain": [
              "<IPython.core.display.Markdown object>"
            ],
            "text/markdown": "## Principais Tópicos e Subtópicos da Aula 2 sobre a Revolução Francesa:\n\n**Tópico Principal: A Revolução Francesa**\n\n*   **META:** Revisar e aprofundar o estudo da Revolução Francesa como modelo clássico de revolução burguesa.\n\n*   **OBJETIVOS:**\n    1.  Analisar a Revolução Francesa como evento capital na história moderna.\n    2.  Identificar a contribuição da Revolução Francesa para o fim da antiga ordem feudal-absolutista.\n    3.  Indicar bibliografia para aprofundamento do estudo sobre revoluções burguesas.\n\n*   **INTRODUÇÃO:**\n    *   Importância histórica da Revolução Francesa.\n    *   Paralelo com a Revolução Industrial Inglesa (a \"dupla revolução\" de Hobsbawm).\n    *   Foco em diferentes abordagens e textos sobre a revolução, em vez de mera descrição dos fatos.\n\n*   **A FRANÇA ÀS VÉSPERAS DA REVOLUÇÃO:**\n    *   Contradições sociais e econômicas na França do século XVIII.\n    *   Ascensão da burguesia: poder econômico, consciência de classe e influência iluminista.\n    *   Condições dos camponeses e a necessidade de consolidação do trabalho assalariado.\n    *   Regulamentações das corporações de ofício e a produção artesanal.\n\n*   **A SOCIEDADE DO ANTIGO REGIME:**\n    *   Divisão social em três estados:\n        *   Primeiro Estado (Clero): Divisão interna entre alto e baixo clero.\n        *   Segundo Estado (Nobreza): Nobreza palaciana, provincial e de toga.\n        *   Terceiro Estado: Camponeses, burguesia e camadas populares urbanas.\n    *   Privilégios do clero e da nobreza (isenção de impostos, tribunais próprios, etc.).\n    *   Anseios do Terceiro Estado: extinção dos privilégios e igualdade civil.\n    *   Monarquia absolutista e o \"direito divino\" dos reis.\n    *   Repúdio às instituições francesas ultrapassadas.\n\n*   **A CONVOCAÇÃO DOS ESTADOS GERAIS:**\n    *   Motivação: Crise e necessidade de aconselhamento ao rei.\n    *   Função consultiva, não decisória.\n    *   Sistema de votação tradicional por estado (desfavorável ao Terceiro Estado).\n    *   Panfletos burgueses e reuniões públicas.\n    *   Cahiers de doléances (cadernos de lamentações) e suas reivindicações:\n        1.  Número de representantes do Terceiro Estado igual ao dos outros dois somados.\n        2.  Votação por cabeça, não por estado.\n    *   Aceitação parcial do rei (dobrar o número de representantes do Terceiro Estado) e sua insuficiência.\n\n*   **COM A CABEÇA DE LUÍS XVI ROLOU UM MUNDO INTEIRO:**\n    *   Profundas repercussões na Europa moderna.\n    *   Influência do exemplo francês.\n    *   Organização de \"partidos\" jacobinos em outros países.\n    *   Divisão da Revolução Francesa em cinco fases:\n        *   Fase inicial: Inspiração parlamentarista inglesa.\n        *   Segunda fase: Tomada da Bastilha e intervenção da plebe.\n        *   Fase da ditadura jacobina e o \"Terror\".\n        *   Derrubada de Robespierre e o período termidoriano (Diretório).\n        *   Golpe de 18 Brumário e a ascensão de Napoleão Bonaparte.\n    *   Principais contribuições da Revolução Francesa:\n        1.  Sociais: Liquidação do feudalismo, igualdade de direitos, direitos das minorias.\n        2.  Econômicas: Abolição dos privilégios das corporações, anulação dos monopólios comerciais.\n        3.  Políticas: Destruição da teoria do direito divino, experiência de governo democrático.\n        4.  Religiosas: Tolerância religiosa, separação entre Estado e Igreja.\n        5.  Culturais: Instrução pública obrigatória e sistema de educação em massa.\n\n*   **A QUEDA DA BASTILHA:**\n    *   Armamento da população, pobreza e fome em Paris.\n    *   Tomada da Bastilha (14 de julho de 1789) como símbolo do absolutismo.\n    *   Início oficial da Revolução Francesa e a presença das massas trabalhadoras.\n\n*   **A REVOLUÇÃO FRANCESA (Nicolle):**\n    *   Luta contra o despotismo e os privilégios em nome da liberdade e da igualdade.\n    *   Condições na França que permitiram a eclosão da revolução.\n    *   Atuação da Revolução Francesa sobre outros países.\n    *   Originalidade da Revolução: \"foi o apóstolo da igualdade\" (G. Lefebvre).\n    *   Conquistas da burguesia e limitações para o povo.\n    *   A Revolução Francesa como religião mística, criando heróis e exaltando o patriotismo.\n\n*   **O SIGNIFICADO DA REVOLUÇÃO (Hannah Arendt):**\n    *   Análise do momento em que a palavra \"revolução\" mudou de significado (14 de julho de 1789).\n    *   Ênfase na irresistibilidade e na ideia de algo além do poder humano.\n    *   Multidão em marcha e o aparecimento dos pobres e oprimidos em plena luz do dia.\n    *   Abertura do domínio público aos que antes eram excluídos.\n\n*   **REVOLUÇÕES INGLESA E FRANCESA:**\n    *   Criação de instrumentos institucionais e intelectuais para a dominação burguesa.\n    *   Revolução Inglesa: Conquista da liberdade civil e política (J. Locke).\n    *   Revolução Francesa: Acréscimo da ideia de igualdade social (J.J. Rousseau).\n    *   Democracia política e social ultrapassando os interesses da burguesia.\n    *   Renúncia da burguesia à revolução no século XIX.\n    *   Lutas da classe operária como força motriz para a transformação dos Estados liberais em democráticos.\n    *   Papel da gentry e dos yeomen na Revolução Inglesa, e da pequena burguesia, sans-culottes e camponeses na Revolução Francesa.\n\n*   **A RELIGIÃO PRIVADA CONTRA O ESTADO:**\n    *   Ataque do novo Estado aos poderes das comunidades do Antigo Regime.\n    *   Luta contra a Igreja Católica pelo controle da vida privada.\n    *   Tolerância religiosa inicial.\n    *   Confisco dos bens eclesiásticos e a Constituição Civil do clero.\n    *   Controle estatal sobre o culto religioso.\n    *   Concordata de 1801 e a intervenção do Estado em questões religiosas.\n\n*   **DECLARAÇÃO DOS DIREITOS DO HOMEM E DO CIDADÃO: 26 DE AGOSTO DE 1789:**\n    *   Exposição dos direitos naturais, inalienáveis e sagrados do homem.\n    *   Artigos sobre:\n        *   Igualdade e liberdade.\n        *   Soberania nacional.\n        *   Limites da liberdade individual.\n        *   A lei como expressão da vontade geral.\n        *   Justiça e devido processo legal.\n        *   Liberdade de opinião e expressão.\n        *   Direito à propriedade.\n\n*   **CONCLUSÃO:**\n    *   A Revolução Francesa como confluência de quatro movimentos distintos: aristocrático, burguês, camponês e do proletariado urbano.\n    *   Início do processo revolucionário em 1787 com a revolta da aristocracia.\n    *   Importância da revolta camponesa, da contrarrevolução aristocrática e da revolução do proletariado urbano.\n\n*   **ATIVIDADES**\n\n*   **PRÓXIMA AULA:** A Comuna de Paris\n\n*   **REFERÊNCIAS**\n\n*   **RESUMO**\n    *   Textos abordando a França pré-revolucionária e as fases da revolução\n    *   Discussão do papel da burguesia\n"
          },
          "metadata": {}
        },
        {
          "output_type": "display_data",
          "data": {
            "text/plain": [
              "<IPython.core.display.Markdown object>"
            ],
            "text/markdown": "## Ok! Vamos aprender sobre o conteúdo do documento."
          },
          "metadata": {}
        },
        {
          "output_type": "display_data",
          "data": {
            "text/plain": [
              "<IPython.core.display.Markdown object>"
            ],
            "text/markdown": "Eu farei perguntas sobre o conteúdo do documento. Tente respondê-las!"
          },
          "metadata": {}
        },
        {
          "output_type": "display_data",
          "data": {
            "text/plain": [
              "<IPython.core.display.Markdown object>"
            ],
            "text/markdown": "Digite 'fim' para encerrar o chat."
          },
          "metadata": {}
        },
        {
          "output_type": "display_data",
          "data": {
            "text/plain": [
              "<IPython.core.display.Markdown object>"
            ],
            "text/markdown": "Desconsidere a 'Pergunta 1:' digitando 'OK'"
          },
          "metadata": {}
        },
        {
          "output_type": "display_data",
          "data": {
            "text/plain": [
              "<IPython.core.display.Markdown object>"
            ],
            "text/markdown": "### Vamos começar!"
          },
          "metadata": {}
        },
        {
          "output_type": "display_data",
          "data": {
            "text/plain": [
              "<IPython.core.display.Markdown object>"
            ],
            "text/markdown": "### Pergunta 1: Aqui estão 5 perguntas baseadas no texto fornecido, projetadas para avaliar a compreensão do usuário sobre o conteúdo:"
          },
          "metadata": {}
        },
        {
          "name": "stdout",
          "output_type": "stream",
          "text": [
            "Sua resposta: ok\n"
          ]
        },
        {
          "output_type": "display_data",
          "data": {
            "text/plain": [
              "<IPython.core.display.Markdown object>"
            ],
            "text/markdown": "### Avaliação do Gemini: "
          },
          "metadata": {}
        },
        {
          "output_type": "display_data",
          "data": {
            "text/plain": [
              "<IPython.core.display.Markdown object>"
            ],
            "text/markdown": "A resposta do usuário \"ok\" é **incorreta**. A pergunta solicitava respostas a 5 perguntas baseadas no texto fornecido, e \"ok\" não fornece nenhuma informação relevante sobre a compreensão do conteúdo.\n"
          },
          "metadata": {}
        },
        {
          "output_type": "display_data",
          "data": {
            "text/plain": [
              "<IPython.core.display.Markdown object>"
            ],
            "text/markdown": "### Pergunta 2: 1.  De acordo com o texto, quais eram as principais divisões sociais na França às vésperas da Revolução Francesa, e quais eram os principais objetivos do Terceiro Estado?"
          },
          "metadata": {}
        },
        {
          "name": "stdout",
          "output_type": "stream",
          "text": [
            "Sua resposta: Clero e nobreza\n"
          ]
        },
        {
          "output_type": "display_data",
          "data": {
            "text/plain": [
              "<IPython.core.display.Markdown object>"
            ],
            "text/markdown": "### Avaliação do Gemini: "
          },
          "metadata": {}
        },
        {
          "output_type": "display_data",
          "data": {
            "text/plain": [
              "<IPython.core.display.Markdown object>"
            ],
            "text/markdown": "A resposta do usuário está parcialmente correta.\n\nExplicação: O texto indica que as principais divisões sociais na França eram o clero (Primeiro Estado), a nobreza (Segundo Estado) e o Terceiro Estado. A resposta do usuário menciona corretamente o clero e a nobreza, mas não indica o Terceiro Estado, que era uma divisão fundamental. Além disso, a resposta não aborda os objetivos do Terceiro Estado, conforme solicitado na pergunta.\n"
          },
          "metadata": {}
        },
        {
          "output_type": "display_data",
          "data": {
            "text/plain": [
              "<IPython.core.display.Markdown object>"
            ],
            "text/markdown": "### Pergunta 3: 2.  Segundo o texto, qual foi a importância da Tomada da Bastilha e como esse evento marcou uma mudança no curso da Revolução Francesa?"
          },
          "metadata": {}
        },
        {
          "name": "stdout",
          "output_type": "stream",
          "text": [
            "Sua resposta: O povo enfrentou a nobreza\n"
          ]
        },
        {
          "output_type": "display_data",
          "data": {
            "text/plain": [
              "<IPython.core.display.Markdown object>"
            ],
            "text/markdown": "### Avaliação do Gemini: "
          },
          "metadata": {}
        },
        {
          "output_type": "display_data",
          "data": {
            "text/plain": [
              "<IPython.core.display.Markdown object>"
            ],
            "text/markdown": "A resposta do usuário está parcialmente correta.\n\nExplicação: A resposta menciona o confronto, que de fato ocorreu. No entanto, ela não especifica a importância da Tomada da Bastilha nem como ela mudou o curso da Revolução Francesa, conforme solicitado na pergunta. O texto diz que \"a importância desse acontecimento reside no fato de que, a partir desse momento, o movimento contaria também com a presença das massas trabalhadoras\"."
          },
          "metadata": {}
        },
        {
          "output_type": "display_data",
          "data": {
            "text/plain": [
              "<IPython.core.display.Markdown object>"
            ],
            "text/markdown": "### Pergunta 4: 3.  Quais foram as principais contribuições da Revolução Francesa para o mundo, segundo o texto, em termos de aspectos sociais, econômicos, políticos, religiosos e culturais?"
          },
          "metadata": {}
        },
        {
          "name": "stdout",
          "output_type": "stream",
          "text": [
            "Sua resposta: Liberdade e Igualdade\n"
          ]
        },
        {
          "output_type": "display_data",
          "data": {
            "text/plain": [
              "<IPython.core.display.Markdown object>"
            ],
            "text/markdown": "### Avaliação do Gemini: "
          },
          "metadata": {}
        },
        {
          "output_type": "display_data",
          "data": {
            "text/plain": [
              "<IPython.core.display.Markdown object>"
            ],
            "text/markdown": "A resposta do usuário está parcialmente correta. O texto cita \"igualdade\" como um dos aspectos importantes, mas a resposta não detalha as contribuições em cada um dos aspectos solicitados (sociais, econômicos, políticos, religiosos e culturais). O texto menciona a \"igualdade de direitos perante a lei\" como um aspecto social, por exemplo, e \"liberdade\" está implícita em várias das contribuições listadas. No entanto, a resposta é muito genérica e não abrange a totalidade do que foi perguntado.\n"
          },
          "metadata": {}
        },
        {
          "output_type": "display_data",
          "data": {
            "text/plain": [
              "<IPython.core.display.Markdown object>"
            ],
            "text/markdown": "### Pergunta 5: 4.  Como Hannah Arendt analisa a mudança no significado da palavra \"revolução\" durante os eventos de 1789, conforme apresentado no texto?"
          },
          "metadata": {}
        },
        {
          "name": "stdout",
          "output_type": "stream",
          "text": [
            "Sua resposta: Ela compara com a Revolução Americana que garantiu direitos\n"
          ]
        },
        {
          "output_type": "display_data",
          "data": {
            "text/plain": [
              "<IPython.core.display.Markdown object>"
            ],
            "text/markdown": "### Avaliação do Gemini: "
          },
          "metadata": {}
        },
        {
          "output_type": "display_data",
          "data": {
            "text/plain": [
              "<IPython.core.display.Markdown object>"
            ],
            "text/markdown": "A resposta do usuário está incorreta. O texto de Hannah Arendt, conforme apresentado, foca na mudança do significado da palavra \"revolução\" para denotar irresistibilidade, inspirada na queda da Bastilha e no diálogo entre Luís XVI e Liancourt. Não há menção à Revolução Americana nesse trecho.\n"
          },
          "metadata": {}
        },
        {
          "output_type": "display_data",
          "data": {
            "text/plain": [
              "<IPython.core.display.Markdown object>"
            ],
            "text/markdown": "### Pergunta 6: 5.  O texto argumenta que a Revolução Francesa foi exclusivamente uma revolução burguesa? Justifique sua resposta com base no que foi apresentado."
          },
          "metadata": {}
        },
        {
          "name": "stdout",
          "output_type": "stream",
          "text": [
            "Sua resposta: Apenas a burguesia teve avanços e conquistas\n"
          ]
        },
        {
          "output_type": "display_data",
          "data": {
            "text/plain": [
              "<IPython.core.display.Markdown object>"
            ],
            "text/markdown": "### Avaliação do Gemini: "
          },
          "metadata": {}
        },
        {
          "output_type": "display_data",
          "data": {
            "text/plain": [
              "<IPython.core.display.Markdown object>"
            ],
            "text/markdown": "A resposta do usuário está **parcialmente correta**.\n\n**Justificativa:**\n\nO texto indica que a Revolução Francesa beneficiou a burguesia, que tomou o lugar da aristocracia na administração pública e se beneficiou da venda de bens nacionalizados. No entanto, o texto também argumenta que a Revolução Francesa **não foi exclusivamente** uma revolução burguesa. A conclusão do texto afirma que a Revolução Francesa foi o produto da confluência de quatro movimentos distintos: uma revolução aristocrática, uma revolução burguesa, uma revolução camponesa e uma revolução do proletariado urbano. Além disso, o texto ressalta que o povo (camponeses e trabalhadores urbanos) também teve participação e obteve algumas conquistas, embora limitadas. A resposta do usuário ignora a participação de outros grupos e a complexidade do processo revolucionário, focando apenas nos avanços da burguesia.\n"
          },
          "metadata": {}
        },
        {
          "output_type": "display_data",
          "data": {
            "text/plain": [
              "<IPython.core.display.Markdown object>"
            ],
            "text/markdown": "\n## Você respondeu a todas as perguntas. Chat encerrado. Até a próxima!"
          },
          "metadata": {}
        }
      ]
    }
  ]
}