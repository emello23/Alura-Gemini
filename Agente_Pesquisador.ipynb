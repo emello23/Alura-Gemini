{
  "nbformat": 4,
  "nbformat_minor": 0,
  "metadata": {
    "colab": {
      "provenance": [],
      "authorship_tag": "ABX9TyNzPbYVuH0kn6Thedh/d2lO",
      "include_colab_link": true
    },
    "kernelspec": {
      "name": "python3",
      "display_name": "Python 3"
    },
    "language_info": {
      "name": "python"
    }
  },
  "cells": [
    {
      "cell_type": "markdown",
      "metadata": {
        "id": "view-in-github",
        "colab_type": "text"
      },
      "source": [
        "<a href=\"https://colab.research.google.com/github/emello23/Alura-Gemini/blob/main/Agente_Pesquisador.ipynb\" target=\"_parent\"><img src=\"https://colab.research.google.com/assets/colab-badge.svg\" alt=\"Open In Colab\"/></a>"
      ]
    },
    {
      "cell_type": "code",
      "execution_count": 1,
      "metadata": {
        "id": "BtTC3gLfzG9R",
        "colab": {
          "base_uri": "https://localhost:8080/"
        },
        "outputId": "5876a3c8-b865-49b5-cc15-e463ad92bd24"
      },
      "outputs": [
        {
          "output_type": "stream",
          "name": "stdout",
          "text": [
            "Requirement already satisfied: pandas in /usr/local/lib/python3.11/dist-packages (2.2.2)\n",
            "Requirement already satisfied: google-api-python-client in /usr/local/lib/python3.11/dist-packages (2.171.0)\n",
            "Requirement already satisfied: google-generativeai in /usr/local/lib/python3.11/dist-packages (0.8.5)\n",
            "Requirement already satisfied: numpy>=1.23.2 in /usr/local/lib/python3.11/dist-packages (from pandas) (2.0.2)\n",
            "Requirement already satisfied: python-dateutil>=2.8.2 in /usr/local/lib/python3.11/dist-packages (from pandas) (2.9.0.post0)\n",
            "Requirement already satisfied: pytz>=2020.1 in /usr/local/lib/python3.11/dist-packages (from pandas) (2025.2)\n",
            "Requirement already satisfied: tzdata>=2022.7 in /usr/local/lib/python3.11/dist-packages (from pandas) (2025.2)\n",
            "Requirement already satisfied: httplib2<1.0.0,>=0.19.0 in /usr/local/lib/python3.11/dist-packages (from google-api-python-client) (0.22.0)\n",
            "Requirement already satisfied: google-auth!=2.24.0,!=2.25.0,<3.0.0,>=1.32.0 in /usr/local/lib/python3.11/dist-packages (from google-api-python-client) (2.38.0)\n",
            "Requirement already satisfied: google-auth-httplib2<1.0.0,>=0.2.0 in /usr/local/lib/python3.11/dist-packages (from google-api-python-client) (0.2.0)\n",
            "Requirement already satisfied: google-api-core!=2.0.*,!=2.1.*,!=2.2.*,!=2.3.0,<3.0.0,>=1.31.5 in /usr/local/lib/python3.11/dist-packages (from google-api-python-client) (2.25.0)\n",
            "Requirement already satisfied: uritemplate<5,>=3.0.1 in /usr/local/lib/python3.11/dist-packages (from google-api-python-client) (4.2.0)\n",
            "Requirement already satisfied: google-ai-generativelanguage==0.6.15 in /usr/local/lib/python3.11/dist-packages (from google-generativeai) (0.6.15)\n",
            "Requirement already satisfied: protobuf in /usr/local/lib/python3.11/dist-packages (from google-generativeai) (5.29.5)\n",
            "Requirement already satisfied: pydantic in /usr/local/lib/python3.11/dist-packages (from google-generativeai) (2.11.5)\n",
            "Requirement already satisfied: tqdm in /usr/local/lib/python3.11/dist-packages (from google-generativeai) (4.67.1)\n",
            "Requirement already satisfied: typing-extensions in /usr/local/lib/python3.11/dist-packages (from google-generativeai) (4.14.0)\n",
            "Requirement already satisfied: proto-plus<2.0.0dev,>=1.22.3 in /usr/local/lib/python3.11/dist-packages (from google-ai-generativelanguage==0.6.15->google-generativeai) (1.26.1)\n",
            "Requirement already satisfied: googleapis-common-protos<2.0.0,>=1.56.2 in /usr/local/lib/python3.11/dist-packages (from google-api-core!=2.0.*,!=2.1.*,!=2.2.*,!=2.3.0,<3.0.0,>=1.31.5->google-api-python-client) (1.70.0)\n",
            "Requirement already satisfied: requests<3.0.0,>=2.18.0 in /usr/local/lib/python3.11/dist-packages (from google-api-core!=2.0.*,!=2.1.*,!=2.2.*,!=2.3.0,<3.0.0,>=1.31.5->google-api-python-client) (2.32.3)\n",
            "Requirement already satisfied: cachetools<6.0,>=2.0.0 in /usr/local/lib/python3.11/dist-packages (from google-auth!=2.24.0,!=2.25.0,<3.0.0,>=1.32.0->google-api-python-client) (5.5.2)\n",
            "Requirement already satisfied: pyasn1-modules>=0.2.1 in /usr/local/lib/python3.11/dist-packages (from google-auth!=2.24.0,!=2.25.0,<3.0.0,>=1.32.0->google-api-python-client) (0.4.2)\n",
            "Requirement already satisfied: rsa<5,>=3.1.4 in /usr/local/lib/python3.11/dist-packages (from google-auth!=2.24.0,!=2.25.0,<3.0.0,>=1.32.0->google-api-python-client) (4.9.1)\n",
            "Requirement already satisfied: pyparsing!=3.0.0,!=3.0.1,!=3.0.2,!=3.0.3,<4,>=2.4.2 in /usr/local/lib/python3.11/dist-packages (from httplib2<1.0.0,>=0.19.0->google-api-python-client) (3.2.3)\n",
            "Requirement already satisfied: six>=1.5 in /usr/local/lib/python3.11/dist-packages (from python-dateutil>=2.8.2->pandas) (1.17.0)\n",
            "Requirement already satisfied: annotated-types>=0.6.0 in /usr/local/lib/python3.11/dist-packages (from pydantic->google-generativeai) (0.7.0)\n",
            "Requirement already satisfied: pydantic-core==2.33.2 in /usr/local/lib/python3.11/dist-packages (from pydantic->google-generativeai) (2.33.2)\n",
            "Requirement already satisfied: typing-inspection>=0.4.0 in /usr/local/lib/python3.11/dist-packages (from pydantic->google-generativeai) (0.4.1)\n",
            "Requirement already satisfied: grpcio<2.0.0,>=1.33.2 in /usr/local/lib/python3.11/dist-packages (from google-api-core[grpc]!=2.0.*,!=2.1.*,!=2.10.*,!=2.2.*,!=2.3.*,!=2.4.*,!=2.5.*,!=2.6.*,!=2.7.*,!=2.8.*,!=2.9.*,<3.0.0dev,>=1.34.1->google-ai-generativelanguage==0.6.15->google-generativeai) (1.72.1)\n",
            "Requirement already satisfied: grpcio-status<2.0.0,>=1.33.2 in /usr/local/lib/python3.11/dist-packages (from google-api-core[grpc]!=2.0.*,!=2.1.*,!=2.10.*,!=2.2.*,!=2.3.*,!=2.4.*,!=2.5.*,!=2.6.*,!=2.7.*,!=2.8.*,!=2.9.*,<3.0.0dev,>=1.34.1->google-ai-generativelanguage==0.6.15->google-generativeai) (1.71.0)\n",
            "Requirement already satisfied: pyasn1<0.7.0,>=0.6.1 in /usr/local/lib/python3.11/dist-packages (from pyasn1-modules>=0.2.1->google-auth!=2.24.0,!=2.25.0,<3.0.0,>=1.32.0->google-api-python-client) (0.6.1)\n",
            "Requirement already satisfied: charset-normalizer<4,>=2 in /usr/local/lib/python3.11/dist-packages (from requests<3.0.0,>=2.18.0->google-api-core!=2.0.*,!=2.1.*,!=2.2.*,!=2.3.0,<3.0.0,>=1.31.5->google-api-python-client) (3.4.2)\n",
            "Requirement already satisfied: idna<4,>=2.5 in /usr/local/lib/python3.11/dist-packages (from requests<3.0.0,>=2.18.0->google-api-core!=2.0.*,!=2.1.*,!=2.2.*,!=2.3.0,<3.0.0,>=1.31.5->google-api-python-client) (3.10)\n",
            "Requirement already satisfied: urllib3<3,>=1.21.1 in /usr/local/lib/python3.11/dist-packages (from requests<3.0.0,>=2.18.0->google-api-core!=2.0.*,!=2.1.*,!=2.2.*,!=2.3.0,<3.0.0,>=1.31.5->google-api-python-client) (2.4.0)\n",
            "Requirement already satisfied: certifi>=2017.4.17 in /usr/local/lib/python3.11/dist-packages (from requests<3.0.0,>=2.18.0->google-api-core!=2.0.*,!=2.1.*,!=2.2.*,!=2.3.0,<3.0.0,>=1.31.5->google-api-python-client) (2025.4.26)\n"
          ]
        }
      ],
      "source": [
        "!pip install pandas google-api-python-client google-generativeai\n"
      ]
    },
    {
      "cell_type": "code",
      "source": [
        "import pandas as pd\n",
        "import time\n",
        "from IPython.display import display, Markdown\n",
        "from tabulate import tabulate\n",
        "from urllib.parse import quote_plus\n",
        "import google.generativeai as genai # SDK do Gemini\n",
        "import json # Para parsear a resposta do Gemini\n",
        "from google.colab import userdata # Para acessar a API key\n",
        "\n",
        "# --- Configuração do Agente e API Key ---\n",
        "GOOGLE_API_KEY = None\n",
        "gemini_model_instance = None # Renomeado para clareza\n",
        "\n",
        "try:\n",
        "    # O nome padrão para secrets é sem o sufixo _, a menos que você tenha nomeado especificamente assim.\n",
        "    # Vou usar 'GOOGLE_API_KEY' como padrão, conforme a prática comum.\n",
        "    GOOGLE_API_KEY = userdata.get('GOOGLE_API_KEY')\n",
        "    if not GOOGLE_API_KEY:\n",
        "        display(Markdown(\"<font color='red'>**Erro Crítico: GOOGLE_API_KEY não encontrada nos Secrets do Colab.** \"\n",
        "                         \"Por favor, configure-a com o nome 'GOOGLE_API_KEY'.</font>\"))\n",
        "    else:\n",
        "        genai.configure(api_key=GOOGLE_API_KEY)\n",
        "        gemini_model_instance = genai.GenerativeModel(\n",
        "            model_name='gemini-1.5-flash-latest', # Modelo eficiente e capaz\n",
        "            # A opção response_mime_type pode ser usada com modelos mais recentes\n",
        "            # e configurações de segurança apropriadas.\n",
        "            # generation_config=genai.types.GenerationConfig(\n",
        "            #     response_mime_type=\"application/json\"\n",
        "            # )\n",
        "        )\n",
        "        display(Markdown(\"✅ *SDK do Gemini e modelo (`gemini-1.5-flash-latest`) configurados com sucesso.*\"))\n",
        "except Exception as e:\n",
        "    display(Markdown(f\"<font color='red'>**Erro Crítico ao configurar o SDK do Gemini:** {e}. \"\n",
        "                     \"Verifique sua API Key, permissões e se o nome do secret está correto ('GOOGLE_API_KEY'). \"\n",
        "                     \"O agente não funcionará sem isso.</font>\"))\n",
        "    # O script poderia parar aqui ou continuar com funcionalidades limitadas se houvesse um fallback.\n",
        "    # Para este agente, o Gemini é essencial.\n",
        "\n",
        "# --- Funções Utilitárias ---\n",
        "\n",
        "def carregar_dados_viagem(caminho_arquivo: str) -> pd.DataFrame | None:\n",
        "    \"\"\"\n",
        "    Carrega os dados de viagem do arquivo CSV e valida as colunas necessárias.\n",
        "    \"\"\"\n",
        "    colunas_requeridas = ['cidade', 'pais', 'data_chegada', 'data_partida', 'hospedagem']\n",
        "    try:\n",
        "        df = pd.read_csv(caminho_arquivo)\n",
        "\n",
        "        # Validar se as colunas requeridas existem\n",
        "        if not all(col in df.columns for col in colunas_requeridas):\n",
        "            colunas_faltando = [col for col in colunas_requeridas if col not in df.columns]\n",
        "            display(Markdown(f\"<font color='red'>**Erro: O arquivo `{caminho_arquivo}` não contém as colunas requeridas.** \"\n",
        "                             f\"Faltam as seguintes colunas: {', '.join(colunas_faltando)}.</font>\"))\n",
        "            return None\n",
        "\n",
        "        display(Markdown(f\"### Arquivo de Viagem (`{caminho_arquivo}`)\"))\n",
        "        display(df[colunas_requeridas]) # Exibe apenas as colunas relevantes\n",
        "        return df\n",
        "    except FileNotFoundError:\n",
        "        display(Markdown(f\"<font color='red'>**Erro: Arquivo `{caminho_arquivo}` não encontrado.** Verifique o nome e o local.</font>\"))\n",
        "        return None\n",
        "    except Exception as e:\n",
        "        display(Markdown(f\"<font color='red'>**Erro ao carregar o arquivo CSV `{caminho_arquivo}`:** {e}</font>\"))\n",
        "        return None\n",
        "\n",
        "def gerar_links_pesquisa_google(cidade: str, pais: str) -> tuple[str, str, str]:\n",
        "    \"\"\"Gera links de pesquisa úteis para Google Search e Google Maps.\"\"\"\n",
        "    query_atracoes = f\"principais atrações turísticas em {cidade} {pais}\"\n",
        "    link_google_search = f\"https://www.google.com/search?q={quote_plus(query_atracoes)}\"\n",
        "    query_maps_atracoes = f\"atrações turísticas em {cidade}, {pais}\"\n",
        "    link_google_maps_atracoes = f\"https://www.google.com/maps/search/{quote_plus(query_maps_atracoes)}\"\n",
        "    query_maps_cidade = f\"{cidade}, {pais}\"\n",
        "    link_google_maps_cidade = f\"https://www.google.com/maps/place/{quote_plus(query_maps_cidade)}\"\n",
        "    return link_google_search, link_google_maps_atracoes, link_google_maps_cidade\n",
        "\n",
        "# --- Definição do Agente Pesquisador de Atrações ---\n",
        "\n",
        "class AgentePesquisadorAtracoes:\n",
        "    \"\"\"\n",
        "    Um agente responsável por pesquisar atrações turísticas usando o Gemini\n",
        "    e fornecer links úteis para pesquisa manual.\n",
        "    \"\"\"\n",
        "    def __init__(self, modelo_llm: genai.GenerativeModel):\n",
        "        if modelo_llm is None:\n",
        "            raise ValueError(\"O modelo LLM (Gemini) não pode ser None para este agente.\")\n",
        "        self.modelo = modelo_llm\n",
        "        self.safety_settings = [ # Configurações de segurança para o Gemini\n",
        "            {\"category\": \"HARM_CATEGORY_HARASSMENT\", \"threshold\": \"BLOCK_MEDIUM_AND_ABOVE\"},\n",
        "            {\"category\": \"HARM_CATEGORY_HATE_SPEECH\", \"threshold\": \"BLOCK_MEDIUM_AND_ABOVE\"},\n",
        "            {\"category\": \"HARM_CATEGORY_SEXUALLY_EXPLICIT\", \"threshold\": \"BLOCK_MEDIUM_AND_ABOVE\"},\n",
        "            {\"category\": \"HARM_CATEGORY_DANGEROUS_CONTENT\", \"threshold\": \"BLOCK_MEDIUM_AND_ABOVE\"},\n",
        "        ]\n",
        "\n",
        "    def _obter_sugestoes_gemini(self, cidade: str, pais: str, top_n: int = 7) -> list[dict]:\n",
        "        \"\"\"\n",
        "        Ferramenta interna do agente para consultar o Gemini sobre atrações.\n",
        "        \"\"\"\n",
        "        display(Markdown(f\"🧠 *Agente consultando Gemini sobre atrações em: **{cidade}, {pais}** (Top {top_n})...*\"))\n",
        "\n",
        "        prompt = f\"\"\"\n",
        "        Você é um assistente de planejamento de viagens altamente especializado e eficiente.\n",
        "        Sua tarefa é identificar as {top_n} principais e mais recomendadas atrações turísticas para a cidade de {cidade}, localizada em {pais}.\n",
        "\n",
        "        Critérios para sua seleção:\n",
        "        1.  **Popularidade e Reconhecimento:** Atrações bem conhecidas e frequentemente visitadas.\n",
        "        2.  **Qualidade das Avaliações:** Lugares geralmente com avaliações positivas (ex: acima de 4.0/5 estrelas).\n",
        "        3.  **Relevância Cultural/Histórica:** Locais com significado importante.\n",
        "        4.  **Diversidade de Experiências:** Inclua uma mistura de tipos, como museus, monumentos, parques, mercados, igrejas/catedrais, mirantes, etc., quando apropriado para a cidade.\n",
        "        5.  **Singularidade:** Atrações que oferecem uma experiência única ou icônica da cidade/região.\n",
        "\n",
        "        Formato da Resposta:\n",
        "        Retorne **estritamente uma lista JSON**. Cada elemento da lista deve ser um dicionário representando uma atração,\n",
        "        contendo EXATAMENTE as seguintes chaves:\n",
        "        - \"nome\": (string) O nome oficial e completo da atração.\n",
        "        - \"tipo_principal\": (string) A categoria principal da atração (ex: \"Museu de Arte\", \"Catedral Gótica\", \"Parque Urbano\", \"Mercado Histórico\", \"Monumento Nacional\", \"Mirante Panorâmico\"). Seja específico.\n",
        "        - \"descricao_enxuta\": (string) Uma descrição concisa e informativa (1-2 frases) que justifique sua inclusão, destacando seus principais atrativos.\n",
        "        - \"avaliacao_geral\": (string, opcional) Uma estimativa da avaliação geral se for amplamente conhecida (ex: \"Excelente\", \"Muito Popular\", \"4.5/5 estrelas\"). Use \"N/A\" se não houver uma estimativa clara.\n",
        "        - \"destaque_principal\": (string) O motivo principal pelo qual um turista deveria visitar (ex: \"Vistas incríveis da cidade\", \"Coleção de arte renascentista\", \"Arquitetura impressionante\", \"Atmosfera vibrante\").\n",
        "\n",
        "        Exemplo de um item na lista JSON:\n",
        "        {{\n",
        "          \"nome\": \"Museu do Louvre\",\n",
        "          \"tipo_principal\": \"Museu de Arte e Antiguidades\",\n",
        "          \"descricao_enxuta\": \"Um dos maiores e mais visitados museus do mundo, lar de obras-primas como a Mona Lisa e a Vênus de Milo.\",\n",
        "          \"avaliacao_geral\": \"4.7/5 estrelas\",\n",
        "          \"destaque_principal\": \"Coleção de arte de renome mundial\"\n",
        "        }}\n",
        "\n",
        "        Garanta que a saída seja SOMENTE a lista JSON, sem nenhum texto introdutório, comentários ou formatação adicional.\n",
        "        \"\"\"\n",
        "\n",
        "        try:\n",
        "            response = self.modelo.generate_content(\n",
        "                prompt,\n",
        "                generation_config=genai.types.GenerationConfig(\n",
        "                    temperature=0.4, # Um pouco mais factual, menos aleatório\n",
        "                    max_output_tokens=3072 # Espaço suficiente para a lista JSON\n",
        "                ),\n",
        "                safety_settings=self.safety_settings\n",
        "            )\n",
        "\n",
        "            json_text = response.text.strip()\n",
        "            # Tentativa robusta de extrair JSON, mesmo que o modelo adicione ```json ... ```\n",
        "            if json_text.startswith(\"```json\"):\n",
        "                json_text = json_text[7:]\n",
        "            if json_text.endswith(\"```\"):\n",
        "                json_text = json_text[:-3]\n",
        "            json_text = json_text.strip()\n",
        "\n",
        "            if not json_text:\n",
        "                display(Markdown(f\"<font color='orange'>Aviso: Gemini retornou uma resposta vazia para {cidade}.</font>\"))\n",
        "                return []\n",
        "\n",
        "            atracoes = json.loads(json_text)\n",
        "            # Garantir que é uma lista, mesmo que o Gemini retorne algo diferente\n",
        "            if not isinstance(atracoes, list):\n",
        "                 display(Markdown(f\"<font color='orange'>Aviso: Gemini retornou um formato inesperado (não uma lista) para {cidade}.</font>\"))\n",
        "                 return []\n",
        "\n",
        "            display(Markdown(f\"✅ *Gemini retornou {len(atracoes)} sugestões de atrações para {cidade}.*\"))\n",
        "            return atracoes[:top_n]\n",
        "        except json.JSONDecodeError as e:\n",
        "            display(Markdown(f\"<font color='red'>**Erro (JSONDecodeError) ao processar resposta do Gemini para {cidade}:** {e}. \"\n",
        "                             \"Isso geralmente ocorre se o modelo não retornar um JSON válido.</font>\"))\n",
        "            if hasattr(response, 'text'):\n",
        "                display(Markdown(f\"<pre>Resposta Bruta do Gemini:\\n{response.text}</pre>\"))\n",
        "            else:\n",
        "                 display(Markdown(f\"<pre>Nenhuma resposta de texto recebida do Gemini.</pre>\"))\n",
        "            return []\n",
        "        except Exception as e:\n",
        "            # Captura de erros mais genéricos, como problemas de API (quota, etc.)\n",
        "            # ou bloqueios de segurança não esperados.\n",
        "            display(Markdown(f\"<font color='red'>**Erro inesperado ao consultar Gemini para {cidade}:** {e}</font>\"))\n",
        "            if hasattr(response, 'prompt_feedback'):\n",
        "                display(Markdown(f\"Feedback do Prompt: {response.prompt_feedback}\"))\n",
        "            return []\n",
        "\n",
        "    def pesquisar_destino(self, cidade: str, pais: str, top_n_sugestoes: int = 7) -> dict:\n",
        "        \"\"\"\n",
        "        Executa a pesquisa de atrações para um destino específico.\n",
        "        \"\"\"\n",
        "        display(Markdown(f\"\\n### 🌍 Agente Iniciando Pesquisa para: **{cidade}, {pais}**\"))\n",
        "\n",
        "        links = gerar_links_pesquisa_google(cidade, pais)\n",
        "        sugestoes_gemini = self._obter_sugestoes_gemini(cidade, pais, top_n=top_n_sugestoes)\n",
        "\n",
        "        display(Markdown(f\"--- Pesquisa para **{cidade}, {pais}** finalizada pelo agente. ---\"))\n",
        "        return {\n",
        "            \"cidade\": cidade,\n",
        "            \"pais\": pais,\n",
        "            \"link_google_search\": links[0],\n",
        "            \"link_google_maps_atracoes\": links[1],\n",
        "            \"link_google_maps_cidade\": links[2],\n",
        "            \"sugestoes_gemini\": sugestoes_gemini\n",
        "        }\n",
        "\n",
        "# --- Função Principal de Execução ---\n",
        "def executar_planejador_viagem(caminho_arquivo_csv: str = 'europa.csv'):\n",
        "    \"\"\"\n",
        "    Orquestra o carregamento dos dados da viagem e a pesquisa de atrações para cada destino.\n",
        "    Recebe o caminho do arquivo CSV como parâmetro.\n",
        "    \"\"\"\n",
        "    if not GOOGLE_API_KEY or not gemini_model_instance:\n",
        "        display(Markdown(\"<font color='red'>**Execução Interrompida.** API Key do Google ou modelo Gemini não configurados corretamente na inicialização.</font>\"))\n",
        "        return\n",
        "\n",
        "    df_viagem = carregar_dados_viagem(caminho_arquivo_csv)\n",
        "\n",
        "    if df_viagem is None:\n",
        "        display(Markdown(\"<font color='red'>**Não foi possível prosseguir sem os dados da viagem.**</font>\"))\n",
        "        return\n",
        "\n",
        "    try:\n",
        "        agente_pesquisador = AgentePesquisadorAtracoes(modelo_llm=gemini_model_instance)\n",
        "    except ValueError as e:\n",
        "        display(Markdown(f\"<font color='red'>**Erro ao criar o agente pesquisador:** {e}</font>\"))\n",
        "        return\n",
        "\n",
        "    display(Markdown(\"\\n# 🗺️ **Relatório de Pesquisa de Atrações do Agente** ✈️\"))\n",
        "\n",
        "    resultados_completos = []\n",
        "    for indice, linha_viagem in df_viagem.iterrows():\n",
        "        cidade = linha_viagem['cidade']\n",
        "        pais = linha_viagem['pais']\n",
        "\n",
        "        resultado_destino = agente_pesquisador.pesquisar_destino(cidade, pais, top_n_sugestoes=15)\n",
        "\n",
        "        # Adicionar dados da viagem original ao resultado\n",
        "        resultado_destino['data_chegada'] = linha_viagem['data_chegada']\n",
        "        resultado_destino['data_partida'] = linha_viagem['data_partida']\n",
        "        resultado_destino['hospedagem'] = linha_viagem['hospedagem']\n",
        "        resultados_completos.append(resultado_destino)\n",
        "\n",
        "        # Exibição imediata por destino\n",
        "        display(Markdown(f\"\\n## 📍 Destino: **{resultado_destino['cidade']}, {resultado_destino['pais']}**\"))\n",
        "        display(Markdown(f\"🗓️ **Período:** {resultado_destino['data_chegada']} a {resultado_destino['data_partida']}\"))\n",
        "        display(Markdown(f\"🏨 **Hospedagem:** {resultado_destino['hospedagem']}\"))\n",
        "\n",
        "        display(Markdown(\"#### 🔍 Links Úteis para Pesquisa Manual Detalhada (abrem em nova aba):\"))\n",
        "        display(Markdown(f\"- **[Google Search: Principais atrações]({resultado_destino['link_google_search']})** \")) # Removido {} extra\n",
        "        display(Markdown(f\"- **[Google Maps: Atrações na área]({resultado_destino['link_google_maps_atracoes']})** \")) # Removido {} extra\n",
        "        display(Markdown(f\"- **[Google Maps: Visão geral da cidade]({resultado_destino['link_google_maps_cidade']})** \")) # Removido {} extra\n",
        "\n",
        "        if resultado_destino['sugestoes_gemini']:\n",
        "            display(Markdown(\"#### ✨ Sugestões de Atrações Principais (via Agente Gemini):\"))\n",
        "\n",
        "            tabela_atracoes_data = []\n",
        "            # Chaves como definidas no prompt do Gemini\n",
        "            headers = [\"Nº\", \"Atração\", \"Tipo Principal\", \"Descrição Enxuta\", \"Avaliação Geral\", \"Destaque Principal\"]\n",
        "\n",
        "            for i, atracao in enumerate(resultado_destino['sugestoes_gemini']):\n",
        "                tabela_atracoes_data.append([\n",
        "                    i + 1,\n",
        "                    atracao.get('nome', 'N/A'),\n",
        "                    atracao.get('tipo_principal', 'N/A'),\n",
        "                    atracao.get('descricao_enxuta', 'N/A'),\n",
        "                    atracao.get('avaliacao_geral', 'N/A'),\n",
        "                    atracao.get('destaque_principal', 'N/A')\n",
        "                ])\n",
        "\n",
        "            tabela_formatada = tabulate(tabela_atracoes_data, headers=headers, tablefmt=\"pipe\", stralign=\"left\")\n",
        "            display(Markdown(tabela_formatada))\n",
        "        else:\n",
        "            display(Markdown(\"<font color='orange'>⚠️ Nenhuma sugestão de atração específica retornada pelo Gemini para este destino. \"\n",
        "                             \"Utilize os links de pesquisa manual acima.</font>\"))\n",
        "        display(Markdown(\"---\")) # Separador visual entre destinos\n",
        "\n",
        "    # Você pode querer fazer algo com 'resultados_completos' aqui, como salvar em um JSON.\n",
        "    # Exemplo:\n",
        "    # with open('planejamento_viagem_atracoes.json', 'w', encoding='utf-8') as f:\n",
        "    #     json.dump(resultados_completos, f, ensure_ascii=False, indent=4)\n",
        "    # display(Markdown(\"\\n💾 *Relatório completo também salvo em `planejamento_viagem_atracoes.json` (descomente para ativar).*\"))\n",
        "\n",
        "# --- Ponto de Entrada da Execução ---\n",
        "if __name__ == \"__main__\":\n",
        "    # Certifique-se de que as bibliotecas estão instaladas\n",
        "    # Em um notebook Colab, você executaria !pip install -q pandas google-generativeai tabulate em uma célula separada.\n",
        "    # Agora você pode chamar a função passando o caminho do seu arquivo CSV, por exemplo:\n",
        "    # executar_planejador_viagem('meu_arquivo_viagem.csv')\n",
        "    # Se nenhum caminho for fornecido, ele usará 'europa.csv' por padrão.\n",
        "    executar_planejador_viagem()"
      ],
      "metadata": {
        "id": "OK0vHJM92vIj",
        "colab": {
          "base_uri": "https://localhost:8080/",
          "height": 1000
        },
        "collapsed": true,
        "outputId": "46e51858-3c2c-4d18-e175-16cccf3087f8"
      },
      "execution_count": 2,
      "outputs": [
        {
          "output_type": "display_data",
          "data": {
            "text/plain": [
              "<IPython.core.display.Markdown object>"
            ],
            "text/markdown": "✅ *SDK do Gemini e modelo (`gemini-1.5-flash-latest`) configurados com sucesso.*"
          },
          "metadata": {}
        },
        {
          "output_type": "display_data",
          "data": {
            "text/plain": [
              "<IPython.core.display.Markdown object>"
            ],
            "text/markdown": "### Arquivo de Viagem (`europa.csv`)"
          },
          "metadata": {}
        },
        {
          "output_type": "display_data",
          "data": {
            "text/plain": [
              "     cidade     pais data_chegada data_partida                    hospedagem\n",
              "0      Roma   Jtália   2025-09-13   2025-09-16  Via Francesco Caracciolo n.7\n",
              "1  Florença   Itália   2025-09-16   2025-09-19                  Hotel Bodoni\n",
              "2     Viena  Aústria   2025-09-20   2025-09-24            Hilton Vienna Park"
            ],
            "text/html": [
              "\n",
              "  <div id=\"df-93f5ddbb-ff62-4d10-bad6-2a0cddb676f0\" class=\"colab-df-container\">\n",
              "    <div>\n",
              "<style scoped>\n",
              "    .dataframe tbody tr th:only-of-type {\n",
              "        vertical-align: middle;\n",
              "    }\n",
              "\n",
              "    .dataframe tbody tr th {\n",
              "        vertical-align: top;\n",
              "    }\n",
              "\n",
              "    .dataframe thead th {\n",
              "        text-align: right;\n",
              "    }\n",
              "</style>\n",
              "<table border=\"1\" class=\"dataframe\">\n",
              "  <thead>\n",
              "    <tr style=\"text-align: right;\">\n",
              "      <th></th>\n",
              "      <th>cidade</th>\n",
              "      <th>pais</th>\n",
              "      <th>data_chegada</th>\n",
              "      <th>data_partida</th>\n",
              "      <th>hospedagem</th>\n",
              "    </tr>\n",
              "  </thead>\n",
              "  <tbody>\n",
              "    <tr>\n",
              "      <th>0</th>\n",
              "      <td>Roma</td>\n",
              "      <td>Jtália</td>\n",
              "      <td>2025-09-13</td>\n",
              "      <td>2025-09-16</td>\n",
              "      <td>Via Francesco Caracciolo n.7</td>\n",
              "    </tr>\n",
              "    <tr>\n",
              "      <th>1</th>\n",
              "      <td>Florença</td>\n",
              "      <td>Itália</td>\n",
              "      <td>2025-09-16</td>\n",
              "      <td>2025-09-19</td>\n",
              "      <td>Hotel Bodoni</td>\n",
              "    </tr>\n",
              "    <tr>\n",
              "      <th>2</th>\n",
              "      <td>Viena</td>\n",
              "      <td>Aústria</td>\n",
              "      <td>2025-09-20</td>\n",
              "      <td>2025-09-24</td>\n",
              "      <td>Hilton Vienna Park</td>\n",
              "    </tr>\n",
              "  </tbody>\n",
              "</table>\n",
              "</div>\n",
              "    <div class=\"colab-df-buttons\">\n",
              "\n",
              "  <div class=\"colab-df-container\">\n",
              "    <button class=\"colab-df-convert\" onclick=\"convertToInteractive('df-93f5ddbb-ff62-4d10-bad6-2a0cddb676f0')\"\n",
              "            title=\"Convert this dataframe to an interactive table.\"\n",
              "            style=\"display:none;\">\n",
              "\n",
              "  <svg xmlns=\"http://www.w3.org/2000/svg\" height=\"24px\" viewBox=\"0 -960 960 960\">\n",
              "    <path d=\"M120-120v-720h720v720H120Zm60-500h600v-160H180v160Zm220 220h160v-160H400v160Zm0 220h160v-160H400v160ZM180-400h160v-160H180v160Zm440 0h160v-160H620v160ZM180-180h160v-160H180v160Zm440 0h160v-160H620v160Z\"/>\n",
              "  </svg>\n",
              "    </button>\n",
              "\n",
              "  <style>\n",
              "    .colab-df-container {\n",
              "      display:flex;\n",
              "      gap: 12px;\n",
              "    }\n",
              "\n",
              "    .colab-df-convert {\n",
              "      background-color: #E8F0FE;\n",
              "      border: none;\n",
              "      border-radius: 50%;\n",
              "      cursor: pointer;\n",
              "      display: none;\n",
              "      fill: #1967D2;\n",
              "      height: 32px;\n",
              "      padding: 0 0 0 0;\n",
              "      width: 32px;\n",
              "    }\n",
              "\n",
              "    .colab-df-convert:hover {\n",
              "      background-color: #E2EBFA;\n",
              "      box-shadow: 0px 1px 2px rgba(60, 64, 67, 0.3), 0px 1px 3px 1px rgba(60, 64, 67, 0.15);\n",
              "      fill: #174EA6;\n",
              "    }\n",
              "\n",
              "    .colab-df-buttons div {\n",
              "      margin-bottom: 4px;\n",
              "    }\n",
              "\n",
              "    [theme=dark] .colab-df-convert {\n",
              "      background-color: #3B4455;\n",
              "      fill: #D2E3FC;\n",
              "    }\n",
              "\n",
              "    [theme=dark] .colab-df-convert:hover {\n",
              "      background-color: #434B5C;\n",
              "      box-shadow: 0px 1px 3px 1px rgba(0, 0, 0, 0.15);\n",
              "      filter: drop-shadow(0px 1px 2px rgba(0, 0, 0, 0.3));\n",
              "      fill: #FFFFFF;\n",
              "    }\n",
              "  </style>\n",
              "\n",
              "    <script>\n",
              "      const buttonEl =\n",
              "        document.querySelector('#df-93f5ddbb-ff62-4d10-bad6-2a0cddb676f0 button.colab-df-convert');\n",
              "      buttonEl.style.display =\n",
              "        google.colab.kernel.accessAllowed ? 'block' : 'none';\n",
              "\n",
              "      async function convertToInteractive(key) {\n",
              "        const element = document.querySelector('#df-93f5ddbb-ff62-4d10-bad6-2a0cddb676f0');\n",
              "        const dataTable =\n",
              "          await google.colab.kernel.invokeFunction('convertToInteractive',\n",
              "                                                    [key], {});\n",
              "        if (!dataTable) return;\n",
              "\n",
              "        const docLinkHtml = 'Like what you see? Visit the ' +\n",
              "          '<a target=\"_blank\" href=https://colab.research.google.com/notebooks/data_table.ipynb>data table notebook</a>'\n",
              "          + ' to learn more about interactive tables.';\n",
              "        element.innerHTML = '';\n",
              "        dataTable['output_type'] = 'display_data';\n",
              "        await google.colab.output.renderOutput(dataTable, element);\n",
              "        const docLink = document.createElement('div');\n",
              "        docLink.innerHTML = docLinkHtml;\n",
              "        element.appendChild(docLink);\n",
              "      }\n",
              "    </script>\n",
              "  </div>\n",
              "\n",
              "\n",
              "    <div id=\"df-e93fdde0-39c9-443b-bec5-6d593122dbbb\">\n",
              "      <button class=\"colab-df-quickchart\" onclick=\"quickchart('df-e93fdde0-39c9-443b-bec5-6d593122dbbb')\"\n",
              "                title=\"Suggest charts\"\n",
              "                style=\"display:none;\">\n",
              "\n",
              "<svg xmlns=\"http://www.w3.org/2000/svg\" height=\"24px\"viewBox=\"0 0 24 24\"\n",
              "     width=\"24px\">\n",
              "    <g>\n",
              "        <path d=\"M19 3H5c-1.1 0-2 .9-2 2v14c0 1.1.9 2 2 2h14c1.1 0 2-.9 2-2V5c0-1.1-.9-2-2-2zM9 17H7v-7h2v7zm4 0h-2V7h2v10zm4 0h-2v-4h2v4z\"/>\n",
              "    </g>\n",
              "</svg>\n",
              "      </button>\n",
              "\n",
              "<style>\n",
              "  .colab-df-quickchart {\n",
              "      --bg-color: #E8F0FE;\n",
              "      --fill-color: #1967D2;\n",
              "      --hover-bg-color: #E2EBFA;\n",
              "      --hover-fill-color: #174EA6;\n",
              "      --disabled-fill-color: #AAA;\n",
              "      --disabled-bg-color: #DDD;\n",
              "  }\n",
              "\n",
              "  [theme=dark] .colab-df-quickchart {\n",
              "      --bg-color: #3B4455;\n",
              "      --fill-color: #D2E3FC;\n",
              "      --hover-bg-color: #434B5C;\n",
              "      --hover-fill-color: #FFFFFF;\n",
              "      --disabled-bg-color: #3B4455;\n",
              "      --disabled-fill-color: #666;\n",
              "  }\n",
              "\n",
              "  .colab-df-quickchart {\n",
              "    background-color: var(--bg-color);\n",
              "    border: none;\n",
              "    border-radius: 50%;\n",
              "    cursor: pointer;\n",
              "    display: none;\n",
              "    fill: var(--fill-color);\n",
              "    height: 32px;\n",
              "    padding: 0;\n",
              "    width: 32px;\n",
              "  }\n",
              "\n",
              "  .colab-df-quickchart:hover {\n",
              "    background-color: var(--hover-bg-color);\n",
              "    box-shadow: 0 1px 2px rgba(60, 64, 67, 0.3), 0 1px 3px 1px rgba(60, 64, 67, 0.15);\n",
              "    fill: var(--button-hover-fill-color);\n",
              "  }\n",
              "\n",
              "  .colab-df-quickchart-complete:disabled,\n",
              "  .colab-df-quickchart-complete:disabled:hover {\n",
              "    background-color: var(--disabled-bg-color);\n",
              "    fill: var(--disabled-fill-color);\n",
              "    box-shadow: none;\n",
              "  }\n",
              "\n",
              "  .colab-df-spinner {\n",
              "    border: 2px solid var(--fill-color);\n",
              "    border-color: transparent;\n",
              "    border-bottom-color: var(--fill-color);\n",
              "    animation:\n",
              "      spin 1s steps(1) infinite;\n",
              "  }\n",
              "\n",
              "  @keyframes spin {\n",
              "    0% {\n",
              "      border-color: transparent;\n",
              "      border-bottom-color: var(--fill-color);\n",
              "      border-left-color: var(--fill-color);\n",
              "    }\n",
              "    20% {\n",
              "      border-color: transparent;\n",
              "      border-left-color: var(--fill-color);\n",
              "      border-top-color: var(--fill-color);\n",
              "    }\n",
              "    30% {\n",
              "      border-color: transparent;\n",
              "      border-left-color: var(--fill-color);\n",
              "      border-top-color: var(--fill-color);\n",
              "      border-right-color: var(--fill-color);\n",
              "    }\n",
              "    40% {\n",
              "      border-color: transparent;\n",
              "      border-right-color: var(--fill-color);\n",
              "      border-top-color: var(--fill-color);\n",
              "    }\n",
              "    60% {\n",
              "      border-color: transparent;\n",
              "      border-right-color: var(--fill-color);\n",
              "    }\n",
              "    80% {\n",
              "      border-color: transparent;\n",
              "      border-right-color: var(--fill-color);\n",
              "      border-bottom-color: var(--fill-color);\n",
              "    }\n",
              "    90% {\n",
              "      border-color: transparent;\n",
              "      border-bottom-color: var(--fill-color);\n",
              "    }\n",
              "  }\n",
              "</style>\n",
              "\n",
              "      <script>\n",
              "        async function quickchart(key) {\n",
              "          const quickchartButtonEl =\n",
              "            document.querySelector('#' + key + ' button');\n",
              "          quickchartButtonEl.disabled = true;  // To prevent multiple clicks.\n",
              "          quickchartButtonEl.classList.add('colab-df-spinner');\n",
              "          try {\n",
              "            const charts = await google.colab.kernel.invokeFunction(\n",
              "                'suggestCharts', [key], {});\n",
              "          } catch (error) {\n",
              "            console.error('Error during call to suggestCharts:', error);\n",
              "          }\n",
              "          quickchartButtonEl.classList.remove('colab-df-spinner');\n",
              "          quickchartButtonEl.classList.add('colab-df-quickchart-complete');\n",
              "        }\n",
              "        (() => {\n",
              "          let quickchartButtonEl =\n",
              "            document.querySelector('#df-e93fdde0-39c9-443b-bec5-6d593122dbbb button');\n",
              "          quickchartButtonEl.style.display =\n",
              "            google.colab.kernel.accessAllowed ? 'block' : 'none';\n",
              "        })();\n",
              "      </script>\n",
              "    </div>\n",
              "\n",
              "    </div>\n",
              "  </div>\n"
            ],
            "application/vnd.google.colaboratory.intrinsic+json": {
              "type": "dataframe",
              "summary": "{\n  \"name\": \"    executar_planejador_viagem()\",\n  \"rows\": 3,\n  \"fields\": [\n    {\n      \"column\": \"cidade\",\n      \"properties\": {\n        \"dtype\": \"string\",\n        \"num_unique_values\": 3,\n        \"samples\": [\n          \"Roma\",\n          \"Floren\\u00e7a\",\n          \"Viena\"\n        ],\n        \"semantic_type\": \"\",\n        \"description\": \"\"\n      }\n    },\n    {\n      \"column\": \"pais\",\n      \"properties\": {\n        \"dtype\": \"string\",\n        \"num_unique_values\": 3,\n        \"samples\": [\n          \"Jt\\u00e1lia\",\n          \"It\\u00e1lia\",\n          \"A\\u00fastria\"\n        ],\n        \"semantic_type\": \"\",\n        \"description\": \"\"\n      }\n    },\n    {\n      \"column\": \"data_chegada\",\n      \"properties\": {\n        \"dtype\": \"object\",\n        \"num_unique_values\": 3,\n        \"samples\": [\n          \"2025-09-13\",\n          \"2025-09-16\",\n          \"2025-09-20\"\n        ],\n        \"semantic_type\": \"\",\n        \"description\": \"\"\n      }\n    },\n    {\n      \"column\": \"data_partida\",\n      \"properties\": {\n        \"dtype\": \"object\",\n        \"num_unique_values\": 3,\n        \"samples\": [\n          \"2025-09-16\",\n          \"2025-09-19\",\n          \"2025-09-24\"\n        ],\n        \"semantic_type\": \"\",\n        \"description\": \"\"\n      }\n    },\n    {\n      \"column\": \"hospedagem\",\n      \"properties\": {\n        \"dtype\": \"string\",\n        \"num_unique_values\": 3,\n        \"samples\": [\n          \"Via Francesco Caracciolo n.7\",\n          \"Hotel Bodoni\",\n          \"Hilton Vienna Park\"\n        ],\n        \"semantic_type\": \"\",\n        \"description\": \"\"\n      }\n    }\n  ]\n}"
            }
          },
          "metadata": {}
        },
        {
          "output_type": "display_data",
          "data": {
            "text/plain": [
              "<IPython.core.display.Markdown object>"
            ],
            "text/markdown": "\n# 🗺️ **Relatório de Pesquisa de Atrações do Agente** ✈️"
          },
          "metadata": {}
        },
        {
          "output_type": "display_data",
          "data": {
            "text/plain": [
              "<IPython.core.display.Markdown object>"
            ],
            "text/markdown": "\n### 🌍 Agente Iniciando Pesquisa para: **Roma, Jtália**"
          },
          "metadata": {}
        },
        {
          "output_type": "display_data",
          "data": {
            "text/plain": [
              "<IPython.core.display.Markdown object>"
            ],
            "text/markdown": "🧠 *Agente consultando Gemini sobre atrações em: **Roma, Jtália** (Top 15)...*"
          },
          "metadata": {}
        },
        {
          "output_type": "display_data",
          "data": {
            "text/plain": [
              "<IPython.core.display.Markdown object>"
            ],
            "text/markdown": "✅ *Gemini retornou 15 sugestões de atrações para Roma.*"
          },
          "metadata": {}
        },
        {
          "output_type": "display_data",
          "data": {
            "text/plain": [
              "<IPython.core.display.Markdown object>"
            ],
            "text/markdown": "--- Pesquisa para **Roma, Jtália** finalizada pelo agente. ---"
          },
          "metadata": {}
        },
        {
          "output_type": "display_data",
          "data": {
            "text/plain": [
              "<IPython.core.display.Markdown object>"
            ],
            "text/markdown": "\n## 📍 Destino: **Roma, Jtália**"
          },
          "metadata": {}
        },
        {
          "output_type": "display_data",
          "data": {
            "text/plain": [
              "<IPython.core.display.Markdown object>"
            ],
            "text/markdown": "🗓️ **Período:** 2025-09-13 a 2025-09-16"
          },
          "metadata": {}
        },
        {
          "output_type": "display_data",
          "data": {
            "text/plain": [
              "<IPython.core.display.Markdown object>"
            ],
            "text/markdown": "🏨 **Hospedagem:** Via Francesco Caracciolo n.7"
          },
          "metadata": {}
        },
        {
          "output_type": "display_data",
          "data": {
            "text/plain": [
              "<IPython.core.display.Markdown object>"
            ],
            "text/markdown": "#### 🔍 Links Úteis para Pesquisa Manual Detalhada (abrem em nova aba):"
          },
          "metadata": {}
        },
        {
          "output_type": "display_data",
          "data": {
            "text/plain": [
              "<IPython.core.display.Markdown object>"
            ],
            "text/markdown": "- **[Google Search: Principais atrações](https://www.google.com/search?q=principais+atra%C3%A7%C3%B5es+tur%C3%ADsticas+em+Roma+Jt%C3%A1lia)** "
          },
          "metadata": {}
        },
        {
          "output_type": "display_data",
          "data": {
            "text/plain": [
              "<IPython.core.display.Markdown object>"
            ],
            "text/markdown": "- **[Google Maps: Atrações na área](https://www.google.com/maps/search/atra%C3%A7%C3%B5es+tur%C3%ADsticas+em+Roma%2C+Jt%C3%A1lia)** "
          },
          "metadata": {}
        },
        {
          "output_type": "display_data",
          "data": {
            "text/plain": [
              "<IPython.core.display.Markdown object>"
            ],
            "text/markdown": "- **[Google Maps: Visão geral da cidade](https://www.google.com/maps/place/Roma%2C+Jt%C3%A1lia)** "
          },
          "metadata": {}
        },
        {
          "output_type": "display_data",
          "data": {
            "text/plain": [
              "<IPython.core.display.Markdown object>"
            ],
            "text/markdown": "#### ✨ Sugestões de Atrações Principais (via Agente Gemini):"
          },
          "metadata": {}
        },
        {
          "output_type": "display_data",
          "data": {
            "text/plain": [
              "<IPython.core.display.Markdown object>"
            ],
            "text/markdown": "|   Nº | Atração                  | Tipo Principal                 | Descrição Enxuta                                                                                                 | Avaliação Geral   | Destaque Principal                                  |\n|-----:|:-------------------------|:-------------------------------|:-----------------------------------------------------------------------------------------------------------------|:------------------|:----------------------------------------------------|\n|    1 | Coliseu                  | Monumento Nacional             | Anfiteatro icônico do Império Romano, palco de espetáculos grandiosos e símbolo da cidade.                       | Excelente         | Arquitetura impressionante e história milenar       |\n|    2 | Fórum Romano             | Sítio Arqueológico             | Restos do centro cívico e social da antiga Roma, com ruínas de templos, basílicas e edifícios públicos.          | Muito Popular     | Viagem ao passado da civilização romana             |\n|    3 | Palácio do Vaticano      | Complexo Religioso e Histórico | Sede da Igreja Católica, incluindo a Basílica de São Pedro e os Museus Vaticanos, com a Capela Sistina.          | Excelente         | Arte renascentista e arquitetura monumental         |\n|    4 | Basílica de São Pedro    | Catedral Católica              | Basílica monumental, uma das maiores e mais importantes igrejas do cristianismo, com obras de arte inestimáveis. | Excelente         | Magnificência arquitetônica e importância religiosa |\n|    5 | Museus Vaticanos         | Museu de Arte e História       | Coleção extensa de arte e artefatos, incluindo a Capela Sistina com afrescos de Michelangelo.                    | Excelente         | Obras-primas da arte renascentista e mundial        |\n|    6 | Fontana di Trevi         | Fonte Monumental               | Fonte barroca exuberante, uma das mais famosas do mundo, com esculturas e um cenário encantador.                 | Muito Popular     | Beleza e atmosfera romântica                        |\n|    7 | Pantheon                 | Templo Romano                  | Templo romano excepcionalmente preservado, com uma cúpula impressionante e um óculo que ilumina o interior.      | Excelente         | Arquitetura e engenharia romanas excepcionais       |\n|    8 | Piazza Navona            | Praça Histórica                | Praça barroca animada, com fontes ornamentadas, artistas de rua e uma atmosfera vibrante.                        | Muito Popular     | Atmosfera charmosa e vida urbana romana             |\n|    9 | Espaço de Campo de Fiori | Mercado Histórico              | Mercado ao ar livre com produtos frescos, flores e uma atmosfera animada, especialmente pela manhã.              | Muito Popular     | Experiência autêntica da vida romana                |\n|   10 | Castel Sant'Angelo       | Castelo Histórico              | Castelo imponente com história rica, oferecendo vistas panorâmicas da cidade e exposições interessantes.         | Muito Popular     | Vistas panorâmicas e história fascinante            |\n|   11 | Villa Borghese           | Parque Urbano e Museu          | Grande parque com jardins, galerias de arte, museus e lagos, ideal para relaxar e apreciar a natureza.           | Muito Popular     | Espaço verde e cultural no coração de Roma          |\n|   12 | Escadaria Espanhola      | Escadaria Monumental           | Escadaria famosa, ponto de encontro e local de encontro, com uma atmosfera vibrante.                             | Muito Popular     | Ícone arquitetônico e ponto de encontro social      |\n|   13 | Janículo                 | Mirante Panorâmico             | Colina com vistas panorâmicas deslumbrantes de Roma, especialmente ao pôr do sol.                                | Excelente         | Vistas panorâmicas de tirar o fôlego                |\n|   14 | Catacombas de Roma       | Sítio Arqueológico e Religioso | Rede de túneis subterrâneos usados como cemitérios pelos primeiros cristãos, oferecendo uma experiência única.   | Muito Popular     | Experiência histórica e espiritual única            |\n|   15 | Galleria Borghese        | Museu de Arte                  | Galeria de arte com esculturas e pinturas de Bernini, Caravaggio e outros mestres, localizada na Villa Borghese. | Excelente         | Coleção de arte excepcional do período barroco      |"
          },
          "metadata": {}
        },
        {
          "output_type": "display_data",
          "data": {
            "text/plain": [
              "<IPython.core.display.Markdown object>"
            ],
            "text/markdown": "---"
          },
          "metadata": {}
        },
        {
          "output_type": "display_data",
          "data": {
            "text/plain": [
              "<IPython.core.display.Markdown object>"
            ],
            "text/markdown": "\n### 🌍 Agente Iniciando Pesquisa para: **Florença, Itália**"
          },
          "metadata": {}
        },
        {
          "output_type": "display_data",
          "data": {
            "text/plain": [
              "<IPython.core.display.Markdown object>"
            ],
            "text/markdown": "🧠 *Agente consultando Gemini sobre atrações em: **Florença, Itália** (Top 15)...*"
          },
          "metadata": {}
        },
        {
          "output_type": "display_data",
          "data": {
            "text/plain": [
              "<IPython.core.display.Markdown object>"
            ],
            "text/markdown": "✅ *Gemini retornou 15 sugestões de atrações para Florença.*"
          },
          "metadata": {}
        },
        {
          "output_type": "display_data",
          "data": {
            "text/plain": [
              "<IPython.core.display.Markdown object>"
            ],
            "text/markdown": "--- Pesquisa para **Florença, Itália** finalizada pelo agente. ---"
          },
          "metadata": {}
        },
        {
          "output_type": "display_data",
          "data": {
            "text/plain": [
              "<IPython.core.display.Markdown object>"
            ],
            "text/markdown": "\n## 📍 Destino: **Florença, Itália**"
          },
          "metadata": {}
        },
        {
          "output_type": "display_data",
          "data": {
            "text/plain": [
              "<IPython.core.display.Markdown object>"
            ],
            "text/markdown": "🗓️ **Período:** 2025-09-16 a 2025-09-19"
          },
          "metadata": {}
        },
        {
          "output_type": "display_data",
          "data": {
            "text/plain": [
              "<IPython.core.display.Markdown object>"
            ],
            "text/markdown": "🏨 **Hospedagem:** Hotel Bodoni"
          },
          "metadata": {}
        },
        {
          "output_type": "display_data",
          "data": {
            "text/plain": [
              "<IPython.core.display.Markdown object>"
            ],
            "text/markdown": "#### 🔍 Links Úteis para Pesquisa Manual Detalhada (abrem em nova aba):"
          },
          "metadata": {}
        },
        {
          "output_type": "display_data",
          "data": {
            "text/plain": [
              "<IPython.core.display.Markdown object>"
            ],
            "text/markdown": "- **[Google Search: Principais atrações](https://www.google.com/search?q=principais+atra%C3%A7%C3%B5es+tur%C3%ADsticas+em+Floren%C3%A7a+It%C3%A1lia)** "
          },
          "metadata": {}
        },
        {
          "output_type": "display_data",
          "data": {
            "text/plain": [
              "<IPython.core.display.Markdown object>"
            ],
            "text/markdown": "- **[Google Maps: Atrações na área](https://www.google.com/maps/search/atra%C3%A7%C3%B5es+tur%C3%ADsticas+em+Floren%C3%A7a%2C+It%C3%A1lia)** "
          },
          "metadata": {}
        },
        {
          "output_type": "display_data",
          "data": {
            "text/plain": [
              "<IPython.core.display.Markdown object>"
            ],
            "text/markdown": "- **[Google Maps: Visão geral da cidade](https://www.google.com/maps/place/Floren%C3%A7a%2C+It%C3%A1lia)** "
          },
          "metadata": {}
        },
        {
          "output_type": "display_data",
          "data": {
            "text/plain": [
              "<IPython.core.display.Markdown object>"
            ],
            "text/markdown": "#### ✨ Sugestões de Atrações Principais (via Agente Gemini):"
          },
          "metadata": {}
        },
        {
          "output_type": "display_data",
          "data": {
            "text/plain": [
              "<IPython.core.display.Markdown object>"
            ],
            "text/markdown": "|   Nº | Atração                      | Tipo Principal          | Descrição Enxuta                                                                                                              | Avaliação Geral   | Destaque Principal                                 |\n|-----:|:-----------------------------|:------------------------|:------------------------------------------------------------------------------------------------------------------------------|:------------------|:---------------------------------------------------|\n|    1 | Galeria da Academia          | Museu de Arte           | Abriga a coleção mais completa de obras de arte de Michelangelo, incluindo o David e as pinturas da Capela Sistina.           | Excelente         | Coleção de obras-primas de Michelangelo            |\n|    2 | Catedral de Florença (Duomo) | Catedral Gótica         | Uma das maiores catedrais do mundo, com uma cúpula impressionante de Brunelleschi e o Campanário de Giotto.                   | Excelente         | Arquitetura gótica e renascentista icônica         |\n|    3 | Ponte Vecchio                | Ponte Histórica         | Uma ponte medieval única, com lojas construídas ao longo dela, oferecendo vistas deslumbrantes do rio Arno.                   | Muito Popular     | Arquitetura única e vistas panorâmicas             |\n|    4 | Palazzo Pitti                | Palácio Histórico       | Um enorme palácio renascentista que abriga cinco museus, incluindo a Galeria de Arte Moderna e o Museu do Figurino e da Moda. | Excelente         | Arquitetura imponente e múltiplas coleções de arte |\n|    5 | Uffizi Gallery               | Museu de Arte           | Um dos museus de arte mais importantes do mundo, com uma coleção abrangente de obras-primas renascentistas.                   | Excelente         | Coleção de arte renascentista incomparável         |\n|    6 | Piazza della Signoria        | Praça Pública Histórica | O coração político de Florença, com esculturas importantes, palácios e fontes.                                                | Muito Popular     | Atmosfera histórica e esculturas icônicas          |\n|    7 | Palazzo Vecchio              | Palácio Histórico       | O antigo palácio do governo de Florença, com interiores ricamente decorados e uma torre com vistas panorâmicas.               | Excelente         | História política e vistas panorâmicas             |\n|    8 | Boboli Gardens               | Jardim Histórico        | Um dos primeiros e mais importantes jardins italianos, com fontes, esculturas e paisagismo requintado.                        | Excelente         | Paisagismo italiano e esculturas renascentistas    |\n|    9 | Mercado de San Lorenzo       | Mercado Histórico       | Um mercado vibrante com produtos frescos, artesanato e artigos de couro.                                                      | Muito Popular     | Experiência autêntica e compras únicas             |\n|   10 | Ponte Santa Trinita          | Ponte Histórica         | Uma elegante ponte com vistas deslumbrantes da cidade e do rio Arno.                                                          | Muito Popular     | Vistas panorâmicas e arquitetura elegante          |\n|   11 | Basílica de Santa Croce      | Basílica Franciscana    | Uma basílica gótica que abriga os túmulos de muitos artistas e figuras importantes da história italiana.                      | Excelente         | Arquitetura gótica e importância histórica         |\n|   12 | Capela dos Médici            | Capela Mausoléu         | Uma capela suntuosa que serve como mausoléu para a família Médici, com esculturas e decoração impressionantes.                | Excelente         | Arquitetura e decoração opulentas                  |\n|   13 | Piazzale Michelangelo        | Mirante Panorâmico      | Um mirante com vistas panorâmicas deslumbrantes de Florença, especialmente ao pôr do sol.                                     | Muito Popular     | Vistas panorâmicas de Florença                     |\n|   14 | Bargello Museum              | Museu de Escultura      | Um museu que abriga uma coleção impressionante de esculturas renascentistas, incluindo obras de Donatello e Michelangelo.     | Excelente         | Coleção de esculturas renascentistas               |\n|   15 | Palazzo Davanzati            | Museu Histórico         | Um palácio medieval restaurado que oferece um vislumbre da vida de uma família florentina rica no século XIV.                 | Excelente         | Vislumbre da vida florentina medieval              |"
          },
          "metadata": {}
        },
        {
          "output_type": "display_data",
          "data": {
            "text/plain": [
              "<IPython.core.display.Markdown object>"
            ],
            "text/markdown": "---"
          },
          "metadata": {}
        },
        {
          "output_type": "display_data",
          "data": {
            "text/plain": [
              "<IPython.core.display.Markdown object>"
            ],
            "text/markdown": "\n### 🌍 Agente Iniciando Pesquisa para: **Viena, Aústria**"
          },
          "metadata": {}
        },
        {
          "output_type": "display_data",
          "data": {
            "text/plain": [
              "<IPython.core.display.Markdown object>"
            ],
            "text/markdown": "🧠 *Agente consultando Gemini sobre atrações em: **Viena, Aústria** (Top 15)...*"
          },
          "metadata": {}
        },
        {
          "output_type": "display_data",
          "data": {
            "text/plain": [
              "<IPython.core.display.Markdown object>"
            ],
            "text/markdown": "✅ *Gemini retornou 15 sugestões de atrações para Viena.*"
          },
          "metadata": {}
        },
        {
          "output_type": "display_data",
          "data": {
            "text/plain": [
              "<IPython.core.display.Markdown object>"
            ],
            "text/markdown": "--- Pesquisa para **Viena, Aústria** finalizada pelo agente. ---"
          },
          "metadata": {}
        },
        {
          "output_type": "display_data",
          "data": {
            "text/plain": [
              "<IPython.core.display.Markdown object>"
            ],
            "text/markdown": "\n## 📍 Destino: **Viena, Aústria**"
          },
          "metadata": {}
        },
        {
          "output_type": "display_data",
          "data": {
            "text/plain": [
              "<IPython.core.display.Markdown object>"
            ],
            "text/markdown": "🗓️ **Período:** 2025-09-20 a 2025-09-24"
          },
          "metadata": {}
        },
        {
          "output_type": "display_data",
          "data": {
            "text/plain": [
              "<IPython.core.display.Markdown object>"
            ],
            "text/markdown": "🏨 **Hospedagem:** Hilton Vienna Park"
          },
          "metadata": {}
        },
        {
          "output_type": "display_data",
          "data": {
            "text/plain": [
              "<IPython.core.display.Markdown object>"
            ],
            "text/markdown": "#### 🔍 Links Úteis para Pesquisa Manual Detalhada (abrem em nova aba):"
          },
          "metadata": {}
        },
        {
          "output_type": "display_data",
          "data": {
            "text/plain": [
              "<IPython.core.display.Markdown object>"
            ],
            "text/markdown": "- **[Google Search: Principais atrações](https://www.google.com/search?q=principais+atra%C3%A7%C3%B5es+tur%C3%ADsticas+em+Viena+A%C3%BAstria)** "
          },
          "metadata": {}
        },
        {
          "output_type": "display_data",
          "data": {
            "text/plain": [
              "<IPython.core.display.Markdown object>"
            ],
            "text/markdown": "- **[Google Maps: Atrações na área](https://www.google.com/maps/search/atra%C3%A7%C3%B5es+tur%C3%ADsticas+em+Viena%2C+A%C3%BAstria)** "
          },
          "metadata": {}
        },
        {
          "output_type": "display_data",
          "data": {
            "text/plain": [
              "<IPython.core.display.Markdown object>"
            ],
            "text/markdown": "- **[Google Maps: Visão geral da cidade](https://www.google.com/maps/place/Viena%2C+A%C3%BAstria)** "
          },
          "metadata": {}
        },
        {
          "output_type": "display_data",
          "data": {
            "text/plain": [
              "<IPython.core.display.Markdown object>"
            ],
            "text/markdown": "#### ✨ Sugestões de Atrações Principais (via Agente Gemini):"
          },
          "metadata": {}
        },
        {
          "output_type": "display_data",
          "data": {
            "text/plain": [
              "<IPython.core.display.Markdown object>"
            ],
            "text/markdown": "|   Nº | Atração                   | Tipo Principal                 | Descrição Enxuta                                                                                                                                              | Avaliação Geral   | Destaque Principal                          |\n|-----:|:--------------------------|:-------------------------------|:--------------------------------------------------------------------------------------------------------------------------------------------------------------|:------------------|:--------------------------------------------|\n|    1 | Palácio de Hofburg        | Complexo de Palácios Imperiais | Residência de inverno dos Habsburgos por séculos, abriga museus, capelas e apartamentos estatais opulentos.                                                   | Excelente         | Arquitetura imperial e história austríaca   |\n|    2 | Palácio de Schönbrunn     | Palácio Barroco e Jardins      | Residência de verão dos Habsburgos, com exuberantes jardins, fontes e um labirinto, representando o auge do estilo barroco.                                   | Excelente         | Magnificência barroca e vastos jardins      |\n|    3 | Catedral de Santo Estêvão | Catedral Gótica                | Símbolo de Viena, com sua arquitetura gótica impressionante, torres altas e tesouros históricos.                                                              | Excelente         | Arquitetura gótica e importância histórica  |\n|    4 | Museu de História da Arte | Museu de Arte e Antiguidades   | Coleção excepcional de pinturas, esculturas e objetos de arte de diferentes épocas e culturas, incluindo obras mestras de artistas renascentistas e barrocos. | 4.5/5 estrelas    | Coleção de arte de renome mundial           |\n|    5 | Albertina                 | Museu de Arte Gráfica          | Coleção extensa de gravuras, desenhos e fotografias, incluindo obras de Dürer, Michelangelo e Picasso.                                                        | 4.5/5 estrelas    | Coleção de arte gráfica excepcional         |\n|    6 | Belvedere                 | Museu de Arte e Palácio        | Palácio barroco que abriga a maior coleção mundial de obras de Gustav Klimt, incluindo 'O Beijo'.                                                             | Excelente         | Obras-primas de Gustav Klimt                |\n|    7 | Prater                    | Parque de Diversões Histórico  | Parque de diversões icônico com a famosa Roda Gigante, oferecendo diversão e vistas panorâmicas da cidade.                                                    | Muito Popular     | Entretenimento e vistas panorâmicas         |\n|    8 | Naschmarkt                | Mercado Histórico              | Mercado vibrante e colorido com uma grande variedade de produtos frescos, especiarias e comidas internacionais.                                               | Muito Popular     | Experiência gastronômica e cultural         |\n|    9 | Casa da Música            | Centro de Música Moderna       | Centro de concertos de arquitetura moderna e inovadora, com excelente acústica e programação variada.                                                         | 4.0/5 estrelas    | Concertos e arquitetura moderna             |\n|   10 | Schlosspark Schönbrunn    | Jardim Histórico               | Os extensos e belos jardins do Palácio de Schönbrunn, com fontes, esculturas e um labirinto.                                                                  | Excelente         | Paisagismo e tranquilidade                  |\n|   11 | Roda Gigante do Prater    | Atração de Entretenimento      | Uma das rodas-gigantes mais famosas do mundo, oferecendo vistas panorâmicas de Viena.                                                                         | Muito Popular     | Vistas panorâmicas de Viena                 |\n|   12 | Danúbio                   | Rio e Passeios de Barco        | O rio Danúbio atravessa Viena, oferecendo passeios de barco e vistas cênicas da cidade.                                                                       | Muito Popular     | Passeios de barco e vistas cênicas          |\n|   13 | MuseumsQuartier           | Complexo de Museus             | Complexo de museus modernos e contemporâneos, com arquitetura impressionante e diversas exposições.                                                           | 4.0/5 estrelas    | Diversidade de museus e arquitetura moderna |\n|   14 | Stephansplatz             | Praça Histórica                | A praça principal de Viena, localizada em frente à Catedral de Santo Estêvão, com atmosfera vibrante e edifícios históricos.                                  | Muito Popular     | Atmosfera vibrante e edifícios históricos   |\n|   15 | Volksgarten               | Parque Urbano                  | Um dos parques mais bonitos de Viena, com jardins bem cuidados, monumentos e um ambiente tranquilo.                                                           | Excelente         | Tranquilidade e beleza paisagística         |"
          },
          "metadata": {}
        },
        {
          "output_type": "display_data",
          "data": {
            "text/plain": [
              "<IPython.core.display.Markdown object>"
            ],
            "text/markdown": "---"
          },
          "metadata": {}
        }
      ]
    },
    {
      "cell_type": "code",
      "metadata": {
        "colab": {
          "base_uri": "https://localhost:8080/",
          "height": 1000
        },
        "collapsed": true,
        "id": "4b422ff2",
        "outputId": "a10cb7de-0f46-484c-a86e-6d1dbed2cd5c"
      },
      "source": [
        "executar_planejador_viagem(\"/content/europa.csv\")"
      ],
      "execution_count": 3,
      "outputs": [
        {
          "output_type": "display_data",
          "data": {
            "text/plain": [
              "<IPython.core.display.Markdown object>"
            ],
            "text/markdown": "### Arquivo de Viagem (`/content/europa.csv`)"
          },
          "metadata": {}
        },
        {
          "output_type": "display_data",
          "data": {
            "text/plain": [
              "     cidade     pais data_chegada data_partida                    hospedagem\n",
              "0      Roma   Jtália   2025-09-13   2025-09-16  Via Francesco Caracciolo n.7\n",
              "1  Florença   Itália   2025-09-16   2025-09-19                  Hotel Bodoni\n",
              "2     Viena  Aústria   2025-09-20   2025-09-24            Hilton Vienna Park"
            ],
            "text/html": [
              "\n",
              "  <div id=\"df-7371d708-0df3-47e1-a589-06b18cb90025\" class=\"colab-df-container\">\n",
              "    <div>\n",
              "<style scoped>\n",
              "    .dataframe tbody tr th:only-of-type {\n",
              "        vertical-align: middle;\n",
              "    }\n",
              "\n",
              "    .dataframe tbody tr th {\n",
              "        vertical-align: top;\n",
              "    }\n",
              "\n",
              "    .dataframe thead th {\n",
              "        text-align: right;\n",
              "    }\n",
              "</style>\n",
              "<table border=\"1\" class=\"dataframe\">\n",
              "  <thead>\n",
              "    <tr style=\"text-align: right;\">\n",
              "      <th></th>\n",
              "      <th>cidade</th>\n",
              "      <th>pais</th>\n",
              "      <th>data_chegada</th>\n",
              "      <th>data_partida</th>\n",
              "      <th>hospedagem</th>\n",
              "    </tr>\n",
              "  </thead>\n",
              "  <tbody>\n",
              "    <tr>\n",
              "      <th>0</th>\n",
              "      <td>Roma</td>\n",
              "      <td>Jtália</td>\n",
              "      <td>2025-09-13</td>\n",
              "      <td>2025-09-16</td>\n",
              "      <td>Via Francesco Caracciolo n.7</td>\n",
              "    </tr>\n",
              "    <tr>\n",
              "      <th>1</th>\n",
              "      <td>Florença</td>\n",
              "      <td>Itália</td>\n",
              "      <td>2025-09-16</td>\n",
              "      <td>2025-09-19</td>\n",
              "      <td>Hotel Bodoni</td>\n",
              "    </tr>\n",
              "    <tr>\n",
              "      <th>2</th>\n",
              "      <td>Viena</td>\n",
              "      <td>Aústria</td>\n",
              "      <td>2025-09-20</td>\n",
              "      <td>2025-09-24</td>\n",
              "      <td>Hilton Vienna Park</td>\n",
              "    </tr>\n",
              "  </tbody>\n",
              "</table>\n",
              "</div>\n",
              "    <div class=\"colab-df-buttons\">\n",
              "\n",
              "  <div class=\"colab-df-container\">\n",
              "    <button class=\"colab-df-convert\" onclick=\"convertToInteractive('df-7371d708-0df3-47e1-a589-06b18cb90025')\"\n",
              "            title=\"Convert this dataframe to an interactive table.\"\n",
              "            style=\"display:none;\">\n",
              "\n",
              "  <svg xmlns=\"http://www.w3.org/2000/svg\" height=\"24px\" viewBox=\"0 -960 960 960\">\n",
              "    <path d=\"M120-120v-720h720v720H120Zm60-500h600v-160H180v160Zm220 220h160v-160H400v160Zm0 220h160v-160H400v160ZM180-400h160v-160H180v160Zm440 0h160v-160H620v160ZM180-180h160v-160H180v160Zm440 0h160v-160H620v160Z\"/>\n",
              "  </svg>\n",
              "    </button>\n",
              "\n",
              "  <style>\n",
              "    .colab-df-container {\n",
              "      display:flex;\n",
              "      gap: 12px;\n",
              "    }\n",
              "\n",
              "    .colab-df-convert {\n",
              "      background-color: #E8F0FE;\n",
              "      border: none;\n",
              "      border-radius: 50%;\n",
              "      cursor: pointer;\n",
              "      display: none;\n",
              "      fill: #1967D2;\n",
              "      height: 32px;\n",
              "      padding: 0 0 0 0;\n",
              "      width: 32px;\n",
              "    }\n",
              "\n",
              "    .colab-df-convert:hover {\n",
              "      background-color: #E2EBFA;\n",
              "      box-shadow: 0px 1px 2px rgba(60, 64, 67, 0.3), 0px 1px 3px 1px rgba(60, 64, 67, 0.15);\n",
              "      fill: #174EA6;\n",
              "    }\n",
              "\n",
              "    .colab-df-buttons div {\n",
              "      margin-bottom: 4px;\n",
              "    }\n",
              "\n",
              "    [theme=dark] .colab-df-convert {\n",
              "      background-color: #3B4455;\n",
              "      fill: #D2E3FC;\n",
              "    }\n",
              "\n",
              "    [theme=dark] .colab-df-convert:hover {\n",
              "      background-color: #434B5C;\n",
              "      box-shadow: 0px 1px 3px 1px rgba(0, 0, 0, 0.15);\n",
              "      filter: drop-shadow(0px 1px 2px rgba(0, 0, 0, 0.3));\n",
              "      fill: #FFFFFF;\n",
              "    }\n",
              "  </style>\n",
              "\n",
              "    <script>\n",
              "      const buttonEl =\n",
              "        document.querySelector('#df-7371d708-0df3-47e1-a589-06b18cb90025 button.colab-df-convert');\n",
              "      buttonEl.style.display =\n",
              "        google.colab.kernel.accessAllowed ? 'block' : 'none';\n",
              "\n",
              "      async function convertToInteractive(key) {\n",
              "        const element = document.querySelector('#df-7371d708-0df3-47e1-a589-06b18cb90025');\n",
              "        const dataTable =\n",
              "          await google.colab.kernel.invokeFunction('convertToInteractive',\n",
              "                                                    [key], {});\n",
              "        if (!dataTable) return;\n",
              "\n",
              "        const docLinkHtml = 'Like what you see? Visit the ' +\n",
              "          '<a target=\"_blank\" href=https://colab.research.google.com/notebooks/data_table.ipynb>data table notebook</a>'\n",
              "          + ' to learn more about interactive tables.';\n",
              "        element.innerHTML = '';\n",
              "        dataTable['output_type'] = 'display_data';\n",
              "        await google.colab.output.renderOutput(dataTable, element);\n",
              "        const docLink = document.createElement('div');\n",
              "        docLink.innerHTML = docLinkHtml;\n",
              "        element.appendChild(docLink);\n",
              "      }\n",
              "    </script>\n",
              "  </div>\n",
              "\n",
              "\n",
              "    <div id=\"df-e4f667ec-0543-4a58-bbaa-4bebfa7ffd4b\">\n",
              "      <button class=\"colab-df-quickchart\" onclick=\"quickchart('df-e4f667ec-0543-4a58-bbaa-4bebfa7ffd4b')\"\n",
              "                title=\"Suggest charts\"\n",
              "                style=\"display:none;\">\n",
              "\n",
              "<svg xmlns=\"http://www.w3.org/2000/svg\" height=\"24px\"viewBox=\"0 0 24 24\"\n",
              "     width=\"24px\">\n",
              "    <g>\n",
              "        <path d=\"M19 3H5c-1.1 0-2 .9-2 2v14c0 1.1.9 2 2 2h14c1.1 0 2-.9 2-2V5c0-1.1-.9-2-2-2zM9 17H7v-7h2v7zm4 0h-2V7h2v10zm4 0h-2v-4h2v4z\"/>\n",
              "    </g>\n",
              "</svg>\n",
              "      </button>\n",
              "\n",
              "<style>\n",
              "  .colab-df-quickchart {\n",
              "      --bg-color: #E8F0FE;\n",
              "      --fill-color: #1967D2;\n",
              "      --hover-bg-color: #E2EBFA;\n",
              "      --hover-fill-color: #174EA6;\n",
              "      --disabled-fill-color: #AAA;\n",
              "      --disabled-bg-color: #DDD;\n",
              "  }\n",
              "\n",
              "  [theme=dark] .colab-df-quickchart {\n",
              "      --bg-color: #3B4455;\n",
              "      --fill-color: #D2E3FC;\n",
              "      --hover-bg-color: #434B5C;\n",
              "      --hover-fill-color: #FFFFFF;\n",
              "      --disabled-bg-color: #3B4455;\n",
              "      --disabled-fill-color: #666;\n",
              "  }\n",
              "\n",
              "  .colab-df-quickchart {\n",
              "    background-color: var(--bg-color);\n",
              "    border: none;\n",
              "    border-radius: 50%;\n",
              "    cursor: pointer;\n",
              "    display: none;\n",
              "    fill: var(--fill-color);\n",
              "    height: 32px;\n",
              "    padding: 0;\n",
              "    width: 32px;\n",
              "  }\n",
              "\n",
              "  .colab-df-quickchart:hover {\n",
              "    background-color: var(--hover-bg-color);\n",
              "    box-shadow: 0 1px 2px rgba(60, 64, 67, 0.3), 0 1px 3px 1px rgba(60, 64, 67, 0.15);\n",
              "    fill: var(--button-hover-fill-color);\n",
              "  }\n",
              "\n",
              "  .colab-df-quickchart-complete:disabled,\n",
              "  .colab-df-quickchart-complete:disabled:hover {\n",
              "    background-color: var(--disabled-bg-color);\n",
              "    fill: var(--disabled-fill-color);\n",
              "    box-shadow: none;\n",
              "  }\n",
              "\n",
              "  .colab-df-spinner {\n",
              "    border: 2px solid var(--fill-color);\n",
              "    border-color: transparent;\n",
              "    border-bottom-color: var(--fill-color);\n",
              "    animation:\n",
              "      spin 1s steps(1) infinite;\n",
              "  }\n",
              "\n",
              "  @keyframes spin {\n",
              "    0% {\n",
              "      border-color: transparent;\n",
              "      border-bottom-color: var(--fill-color);\n",
              "      border-left-color: var(--fill-color);\n",
              "    }\n",
              "    20% {\n",
              "      border-color: transparent;\n",
              "      border-left-color: var(--fill-color);\n",
              "      border-top-color: var(--fill-color);\n",
              "    }\n",
              "    30% {\n",
              "      border-color: transparent;\n",
              "      border-left-color: var(--fill-color);\n",
              "      border-top-color: var(--fill-color);\n",
              "      border-right-color: var(--fill-color);\n",
              "    }\n",
              "    40% {\n",
              "      border-color: transparent;\n",
              "      border-right-color: var(--fill-color);\n",
              "      border-top-color: var(--fill-color);\n",
              "    }\n",
              "    60% {\n",
              "      border-color: transparent;\n",
              "      border-right-color: var(--fill-color);\n",
              "    }\n",
              "    80% {\n",
              "      border-color: transparent;\n",
              "      border-right-color: var(--fill-color);\n",
              "      border-bottom-color: var(--fill-color);\n",
              "    }\n",
              "    90% {\n",
              "      border-color: transparent;\n",
              "      border-bottom-color: var(--fill-color);\n",
              "    }\n",
              "  }\n",
              "</style>\n",
              "\n",
              "      <script>\n",
              "        async function quickchart(key) {\n",
              "          const quickchartButtonEl =\n",
              "            document.querySelector('#' + key + ' button');\n",
              "          quickchartButtonEl.disabled = true;  // To prevent multiple clicks.\n",
              "          quickchartButtonEl.classList.add('colab-df-spinner');\n",
              "          try {\n",
              "            const charts = await google.colab.kernel.invokeFunction(\n",
              "                'suggestCharts', [key], {});\n",
              "          } catch (error) {\n",
              "            console.error('Error during call to suggestCharts:', error);\n",
              "          }\n",
              "          quickchartButtonEl.classList.remove('colab-df-spinner');\n",
              "          quickchartButtonEl.classList.add('colab-df-quickchart-complete');\n",
              "        }\n",
              "        (() => {\n",
              "          let quickchartButtonEl =\n",
              "            document.querySelector('#df-e4f667ec-0543-4a58-bbaa-4bebfa7ffd4b button');\n",
              "          quickchartButtonEl.style.display =\n",
              "            google.colab.kernel.accessAllowed ? 'block' : 'none';\n",
              "        })();\n",
              "      </script>\n",
              "    </div>\n",
              "\n",
              "    </div>\n",
              "  </div>\n"
            ],
            "application/vnd.google.colaboratory.intrinsic+json": {
              "type": "dataframe",
              "summary": "{\n  \"name\": \"executar_planejador_viagem(\\\"/content/europa\",\n  \"rows\": 3,\n  \"fields\": [\n    {\n      \"column\": \"cidade\",\n      \"properties\": {\n        \"dtype\": \"string\",\n        \"num_unique_values\": 3,\n        \"samples\": [\n          \"Roma\",\n          \"Floren\\u00e7a\",\n          \"Viena\"\n        ],\n        \"semantic_type\": \"\",\n        \"description\": \"\"\n      }\n    },\n    {\n      \"column\": \"pais\",\n      \"properties\": {\n        \"dtype\": \"string\",\n        \"num_unique_values\": 3,\n        \"samples\": [\n          \"Jt\\u00e1lia\",\n          \"It\\u00e1lia\",\n          \"A\\u00fastria\"\n        ],\n        \"semantic_type\": \"\",\n        \"description\": \"\"\n      }\n    },\n    {\n      \"column\": \"data_chegada\",\n      \"properties\": {\n        \"dtype\": \"object\",\n        \"num_unique_values\": 3,\n        \"samples\": [\n          \"2025-09-13\",\n          \"2025-09-16\",\n          \"2025-09-20\"\n        ],\n        \"semantic_type\": \"\",\n        \"description\": \"\"\n      }\n    },\n    {\n      \"column\": \"data_partida\",\n      \"properties\": {\n        \"dtype\": \"object\",\n        \"num_unique_values\": 3,\n        \"samples\": [\n          \"2025-09-16\",\n          \"2025-09-19\",\n          \"2025-09-24\"\n        ],\n        \"semantic_type\": \"\",\n        \"description\": \"\"\n      }\n    },\n    {\n      \"column\": \"hospedagem\",\n      \"properties\": {\n        \"dtype\": \"string\",\n        \"num_unique_values\": 3,\n        \"samples\": [\n          \"Via Francesco Caracciolo n.7\",\n          \"Hotel Bodoni\",\n          \"Hilton Vienna Park\"\n        ],\n        \"semantic_type\": \"\",\n        \"description\": \"\"\n      }\n    }\n  ]\n}"
            }
          },
          "metadata": {}
        },
        {
          "output_type": "display_data",
          "data": {
            "text/plain": [
              "<IPython.core.display.Markdown object>"
            ],
            "text/markdown": "\n# 🗺️ **Relatório de Pesquisa de Atrações do Agente** ✈️"
          },
          "metadata": {}
        },
        {
          "output_type": "display_data",
          "data": {
            "text/plain": [
              "<IPython.core.display.Markdown object>"
            ],
            "text/markdown": "\n### 🌍 Agente Iniciando Pesquisa para: **Roma, Jtália**"
          },
          "metadata": {}
        },
        {
          "output_type": "display_data",
          "data": {
            "text/plain": [
              "<IPython.core.display.Markdown object>"
            ],
            "text/markdown": "🧠 *Agente consultando Gemini sobre atrações em: **Roma, Jtália** (Top 15)...*"
          },
          "metadata": {}
        },
        {
          "output_type": "display_data",
          "data": {
            "text/plain": [
              "<IPython.core.display.Markdown object>"
            ],
            "text/markdown": "✅ *Gemini retornou 15 sugestões de atrações para Roma.*"
          },
          "metadata": {}
        },
        {
          "output_type": "display_data",
          "data": {
            "text/plain": [
              "<IPython.core.display.Markdown object>"
            ],
            "text/markdown": "--- Pesquisa para **Roma, Jtália** finalizada pelo agente. ---"
          },
          "metadata": {}
        },
        {
          "output_type": "display_data",
          "data": {
            "text/plain": [
              "<IPython.core.display.Markdown object>"
            ],
            "text/markdown": "\n## 📍 Destino: **Roma, Jtália**"
          },
          "metadata": {}
        },
        {
          "output_type": "display_data",
          "data": {
            "text/plain": [
              "<IPython.core.display.Markdown object>"
            ],
            "text/markdown": "🗓️ **Período:** 2025-09-13 a 2025-09-16"
          },
          "metadata": {}
        },
        {
          "output_type": "display_data",
          "data": {
            "text/plain": [
              "<IPython.core.display.Markdown object>"
            ],
            "text/markdown": "🏨 **Hospedagem:** Via Francesco Caracciolo n.7"
          },
          "metadata": {}
        },
        {
          "output_type": "display_data",
          "data": {
            "text/plain": [
              "<IPython.core.display.Markdown object>"
            ],
            "text/markdown": "#### 🔍 Links Úteis para Pesquisa Manual Detalhada (abrem em nova aba):"
          },
          "metadata": {}
        },
        {
          "output_type": "display_data",
          "data": {
            "text/plain": [
              "<IPython.core.display.Markdown object>"
            ],
            "text/markdown": "- **[Google Search: Principais atrações](https://www.google.com/search?q=principais+atra%C3%A7%C3%B5es+tur%C3%ADsticas+em+Roma+Jt%C3%A1lia)** "
          },
          "metadata": {}
        },
        {
          "output_type": "display_data",
          "data": {
            "text/plain": [
              "<IPython.core.display.Markdown object>"
            ],
            "text/markdown": "- **[Google Maps: Atrações na área](https://www.google.com/maps/search/atra%C3%A7%C3%B5es+tur%C3%ADsticas+em+Roma%2C+Jt%C3%A1lia)** "
          },
          "metadata": {}
        },
        {
          "output_type": "display_data",
          "data": {
            "text/plain": [
              "<IPython.core.display.Markdown object>"
            ],
            "text/markdown": "- **[Google Maps: Visão geral da cidade](https://www.google.com/maps/place/Roma%2C+Jt%C3%A1lia)** "
          },
          "metadata": {}
        },
        {
          "output_type": "display_data",
          "data": {
            "text/plain": [
              "<IPython.core.display.Markdown object>"
            ],
            "text/markdown": "#### ✨ Sugestões de Atrações Principais (via Agente Gemini):"
          },
          "metadata": {}
        },
        {
          "output_type": "display_data",
          "data": {
            "text/plain": [
              "<IPython.core.display.Markdown object>"
            ],
            "text/markdown": "|   Nº | Atração                             | Tipo Principal                 | Descrição Enxuta                                                                                                                               | Avaliação Geral   | Destaque Principal                                  |\n|-----:|:------------------------------------|:-------------------------------|:-----------------------------------------------------------------------------------------------------------------------------------------------|:------------------|:----------------------------------------------------|\n|    1 | Coliseu                             | Monumento Nacional             | Anfiteatro icônico do Império Romano, palco de espetáculos gladiatórios e eventos públicos. Símbolo de Roma.                                   | Excelente         | Arquitetura impressionante e história fascinante    |\n|    2 | Fórum Romano                        | Sítio Arqueológico             | Ruínas do centro cívico e político da antiga Roma, com templos, basílicas e edifícios públicos. Testemunho da história romana.                 | Muito Popular     | Viagem ao passado da civilização romana             |\n|    3 | Palácio do Vaticano                 | Complexo Religioso e Histórico | Sede do Papa, incluindo a Basílica de São Pedro, a Capela Sistina e os Museus Vaticanos, com obras-primas de Michelangelo e Rafael.            | Excelente         | Arte renascentista e arquitetura religiosa          |\n|    4 | Basílica de São Pedro               | Catedral Católica              | Basílica monumental no Vaticano, com uma cúpula imponente e obras de arte de inigualável valor. Centro da Igreja Católica.                     | Excelente         | Magnificência arquitetônica e importância religiosa |\n|    5 | Capela Sistina                      | Capela Papal                   | Capela dentro do Palácio do Vaticano, famosa pelos afrescos de Michelangelo no teto e no altar, incluindo o Juízo Final.                       | Excelente         | Afrescos de Michelangelo                            |\n|    6 | Museus Vaticanos                    | Museu de Arte e Antiguidades   | Coleção de museus dentro do Palácio do Vaticano, com uma vasta coleção de arte e artefatos de diversas épocas e culturas.                      | Excelente         | Coleção de arte e artefatos de renome mundial       |\n|    7 | Fontana di Trevi                    | Fonte Monumental               | Fonte barroca exuberante, uma das mais famosas do mundo, com esculturas e um design impressionante.                                            | Muito Popular     | Beleza arquitetônica e atmosfera romântica          |\n|    8 | Pantheon                            | Templo Romano                  | Templo romano bem preservado, com uma cúpula impressionante e um óculo que permite a entrada de luz natural.                                   | Excelente         | Arquitetura e engenharia romana excepcionais        |\n|    9 | Piazza Navona                       | Praça Histórica                | Praça barroca vibrante com fontes, igrejas e artistas de rua, um local popular para passear e apreciar a atmosfera romana.                     | Muito Popular     | Atmosfera animada e beleza arquitetônica            |\n|   10 | Espaço de Trastevere                | Bairro Histórico               | Bairro charmoso e pitoresco com ruas de paralelepípedos, restaurantes tradicionais e uma atmosfera autêntica.                                  | Muito Popular     | Atmosfera autêntica e ambiente romântico            |\n|   11 | Jardins Borghese e Galeria Borghese | Museu de Arte e Jardim         | Belos jardins com esculturas e a Galeria Borghese, um museu que abriga obras-primas de Bernini, Caravaggio e outros mestres.                   | Excelente         | Coleção de arte e paisagismo deslumbrante           |\n|   12 | Campo de' Fiori                     | Mercado Histórico              | Mercado ao ar livre vibrante e histórico, com produtos frescos, flores e uma atmosfera animada.                                                | Muito Popular     | Experiência autêntica de mercado romano             |\n|   13 | Escadaria Espanhola                 | Escadaria Monumental           | Grande escadaria barroca que conecta a Piazza di Spagna à Igreja da Trindade dos Montes, um ponto de encontro popular.                         | Muito Popular     | Local icônico e ponto de encontro                   |\n|   14 | Janículo                            | Mirante Panorâmico             | Colina que oferece vistas panorâmicas deslumbrantes de Roma, incluindo a Basílica de São Pedro e o centro histórico.                           | Excelente         | Vistas panorâmicas de Roma                          |\n|   15 | Catacombas Romanas                  | Sítio Arqueológico e Religioso | Rede subterrânea de túneis e galerias usadas como cemitérios pelos primeiros cristãos, oferecendo um vislumbre da história antiga e religiosa. | Muito Popular     | Experiência histórica e espiritual única            |"
          },
          "metadata": {}
        },
        {
          "output_type": "display_data",
          "data": {
            "text/plain": [
              "<IPython.core.display.Markdown object>"
            ],
            "text/markdown": "---"
          },
          "metadata": {}
        },
        {
          "output_type": "display_data",
          "data": {
            "text/plain": [
              "<IPython.core.display.Markdown object>"
            ],
            "text/markdown": "\n### 🌍 Agente Iniciando Pesquisa para: **Florença, Itália**"
          },
          "metadata": {}
        },
        {
          "output_type": "display_data",
          "data": {
            "text/plain": [
              "<IPython.core.display.Markdown object>"
            ],
            "text/markdown": "🧠 *Agente consultando Gemini sobre atrações em: **Florença, Itália** (Top 15)...*"
          },
          "metadata": {}
        },
        {
          "output_type": "display_data",
          "data": {
            "text/plain": [
              "<IPython.core.display.Markdown object>"
            ],
            "text/markdown": "✅ *Gemini retornou 15 sugestões de atrações para Florença.*"
          },
          "metadata": {}
        },
        {
          "output_type": "display_data",
          "data": {
            "text/plain": [
              "<IPython.core.display.Markdown object>"
            ],
            "text/markdown": "--- Pesquisa para **Florença, Itália** finalizada pelo agente. ---"
          },
          "metadata": {}
        },
        {
          "output_type": "display_data",
          "data": {
            "text/plain": [
              "<IPython.core.display.Markdown object>"
            ],
            "text/markdown": "\n## 📍 Destino: **Florença, Itália**"
          },
          "metadata": {}
        },
        {
          "output_type": "display_data",
          "data": {
            "text/plain": [
              "<IPython.core.display.Markdown object>"
            ],
            "text/markdown": "🗓️ **Período:** 2025-09-16 a 2025-09-19"
          },
          "metadata": {}
        },
        {
          "output_type": "display_data",
          "data": {
            "text/plain": [
              "<IPython.core.display.Markdown object>"
            ],
            "text/markdown": "🏨 **Hospedagem:** Hotel Bodoni"
          },
          "metadata": {}
        },
        {
          "output_type": "display_data",
          "data": {
            "text/plain": [
              "<IPython.core.display.Markdown object>"
            ],
            "text/markdown": "#### 🔍 Links Úteis para Pesquisa Manual Detalhada (abrem em nova aba):"
          },
          "metadata": {}
        },
        {
          "output_type": "display_data",
          "data": {
            "text/plain": [
              "<IPython.core.display.Markdown object>"
            ],
            "text/markdown": "- **[Google Search: Principais atrações](https://www.google.com/search?q=principais+atra%C3%A7%C3%B5es+tur%C3%ADsticas+em+Floren%C3%A7a+It%C3%A1lia)** "
          },
          "metadata": {}
        },
        {
          "output_type": "display_data",
          "data": {
            "text/plain": [
              "<IPython.core.display.Markdown object>"
            ],
            "text/markdown": "- **[Google Maps: Atrações na área](https://www.google.com/maps/search/atra%C3%A7%C3%B5es+tur%C3%ADsticas+em+Floren%C3%A7a%2C+It%C3%A1lia)** "
          },
          "metadata": {}
        },
        {
          "output_type": "display_data",
          "data": {
            "text/plain": [
              "<IPython.core.display.Markdown object>"
            ],
            "text/markdown": "- **[Google Maps: Visão geral da cidade](https://www.google.com/maps/place/Floren%C3%A7a%2C+It%C3%A1lia)** "
          },
          "metadata": {}
        },
        {
          "output_type": "display_data",
          "data": {
            "text/plain": [
              "<IPython.core.display.Markdown object>"
            ],
            "text/markdown": "#### ✨ Sugestões de Atrações Principais (via Agente Gemini):"
          },
          "metadata": {}
        },
        {
          "output_type": "display_data",
          "data": {
            "text/plain": [
              "<IPython.core.display.Markdown object>"
            ],
            "text/markdown": "|   Nº | Atração                      | Tipo Principal          | Descrição Enxuta                                                                                                                   | Avaliação Geral   | Destaque Principal                                          |\n|-----:|:-----------------------------|:------------------------|:-----------------------------------------------------------------------------------------------------------------------------------|:------------------|:------------------------------------------------------------|\n|    1 | Galeria da Academia          | Museu de Arte           | Abriga a maior coleção de obras de Michelangelo, incluindo o David e as pinturas da Capela Sistina.                                | Excelente         | Coleção de obras-primas de Michelangelo                     |\n|    2 | Catedral de Florença (Duomo) | Catedral Gótica         | Uma das maiores catedrais góticas do mundo, com a famosa cúpula de Brunelleschi e o campanário de Giotto.                          | Excelente         | Arquitetura gótica impressionante e vistas panorâmicas      |\n|    3 | Ponte Vecchio                | Ponte Histórica         | Uma ponte medieval única, com lojas construídas ao longo dela, oferecendo uma vista encantadora do rio Arno.                       | Muito Popular     | Arquitetura única e vistas pitorescas                       |\n|    4 | Palazzo Pitti                | Palácio Histórico       | Um enorme palácio renascentista que abriga cinco museus, incluindo a Galeria de Arte Moderna e o Museu do Figurino e da Moda.      | Excelente         | Arquitetura renascentista e coleções de arte diversificadas |\n|    5 | Uffizi Gallery               | Museu de Arte           | Um dos museus de arte mais importantes do mundo, com uma vasta coleção de pinturas renascentistas italianas.                       | Excelente         | Coleção de arte renascentista incomparável                  |\n|    6 | Piazza della Signoria        | Praça Pública Histórica | Uma praça central histórica, cercada por edifícios importantes, esculturas e fontes, incluindo uma cópia do David de Michelangelo. | Muito Popular     | Atmosfera vibrante e arquitetura histórica                  |\n|    7 | Palazzo Vecchio              | Palácio Histórico       | O antigo palácio do governo de Florença, com interiores ricamente decorados e uma história fascinante.                             | Excelente         | História e arte renascentistas                              |\n|    8 | Boboli Gardens               | Jardim Histórico        | Um dos primeiros e mais importantes jardins italianos, com fontes, esculturas e paisagismo impressionante.                         | Excelente         | Paisagismo e arquitetura de jardim renascentistas           |\n|    9 | Mercado de San Lorenzo       | Mercado Histórico       | Um mercado vibrante e movimentado, com barracas de couro, artesanato e comida local.                                               | Muito Popular     | Experiência autêntica da vida florentina                    |\n|   10 | Ponte Santa Trinita          | Ponte Histórica         | Uma elegante ponte de três arcos sobre o rio Arno, com vistas deslumbrantes.                                                       | Muito Popular     | Vistas panorâmicas e arquitetura elegante                   |\n|   11 | Basílica de Santa Croce      | Basílica Franciscana    | Uma basílica gótica que abriga os túmulos de muitos artistas e pensadores italianos importantes.                                   | Excelente         | Arquitetura gótica e importância histórica                  |\n|   12 | Bargello Museum              | Museu de Escultura      | Um museu que abriga uma coleção excepcional de esculturas renascentistas italianas, incluindo obras de Donatello e Michelangelo.   | Excelente         | Coleção de esculturas renascentistas                        |\n|   13 | Piazzale Michelangelo        | Mirante Panorâmico      | Um mirante com vistas panorâmicas deslumbrantes de Florença, especialmente ao pôr do sol.                                          | Muito Popular     | Vistas panorâmicas de Florença                              |\n|   14 | Medici Chapels               | Complexo de Mausoléus   | Um complexo de capelas que abriga os túmulos da família Medici, com decoração exuberante e arquitetura impressionante.             | Excelente         | Arquitetura e arte funerária impressionantes                |\n|   15 | Palazzo Davanzati            | Museu Histórico         | Um palácio medieval bem preservado que oferece um vislumbre da vida cotidiana de uma rica família florentina no século XIV.        | Excelente         | Vislumbre da vida florentina medieval                       |"
          },
          "metadata": {}
        },
        {
          "output_type": "display_data",
          "data": {
            "text/plain": [
              "<IPython.core.display.Markdown object>"
            ],
            "text/markdown": "---"
          },
          "metadata": {}
        },
        {
          "output_type": "display_data",
          "data": {
            "text/plain": [
              "<IPython.core.display.Markdown object>"
            ],
            "text/markdown": "\n### 🌍 Agente Iniciando Pesquisa para: **Viena, Aústria**"
          },
          "metadata": {}
        },
        {
          "output_type": "display_data",
          "data": {
            "text/plain": [
              "<IPython.core.display.Markdown object>"
            ],
            "text/markdown": "🧠 *Agente consultando Gemini sobre atrações em: **Viena, Aústria** (Top 15)...*"
          },
          "metadata": {}
        },
        {
          "output_type": "display_data",
          "data": {
            "text/plain": [
              "<IPython.core.display.Markdown object>"
            ],
            "text/markdown": "✅ *Gemini retornou 15 sugestões de atrações para Viena.*"
          },
          "metadata": {}
        },
        {
          "output_type": "display_data",
          "data": {
            "text/plain": [
              "<IPython.core.display.Markdown object>"
            ],
            "text/markdown": "--- Pesquisa para **Viena, Aústria** finalizada pelo agente. ---"
          },
          "metadata": {}
        },
        {
          "output_type": "display_data",
          "data": {
            "text/plain": [
              "<IPython.core.display.Markdown object>"
            ],
            "text/markdown": "\n## 📍 Destino: **Viena, Aústria**"
          },
          "metadata": {}
        },
        {
          "output_type": "display_data",
          "data": {
            "text/plain": [
              "<IPython.core.display.Markdown object>"
            ],
            "text/markdown": "🗓️ **Período:** 2025-09-20 a 2025-09-24"
          },
          "metadata": {}
        },
        {
          "output_type": "display_data",
          "data": {
            "text/plain": [
              "<IPython.core.display.Markdown object>"
            ],
            "text/markdown": "🏨 **Hospedagem:** Hilton Vienna Park"
          },
          "metadata": {}
        },
        {
          "output_type": "display_data",
          "data": {
            "text/plain": [
              "<IPython.core.display.Markdown object>"
            ],
            "text/markdown": "#### 🔍 Links Úteis para Pesquisa Manual Detalhada (abrem em nova aba):"
          },
          "metadata": {}
        },
        {
          "output_type": "display_data",
          "data": {
            "text/plain": [
              "<IPython.core.display.Markdown object>"
            ],
            "text/markdown": "- **[Google Search: Principais atrações](https://www.google.com/search?q=principais+atra%C3%A7%C3%B5es+tur%C3%ADsticas+em+Viena+A%C3%BAstria)** "
          },
          "metadata": {}
        },
        {
          "output_type": "display_data",
          "data": {
            "text/plain": [
              "<IPython.core.display.Markdown object>"
            ],
            "text/markdown": "- **[Google Maps: Atrações na área](https://www.google.com/maps/search/atra%C3%A7%C3%B5es+tur%C3%ADsticas+em+Viena%2C+A%C3%BAstria)** "
          },
          "metadata": {}
        },
        {
          "output_type": "display_data",
          "data": {
            "text/plain": [
              "<IPython.core.display.Markdown object>"
            ],
            "text/markdown": "- **[Google Maps: Visão geral da cidade](https://www.google.com/maps/place/Viena%2C+A%C3%BAstria)** "
          },
          "metadata": {}
        },
        {
          "output_type": "display_data",
          "data": {
            "text/plain": [
              "<IPython.core.display.Markdown object>"
            ],
            "text/markdown": "#### ✨ Sugestões de Atrações Principais (via Agente Gemini):"
          },
          "metadata": {}
        },
        {
          "output_type": "display_data",
          "data": {
            "text/plain": [
              "<IPython.core.display.Markdown object>"
            ],
            "text/markdown": "|   Nº | Atração                          | Tipo Principal                 | Descrição Enxuta                                                                                                                   | Avaliação Geral   | Destaque Principal                                |\n|-----:|:---------------------------------|:-------------------------------|:-----------------------------------------------------------------------------------------------------------------------------------|:------------------|:--------------------------------------------------|\n|    1 | Palácio de Schönbrunn            | Palácio Histórico e Jardins    | Residência de verão dos Habsburgos, com exuberantes jardins, fontes e museus, oferecendo um vislumbre da vida imperial.            | Excelente         | Magnificência arquitetônica e paisagística        |\n|    2 | Hofburg                          | Complexo de Palácios           | Antiga residência de inverno dos Habsburgos, abrigando museus, capelas e apartamentos imperiais, mostrando a história austríaca.   | Muito Popular     | História imperial e arquitetura grandiosa         |\n|    3 | Catedral de São Estêvão          | Catedral Gótica                | Símbolo de Viena, com sua arquitetura gótica impressionante, tesouros religiosos e vistas panorâmicas do topo da torre sul.        | Excelente         | Arquitetura gótica e importância histórica        |\n|    4 | Museu de História da Arte        | Museu de Arte                  | Coleção impressionante de pinturas, esculturas e objetos de arte, abrangendo desde a antiguidade até o século XVIII.               | 4.5/5 estrelas    | Coleção abrangente de obras-primas                |\n|    5 | Belvedere                        | Museu de Arte e Palácio        | Palácio barroco com dois edifícios, abrigando a maior coleção de obras de Gustav Klimt, incluindo 'O Beijo'.                       | Excelente         | Obras-primas de Gustav Klimt                      |\n|    6 | Prater                           | Parque de Diversões            | Parque de diversões icônico, lar da famosa roda-gigante Wiener Riesenrad, oferecendo entretenimento e vistas deslumbrantes.        | Muito Popular     | Entretenimento e vistas panorâmicas               |\n|    7 | Naschmarkt                       | Mercado Histórico              | Um dos maiores e mais antigos mercados ao ar livre da Europa, oferecendo uma variedade de produtos frescos, especiarias e comidas. | 4.0/5 estrelas    | Experiência gastronômica e cultural vibrante      |\n|    8 | Casa da Música                   | Centro de Música e Arquitetura | Centro de concertos moderno com arquitetura inovadora, oferecendo uma variedade de concertos e eventos musicais.                   | 4.5/5 estrelas    | Arquitetura moderna e concertos de alta qualidade |\n|    9 | Palácio do Belvedere Inferior    | Palácio Barroco e Museu        | Palácio barroco que abriga uma coleção de arte austríaca, incluindo obras de Gustav Klimt e Egon Schiele.                          | Excelente         | Arte austríaca e arquitetura barroca              |\n|   10 | Roda Gigante Wiener Riesenrad    | Atração Turística e Mirante    | Roda gigante icônica no Prater, oferecendo vistas panorâmicas de Viena e uma experiência nostálgica.                               | Muito Popular     | Vistas panorâmicas de Viena                       |\n|   11 | Espaço de Arte Leopold           | Museu de Arte Moderna          | Museu dedicado à arte austríaca do século XX, com uma coleção impressionante de obras expressionistas e modernistas.               | 4.5/5 estrelas    | Arte moderna austríaca                            |\n|   12 | Jardins do Palácio de Schönbrunn | Jardim Histórico               | Extensos jardins barrocos com fontes, esculturas, e um labirinto, oferecendo um ambiente tranquilo e paisagístico.                 | Excelente         | Paisagismo barroco e ambiente sereno              |\n|   13 | Stephansplatz                    | Praça Histórica                | Praça central de Viena, localizada em frente à Catedral de São Estêvão, com atmosfera vibrante e edifícios históricos.             | Muito Popular     | Atmosfera vibrante e localização central          |\n|   14 | Museu Albertina                  | Museu de Arte Gráfica          | Coleção extensa de gravuras, desenhos e fotografias, incluindo obras de artistas renomados como Michelangelo e Picasso.            | 4.5/5 estrelas    | Coleção abrangente de arte gráfica                |\n|   15 | Danúbio                          | Rio e Paisagem Urbana          | Rio que atravessa Viena, oferecendo passeios de barco, vistas cênicas e oportunidades para relaxamento ao ar livre.                | N/A               | Vistas cênicas e atividades ao ar livre           |"
          },
          "metadata": {}
        },
        {
          "output_type": "display_data",
          "data": {
            "text/plain": [
              "<IPython.core.display.Markdown object>"
            ],
            "text/markdown": "---"
          },
          "metadata": {}
        }
      ]
    }
  ]
}