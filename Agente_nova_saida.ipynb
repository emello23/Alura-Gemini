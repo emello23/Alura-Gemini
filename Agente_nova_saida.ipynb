{
  "nbformat": 4,
  "nbformat_minor": 0,
  "metadata": {
    "colab": {
      "provenance": [],
      "include_colab_link": true
    },
    "kernelspec": {
      "name": "python3",
      "display_name": "Python 3"
    },
    "language_info": {
      "name": "python"
    }
  },
  "cells": [
    {
      "cell_type": "markdown",
      "metadata": {
        "id": "view-in-github",
        "colab_type": "text"
      },
      "source": [
        "<a href=\"https://colab.research.google.com/github/emello23/Alura-Gemini/blob/main/Agente_nova_saida.ipynb\" target=\"_parent\"><img src=\"https://colab.research.google.com/assets/colab-badge.svg\" alt=\"Open In Colab\"/></a>"
      ]
    },
    {
      "cell_type": "code",
      "execution_count": 12,
      "metadata": {
        "id": "BtTC3gLfzG9R",
        "colab": {
          "base_uri": "https://localhost:8080/"
        },
        "outputId": "19b67771-6756-4cb9-c0fa-9ac832569293"
      },
      "outputs": [
        {
          "output_type": "stream",
          "name": "stdout",
          "text": [
            "Requirement already satisfied: pandas in /usr/local/lib/python3.11/dist-packages (2.2.2)\n",
            "Requirement already satisfied: google-api-python-client in /usr/local/lib/python3.11/dist-packages (2.172.0)\n",
            "Requirement already satisfied: google-generativeai in /usr/local/lib/python3.11/dist-packages (0.8.5)\n",
            "Requirement already satisfied: numpy>=1.23.2 in /usr/local/lib/python3.11/dist-packages (from pandas) (2.0.2)\n",
            "Requirement already satisfied: python-dateutil>=2.8.2 in /usr/local/lib/python3.11/dist-packages (from pandas) (2.9.0.post0)\n",
            "Requirement already satisfied: pytz>=2020.1 in /usr/local/lib/python3.11/dist-packages (from pandas) (2025.2)\n",
            "Requirement already satisfied: tzdata>=2022.7 in /usr/local/lib/python3.11/dist-packages (from pandas) (2025.2)\n",
            "Requirement already satisfied: httplib2<1.0.0,>=0.19.0 in /usr/local/lib/python3.11/dist-packages (from google-api-python-client) (0.22.0)\n",
            "Requirement already satisfied: google-auth!=2.24.0,!=2.25.0,<3.0.0,>=1.32.0 in /usr/local/lib/python3.11/dist-packages (from google-api-python-client) (2.38.0)\n",
            "Requirement already satisfied: google-auth-httplib2<1.0.0,>=0.2.0 in /usr/local/lib/python3.11/dist-packages (from google-api-python-client) (0.2.0)\n",
            "Requirement already satisfied: google-api-core!=2.0.*,!=2.1.*,!=2.2.*,!=2.3.0,<3.0.0,>=1.31.5 in /usr/local/lib/python3.11/dist-packages (from google-api-python-client) (2.25.1)\n",
            "Requirement already satisfied: uritemplate<5,>=3.0.1 in /usr/local/lib/python3.11/dist-packages (from google-api-python-client) (4.2.0)\n",
            "Requirement already satisfied: google-ai-generativelanguage==0.6.15 in /usr/local/lib/python3.11/dist-packages (from google-generativeai) (0.6.15)\n",
            "Requirement already satisfied: protobuf in /usr/local/lib/python3.11/dist-packages (from google-generativeai) (5.29.5)\n",
            "Requirement already satisfied: pydantic in /usr/local/lib/python3.11/dist-packages (from google-generativeai) (2.11.7)\n",
            "Requirement already satisfied: tqdm in /usr/local/lib/python3.11/dist-packages (from google-generativeai) (4.67.1)\n",
            "Requirement already satisfied: typing-extensions in /usr/local/lib/python3.11/dist-packages (from google-generativeai) (4.14.0)\n",
            "Requirement already satisfied: proto-plus<2.0.0dev,>=1.22.3 in /usr/local/lib/python3.11/dist-packages (from google-ai-generativelanguage==0.6.15->google-generativeai) (1.26.1)\n",
            "Requirement already satisfied: googleapis-common-protos<2.0.0,>=1.56.2 in /usr/local/lib/python3.11/dist-packages (from google-api-core!=2.0.*,!=2.1.*,!=2.2.*,!=2.3.0,<3.0.0,>=1.31.5->google-api-python-client) (1.70.0)\n",
            "Requirement already satisfied: requests<3.0.0,>=2.18.0 in /usr/local/lib/python3.11/dist-packages (from google-api-core!=2.0.*,!=2.1.*,!=2.2.*,!=2.3.0,<3.0.0,>=1.31.5->google-api-python-client) (2.32.3)\n",
            "Requirement already satisfied: cachetools<6.0,>=2.0.0 in /usr/local/lib/python3.11/dist-packages (from google-auth!=2.24.0,!=2.25.0,<3.0.0,>=1.32.0->google-api-python-client) (5.5.2)\n",
            "Requirement already satisfied: pyasn1-modules>=0.2.1 in /usr/local/lib/python3.11/dist-packages (from google-auth!=2.24.0,!=2.25.0,<3.0.0,>=1.32.0->google-api-python-client) (0.4.2)\n",
            "Requirement already satisfied: rsa<5,>=3.1.4 in /usr/local/lib/python3.11/dist-packages (from google-auth!=2.24.0,!=2.25.0,<3.0.0,>=1.32.0->google-api-python-client) (4.9.1)\n",
            "Requirement already satisfied: pyparsing!=3.0.0,!=3.0.1,!=3.0.2,!=3.0.3,<4,>=2.4.2 in /usr/local/lib/python3.11/dist-packages (from httplib2<1.0.0,>=0.19.0->google-api-python-client) (3.2.3)\n",
            "Requirement already satisfied: six>=1.5 in /usr/local/lib/python3.11/dist-packages (from python-dateutil>=2.8.2->pandas) (1.17.0)\n",
            "Requirement already satisfied: annotated-types>=0.6.0 in /usr/local/lib/python3.11/dist-packages (from pydantic->google-generativeai) (0.7.0)\n",
            "Requirement already satisfied: pydantic-core==2.33.2 in /usr/local/lib/python3.11/dist-packages (from pydantic->google-generativeai) (2.33.2)\n",
            "Requirement already satisfied: typing-inspection>=0.4.0 in /usr/local/lib/python3.11/dist-packages (from pydantic->google-generativeai) (0.4.1)\n",
            "Requirement already satisfied: grpcio<2.0.0,>=1.33.2 in /usr/local/lib/python3.11/dist-packages (from google-api-core[grpc]!=2.0.*,!=2.1.*,!=2.10.*,!=2.2.*,!=2.3.*,!=2.4.*,!=2.5.*,!=2.6.*,!=2.7.*,!=2.8.*,!=2.9.*,<3.0.0dev,>=1.34.1->google-ai-generativelanguage==0.6.15->google-generativeai) (1.73.0)\n",
            "Requirement already satisfied: grpcio-status<2.0.0,>=1.33.2 in /usr/local/lib/python3.11/dist-packages (from google-api-core[grpc]!=2.0.*,!=2.1.*,!=2.10.*,!=2.2.*,!=2.3.*,!=2.4.*,!=2.5.*,!=2.6.*,!=2.7.*,!=2.8.*,!=2.9.*,<3.0.0dev,>=1.34.1->google-ai-generativelanguage==0.6.15->google-generativeai) (1.71.0)\n",
            "Requirement already satisfied: pyasn1<0.7.0,>=0.6.1 in /usr/local/lib/python3.11/dist-packages (from pyasn1-modules>=0.2.1->google-auth!=2.24.0,!=2.25.0,<3.0.0,>=1.32.0->google-api-python-client) (0.6.1)\n",
            "Requirement already satisfied: charset-normalizer<4,>=2 in /usr/local/lib/python3.11/dist-packages (from requests<3.0.0,>=2.18.0->google-api-core!=2.0.*,!=2.1.*,!=2.2.*,!=2.3.0,<3.0.0,>=1.31.5->google-api-python-client) (3.4.2)\n",
            "Requirement already satisfied: idna<4,>=2.5 in /usr/local/lib/python3.11/dist-packages (from requests<3.0.0,>=2.18.0->google-api-core!=2.0.*,!=2.1.*,!=2.2.*,!=2.3.0,<3.0.0,>=1.31.5->google-api-python-client) (3.10)\n",
            "Requirement already satisfied: urllib3<3,>=1.21.1 in /usr/local/lib/python3.11/dist-packages (from requests<3.0.0,>=2.18.0->google-api-core!=2.0.*,!=2.1.*,!=2.2.*,!=2.3.0,<3.0.0,>=1.31.5->google-api-python-client) (2.4.0)\n",
            "Requirement already satisfied: certifi>=2017.4.17 in /usr/local/lib/python3.11/dist-packages (from requests<3.0.0,>=2.18.0->google-api-core!=2.0.*,!=2.1.*,!=2.2.*,!=2.3.0,<3.0.0,>=1.31.5->google-api-python-client) (2025.6.15)\n"
          ]
        }
      ],
      "source": [
        "!pip install pandas google-api-python-client google-generativeai\n"
      ]
    },
    {
      "cell_type": "code",
      "source": [
        "import pandas as pd\n",
        "import time\n",
        "from IPython.display import display, Markdown\n",
        "from tabulate import tabulate\n",
        "from urllib.parse import quote_plus\n",
        "import google.generativeai as genai # SDK do Gemini\n",
        "import json # Para parsear a resposta do Gemini\n",
        "from google.colab import userdata # Para acessar a API key\n",
        "\n",
        "# --- Configuração do Agente e API Key ---\n",
        "GOOGLE_API_KEY = None\n",
        "gemini_model_instance = None # Renomeado para clareza\n",
        "\n",
        "try:\n",
        "    # O nome padrão para secrets é sem o sufixo _, a menos que você tenha nomeado especificamente assim.\n",
        "    # Vou usar 'GOOGLE_API_KEY' como padrão, conforme a prática comum.\n",
        "    GOOGLE_API_KEY = userdata.get('GOOGLE_API_KEY')\n",
        "    if not GOOGLE_API_KEY:\n",
        "        display(Markdown(\"<font color='red'>**Erro Crítico: GOOGLE_API_KEY não encontrada nos Secrets do Colab.** \"\n",
        "                         \"Por favor, configure-a com o nome 'GOOGLE_API_KEY'.</font>\"))\n",
        "    else:\n",
        "        genai.configure(api_key=GOOGLE_API_KEY)\n",
        "        gemini_model_instance = genai.GenerativeModel(\n",
        "            model_name='gemini-1.5-flash-latest', # Modelo eficiente e capaz\n",
        "            # A opção response_mime_type pode ser usada com modelos mais recentes\n",
        "            # e configurações de segurança apropriadas.\n",
        "            # generation_config=genai.types.GenerationConfig(\n",
        "            #     response_mime_type=\"application/json\"\n",
        "            # )\n",
        "        )\n",
        "        display(Markdown(\"✅ *SDK do Gemini e modelo (`gemini-1.5-flash-latest`) configurados com sucesso.*\"))\n",
        "except Exception as e:\n",
        "    display(Markdown(f\"<font color='red'>**Erro Crítico ao configurar o SDK do Gemini:** {e}. \"\n",
        "                     \"Verifique sua API Key, permissões e se o nome do secret está correto ('GOOGLE_API_KEY'). \"\n",
        "                     \"O agente não funcionará sem isso.</font>\"))\n",
        "    # O script poderia parar aqui ou continuar com funcionalidades limitadas se houvesse um fallback.\n",
        "    # Para este agente, o Gemini é essencial.\n",
        "\n",
        "# --- Funções Utilitárias ---\n",
        "\n",
        "def carregar_dados_viagem(caminho_arquivo: str) -> pd.DataFrame | None:\n",
        "    \"\"\"\n",
        "    Carrega os dados de viagem do arquivo CSV e valida as colunas necessárias.\n",
        "    \"\"\"\n",
        "    colunas_requeridas = ['cidade', 'pais', 'data_chegada', 'data_partida', 'hospedagem']\n",
        "    try:\n",
        "        df = pd.read_csv(caminho_arquivo)\n",
        "\n",
        "        # Validar se as colunas requeridas existem\n",
        "        if not all(col in df.columns for col in colunas_requeridas):\n",
        "            colunas_faltando = [col for col in colunas_requeridas if col not in df.columns]\n",
        "            display(Markdown(f\"<font color='red'>**Erro: O arquivo `{caminho_arquivo}` não contém as colunas requeridas.** \"\n",
        "                             f\"Faltam as seguintes colunas: {', '.join(colunas_faltando)}.</font>\"))\n",
        "            return None\n",
        "\n",
        "        display(Markdown(f\"### Arquivo de Viagem (`{caminho_arquivo}`)\"))\n",
        "        display(df[colunas_requeridas]) # Exibe apenas as colunas relevantes\n",
        "        return df\n",
        "    except FileNotFoundError:\n",
        "        display(Markdown(f\"<font color='red'>**Erro: Arquivo `{caminho_arquivo}` não encontrado.** Verifique o nome e o local.</font>\"))\n",
        "        return None\n",
        "    except Exception as e:\n",
        "        display(Markdown(f\"<font color='red'>**Erro ao carregar o arquivo CSV `{caminho_arquivo}`:** {e}</font>\"))\n",
        "        return None\n",
        "\n",
        "def gerar_links_pesquisa_google(cidade: str, pais: str) -> tuple[str, str, str]:\n",
        "    \"\"\"Gera links de pesquisa úteis para Google Search e Google Maps.\"\"\"\n",
        "    query_atracoes = f\"principais atrações turísticas em {cidade} {pais}\"\n",
        "    link_google_search = f\"https://www.google.com/search?q={quote_plus(query_atracoes)}\"\n",
        "    query_maps_atracoes = f\"atrações turísticas em {cidade}, {pais}\"\n",
        "    link_google_maps_atracoes = f\"https://www.google.com/maps/search/{quote_plus(query_maps_atracoes)}\"\n",
        "    query_maps_cidade = f\"{cidade}, {pais}\"\n",
        "    link_google_maps_cidade = f\"https://www.google.com/maps/place/{quote_plus(query_maps_cidade)}\"\n",
        "    return link_google_search, link_google_maps_atracoes, link_google_maps_cidade\n",
        "\n",
        "# --- Definição do Agente Pesquisador de Atrações ---\n",
        "\n",
        "class AgentePesquisadorAtracoes:\n",
        "    \"\"\"\n",
        "    Um agente responsável por pesquisar atrações turísticas usando o Gemini\n",
        "    e fornecer links úteis para pesquisa manual.\n",
        "    \"\"\"\n",
        "    def __init__(self, modelo_llm: genai.GenerativeModel):\n",
        "        if modelo_llm is None:\n",
        "            raise ValueError(\"O modelo LLM (Gemini) não pode ser None para este agente.\")\n",
        "        self.modelo = modelo_llm\n",
        "        self.safety_settings = [ # Configurações de segurança para o Gemini\n",
        "            {\"category\": \"HARM_CATEGORY_HARASSMENT\", \"threshold\": \"BLOCK_MEDIUM_AND_ABOVE\"},\n",
        "            {\"category\": \"HARM_CATEGORY_HATE_SPEECH\", \"threshold\": \"BLOCK_MEDIUM_AND_ABOVE\"},\n",
        "            {\"category\": \"HARM_CATEGORY_SEXUALLY_EXPLICIT\", \"threshold\": \"BLOCK_MEDIUM_AND_ABOVE\"},\n",
        "            {\"category\": \"HARM_CATEGORY_DANGEROUS_CONTENT\", \"threshold\": \"BLOCK_MEDIUM_AND_ABOVE\"},\n",
        "        ]\n",
        "\n",
        "    def _obter_sugestoes_gemini(self, cidade: str, pais: str, top_n: int = 7) -> list[dict]:\n",
        "        \"\"\"\n",
        "        Ferramenta interna do agente para consultar o Gemini sobre atrações.\n",
        "        \"\"\"\n",
        "        display(Markdown(f\"🧠 *Agente consultando Gemini sobre atrações em: **{cidade}, {pais}** (Top {top_n})...*\"))\n",
        "\n",
        "        prompt = f\"\"\"\n",
        "        Você é um assistente de planejamento de viagens altamente especializado e eficiente.\n",
        "        Sua tarefa é identificar as {top_n} principais e mais recomendadas atrações turísticas para a cidade de {cidade}, localizada em {pais}.\n",
        "\n",
        "        Critérios para sua seleção:\n",
        "        1.  **Popularidade e Reconhecimento:** Atrações bem conhecidas e frequentemente visitadas.\n",
        "        2.  **Qualidade das Avaliações:** Lugares geralmente com avaliações positivas (ex: acima de 4.0/5 estrelas).\n",
        "        3.  **Relevância Cultural/Histórica:** Locais com significado importante.\n",
        "        4.  **Diversidade de Experiências:** Inclua uma mistura de tipos, como museus, monumentos, parques, mercados, igrejas/catedrais, mirantes, etc., quando apropriado para a cidade.\n",
        "        5.  **Singularidade:** Atrações que oferecem uma experiência única ou icônica da cidade/região.\n",
        "\n",
        "        Formato da Resposta:\n",
        "        Retorne **estritamente uma lista JSON**. Cada elemento da lista deve ser um dicionário representando uma atração,\n",
        "        contendo EXATAMENTE as seguintes chaves:\n",
        "        - \"nome\": (string) O nome oficial e completo da atração.\n",
        "        - \"tipo_principal\": (string) A categoria principal da atração (ex: \"Museu de Arte\", \"Catedral Gótica\", \"Parque Urbano\", \"Mercado Histórico\", \"Monumento Nacional\", \"Mirante Panorâmico\"). Seja específico.\n",
        "        - \"descricao_enxuta\": (string) Uma descrição concisa e informativa (1-2 frases) que justifique sua inclusão, destacando seus principais atrativos.\n",
        "        - \"avaliacao_geral\": (string, opcional) Uma estimativa da avaliação geral se for amplamente conhecida (ex: \"Excelente\", \"Muito Popular\", \"4.5/5 estrelas\"). Use \"N/A\" se não houver uma estimativa clara.\n",
        "        - \"destaque_principal\": (string) O motivo principal pelo qual um turista deveria visitar (ex: \"Vistas incríveis da cidade\", \"Coleção de arte renascentista\", \"Arquitetura impressionante\", \"Atmosfera vibrante\").\n",
        "\n",
        "        Exemplo de um item na lista JSON:\n",
        "        {{\n",
        "          \"nome\": \"Museu do Louvre\",\n",
        "          \"tipo_principal\": \"Museu de Arte e Antiguidades\",\n",
        "          \"descricao_enxuta\": \"Um dos maiores e mais visitados museus do mundo, lar de obras-primas como a Mona Lisa e a Vênus de Milo.\",\n",
        "          \"avaliacao_geral\": \"4.7/5 estrelas\",\n",
        "          \"destaque_principal\": \"Coleção de arte de renome mundial\"\n",
        "        }}\n",
        "\n",
        "        Garanta que a saída seja SOMENTE a lista JSON, sem nenhum texto introdutório, comentários ou formatação adicional.\n",
        "        \"\"\"\n",
        "\n",
        "        try:\n",
        "            response = self.modelo.generate_content(\n",
        "                prompt,\n",
        "                generation_config=genai.types.GenerationConfig(\n",
        "                    temperature=0.4, # Um pouco mais factual, menos aleatório\n",
        "                    max_output_tokens=3072 # Espaço suficiente para a lista JSON\n",
        "                ),\n",
        "                safety_settings=self.safety_settings\n",
        "            )\n",
        "\n",
        "            json_text = response.text.strip()\n",
        "            # Tentativa robusta de extrair JSON, mesmo que o modelo adicione ```json ... ```\n",
        "            if json_text.startswith(\"```json\"):\n",
        "                json_text = json_text[7:]\n",
        "            if json_text.endswith(\"```\"):\n",
        "                json_text = json_text[:-3]\n",
        "            json_text = json_text.strip()\n",
        "\n",
        "            if not json_text:\n",
        "                display(Markdown(f\"<font color='orange'>Aviso: Gemini retornou uma resposta vazia para {cidade}.</font>\"))\n",
        "                return []\n",
        "\n",
        "            atracoes = json.loads(json_text)\n",
        "            # Garantir que é uma lista, mesmo que o Gemini retorne algo diferente\n",
        "            if not isinstance(atracoes, list):\n",
        "                 display(Markdown(f\"<font color='orange'>Aviso: Gemini retornou um formato inesperado (não uma lista) para {cidade}.</font>\"))\n",
        "                 return []\n",
        "\n",
        "            display(Markdown(f\"✅ *Gemini retornou {len(atracoes)} sugestões de atrações para {cidade}.*\"))\n",
        "            return atracoes[:top_n]\n",
        "        except json.JSONDecodeError as e:\n",
        "            display(Markdown(f\"<font color='red'>**Erro (JSONDecodeError) ao processar resposta do Gemini para {cidade}:** {e}. \"\n",
        "                             \"Isso geralmente ocorre se o modelo não retornar um JSON válido.</font>\"))\n",
        "            if hasattr(response, 'text'):\n",
        "                display(Markdown(f\"<pre>Resposta Bruta do Gemini:\\n{response.text}</pre>\"))\n",
        "            else:\n",
        "                 display(Markdown(f\"<pre>Nenhuma resposta de texto recebida do Gemini.</pre>\"))\n",
        "            return []\n",
        "        except Exception as e:\n",
        "            # Captura de erros mais genéricos, como problemas de API (quota, etc.)\n",
        "            # ou bloqueios de segurança não esperados.\n",
        "            display(Markdown(f\"<font color='red'>**Erro inesperado ao consultar Gemini para {cidade}:** {e}</font>\"))\n",
        "            if hasattr(response, 'prompt_feedback'):\n",
        "                display(Markdown(f\"Feedback do Prompt: {response.prompt_feedback}\"))\n",
        "            return []\n",
        "\n",
        "    def pesquisar_destino(self, cidade: str, pais: str, top_n_sugestoes: int = 7) -> dict:\n",
        "        \"\"\"\n",
        "        Executa a pesquisa de atrações para um destino específico.\n",
        "        \"\"\"\n",
        "        display(Markdown(f\"\\n### 🌍 Agente Iniciando Pesquisa para: **{cidade}, {pais}**\"))\n",
        "\n",
        "        links = gerar_links_pesquisa_google(cidade, pais)\n",
        "        sugestoes_gemini = self._obter_sugestoes_gemini(cidade, pais, top_n=top_n_sugestoes)\n",
        "\n",
        "        display(Markdown(f\"--- Pesquisa para **{cidade}, {pais}** finalizada pelo agente. ---\"))\n",
        "        return {\n",
        "            \"cidade\": cidade,\n",
        "            \"pais\": pais,\n",
        "            \"link_google_search\": links[0],\n",
        "            \"link_google_maps_atracoes\": links[1],\n",
        "            \"link_google_maps_cidade\": links[2],\n",
        "            \"sugestoes_gemini\": sugestoes_gemini\n",
        "        }\n",
        "\n",
        "# --- Função Principal de Execução ---\n",
        "def executar_planejador_viagem(caminho_arquivo_csv: str = 'europa.csv'):\n",
        "    \"\"\"\n",
        "    Orquestra o carregamento dos dados da viagem e a pesquisa de atrações para cada destino.\n",
        "    Recebe o caminho do arquivo CSV como parâmetro.\n",
        "    \"\"\"\n",
        "    if not GOOGLE_API_KEY or not gemini_model_instance:\n",
        "        display(Markdown(\"<font color='red'>**Execução Interrompida.** API Key do Google ou modelo Gemini não configurados corretamente na inicialização.</font>\"))\n",
        "        return\n",
        "\n",
        "    df_viagem = carregar_dados_viagem(caminho_arquivo_csv)\n",
        "\n",
        "    if df_viagem is None:\n",
        "        display(Markdown(\"<font color='red'>**Não foi possível prosseguir sem os dados da viagem.**</font>\"))\n",
        "        return\n",
        "\n",
        "    agente_pesquisador = AgentePesquisadorAtracoes(modelo_llm=gemini_model_instance)\n",
        "\n",
        "    dados_compilados = {\n",
        "        \"titulo_pesquisa\": \"Relatório de Pesquisa de Atrações do Agente\",\n",
        "        \"data_execucao_pesquisa\": time.strftime(\"%Y-%m-%d %H:%M:%S\"),\n",
        "        \"data_geracao_relatorio_utc\": time.strftime(\"%Y-%m-%d %H:%M:%S UTC\"),\n",
        "        \"data_geracao_relatorio_brasilia\": time.strftime(\"%Y-%m-%d %H:%M:%S BRT\"),\n",
        "        \"destinos_pesquisados\": []\n",
        "    }\n",
        "\n",
        "\n",
        "    display(Markdown(\"\\n# 🗺️ **Relatório de Pesquisa de Atrações do Agente** ✈️\"))\n",
        "\n",
        "    resultados_completos = []\n",
        "    for indice, linha_viagem in df_viagem.iterrows():\n",
        "        cidade = linha_viagem['cidade']\n",
        "        pais = linha_viagem['pais']\n",
        "\n",
        "        resultado_destino = agente_pesquisador.pesquisar_destino(cidade, pais, top_n_sugestoes=15)\n",
        "\n",
        "        # Adicionar dados da viagem original ao resultado\n",
        "        resultado_destino['data_chegada'] = linha_viagem['data_chegada']\n",
        "        resultado_destino['data_partida'] = linha_viagem['data_partida']\n",
        "        resultado_destino['hospedagem'] = linha_viagem['hospedagem']\n",
        "        resultados_completos.append(resultado_destino)\n",
        "\n",
        "        # Exibição imediata por destino\n",
        "        display(Markdown(f\"\\n## 📍 Destino: **{resultado_destino['cidade']}, {resultado_destino['pais']}**\"))\n",
        "        display(Markdown(f\"🗓️ **Período:** {resultado_destino['data_chegada']} a {resultado_destino['data_partida']}\"))\n",
        "        display(Markdown(f\"🏨 **Hospedagem:** {resultado_destino['hospedagem']}\"))\n",
        "\n",
        "        display(Markdown(\"#### 🔍 Links Úteis para Pesquisa Manual Detalhada (abrem em nova aba):\"))\n",
        "        display(Markdown(f\"- **[Google Search: Principais atrações]({resultado_destino['link_google_search']})** \")) # Removido {} extra\n",
        "        display(Markdown(f\"- **[Google Maps: Atrações na área]({resultado_destino['link_google_maps_atracoes']})** \")) # Removido {} extra\n",
        "        display(Markdown(f\"- **[Google Maps: Visão geral da cidade]({resultado_destino['link_google_maps_cidade']})** \")) # Removido {} extra\n",
        "\n",
        "        if resultado_destino['sugestoes_gemini']:\n",
        "            display(Markdown(\"#### ✨ Sugestões de Atrações Principais (via Agente Gemini):\"))\n",
        "\n",
        "            tabela_atracoes_data = []\n",
        "            # Chaves como definidas no prompt do Gemini\n",
        "            headers = [\"Nº\", \"Atração\", \"Tipo Principal\", \"Descrição Enxuta\", \"Avaliação Geral\", \"Destaque Principal\"]\n",
        "\n",
        "            for i, atracao in enumerate(resultado_destino['sugestoes_gemini']):\n",
        "                tabela_atracoes_data.append([\n",
        "                    i + 1,\n",
        "                    atracao.get('nome', 'N/A'),\n",
        "                    atracao.get('tipo_principal', 'N/A'),\n",
        "                    atracao.get('descricao_enxuta', 'N/A'),\n",
        "                    atracao.get('avaliacao_geral', 'N/A'),\n",
        "                    atracao.get('destaque_principal', 'N/A')\n",
        "                ])\n",
        "\n",
        "            tabela_formatada = tabulate(tabela_atracoes_data, headers=headers, tablefmt=\"pipe\", stralign=\"left\")\n",
        "            display(Markdown(tabela_formatada))\n",
        "        else:\n",
        "            display(Markdown(\"<font color='orange'>⚠️ Nenhuma sugestão de atração específica retornada pelo Gemini para este destino. \"\n",
        "                             \"Utilize os links de pesquisa manual acima.</font>\"))\n",
        "        display(Markdown(\"---\")) # Separador visual entre destinos\n",
        "\n",
        "    # Você pode querer fazer algo com 'resultados_completos' aqui, como salvar em um JSON.\n",
        "    # Exemplo:\n",
        "    with open('planejamento_viagem_atracoes.json', 'w', encoding='utf-8') as f:\n",
        "        json.dump(resultados_completos, f, ensure_ascii=False, indent=4)\n",
        "    display(Markdown(\"\\n💾 *Relatório completo também salvo em `planejamento_viagem_atracoes.json`.*\"))\n",
        "    return resultados_completos\n",
        "\n",
        "# --- Ponto de Entrada da Execução ---\n",
        "if __name__ == \"__main__\":\n",
        "    # Certifique-se de que as bibliotecas estão instaladas\n",
        "    # Em um notebook Colab, você executaria !pip install -q pandas google-generativeai tabulate em uma célula separada.\n",
        "    # Agora você pode chamar a função passando o caminho do seu arquivo CSV, por exemplo:\n",
        "    # executar_planejador_viagem('meu_arquivo_viagem.csv')\n",
        "    # Se nenhum caminho for fornecido, ele usará 'europa.csv' por padrão.\n",
        "    executar_planejador_viagem()"
      ],
      "metadata": {
        "id": "OK0vHJM92vIj",
        "colab": {
          "base_uri": "https://localhost:8080/",
          "height": 1000
        },
        "collapsed": true,
        "outputId": "3daf052a-a207-49f7-a0bc-3e720cd4ea23"
      },
      "execution_count": 13,
      "outputs": [
        {
          "output_type": "display_data",
          "data": {
            "text/plain": [
              "<IPython.core.display.Markdown object>"
            ],
            "text/markdown": "✅ *SDK do Gemini e modelo (`gemini-1.5-flash-latest`) configurados com sucesso.*"
          },
          "metadata": {}
        },
        {
          "output_type": "display_data",
          "data": {
            "text/plain": [
              "<IPython.core.display.Markdown object>"
            ],
            "text/markdown": "### Arquivo de Viagem (`europa.csv`)"
          },
          "metadata": {}
        },
        {
          "output_type": "display_data",
          "data": {
            "text/plain": [
              "     cidade     pais data_chegada data_partida                    hospedagem\n",
              "0      Roma   Itália   2025-09-13   2025-09-16  Via Francesco Caracciolo n.7\n",
              "1  Florença   Itália   2025-09-16   2025-09-19                  Hotel Bodoni\n",
              "2     Viena  Aústria   2025-09-20   2025-09-24            Hilton Vienna Park"
            ],
            "text/html": [
              "\n",
              "  <div id=\"df-0c5e9432-a552-4173-a88d-324184f6d2ec\" class=\"colab-df-container\">\n",
              "    <div>\n",
              "<style scoped>\n",
              "    .dataframe tbody tr th:only-of-type {\n",
              "        vertical-align: middle;\n",
              "    }\n",
              "\n",
              "    .dataframe tbody tr th {\n",
              "        vertical-align: top;\n",
              "    }\n",
              "\n",
              "    .dataframe thead th {\n",
              "        text-align: right;\n",
              "    }\n",
              "</style>\n",
              "<table border=\"1\" class=\"dataframe\">\n",
              "  <thead>\n",
              "    <tr style=\"text-align: right;\">\n",
              "      <th></th>\n",
              "      <th>cidade</th>\n",
              "      <th>pais</th>\n",
              "      <th>data_chegada</th>\n",
              "      <th>data_partida</th>\n",
              "      <th>hospedagem</th>\n",
              "    </tr>\n",
              "  </thead>\n",
              "  <tbody>\n",
              "    <tr>\n",
              "      <th>0</th>\n",
              "      <td>Roma</td>\n",
              "      <td>Itália</td>\n",
              "      <td>2025-09-13</td>\n",
              "      <td>2025-09-16</td>\n",
              "      <td>Via Francesco Caracciolo n.7</td>\n",
              "    </tr>\n",
              "    <tr>\n",
              "      <th>1</th>\n",
              "      <td>Florença</td>\n",
              "      <td>Itália</td>\n",
              "      <td>2025-09-16</td>\n",
              "      <td>2025-09-19</td>\n",
              "      <td>Hotel Bodoni</td>\n",
              "    </tr>\n",
              "    <tr>\n",
              "      <th>2</th>\n",
              "      <td>Viena</td>\n",
              "      <td>Aústria</td>\n",
              "      <td>2025-09-20</td>\n",
              "      <td>2025-09-24</td>\n",
              "      <td>Hilton Vienna Park</td>\n",
              "    </tr>\n",
              "  </tbody>\n",
              "</table>\n",
              "</div>\n",
              "    <div class=\"colab-df-buttons\">\n",
              "\n",
              "  <div class=\"colab-df-container\">\n",
              "    <button class=\"colab-df-convert\" onclick=\"convertToInteractive('df-0c5e9432-a552-4173-a88d-324184f6d2ec')\"\n",
              "            title=\"Convert this dataframe to an interactive table.\"\n",
              "            style=\"display:none;\">\n",
              "\n",
              "  <svg xmlns=\"http://www.w3.org/2000/svg\" height=\"24px\" viewBox=\"0 -960 960 960\">\n",
              "    <path d=\"M120-120v-720h720v720H120Zm60-500h600v-160H180v160Zm220 220h160v-160H400v160Zm0 220h160v-160H400v160ZM180-400h160v-160H180v160Zm440 0h160v-160H620v160ZM180-180h160v-160H180v160Zm440 0h160v-160H620v160Z\"/>\n",
              "  </svg>\n",
              "    </button>\n",
              "\n",
              "  <style>\n",
              "    .colab-df-container {\n",
              "      display:flex;\n",
              "      gap: 12px;\n",
              "    }\n",
              "\n",
              "    .colab-df-convert {\n",
              "      background-color: #E8F0FE;\n",
              "      border: none;\n",
              "      border-radius: 50%;\n",
              "      cursor: pointer;\n",
              "      display: none;\n",
              "      fill: #1967D2;\n",
              "      height: 32px;\n",
              "      padding: 0 0 0 0;\n",
              "      width: 32px;\n",
              "    }\n",
              "\n",
              "    .colab-df-convert:hover {\n",
              "      background-color: #E2EBFA;\n",
              "      box-shadow: 0px 1px 2px rgba(60, 64, 67, 0.3), 0px 1px 3px 1px rgba(60, 64, 67, 0.15);\n",
              "      fill: #174EA6;\n",
              "    }\n",
              "\n",
              "    .colab-df-buttons div {\n",
              "      margin-bottom: 4px;\n",
              "    }\n",
              "\n",
              "    [theme=dark] .colab-df-convert {\n",
              "      background-color: #3B4455;\n",
              "      fill: #D2E3FC;\n",
              "    }\n",
              "\n",
              "    [theme=dark] .colab-df-convert:hover {\n",
              "      background-color: #434B5C;\n",
              "      box-shadow: 0px 1px 3px 1px rgba(0, 0, 0, 0.15);\n",
              "      filter: drop-shadow(0px 1px 2px rgba(0, 0, 0, 0.3));\n",
              "      fill: #FFFFFF;\n",
              "    }\n",
              "  </style>\n",
              "\n",
              "    <script>\n",
              "      const buttonEl =\n",
              "        document.querySelector('#df-0c5e9432-a552-4173-a88d-324184f6d2ec button.colab-df-convert');\n",
              "      buttonEl.style.display =\n",
              "        google.colab.kernel.accessAllowed ? 'block' : 'none';\n",
              "\n",
              "      async function convertToInteractive(key) {\n",
              "        const element = document.querySelector('#df-0c5e9432-a552-4173-a88d-324184f6d2ec');\n",
              "        const dataTable =\n",
              "          await google.colab.kernel.invokeFunction('convertToInteractive',\n",
              "                                                    [key], {});\n",
              "        if (!dataTable) return;\n",
              "\n",
              "        const docLinkHtml = 'Like what you see? Visit the ' +\n",
              "          '<a target=\"_blank\" href=https://colab.research.google.com/notebooks/data_table.ipynb>data table notebook</a>'\n",
              "          + ' to learn more about interactive tables.';\n",
              "        element.innerHTML = '';\n",
              "        dataTable['output_type'] = 'display_data';\n",
              "        await google.colab.output.renderOutput(dataTable, element);\n",
              "        const docLink = document.createElement('div');\n",
              "        docLink.innerHTML = docLinkHtml;\n",
              "        element.appendChild(docLink);\n",
              "      }\n",
              "    </script>\n",
              "  </div>\n",
              "\n",
              "\n",
              "    <div id=\"df-94a5cfd8-a661-498c-8c61-67aedee48fd6\">\n",
              "      <button class=\"colab-df-quickchart\" onclick=\"quickchart('df-94a5cfd8-a661-498c-8c61-67aedee48fd6')\"\n",
              "                title=\"Suggest charts\"\n",
              "                style=\"display:none;\">\n",
              "\n",
              "<svg xmlns=\"http://www.w3.org/2000/svg\" height=\"24px\"viewBox=\"0 0 24 24\"\n",
              "     width=\"24px\">\n",
              "    <g>\n",
              "        <path d=\"M19 3H5c-1.1 0-2 .9-2 2v14c0 1.1.9 2 2 2h14c1.1 0 2-.9 2-2V5c0-1.1-.9-2-2-2zM9 17H7v-7h2v7zm4 0h-2V7h2v10zm4 0h-2v-4h2v4z\"/>\n",
              "    </g>\n",
              "</svg>\n",
              "      </button>\n",
              "\n",
              "<style>\n",
              "  .colab-df-quickchart {\n",
              "      --bg-color: #E8F0FE;\n",
              "      --fill-color: #1967D2;\n",
              "      --hover-bg-color: #E2EBFA;\n",
              "      --hover-fill-color: #174EA6;\n",
              "      --disabled-fill-color: #AAA;\n",
              "      --disabled-bg-color: #DDD;\n",
              "  }\n",
              "\n",
              "  [theme=dark] .colab-df-quickchart {\n",
              "      --bg-color: #3B4455;\n",
              "      --fill-color: #D2E3FC;\n",
              "      --hover-bg-color: #434B5C;\n",
              "      --hover-fill-color: #FFFFFF;\n",
              "      --disabled-bg-color: #3B4455;\n",
              "      --disabled-fill-color: #666;\n",
              "  }\n",
              "\n",
              "  .colab-df-quickchart {\n",
              "    background-color: var(--bg-color);\n",
              "    border: none;\n",
              "    border-radius: 50%;\n",
              "    cursor: pointer;\n",
              "    display: none;\n",
              "    fill: var(--fill-color);\n",
              "    height: 32px;\n",
              "    padding: 0;\n",
              "    width: 32px;\n",
              "  }\n",
              "\n",
              "  .colab-df-quickchart:hover {\n",
              "    background-color: var(--hover-bg-color);\n",
              "    box-shadow: 0 1px 2px rgba(60, 64, 67, 0.3), 0 1px 3px 1px rgba(60, 64, 67, 0.15);\n",
              "    fill: var(--button-hover-fill-color);\n",
              "  }\n",
              "\n",
              "  .colab-df-quickchart-complete:disabled,\n",
              "  .colab-df-quickchart-complete:disabled:hover {\n",
              "    background-color: var(--disabled-bg-color);\n",
              "    fill: var(--disabled-fill-color);\n",
              "    box-shadow: none;\n",
              "  }\n",
              "\n",
              "  .colab-df-spinner {\n",
              "    border: 2px solid var(--fill-color);\n",
              "    border-color: transparent;\n",
              "    border-bottom-color: var(--fill-color);\n",
              "    animation:\n",
              "      spin 1s steps(1) infinite;\n",
              "  }\n",
              "\n",
              "  @keyframes spin {\n",
              "    0% {\n",
              "      border-color: transparent;\n",
              "      border-bottom-color: var(--fill-color);\n",
              "      border-left-color: var(--fill-color);\n",
              "    }\n",
              "    20% {\n",
              "      border-color: transparent;\n",
              "      border-left-color: var(--fill-color);\n",
              "      border-top-color: var(--fill-color);\n",
              "    }\n",
              "    30% {\n",
              "      border-color: transparent;\n",
              "      border-left-color: var(--fill-color);\n",
              "      border-top-color: var(--fill-color);\n",
              "      border-right-color: var(--fill-color);\n",
              "    }\n",
              "    40% {\n",
              "      border-color: transparent;\n",
              "      border-right-color: var(--fill-color);\n",
              "      border-top-color: var(--fill-color);\n",
              "    }\n",
              "    60% {\n",
              "      border-color: transparent;\n",
              "      border-right-color: var(--fill-color);\n",
              "    }\n",
              "    80% {\n",
              "      border-color: transparent;\n",
              "      border-right-color: var(--fill-color);\n",
              "      border-bottom-color: var(--fill-color);\n",
              "    }\n",
              "    90% {\n",
              "      border-color: transparent;\n",
              "      border-bottom-color: var(--fill-color);\n",
              "    }\n",
              "  }\n",
              "</style>\n",
              "\n",
              "      <script>\n",
              "        async function quickchart(key) {\n",
              "          const quickchartButtonEl =\n",
              "            document.querySelector('#' + key + ' button');\n",
              "          quickchartButtonEl.disabled = true;  // To prevent multiple clicks.\n",
              "          quickchartButtonEl.classList.add('colab-df-spinner');\n",
              "          try {\n",
              "            const charts = await google.colab.kernel.invokeFunction(\n",
              "                'suggestCharts', [key], {});\n",
              "          } catch (error) {\n",
              "            console.error('Error during call to suggestCharts:', error);\n",
              "          }\n",
              "          quickchartButtonEl.classList.remove('colab-df-spinner');\n",
              "          quickchartButtonEl.classList.add('colab-df-quickchart-complete');\n",
              "        }\n",
              "        (() => {\n",
              "          let quickchartButtonEl =\n",
              "            document.querySelector('#df-94a5cfd8-a661-498c-8c61-67aedee48fd6 button');\n",
              "          quickchartButtonEl.style.display =\n",
              "            google.colab.kernel.accessAllowed ? 'block' : 'none';\n",
              "        })();\n",
              "      </script>\n",
              "    </div>\n",
              "\n",
              "    </div>\n",
              "  </div>\n"
            ],
            "application/vnd.google.colaboratory.intrinsic+json": {
              "type": "dataframe",
              "summary": "{\n  \"name\": \"    executar_planejador_viagem()\",\n  \"rows\": 3,\n  \"fields\": [\n    {\n      \"column\": \"cidade\",\n      \"properties\": {\n        \"dtype\": \"string\",\n        \"num_unique_values\": 3,\n        \"samples\": [\n          \"Roma\",\n          \"Floren\\u00e7a\",\n          \"Viena\"\n        ],\n        \"semantic_type\": \"\",\n        \"description\": \"\"\n      }\n    },\n    {\n      \"column\": \"pais\",\n      \"properties\": {\n        \"dtype\": \"string\",\n        \"num_unique_values\": 2,\n        \"samples\": [\n          \"A\\u00fastria\",\n          \"It\\u00e1lia\"\n        ],\n        \"semantic_type\": \"\",\n        \"description\": \"\"\n      }\n    },\n    {\n      \"column\": \"data_chegada\",\n      \"properties\": {\n        \"dtype\": \"object\",\n        \"num_unique_values\": 3,\n        \"samples\": [\n          \"2025-09-13\",\n          \"2025-09-16\"\n        ],\n        \"semantic_type\": \"\",\n        \"description\": \"\"\n      }\n    },\n    {\n      \"column\": \"data_partida\",\n      \"properties\": {\n        \"dtype\": \"object\",\n        \"num_unique_values\": 3,\n        \"samples\": [\n          \"2025-09-16\",\n          \"2025-09-19\"\n        ],\n        \"semantic_type\": \"\",\n        \"description\": \"\"\n      }\n    },\n    {\n      \"column\": \"hospedagem\",\n      \"properties\": {\n        \"dtype\": \"string\",\n        \"num_unique_values\": 3,\n        \"samples\": [\n          \"Via Francesco Caracciolo n.7\",\n          \"Hotel Bodoni\"\n        ],\n        \"semantic_type\": \"\",\n        \"description\": \"\"\n      }\n    }\n  ]\n}"
            }
          },
          "metadata": {}
        },
        {
          "output_type": "display_data",
          "data": {
            "text/plain": [
              "<IPython.core.display.Markdown object>"
            ],
            "text/markdown": "\n# 🗺️ **Relatório de Pesquisa de Atrações do Agente** ✈️"
          },
          "metadata": {}
        },
        {
          "output_type": "display_data",
          "data": {
            "text/plain": [
              "<IPython.core.display.Markdown object>"
            ],
            "text/markdown": "\n### 🌍 Agente Iniciando Pesquisa para: **Roma, Itália**"
          },
          "metadata": {}
        },
        {
          "output_type": "display_data",
          "data": {
            "text/plain": [
              "<IPython.core.display.Markdown object>"
            ],
            "text/markdown": "🧠 *Agente consultando Gemini sobre atrações em: **Roma, Itália** (Top 15)...*"
          },
          "metadata": {}
        },
        {
          "output_type": "display_data",
          "data": {
            "text/plain": [
              "<IPython.core.display.Markdown object>"
            ],
            "text/markdown": "✅ *Gemini retornou 15 sugestões de atrações para Roma.*"
          },
          "metadata": {}
        },
        {
          "output_type": "display_data",
          "data": {
            "text/plain": [
              "<IPython.core.display.Markdown object>"
            ],
            "text/markdown": "--- Pesquisa para **Roma, Itália** finalizada pelo agente. ---"
          },
          "metadata": {}
        },
        {
          "output_type": "display_data",
          "data": {
            "text/plain": [
              "<IPython.core.display.Markdown object>"
            ],
            "text/markdown": "\n## 📍 Destino: **Roma, Itália**"
          },
          "metadata": {}
        },
        {
          "output_type": "display_data",
          "data": {
            "text/plain": [
              "<IPython.core.display.Markdown object>"
            ],
            "text/markdown": "🗓️ **Período:** 2025-09-13 a 2025-09-16"
          },
          "metadata": {}
        },
        {
          "output_type": "display_data",
          "data": {
            "text/plain": [
              "<IPython.core.display.Markdown object>"
            ],
            "text/markdown": "🏨 **Hospedagem:** Via Francesco Caracciolo n.7"
          },
          "metadata": {}
        },
        {
          "output_type": "display_data",
          "data": {
            "text/plain": [
              "<IPython.core.display.Markdown object>"
            ],
            "text/markdown": "#### 🔍 Links Úteis para Pesquisa Manual Detalhada (abrem em nova aba):"
          },
          "metadata": {}
        },
        {
          "output_type": "display_data",
          "data": {
            "text/plain": [
              "<IPython.core.display.Markdown object>"
            ],
            "text/markdown": "- **[Google Search: Principais atrações](https://www.google.com/search?q=principais+atra%C3%A7%C3%B5es+tur%C3%ADsticas+em+Roma+It%C3%A1lia)** "
          },
          "metadata": {}
        },
        {
          "output_type": "display_data",
          "data": {
            "text/plain": [
              "<IPython.core.display.Markdown object>"
            ],
            "text/markdown": "- **[Google Maps: Atrações na área](https://www.google.com/maps/search/atra%C3%A7%C3%B5es+tur%C3%ADsticas+em+Roma%2C+It%C3%A1lia)** "
          },
          "metadata": {}
        },
        {
          "output_type": "display_data",
          "data": {
            "text/plain": [
              "<IPython.core.display.Markdown object>"
            ],
            "text/markdown": "- **[Google Maps: Visão geral da cidade](https://www.google.com/maps/place/Roma%2C+It%C3%A1lia)** "
          },
          "metadata": {}
        },
        {
          "output_type": "display_data",
          "data": {
            "text/plain": [
              "<IPython.core.display.Markdown object>"
            ],
            "text/markdown": "#### ✨ Sugestões de Atrações Principais (via Agente Gemini):"
          },
          "metadata": {}
        },
        {
          "output_type": "display_data",
          "data": {
            "text/plain": [
              "<IPython.core.display.Markdown object>"
            ],
            "text/markdown": "|   Nº | Atração                                         | Tipo Principal                            | Descrição Enxuta                                                                                                                 | Avaliação Geral   | Destaque Principal                               |\n|-----:|:------------------------------------------------|:------------------------------------------|:---------------------------------------------------------------------------------------------------------------------------------|:------------------|:-------------------------------------------------|\n|    1 | Coliseu e Fórum Romano                          | Monumento Nacional e Ruínas Arqueológicas | Símbolo icônico de Roma, o Coliseu é um anfiteatro antigo, enquanto o Fórum Romano revela os restos da antiga cidade.            | Excelente         | Experiência histórica inesquecível               |\n|    2 | Museus do Vaticano (incluindo a Capela Sistina) | Museu de Arte e Religião                  | Um complexo de museus que abriga uma vasta coleção de arte e artefatos, incluindo os afrescos da Capela Sistina de Michelangelo. | Excelente         | Obras-primas de arte renascentista e religiosa   |\n|    3 | Basílica de São Pedro                           | Catedral Católica Romana                  | Uma das maiores e mais importantes igrejas do mundo, com uma arquitetura impressionante e uma rica história.                     | Excelente         | Arquitetura e significado religioso              |\n|    4 | Fontana di Trevi                                | Fonte Barroca                             | Uma das fontes mais famosas do mundo, com um design exuberante e uma atmosfera mágica.                                           | Muito Popular     | Beleza arquitetônica e atmosfera romântica       |\n|    5 | Pantheon                                        | Templo Romano                             | Um templo romano antigo excepcionalmente bem preservado, conhecido por sua cúpula e oculus.                                      | Excelente         | Arquitetura e engenharia romana impressionantes  |\n|    6 | Piazza Navona                                   | Praça Barroca                             | Uma praça vibrante e animada, com fontes ornamentadas, artistas de rua e cafés.                                                  | Muito Popular     | Atmosfera animada e beleza arquitetônica         |\n|    7 | Espaço Borghese e Galeria Borghese              | Parque Urbano e Museu de Arte             | Um belo parque com uma galeria de arte que abriga obras-primas de Bernini, Caravaggio e outros mestres.                          | Excelente         | Arte e natureza combinadas                       |\n|    8 | Castel Sant'Angelo                              | Castelo Histórico                         | Um castelo medieval com uma história fascinante, oferecendo vistas panorâmicas de Roma.                                          | Muito Popular     | História e vistas panorâmicas                    |\n|    9 | Escadaria Espanhola                             | Escadaria Monumental                      | Uma escadaria barroca imponente que conecta a Piazza di Spagna à Igreja da Trinità dei Monti.                                    | Muito Popular     | Ponto de encontro icônico e arquitetura elegante |\n|   10 | Campo de' Fiori                                 | Mercado Histórico e Praça                 | Um mercado movimentado durante o dia e uma praça animada à noite, com restaurantes e bares.                                      | Muito Popular     | Experiência autêntica romana                     |\n|   11 | Janículo                                        | Mirante Panorâmico                        | Um monte que oferece vistas panorâmicas deslumbrantes de Roma, especialmente ao pôr do sol.                                      | Excelente         | Vistas panorâmicas de tirar o fôlego             |\n|   12 | Catacombas Romanas                              | Sítio Arqueológico Subterrâneo            | Um sistema de túneis subterrâneos usados como cemitérios pelos primeiros cristãos.                                               | Muito Popular     | Experiência histórica única e misteriosa         |\n|   13 | Palácio Quirinal                                | Palácio Histórico                         | A residência oficial do Presidente da República Italiana, com belos jardins e museus.                                            | Muito Popular     | Arquitetura e história italiana                  |\n|   14 | Galleria Doria Pamphilj                         | Museu de Arte                             | Uma galeria de arte privada que abriga uma coleção impressionante de pinturas renascentistas e barrocas.                         | Excelente         | Obras-primas de mestres italianos                |\n|   15 | Villa Borghese                                  | Parque Urbano e Jardins                   | Um vasto parque com jardins, lagos, museus e galerias de arte, ideal para relaxar e apreciar a natureza.                         | Excelente         | Espaço verde e relaxante no coração de Roma      |"
          },
          "metadata": {}
        },
        {
          "output_type": "display_data",
          "data": {
            "text/plain": [
              "<IPython.core.display.Markdown object>"
            ],
            "text/markdown": "---"
          },
          "metadata": {}
        },
        {
          "output_type": "display_data",
          "data": {
            "text/plain": [
              "<IPython.core.display.Markdown object>"
            ],
            "text/markdown": "\n### 🌍 Agente Iniciando Pesquisa para: **Florença, Itália**"
          },
          "metadata": {}
        },
        {
          "output_type": "display_data",
          "data": {
            "text/plain": [
              "<IPython.core.display.Markdown object>"
            ],
            "text/markdown": "🧠 *Agente consultando Gemini sobre atrações em: **Florença, Itália** (Top 15)...*"
          },
          "metadata": {}
        },
        {
          "output_type": "display_data",
          "data": {
            "text/plain": [
              "<IPython.core.display.Markdown object>"
            ],
            "text/markdown": "✅ *Gemini retornou 15 sugestões de atrações para Florença.*"
          },
          "metadata": {}
        },
        {
          "output_type": "display_data",
          "data": {
            "text/plain": [
              "<IPython.core.display.Markdown object>"
            ],
            "text/markdown": "--- Pesquisa para **Florença, Itália** finalizada pelo agente. ---"
          },
          "metadata": {}
        },
        {
          "output_type": "display_data",
          "data": {
            "text/plain": [
              "<IPython.core.display.Markdown object>"
            ],
            "text/markdown": "\n## 📍 Destino: **Florença, Itália**"
          },
          "metadata": {}
        },
        {
          "output_type": "display_data",
          "data": {
            "text/plain": [
              "<IPython.core.display.Markdown object>"
            ],
            "text/markdown": "🗓️ **Período:** 2025-09-16 a 2025-09-19"
          },
          "metadata": {}
        },
        {
          "output_type": "display_data",
          "data": {
            "text/plain": [
              "<IPython.core.display.Markdown object>"
            ],
            "text/markdown": "🏨 **Hospedagem:** Hotel Bodoni"
          },
          "metadata": {}
        },
        {
          "output_type": "display_data",
          "data": {
            "text/plain": [
              "<IPython.core.display.Markdown object>"
            ],
            "text/markdown": "#### 🔍 Links Úteis para Pesquisa Manual Detalhada (abrem em nova aba):"
          },
          "metadata": {}
        },
        {
          "output_type": "display_data",
          "data": {
            "text/plain": [
              "<IPython.core.display.Markdown object>"
            ],
            "text/markdown": "- **[Google Search: Principais atrações](https://www.google.com/search?q=principais+atra%C3%A7%C3%B5es+tur%C3%ADsticas+em+Floren%C3%A7a+It%C3%A1lia)** "
          },
          "metadata": {}
        },
        {
          "output_type": "display_data",
          "data": {
            "text/plain": [
              "<IPython.core.display.Markdown object>"
            ],
            "text/markdown": "- **[Google Maps: Atrações na área](https://www.google.com/maps/search/atra%C3%A7%C3%B5es+tur%C3%ADsticas+em+Floren%C3%A7a%2C+It%C3%A1lia)** "
          },
          "metadata": {}
        },
        {
          "output_type": "display_data",
          "data": {
            "text/plain": [
              "<IPython.core.display.Markdown object>"
            ],
            "text/markdown": "- **[Google Maps: Visão geral da cidade](https://www.google.com/maps/place/Floren%C3%A7a%2C+It%C3%A1lia)** "
          },
          "metadata": {}
        },
        {
          "output_type": "display_data",
          "data": {
            "text/plain": [
              "<IPython.core.display.Markdown object>"
            ],
            "text/markdown": "#### ✨ Sugestões de Atrações Principais (via Agente Gemini):"
          },
          "metadata": {}
        },
        {
          "output_type": "display_data",
          "data": {
            "text/plain": [
              "<IPython.core.display.Markdown object>"
            ],
            "text/markdown": "|   Nº | Atração                      | Tipo Principal       | Descrição Enxuta                                                                                                              | Avaliação Geral   | Destaque Principal                                   |\n|-----:|:-----------------------------|:---------------------|:------------------------------------------------------------------------------------------------------------------------------|:------------------|:-----------------------------------------------------|\n|    1 | Galeria da Academia          | Museu de Arte        | Abriga a maior coleção de obras de arte de Michelangelo, incluindo o David e as pinturas da Capela Sistina.                   | Excelente         | Coleção de obras-primas de Michelangelo              |\n|    2 | Catedral de Florença (Duomo) | Catedral Gótica      | Uma obra-prima da arquitetura gótica italiana, com a sua cúpula de Brunelleschi e o Campanário de Giotto.                     | Excelente         | Arquitetura icônica e vistas panorâmicas             |\n|    3 | Ponte Vecchio                | Ponte Histórica      | Uma ponte medieval única, famosa pelas lojas construídas ao longo dela.                                                       | Muito Popular     | Arquitetura medieval e charme único                  |\n|    4 | Palazzo Pitti                | Palácio Histórico    | Um grande palácio renascentista que abriga cinco museus, incluindo a Galeria de Arte Moderna e o Museu do Figurino e da Moda. | Excelente         | Coleções de arte e arquitetura impressionante        |\n|    5 | Uffizi Gallery               | Museu de Arte        | Um dos museus de arte mais importantes do mundo, com uma coleção excepcional de pinturas renascentistas.                      | Excelente         | Coleção de arte renascentista incomparável           |\n|    6 | Piazza della Signoria        | Praça Histórica      | Uma praça pública histórica no coração de Florença, cercada por edifícios importantes e esculturas.                           | Muito Popular     | Atmosfera vibrante e arquitetura histórica           |\n|    7 | Palazzo Vecchio              | Palácio Municipal    | O antigo palácio do governo de Florença, com uma rica história e obras de arte impressionantes.                               | Excelente         | História e arquitetura renascentista                 |\n|    8 | Boboli Gardens               | Jardim Histórico     | Um dos mais importantes jardins italianos, com fontes, esculturas e paisagismo requintado.                                    | Excelente         | Beleza paisagística e serenidade                     |\n|    9 | Mercado de San Lorenzo       | Mercado Histórico    | Um mercado vibrante com produtos locais, artesanato e artigos de couro.                                                       | Muito Popular     | Experiência de compras autêntica e atmosfera animada |\n|   10 | Basílica de Santa Croce      | Basílica Franciscana | Uma basílica gótica que abriga os túmulos de muitos personagens importantes da história italiana.                             | Excelente         | Arquitetura gótica e importância histórica           |\n|   11 | Piazzale Michelangelo        | Mirante Panorâmico   | Um mirante com vistas panorâmicas deslumbrantes da cidade de Florença.                                                        | Excelente         | Vistas panorâmicas de tirar o fôlego                 |\n|   12 | Ponte Santa Trinita          | Ponte Histórica      | Uma elegante ponte de pedra sobre o rio Arno, com vistas encantadoras.                                                        | Muito Popular     | Beleza arquitetônica e vistas do rio Arno            |\n|   13 | Bargello Museum              | Museu de Escultura   | Um museu que abriga uma coleção excepcional de esculturas renascentistas, incluindo obras de Donatello e Michelangelo.        | Excelente         | Coleção de esculturas renascentistas                 |\n|   14 | Medici Chapels               | Complexo Funerário   | Um complexo funerário suntuoso que mostra a riqueza e o poder da família Medici.                                              | Excelente         | Arquitetura e decoração opulentas                    |\n|   15 | Palazzo Davanzati            | Museu de História    | Um museu que oferece uma visão fascinante da vida de uma rica família florentina no século XIV.                               | Excelente         | Visão da vida florentina medieval                    |"
          },
          "metadata": {}
        },
        {
          "output_type": "display_data",
          "data": {
            "text/plain": [
              "<IPython.core.display.Markdown object>"
            ],
            "text/markdown": "---"
          },
          "metadata": {}
        },
        {
          "output_type": "display_data",
          "data": {
            "text/plain": [
              "<IPython.core.display.Markdown object>"
            ],
            "text/markdown": "\n### 🌍 Agente Iniciando Pesquisa para: **Viena, Aústria**"
          },
          "metadata": {}
        },
        {
          "output_type": "display_data",
          "data": {
            "text/plain": [
              "<IPython.core.display.Markdown object>"
            ],
            "text/markdown": "🧠 *Agente consultando Gemini sobre atrações em: **Viena, Aústria** (Top 15)...*"
          },
          "metadata": {}
        },
        {
          "output_type": "display_data",
          "data": {
            "text/plain": [
              "<IPython.core.display.Markdown object>"
            ],
            "text/markdown": "✅ *Gemini retornou 15 sugestões de atrações para Viena.*"
          },
          "metadata": {}
        },
        {
          "output_type": "display_data",
          "data": {
            "text/plain": [
              "<IPython.core.display.Markdown object>"
            ],
            "text/markdown": "--- Pesquisa para **Viena, Aústria** finalizada pelo agente. ---"
          },
          "metadata": {}
        },
        {
          "output_type": "display_data",
          "data": {
            "text/plain": [
              "<IPython.core.display.Markdown object>"
            ],
            "text/markdown": "\n## 📍 Destino: **Viena, Aústria**"
          },
          "metadata": {}
        },
        {
          "output_type": "display_data",
          "data": {
            "text/plain": [
              "<IPython.core.display.Markdown object>"
            ],
            "text/markdown": "🗓️ **Período:** 2025-09-20 a 2025-09-24"
          },
          "metadata": {}
        },
        {
          "output_type": "display_data",
          "data": {
            "text/plain": [
              "<IPython.core.display.Markdown object>"
            ],
            "text/markdown": "🏨 **Hospedagem:** Hilton Vienna Park"
          },
          "metadata": {}
        },
        {
          "output_type": "display_data",
          "data": {
            "text/plain": [
              "<IPython.core.display.Markdown object>"
            ],
            "text/markdown": "#### 🔍 Links Úteis para Pesquisa Manual Detalhada (abrem em nova aba):"
          },
          "metadata": {}
        },
        {
          "output_type": "display_data",
          "data": {
            "text/plain": [
              "<IPython.core.display.Markdown object>"
            ],
            "text/markdown": "- **[Google Search: Principais atrações](https://www.google.com/search?q=principais+atra%C3%A7%C3%B5es+tur%C3%ADsticas+em+Viena+A%C3%BAstria)** "
          },
          "metadata": {}
        },
        {
          "output_type": "display_data",
          "data": {
            "text/plain": [
              "<IPython.core.display.Markdown object>"
            ],
            "text/markdown": "- **[Google Maps: Atrações na área](https://www.google.com/maps/search/atra%C3%A7%C3%B5es+tur%C3%ADsticas+em+Viena%2C+A%C3%BAstria)** "
          },
          "metadata": {}
        },
        {
          "output_type": "display_data",
          "data": {
            "text/plain": [
              "<IPython.core.display.Markdown object>"
            ],
            "text/markdown": "- **[Google Maps: Visão geral da cidade](https://www.google.com/maps/place/Viena%2C+A%C3%BAstria)** "
          },
          "metadata": {}
        },
        {
          "output_type": "display_data",
          "data": {
            "text/plain": [
              "<IPython.core.display.Markdown object>"
            ],
            "text/markdown": "#### ✨ Sugestões de Atrações Principais (via Agente Gemini):"
          },
          "metadata": {}
        },
        {
          "output_type": "display_data",
          "data": {
            "text/plain": [
              "<IPython.core.display.Markdown object>"
            ],
            "text/markdown": "|   Nº | Atração                       | Tipo Principal                 | Descrição Enxuta                                                                                                                                    | Avaliação Geral   | Destaque Principal                                     |\n|-----:|:------------------------------|:-------------------------------|:----------------------------------------------------------------------------------------------------------------------------------------------------|:------------------|:-------------------------------------------------------|\n|    1 | Palácio de Hofburg            | Complexo de Palácios Imperiais | Residência de inverno dos Habsburgos por séculos, abriga museus, capelas e os Apartamentos Imperiais, mostrando a opulência da monarquia austríaca. | Excelente         | Arquitetura imperial e história rica                   |\n|    2 | Palácio de Schönbrunn         | Palácio Barroco e Jardins      | Residência de verão dos Habsburgos, com magníficos jardins, fontes, e o interior opulento do palácio, um exemplo da arquitetura barroca austríaca.  | Excelente         | Jardins exuberantes e arquitetura barroca deslumbrante |\n|    3 | Catedral de Santo Estêvão     | Catedral Gótica                | Símbolo de Viena, com sua arquitetura gótica impressionante, tesouros históricos e vistas panorâmicas do topo da torre sul.                         | Excelente         | Arquitetura gótica icônica e vistas panorâmicas        |\n|    4 | Museu de História da Arte     | Museu de Arte e Antiguidades   | Coleção excepcional de arte mundial, desde a antiguidade até o século XVIII, com obras de artistas como Rafael, Michelangelo e Rembrandt.           | Excelente         | Coleção de arte mundialmente famosa                    |\n|    5 | Albertina                     | Museu de Arte Gráfica          | Um dos maiores museus de arte gráfica do mundo, com uma coleção impressionante de desenhos, gravuras e fotografias.                                 | Muito Popular     | Coleção abrangente de arte gráfica                     |\n|    6 | Belvedere                     | Museu de Arte e Palácio        | Palácio barroco que abriga a maior coleção de obras de Gustav Klimt, incluindo 'O Beijo', além de outras obras de arte austríaca.                   | Excelente         | Obras-primas de Gustav Klimt e arquitetura barroca     |\n|    7 | Naschmarkt                    | Mercado Histórico              | Um dos maiores e mais antigos mercados ao ar livre da Europa, oferecendo uma variedade de produtos frescos, especiarias e comidas internacionais.   | Muito Popular     | Experiência gastronômica e cultural vibrante           |\n|    8 | Prater                        | Parque de Diversões Histórico  | Parque de diversões icônico com a famosa Roda Gigante de Viena, oferecendo diversão para todas as idades.                                           | Muito Popular     | Roda Gigante e diversão para toda a família            |\n|    9 | Casa da Música                | Centro de Música Moderna       | Centro de concertos moderno e icônico com arquitetura inovadora e uma programação diversificada de eventos musicais.                                | Muito Popular     | Arquitetura moderna e concertos de alta qualidade      |\n|   10 | Danúbio                       | Rio e Passeios de Barco        | Passeios de barco pelo rio Danúbio oferecem vistas deslumbrantes da cidade e seus marcos históricos.                                                | Muito Popular     | Vistas panorâmicas da cidade pelo rio                  |\n|   11 | Stephansplatz                 | Praça Pública Histórica        | Praça central de Viena, localizada em frente à Catedral de Santo Estêvão, com arquitetura histórica e atmosfera vibrante.                           | Muito Popular     | Coração histórico de Viena e atmosfera vibrante        |\n|   12 | Volksgarten                   | Parque Urbano                  | Belo parque no centro de Viena, com jardins, monumentos e o famoso Teatro de Verão.                                                                 | Muito Popular     | Espaço verde tranquilo no centro da cidade             |\n|   13 | Museu do Leopold              | Museu de Arte Austríaca        | Coleção abrangente de arte austríaca do século XIX e XX, com obras importantes do Expressionismo e da Secessão Vienense.                            | Muito Popular     | Arte austríaca do século XX                            |\n|   14 | Palácio de Belvedere Inferior | Museu de Arte e Palácio        | Parte do complexo Belvedere, abriga uma coleção impressionante de arte austríaca, incluindo obras de Gustav Klimt e Egon Schiele.                   | Excelente         | Coleção de arte austríaca e arquitetura barroca        |\n|   15 | Donauturm                     | Mirante Panorâmico             | Torre de televisão com um restaurante giratório e um mirante que oferece vistas panorâmicas de 360 graus de Viena.                                  | Muito Popular     | Vistas panorâmicas de Viena                            |"
          },
          "metadata": {}
        },
        {
          "output_type": "display_data",
          "data": {
            "text/plain": [
              "<IPython.core.display.Markdown object>"
            ],
            "text/markdown": "---"
          },
          "metadata": {}
        },
        {
          "output_type": "display_data",
          "data": {
            "text/plain": [
              "<IPython.core.display.Markdown object>"
            ],
            "text/markdown": "\n💾 *Relatório completo também salvo em `planejamento_viagem_atracoes.json`.*"
          },
          "metadata": {}
        }
      ]
    },
    {
      "cell_type": "code",
      "metadata": {
        "colab": {
          "base_uri": "https://localhost:8080/",
          "height": 1000
        },
        "collapsed": true,
        "id": "4b422ff2",
        "outputId": "c0bb6a7f-159f-45bc-d587-af9dd4574d20"
      },
      "source": [
        "dados_compilados = executar_planejador_viagem(\"/content/europa.csv\")"
      ],
      "execution_count": 14,
      "outputs": [
        {
          "output_type": "display_data",
          "data": {
            "text/plain": [
              "<IPython.core.display.Markdown object>"
            ],
            "text/markdown": "### Arquivo de Viagem (`/content/europa.csv`)"
          },
          "metadata": {}
        },
        {
          "output_type": "display_data",
          "data": {
            "text/plain": [
              "     cidade     pais data_chegada data_partida                    hospedagem\n",
              "0      Roma   Itália   2025-09-13   2025-09-16  Via Francesco Caracciolo n.7\n",
              "1  Florença   Itália   2025-09-16   2025-09-19                  Hotel Bodoni\n",
              "2     Viena  Aústria   2025-09-20   2025-09-24            Hilton Vienna Park"
            ],
            "text/html": [
              "\n",
              "  <div id=\"df-f03097f4-3752-48e4-8c94-30936a0aed3b\" class=\"colab-df-container\">\n",
              "    <div>\n",
              "<style scoped>\n",
              "    .dataframe tbody tr th:only-of-type {\n",
              "        vertical-align: middle;\n",
              "    }\n",
              "\n",
              "    .dataframe tbody tr th {\n",
              "        vertical-align: top;\n",
              "    }\n",
              "\n",
              "    .dataframe thead th {\n",
              "        text-align: right;\n",
              "    }\n",
              "</style>\n",
              "<table border=\"1\" class=\"dataframe\">\n",
              "  <thead>\n",
              "    <tr style=\"text-align: right;\">\n",
              "      <th></th>\n",
              "      <th>cidade</th>\n",
              "      <th>pais</th>\n",
              "      <th>data_chegada</th>\n",
              "      <th>data_partida</th>\n",
              "      <th>hospedagem</th>\n",
              "    </tr>\n",
              "  </thead>\n",
              "  <tbody>\n",
              "    <tr>\n",
              "      <th>0</th>\n",
              "      <td>Roma</td>\n",
              "      <td>Itália</td>\n",
              "      <td>2025-09-13</td>\n",
              "      <td>2025-09-16</td>\n",
              "      <td>Via Francesco Caracciolo n.7</td>\n",
              "    </tr>\n",
              "    <tr>\n",
              "      <th>1</th>\n",
              "      <td>Florença</td>\n",
              "      <td>Itália</td>\n",
              "      <td>2025-09-16</td>\n",
              "      <td>2025-09-19</td>\n",
              "      <td>Hotel Bodoni</td>\n",
              "    </tr>\n",
              "    <tr>\n",
              "      <th>2</th>\n",
              "      <td>Viena</td>\n",
              "      <td>Aústria</td>\n",
              "      <td>2025-09-20</td>\n",
              "      <td>2025-09-24</td>\n",
              "      <td>Hilton Vienna Park</td>\n",
              "    </tr>\n",
              "  </tbody>\n",
              "</table>\n",
              "</div>\n",
              "    <div class=\"colab-df-buttons\">\n",
              "\n",
              "  <div class=\"colab-df-container\">\n",
              "    <button class=\"colab-df-convert\" onclick=\"convertToInteractive('df-f03097f4-3752-48e4-8c94-30936a0aed3b')\"\n",
              "            title=\"Convert this dataframe to an interactive table.\"\n",
              "            style=\"display:none;\">\n",
              "\n",
              "  <svg xmlns=\"http://www.w3.org/2000/svg\" height=\"24px\" viewBox=\"0 -960 960 960\">\n",
              "    <path d=\"M120-120v-720h720v720H120Zm60-500h600v-160H180v160Zm220 220h160v-160H400v160Zm0 220h160v-160H400v160ZM180-400h160v-160H180v160Zm440 0h160v-160H620v160ZM180-180h160v-160H180v160Zm440 0h160v-160H620v160Z\"/>\n",
              "  </svg>\n",
              "    </button>\n",
              "\n",
              "  <style>\n",
              "    .colab-df-container {\n",
              "      display:flex;\n",
              "      gap: 12px;\n",
              "    }\n",
              "\n",
              "    .colab-df-convert {\n",
              "      background-color: #E8F0FE;\n",
              "      border: none;\n",
              "      border-radius: 50%;\n",
              "      cursor: pointer;\n",
              "      display: none;\n",
              "      fill: #1967D2;\n",
              "      height: 32px;\n",
              "      padding: 0 0 0 0;\n",
              "      width: 32px;\n",
              "    }\n",
              "\n",
              "    .colab-df-convert:hover {\n",
              "      background-color: #E2EBFA;\n",
              "      box-shadow: 0px 1px 2px rgba(60, 64, 67, 0.3), 0px 1px 3px 1px rgba(60, 64, 67, 0.15);\n",
              "      fill: #174EA6;\n",
              "    }\n",
              "\n",
              "    .colab-df-buttons div {\n",
              "      margin-bottom: 4px;\n",
              "    }\n",
              "\n",
              "    [theme=dark] .colab-df-convert {\n",
              "      background-color: #3B4455;\n",
              "      fill: #D2E3FC;\n",
              "    }\n",
              "\n",
              "    [theme=dark] .colab-df-convert:hover {\n",
              "      background-color: #434B5C;\n",
              "      box-shadow: 0px 1px 3px 1px rgba(0, 0, 0, 0.15);\n",
              "      filter: drop-shadow(0px 1px 2px rgba(0, 0, 0, 0.3));\n",
              "      fill: #FFFFFF;\n",
              "    }\n",
              "  </style>\n",
              "\n",
              "    <script>\n",
              "      const buttonEl =\n",
              "        document.querySelector('#df-f03097f4-3752-48e4-8c94-30936a0aed3b button.colab-df-convert');\n",
              "      buttonEl.style.display =\n",
              "        google.colab.kernel.accessAllowed ? 'block' : 'none';\n",
              "\n",
              "      async function convertToInteractive(key) {\n",
              "        const element = document.querySelector('#df-f03097f4-3752-48e4-8c94-30936a0aed3b');\n",
              "        const dataTable =\n",
              "          await google.colab.kernel.invokeFunction('convertToInteractive',\n",
              "                                                    [key], {});\n",
              "        if (!dataTable) return;\n",
              "\n",
              "        const docLinkHtml = 'Like what you see? Visit the ' +\n",
              "          '<a target=\"_blank\" href=https://colab.research.google.com/notebooks/data_table.ipynb>data table notebook</a>'\n",
              "          + ' to learn more about interactive tables.';\n",
              "        element.innerHTML = '';\n",
              "        dataTable['output_type'] = 'display_data';\n",
              "        await google.colab.output.renderOutput(dataTable, element);\n",
              "        const docLink = document.createElement('div');\n",
              "        docLink.innerHTML = docLinkHtml;\n",
              "        element.appendChild(docLink);\n",
              "      }\n",
              "    </script>\n",
              "  </div>\n",
              "\n",
              "\n",
              "    <div id=\"df-390582a3-aa32-4dfb-b831-ab42cb4788e2\">\n",
              "      <button class=\"colab-df-quickchart\" onclick=\"quickchart('df-390582a3-aa32-4dfb-b831-ab42cb4788e2')\"\n",
              "                title=\"Suggest charts\"\n",
              "                style=\"display:none;\">\n",
              "\n",
              "<svg xmlns=\"http://www.w3.org/2000/svg\" height=\"24px\"viewBox=\"0 0 24 24\"\n",
              "     width=\"24px\">\n",
              "    <g>\n",
              "        <path d=\"M19 3H5c-1.1 0-2 .9-2 2v14c0 1.1.9 2 2 2h14c1.1 0 2-.9 2-2V5c0-1.1-.9-2-2-2zM9 17H7v-7h2v7zm4 0h-2V7h2v10zm4 0h-2v-4h2v4z\"/>\n",
              "    </g>\n",
              "</svg>\n",
              "      </button>\n",
              "\n",
              "<style>\n",
              "  .colab-df-quickchart {\n",
              "      --bg-color: #E8F0FE;\n",
              "      --fill-color: #1967D2;\n",
              "      --hover-bg-color: #E2EBFA;\n",
              "      --hover-fill-color: #174EA6;\n",
              "      --disabled-fill-color: #AAA;\n",
              "      --disabled-bg-color: #DDD;\n",
              "  }\n",
              "\n",
              "  [theme=dark] .colab-df-quickchart {\n",
              "      --bg-color: #3B4455;\n",
              "      --fill-color: #D2E3FC;\n",
              "      --hover-bg-color: #434B5C;\n",
              "      --hover-fill-color: #FFFFFF;\n",
              "      --disabled-bg-color: #3B4455;\n",
              "      --disabled-fill-color: #666;\n",
              "  }\n",
              "\n",
              "  .colab-df-quickchart {\n",
              "    background-color: var(--bg-color);\n",
              "    border: none;\n",
              "    border-radius: 50%;\n",
              "    cursor: pointer;\n",
              "    display: none;\n",
              "    fill: var(--fill-color);\n",
              "    height: 32px;\n",
              "    padding: 0;\n",
              "    width: 32px;\n",
              "  }\n",
              "\n",
              "  .colab-df-quickchart:hover {\n",
              "    background-color: var(--hover-bg-color);\n",
              "    box-shadow: 0 1px 2px rgba(60, 64, 67, 0.3), 0 1px 3px 1px rgba(60, 64, 67, 0.15);\n",
              "    fill: var(--button-hover-fill-color);\n",
              "  }\n",
              "\n",
              "  .colab-df-quickchart-complete:disabled,\n",
              "  .colab-df-quickchart-complete:disabled:hover {\n",
              "    background-color: var(--disabled-bg-color);\n",
              "    fill: var(--disabled-fill-color);\n",
              "    box-shadow: none;\n",
              "  }\n",
              "\n",
              "  .colab-df-spinner {\n",
              "    border: 2px solid var(--fill-color);\n",
              "    border-color: transparent;\n",
              "    border-bottom-color: var(--fill-color);\n",
              "    animation:\n",
              "      spin 1s steps(1) infinite;\n",
              "  }\n",
              "\n",
              "  @keyframes spin {\n",
              "    0% {\n",
              "      border-color: transparent;\n",
              "      border-bottom-color: var(--fill-color);\n",
              "      border-left-color: var(--fill-color);\n",
              "    }\n",
              "    20% {\n",
              "      border-color: transparent;\n",
              "      border-left-color: var(--fill-color);\n",
              "      border-top-color: var(--fill-color);\n",
              "    }\n",
              "    30% {\n",
              "      border-color: transparent;\n",
              "      border-left-color: var(--fill-color);\n",
              "      border-top-color: var(--fill-color);\n",
              "      border-right-color: var(--fill-color);\n",
              "    }\n",
              "    40% {\n",
              "      border-color: transparent;\n",
              "      border-right-color: var(--fill-color);\n",
              "      border-top-color: var(--fill-color);\n",
              "    }\n",
              "    60% {\n",
              "      border-color: transparent;\n",
              "      border-right-color: var(--fill-color);\n",
              "    }\n",
              "    80% {\n",
              "      border-color: transparent;\n",
              "      border-right-color: var(--fill-color);\n",
              "      border-bottom-color: var(--fill-color);\n",
              "    }\n",
              "    90% {\n",
              "      border-color: transparent;\n",
              "      border-bottom-color: var(--fill-color);\n",
              "    }\n",
              "  }\n",
              "</style>\n",
              "\n",
              "      <script>\n",
              "        async function quickchart(key) {\n",
              "          const quickchartButtonEl =\n",
              "            document.querySelector('#' + key + ' button');\n",
              "          quickchartButtonEl.disabled = true;  // To prevent multiple clicks.\n",
              "          quickchartButtonEl.classList.add('colab-df-spinner');\n",
              "          try {\n",
              "            const charts = await google.colab.kernel.invokeFunction(\n",
              "                'suggestCharts', [key], {});\n",
              "          } catch (error) {\n",
              "            console.error('Error during call to suggestCharts:', error);\n",
              "          }\n",
              "          quickchartButtonEl.classList.remove('colab-df-spinner');\n",
              "          quickchartButtonEl.classList.add('colab-df-quickchart-complete');\n",
              "        }\n",
              "        (() => {\n",
              "          let quickchartButtonEl =\n",
              "            document.querySelector('#df-390582a3-aa32-4dfb-b831-ab42cb4788e2 button');\n",
              "          quickchartButtonEl.style.display =\n",
              "            google.colab.kernel.accessAllowed ? 'block' : 'none';\n",
              "        })();\n",
              "      </script>\n",
              "    </div>\n",
              "\n",
              "    </div>\n",
              "  </div>\n"
            ],
            "application/vnd.google.colaboratory.intrinsic+json": {
              "type": "dataframe",
              "summary": "{\n  \"name\": \"dados_compilados = executar_planejador_viagem(\\\"/content/europa\",\n  \"rows\": 3,\n  \"fields\": [\n    {\n      \"column\": \"cidade\",\n      \"properties\": {\n        \"dtype\": \"string\",\n        \"num_unique_values\": 3,\n        \"samples\": [\n          \"Roma\",\n          \"Floren\\u00e7a\",\n          \"Viena\"\n        ],\n        \"semantic_type\": \"\",\n        \"description\": \"\"\n      }\n    },\n    {\n      \"column\": \"pais\",\n      \"properties\": {\n        \"dtype\": \"string\",\n        \"num_unique_values\": 2,\n        \"samples\": [\n          \"A\\u00fastria\",\n          \"It\\u00e1lia\"\n        ],\n        \"semantic_type\": \"\",\n        \"description\": \"\"\n      }\n    },\n    {\n      \"column\": \"data_chegada\",\n      \"properties\": {\n        \"dtype\": \"object\",\n        \"num_unique_values\": 3,\n        \"samples\": [\n          \"2025-09-13\",\n          \"2025-09-16\"\n        ],\n        \"semantic_type\": \"\",\n        \"description\": \"\"\n      }\n    },\n    {\n      \"column\": \"data_partida\",\n      \"properties\": {\n        \"dtype\": \"object\",\n        \"num_unique_values\": 3,\n        \"samples\": [\n          \"2025-09-16\",\n          \"2025-09-19\"\n        ],\n        \"semantic_type\": \"\",\n        \"description\": \"\"\n      }\n    },\n    {\n      \"column\": \"hospedagem\",\n      \"properties\": {\n        \"dtype\": \"string\",\n        \"num_unique_values\": 3,\n        \"samples\": [\n          \"Via Francesco Caracciolo n.7\",\n          \"Hotel Bodoni\"\n        ],\n        \"semantic_type\": \"\",\n        \"description\": \"\"\n      }\n    }\n  ]\n}"
            }
          },
          "metadata": {}
        },
        {
          "output_type": "display_data",
          "data": {
            "text/plain": [
              "<IPython.core.display.Markdown object>"
            ],
            "text/markdown": "\n# 🗺️ **Relatório de Pesquisa de Atrações do Agente** ✈️"
          },
          "metadata": {}
        },
        {
          "output_type": "display_data",
          "data": {
            "text/plain": [
              "<IPython.core.display.Markdown object>"
            ],
            "text/markdown": "\n### 🌍 Agente Iniciando Pesquisa para: **Roma, Itália**"
          },
          "metadata": {}
        },
        {
          "output_type": "display_data",
          "data": {
            "text/plain": [
              "<IPython.core.display.Markdown object>"
            ],
            "text/markdown": "🧠 *Agente consultando Gemini sobre atrações em: **Roma, Itália** (Top 15)...*"
          },
          "metadata": {}
        },
        {
          "output_type": "display_data",
          "data": {
            "text/plain": [
              "<IPython.core.display.Markdown object>"
            ],
            "text/markdown": "✅ *Gemini retornou 15 sugestões de atrações para Roma.*"
          },
          "metadata": {}
        },
        {
          "output_type": "display_data",
          "data": {
            "text/plain": [
              "<IPython.core.display.Markdown object>"
            ],
            "text/markdown": "--- Pesquisa para **Roma, Itália** finalizada pelo agente. ---"
          },
          "metadata": {}
        },
        {
          "output_type": "display_data",
          "data": {
            "text/plain": [
              "<IPython.core.display.Markdown object>"
            ],
            "text/markdown": "\n## 📍 Destino: **Roma, Itália**"
          },
          "metadata": {}
        },
        {
          "output_type": "display_data",
          "data": {
            "text/plain": [
              "<IPython.core.display.Markdown object>"
            ],
            "text/markdown": "🗓️ **Período:** 2025-09-13 a 2025-09-16"
          },
          "metadata": {}
        },
        {
          "output_type": "display_data",
          "data": {
            "text/plain": [
              "<IPython.core.display.Markdown object>"
            ],
            "text/markdown": "🏨 **Hospedagem:** Via Francesco Caracciolo n.7"
          },
          "metadata": {}
        },
        {
          "output_type": "display_data",
          "data": {
            "text/plain": [
              "<IPython.core.display.Markdown object>"
            ],
            "text/markdown": "#### 🔍 Links Úteis para Pesquisa Manual Detalhada (abrem em nova aba):"
          },
          "metadata": {}
        },
        {
          "output_type": "display_data",
          "data": {
            "text/plain": [
              "<IPython.core.display.Markdown object>"
            ],
            "text/markdown": "- **[Google Search: Principais atrações](https://www.google.com/search?q=principais+atra%C3%A7%C3%B5es+tur%C3%ADsticas+em+Roma+It%C3%A1lia)** "
          },
          "metadata": {}
        },
        {
          "output_type": "display_data",
          "data": {
            "text/plain": [
              "<IPython.core.display.Markdown object>"
            ],
            "text/markdown": "- **[Google Maps: Atrações na área](https://www.google.com/maps/search/atra%C3%A7%C3%B5es+tur%C3%ADsticas+em+Roma%2C+It%C3%A1lia)** "
          },
          "metadata": {}
        },
        {
          "output_type": "display_data",
          "data": {
            "text/plain": [
              "<IPython.core.display.Markdown object>"
            ],
            "text/markdown": "- **[Google Maps: Visão geral da cidade](https://www.google.com/maps/place/Roma%2C+It%C3%A1lia)** "
          },
          "metadata": {}
        },
        {
          "output_type": "display_data",
          "data": {
            "text/plain": [
              "<IPython.core.display.Markdown object>"
            ],
            "text/markdown": "#### ✨ Sugestões de Atrações Principais (via Agente Gemini):"
          },
          "metadata": {}
        },
        {
          "output_type": "display_data",
          "data": {
            "text/plain": [
              "<IPython.core.display.Markdown object>"
            ],
            "text/markdown": "|   Nº | Atração                                          | Tipo Principal                            | Descrição Enxuta                                                                                                                 | Avaliação Geral   | Destaque Principal                                        |\n|-----:|:-------------------------------------------------|:------------------------------------------|:---------------------------------------------------------------------------------------------------------------------------------|:------------------|:----------------------------------------------------------|\n|    1 | Coliseu e Fórum Romano                           | Monumento Nacional e Ruínas Arqueológicas | Símbolo icônico de Roma, o Coliseu é um anfiteatro antigo, enquanto o Fórum Romano revela os restos da antiga cidade romana.     | Excelente         | Experiência histórica inesquecível                        |\n|    2 | Museus do Vaticano (incluindo a Capela Sistina)  | Museu de Arte e Religião                  | Um complexo de museus que abriga uma vasta coleção de arte e artefatos, incluindo os afrescos da Capela Sistina de Michelangelo. | Excelente         | Tesouros artísticos e religiosos inigualáveis             |\n|    3 | Basílica de São Pedro                            | Catedral Católica Romana                  | Uma das maiores e mais importantes igrejas católicas do mundo, com uma arquitetura impressionante e uma rica história.           | Excelente         | Majestosidade arquitetônica e significado religioso       |\n|    4 | Fontana di Trevi                                 | Fonte Barroca                             | Uma das fontes mais famosas do mundo, com uma arquitetura exuberante e um cenário mágico.                                        | Muito Popular     | Beleza e atmosfera romântica                              |\n|    5 | Panteão                                          | Templo Romano                             | Um templo romano bem preservado, conhecido por sua cúpula imponente e sua arquitetura inovadora.                                 | Excelente         | Arquitetura impressionante e engenharia antiga            |\n|    6 | Piazza Navona                                    | Praça Barroca                             | Uma praça vibrante e animada, com fontes deslumbrantes, artistas de rua e uma atmosfera animada.                                 | Muito Popular     | Atmosfera animada e beleza arquitetônica                  |\n|    7 | Espaço de Escadaria Espanhola                    | Escadaria Monumental                      | Uma escadaria imponente que conecta a Piazza di Spagna à Igreja Trinità dei Monti, um ponto de encontro popular.                 | Muito Popular     | Ponto de encontro icônico e vistas panorâmicas            |\n|    8 | Castel Sant'Angelo                               | Castelo Histórico                         | Um castelo histórico com uma longa e fascinante história, oferecendo vistas panorâmicas de Roma.                                 | Excelente         | História fascinante e vistas panorâmicas                  |\n|    9 | Galeria Borghese                                 | Museu de Arte                             | Um museu que abriga uma coleção impressionante de esculturas e pinturas de artistas renascentistas e barrocos.                   | Excelente         | Coleção de arte renascentista e barroca de renome mundial |\n|   10 | Villa Borghese                                   | Parque Urbano                             | Um grande e belo parque com jardins, fontes, museus e galerias, ideal para relaxar e desfrutar da natureza.                      | Muito Popular     | Espaço verde tranquilo no coração de Roma                 |\n|   11 | Campo de' Fiori                                  | Mercado Histórico                         | Um mercado ao ar livre vibrante, onde você pode encontrar produtos frescos, flores e lembranças.                                 | Muito Popular     | Experiência autêntica da vida romana                      |\n|   12 | Circo Máximo                                     | Ruínas Arqueológicas                      | As ruínas de um antigo circo romano, onde as corridas de carros eram realizadas.                                                 | Muito Popular     | Vislumbre da vida na antiga Roma                          |\n|   13 | Janículo                                         | Mirante Panorâmico                        | Um monte que oferece vistas panorâmicas deslumbrantes de Roma, especialmente ao pôr do sol.                                      | Excelente         | Vistas panorâmicas de tirar o fôlego                      |\n|   14 | Catacombas Romanas (ex: Catacombas de Domitilla) | Sítio Arqueológico Subterrâneo            | Um sistema de túneis subterrâneos usados como cemitérios na era cristã primitiva.                                                | Muito Popular     | Experiência histórica e atmosférica única                 |\n|   15 | Palácio do Quirinal                              | Palácio Histórico                         | A residência oficial do Presidente da República Italiana, com belos jardins e uma história rica.                                 | Muito Popular     | História e arquitetura palaciana                          |"
          },
          "metadata": {}
        },
        {
          "output_type": "display_data",
          "data": {
            "text/plain": [
              "<IPython.core.display.Markdown object>"
            ],
            "text/markdown": "---"
          },
          "metadata": {}
        },
        {
          "output_type": "display_data",
          "data": {
            "text/plain": [
              "<IPython.core.display.Markdown object>"
            ],
            "text/markdown": "\n### 🌍 Agente Iniciando Pesquisa para: **Florença, Itália**"
          },
          "metadata": {}
        },
        {
          "output_type": "display_data",
          "data": {
            "text/plain": [
              "<IPython.core.display.Markdown object>"
            ],
            "text/markdown": "🧠 *Agente consultando Gemini sobre atrações em: **Florença, Itália** (Top 15)...*"
          },
          "metadata": {}
        },
        {
          "output_type": "display_data",
          "data": {
            "text/plain": [
              "<IPython.core.display.Markdown object>"
            ],
            "text/markdown": "✅ *Gemini retornou 15 sugestões de atrações para Florença.*"
          },
          "metadata": {}
        },
        {
          "output_type": "display_data",
          "data": {
            "text/plain": [
              "<IPython.core.display.Markdown object>"
            ],
            "text/markdown": "--- Pesquisa para **Florença, Itália** finalizada pelo agente. ---"
          },
          "metadata": {}
        },
        {
          "output_type": "display_data",
          "data": {
            "text/plain": [
              "<IPython.core.display.Markdown object>"
            ],
            "text/markdown": "\n## 📍 Destino: **Florença, Itália**"
          },
          "metadata": {}
        },
        {
          "output_type": "display_data",
          "data": {
            "text/plain": [
              "<IPython.core.display.Markdown object>"
            ],
            "text/markdown": "🗓️ **Período:** 2025-09-16 a 2025-09-19"
          },
          "metadata": {}
        },
        {
          "output_type": "display_data",
          "data": {
            "text/plain": [
              "<IPython.core.display.Markdown object>"
            ],
            "text/markdown": "🏨 **Hospedagem:** Hotel Bodoni"
          },
          "metadata": {}
        },
        {
          "output_type": "display_data",
          "data": {
            "text/plain": [
              "<IPython.core.display.Markdown object>"
            ],
            "text/markdown": "#### 🔍 Links Úteis para Pesquisa Manual Detalhada (abrem em nova aba):"
          },
          "metadata": {}
        },
        {
          "output_type": "display_data",
          "data": {
            "text/plain": [
              "<IPython.core.display.Markdown object>"
            ],
            "text/markdown": "- **[Google Search: Principais atrações](https://www.google.com/search?q=principais+atra%C3%A7%C3%B5es+tur%C3%ADsticas+em+Floren%C3%A7a+It%C3%A1lia)** "
          },
          "metadata": {}
        },
        {
          "output_type": "display_data",
          "data": {
            "text/plain": [
              "<IPython.core.display.Markdown object>"
            ],
            "text/markdown": "- **[Google Maps: Atrações na área](https://www.google.com/maps/search/atra%C3%A7%C3%B5es+tur%C3%ADsticas+em+Floren%C3%A7a%2C+It%C3%A1lia)** "
          },
          "metadata": {}
        },
        {
          "output_type": "display_data",
          "data": {
            "text/plain": [
              "<IPython.core.display.Markdown object>"
            ],
            "text/markdown": "- **[Google Maps: Visão geral da cidade](https://www.google.com/maps/place/Floren%C3%A7a%2C+It%C3%A1lia)** "
          },
          "metadata": {}
        },
        {
          "output_type": "display_data",
          "data": {
            "text/plain": [
              "<IPython.core.display.Markdown object>"
            ],
            "text/markdown": "#### ✨ Sugestões de Atrações Principais (via Agente Gemini):"
          },
          "metadata": {}
        },
        {
          "output_type": "display_data",
          "data": {
            "text/plain": [
              "<IPython.core.display.Markdown object>"
            ],
            "text/markdown": "|   Nº | Atração                      | Tipo Principal          | Descrição Enxuta                                                                                                          | Avaliação Geral   | Destaque Principal                          |\n|-----:|:-----------------------------|:------------------------|:--------------------------------------------------------------------------------------------------------------------------|:------------------|:--------------------------------------------|\n|    1 | Galeria da Academia          | Museu de Arte           | Abriga a maior coleção de obras de Michelangelo, incluindo o David e as pinturas da Capela Sistina.                       | Excelente         | Coleção de obras-primas renascentistas      |\n|    2 | Ponte Vecchio                | Ponte Histórica         | Uma ponte medieval única, famosa pelas lojas construídas ao longo dela, atravessando o rio Arno.                          | Muito Popular     | Arquitetura e vistas icônicas               |\n|    3 | Catedral de Florença (Duomo) | Catedral Gótica         | Uma magnífica catedral com a cúpula de Brunelleschi, um marco da arquitetura renascentista.                               | Excelente         | Arquitetura impressionante e obras de arte  |\n|    4 | Palazzo Pitti                | Palácio Histórico       | Um enorme palácio renascentista que abriga cinco museus, incluindo a Galeria de Arte Moderna.                             | Muito Popular     | Coleções de arte e arquitetura grandiosa    |\n|    5 | Uffizi Gallery               | Museu de Arte           | Um dos museus mais importantes do mundo, com uma vasta coleção de pinturas renascentistas italianas.                      | Excelente         | Obras-primas do Renascimento italiano       |\n|    6 | Piazza della Signoria        | Praça Pública Histórica | Uma praça central com esculturas importantes, palácios e fontes, coração da vida política florentina.                     | Muito Popular     | Atmosfera vibrante e monumentos históricos  |\n|    7 | Palazzo Vecchio              | Palácio Municipal       | O antigo palácio do governo florentino, com salas ricamente decoradas e vistas panorâmicas.                               | Muito Popular     | História e arte florentina                  |\n|    8 | Boboli Gardens               | Jardim Histórico        | Um dos primeiros e mais importantes exemplos de jardim italiano, com fontes, esculturas e paisagismo.                     | Excelente         | Beleza paisagística e esculturas            |\n|    9 | Mercado de San Lorenzo       | Mercado Histórico       | Um mercado vibrante com produtos locais, artesanato e artigos de couro.                                                   | Muito Popular     | Experiência autêntica e compras             |\n|   10 | Piazzale Michelangelo        | Mirante Panorâmico      | Um mirante com vistas deslumbrantes de toda a cidade de Florença.                                                         | Excelente         | Vistas panorâmicas de Florença              |\n|   11 | Capela dos Médici            | Complexo Funerário      | Um complexo funerário opulento que exibe a riqueza e o poder da família Médici.                                           | Muito Popular     | Arte e arquitetura exuberantes              |\n|   12 | Ponte Santa Trinita          | Ponte Histórica         | Uma elegante ponte de pedra sobre o rio Arno, com vistas encantadoras.                                                    | Muito Popular     | Elegância arquitetônica e vistas do rio     |\n|   13 | Bargello Museum              | Museu de Esculturas     | Um museu que abriga uma coleção impressionante de esculturas renascentistas, incluindo obras de Donatello e Michelangelo. | Excelente         | Coleção de esculturas renascentistas        |\n|   14 | Palazzo Davanzati            | Museu Histórico         | Um museu que mostra a vida de uma rica família florentina no século XIV.                                                  | Muito Popular     | Visão da vida florentina medieval           |\n|   15 | Basílica de Santa Croce      | Basílica Franciscana    | Uma basílica gótica que abriga os túmulos de figuras importantes como Michelangelo e Galileu.                             | Excelente         | Arquitetura e túmulos de figuras históricas |"
          },
          "metadata": {}
        },
        {
          "output_type": "display_data",
          "data": {
            "text/plain": [
              "<IPython.core.display.Markdown object>"
            ],
            "text/markdown": "---"
          },
          "metadata": {}
        },
        {
          "output_type": "display_data",
          "data": {
            "text/plain": [
              "<IPython.core.display.Markdown object>"
            ],
            "text/markdown": "\n### 🌍 Agente Iniciando Pesquisa para: **Viena, Aústria**"
          },
          "metadata": {}
        },
        {
          "output_type": "display_data",
          "data": {
            "text/plain": [
              "<IPython.core.display.Markdown object>"
            ],
            "text/markdown": "🧠 *Agente consultando Gemini sobre atrações em: **Viena, Aústria** (Top 15)...*"
          },
          "metadata": {}
        },
        {
          "output_type": "display_data",
          "data": {
            "text/plain": [
              "<IPython.core.display.Markdown object>"
            ],
            "text/markdown": "✅ *Gemini retornou 15 sugestões de atrações para Viena.*"
          },
          "metadata": {}
        },
        {
          "output_type": "display_data",
          "data": {
            "text/plain": [
              "<IPython.core.display.Markdown object>"
            ],
            "text/markdown": "--- Pesquisa para **Viena, Aústria** finalizada pelo agente. ---"
          },
          "metadata": {}
        },
        {
          "output_type": "display_data",
          "data": {
            "text/plain": [
              "<IPython.core.display.Markdown object>"
            ],
            "text/markdown": "\n## 📍 Destino: **Viena, Aústria**"
          },
          "metadata": {}
        },
        {
          "output_type": "display_data",
          "data": {
            "text/plain": [
              "<IPython.core.display.Markdown object>"
            ],
            "text/markdown": "🗓️ **Período:** 2025-09-20 a 2025-09-24"
          },
          "metadata": {}
        },
        {
          "output_type": "display_data",
          "data": {
            "text/plain": [
              "<IPython.core.display.Markdown object>"
            ],
            "text/markdown": "🏨 **Hospedagem:** Hilton Vienna Park"
          },
          "metadata": {}
        },
        {
          "output_type": "display_data",
          "data": {
            "text/plain": [
              "<IPython.core.display.Markdown object>"
            ],
            "text/markdown": "#### 🔍 Links Úteis para Pesquisa Manual Detalhada (abrem em nova aba):"
          },
          "metadata": {}
        },
        {
          "output_type": "display_data",
          "data": {
            "text/plain": [
              "<IPython.core.display.Markdown object>"
            ],
            "text/markdown": "- **[Google Search: Principais atrações](https://www.google.com/search?q=principais+atra%C3%A7%C3%B5es+tur%C3%ADsticas+em+Viena+A%C3%BAstria)** "
          },
          "metadata": {}
        },
        {
          "output_type": "display_data",
          "data": {
            "text/plain": [
              "<IPython.core.display.Markdown object>"
            ],
            "text/markdown": "- **[Google Maps: Atrações na área](https://www.google.com/maps/search/atra%C3%A7%C3%B5es+tur%C3%ADsticas+em+Viena%2C+A%C3%BAstria)** "
          },
          "metadata": {}
        },
        {
          "output_type": "display_data",
          "data": {
            "text/plain": [
              "<IPython.core.display.Markdown object>"
            ],
            "text/markdown": "- **[Google Maps: Visão geral da cidade](https://www.google.com/maps/place/Viena%2C+A%C3%BAstria)** "
          },
          "metadata": {}
        },
        {
          "output_type": "display_data",
          "data": {
            "text/plain": [
              "<IPython.core.display.Markdown object>"
            ],
            "text/markdown": "#### ✨ Sugestões de Atrações Principais (via Agente Gemini):"
          },
          "metadata": {}
        },
        {
          "output_type": "display_data",
          "data": {
            "text/plain": [
              "<IPython.core.display.Markdown object>"
            ],
            "text/markdown": "|   Nº | Atração                       | Tipo Principal                 | Descrição Enxuta                                                                                                                                      | Avaliação Geral   | Destaque Principal                                |\n|-----:|:------------------------------|:-------------------------------|:------------------------------------------------------------------------------------------------------------------------------------------------------|:------------------|:--------------------------------------------------|\n|    1 | Palácio de Schönbrunn         | Palácio Histórico e Jardins    | Residência de verão dos Habsburgos, com exuberantes jardins, fontes e museus, oferecendo um vislumbre da história imperial austríaca.                 | Excelente         | Arquitetura imperial e belos jardins              |\n|    2 | Hofburg                       | Complexo de Palácios           | Antiga residência de inverno dos Habsburgos, abrigando museus, capelas e a famosa Escola Espanhola de Equitação.                                      | Muito Popular     | História imperial e arquitetura magnífica         |\n|    3 | Catedral de Santo Estêvão     | Catedral Gótica                | Símbolo icônico de Viena, com sua arquitetura gótica impressionante, tesouros religiosos e vistas panorâmicas do topo.                                | Excelente         | Arquitetura gótica e importância histórica        |\n|    4 | Museu de História da Arte     | Museu de Arte                  | Coleção excepcional de pinturas, esculturas e objetos de arte de diferentes épocas e culturas, incluindo obras-primas de artistas renomados.          | 4.5/5 estrelas    | Coleção de arte mundialmente famosa               |\n|    5 | Belvedere                     | Palácio e Museu de Arte        | Palácio barroco que abriga a maior coleção de obras de Gustav Klimt, incluindo 'O Beijo'.                                                             | Excelente         | Obras-primas de Gustav Klimt                      |\n|    6 | Prater                        | Parque de Diversões            | Parque de diversões icônico com a famosa Roda Gigante, oferecendo diversão para todas as idades e vistas deslumbrantes da cidade.                     | Muito Popular     | Diversão e vistas panorâmicas                     |\n|    7 | Naschmarkt                    | Mercado Histórico              | Um dos maiores e mais antigos mercados ao ar livre da Europa, oferecendo uma vasta seleção de produtos frescos, especiarias e comidas internacionais. | Muito Popular     | Experiência culinária e atmosfera vibrante        |\n|    8 | Palácio de Belvedere Inferior | Museu de Arte                  | Parte do complexo Belvedere, abriga uma extensa coleção de arte austríaca, desde a Idade Média até o século XX.                                       | 4.5/5 estrelas    | Arte austríaca de diferentes períodos             |\n|    9 | Casa da Música                | Centro Cultural e de Concertos | Centro de concertos moderno e icônico com arquitetura impressionante e programação diversificada de música clássica e contemporânea.                  | Excelente         | Arquitetura moderna e concertos de alta qualidade |\n|   10 | Espaço de Arte Leopold        | Museu de Arte Moderna          | Museu dedicado à arte austríaca do século XX, com uma coleção notável de obras expressionistas e obras de Egon Schiele.                               | 4.5/5 estrelas    | Arte expressionista e obras de Egon Schiele       |\n|   11 | Stephansplatz                 | Praça Histórica                | Praça central de Viena, localizada em frente à Catedral de Santo Estêvão, com atmosfera vibrante e edifícios históricos.                              | Muito Popular     | Atmosfera histórica e centralidade                |\n|   12 | Volksgarten                   | Parque Urbano                  | Parque público tranquilo e bonito, ideal para relaxar, com jardins bem cuidados, monumentos e o famoso Templo de Theseus.                             | Excelente         | Espaço verde e relaxante no centro da cidade      |\n|   13 | Roda Gigante do Prater        | Atração de Entretenimento      | Uma das rodas gigantes mais famosas do mundo, oferecendo vistas panorâmicas de Viena do alto.                                                         | Muito Popular     | Vistas panorâmicas de Viena                       |\n|   14 | Museu Albertina               | Museu de Artes Gráficas        | Abriga uma das maiores e mais importantes coleções de artes gráficas do mundo, incluindo desenhos, gravuras e fotografias.                            | 4.6/5 estrelas    | Coleção de artes gráficas de renome mundial       |\n|   15 | Danúbio                       | Rio e Passeios de Barco        | O rio Danúbio atravessa Viena, oferecendo passeios de barco para apreciar a cidade de uma perspectiva diferente.                                      | Muito Popular     | Passeios de barco e vistas únicas da cidade       |"
          },
          "metadata": {}
        },
        {
          "output_type": "display_data",
          "data": {
            "text/plain": [
              "<IPython.core.display.Markdown object>"
            ],
            "text/markdown": "---"
          },
          "metadata": {}
        },
        {
          "output_type": "display_data",
          "data": {
            "text/plain": [
              "<IPython.core.display.Markdown object>"
            ],
            "text/markdown": "\n💾 *Relatório completo também salvo em `planejamento_viagem_atracoes.json`.*"
          },
          "metadata": {}
        }
      ]
    }
  ]
}