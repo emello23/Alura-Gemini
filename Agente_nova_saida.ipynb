{
  "nbformat": 4,
  "nbformat_minor": 0,
  "metadata": {
    "colab": {
      "provenance": [],
      "include_colab_link": true
    },
    "kernelspec": {
      "name": "python3",
      "display_name": "Python 3"
    },
    "language_info": {
      "name": "python"
    }
  },
  "cells": [
    {
      "cell_type": "markdown",
      "metadata": {
        "id": "view-in-github",
        "colab_type": "text"
      },
      "source": [
        "<a href=\"https://colab.research.google.com/github/emello23/Alura-Gemini/blob/main/Agente_nova_saida.ipynb\" target=\"_parent\"><img src=\"https://colab.research.google.com/assets/colab-badge.svg\" alt=\"Open In Colab\"/></a>"
      ]
    },
    {
      "cell_type": "code",
      "execution_count": 4,
      "metadata": {
        "id": "BtTC3gLfzG9R",
        "colab": {
          "base_uri": "https://localhost:8080/"
        },
        "outputId": "a230f618-6fda-44f4-b6bb-7d7f3e7e00a5"
      },
      "outputs": [
        {
          "output_type": "stream",
          "name": "stdout",
          "text": [
            "Requirement already satisfied: pandas in /usr/local/lib/python3.11/dist-packages (2.2.2)\n",
            "Requirement already satisfied: google-api-python-client in /usr/local/lib/python3.11/dist-packages (2.172.0)\n",
            "Requirement already satisfied: google-generativeai in /usr/local/lib/python3.11/dist-packages (0.8.5)\n",
            "Requirement already satisfied: numpy>=1.23.2 in /usr/local/lib/python3.11/dist-packages (from pandas) (2.0.2)\n",
            "Requirement already satisfied: python-dateutil>=2.8.2 in /usr/local/lib/python3.11/dist-packages (from pandas) (2.9.0.post0)\n",
            "Requirement already satisfied: pytz>=2020.1 in /usr/local/lib/python3.11/dist-packages (from pandas) (2025.2)\n",
            "Requirement already satisfied: tzdata>=2022.7 in /usr/local/lib/python3.11/dist-packages (from pandas) (2025.2)\n",
            "Requirement already satisfied: httplib2<1.0.0,>=0.19.0 in /usr/local/lib/python3.11/dist-packages (from google-api-python-client) (0.22.0)\n",
            "Requirement already satisfied: google-auth!=2.24.0,!=2.25.0,<3.0.0,>=1.32.0 in /usr/local/lib/python3.11/dist-packages (from google-api-python-client) (2.38.0)\n",
            "Requirement already satisfied: google-auth-httplib2<1.0.0,>=0.2.0 in /usr/local/lib/python3.11/dist-packages (from google-api-python-client) (0.2.0)\n",
            "Requirement already satisfied: google-api-core!=2.0.*,!=2.1.*,!=2.2.*,!=2.3.0,<3.0.0,>=1.31.5 in /usr/local/lib/python3.11/dist-packages (from google-api-python-client) (2.25.1)\n",
            "Requirement already satisfied: uritemplate<5,>=3.0.1 in /usr/local/lib/python3.11/dist-packages (from google-api-python-client) (4.2.0)\n",
            "Requirement already satisfied: google-ai-generativelanguage==0.6.15 in /usr/local/lib/python3.11/dist-packages (from google-generativeai) (0.6.15)\n",
            "Requirement already satisfied: protobuf in /usr/local/lib/python3.11/dist-packages (from google-generativeai) (5.29.5)\n",
            "Requirement already satisfied: pydantic in /usr/local/lib/python3.11/dist-packages (from google-generativeai) (2.11.7)\n",
            "Requirement already satisfied: tqdm in /usr/local/lib/python3.11/dist-packages (from google-generativeai) (4.67.1)\n",
            "Requirement already satisfied: typing-extensions in /usr/local/lib/python3.11/dist-packages (from google-generativeai) (4.14.0)\n",
            "Requirement already satisfied: proto-plus<2.0.0dev,>=1.22.3 in /usr/local/lib/python3.11/dist-packages (from google-ai-generativelanguage==0.6.15->google-generativeai) (1.26.1)\n",
            "Requirement already satisfied: googleapis-common-protos<2.0.0,>=1.56.2 in /usr/local/lib/python3.11/dist-packages (from google-api-core!=2.0.*,!=2.1.*,!=2.2.*,!=2.3.0,<3.0.0,>=1.31.5->google-api-python-client) (1.70.0)\n",
            "Requirement already satisfied: requests<3.0.0,>=2.18.0 in /usr/local/lib/python3.11/dist-packages (from google-api-core!=2.0.*,!=2.1.*,!=2.2.*,!=2.3.0,<3.0.0,>=1.31.5->google-api-python-client) (2.32.3)\n",
            "Requirement already satisfied: cachetools<6.0,>=2.0.0 in /usr/local/lib/python3.11/dist-packages (from google-auth!=2.24.0,!=2.25.0,<3.0.0,>=1.32.0->google-api-python-client) (5.5.2)\n",
            "Requirement already satisfied: pyasn1-modules>=0.2.1 in /usr/local/lib/python3.11/dist-packages (from google-auth!=2.24.0,!=2.25.0,<3.0.0,>=1.32.0->google-api-python-client) (0.4.2)\n",
            "Requirement already satisfied: rsa<5,>=3.1.4 in /usr/local/lib/python3.11/dist-packages (from google-auth!=2.24.0,!=2.25.0,<3.0.0,>=1.32.0->google-api-python-client) (4.9.1)\n",
            "Requirement already satisfied: pyparsing!=3.0.0,!=3.0.1,!=3.0.2,!=3.0.3,<4,>=2.4.2 in /usr/local/lib/python3.11/dist-packages (from httplib2<1.0.0,>=0.19.0->google-api-python-client) (3.2.3)\n",
            "Requirement already satisfied: six>=1.5 in /usr/local/lib/python3.11/dist-packages (from python-dateutil>=2.8.2->pandas) (1.17.0)\n",
            "Requirement already satisfied: annotated-types>=0.6.0 in /usr/local/lib/python3.11/dist-packages (from pydantic->google-generativeai) (0.7.0)\n",
            "Requirement already satisfied: pydantic-core==2.33.2 in /usr/local/lib/python3.11/dist-packages (from pydantic->google-generativeai) (2.33.2)\n",
            "Requirement already satisfied: typing-inspection>=0.4.0 in /usr/local/lib/python3.11/dist-packages (from pydantic->google-generativeai) (0.4.1)\n",
            "Requirement already satisfied: grpcio<2.0.0,>=1.33.2 in /usr/local/lib/python3.11/dist-packages (from google-api-core[grpc]!=2.0.*,!=2.1.*,!=2.10.*,!=2.2.*,!=2.3.*,!=2.4.*,!=2.5.*,!=2.6.*,!=2.7.*,!=2.8.*,!=2.9.*,<3.0.0dev,>=1.34.1->google-ai-generativelanguage==0.6.15->google-generativeai) (1.73.0)\n",
            "Requirement already satisfied: grpcio-status<2.0.0,>=1.33.2 in /usr/local/lib/python3.11/dist-packages (from google-api-core[grpc]!=2.0.*,!=2.1.*,!=2.10.*,!=2.2.*,!=2.3.*,!=2.4.*,!=2.5.*,!=2.6.*,!=2.7.*,!=2.8.*,!=2.9.*,<3.0.0dev,>=1.34.1->google-ai-generativelanguage==0.6.15->google-generativeai) (1.71.0)\n",
            "Requirement already satisfied: pyasn1<0.7.0,>=0.6.1 in /usr/local/lib/python3.11/dist-packages (from pyasn1-modules>=0.2.1->google-auth!=2.24.0,!=2.25.0,<3.0.0,>=1.32.0->google-api-python-client) (0.6.1)\n",
            "Requirement already satisfied: charset-normalizer<4,>=2 in /usr/local/lib/python3.11/dist-packages (from requests<3.0.0,>=2.18.0->google-api-core!=2.0.*,!=2.1.*,!=2.2.*,!=2.3.0,<3.0.0,>=1.31.5->google-api-python-client) (3.4.2)\n",
            "Requirement already satisfied: idna<4,>=2.5 in /usr/local/lib/python3.11/dist-packages (from requests<3.0.0,>=2.18.0->google-api-core!=2.0.*,!=2.1.*,!=2.2.*,!=2.3.0,<3.0.0,>=1.31.5->google-api-python-client) (3.10)\n",
            "Requirement already satisfied: urllib3<3,>=1.21.1 in /usr/local/lib/python3.11/dist-packages (from requests<3.0.0,>=2.18.0->google-api-core!=2.0.*,!=2.1.*,!=2.2.*,!=2.3.0,<3.0.0,>=1.31.5->google-api-python-client) (2.4.0)\n",
            "Requirement already satisfied: certifi>=2017.4.17 in /usr/local/lib/python3.11/dist-packages (from requests<3.0.0,>=2.18.0->google-api-core!=2.0.*,!=2.1.*,!=2.2.*,!=2.3.0,<3.0.0,>=1.31.5->google-api-python-client) (2025.6.15)\n"
          ]
        }
      ],
      "source": [
        "!pip install pandas google-api-python-client google-generativeai\n"
      ]
    },
    {
      "cell_type": "code",
      "source": [
        "import pandas as pd\n",
        "import time\n",
        "from IPython.display import display, Markdown\n",
        "from tabulate import tabulate\n",
        "from urllib.parse import quote_plus\n",
        "import google.generativeai as genai # SDK do Gemini\n",
        "import json # Para parsear a resposta do Gemini\n",
        "from google.colab import userdata # Para acessar a API key\n",
        "from datetime import datetime, timedelta # Importar datetime e timedelta\n",
        "\n",
        "# --- Configuração do Agente e API Key ---\n",
        "GOOGLE_API_KEY = None\n",
        "gemini_model_instance = None # Renomeado para clareza\n",
        "\n",
        "try:\n",
        "    # O nome padrão para secrets é sem o sufixo _, a menos que você tenha nomeado especificamente assim.\n",
        "    # Vou usar 'GOOGLE_API_KEY' como padrão, conforme a prática comum.\n",
        "    GOOGLE_API_KEY = userdata.get('GOOGLE_API_KEY')\n",
        "    if not GOOGLE_API_KEY:\n",
        "        display(Markdown(\"<font color='red'>**Erro Crítico: GOOGLE_API_KEY não encontrada nos Secrets do Colab.** \"\n",
        "                         \"Por favor, configure-a com o nome 'GOOGLE_API_KEY'.</font>\"))\n",
        "    else:\n",
        "        genai.configure(api_key=GOOGLE_API_KEY)\n",
        "        gemini_model_instance = genai.GenerativeModel(\n",
        "            model_name='gemini-1.5-flash-latest', # Modelo eficiente e capaz\n",
        "            # A opção response_mime_type pode ser usada com modelos mais recentes\n",
        "            # e configurações de segurança apropriadas.\n",
        "            # generation_config=genai.types.GenerationConfig(\n",
        "            #     response_mime_type=\"application/json\"\n",
        "            # )\n",
        "        )\n",
        "        display(Markdown(\"✅ *SDK do Gemini e modelo (`gemini-1.5-flash-latest`) configurados com sucesso.*\"))\n",
        "except Exception as e:\n",
        "    display(Markdown(f\"<font color='red'>**Erro Crítico ao configurar o SDK do Gemini:** {e}. \"\n",
        "                     \"Verifique sua API Key, permissões e se o nome do secret está correto ('GOOGLE_API_APIKEY'). \" # Corrigido para 'GOOGLE_API_KEY'\n",
        "                     \"O agente não funcionará sem isso.</font>\"))\n",
        "    # O script poderia parar aqui ou continuar com funcionalidades limitadas se houvesse um fallback.\n",
        "    # Para este agente, o Gemini é essencial.\n",
        "\n",
        "# --- Funções Utilitárias ---\n",
        "\n",
        "def carregar_dados_viagem(caminho_arquivo: str) -> pd.DataFrame | None:\n",
        "    \"\"\"\n",
        "    Carrega os dados de viagem do arquivo CSV e valida as colunas necessárias.\n",
        "    \"\"\"\n",
        "    colunas_requeridas = ['cidade', 'pais', 'data_chegada', 'data_partida', 'hospedagem']\n",
        "    try:\n",
        "        df = pd.read_csv(caminho_arquivo)\n",
        "\n",
        "        # Validar se as colunas requeridas existem\n",
        "        if not all(col in df.columns for col in colunas_requeridas):\n",
        "            colunas_faltando = [col for col in colunas_requeridas if col not in df.columns]\n",
        "            display(Markdown(f\"<font color='red'>**Erro: O arquivo `{caminho_arquivo}` não contém as colunas requeridas.** \"\n",
        "                             f\"Faltam as seguintes colunas: {', '.join(colunas_faltando)}.</font>\"))\n",
        "            return None\n",
        "\n",
        "        display(Markdown(f\"### Arquivo de Viagem (`{caminho_arquivo}`)\"))\n",
        "        display(df[colunas_requeridas]) # Exibe apenas as colunas relevantes\n",
        "        return df\n",
        "    except FileNotFoundError:\n",
        "        display(Markdown(f\"<font color='red'>**Erro: Arquivo `{caminho_arquivo}` não encontrado.** Verifique o nome e o local.</font>\"))\n",
        "        return None\n",
        "    except Exception as e:\n",
        "        display(Markdown(f\"<font color='red'>**Erro ao carregar o arquivo CSV `{caminho_arquivo}`:** {e}</font>\"))\n",
        "        return None\n",
        "\n",
        "def gerar_links_pesquisa_google(cidade: str, pais: str) -> tuple[str, str, str]:\n",
        "    \"\"\"Gera links de pesquisa úteis para Google Search e Google Maps.\"\"\"\n",
        "    query_atracoes = f\"principais atrações turísticas em {cidade} {pais}\"\n",
        "    link_google_search = f\"https://www.google.com/search?q={quote_plus(query_atracoes)}\"\n",
        "    query_maps_atracoes = f\"atrações turísticas em {cidade}, {pais}\"\n",
        "    link_google_maps_atracoes = f\"https://www.google.com/maps/search/{quote_plus(query_maps_atracoes)}\"\n",
        "    query_maps_cidade = f\"{cidade}, {pais}\"\n",
        "    link_google_maps_cidade = f\"https://www.google.com/maps/place/{quote_plus(query_maps_cidade)}\"\n",
        "    return link_google_search, link_google_maps_atracoes, link_google_maps_cidade\n",
        "\n",
        "# --- Definição do Agente Pesquisador de Atrações ---\n",
        "\n",
        "class AgentePesquisadorAtracoes:\n",
        "    \"\"\"\n",
        "    Um agente responsável por pesquisar atrações turísticas usando o Gemini\n",
        "    e fornecer links úteis para pesquisa manual.\n",
        "    \"\"\"\n",
        "    def __init__(self, modelo_llm: genai.GenerativeModel):\n",
        "        if modelo_llm is None:\n",
        "            raise ValueError(\"O modelo LLM (Gemini) não pode ser None para este agente.\")\n",
        "        self.modelo = modelo_llm\n",
        "        self.safety_settings = [ # Configurações de segurança para o Gemini\n",
        "            {\"category\": \"HARM_CATEGORY_HARASSMENT\", \"threshold\": \"BLOCK_MEDIUM_AND_ABOVE\"},\n",
        "            {\"category\": \"HARM_CATEGORY_HATE_SPEECH\", \"threshold\": \"BLOCK_MEDIUM_AND_ABOVE\"},\n",
        "            {\"category\": \"HARM_CATEGORY_SEXUALLY_EXPLICIT\", \"threshold\": \"BLOCK_MEDIUM_AND_ABOVE\"},\n",
        "            {\"category\": \"HARM_CATEGORY_DANGEROUS_CONTENT\", \"threshold\": \"BLOCK_MEDIUM_AND_ABOVE\"},\n",
        "        ]\n",
        "\n",
        "    def _obter_sugestoes_gemini(self, cidade: str, pais: str, top_n: int = 7) -> list[dict]:\n",
        "        \"\"\"\n",
        "        Ferramenta interna do agente para consultar o Gemini sobre atrações.\n",
        "        \"\"\"\n",
        "        display(Markdown(f\"🧠 *Agente consultando Gemini sobre atrações em: **{cidade}, {pais}** (Top {top_n})...*\"))\n",
        "\n",
        "        prompt = f\"\"\"\n",
        "        Você é um assistente de planejamento de viagens altamente especializado e eficiente.\n",
        "        Sua tarefa é identificar as {top_n} principais e mais recomendadas atrações turísticas para a cidade de {cidade}, localizada em {pais}.\n",
        "\n",
        "        Critérios para sua seleção:\n",
        "        1.  **Popularidade e Reconhecimento:** Atrações bem conhecidas e frequentemente visitadas.\n",
        "        2.  **Qualidade das Avaliações:** Lugares geralmente com avaliações positivas (ex: acima de 4.0/5 estrelas).\n",
        "        3.  **Relevância Cultural/Histórica:** Locais com significado importante.\n",
        "        4.  **Diversidade de Experiências:** Inclua uma mistura de tipos, como museus, monumentos, parques, mercados, igrejas/catedrais, mirantes, etc., quando apropriado para a cidade.\n",
        "        5.  **Singularidade:** Atrações que oferecem uma experiência única ou icônica da cidade/região.\n",
        "\n",
        "        Formato da Resposta:\n",
        "        Retorne **estritamente uma lista JSON**. Cada elemento da lista deve ser um dicionário representando uma atração,\n",
        "        contendo EXATAMENTE as seguintes chaves:\n",
        "        - \"nome\": (string) O nome oficial e completo da atração.\n",
        "        - \"tipo_principal\": (string) A categoria principal da atração (ex: \"Museu de Arte\", \"Catedral Gótica\", \"Parque Urbano\", \"Mercado Histórico\", \"Monumento Nacional\", \"Mirante Panorâmico\"). Seja específico.\n",
        "        - \"descricao_enxuta\": (string) Uma descrição concisa e informativa (1-2 frases) que justifique sua inclusão, destacando seus principais atrativos.\n",
        "        - \"avaliacao_geral\": (string, opcional) Uma estimativa da avaliação geral se for amplamente conhecida (ex: \"Excelente\", \"Muito Popular\", \"4.5/5 estrelas\"). Use \"N/A\" se não houver uma estimativa clara.\n",
        "        - \"destaque_principal\": (string) O motivo principal pelo qual um turista deveria visitar (ex: \"Vistas incríveis da cidade\", \"Coleção de arte renascentista\", \"Arquitetura impressionante\", \"Atmosfera vibrante\").\n",
        "\n",
        "        Exemplo de um item na lista JSON:\n",
        "        {{\n",
        "          \"nome\": \"Museu do Louvre\",\n",
        "          \"tipo_principal\": \"Museu de Arte e Antiguidades\",\n",
        "          \"descricao_enxuta\": \"Um dos maiores e mais visitados museus do mundo, lar de obras-primas como a Mona Lisa e a Vênus de Milo.\",\n",
        "          \"avaliacao_geral\": \"4.7/5 estrelas\",\n",
        "          \"destaque_principal\": \"Coleção de arte de renome mundial\"\n",
        "        }}\n",
        "\n",
        "        Garanta que a saída seja SOMENTE a lista JSON, sem nenhum texto introdutório, comentários ou formatação adicional.\n",
        "        \"\"\"\n",
        "\n",
        "        try:\n",
        "            response = self.modelo.generate_content(\n",
        "                prompt,\n",
        "                generation_config=genai.types.GenerationConfig(\n",
        "                    temperature=0.4, # Um pouco mais factual, menos aleatório\n",
        "                    max_output_tokens=3072 # Espaço suficiente para a lista JSON\n",
        "                ),\n",
        "                safety_settings=self.safety_settings\n",
        "            )\n",
        "\n",
        "            json_text = response.text.strip()\n",
        "            # Tentativa robusta de extrair JSON, mesmo que o modelo adicione ```json ... ```\n",
        "            if json_text.startswith(\"```json\"):\n",
        "                json_text = json_text[7:]\n",
        "            if json_text.endswith(\"```\"):\n",
        "                json_text = json_text[:-3]\n",
        "            json_text = json_text.strip()\n",
        "\n",
        "            if not json_text:\n",
        "                display(Markdown(f\"<font color='orange'>Aviso: Gemini retornou uma resposta vazia para {cidade}.</font>\"))\n",
        "                return []\n",
        "\n",
        "            atracoes = json.loads(json_text)\n",
        "            # Garantir que é uma lista, mesmo que o Gemini retorne algo diferente\n",
        "            if not isinstance(atracoes, list):\n",
        "                 display(Markdown(f\"<font color='orange'>Aviso: Gemini retornou um formato inesperado (não uma lista) para {cidade}.</font>\"))\n",
        "                 return []\n",
        "\n",
        "            display(Markdown(f\"✅ *Gemini retornou {len(atracoes)} sugestões de atrações para {cidade}.*\"))\n",
        "            return atracoes[:top_n]\n",
        "        except json.JSONDecodeError as e:\n",
        "            display(Markdown(f\"<font color='red'>**Erro (JSONDecodeError) ao processar resposta do Gemini para {cidade}:** {e}. \"\n",
        "                             \"Isso geralmente ocorre se o modelo não retornar um JSON válido.</font>\"))\n",
        "            if hasattr(response, 'text'):\n",
        "                display(Markdown(f\"<pre>Resposta Bruta do Gemini:\\n{response.text}</pre>\"))\n",
        "            else:\n",
        "                 display(Markdown(f\"<pre>Nenhuma resposta de texto recebida do Gemini.</pre>\"))\n",
        "            return []\n",
        "        except Exception as e:\n",
        "            # Captura de erros mais genéricos, como problemas de API (quota, etc.)\n",
        "            # ou bloqueios de segurança não esperados.\n",
        "            display(Markdown(f\"<font color='red'>**Erro inesperado ao consultar Gemini para {cidade}:** {e}</font>\"))\n",
        "            if hasattr(response, 'prompt_feedback'):\n",
        "                display(Markdown(f\"Feedback do Prompt: {response.prompt_feedback}\"))\n",
        "            return []\n",
        "\n",
        "    def pesquisar_destino(self, cidade: str, pais: str, top_n_sugestoes: int = 7) -> dict:\n",
        "        \"\"\"\n",
        "        Executa a pesquisa de atrações para um destino específico.\n",
        "        \"\"\"\n",
        "        display(Markdown(f\"\\n### 🌍 Agente Iniciando Pesquisa para: **{cidade}, {pais}**\"))\n",
        "\n",
        "        links = gerar_links_pesquisa_google(cidade, pais)\n",
        "        sugestoes_gemini = self._obter_sugestoes_gemini(cidade, pais, top_n=top_n_sugestoes)\n",
        "\n",
        "        display(Markdown(f\"--- Pesquisa para **{cidade}, {pais}** finalizada pelo agente. ---\"))\n",
        "        return {\n",
        "            \"cidade\": cidade,\n",
        "            \"pais\": pais,\n",
        "            \"link_google_search\": links[0],\n",
        "            \"link_google_maps_atracoes\": links[1],\n",
        "            \"link_google_maps_cidade\": links[2],\n",
        "            \"sugestoes_gemini\": sugestoes_gemini\n",
        "        }\n",
        "\n",
        "# --- Função Principal de Execução ---\n",
        "def executar_planejador_viagem(caminho_arquivo_csv: str = 'europa.csv'):\n",
        "    \"\"\"\n",
        "    Orquestra o carregamento dos dados da viagem e a pesquisa de atrações para cada destino.\n",
        "    Recebe o caminho do arquivo CSV como parâmetro.\n",
        "    \"\"\"\n",
        "    if not GOOGLE_API_KEY or not gemini_model_instance:\n",
        "        display(Markdown(\"<font color='red'>**Execução Interrompida.** API Key do Google ou modelo Gemini não configurados corretamente na inicialização.</font>\"))\n",
        "        return None # Retorna None se a configuração falhar\n",
        "\n",
        "    df_viagem = carregar_dados_viagem(caminho_arquivo_csv)\n",
        "\n",
        "    if df_viagem is None:\n",
        "        display(Markdown(\"<font color='red'>**Não foi possível prosseguir sem os dados da viagem.**</font>\"))\n",
        "        return None # Retorna None se o carregamento falhar\n",
        "\n",
        "    agente_pesquisador = AgentePesquisadorAtracoes(modelo_llm=gemini_model_instance)\n",
        "    # agente_montador = MontadorDeRoteiros(modelo_llm=gemini_model_instance) # Instanciado dentro do loop se necessário\n",
        "\n",
        "    dados_compilados = {\n",
        "        \"titulo_pesquisa\": \"Relatório de Pesquisa de Atrações do Agente\",\n",
        "        \"data_execucao_pesquisa\": time.strftime(\"%Y-%m-%d %H:%M:%S\"),\n",
        "        \"data_geracao_relatorio_utc\": datetime.utcnow().strftime(\"%Y-%m-%d %H:%M:%S UTC\"),\n",
        "        \"data_geracao_relatorio_brasilia\": (datetime.utcnow() - timedelta(hours=3)).strftime(\"%Y-%m-%d %H:%M:%S BRT\"),\n",
        "        \"destinos_pesquisados\": []\n",
        "    }\n",
        "\n",
        "\n",
        "    display(Markdown(\"\\n# 🗺️ **Relatório de Pesquisa de Atrações do Agente** ✈️\"))\n",
        "\n",
        "    resultados_completos = []\n",
        "    for indice, linha_viagem in df_viagem.iterrows():\n",
        "        cidade = linha_viagem['cidade']\n",
        "        pais = linha_viagem['pais']\n",
        "\n",
        "        resultado_destino = agente_pesquisador.pesquisar_destino(cidade, pais, top_n_sugestoes=15)\n",
        "\n",
        "        # Adicionar dados da viagem original ao resultado\n",
        "        resultado_destino['data_chegada'] = linha_viagem['data_chegada']\n",
        "        resultado_destino['data_partida'] = linha_viagem['data_partida']\n",
        "        resultado_destino['hospedagem'] = linha_viagem['hospedagem']\n",
        "        resultados_completos.append(resultado_destino)\n",
        "\n",
        "        # Exibição imediata por destino\n",
        "        display(Markdown(f\"\\n## 📍 Destino: **{resultado_destino['cidade']}, {resultado_destino['pais']}**\"))\n",
        "        display(Markdown(f\"🗓️ **Período:** {resultado_destino['data_chegada']} a {resultado_destino['data_partida']}\"))\n",
        "        display(Markdown(f\"🏨 **Hospedagem:** {resultado_destino['hospedagem']}\"))\n",
        "\n",
        "        display(Markdown(\"#### 🔍 Links Úteis para Pesquisa Manual Detalhada (abrem em nova aba):\"))\n",
        "        display(Markdown(f\"- **[Google Search: Principais atrações]({resultado_destino['link_google_search']})** \"))\n",
        "        display(Markdown(f\"- **[Google Maps: Atrações na área]({resultado_destino['link_google_maps_atracoes']})** \"))\n",
        "        display(Markdown(f\"- **[Google Maps: Visão geral da cidade]({resultado_destino['link_google_maps_cidade']})** \"))\n",
        "\n",
        "        if resultado_destino['sugestoes_gemini']:\n",
        "            display(Markdown(\"#### ✨ Sugestões de Atrações Principais (via Agente Gemini):\"))\n",
        "\n",
        "            tabela_atracoes_data = []\n",
        "            # Chaves como definidas no prompt do Gemini\n",
        "            headers = [\"Nº\", \"Atração\", \"Tipo Principal\", \"Descrição Enxuta\", \"Avaliação Geral\", \"Destaque Principal\"]\n",
        "\n",
        "            for i, atracao in enumerate(resultado_destino['sugestoes_gemini']):\n",
        "                tabela_atracoes_data.append([\n",
        "                    i + 1,\n",
        "                    atracao.get('nome', 'N/A'),\n",
        "                    atracao.get('tipo_principal', 'N/A'),\n",
        "                    atracao.get('descricao_enxuta', 'N/A'),\n",
        "                    atracao.get('avaliacao_geral', 'N/A'),\n",
        "                    atracao.get('destaque_principal', 'N/A')\n",
        "                ])\n",
        "\n",
        "            tabela_formatada = tabulate(tabela_atracoes_data, headers=headers, tablefmt=\"pipe\", stralign=\"left\")\n",
        "            display(Markdown(tabela_formatada))\n",
        "        else:\n",
        "            display(Markdown(\"<font color='orange'>⚠️ Nenhuma sugestão de atração específica retornada pelo Gemini para este destino. \"\n",
        "                             \"Utilize os links de pesquisa manual acima.</font>\"))\n",
        "        display(Markdown(\"---\")) # Separador visual entre destinos\n",
        "\n",
        "    dados_compilados[\"destinos_pesquisados\"] = resultados_completos\n",
        "\n",
        "    # Salva todos os dados de atrações em um arquivo JSON\n",
        "    output_filename = \"atracoes_pesquisadas.json\"\n",
        "    try:\n",
        "        with open(output_filename, \"w\", encoding=\"utf-8\") as f:\n",
        "            json.dump(dados_compilados, f, ensure_ascii=False, indent=4)\n",
        "        print(f\"\\nDados completos da pesquisa salvos em `{output_filename}`.\")\n",
        "    except Exception as e:\n",
        "        print(f\"\\nErro ao salvar dados em JSON: {e}\")\n",
        "\n",
        "    return dados_compilados\n",
        "\n",
        "# --- Ponto de Entrada da Execução ---\n",
        "if __name__ == \"__main__\":\n",
        "    # Certifique-se de que as bibliotecas estão instaladas\n",
        "    # Em um notebook Colab, você executaria !pip install -q pandas google-generativeai tabulate em uma célula separada.\n",
        "    # Agora você pode chamar a função passando o caminho do seu arquivo CSV, por exemplo:\n",
        "    # executar_planejador_viagem('meu_arquivo_viagem.csv')\n",
        "    # Se nenhum caminho for fornecido, ele usará 'europa.csv' por padrão.\n",
        "    dados_finais_viagem = executar_planejador_viagem('/content/europa.csv')"
      ],
      "metadata": {
        "id": "OK0vHJM92vIj",
        "colab": {
          "base_uri": "https://localhost:8080/",
          "height": 1000
        },
        "collapsed": true,
        "outputId": "ca67f9e9-63a0-4e78-b239-7267a0b865b5"
      },
      "execution_count": 5,
      "outputs": [
        {
          "output_type": "display_data",
          "data": {
            "text/plain": [
              "<IPython.core.display.Markdown object>"
            ],
            "text/markdown": "✅ *SDK do Gemini e modelo (`gemini-1.5-flash-latest`) configurados com sucesso.*"
          },
          "metadata": {}
        },
        {
          "output_type": "display_data",
          "data": {
            "text/plain": [
              "<IPython.core.display.Markdown object>"
            ],
            "text/markdown": "### Arquivo de Viagem (`/content/europa.csv`)"
          },
          "metadata": {}
        },
        {
          "output_type": "display_data",
          "data": {
            "text/plain": [
              "     cidade     pais data_chegada data_partida                    hospedagem\n",
              "0      Roma   Itália   2025-09-13   2025-09-16  Via Francesco Caracciolo n.7\n",
              "1  Florença   Itália   2025-09-16   2025-09-19                  Hotel Bodoni\n",
              "2     Viena  Aústria   2025-09-20   2025-09-24            Hilton Vienna Park"
            ],
            "text/html": [
              "\n",
              "  <div id=\"df-6955e74e-f138-4ca5-b29c-da7acda75167\" class=\"colab-df-container\">\n",
              "    <div>\n",
              "<style scoped>\n",
              "    .dataframe tbody tr th:only-of-type {\n",
              "        vertical-align: middle;\n",
              "    }\n",
              "\n",
              "    .dataframe tbody tr th {\n",
              "        vertical-align: top;\n",
              "    }\n",
              "\n",
              "    .dataframe thead th {\n",
              "        text-align: right;\n",
              "    }\n",
              "</style>\n",
              "<table border=\"1\" class=\"dataframe\">\n",
              "  <thead>\n",
              "    <tr style=\"text-align: right;\">\n",
              "      <th></th>\n",
              "      <th>cidade</th>\n",
              "      <th>pais</th>\n",
              "      <th>data_chegada</th>\n",
              "      <th>data_partida</th>\n",
              "      <th>hospedagem</th>\n",
              "    </tr>\n",
              "  </thead>\n",
              "  <tbody>\n",
              "    <tr>\n",
              "      <th>0</th>\n",
              "      <td>Roma</td>\n",
              "      <td>Itália</td>\n",
              "      <td>2025-09-13</td>\n",
              "      <td>2025-09-16</td>\n",
              "      <td>Via Francesco Caracciolo n.7</td>\n",
              "    </tr>\n",
              "    <tr>\n",
              "      <th>1</th>\n",
              "      <td>Florença</td>\n",
              "      <td>Itália</td>\n",
              "      <td>2025-09-16</td>\n",
              "      <td>2025-09-19</td>\n",
              "      <td>Hotel Bodoni</td>\n",
              "    </tr>\n",
              "    <tr>\n",
              "      <th>2</th>\n",
              "      <td>Viena</td>\n",
              "      <td>Aústria</td>\n",
              "      <td>2025-09-20</td>\n",
              "      <td>2025-09-24</td>\n",
              "      <td>Hilton Vienna Park</td>\n",
              "    </tr>\n",
              "  </tbody>\n",
              "</table>\n",
              "</div>\n",
              "    <div class=\"colab-df-buttons\">\n",
              "\n",
              "  <div class=\"colab-df-container\">\n",
              "    <button class=\"colab-df-convert\" onclick=\"convertToInteractive('df-6955e74e-f138-4ca5-b29c-da7acda75167')\"\n",
              "            title=\"Convert this dataframe to an interactive table.\"\n",
              "            style=\"display:none;\">\n",
              "\n",
              "  <svg xmlns=\"http://www.w3.org/2000/svg\" height=\"24px\" viewBox=\"0 -960 960 960\">\n",
              "    <path d=\"M120-120v-720h720v720H120Zm60-500h600v-160H180v160Zm220 220h160v-160H400v160Zm0 220h160v-160H400v160ZM180-400h160v-160H180v160Zm440 0h160v-160H620v160ZM180-180h160v-160H180v160Zm440 0h160v-160H620v160Z\"/>\n",
              "  </svg>\n",
              "    </button>\n",
              "\n",
              "  <style>\n",
              "    .colab-df-container {\n",
              "      display:flex;\n",
              "      gap: 12px;\n",
              "    }\n",
              "\n",
              "    .colab-df-convert {\n",
              "      background-color: #E8F0FE;\n",
              "      border: none;\n",
              "      border-radius: 50%;\n",
              "      cursor: pointer;\n",
              "      display: none;\n",
              "      fill: #1967D2;\n",
              "      height: 32px;\n",
              "      padding: 0 0 0 0;\n",
              "      width: 32px;\n",
              "    }\n",
              "\n",
              "    .colab-df-convert:hover {\n",
              "      background-color: #E2EBFA;\n",
              "      box-shadow: 0px 1px 2px rgba(60, 64, 67, 0.3), 0px 1px 3px 1px rgba(60, 64, 67, 0.15);\n",
              "      fill: #174EA6;\n",
              "    }\n",
              "\n",
              "    .colab-df-buttons div {\n",
              "      margin-bottom: 4px;\n",
              "    }\n",
              "\n",
              "    [theme=dark] .colab-df-convert {\n",
              "      background-color: #3B4455;\n",
              "      fill: #D2E3FC;\n",
              "    }\n",
              "\n",
              "    [theme=dark] .colab-df-convert:hover {\n",
              "      background-color: #434B5C;\n",
              "      box-shadow: 0px 1px 3px 1px rgba(0, 0, 0, 0.15);\n",
              "      filter: drop-shadow(0px 1px 2px rgba(0, 0, 0, 0.3));\n",
              "      fill: #FFFFFF;\n",
              "    }\n",
              "  </style>\n",
              "\n",
              "    <script>\n",
              "      const buttonEl =\n",
              "        document.querySelector('#df-6955e74e-f138-4ca5-b29c-da7acda75167 button.colab-df-convert');\n",
              "      buttonEl.style.display =\n",
              "        google.colab.kernel.accessAllowed ? 'block' : 'none';\n",
              "\n",
              "      async function convertToInteractive(key) {\n",
              "        const element = document.querySelector('#df-6955e74e-f138-4ca5-b29c-da7acda75167');\n",
              "        const dataTable =\n",
              "          await google.colab.kernel.invokeFunction('convertToInteractive',\n",
              "                                                    [key], {});\n",
              "        if (!dataTable) return;\n",
              "\n",
              "        const docLinkHtml = 'Like what you see? Visit the ' +\n",
              "          '<a target=\"_blank\" href=https://colab.research.google.com/notebooks/data_table.ipynb>data table notebook</a>'\n",
              "          + ' to learn more about interactive tables.';\n",
              "        element.innerHTML = '';\n",
              "        dataTable['output_type'] = 'display_data';\n",
              "        await google.colab.output.renderOutput(dataTable, element);\n",
              "        const docLink = document.createElement('div');\n",
              "        docLink.innerHTML = docLinkHtml;\n",
              "        element.appendChild(docLink);\n",
              "      }\n",
              "    </script>\n",
              "  </div>\n",
              "\n",
              "\n",
              "    <div id=\"df-9163ec17-dfa2-4df1-8a41-7043d4608797\">\n",
              "      <button class=\"colab-df-quickchart\" onclick=\"quickchart('df-9163ec17-dfa2-4df1-8a41-7043d4608797')\"\n",
              "                title=\"Suggest charts\"\n",
              "                style=\"display:none;\">\n",
              "\n",
              "<svg xmlns=\"http://www.w3.org/2000/svg\" height=\"24px\"viewBox=\"0 0 24 24\"\n",
              "     width=\"24px\">\n",
              "    <g>\n",
              "        <path d=\"M19 3H5c-1.1 0-2 .9-2 2v14c0 1.1.9 2 2 2h14c1.1 0 2-.9 2-2V5c0-1.1-.9-2-2-2zM9 17H7v-7h2v7zm4 0h-2V7h2v10zm4 0h-2v-4h2v4z\"/>\n",
              "    </g>\n",
              "</svg>\n",
              "      </button>\n",
              "\n",
              "<style>\n",
              "  .colab-df-quickchart {\n",
              "      --bg-color: #E8F0FE;\n",
              "      --fill-color: #1967D2;\n",
              "      --hover-bg-color: #E2EBFA;\n",
              "      --hover-fill-color: #174EA6;\n",
              "      --disabled-fill-color: #AAA;\n",
              "      --disabled-bg-color: #DDD;\n",
              "  }\n",
              "\n",
              "  [theme=dark] .colab-df-quickchart {\n",
              "      --bg-color: #3B4455;\n",
              "      --fill-color: #D2E3FC;\n",
              "      --hover-bg-color: #434B5C;\n",
              "      --hover-fill-color: #FFFFFF;\n",
              "      --disabled-bg-color: #3B4455;\n",
              "      --disabled-fill-color: #666;\n",
              "  }\n",
              "\n",
              "  .colab-df-quickchart {\n",
              "    background-color: var(--bg-color);\n",
              "    border: none;\n",
              "    border-radius: 50%;\n",
              "    cursor: pointer;\n",
              "    display: none;\n",
              "    fill: var(--fill-color);\n",
              "    height: 32px;\n",
              "    padding: 0;\n",
              "    width: 32px;\n",
              "  }\n",
              "\n",
              "  .colab-df-quickchart:hover {\n",
              "    background-color: var(--hover-bg-color);\n",
              "    box-shadow: 0 1px 2px rgba(60, 64, 67, 0.3), 0 1px 3px 1px rgba(60, 64, 67, 0.15);\n",
              "    fill: var(--button-hover-fill-color);\n",
              "  }\n",
              "\n",
              "  .colab-df-quickchart-complete:disabled,\n",
              "  .colab-df-quickchart-complete:disabled:hover {\n",
              "    background-color: var(--disabled-bg-color);\n",
              "    fill: var(--disabled-fill-color);\n",
              "    box-shadow: none;\n",
              "  }\n",
              "\n",
              "  .colab-df-spinner {\n",
              "    border: 2px solid var(--fill-color);\n",
              "    border-color: transparent;\n",
              "    border-bottom-color: var(--fill-color);\n",
              "    animation:\n",
              "      spin 1s steps(1) infinite;\n",
              "  }\n",
              "\n",
              "  @keyframes spin {\n",
              "    0% {\n",
              "      border-color: transparent;\n",
              "      border-bottom-color: var(--fill-color);\n",
              "      border-left-color: var(--fill-color);\n",
              "    }\n",
              "    20% {\n",
              "      border-color: transparent;\n",
              "      border-left-color: var(--fill-color);\n",
              "      border-top-color: var(--fill-color);\n",
              "    }\n",
              "    30% {\n",
              "      border-color: transparent;\n",
              "      border-left-color: var(--fill-color);\n",
              "      border-top-color: var(--fill-color);\n",
              "      border-right-color: var(--fill-color);\n",
              "    }\n",
              "    40% {\n",
              "      border-color: transparent;\n",
              "      border-right-color: var(--fill-color);\n",
              "      border-top-color: var(--fill-color);\n",
              "    }\n",
              "    60% {\n",
              "      border-color: transparent;\n",
              "      border-right-color: var(--fill-color);\n",
              "    }\n",
              "    80% {\n",
              "      border-color: transparent;\n",
              "      border-right-color: var(--fill-color);\n",
              "      border-bottom-color: var(--fill-color);\n",
              "    }\n",
              "    90% {\n",
              "      border-color: transparent;\n",
              "      border-bottom-color: var(--fill-color);\n",
              "    }\n",
              "  }\n",
              "</style>\n",
              "\n",
              "      <script>\n",
              "        async function quickchart(key) {\n",
              "          const quickchartButtonEl =\n",
              "            document.querySelector('#' + key + ' button');\n",
              "          quickchartButtonEl.disabled = true;  // To prevent multiple clicks.\n",
              "          quickchartButtonEl.classList.add('colab-df-spinner');\n",
              "          try {\n",
              "            const charts = await google.colab.kernel.invokeFunction(\n",
              "                'suggestCharts', [key], {});\n",
              "          } catch (error) {\n",
              "            console.error('Error during call to suggestCharts:', error);\n",
              "          }\n",
              "          quickchartButtonEl.classList.remove('colab-df-spinner');\n",
              "          quickchartButtonEl.classList.add('colab-df-quickchart-complete');\n",
              "        }\n",
              "        (() => {\n",
              "          let quickchartButtonEl =\n",
              "            document.querySelector('#df-9163ec17-dfa2-4df1-8a41-7043d4608797 button');\n",
              "          quickchartButtonEl.style.display =\n",
              "            google.colab.kernel.accessAllowed ? 'block' : 'none';\n",
              "        })();\n",
              "      </script>\n",
              "    </div>\n",
              "\n",
              "    </div>\n",
              "  </div>\n"
            ],
            "application/vnd.google.colaboratory.intrinsic+json": {
              "type": "dataframe",
              "summary": "{\n  \"name\": \"    dados_finais_viagem = executar_planejador_viagem('/content/europa\",\n  \"rows\": 3,\n  \"fields\": [\n    {\n      \"column\": \"cidade\",\n      \"properties\": {\n        \"dtype\": \"string\",\n        \"num_unique_values\": 3,\n        \"samples\": [\n          \"Roma\",\n          \"Floren\\u00e7a\",\n          \"Viena\"\n        ],\n        \"semantic_type\": \"\",\n        \"description\": \"\"\n      }\n    },\n    {\n      \"column\": \"pais\",\n      \"properties\": {\n        \"dtype\": \"string\",\n        \"num_unique_values\": 2,\n        \"samples\": [\n          \"A\\u00fastria\",\n          \"It\\u00e1lia\"\n        ],\n        \"semantic_type\": \"\",\n        \"description\": \"\"\n      }\n    },\n    {\n      \"column\": \"data_chegada\",\n      \"properties\": {\n        \"dtype\": \"object\",\n        \"num_unique_values\": 3,\n        \"samples\": [\n          \"2025-09-13\",\n          \"2025-09-16\"\n        ],\n        \"semantic_type\": \"\",\n        \"description\": \"\"\n      }\n    },\n    {\n      \"column\": \"data_partida\",\n      \"properties\": {\n        \"dtype\": \"object\",\n        \"num_unique_values\": 3,\n        \"samples\": [\n          \"2025-09-16\",\n          \"2025-09-19\"\n        ],\n        \"semantic_type\": \"\",\n        \"description\": \"\"\n      }\n    },\n    {\n      \"column\": \"hospedagem\",\n      \"properties\": {\n        \"dtype\": \"string\",\n        \"num_unique_values\": 3,\n        \"samples\": [\n          \"Via Francesco Caracciolo n.7\",\n          \"Hotel Bodoni\"\n        ],\n        \"semantic_type\": \"\",\n        \"description\": \"\"\n      }\n    }\n  ]\n}"
            }
          },
          "metadata": {}
        },
        {
          "output_type": "display_data",
          "data": {
            "text/plain": [
              "<IPython.core.display.Markdown object>"
            ],
            "text/markdown": "\n# 🗺️ **Relatório de Pesquisa de Atrações do Agente** ✈️"
          },
          "metadata": {}
        },
        {
          "output_type": "display_data",
          "data": {
            "text/plain": [
              "<IPython.core.display.Markdown object>"
            ],
            "text/markdown": "\n### 🌍 Agente Iniciando Pesquisa para: **Roma, Itália**"
          },
          "metadata": {}
        },
        {
          "output_type": "display_data",
          "data": {
            "text/plain": [
              "<IPython.core.display.Markdown object>"
            ],
            "text/markdown": "🧠 *Agente consultando Gemini sobre atrações em: **Roma, Itália** (Top 15)...*"
          },
          "metadata": {}
        },
        {
          "output_type": "display_data",
          "data": {
            "text/plain": [
              "<IPython.core.display.Markdown object>"
            ],
            "text/markdown": "✅ *Gemini retornou 15 sugestões de atrações para Roma.*"
          },
          "metadata": {}
        },
        {
          "output_type": "display_data",
          "data": {
            "text/plain": [
              "<IPython.core.display.Markdown object>"
            ],
            "text/markdown": "--- Pesquisa para **Roma, Itália** finalizada pelo agente. ---"
          },
          "metadata": {}
        },
        {
          "output_type": "display_data",
          "data": {
            "text/plain": [
              "<IPython.core.display.Markdown object>"
            ],
            "text/markdown": "\n## 📍 Destino: **Roma, Itália**"
          },
          "metadata": {}
        },
        {
          "output_type": "display_data",
          "data": {
            "text/plain": [
              "<IPython.core.display.Markdown object>"
            ],
            "text/markdown": "🗓️ **Período:** 2025-09-13 a 2025-09-16"
          },
          "metadata": {}
        },
        {
          "output_type": "display_data",
          "data": {
            "text/plain": [
              "<IPython.core.display.Markdown object>"
            ],
            "text/markdown": "🏨 **Hospedagem:** Via Francesco Caracciolo n.7"
          },
          "metadata": {}
        },
        {
          "output_type": "display_data",
          "data": {
            "text/plain": [
              "<IPython.core.display.Markdown object>"
            ],
            "text/markdown": "#### 🔍 Links Úteis para Pesquisa Manual Detalhada (abrem em nova aba):"
          },
          "metadata": {}
        },
        {
          "output_type": "display_data",
          "data": {
            "text/plain": [
              "<IPython.core.display.Markdown object>"
            ],
            "text/markdown": "- **[Google Search: Principais atrações](https://www.google.com/search?q=principais+atra%C3%A7%C3%B5es+tur%C3%ADsticas+em+Roma+It%C3%A1lia)** "
          },
          "metadata": {}
        },
        {
          "output_type": "display_data",
          "data": {
            "text/plain": [
              "<IPython.core.display.Markdown object>"
            ],
            "text/markdown": "- **[Google Maps: Atrações na área](https://www.google.com/maps/search/atra%C3%A7%C3%B5es+tur%C3%ADsticas+em+Roma%2C+It%C3%A1lia)** "
          },
          "metadata": {}
        },
        {
          "output_type": "display_data",
          "data": {
            "text/plain": [
              "<IPython.core.display.Markdown object>"
            ],
            "text/markdown": "- **[Google Maps: Visão geral da cidade](https://www.google.com/maps/place/Roma%2C+It%C3%A1lia)** "
          },
          "metadata": {}
        },
        {
          "output_type": "display_data",
          "data": {
            "text/plain": [
              "<IPython.core.display.Markdown object>"
            ],
            "text/markdown": "#### ✨ Sugestões de Atrações Principais (via Agente Gemini):"
          },
          "metadata": {}
        },
        {
          "output_type": "display_data",
          "data": {
            "text/plain": [
              "<IPython.core.display.Markdown object>"
            ],
            "text/markdown": "|   Nº | Atração                             | Tipo Principal                | Descrição Enxuta                                                                                                                 | Avaliação Geral   | Destaque Principal                               |\n|-----:|:------------------------------------|:------------------------------|:---------------------------------------------------------------------------------------------------------------------------------|:------------------|:-------------------------------------------------|\n|    1 | Coliseu                             | Monumento Nacional            | Anfiteatro icônico do Império Romano, palco de espetáculos gladiatórios e eventos públicos. Símbolo de Roma.                     | Excelente         | Símbolo histórico e arquitetônico impressionante |\n|    2 | Fórum Romano                        | Sítio Arqueológico            | Ruínas do centro cívico e político da antiga Roma, com templos, basílicas e edifícios públicos. Testemunho da história romana.   | Muito Popular     | Viagem ao passado da civilização romana          |\n|    3 | Palácio do Vaticano                 | Complexo Religioso e Cultural | Sede da Igreja Católica, incluindo a Basílica de São Pedro e os Museus Vaticanos, com a Capela Sistina.                          | Excelente         | Arte, história e fé em um único local            |\n|    4 | Basílica de São Pedro               | Catedral Católica             | Basílica monumental, uma das maiores e mais importantes igrejas católicas do mundo, com obras de arte renascentistas e barrocas. | Excelente         | Arquitetura e arte religiosa grandiosas          |\n|    5 | Museus Vaticanos                    | Museu de Arte e Antiguidades  | Coleção de arte e artefatos de importância global, incluindo a Capela Sistina com os afrescos de Michelangelo.                   | Excelente         | Coleção de arte e história incomparável          |\n|    6 | Capela Sistina                      | Capela                        | Capela famosa pelos afrescos de Michelangelo, incluindo o teto e o Juízo Final, obra-prima do Renascimento.                      | Excelente         | Afrescos icônicos de Michelangelo                |\n|    7 | Fontana di Trevi                    | Fonte Monumental              | Fonte barroca exuberante, uma das mais famosas do mundo, com esculturas e um cenário impressionante.                             | Muito Popular     | Beleza e atmosfera romântica                     |\n|    8 | Pantheon                            | Templo Romano                 | Templo romano antigo, admirado por sua cúpula perfeita e arquitetura inovadora, atualmente uma igreja.                           | Excelente         | Arquitetura clássica impressionante              |\n|    9 | Piazza Navona                       | Praça Histórica               | Praça barroca animada, com fontes, igrejas e artistas de rua, um local popular para passear e desfrutar da atmosfera romana.     | Muito Popular     | Atmosfera vibrante e beleza barroca              |\n|   10 | Espaço de Trastevere                | Bairro Histórico              | Bairro charmoso e autêntico, com ruas estreitas, restaurantes tradicionais e uma atmosfera romântica.                            | Muito Popular     | Experiência autêntica da Roma antiga             |\n|   11 | Jardins Borghese e Galeria Borghese | Parque e Museu de Arte        | Belos jardins com esculturas e a Galeria Borghese, com obras-primas de Bernini, Caravaggio e outros mestres.                     | Excelente         | Arte e natureza em harmonia                      |\n|   12 | Escadaria Espanhola                 | Escadaria Monumental          | Grande escadaria barroca que liga a Piazza di Spagna à Igreja da Trinità dei Monti, um ponto de encontro popular.                | Muito Popular     | Ponto de encontro icônico e vista panorâmica     |\n|   13 | Castel Sant'Angelo                  | Castelo Histórico             | Castelo imponente com história rica, oferecendo vistas panorâmicas de Roma e exposições sobre sua história.                      | Muito Popular     | História, arquitetura e vistas panorâmicas       |\n|   14 | Mercado Campo de' Fiori             | Mercado Histórico             | Mercado ao ar livre vibrante com produtos frescos, flores e uma atmosfera animada, especialmente pela manhã.                     | Muito Popular     | Experiência autêntica e produtos locais          |\n|   15 | Janículo                            | Mirante Panorâmico            | Colina com vistas panorâmicas deslumbrantes de Roma, incluindo a Basílica de São Pedro e o centro histórico.                     | Excelente         | Vistas panorâmicas de tirar o fôlego             |"
          },
          "metadata": {}
        },
        {
          "output_type": "display_data",
          "data": {
            "text/plain": [
              "<IPython.core.display.Markdown object>"
            ],
            "text/markdown": "---"
          },
          "metadata": {}
        },
        {
          "output_type": "display_data",
          "data": {
            "text/plain": [
              "<IPython.core.display.Markdown object>"
            ],
            "text/markdown": "\n### 🌍 Agente Iniciando Pesquisa para: **Florença, Itália**"
          },
          "metadata": {}
        },
        {
          "output_type": "display_data",
          "data": {
            "text/plain": [
              "<IPython.core.display.Markdown object>"
            ],
            "text/markdown": "🧠 *Agente consultando Gemini sobre atrações em: **Florença, Itália** (Top 15)...*"
          },
          "metadata": {}
        },
        {
          "output_type": "display_data",
          "data": {
            "text/plain": [
              "<IPython.core.display.Markdown object>"
            ],
            "text/markdown": "✅ *Gemini retornou 15 sugestões de atrações para Florença.*"
          },
          "metadata": {}
        },
        {
          "output_type": "display_data",
          "data": {
            "text/plain": [
              "<IPython.core.display.Markdown object>"
            ],
            "text/markdown": "--- Pesquisa para **Florença, Itália** finalizada pelo agente. ---"
          },
          "metadata": {}
        },
        {
          "output_type": "display_data",
          "data": {
            "text/plain": [
              "<IPython.core.display.Markdown object>"
            ],
            "text/markdown": "\n## 📍 Destino: **Florença, Itália**"
          },
          "metadata": {}
        },
        {
          "output_type": "display_data",
          "data": {
            "text/plain": [
              "<IPython.core.display.Markdown object>"
            ],
            "text/markdown": "🗓️ **Período:** 2025-09-16 a 2025-09-19"
          },
          "metadata": {}
        },
        {
          "output_type": "display_data",
          "data": {
            "text/plain": [
              "<IPython.core.display.Markdown object>"
            ],
            "text/markdown": "🏨 **Hospedagem:** Hotel Bodoni"
          },
          "metadata": {}
        },
        {
          "output_type": "display_data",
          "data": {
            "text/plain": [
              "<IPython.core.display.Markdown object>"
            ],
            "text/markdown": "#### 🔍 Links Úteis para Pesquisa Manual Detalhada (abrem em nova aba):"
          },
          "metadata": {}
        },
        {
          "output_type": "display_data",
          "data": {
            "text/plain": [
              "<IPython.core.display.Markdown object>"
            ],
            "text/markdown": "- **[Google Search: Principais atrações](https://www.google.com/search?q=principais+atra%C3%A7%C3%B5es+tur%C3%ADsticas+em+Floren%C3%A7a+It%C3%A1lia)** "
          },
          "metadata": {}
        },
        {
          "output_type": "display_data",
          "data": {
            "text/plain": [
              "<IPython.core.display.Markdown object>"
            ],
            "text/markdown": "- **[Google Maps: Atrações na área](https://www.google.com/maps/search/atra%C3%A7%C3%B5es+tur%C3%ADsticas+em+Floren%C3%A7a%2C+It%C3%A1lia)** "
          },
          "metadata": {}
        },
        {
          "output_type": "display_data",
          "data": {
            "text/plain": [
              "<IPython.core.display.Markdown object>"
            ],
            "text/markdown": "- **[Google Maps: Visão geral da cidade](https://www.google.com/maps/place/Floren%C3%A7a%2C+It%C3%A1lia)** "
          },
          "metadata": {}
        },
        {
          "output_type": "display_data",
          "data": {
            "text/plain": [
              "<IPython.core.display.Markdown object>"
            ],
            "text/markdown": "#### ✨ Sugestões de Atrações Principais (via Agente Gemini):"
          },
          "metadata": {}
        },
        {
          "output_type": "display_data",
          "data": {
            "text/plain": [
              "<IPython.core.display.Markdown object>"
            ],
            "text/markdown": "|   Nº | Atração                      | Tipo Principal            | Descrição Enxuta                                                                                                                 | Avaliação Geral   | Destaque Principal                              |\n|-----:|:-----------------------------|:--------------------------|:---------------------------------------------------------------------------------------------------------------------------------|:------------------|:------------------------------------------------|\n|    1 | Galeria da Academia          | Museu de Arte             | Abriga a coleção mais completa de obras de arte de Michelangelo, incluindo o David e as pinturas da Capela Sistina.              | Excelente         | Coleção de obras-primas de Michelangelo         |\n|    2 | Ponte Vecchio                | Ponte Histórica           | Uma ponte medieval única, famosa por suas lojas construídas ao longo dela, oferecendo vistas deslumbrantes do rio Arno.          | Muito Popular     | Arquitetura icônica e vistas panorâmicas        |\n|    3 | Catedral de Florença (Duomo) | Catedral Gótica           | Uma magnífica catedral com uma cúpula impressionante de Brunelleschi, um exemplo icônico da arquitetura renascentista.           | Excelente         | Arquitetura gótica e renascentista deslumbrante |\n|    4 | Palazzo Pitti                | Palácio Histórico         | Um enorme palácio renascentista que abriga cinco museus, incluindo a Galeria de Arte Moderna e o Museu do Figurino e da Moda.    | Muito Popular     | Coleções de arte e arquitetura impressionante   |\n|    5 | Uffizi Gallery               | Museu de Arte             | Uma das galerias de arte mais famosas do mundo, com uma coleção incomparável de obras-primas renascentistas.                     | Excelente         | Coleção de arte renascentista de renome mundial |\n|    6 | Piazza della Signoria        | Praça Histórica           | Uma praça pública animada no coração de Florença, cercada por edifícios históricos importantes e esculturas.                     | Muito Popular     | Atmosfera vibrante e arquitetura histórica      |\n|    7 | Palazzo Vecchio              | Palácio Histórico e Museu | O antigo palácio do governo de Florença, agora um museu que revela a história política e artística da cidade.                    | Muito Popular     | História e arte florentina                      |\n|    8 | Boboli Gardens               | Jardim Histórico          | Um vasto e exuberante jardim italiano com fontes, esculturas e paisagismo impressionante, localizado atrás do Palazzo Pitti.     | Excelente         | Paisagismo italiano e tranquilidade             |\n|    9 | Mercado de San Lorenzo       | Mercado Histórico         | Um mercado movimentado com bancas de couro, artesanato e produtos locais, oferecendo uma autêntica experiência florentina.       | Muito Popular     | Experiência de compras e atmosfera vibrante     |\n|   10 | Baptistery of San Giovanni   | Batistério Românico       | Um batistério octogonal com portas de bronze famosas, um marco importante da arquitetura românica.                               | Excelente         | Arquitetura românica e portas de bronze         |\n|   11 | Piazzale Michelangelo        | Mirante Panorâmico        | Um mirante com vistas panorâmicas deslumbrantes de Florença, ideal para fotos e apreciar a beleza da cidade.                     | Excelente         | Vistas panorâmicas de Florença                  |\n|   12 | Ponte Santa Trinita          | Ponte Histórica           | Uma elegante ponte de arco sobre o rio Arno, oferecendo vistas encantadoras da cidade e do rio.                                  | Muito Popular     | Beleza arquitetônica e vistas do rio Arno       |\n|   13 | Palazzo Davanzati            | Museu Histórico           | Um museu que oferece um vislumbre da vida de uma rica família florentina na Idade Média, com móveis e artefatos originais.       | 4.5/5 estrelas    | Vislumbre da vida florentina medieval           |\n|   14 | Museo di San Marco           | Museu de Arte e História  | Um museu que abriga uma coleção de obras-primas de Fra Angelico, incluindo afrescos no antigo mosteiro de San Marco.             | Excelente         | Afrescos de Fra Angelico e história religiosa   |\n|   15 | Bargello Museum              | Museu de Escultura        | Um museu que abriga uma coleção impressionante de esculturas renascentistas, incluindo obras-primas de Donatello e Michelangelo. | Excelente         | Coleção de esculturas renascentistas            |"
          },
          "metadata": {}
        },
        {
          "output_type": "display_data",
          "data": {
            "text/plain": [
              "<IPython.core.display.Markdown object>"
            ],
            "text/markdown": "---"
          },
          "metadata": {}
        },
        {
          "output_type": "display_data",
          "data": {
            "text/plain": [
              "<IPython.core.display.Markdown object>"
            ],
            "text/markdown": "\n### 🌍 Agente Iniciando Pesquisa para: **Viena, Aústria**"
          },
          "metadata": {}
        },
        {
          "output_type": "display_data",
          "data": {
            "text/plain": [
              "<IPython.core.display.Markdown object>"
            ],
            "text/markdown": "🧠 *Agente consultando Gemini sobre atrações em: **Viena, Aústria** (Top 15)...*"
          },
          "metadata": {}
        },
        {
          "output_type": "display_data",
          "data": {
            "text/plain": [
              "<IPython.core.display.Markdown object>"
            ],
            "text/markdown": "✅ *Gemini retornou 15 sugestões de atrações para Viena.*"
          },
          "metadata": {}
        },
        {
          "output_type": "display_data",
          "data": {
            "text/plain": [
              "<IPython.core.display.Markdown object>"
            ],
            "text/markdown": "--- Pesquisa para **Viena, Aústria** finalizada pelo agente. ---"
          },
          "metadata": {}
        },
        {
          "output_type": "display_data",
          "data": {
            "text/plain": [
              "<IPython.core.display.Markdown object>"
            ],
            "text/markdown": "\n## 📍 Destino: **Viena, Aústria**"
          },
          "metadata": {}
        },
        {
          "output_type": "display_data",
          "data": {
            "text/plain": [
              "<IPython.core.display.Markdown object>"
            ],
            "text/markdown": "🗓️ **Período:** 2025-09-20 a 2025-09-24"
          },
          "metadata": {}
        },
        {
          "output_type": "display_data",
          "data": {
            "text/plain": [
              "<IPython.core.display.Markdown object>"
            ],
            "text/markdown": "🏨 **Hospedagem:** Hilton Vienna Park"
          },
          "metadata": {}
        },
        {
          "output_type": "display_data",
          "data": {
            "text/plain": [
              "<IPython.core.display.Markdown object>"
            ],
            "text/markdown": "#### 🔍 Links Úteis para Pesquisa Manual Detalhada (abrem em nova aba):"
          },
          "metadata": {}
        },
        {
          "output_type": "display_data",
          "data": {
            "text/plain": [
              "<IPython.core.display.Markdown object>"
            ],
            "text/markdown": "- **[Google Search: Principais atrações](https://www.google.com/search?q=principais+atra%C3%A7%C3%B5es+tur%C3%ADsticas+em+Viena+A%C3%BAstria)** "
          },
          "metadata": {}
        },
        {
          "output_type": "display_data",
          "data": {
            "text/plain": [
              "<IPython.core.display.Markdown object>"
            ],
            "text/markdown": "- **[Google Maps: Atrações na área](https://www.google.com/maps/search/atra%C3%A7%C3%B5es+tur%C3%ADsticas+em+Viena%2C+A%C3%BAstria)** "
          },
          "metadata": {}
        },
        {
          "output_type": "display_data",
          "data": {
            "text/plain": [
              "<IPython.core.display.Markdown object>"
            ],
            "text/markdown": "- **[Google Maps: Visão geral da cidade](https://www.google.com/maps/place/Viena%2C+A%C3%BAstria)** "
          },
          "metadata": {}
        },
        {
          "output_type": "display_data",
          "data": {
            "text/plain": [
              "<IPython.core.display.Markdown object>"
            ],
            "text/markdown": "#### ✨ Sugestões de Atrações Principais (via Agente Gemini):"
          },
          "metadata": {}
        },
        {
          "output_type": "display_data",
          "data": {
            "text/plain": [
              "<IPython.core.display.Markdown object>"
            ],
            "text/markdown": "|   Nº | Atração                       | Tipo Principal                   | Descrição Enxuta                                                                                                                                  | Avaliação Geral   | Destaque Principal                                 |\n|-----:|:------------------------------|:---------------------------------|:--------------------------------------------------------------------------------------------------------------------------------------------------|:------------------|:---------------------------------------------------|\n|    1 | Palácio de Schönbrunn         | Palácio Histórico e Jardins      | Residência de verão dos Habsburgos, com exuberantes jardins, palácios e museus, oferecendo um vislumbre da história imperial austríaca.           | Excelente         | Magnificência arquitetônica e paisagística         |\n|    2 | Hofburg                       | Complexo de Palácios Imperiais   | Antiga residência de inverno dos Habsburgos, abrigando museus, capelas e a Escola Espanhola de Equitação, um centro histórico e cultural.         | Muito Popular     | História imperial e arquitetura deslumbrante       |\n|    3 | Catedral de Santo Estêvão     | Catedral Gótica                  | Símbolo icônico de Viena, com arquitetura gótica impressionante, tesouros religiosos e vistas panorâmicas do topo da torre sul.                   | Excelente         | Arquitetura gótica e importância histórica         |\n|    4 | Museu de História da Arte     | Museu de Arte                    | Coleção excepcional de arte mundial, desde a antiguidade até o século XVIII, com obras-primas de artistas renomados como Rafael e Michelangelo.   | 4.5/5 estrelas    | Coleção de arte abrangente e de alta qualidade     |\n|    5 | Belvedere                     | Palácio e Museu de Arte          | Conjunto de dois palácios barrocos que abrigam a maior coleção de obras de Gustav Klimt, incluindo 'O Beijo'.                                     | Excelente         | Obras-primas de Gustav Klimt e arquitetura barroca |\n|    6 | Prater                        | Parque de Diversões Histórico    | Parque de diversões icônico com a famosa Roda-Gigante, oferecendo entretenimento e vistas panorâmicas da cidade.                                  | Muito Popular     | Entretenimento e vistas da cidade                  |\n|    7 | Naschmarkt                    | Mercado Histórico                | Um dos maiores e mais antigos mercados ao ar livre da Europa, oferecendo uma variedade de produtos frescos, especiarias e comidas internacionais. | 4.0/5 estrelas    | Experiência gastronômica e cultural vibrante       |\n|    8 | Palácio de Belvedere Superior | Museu de Arte Barroca            | Palácio barroco que abriga uma coleção impressionante de arte austríaca, com destaque para as obras de Gustav Klimt.                              | Excelente         | Obras-primas de Gustav Klimt e arquitetura barroca |\n|    9 | Casa da Música                | Centro de Música Moderna         | Centro de concertos de arquitetura moderna e inovadora, com acústica excepcional e uma programação diversificada.                                 | 4.5/5 estrelas    | Arquitetura moderna e concertos de alta qualidade  |\n|   10 | Stephansplatz                 | Praça Histórica                  | Praça central de Viena, localizada em frente à Catedral de Santo Estêvão, com atmosfera vibrante e edifícios históricos.                          | Muito Popular     | Atmosfera histórica e central                      |\n|   11 | Roda-Gigante do Prater        | Atração de Entretenimento        | Uma das mais antigas e famosas rodas-gigantes do mundo, oferecendo vistas panorâmicas de Viena do alto.                                           | Muito Popular     | Vistas panorâmicas de Viena                        |\n|   12 | Volksgarten                   | Parque Urbano                    | Parque público com jardins bem cuidados, monumentos históricos e o famoso monumento a Mozart.                                                     | 4.0/5 estrelas    | Espaço verde tranquilo no coração da cidade        |\n|   13 | Museu Albertina               | Museu de Artes Gráficas          | Coleção excepcional de gravuras, desenhos e fotografias, com obras de artistas renomados como Michelangelo e Picasso.                             | 4.5/5 estrelas    | Coleção de artes gráficas de renome mundial        |\n|   14 | Danúbio                       | Rio e Paisagem Urbana            | O rio Danúbio atravessa Viena, oferecendo passeios de barco, vistas pitorescas e oportunidades para relaxar nas margens.                          | N/A               | Paisagens urbanas e passeios de barco              |\n|   15 | Palácio do Arsenal            | Museu de Arte Militar e História | Museu que apresenta a história militar da Áustria, com uma coleção impressionante de armas, armaduras e artefatos históricos.                     | 4.0/5 estrelas    | História militar austríaca e artefatos históricos  |"
          },
          "metadata": {}
        },
        {
          "output_type": "display_data",
          "data": {
            "text/plain": [
              "<IPython.core.display.Markdown object>"
            ],
            "text/markdown": "---"
          },
          "metadata": {}
        },
        {
          "output_type": "stream",
          "name": "stdout",
          "text": [
            "\n",
            "Dados completos da pesquisa salvos em `atracoes_pesquisadas.json`.\n"
          ]
        }
      ]
    },
    {
      "cell_type": "code",
      "metadata": {
        "id": "7C8bqQw_jR4N"
      },
      "source": [
        "\n",
        "# --- Definição do Agente Montador de Roteiros ---\n",
        "\n",
        "class MontadorDeRoteiros:\n",
        "    \"\"\"\n",
        "    Um agente responsável por organizar as atrações por dia, considerando proximidade,\n",
        "    hospedagem como ponto de partida/chegada, e adicionando elementos para tornar o roteiro prazeroso e divertido.\n",
        "    \"\"\"\n",
        "    def __init__(self, modelo_llm: genai.GenerativeModel):\n",
        "        if modelo_llm is None:\n",
        "            raise ValueError(\"O modelo LLM (Gemini) não pode ser None para este agente.\")\n",
        "        self.modelo = modelo_llm\n",
        "        self.safety_settings = [ # Configurações de segurança para o Gemini\n",
        "            {\"category\": \"HARM_CATEGORY_HARASSMENT\", \"threshold\": \"BLOCK_MEDIUM_AND_ABOVE\"},\n",
        "            {\"category\": \"HARM_CATEGORY_HATE_SPEECH\", \"threshold\": \"BLOCK_MEDIUM_AND_ABOVE\"},\n",
        "            {\"category\": \"HARM_CATEGORY_SEXUALLY_EXPLICIT\", \"threshold\": \"BLOCK_MEDIUM_AND_ABOVE\"},\n",
        "            {\"category\": \"HARM_CATEGORY_DANGEROUS_CONTENT\", \"threshold\": \"BLOCK_MEDIUM_AND_ABOVE\"},\n",
        "        ]\n",
        "\n",
        "    def montar_roteiro(self, cidade: str, pais: str, atracoes: list, hospedagem: str, data_chegada: str, data_partida: str) -> dict:\n",
        "        \"\"\"\n",
        "        Monta um roteiro diário otimizado para as atrações, considerando a hospedagem e datas.\n",
        "        \"\"\"\n",
        "        from datetime import datetime\n",
        "        delta = datetime.strptime(data_partida, \"%Y-%m-%d\") - datetime.strptime(data_chegada, \"%Y-%m-%d\")\n",
        "        dias_viagem = delta.days + 1 # Inclui o dia de chegada e partida\n",
        "\n",
        "        atracoes_str = json.dumps(atracoes, ensure_ascii=False, indent=2)\n",
        "\n",
        "        prompt = f\"\"\"\n",
        "        Você é um especialista em planejamento de roteiros de viagem, focado em otimização e experiência do viajante.\n",
        "        Sua tarefa é criar um roteiro diário detalhado para uma viagem a {cidade}, {pais}, com base nas atrações fornecidas.\n",
        "        A viagem será de {data_chegada} a {data_partida}, totalizando {dias_viagem} dias.\n",
        "        A hospedagem principal é em: {hospedagem}.\n",
        "\n",
        "        Atrações disponíveis (formato JSON):\n",
        "        ```json\n",
        "        {atracoes_str}\n",
        "        ```\n",
        "\n",
        "        Critérios para o roteiro:\n",
        "        1.  **Otimização por Proximidade:** Agrupe atrações próximas geograficamente para minimizar deslocamentos.\n",
        "        2.  **Ponto de Partida/Chegada:** Comece o dia próximo à hospedagem e, idealmente, termine o dia retornando a ela.\n",
        "        3.  **Fluxo Lógico:** Organize as visitas de forma sequencial e natural (ex: museus pela manhã, parques à tarde, jantar à noite).\n",
        "        4.  **Experiência do Viajante:** Inclua sugestões de refeições (café, almoço, jantar), pausas, transporte e atividades opcionais para tornar o dia prazeroso e divertido.\n",
        "        5.  **Informações Essenciais:** Para cada atração, inclua o nome, tipo, e um breve lembrete do destaque principal.\n",
        "        6.  **Número de Atrações por Dia:** Distribua as atrações de forma realista, evitando sobrecarga. Considere 3-5 atrações principais por dia, dependendo da complexidade.\n",
        "        7.  **Flexibilidade:** Adicione uma nota sobre a flexibilidade do roteiro e a possibilidade de ajustes.\n",
        "\n",
        "        Formato da Resposta:\n",
        "        Retorne **estritamente um objeto JSON**. O objeto deve conter uma chave \"roteiro_diario\" que é uma lista de objetos,\n",
        "        onde cada objeto representa um dia e contém as seguintes chaves:\n",
        "        - \"dia\": (inteiro) O número do dia (ex: 1, 2, 3...).\n",
        "        - \"data\": (string) A data correspondente ao dia (formato YYYY-MM-DD).\n",
        "        - \"atividades\": (lista de strings) Uma lista de atividades para o dia, incluindo atrações, refeições, transporte, etc.\n",
        "\n",
        "        Exemplo de formato de saída:\n",
        "        {{\n",
        "          \"roteiro_diario\": [\n",
        "            {{\n",
        "              \"dia\": 1,\n",
        "              \"data\": \"2025-07-01\",\n",
        "              \"atividades\": [\n",
        "                \"Manhã: Café da manhã na hospedagem.\",\n",
        "                \"Manhã: Visita ao Museu do Louvre (Coleção de arte de renome mundial). Sugestão: Chegar cedo para evitar filas.\",\n",
        "                \"Almoço: Sugestão de bistrô próximo ao museu.\",\n",
        "                \"Tarde: Passeio pela Torre Eiffel (Vistas panorâmicas de Paris). Sugestão: Comprar ingressos online com antecedência.\",\n",
        "                \"Noite: Jantar em restaurante com vista para o Sena. Retorno à hospedagem.\"\n",
        "              ]\n",
        "            }},\n",
        "            {{\n",
        "              \"dia\": 2,\n",
        "              \"data\": \"2025-07-02\",\n",
        "              \"atividades\": [\n",
        "                \"Manhã: Café da manhã.\",\n",
        "                \"Manhã: Visita à Catedral de Notre-Dame (Arquitetura gótica impressionante). Sugestão: Verificar horários de missa.\",\n",
        "                \"Almoço: Piquenique no Jardim de Luxemburgo.\",\n",
        "                \"Tarde: Exploração do bairro de Montmartre e Sacré-Cœur (Charme artístico e vistas elevadas). Sugestão: Usar transporte público para subir a colina.\",\n",
        "                \"Noite: Jantar e show de cabaré. Retorno à hospedagem.\"\n",
        "              ]\n",
        "            }}\n",
        "          ]\n",
        "        }}\n",
        "\n",
        "        Garanta que a saída seja SOMENTE o objeto JSON, sem nenhum texto introdutório, comentários ou formatação adicional.\n",
        "        \"\"\"\n",
        "\n",
        "        try:\n",
        "            response = self.modelo.generate_content(\n",
        "                prompt,\n",
        "                generation_config=genai.types.GenerationConfig(\n",
        "                    temperature=0.7, # Um pouco mais criativo para roteiros\n",
        "                    max_output_tokens=4096 # Espaço suficiente para o roteiro detalhado\n",
        "                ),\n",
        "                safety_settings=self.safety_settings\n",
        "            )\n",
        "\n",
        "            json_text = response.text.strip()\n",
        "            if json_text.startswith(\"```json\"):\n",
        "                json_text = json_text[7:]\n",
        "            if json_text.endswith(\"```\"):\n",
        "                json_text = json_text[:-3]\n",
        "            json_text = json_text.strip()\n",
        "\n",
        "            if not json_text:\n",
        "                display(Markdown(f\"<font color='orange'>Aviso: Gemini retornou uma resposta vazia para o roteiro de {cidade}.</font>\"))\n",
        "                return {\"roteiro_diario\": []}\n",
        "\n",
        "            roteiro = json.loads(json_text)\n",
        "            if not isinstance(roteiro, dict) or \"roteiro_diario\" not in roteiro:\n",
        "                 display(Markdown(f\"<font color='orange'>Aviso: Gemini retornou um formato inesperado (não um dicionário com 'roteiro_diario') para {cidade}.</font>\"))\n",
        "                 return {\"roteiro_diario\": []}\n",
        "\n",
        "            display(Markdown(f\"✅ *Gemini montou um roteiro com {len(roteiro.get('roteiro_diario', []))} dias para {cidade}.*\"))\n",
        "            return roteiro\n",
        "        except json.JSONDecodeError as e:\n",
        "            display(Markdown(f\"<font color='red'>**Erro (JSONDecodeError) ao processar resposta do Gemini para o roteiro de {cidade}:** {e}. \"\n",
        "                             \"Isso geralmente ocorre se o modelo não retornar um JSON válido.</font>\"))\n",
        "            if hasattr(response, 'text'):\n",
        "                display(Markdown(f\"<pre>Resposta Bruta do Gemini:\\n{response.text}</pre>\"))\n",
        "            else:\n",
        "                 display(Markdown(f\"<pre>Nenhuma resposta de texto recebida do Gemini.</pre>\"))\n",
        "            return {\"roteiro_diario\": []}\n",
        "        except Exception as e:\n",
        "            display(Markdown(f\"<font color='red'>**Erro inesperado ao consultar Gemini para o roteiro de {cidade}:** {e}</font>\"))\n",
        "            if hasattr(response, 'prompt_feedback'):\n",
        "                display(Markdown(f\"Feedback do Prompt: {response.prompt_feedback}\"))\n",
        "            return {\"roteiro_diario\": []}\n",
        "\n",
        "\n"
      ],
      "execution_count": 9,
      "outputs": []
    },
    {
      "cell_type": "code",
      "metadata": {
        "id": "DbloKMtwjR4O"
      },
      "source": [
        "\n",
        "# --- Definição do Agente Montador de Roteiros ---\n",
        "\n",
        "class MontadorDeRoteiros:\n",
        "    \"\"\"\n",
        "    Um agente responsável por organizar as atrações por dia, considerando proximidade,\n",
        "    hospedagem como ponto de partida/chegada, e adicionando elementos para tornar o roteiro prazeroso e divertido.\n",
        "    \"\"\"\n",
        "    def __init__(self, modelo_llm: genai.GenerativeModel):\n",
        "        if modelo_llm is None:\n",
        "            raise ValueError(\"O modelo LLM (Gemini) não pode ser None para este agente.\")\n",
        "        self.modelo = modelo_llm\n",
        "        self.safety_settings = [ # Configurações de segurança para o Gemini\n",
        "            {\"category\": \"HARM_CATEGORY_HARASSMENT\", \"threshold\": \"BLOCK_MEDIUM_AND_ABOVE\"},\n",
        "            {\"category\": \"HARM_CATEGORY_HATE_SPEECH\", \"threshold\": \"BLOCK_MEDIUM_AND_ABOVE\"},\n",
        "            {\"category\": \"HARM_CATEGORY_SEXUALLY_EXPLICIT\", \"threshold\": \"BLOCK_MEDIUM_AND_ABOVE\"},\n",
        "            {\"category\": \"HARM_CATEGORY_DANGEROUS_CONTENT\", \"threshold\": \"BLOCK_MEDIUM_AND_ABOVE\"},\n",
        "        ]\n",
        "\n",
        "    def montar_roteiro(self, cidade: str, pais: str, atracoes: list, hospedagem: str, data_chegada: str, data_partida: str) -> dict:\n",
        "        \"\"\"\n",
        "        Monta um roteiro diário otimizado para as atrações, considerando a hospedagem e datas.\n",
        "        \"\"\"\n",
        "        from datetime import datetime\n",
        "        delta = datetime.strptime(data_partida, \"%Y-%m-%d\") - datetime.strptime(data_chegada, \"%Y-%m-%d\")\n",
        "        dias_viagem = delta.days + 1 # Inclui o dia de chegada e partida\n",
        "\n",
        "        atracoes_str = json.dumps(atracoes, ensure_ascii=False, indent=2)\n",
        "\n",
        "        prompt = f\"\"\"\n",
        "        Você é um especialista em planejamento de roteiros de viagem, focado em otimização e experiência do viajante.\n",
        "        Sua tarefa é criar um roteiro diário detalhado para uma viagem a {cidade}, {pais}, com base nas atrações fornecidas.\n",
        "        A viagem será de {data_chegada} a {data_partida}, totalizando {dias_viagem} dias.\n",
        "        A hospedagem principal é em: {hospedagem}.\n",
        "\n",
        "        Atrações disponíveis (formato JSON):\n",
        "        ```json\n",
        "        {atracoes_str}\n",
        "        ```\n",
        "\n",
        "        Critérios para o roteiro:\n",
        "        1.  **Otimização por Proximidade:** Agrupe atrações próximas geograficamente para minimizar deslocamentos.\n",
        "        2.  **Ponto de Partida/Chegada:** Comece o dia próximo à hospedagem e, idealmente, termine o dia retornando a ela.\n",
        "        3.  **Fluxo Lógico:** Organize as visitas de forma sequencial e natural (ex: museus pela manhã, parques à tarde, jantar à noite).\n",
        "        4.  **Experiência do Viajante:** Inclua sugestões de refeições (café, almoço, jantar), pausas, transporte e atividades opcionais para tornar o dia prazeroso e divertido.\n",
        "        5.  **Informações Essenciais:** Para cada atração, inclua o nome, tipo, e um breve lembrete do destaque principal.\n",
        "        6.  **Número de Atrações por Dia:** Distribua as atrações de forma realista, evitando sobrecarga. Considere 3-5 atrações principais por dia, dependendo da complexidade.\n",
        "        7.  **Flexibilidade:** Adicione uma nota sobre a flexibilidade do roteiro e a possibilidade de ajustes.\n",
        "\n",
        "        Formato da Resposta:\n",
        "        Retorne **estritamente um objeto JSON**. O objeto deve conter uma chave \"roteiro_diario\" que é uma lista de objetos,\n",
        "        onde cada objeto representa um dia e contém as seguintes chaves:\n",
        "        - \"dia\": (inteiro) O número do dia (ex: 1, 2, 3...).\n",
        "        - \"data\": (string) A data correspondente ao dia (formato YYYY-MM-DD).\n",
        "        - \"atividades\": (lista de strings) Uma lista de atividades para o dia, incluindo atrações, refeições, transporte, etc.\n",
        "\n",
        "        Exemplo de formato de saída:\n",
        "        {{\n",
        "          \"roteiro_diario\": [\n",
        "            {{\n",
        "              \"dia\": 1,\n",
        "              \"data\": \"2025-07-01\",\n",
        "              \"atividades\": [\n",
        "                \"Manhã: Café da manhã na hospedagem.\",\n",
        "                \"Manhã: Visita ao Museu do Louvre (Coleção de arte de renome mundial). Sugestão: Chegar cedo para evitar filas.\",\n",
        "                \"Almoço: Sugestão de bistrô próximo ao museu.\",\n",
        "                \"Tarde: Passeio pela Torre Eiffel (Vistas panorâmicas de Paris). Sugestão: Comprar ingressos online com antecedência.\",\n",
        "                \"Noite: Jantar em restaurante com vista para o Sena. Retorno à hospedagem.\"\n",
        "              ]\n",
        "            }},\n",
        "            {{\n",
        "              \"dia\": 2,\n",
        "              \"data\": \"2025-07-02\",\n",
        "              \"atividades\": [\n",
        "                \"Manhã: Café da manhã.\",\n",
        "                \"Manhã: Visita à Catedral de Notre-Dame (Arquitetura gótica impressionante). Sugestão: Verificar horários de missa.\",\n",
        "                \"Almoço: Piquenique no Jardim de Luxemburgo.\",\n",
        "                \"Tarde: Exploração do bairro de Montmartre e Sacré-Cœur (Charme artístico e vistas elevadas). Sugestão: Usar transporte público para subir a colina.\",\n",
        "                \"Noite: Jantar e show de cabaré. Retorno à hospedagem.\"\n",
        "              ]\n",
        "            }}\n",
        "          ]\n",
        "        }}\n",
        "\n",
        "        Garanta que a saída seja SOMENTE o objeto JSON, sem nenhum texto introdutório, comentários ou formatação adicional.\n",
        "        \"\"\"\n",
        "\n",
        "        try:\n",
        "            response = self.modelo.generate_content(\n",
        "                prompt,\n",
        "                generation_config=genai.types.GenerationConfig(\n",
        "                    temperature=0.7, # Um pouco mais criativo para roteiros\n",
        "                    max_output_tokens=4096 # Espaço suficiente para o roteiro detalhado\n",
        "                ),\n",
        "                safety_settings=self.safety_settings\n",
        "            )\n",
        "\n",
        "            json_text = response.text.strip()\n",
        "            if json_text.startswith(\"```json\"):\n",
        "                json_text = json_text[7:]\n",
        "            if json_text.endswith(\"```\"):\n",
        "                json_text = json_text[:-3]\n",
        "            json_text = json_text.strip()\n",
        "\n",
        "            if not json_text:\n",
        "                display(Markdown(f\"<font color='orange'>Aviso: Gemini retornou uma resposta vazia para o roteiro de {cidade}.</font>\"))\n",
        "                return {\"roteiro_diario\": []}\n",
        "\n",
        "            roteiro = json.loads(json_text)\n",
        "            if not isinstance(roteiro, dict) or \"roteiro_diario\" not in roteiro:\n",
        "                 display(Markdown(f\"<font color='orange'>Aviso: Gemini retornou um formato inesperado (não um dicionário com 'roteiro_diario') para {cidade}.</font>\"))\n",
        "                 return {\"roteiro_diario\": []}\n",
        "\n",
        "            display(Markdown(f\"✅ *Gemini montou um roteiro com {len(roteiro.get('roteiro_diario', []))} dias para {cidade}.*\"))\n",
        "            return roteiro\n",
        "        except json.JSONDecodeError as e:\n",
        "            display(Markdown(f\"<font color='red'>**Erro (JSONDecodeError) ao processar resposta do Gemini para o roteiro de {cidade}:** {e}. \"\n",
        "                             \"Isso geralmente ocorre se o modelo não retornar um JSON válido.</font>\"))\n",
        "            if hasattr(response, 'text'):\n",
        "                display(Markdown(f\"<pre>Resposta Bruta do Gemini:\\n{response.text}</pre>\"))\n",
        "            else:\n",
        "                 display(Markdown(f\"<pre>Nenhuma resposta de texto recebida do Gemini.</pre>\"))\n",
        "            return {\"roteiro_diario\": []}\n",
        "        except Exception as e:\n",
        "            display(Markdown(f\"<font color='red'>**Erro inesperado ao consultar Gemini para o roteiro de {cidade}:** {e}</font>\"))\n",
        "            if hasattr(response, 'prompt_feedback'):\n",
        "                display(Markdown(f\"Feedback do Prompt: {response.prompt_feedback}\"))\n",
        "            return {\"roteiro_diario\": []}\n",
        "\n",
        "\n"
      ],
      "execution_count": 7,
      "outputs": []
    },
    {
      "cell_type": "code",
      "metadata": {
        "colab": {
          "base_uri": "https://localhost:8080/",
          "height": 1000
        },
        "collapsed": true,
        "id": "4b422ff2",
        "outputId": "fb1cb10a-cd30-4a08-93e7-31f585066736"
      },
      "source": [
        "dados_compilados = executar_planejador_viagem(\"/content/europa.csv\")"
      ],
      "execution_count": 8,
      "outputs": [
        {
          "output_type": "display_data",
          "data": {
            "text/plain": [
              "<IPython.core.display.Markdown object>"
            ],
            "text/markdown": "### Arquivo de Viagem (`/content/europa.csv`)"
          },
          "metadata": {}
        },
        {
          "output_type": "display_data",
          "data": {
            "text/plain": [
              "     cidade     pais data_chegada data_partida                    hospedagem\n",
              "0      Roma   Itália   2025-09-13   2025-09-16  Via Francesco Caracciolo n.7\n",
              "1  Florença   Itália   2025-09-16   2025-09-19                  Hotel Bodoni\n",
              "2     Viena  Aústria   2025-09-20   2025-09-24            Hilton Vienna Park"
            ],
            "text/html": [
              "\n",
              "  <div id=\"df-62e44779-ab47-490c-a3e3-f0d82b4986b8\" class=\"colab-df-container\">\n",
              "    <div>\n",
              "<style scoped>\n",
              "    .dataframe tbody tr th:only-of-type {\n",
              "        vertical-align: middle;\n",
              "    }\n",
              "\n",
              "    .dataframe tbody tr th {\n",
              "        vertical-align: top;\n",
              "    }\n",
              "\n",
              "    .dataframe thead th {\n",
              "        text-align: right;\n",
              "    }\n",
              "</style>\n",
              "<table border=\"1\" class=\"dataframe\">\n",
              "  <thead>\n",
              "    <tr style=\"text-align: right;\">\n",
              "      <th></th>\n",
              "      <th>cidade</th>\n",
              "      <th>pais</th>\n",
              "      <th>data_chegada</th>\n",
              "      <th>data_partida</th>\n",
              "      <th>hospedagem</th>\n",
              "    </tr>\n",
              "  </thead>\n",
              "  <tbody>\n",
              "    <tr>\n",
              "      <th>0</th>\n",
              "      <td>Roma</td>\n",
              "      <td>Itália</td>\n",
              "      <td>2025-09-13</td>\n",
              "      <td>2025-09-16</td>\n",
              "      <td>Via Francesco Caracciolo n.7</td>\n",
              "    </tr>\n",
              "    <tr>\n",
              "      <th>1</th>\n",
              "      <td>Florença</td>\n",
              "      <td>Itália</td>\n",
              "      <td>2025-09-16</td>\n",
              "      <td>2025-09-19</td>\n",
              "      <td>Hotel Bodoni</td>\n",
              "    </tr>\n",
              "    <tr>\n",
              "      <th>2</th>\n",
              "      <td>Viena</td>\n",
              "      <td>Aústria</td>\n",
              "      <td>2025-09-20</td>\n",
              "      <td>2025-09-24</td>\n",
              "      <td>Hilton Vienna Park</td>\n",
              "    </tr>\n",
              "  </tbody>\n",
              "</table>\n",
              "</div>\n",
              "    <div class=\"colab-df-buttons\">\n",
              "\n",
              "  <div class=\"colab-df-container\">\n",
              "    <button class=\"colab-df-convert\" onclick=\"convertToInteractive('df-62e44779-ab47-490c-a3e3-f0d82b4986b8')\"\n",
              "            title=\"Convert this dataframe to an interactive table.\"\n",
              "            style=\"display:none;\">\n",
              "\n",
              "  <svg xmlns=\"http://www.w3.org/2000/svg\" height=\"24px\" viewBox=\"0 -960 960 960\">\n",
              "    <path d=\"M120-120v-720h720v720H120Zm60-500h600v-160H180v160Zm220 220h160v-160H400v160Zm0 220h160v-160H400v160ZM180-400h160v-160H180v160Zm440 0h160v-160H620v160ZM180-180h160v-160H180v160Zm440 0h160v-160H620v160Z\"/>\n",
              "  </svg>\n",
              "    </button>\n",
              "\n",
              "  <style>\n",
              "    .colab-df-container {\n",
              "      display:flex;\n",
              "      gap: 12px;\n",
              "    }\n",
              "\n",
              "    .colab-df-convert {\n",
              "      background-color: #E8F0FE;\n",
              "      border: none;\n",
              "      border-radius: 50%;\n",
              "      cursor: pointer;\n",
              "      display: none;\n",
              "      fill: #1967D2;\n",
              "      height: 32px;\n",
              "      padding: 0 0 0 0;\n",
              "      width: 32px;\n",
              "    }\n",
              "\n",
              "    .colab-df-convert:hover {\n",
              "      background-color: #E2EBFA;\n",
              "      box-shadow: 0px 1px 2px rgba(60, 64, 67, 0.3), 0px 1px 3px 1px rgba(60, 64, 67, 0.15);\n",
              "      fill: #174EA6;\n",
              "    }\n",
              "\n",
              "    .colab-df-buttons div {\n",
              "      margin-bottom: 4px;\n",
              "    }\n",
              "\n",
              "    [theme=dark] .colab-df-convert {\n",
              "      background-color: #3B4455;\n",
              "      fill: #D2E3FC;\n",
              "    }\n",
              "\n",
              "    [theme=dark] .colab-df-convert:hover {\n",
              "      background-color: #434B5C;\n",
              "      box-shadow: 0px 1px 3px 1px rgba(0, 0, 0, 0.15);\n",
              "      filter: drop-shadow(0px 1px 2px rgba(0, 0, 0, 0.3));\n",
              "      fill: #FFFFFF;\n",
              "    }\n",
              "  </style>\n",
              "\n",
              "    <script>\n",
              "      const buttonEl =\n",
              "        document.querySelector('#df-62e44779-ab47-490c-a3e3-f0d82b4986b8 button.colab-df-convert');\n",
              "      buttonEl.style.display =\n",
              "        google.colab.kernel.accessAllowed ? 'block' : 'none';\n",
              "\n",
              "      async function convertToInteractive(key) {\n",
              "        const element = document.querySelector('#df-62e44779-ab47-490c-a3e3-f0d82b4986b8');\n",
              "        const dataTable =\n",
              "          await google.colab.kernel.invokeFunction('convertToInteractive',\n",
              "                                                    [key], {});\n",
              "        if (!dataTable) return;\n",
              "\n",
              "        const docLinkHtml = 'Like what you see? Visit the ' +\n",
              "          '<a target=\"_blank\" href=https://colab.research.google.com/notebooks/data_table.ipynb>data table notebook</a>'\n",
              "          + ' to learn more about interactive tables.';\n",
              "        element.innerHTML = '';\n",
              "        dataTable['output_type'] = 'display_data';\n",
              "        await google.colab.output.renderOutput(dataTable, element);\n",
              "        const docLink = document.createElement('div');\n",
              "        docLink.innerHTML = docLinkHtml;\n",
              "        element.appendChild(docLink);\n",
              "      }\n",
              "    </script>\n",
              "  </div>\n",
              "\n",
              "\n",
              "    <div id=\"df-b800cafb-25b0-46c2-a426-6baf89b4f931\">\n",
              "      <button class=\"colab-df-quickchart\" onclick=\"quickchart('df-b800cafb-25b0-46c2-a426-6baf89b4f931')\"\n",
              "                title=\"Suggest charts\"\n",
              "                style=\"display:none;\">\n",
              "\n",
              "<svg xmlns=\"http://www.w3.org/2000/svg\" height=\"24px\"viewBox=\"0 0 24 24\"\n",
              "     width=\"24px\">\n",
              "    <g>\n",
              "        <path d=\"M19 3H5c-1.1 0-2 .9-2 2v14c0 1.1.9 2 2 2h14c1.1 0 2-.9 2-2V5c0-1.1-.9-2-2-2zM9 17H7v-7h2v7zm4 0h-2V7h2v10zm4 0h-2v-4h2v4z\"/>\n",
              "    </g>\n",
              "</svg>\n",
              "      </button>\n",
              "\n",
              "<style>\n",
              "  .colab-df-quickchart {\n",
              "      --bg-color: #E8F0FE;\n",
              "      --fill-color: #1967D2;\n",
              "      --hover-bg-color: #E2EBFA;\n",
              "      --hover-fill-color: #174EA6;\n",
              "      --disabled-fill-color: #AAA;\n",
              "      --disabled-bg-color: #DDD;\n",
              "  }\n",
              "\n",
              "  [theme=dark] .colab-df-quickchart {\n",
              "      --bg-color: #3B4455;\n",
              "      --fill-color: #D2E3FC;\n",
              "      --hover-bg-color: #434B5C;\n",
              "      --hover-fill-color: #FFFFFF;\n",
              "      --disabled-bg-color: #3B4455;\n",
              "      --disabled-fill-color: #666;\n",
              "  }\n",
              "\n",
              "  .colab-df-quickchart {\n",
              "    background-color: var(--bg-color);\n",
              "    border: none;\n",
              "    border-radius: 50%;\n",
              "    cursor: pointer;\n",
              "    display: none;\n",
              "    fill: var(--fill-color);\n",
              "    height: 32px;\n",
              "    padding: 0;\n",
              "    width: 32px;\n",
              "  }\n",
              "\n",
              "  .colab-df-quickchart:hover {\n",
              "    background-color: var(--hover-bg-color);\n",
              "    box-shadow: 0 1px 2px rgba(60, 64, 67, 0.3), 0 1px 3px 1px rgba(60, 64, 67, 0.15);\n",
              "    fill: var(--button-hover-fill-color);\n",
              "  }\n",
              "\n",
              "  .colab-df-quickchart-complete:disabled,\n",
              "  .colab-df-quickchart-complete:disabled:hover {\n",
              "    background-color: var(--disabled-bg-color);\n",
              "    fill: var(--disabled-fill-color);\n",
              "    box-shadow: none;\n",
              "  }\n",
              "\n",
              "  .colab-df-spinner {\n",
              "    border: 2px solid var(--fill-color);\n",
              "    border-color: transparent;\n",
              "    border-bottom-color: var(--fill-color);\n",
              "    animation:\n",
              "      spin 1s steps(1) infinite;\n",
              "  }\n",
              "\n",
              "  @keyframes spin {\n",
              "    0% {\n",
              "      border-color: transparent;\n",
              "      border-bottom-color: var(--fill-color);\n",
              "      border-left-color: var(--fill-color);\n",
              "    }\n",
              "    20% {\n",
              "      border-color: transparent;\n",
              "      border-left-color: var(--fill-color);\n",
              "      border-top-color: var(--fill-color);\n",
              "    }\n",
              "    30% {\n",
              "      border-color: transparent;\n",
              "      border-left-color: var(--fill-color);\n",
              "      border-top-color: var(--fill-color);\n",
              "      border-right-color: var(--fill-color);\n",
              "    }\n",
              "    40% {\n",
              "      border-color: transparent;\n",
              "      border-right-color: var(--fill-color);\n",
              "      border-top-color: var(--fill-color);\n",
              "    }\n",
              "    60% {\n",
              "      border-color: transparent;\n",
              "      border-right-color: var(--fill-color);\n",
              "    }\n",
              "    80% {\n",
              "      border-color: transparent;\n",
              "      border-right-color: var(--fill-color);\n",
              "      border-bottom-color: var(--fill-color);\n",
              "    }\n",
              "    90% {\n",
              "      border-color: transparent;\n",
              "      border-bottom-color: var(--fill-color);\n",
              "    }\n",
              "  }\n",
              "</style>\n",
              "\n",
              "      <script>\n",
              "        async function quickchart(key) {\n",
              "          const quickchartButtonEl =\n",
              "            document.querySelector('#' + key + ' button');\n",
              "          quickchartButtonEl.disabled = true;  // To prevent multiple clicks.\n",
              "          quickchartButtonEl.classList.add('colab-df-spinner');\n",
              "          try {\n",
              "            const charts = await google.colab.kernel.invokeFunction(\n",
              "                'suggestCharts', [key], {});\n",
              "          } catch (error) {\n",
              "            console.error('Error during call to suggestCharts:', error);\n",
              "          }\n",
              "          quickchartButtonEl.classList.remove('colab-df-spinner');\n",
              "          quickchartButtonEl.classList.add('colab-df-quickchart-complete');\n",
              "        }\n",
              "        (() => {\n",
              "          let quickchartButtonEl =\n",
              "            document.querySelector('#df-b800cafb-25b0-46c2-a426-6baf89b4f931 button');\n",
              "          quickchartButtonEl.style.display =\n",
              "            google.colab.kernel.accessAllowed ? 'block' : 'none';\n",
              "        })();\n",
              "      </script>\n",
              "    </div>\n",
              "\n",
              "    </div>\n",
              "  </div>\n"
            ],
            "application/vnd.google.colaboratory.intrinsic+json": {
              "type": "dataframe",
              "summary": "{\n  \"name\": \"dados_compilados = executar_planejador_viagem(\\\"/content/europa\",\n  \"rows\": 3,\n  \"fields\": [\n    {\n      \"column\": \"cidade\",\n      \"properties\": {\n        \"dtype\": \"string\",\n        \"num_unique_values\": 3,\n        \"samples\": [\n          \"Roma\",\n          \"Floren\\u00e7a\",\n          \"Viena\"\n        ],\n        \"semantic_type\": \"\",\n        \"description\": \"\"\n      }\n    },\n    {\n      \"column\": \"pais\",\n      \"properties\": {\n        \"dtype\": \"string\",\n        \"num_unique_values\": 2,\n        \"samples\": [\n          \"A\\u00fastria\",\n          \"It\\u00e1lia\"\n        ],\n        \"semantic_type\": \"\",\n        \"description\": \"\"\n      }\n    },\n    {\n      \"column\": \"data_chegada\",\n      \"properties\": {\n        \"dtype\": \"object\",\n        \"num_unique_values\": 3,\n        \"samples\": [\n          \"2025-09-13\",\n          \"2025-09-16\"\n        ],\n        \"semantic_type\": \"\",\n        \"description\": \"\"\n      }\n    },\n    {\n      \"column\": \"data_partida\",\n      \"properties\": {\n        \"dtype\": \"object\",\n        \"num_unique_values\": 3,\n        \"samples\": [\n          \"2025-09-16\",\n          \"2025-09-19\"\n        ],\n        \"semantic_type\": \"\",\n        \"description\": \"\"\n      }\n    },\n    {\n      \"column\": \"hospedagem\",\n      \"properties\": {\n        \"dtype\": \"string\",\n        \"num_unique_values\": 3,\n        \"samples\": [\n          \"Via Francesco Caracciolo n.7\",\n          \"Hotel Bodoni\"\n        ],\n        \"semantic_type\": \"\",\n        \"description\": \"\"\n      }\n    }\n  ]\n}"
            }
          },
          "metadata": {}
        },
        {
          "output_type": "display_data",
          "data": {
            "text/plain": [
              "<IPython.core.display.Markdown object>"
            ],
            "text/markdown": "\n# 🗺️ **Relatório de Pesquisa de Atrações do Agente** ✈️"
          },
          "metadata": {}
        },
        {
          "output_type": "display_data",
          "data": {
            "text/plain": [
              "<IPython.core.display.Markdown object>"
            ],
            "text/markdown": "\n### 🌍 Agente Iniciando Pesquisa para: **Roma, Itália**"
          },
          "metadata": {}
        },
        {
          "output_type": "display_data",
          "data": {
            "text/plain": [
              "<IPython.core.display.Markdown object>"
            ],
            "text/markdown": "🧠 *Agente consultando Gemini sobre atrações em: **Roma, Itália** (Top 15)...*"
          },
          "metadata": {}
        },
        {
          "output_type": "display_data",
          "data": {
            "text/plain": [
              "<IPython.core.display.Markdown object>"
            ],
            "text/markdown": "✅ *Gemini retornou 15 sugestões de atrações para Roma.*"
          },
          "metadata": {}
        },
        {
          "output_type": "display_data",
          "data": {
            "text/plain": [
              "<IPython.core.display.Markdown object>"
            ],
            "text/markdown": "--- Pesquisa para **Roma, Itália** finalizada pelo agente. ---"
          },
          "metadata": {}
        },
        {
          "output_type": "display_data",
          "data": {
            "text/plain": [
              "<IPython.core.display.Markdown object>"
            ],
            "text/markdown": "\n## 📍 Destino: **Roma, Itália**"
          },
          "metadata": {}
        },
        {
          "output_type": "display_data",
          "data": {
            "text/plain": [
              "<IPython.core.display.Markdown object>"
            ],
            "text/markdown": "🗓️ **Período:** 2025-09-13 a 2025-09-16"
          },
          "metadata": {}
        },
        {
          "output_type": "display_data",
          "data": {
            "text/plain": [
              "<IPython.core.display.Markdown object>"
            ],
            "text/markdown": "🏨 **Hospedagem:** Via Francesco Caracciolo n.7"
          },
          "metadata": {}
        },
        {
          "output_type": "display_data",
          "data": {
            "text/plain": [
              "<IPython.core.display.Markdown object>"
            ],
            "text/markdown": "#### 🔍 Links Úteis para Pesquisa Manual Detalhada (abrem em nova aba):"
          },
          "metadata": {}
        },
        {
          "output_type": "display_data",
          "data": {
            "text/plain": [
              "<IPython.core.display.Markdown object>"
            ],
            "text/markdown": "- **[Google Search: Principais atrações](https://www.google.com/search?q=principais+atra%C3%A7%C3%B5es+tur%C3%ADsticas+em+Roma+It%C3%A1lia)** "
          },
          "metadata": {}
        },
        {
          "output_type": "display_data",
          "data": {
            "text/plain": [
              "<IPython.core.display.Markdown object>"
            ],
            "text/markdown": "- **[Google Maps: Atrações na área](https://www.google.com/maps/search/atra%C3%A7%C3%B5es+tur%C3%ADsticas+em+Roma%2C+It%C3%A1lia)** "
          },
          "metadata": {}
        },
        {
          "output_type": "display_data",
          "data": {
            "text/plain": [
              "<IPython.core.display.Markdown object>"
            ],
            "text/markdown": "- **[Google Maps: Visão geral da cidade](https://www.google.com/maps/place/Roma%2C+It%C3%A1lia)** "
          },
          "metadata": {}
        },
        {
          "output_type": "display_data",
          "data": {
            "text/plain": [
              "<IPython.core.display.Markdown object>"
            ],
            "text/markdown": "#### ✨ Sugestões de Atrações Principais (via Agente Gemini):"
          },
          "metadata": {}
        },
        {
          "output_type": "display_data",
          "data": {
            "text/plain": [
              "<IPython.core.display.Markdown object>"
            ],
            "text/markdown": "|   Nº | Atração               | Tipo Principal                 | Descrição Enxuta                                                                                                      | Avaliação Geral   | Destaque Principal                               |\n|-----:|:----------------------|:-------------------------------|:----------------------------------------------------------------------------------------------------------------------|:------------------|:-------------------------------------------------|\n|    1 | Coliseu               | Monumento Nacional             | Anfiteatro icônico do Império Romano, palco de combates de gladiadores e espetáculos públicos. Símbolo de Roma.       | Excelente         | Arquitetura impressionante e história fascinante |\n|    2 | Fórum Romano          | Sítio Arqueológico             | Restos do centro cívico e político da antiga Roma, com ruínas de templos, basílicas e edifícios governamentais.       | Muito Popular     | Viagem ao passado da civilização romana          |\n|    3 | Palácio do Vaticano   | Complexo Religioso e Histórico | Cidade-estado independente, lar da Basílica de São Pedro, Capela Sistina e os Museus Vaticanos.                       | Excelente         | Arte renascentista e história religiosa          |\n|    4 | Basílica de São Pedro | Catedral Católica              | Basílica monumental, um dos maiores e mais importantes santuários católicos do mundo, com obras de arte inestimáveis. | Excelente         | Arquitetura grandiosa e significado religioso    |\n|    5 | Capela Sistina        | Capela                         | Capela famosa pelos afrescos de Michelangelo, incluindo o icônico teto com a criação de Adão.                         | Excelente         | Obras-primas de Michelangelo                     |\n|    6 | Museus Vaticanos      | Museu de Arte e Antiguidades   | Coleção vasta de arte e artefatos, abrangendo séculos de história e cultura, incluindo a Capela Sistina.              | Excelente         | Coleção de arte e artefatos impressionante       |\n|    7 | Fontana di Trevi      | Fonte Monumental               | Fonte barroca exuberante, um dos pontos turísticos mais icônicos de Roma, famosa por seu design e tradição.           | Muito Popular     | Beleza arquitetônica e tradição                  |\n|    8 | Pantheon              | Templo Romano                  | Templo romano bem preservado, admirado por sua cúpula e arquitetura inovadora para a época.                           | Excelente         | Arquitetura impressionante e engenharia romana   |\n|    9 | Piazza Navona         | Praça Histórica                | Praça barroca animada, com fontes ornamentadas, artistas de rua e cafés ao ar livre.                                  | Muito Popular     | Atmosfera vibrante e beleza arquitetônica        |\n|   10 | Escadaria Espanhola   | Escadaria Monumental           | Grande escadaria barroca ligando a Piazza di Spagna à Igreja Trinità dei Monti, um ponto de encontro popular.         | Muito Popular     | Ponto de encontro e arquitetura elegante         |\n|   11 | Castel Sant'Angelo    | Castelo Histórico              | Castelo imponente com história rica, oferecendo vistas panorâmicas da cidade de Roma.                                 | Muito Popular     | História e vistas panorâmicas                    |\n|   12 | Campo de' Fiori       | Mercado Histórico              | Mercado vibrante e histórico, com barracas de produtos frescos, flores e lembranças.                                  | Muito Popular     | Experiência autêntica romana e atmosfera animada |\n|   13 | Bairro Trastevere     | Bairro Histórico               | Bairro charmoso e pitoresco, com ruas de paralelepípedos, restaurantes tradicionais e atmosfera romântica.            | Muito Popular     | Atmosfera autêntica e romântica                  |\n|   14 | Jardins Borghese      | Parque Urbano e Museu de Arte  | Belos jardins com galerias de arte, fontes e esculturas, oferecendo um refúgio tranquilo no centro de Roma.           | Muito Popular     | Beleza natural e arte em um ambiente sereno      |\n|   15 | Janículo              | Mirante Panorâmico             | Colina que oferece vistas panorâmicas deslumbrantes de Roma, incluindo a Basílica de São Pedro e o Coliseu.           | Muito Popular     | Vistas panorâmicas de tirar o fôlego             |"
          },
          "metadata": {}
        },
        {
          "output_type": "display_data",
          "data": {
            "text/plain": [
              "<IPython.core.display.Markdown object>"
            ],
            "text/markdown": "---"
          },
          "metadata": {}
        },
        {
          "output_type": "display_data",
          "data": {
            "text/plain": [
              "<IPython.core.display.Markdown object>"
            ],
            "text/markdown": "\n### 🌍 Agente Iniciando Pesquisa para: **Florença, Itália**"
          },
          "metadata": {}
        },
        {
          "output_type": "display_data",
          "data": {
            "text/plain": [
              "<IPython.core.display.Markdown object>"
            ],
            "text/markdown": "🧠 *Agente consultando Gemini sobre atrações em: **Florença, Itália** (Top 15)...*"
          },
          "metadata": {}
        },
        {
          "output_type": "display_data",
          "data": {
            "text/plain": [
              "<IPython.core.display.Markdown object>"
            ],
            "text/markdown": "✅ *Gemini retornou 15 sugestões de atrações para Florença.*"
          },
          "metadata": {}
        },
        {
          "output_type": "display_data",
          "data": {
            "text/plain": [
              "<IPython.core.display.Markdown object>"
            ],
            "text/markdown": "--- Pesquisa para **Florença, Itália** finalizada pelo agente. ---"
          },
          "metadata": {}
        },
        {
          "output_type": "display_data",
          "data": {
            "text/plain": [
              "<IPython.core.display.Markdown object>"
            ],
            "text/markdown": "\n## 📍 Destino: **Florença, Itália**"
          },
          "metadata": {}
        },
        {
          "output_type": "display_data",
          "data": {
            "text/plain": [
              "<IPython.core.display.Markdown object>"
            ],
            "text/markdown": "🗓️ **Período:** 2025-09-16 a 2025-09-19"
          },
          "metadata": {}
        },
        {
          "output_type": "display_data",
          "data": {
            "text/plain": [
              "<IPython.core.display.Markdown object>"
            ],
            "text/markdown": "🏨 **Hospedagem:** Hotel Bodoni"
          },
          "metadata": {}
        },
        {
          "output_type": "display_data",
          "data": {
            "text/plain": [
              "<IPython.core.display.Markdown object>"
            ],
            "text/markdown": "#### 🔍 Links Úteis para Pesquisa Manual Detalhada (abrem em nova aba):"
          },
          "metadata": {}
        },
        {
          "output_type": "display_data",
          "data": {
            "text/plain": [
              "<IPython.core.display.Markdown object>"
            ],
            "text/markdown": "- **[Google Search: Principais atrações](https://www.google.com/search?q=principais+atra%C3%A7%C3%B5es+tur%C3%ADsticas+em+Floren%C3%A7a+It%C3%A1lia)** "
          },
          "metadata": {}
        },
        {
          "output_type": "display_data",
          "data": {
            "text/plain": [
              "<IPython.core.display.Markdown object>"
            ],
            "text/markdown": "- **[Google Maps: Atrações na área](https://www.google.com/maps/search/atra%C3%A7%C3%B5es+tur%C3%ADsticas+em+Floren%C3%A7a%2C+It%C3%A1lia)** "
          },
          "metadata": {}
        },
        {
          "output_type": "display_data",
          "data": {
            "text/plain": [
              "<IPython.core.display.Markdown object>"
            ],
            "text/markdown": "- **[Google Maps: Visão geral da cidade](https://www.google.com/maps/place/Floren%C3%A7a%2C+It%C3%A1lia)** "
          },
          "metadata": {}
        },
        {
          "output_type": "display_data",
          "data": {
            "text/plain": [
              "<IPython.core.display.Markdown object>"
            ],
            "text/markdown": "#### ✨ Sugestões de Atrações Principais (via Agente Gemini):"
          },
          "metadata": {}
        },
        {
          "output_type": "display_data",
          "data": {
            "text/plain": [
              "<IPython.core.display.Markdown object>"
            ],
            "text/markdown": "|   Nº | Atração                      | Tipo Principal           | Descrição Enxuta                                                                                                                  | Avaliação Geral   | Destaque Principal                                 |\n|-----:|:-----------------------------|:-------------------------|:----------------------------------------------------------------------------------------------------------------------------------|:------------------|:---------------------------------------------------|\n|    1 | Galeria da Academia          | Museu de Arte            | Abriga a coleção mais completa de obras de Michelangelo, incluindo o David e as pinturas da Capela Sistina.                       | Excelente         | Coleção de arte renascentista incomparável         |\n|    2 | Catedral de Florença (Duomo) | Catedral Gótica          | Uma obra-prima da arquitetura gótica italiana, com a sua cúpula de Brunelleschi e o Campanário de Giotto.                         | Excelente         | Arquitetura imponente e vistas panorâmicas         |\n|    3 | Ponte Vecchio                | Ponte Histórica          | A única ponte de Florença poupada da destruição durante a Segunda Guerra Mundial, famosa pelas lojas construídas ao longo dela.   | Muito Popular     | Ícone de Florença e arquitetura única              |\n|    4 | Palazzo Pitti                | Palácio Histórico        | Um dos maiores palácios de Florença, abrigando cinco museus, incluindo a Galeria de Arte Moderna e o Museu do Figurino e da Moda. | Excelente         | Arquitetura grandiosa e múltiplas coleções de arte |\n|    5 | Uffizi Gallery               | Museu de Arte            | Um dos museus de arte mais importantes do mundo, com uma coleção abrangente de obras-primas renascentistas.                       | Excelente         | Coleção de arte renascentista incomparável         |\n|    6 | Piazza della Signoria        | Praça Pública Histórica  | O coração político de Florença, com esculturas importantes, como a cópia do Davi de Michelangelo e o Palazzo Vecchio.             | Muito Popular     | Atmosfera histórica e arquitetura impressionante   |\n|    7 | Palazzo Vecchio              | Palácio Histórico        | O antigo palácio da prefeitura de Florença, com uma rica história e interiores opulentos.                                         | Excelente         | História e arte florentina                         |\n|    8 | Boboli Gardens               | Jardim Histórico         | Um dos primeiros e mais importantes exemplos de jardim italiano, com fontes, esculturas e paisagismo requintado.                  | Excelente         | Paisagismo exuberante e atmosfera serena           |\n|    9 | Mercado de San Lorenzo       | Mercado Histórico        | Um mercado vibrante e histórico, com bancas de couro, artesanato e produtos locais.                                               | Muito Popular     | Experiência autêntica e compras únicas             |\n|   10 | Piazzale Michelangelo        | Mirante Panorâmico       | Um mirante com vistas panorâmicas deslumbrantes de Florença e seus monumentos.                                                    | Excelente         | Vistas panorâmicas de Florença                     |\n|   11 | Ponte Santa Trinita          | Ponte Histórica          | Uma elegante ponte com vistas encantadoras do rio Arno e da cidade.                                                               | Muito Popular     | Elegância e vistas do rio Arno                     |\n|   12 | Capela dos Médici            | Capela Mausoléu          | Um complexo de capelas que abriga os túmulos dos membros da família Médici, com decoração exuberante.                             | Excelente         | Arquitetura e arte funerária renascentistas        |\n|   13 | Bargello Museum              | Museu de Escultura       | Um museu que abriga uma notável coleção de esculturas renascentistas, incluindo obras de Donatello e Michelangelo.                | Excelente         | Coleção de esculturas renascentistas               |\n|   14 | Palazzo Davanzati            | Museu Histórico          | Um palácio medieval que oferece uma visão fascinante da vida de uma rica família florentina no século XIV.                        | Excelente         | Visão da vida florentina medieval                  |\n|   15 | Museo di San Marco           | Museu de Arte e História | Um museu abrigando uma coleção de obras-primas de Fra Angelico, incluindo afrescos no antigo mosteiro.                            | Excelente         | Arte religiosa de Fra Angelico                     |"
          },
          "metadata": {}
        },
        {
          "output_type": "display_data",
          "data": {
            "text/plain": [
              "<IPython.core.display.Markdown object>"
            ],
            "text/markdown": "---"
          },
          "metadata": {}
        },
        {
          "output_type": "display_data",
          "data": {
            "text/plain": [
              "<IPython.core.display.Markdown object>"
            ],
            "text/markdown": "\n### 🌍 Agente Iniciando Pesquisa para: **Viena, Aústria**"
          },
          "metadata": {}
        },
        {
          "output_type": "display_data",
          "data": {
            "text/plain": [
              "<IPython.core.display.Markdown object>"
            ],
            "text/markdown": "🧠 *Agente consultando Gemini sobre atrações em: **Viena, Aústria** (Top 15)...*"
          },
          "metadata": {}
        },
        {
          "output_type": "display_data",
          "data": {
            "text/plain": [
              "<IPython.core.display.Markdown object>"
            ],
            "text/markdown": "✅ *Gemini retornou 15 sugestões de atrações para Viena.*"
          },
          "metadata": {}
        },
        {
          "output_type": "display_data",
          "data": {
            "text/plain": [
              "<IPython.core.display.Markdown object>"
            ],
            "text/markdown": "--- Pesquisa para **Viena, Aústria** finalizada pelo agente. ---"
          },
          "metadata": {}
        },
        {
          "output_type": "display_data",
          "data": {
            "text/plain": [
              "<IPython.core.display.Markdown object>"
            ],
            "text/markdown": "\n## 📍 Destino: **Viena, Aústria**"
          },
          "metadata": {}
        },
        {
          "output_type": "display_data",
          "data": {
            "text/plain": [
              "<IPython.core.display.Markdown object>"
            ],
            "text/markdown": "🗓️ **Período:** 2025-09-20 a 2025-09-24"
          },
          "metadata": {}
        },
        {
          "output_type": "display_data",
          "data": {
            "text/plain": [
              "<IPython.core.display.Markdown object>"
            ],
            "text/markdown": "🏨 **Hospedagem:** Hilton Vienna Park"
          },
          "metadata": {}
        },
        {
          "output_type": "display_data",
          "data": {
            "text/plain": [
              "<IPython.core.display.Markdown object>"
            ],
            "text/markdown": "#### 🔍 Links Úteis para Pesquisa Manual Detalhada (abrem em nova aba):"
          },
          "metadata": {}
        },
        {
          "output_type": "display_data",
          "data": {
            "text/plain": [
              "<IPython.core.display.Markdown object>"
            ],
            "text/markdown": "- **[Google Search: Principais atrações](https://www.google.com/search?q=principais+atra%C3%A7%C3%B5es+tur%C3%ADsticas+em+Viena+A%C3%BAstria)** "
          },
          "metadata": {}
        },
        {
          "output_type": "display_data",
          "data": {
            "text/plain": [
              "<IPython.core.display.Markdown object>"
            ],
            "text/markdown": "- **[Google Maps: Atrações na área](https://www.google.com/maps/search/atra%C3%A7%C3%B5es+tur%C3%ADsticas+em+Viena%2C+A%C3%BAstria)** "
          },
          "metadata": {}
        },
        {
          "output_type": "display_data",
          "data": {
            "text/plain": [
              "<IPython.core.display.Markdown object>"
            ],
            "text/markdown": "- **[Google Maps: Visão geral da cidade](https://www.google.com/maps/place/Viena%2C+A%C3%BAstria)** "
          },
          "metadata": {}
        },
        {
          "output_type": "display_data",
          "data": {
            "text/plain": [
              "<IPython.core.display.Markdown object>"
            ],
            "text/markdown": "#### ✨ Sugestões de Atrações Principais (via Agente Gemini):"
          },
          "metadata": {}
        },
        {
          "output_type": "display_data",
          "data": {
            "text/plain": [
              "<IPython.core.display.Markdown object>"
            ],
            "text/markdown": "|   Nº | Atração                       | Tipo Principal                 | Descrição Enxuta                                                                                                                                  | Avaliação Geral   | Destaque Principal                                   |\n|-----:|:------------------------------|:-------------------------------|:--------------------------------------------------------------------------------------------------------------------------------------------------|:------------------|:-----------------------------------------------------|\n|    1 | Palácio de Schönbrunn         | Palácio Histórico e Jardins    | Residência de verão dos Habsburgos, com exuberantes jardins, palácios e museus, oferecendo um vislumbre da história imperial austríaca.           | Excelente         | Arquitetura imperial e jardins deslumbrantes         |\n|    2 | Hofburg                       | Complexo de Palácios           | Antiga residência de inverno dos Habsburgos, abrigando museus, capelas e apartamentos imperiais, mostrando a opulência da monarquia austríaca.    | Muito Popular     | História imperial e arquitetura grandiosa            |\n|    3 | Catedral de São Estêvão       | Catedral Gótica                | Símbolo icônico de Viena, com uma arquitetura gótica impressionante, tesouros religiosos e vistas panorâmicas do topo da torre sul.               | Excelente         | Arquitetura gótica e vistas panorâmicas              |\n|    4 | Museu de História da Arte     | Museu de Arte                  | Abriga uma vasta coleção de pinturas, esculturas e objetos de arte de diferentes épocas e culturas, incluindo obras-primas de artistas renomados. | 4.5/5 estrelas    | Coleção de arte abrangente e diversificada           |\n|    5 | Belvedere                     | Palácio e Museu de Arte        | Conjunto de palácios barrocos que abriga a maior coleção de obras de Gustav Klimt, incluindo 'O Beijo'.                                           | Excelente         | Obras-primas de Gustav Klimt e arquitetura barroca   |\n|    6 | Prater                        | Parque de Diversões            | Parque de diversões histórico e famoso pela icônica roda-gigante, oferecendo entretenimento para todas as idades.                                 | Muito Popular     | Entretenimento e atmosfera festiva                   |\n|    7 | Naschmarkt                    | Mercado Histórico              | Um dos maiores e mais antigos mercados ao ar livre da Europa, oferecendo uma variedade de produtos frescos, especiarias e comida internacional.   | 4.0/5 estrelas    | Experiência gastronômica e cultural vibrante         |\n|    8 | Palácio de Belvedere Inferior | Museu de Arte                  | Palácio barroco que abriga uma coleção notável de arte austríaca, incluindo obras de Gustav Klimt e Egon Schiele.                                 | Excelente         | Arte austríaca e arquitetura barroca                 |\n|    9 | Casa da Música                | Centro Cultural e de Concertos | Moderna sala de concertos com arquitetura impressionante e acústica excepcional, oferecendo uma variedade de concertos e eventos.                 | 4.5/5 estrelas    | Arquitetura moderna e concertos de alta qualidade    |\n|   10 | Stephansdom (Torre Norte)     | Mirante Panorâmico             | Suba a torre norte da Catedral de São Estêvão para vistas deslumbrantes da cidade de Viena.                                                       | Excelente         | Vistas panorâmicas de Viena                          |\n|   11 | Volksgarten                   | Parque Urbano                  | Belo parque no centro de Viena, com jardins bem cuidados, monumentos e o famoso Templo de Theseus.                                                | Muito Popular     | Espaço verde tranquilo no centro da cidade           |\n|   12 | Museu Albertina               | Museu de Arte Gráfica          | Abriga uma coleção excepcional de gravuras, desenhos e fotografias, incluindo obras de mestres como Dürer e Michelangelo.                         | 4.5/5 estrelas    | Coleção de arte gráfica de renome mundial            |\n|   13 | Danúbio                       | Rio e Passeios de Barco        | Passeios de barco pelo rio Danúbio oferecem vistas únicas da cidade e seus arredores.                                                             | Muito Popular     | Vistas panorâmicas da cidade a partir do rio         |\n|   14 | Palácio do Belvedere Superior | Palácio e Museu de Arte        | Palácio barroco que abriga importantes coleções de arte austríaca, incluindo obras de Gustav Klimt e Egon Schiele.                                | Excelente         | Obras-primas de arte austríaca e arquitetura barroca |\n|   15 | MuseumsQuartier               | Complexo de Museus             | Complexo de museus modernos e contemporâneos, incluindo o Leopold Museum e o MUMOK, oferecendo uma ampla gama de exposições.                      | Muito Popular     | Diversidade de museus e arquitetura moderna          |"
          },
          "metadata": {}
        },
        {
          "output_type": "display_data",
          "data": {
            "text/plain": [
              "<IPython.core.display.Markdown object>"
            ],
            "text/markdown": "---"
          },
          "metadata": {}
        },
        {
          "output_type": "stream",
          "name": "stdout",
          "text": [
            "\n",
            "Dados completos da pesquisa salvos em `atracoes_pesquisadas.json`.\n"
          ]
        }
      ]
    }
  ]
}