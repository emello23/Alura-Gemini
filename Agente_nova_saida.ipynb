{
  "nbformat": 4,
  "nbformat_minor": 0,
  "metadata": {
    "colab": {
      "provenance": [],
      "include_colab_link": true
    },
    "kernelspec": {
      "name": "python3",
      "display_name": "Python 3"
    },
    "language_info": {
      "name": "python"
    }
  },
  "cells": [
    {
      "cell_type": "markdown",
      "metadata": {
        "id": "view-in-github",
        "colab_type": "text"
      },
      "source": [
        "<a href=\"https://colab.research.google.com/github/emello23/Alura-Gemini/blob/main/Agente_nova_saida.ipynb\" target=\"_parent\"><img src=\"https://colab.research.google.com/assets/colab-badge.svg\" alt=\"Open In Colab\"/></a>"
      ]
    },
    {
      "cell_type": "code",
      "execution_count": null,
      "metadata": {
        "id": "BtTC3gLfzG9R"
      },
      "outputs": [],
      "source": [
        "!pip install pandas google-api-python-client google-generativeai\n"
      ]
    },
    {
      "cell_type": "code",
      "source": [
        "import pandas as pd\n",
        "import time\n",
        "from IPython.display import display, Markdown\n",
        "from tabulate import tabulate\n",
        "from urllib.parse import quote_plus\n",
        "import google.generativeai as genai # SDK do Gemini\n",
        "import json # Para parsear a resposta do Gemini\n",
        "from google.colab import userdata # Para acessar a API key\n",
        "\n",
        "# --- Configuração do Agente e API Key ---\n",
        "GOOGLE_API_KEY = None\n",
        "gemini_model_instance = None # Renomeado para clareza\n",
        "\n",
        "try:\n",
        "    # O nome padrão para secrets é sem o sufixo _, a menos que você tenha nomeado especificamente assim.\n",
        "    # Vou usar 'GOOGLE_API_KEY' como padrão, conforme a prática comum.\n",
        "    GOOGLE_API_KEY = userdata.get('GOOGLE_API_KEY')\n",
        "    if not GOOGLE_API_KEY:\n",
        "        display(Markdown(\"<font color='red'>**Erro Crítico: GOOGLE_API_KEY não encontrada nos Secrets do Colab.** \"\n",
        "                         \"Por favor, configure-a com o nome 'GOOGLE_API_KEY'.</font>\"))\n",
        "    else:\n",
        "        genai.configure(api_key=GOOGLE_API_KEY)\n",
        "        gemini_model_instance = genai.GenerativeModel(\n",
        "            model_name='gemini-1.5-flash-latest', # Modelo eficiente e capaz\n",
        "            # A opção response_mime_type pode ser usada com modelos mais recentes\n",
        "            # e configurações de segurança apropriadas.\n",
        "            # generation_config=genai.types.GenerationConfig(\n",
        "            #     response_mime_type=\"application/json\"\n",
        "            # )\n",
        "        )\n",
        "        display(Markdown(\"✅ *SDK do Gemini e modelo (`gemini-1.5-flash-latest`) configurados com sucesso.*\"))\n",
        "except Exception as e:\n",
        "    display(Markdown(f\"<font color='red'>**Erro Crítico ao configurar o SDK do Gemini:** {e}. \"\n",
        "                     \"Verifique sua API Key, permissões e se o nome do secret está correto ('GOOGLE_API_KEY'). \"\n",
        "                     \"O agente não funcionará sem isso.</font>\"))\n",
        "    # O script poderia parar aqui ou continuar com funcionalidades limitadas se houvesse um fallback.\n",
        "    # Para este agente, o Gemini é essencial.\n",
        "\n",
        "# --- Funções Utilitárias ---\n",
        "\n",
        "def carregar_dados_viagem(caminho_arquivo: str) -> pd.DataFrame | None:\n",
        "    \"\"\"\n",
        "    Carrega os dados de viagem do arquivo CSV e valida as colunas necessárias.\n",
        "    \"\"\"\n",
        "    colunas_requeridas = ['cidade', 'pais', 'data_chegada', 'data_partida', 'hospedagem']\n",
        "    try:\n",
        "        df = pd.read_csv(caminho_arquivo)\n",
        "\n",
        "        # Validar se as colunas requeridas existem\n",
        "        if not all(col in df.columns for col in colunas_requeridas):\n",
        "            colunas_faltando = [col for col in colunas_requeridas if col not in df.columns]\n",
        "            display(Markdown(f\"<font color='red'>**Erro: O arquivo `{caminho_arquivo}` não contém as colunas requeridas.** \"\n",
        "                             f\"Faltam as seguintes colunas: {', '.join(colunas_faltando)}.</font>\"))\n",
        "            return None\n",
        "\n",
        "        display(Markdown(f\"### Arquivo de Viagem (`{caminho_arquivo}`)\"))\n",
        "        display(df[colunas_requeridas]) # Exibe apenas as colunas relevantes\n",
        "        return df\n",
        "    except FileNotFoundError:\n",
        "        display(Markdown(f\"<font color='red'>**Erro: Arquivo `{caminho_arquivo}` não encontrado.** Verifique o nome e o local.</font>\"))\n",
        "        return None\n",
        "    except Exception as e:\n",
        "        display(Markdown(f\"<font color='red'>**Erro ao carregar o arquivo CSV `{caminho_arquivo}`:** {e}</font>\"))\n",
        "        return None\n",
        "\n",
        "def gerar_links_pesquisa_google(cidade: str, pais: str) -> tuple[str, str, str]:\n",
        "    \"\"\"Gera links de pesquisa úteis para Google Search e Google Maps.\"\"\"\n",
        "    query_atracoes = f\"principais atrações turísticas em {cidade} {pais}\"\n",
        "    link_google_search = f\"https://www.google.com/search?q={quote_plus(query_atracoes)}\"\n",
        "    query_maps_atracoes = f\"atrações turísticas em {cidade}, {pais}\"\n",
        "    link_google_maps_atracoes = f\"https://www.google.com/maps/search/{quote_plus(query_maps_atracoes)}\"\n",
        "    query_maps_cidade = f\"{cidade}, {pais}\"\n",
        "    link_google_maps_cidade = f\"https://www.google.com/maps/place/{quote_plus(query_maps_cidade)}\"\n",
        "    return link_google_search, link_google_maps_atracoes, link_google_maps_cidade\n",
        "\n",
        "# --- Definição do Agente Pesquisador de Atrações ---\n",
        "\n",
        "class AgentePesquisadorAtracoes:\n",
        "    \"\"\"\n",
        "    Um agente responsável por pesquisar atrações turísticas usando o Gemini\n",
        "    e fornecer links úteis para pesquisa manual.\n",
        "    \"\"\"\n",
        "    def __init__(self, modelo_llm: genai.GenerativeModel):\n",
        "        if modelo_llm is None:\n",
        "            raise ValueError(\"O modelo LLM (Gemini) não pode ser None para este agente.\")\n",
        "        self.modelo = modelo_llm\n",
        "        self.safety_settings = [ # Configurações de segurança para o Gemini\n",
        "            {\"category\": \"HARM_CATEGORY_HARASSMENT\", \"threshold\": \"BLOCK_MEDIUM_AND_ABOVE\"},\n",
        "            {\"category\": \"HARM_CATEGORY_HATE_SPEECH\", \"threshold\": \"BLOCK_MEDIUM_AND_ABOVE\"},\n",
        "            {\"category\": \"HARM_CATEGORY_SEXUALLY_EXPLICIT\", \"threshold\": \"BLOCK_MEDIUM_AND_ABOVE\"},\n",
        "            {\"category\": \"HARM_CATEGORY_DANGEROUS_CONTENT\", \"threshold\": \"BLOCK_MEDIUM_AND_ABOVE\"},\n",
        "        ]\n",
        "\n",
        "    def _obter_sugestoes_gemini(self, cidade: str, pais: str, top_n: int = 7) -> list[dict]:\n",
        "        \"\"\"\n",
        "        Ferramenta interna do agente para consultar o Gemini sobre atrações.\n",
        "        \"\"\"\n",
        "        display(Markdown(f\"🧠 *Agente consultando Gemini sobre atrações em: **{cidade}, {pais}** (Top {top_n})...*\"))\n",
        "\n",
        "        prompt = f\"\"\"\n",
        "        Você é um assistente de planejamento de viagens altamente especializado e eficiente.\n",
        "        Sua tarefa é identificar as {top_n} principais e mais recomendadas atrações turísticas para a cidade de {cidade}, localizada em {pais}.\n",
        "\n",
        "        Critérios para sua seleção:\n",
        "        1.  **Popularidade e Reconhecimento:** Atrações bem conhecidas e frequentemente visitadas.\n",
        "        2.  **Qualidade das Avaliações:** Lugares geralmente com avaliações positivas (ex: acima de 4.0/5 estrelas).\n",
        "        3.  **Relevância Cultural/Histórica:** Locais com significado importante.\n",
        "        4.  **Diversidade de Experiências:** Inclua uma mistura de tipos, como museus, monumentos, parques, mercados, igrejas/catedrais, mirantes, etc., quando apropriado para a cidade.\n",
        "        5.  **Singularidade:** Atrações que oferecem uma experiência única ou icônica da cidade/região.\n",
        "\n",
        "        Formato da Resposta:\n",
        "        Retorne **estritamente uma lista JSON**. Cada elemento da lista deve ser um dicionário representando uma atração,\n",
        "        contendo EXATAMENTE as seguintes chaves:\n",
        "        - \"nome\": (string) O nome oficial e completo da atração.\n",
        "        - \"tipo_principal\": (string) A categoria principal da atração (ex: \"Museu de Arte\", \"Catedral Gótica\", \"Parque Urbano\", \"Mercado Histórico\", \"Monumento Nacional\", \"Mirante Panorâmico\"). Seja específico.\n",
        "        - \"descricao_enxuta\": (string) Uma descrição concisa e informativa (1-2 frases) que justifique sua inclusão, destacando seus principais atrativos.\n",
        "        - \"avaliacao_geral\": (string, opcional) Uma estimativa da avaliação geral se for amplamente conhecida (ex: \"Excelente\", \"Muito Popular\", \"4.5/5 estrelas\"). Use \"N/A\" se não houver uma estimativa clara.\n",
        "        - \"destaque_principal\": (string) O motivo principal pelo qual um turista deveria visitar (ex: \"Vistas incríveis da cidade\", \"Coleção de arte renascentista\", \"Arquitetura impressionante\", \"Atmosfera vibrante\").\n",
        "\n",
        "        Exemplo de um item na lista JSON:\n",
        "        {{\n",
        "          \"nome\": \"Museu do Louvre\",\n",
        "          \"tipo_principal\": \"Museu de Arte e Antiguidades\",\n",
        "          \"descricao_enxuta\": \"Um dos maiores e mais visitados museus do mundo, lar de obras-primas como a Mona Lisa e a Vênus de Milo.\",\n",
        "          \"avaliacao_geral\": \"4.7/5 estrelas\",\n",
        "          \"destaque_principal\": \"Coleção de arte de renome mundial\"\n",
        "        }}\n",
        "\n",
        "        Garanta que a saída seja SOMENTE a lista JSON, sem nenhum texto introdutório, comentários ou formatação adicional.\n",
        "        \"\"\"\n",
        "\n",
        "        try:\n",
        "            response = self.modelo.generate_content(\n",
        "                prompt,\n",
        "                generation_config=genai.types.GenerationConfig(\n",
        "                    temperature=0.4, # Um pouco mais factual, menos aleatório\n",
        "                    max_output_tokens=3072 # Espaço suficiente para a lista JSON\n",
        "                ),\n",
        "                safety_settings=self.safety_settings\n",
        "            )\n",
        "\n",
        "            json_text = response.text.strip()\n",
        "            # Tentativa robusta de extrair JSON, mesmo que o modelo adicione ```json ... ```\n",
        "            if json_text.startswith(\"```json\"):\n",
        "                json_text = json_text[7:]\n",
        "            if json_text.endswith(\"```\"):\n",
        "                json_text = json_text[:-3]\n",
        "            json_text = json_text.strip()\n",
        "\n",
        "            if not json_text:\n",
        "                display(Markdown(f\"<font color='orange'>Aviso: Gemini retornou uma resposta vazia para {cidade}.</font>\"))\n",
        "                return []\n",
        "\n",
        "            atracoes = json.loads(json_text)\n",
        "            # Garantir que é uma lista, mesmo que o Gemini retorne algo diferente\n",
        "            if not isinstance(atracoes, list):\n",
        "                 display(Markdown(f\"<font color='orange'>Aviso: Gemini retornou um formato inesperado (não uma lista) para {cidade}.</font>\"))\n",
        "                 return []\n",
        "\n",
        "            display(Markdown(f\"✅ *Gemini retornou {len(atracoes)} sugestões de atrações para {cidade}.*\"))\n",
        "            return atracoes[:top_n]\n",
        "        except json.JSONDecodeError as e:\n",
        "            display(Markdown(f\"<font color='red'>**Erro (JSONDecodeError) ao processar resposta do Gemini para {cidade}:** {e}. \"\n",
        "                             \"Isso geralmente ocorre se o modelo não retornar um JSON válido.</font>\"))\n",
        "            if hasattr(response, 'text'):\n",
        "                display(Markdown(f\"<pre>Resposta Bruta do Gemini:\\n{response.text}</pre>\"))\n",
        "            else:\n",
        "                 display(Markdown(f\"<pre>Nenhuma resposta de texto recebida do Gemini.</pre>\"))\n",
        "            return []\n",
        "        except Exception as e:\n",
        "            # Captura de erros mais genéricos, como problemas de API (quota, etc.)\n",
        "            # ou bloqueios de segurança não esperados.\n",
        "            display(Markdown(f\"<font color='red'>**Erro inesperado ao consultar Gemini para {cidade}:** {e}</font>\"))\n",
        "            if hasattr(response, 'prompt_feedback'):\n",
        "                display(Markdown(f\"Feedback do Prompt: {response.prompt_feedback}\"))\n",
        "            return []\n",
        "\n",
        "    def pesquisar_destino(self, cidade: str, pais: str, top_n_sugestoes: int = 7) -> dict:\n",
        "        \"\"\"\n",
        "        Executa a pesquisa de atrações para um destino específico.\n",
        "        \"\"\"\n",
        "        display(Markdown(f\"\\n### 🌍 Agente Iniciando Pesquisa para: **{cidade}, {pais}**\"))\n",
        "\n",
        "        links = gerar_links_pesquisa_google(cidade, pais)\n",
        "        sugestoes_gemini = self._obter_sugestoes_gemini(cidade, pais, top_n=top_n_sugestoes)\n",
        "\n",
        "        display(Markdown(f\"--- Pesquisa para **{cidade}, {pais}** finalizada pelo agente. ---\"))\n",
        "        return {\n",
        "            \"cidade\": cidade,\n",
        "            \"pais\": pais,\n",
        "            \"link_google_search\": links[0],\n",
        "            \"link_google_maps_atracoes\": links[1],\n",
        "            \"link_google_maps_cidade\": links[2],\n",
        "            \"sugestoes_gemini\": sugestoes_gemini\n",
        "        }\n",
        "\n",
        "# --- Função Principal de Execução ---\n",
        "def executar_planejador_viagem(caminho_arquivo_csv: str = 'europa.csv'):\n",
        "    \"\"\"\n",
        "    Orquestra o carregamento dos dados da viagem e a pesquisa de atrações para cada destino.\n",
        "    Recebe o caminho do arquivo CSV como parâmetro.\n",
        "    \"\"\"\n",
        "    if not GOOGLE_API_KEY or not gemini_model_instance:\n",
        "        display(Markdown(\"<font color='red'>**Execução Interrompida.** API Key do Google ou modelo Gemini não configurados corretamente na inicialização.</font>\"))\n",
        "        return\n",
        "\n",
        "    df_viagem = carregar_dados_viagem(caminho_arquivo_csv)\n",
        "\n",
        "    if df_viagem is None:\n",
        "        display(Markdown(\"<font color='red'>**Não foi possível prosseguir sem os dados da viagem.**</font>\"))\n",
        "        return\n",
        "\n",
        "    try:\n",
        "        agente_pesquisador = AgentePesquisadorAtracoes(modelo_llm=gemini_model_instance)\n",
        "    except ValueError as e:\n",
        "        display(Markdown(f\"<font color='red'>**Erro ao criar o agente pesquisador:** {e}</font>\"))\n",
        "        return\n",
        "\n",
        "    display(Markdown(\"\\n# 🗺️ **Relatório de Pesquisa de Atrações do Agente** ✈️\"))\n",
        "\n",
        "    resultados_completos = []\n",
        "    for indice, linha_viagem in df_viagem.iterrows():\n",
        "        cidade = linha_viagem['cidade']\n",
        "        pais = linha_viagem['pais']\n",
        "\n",
        "        resultado_destino = agente_pesquisador.pesquisar_destino(cidade, pais, top_n_sugestoes=15)\n",
        "\n",
        "        # Adicionar dados da viagem original ao resultado\n",
        "        resultado_destino['data_chegada'] = linha_viagem['data_chegada']\n",
        "        resultado_destino['data_partida'] = linha_viagem['data_partida']\n",
        "        resultado_destino['hospedagem'] = linha_viagem['hospedagem']\n",
        "        resultados_completos.append(resultado_destino)\n",
        "\n",
        "        # Exibição imediata por destino\n",
        "        display(Markdown(f\"\\n## 📍 Destino: **{resultado_destino['cidade']}, {resultado_destino['pais']}**\"))\n",
        "        display(Markdown(f\"🗓️ **Período:** {resultado_destino['data_chegada']} a {resultado_destino['data_partida']}\"))\n",
        "        display(Markdown(f\"🏨 **Hospedagem:** {resultado_destino['hospedagem']}\"))\n",
        "\n",
        "        display(Markdown(\"#### 🔍 Links Úteis para Pesquisa Manual Detalhada (abrem em nova aba):\"))\n",
        "        display(Markdown(f\"- **[Google Search: Principais atrações]({resultado_destino['link_google_search']})** \")) # Removido {} extra\n",
        "        display(Markdown(f\"- **[Google Maps: Atrações na área]({resultado_destino['link_google_maps_atracoes']})** \")) # Removido {} extra\n",
        "        display(Markdown(f\"- **[Google Maps: Visão geral da cidade]({resultado_destino['link_google_maps_cidade']})** \")) # Removido {} extra\n",
        "\n",
        "        if resultado_destino['sugestoes_gemini']:\n",
        "            display(Markdown(\"#### ✨ Sugestões de Atrações Principais (via Agente Gemini):\"))\n",
        "\n",
        "            tabela_atracoes_data = []\n",
        "            # Chaves como definidas no prompt do Gemini\n",
        "            headers = [\"Nº\", \"Atração\", \"Tipo Principal\", \"Descrição Enxuta\", \"Avaliação Geral\", \"Destaque Principal\"]\n",
        "\n",
        "            for i, atracao in enumerate(resultado_destino['sugestoes_gemini']):\n",
        "                tabela_atracoes_data.append([\n",
        "                    i + 1,\n",
        "                    atracao.get('nome', 'N/A'),\n",
        "                    atracao.get('tipo_principal', 'N/A'),\n",
        "                    atracao.get('descricao_enxuta', 'N/A'),\n",
        "                    atracao.get('avaliacao_geral', 'N/A'),\n",
        "                    atracao.get('destaque_principal', 'N/A')\n",
        "                ])\n",
        "\n",
        "            tabela_formatada = tabulate(tabela_atracoes_data, headers=headers, tablefmt=\"pipe\", stralign=\"left\")\n",
        "            display(Markdown(tabela_formatada))\n",
        "        else:\n",
        "            display(Markdown(\"<font color='orange'>⚠️ Nenhuma sugestão de atração específica retornada pelo Gemini para este destino. \"\n",
        "                             \"Utilize os links de pesquisa manual acima.</font>\"))\n",
        "        display(Markdown(\"---\")) # Separador visual entre destinos\n",
        "\n",
        "    # Você pode querer fazer algo com 'resultados_completos' aqui, como salvar em um JSON.\n",
        "    # Exemplo:\n",
        "    # with open('planejamento_viagem_atracoes.json', 'w', encoding='utf-8') as f:\n",
        "    #     json.dump(resultados_completos, f, ensure_ascii=False, indent=4)\n",
        "    # display(Markdown(\"\\n💾 *Relatório completo também salvo em `planejamento_viagem_atracoes.json` (descomente para ativar).*\"))\n",
        "\n",
        "# --- Ponto de Entrada da Execução ---\n",
        "if __name__ == \"__main__\":\n",
        "    # Certifique-se de que as bibliotecas estão instaladas\n",
        "    # Em um notebook Colab, você executaria !pip install -q pandas google-generativeai tabulate em uma célula separada.\n",
        "    # Agora você pode chamar a função passando o caminho do seu arquivo CSV, por exemplo:\n",
        "    # executar_planejador_viagem('meu_arquivo_viagem.csv')\n",
        "    # Se nenhum caminho for fornecido, ele usará 'europa.csv' por padrão.\n",
        "    executar_planejador_viagem()"
      ],
      "metadata": {
        "id": "OK0vHJM92vIj",
        "colab": {
          "base_uri": "https://localhost:8080/",
          "height": 1000
        },
        "collapsed": true,
        "outputId": "880777ab-f793-42a8-f99e-5b7bdf279aca"
      },
      "execution_count": 6,
      "outputs": [
        {
          "output_type": "display_data",
          "data": {
            "text/plain": [
              "<IPython.core.display.Markdown object>"
            ],
            "text/markdown": "✅ *SDK do Gemini e modelo (`gemini-1.5-flash-latest`) configurados com sucesso.*"
          },
          "metadata": {}
        },
        {
          "output_type": "display_data",
          "data": {
            "text/plain": [
              "<IPython.core.display.Markdown object>"
            ],
            "text/markdown": "### Arquivo de Viagem (`europa.csv`)"
          },
          "metadata": {}
        },
        {
          "output_type": "display_data",
          "data": {
            "text/plain": [
              "     cidade     pais data_chegada data_partida                    hospedagem\n",
              "0      Roma   Itália   2025-09-13   2025-09-16  Via Francesco Caracciolo n.7\n",
              "1  Florença   Itália   2025-09-16   2025-09-19                  Hotel Bodoni\n",
              "2     Viena  Aústria   2025-09-20   2025-09-24            Hilton Vienna Park"
            ],
            "text/html": [
              "\n",
              "  <div id=\"df-db7d9dbe-f63f-4285-ad3a-f0cd06053ee5\" class=\"colab-df-container\">\n",
              "    <div>\n",
              "<style scoped>\n",
              "    .dataframe tbody tr th:only-of-type {\n",
              "        vertical-align: middle;\n",
              "    }\n",
              "\n",
              "    .dataframe tbody tr th {\n",
              "        vertical-align: top;\n",
              "    }\n",
              "\n",
              "    .dataframe thead th {\n",
              "        text-align: right;\n",
              "    }\n",
              "</style>\n",
              "<table border=\"1\" class=\"dataframe\">\n",
              "  <thead>\n",
              "    <tr style=\"text-align: right;\">\n",
              "      <th></th>\n",
              "      <th>cidade</th>\n",
              "      <th>pais</th>\n",
              "      <th>data_chegada</th>\n",
              "      <th>data_partida</th>\n",
              "      <th>hospedagem</th>\n",
              "    </tr>\n",
              "  </thead>\n",
              "  <tbody>\n",
              "    <tr>\n",
              "      <th>0</th>\n",
              "      <td>Roma</td>\n",
              "      <td>Itália</td>\n",
              "      <td>2025-09-13</td>\n",
              "      <td>2025-09-16</td>\n",
              "      <td>Via Francesco Caracciolo n.7</td>\n",
              "    </tr>\n",
              "    <tr>\n",
              "      <th>1</th>\n",
              "      <td>Florença</td>\n",
              "      <td>Itália</td>\n",
              "      <td>2025-09-16</td>\n",
              "      <td>2025-09-19</td>\n",
              "      <td>Hotel Bodoni</td>\n",
              "    </tr>\n",
              "    <tr>\n",
              "      <th>2</th>\n",
              "      <td>Viena</td>\n",
              "      <td>Aústria</td>\n",
              "      <td>2025-09-20</td>\n",
              "      <td>2025-09-24</td>\n",
              "      <td>Hilton Vienna Park</td>\n",
              "    </tr>\n",
              "  </tbody>\n",
              "</table>\n",
              "</div>\n",
              "    <div class=\"colab-df-buttons\">\n",
              "\n",
              "  <div class=\"colab-df-container\">\n",
              "    <button class=\"colab-df-convert\" onclick=\"convertToInteractive('df-db7d9dbe-f63f-4285-ad3a-f0cd06053ee5')\"\n",
              "            title=\"Convert this dataframe to an interactive table.\"\n",
              "            style=\"display:none;\">\n",
              "\n",
              "  <svg xmlns=\"http://www.w3.org/2000/svg\" height=\"24px\" viewBox=\"0 -960 960 960\">\n",
              "    <path d=\"M120-120v-720h720v720H120Zm60-500h600v-160H180v160Zm220 220h160v-160H400v160Zm0 220h160v-160H400v160ZM180-400h160v-160H180v160Zm440 0h160v-160H620v160ZM180-180h160v-160H180v160Zm440 0h160v-160H620v160Z\"/>\n",
              "  </svg>\n",
              "    </button>\n",
              "\n",
              "  <style>\n",
              "    .colab-df-container {\n",
              "      display:flex;\n",
              "      gap: 12px;\n",
              "    }\n",
              "\n",
              "    .colab-df-convert {\n",
              "      background-color: #E8F0FE;\n",
              "      border: none;\n",
              "      border-radius: 50%;\n",
              "      cursor: pointer;\n",
              "      display: none;\n",
              "      fill: #1967D2;\n",
              "      height: 32px;\n",
              "      padding: 0 0 0 0;\n",
              "      width: 32px;\n",
              "    }\n",
              "\n",
              "    .colab-df-convert:hover {\n",
              "      background-color: #E2EBFA;\n",
              "      box-shadow: 0px 1px 2px rgba(60, 64, 67, 0.3), 0px 1px 3px 1px rgba(60, 64, 67, 0.15);\n",
              "      fill: #174EA6;\n",
              "    }\n",
              "\n",
              "    .colab-df-buttons div {\n",
              "      margin-bottom: 4px;\n",
              "    }\n",
              "\n",
              "    [theme=dark] .colab-df-convert {\n",
              "      background-color: #3B4455;\n",
              "      fill: #D2E3FC;\n",
              "    }\n",
              "\n",
              "    [theme=dark] .colab-df-convert:hover {\n",
              "      background-color: #434B5C;\n",
              "      box-shadow: 0px 1px 3px 1px rgba(0, 0, 0, 0.15);\n",
              "      filter: drop-shadow(0px 1px 2px rgba(0, 0, 0, 0.3));\n",
              "      fill: #FFFFFF;\n",
              "    }\n",
              "  </style>\n",
              "\n",
              "    <script>\n",
              "      const buttonEl =\n",
              "        document.querySelector('#df-db7d9dbe-f63f-4285-ad3a-f0cd06053ee5 button.colab-df-convert');\n",
              "      buttonEl.style.display =\n",
              "        google.colab.kernel.accessAllowed ? 'block' : 'none';\n",
              "\n",
              "      async function convertToInteractive(key) {\n",
              "        const element = document.querySelector('#df-db7d9dbe-f63f-4285-ad3a-f0cd06053ee5');\n",
              "        const dataTable =\n",
              "          await google.colab.kernel.invokeFunction('convertToInteractive',\n",
              "                                                    [key], {});\n",
              "        if (!dataTable) return;\n",
              "\n",
              "        const docLinkHtml = 'Like what you see? Visit the ' +\n",
              "          '<a target=\"_blank\" href=https://colab.research.google.com/notebooks/data_table.ipynb>data table notebook</a>'\n",
              "          + ' to learn more about interactive tables.';\n",
              "        element.innerHTML = '';\n",
              "        dataTable['output_type'] = 'display_data';\n",
              "        await google.colab.output.renderOutput(dataTable, element);\n",
              "        const docLink = document.createElement('div');\n",
              "        docLink.innerHTML = docLinkHtml;\n",
              "        element.appendChild(docLink);\n",
              "      }\n",
              "    </script>\n",
              "  </div>\n",
              "\n",
              "\n",
              "    <div id=\"df-00bb885d-180e-48a7-b5c2-281d4366f907\">\n",
              "      <button class=\"colab-df-quickchart\" onclick=\"quickchart('df-00bb885d-180e-48a7-b5c2-281d4366f907')\"\n",
              "                title=\"Suggest charts\"\n",
              "                style=\"display:none;\">\n",
              "\n",
              "<svg xmlns=\"http://www.w3.org/2000/svg\" height=\"24px\"viewBox=\"0 0 24 24\"\n",
              "     width=\"24px\">\n",
              "    <g>\n",
              "        <path d=\"M19 3H5c-1.1 0-2 .9-2 2v14c0 1.1.9 2 2 2h14c1.1 0 2-.9 2-2V5c0-1.1-.9-2-2-2zM9 17H7v-7h2v7zm4 0h-2V7h2v10zm4 0h-2v-4h2v4z\"/>\n",
              "    </g>\n",
              "</svg>\n",
              "      </button>\n",
              "\n",
              "<style>\n",
              "  .colab-df-quickchart {\n",
              "      --bg-color: #E8F0FE;\n",
              "      --fill-color: #1967D2;\n",
              "      --hover-bg-color: #E2EBFA;\n",
              "      --hover-fill-color: #174EA6;\n",
              "      --disabled-fill-color: #AAA;\n",
              "      --disabled-bg-color: #DDD;\n",
              "  }\n",
              "\n",
              "  [theme=dark] .colab-df-quickchart {\n",
              "      --bg-color: #3B4455;\n",
              "      --fill-color: #D2E3FC;\n",
              "      --hover-bg-color: #434B5C;\n",
              "      --hover-fill-color: #FFFFFF;\n",
              "      --disabled-bg-color: #3B4455;\n",
              "      --disabled-fill-color: #666;\n",
              "  }\n",
              "\n",
              "  .colab-df-quickchart {\n",
              "    background-color: var(--bg-color);\n",
              "    border: none;\n",
              "    border-radius: 50%;\n",
              "    cursor: pointer;\n",
              "    display: none;\n",
              "    fill: var(--fill-color);\n",
              "    height: 32px;\n",
              "    padding: 0;\n",
              "    width: 32px;\n",
              "  }\n",
              "\n",
              "  .colab-df-quickchart:hover {\n",
              "    background-color: var(--hover-bg-color);\n",
              "    box-shadow: 0 1px 2px rgba(60, 64, 67, 0.3), 0 1px 3px 1px rgba(60, 64, 67, 0.15);\n",
              "    fill: var(--button-hover-fill-color);\n",
              "  }\n",
              "\n",
              "  .colab-df-quickchart-complete:disabled,\n",
              "  .colab-df-quickchart-complete:disabled:hover {\n",
              "    background-color: var(--disabled-bg-color);\n",
              "    fill: var(--disabled-fill-color);\n",
              "    box-shadow: none;\n",
              "  }\n",
              "\n",
              "  .colab-df-spinner {\n",
              "    border: 2px solid var(--fill-color);\n",
              "    border-color: transparent;\n",
              "    border-bottom-color: var(--fill-color);\n",
              "    animation:\n",
              "      spin 1s steps(1) infinite;\n",
              "  }\n",
              "\n",
              "  @keyframes spin {\n",
              "    0% {\n",
              "      border-color: transparent;\n",
              "      border-bottom-color: var(--fill-color);\n",
              "      border-left-color: var(--fill-color);\n",
              "    }\n",
              "    20% {\n",
              "      border-color: transparent;\n",
              "      border-left-color: var(--fill-color);\n",
              "      border-top-color: var(--fill-color);\n",
              "    }\n",
              "    30% {\n",
              "      border-color: transparent;\n",
              "      border-left-color: var(--fill-color);\n",
              "      border-top-color: var(--fill-color);\n",
              "      border-right-color: var(--fill-color);\n",
              "    }\n",
              "    40% {\n",
              "      border-color: transparent;\n",
              "      border-right-color: var(--fill-color);\n",
              "      border-top-color: var(--fill-color);\n",
              "    }\n",
              "    60% {\n",
              "      border-color: transparent;\n",
              "      border-right-color: var(--fill-color);\n",
              "    }\n",
              "    80% {\n",
              "      border-color: transparent;\n",
              "      border-right-color: var(--fill-color);\n",
              "      border-bottom-color: var(--fill-color);\n",
              "    }\n",
              "    90% {\n",
              "      border-color: transparent;\n",
              "      border-bottom-color: var(--fill-color);\n",
              "    }\n",
              "  }\n",
              "</style>\n",
              "\n",
              "      <script>\n",
              "        async function quickchart(key) {\n",
              "          const quickchartButtonEl =\n",
              "            document.querySelector('#' + key + ' button');\n",
              "          quickchartButtonEl.disabled = true;  // To prevent multiple clicks.\n",
              "          quickchartButtonEl.classList.add('colab-df-spinner');\n",
              "          try {\n",
              "            const charts = await google.colab.kernel.invokeFunction(\n",
              "                'suggestCharts', [key], {});\n",
              "          } catch (error) {\n",
              "            console.error('Error during call to suggestCharts:', error);\n",
              "          }\n",
              "          quickchartButtonEl.classList.remove('colab-df-spinner');\n",
              "          quickchartButtonEl.classList.add('colab-df-quickchart-complete');\n",
              "        }\n",
              "        (() => {\n",
              "          let quickchartButtonEl =\n",
              "            document.querySelector('#df-00bb885d-180e-48a7-b5c2-281d4366f907 button');\n",
              "          quickchartButtonEl.style.display =\n",
              "            google.colab.kernel.accessAllowed ? 'block' : 'none';\n",
              "        })();\n",
              "      </script>\n",
              "    </div>\n",
              "\n",
              "    </div>\n",
              "  </div>\n"
            ],
            "application/vnd.google.colaboratory.intrinsic+json": {
              "type": "dataframe",
              "summary": "{\n  \"name\": \"    executar_planejador_viagem()\",\n  \"rows\": 3,\n  \"fields\": [\n    {\n      \"column\": \"cidade\",\n      \"properties\": {\n        \"dtype\": \"string\",\n        \"num_unique_values\": 3,\n        \"samples\": [\n          \"Roma\",\n          \"Floren\\u00e7a\",\n          \"Viena\"\n        ],\n        \"semantic_type\": \"\",\n        \"description\": \"\"\n      }\n    },\n    {\n      \"column\": \"pais\",\n      \"properties\": {\n        \"dtype\": \"string\",\n        \"num_unique_values\": 2,\n        \"samples\": [\n          \"A\\u00fastria\",\n          \"It\\u00e1lia\"\n        ],\n        \"semantic_type\": \"\",\n        \"description\": \"\"\n      }\n    },\n    {\n      \"column\": \"data_chegada\",\n      \"properties\": {\n        \"dtype\": \"object\",\n        \"num_unique_values\": 3,\n        \"samples\": [\n          \"2025-09-13\",\n          \"2025-09-16\"\n        ],\n        \"semantic_type\": \"\",\n        \"description\": \"\"\n      }\n    },\n    {\n      \"column\": \"data_partida\",\n      \"properties\": {\n        \"dtype\": \"object\",\n        \"num_unique_values\": 3,\n        \"samples\": [\n          \"2025-09-16\",\n          \"2025-09-19\"\n        ],\n        \"semantic_type\": \"\",\n        \"description\": \"\"\n      }\n    },\n    {\n      \"column\": \"hospedagem\",\n      \"properties\": {\n        \"dtype\": \"string\",\n        \"num_unique_values\": 3,\n        \"samples\": [\n          \"Via Francesco Caracciolo n.7\",\n          \"Hotel Bodoni\"\n        ],\n        \"semantic_type\": \"\",\n        \"description\": \"\"\n      }\n    }\n  ]\n}"
            }
          },
          "metadata": {}
        },
        {
          "output_type": "display_data",
          "data": {
            "text/plain": [
              "<IPython.core.display.Markdown object>"
            ],
            "text/markdown": "\n# 🗺️ **Relatório de Pesquisa de Atrações do Agente** ✈️"
          },
          "metadata": {}
        },
        {
          "output_type": "display_data",
          "data": {
            "text/plain": [
              "<IPython.core.display.Markdown object>"
            ],
            "text/markdown": "\n### 🌍 Agente Iniciando Pesquisa para: **Roma, Itália**"
          },
          "metadata": {}
        },
        {
          "output_type": "display_data",
          "data": {
            "text/plain": [
              "<IPython.core.display.Markdown object>"
            ],
            "text/markdown": "🧠 *Agente consultando Gemini sobre atrações em: **Roma, Itália** (Top 15)...*"
          },
          "metadata": {}
        },
        {
          "output_type": "display_data",
          "data": {
            "text/plain": [
              "<IPython.core.display.Markdown object>"
            ],
            "text/markdown": "✅ *Gemini retornou 15 sugestões de atrações para Roma.*"
          },
          "metadata": {}
        },
        {
          "output_type": "display_data",
          "data": {
            "text/plain": [
              "<IPython.core.display.Markdown object>"
            ],
            "text/markdown": "--- Pesquisa para **Roma, Itália** finalizada pelo agente. ---"
          },
          "metadata": {}
        },
        {
          "output_type": "display_data",
          "data": {
            "text/plain": [
              "<IPython.core.display.Markdown object>"
            ],
            "text/markdown": "\n## 📍 Destino: **Roma, Itália**"
          },
          "metadata": {}
        },
        {
          "output_type": "display_data",
          "data": {
            "text/plain": [
              "<IPython.core.display.Markdown object>"
            ],
            "text/markdown": "🗓️ **Período:** 2025-09-13 a 2025-09-16"
          },
          "metadata": {}
        },
        {
          "output_type": "display_data",
          "data": {
            "text/plain": [
              "<IPython.core.display.Markdown object>"
            ],
            "text/markdown": "🏨 **Hospedagem:** Via Francesco Caracciolo n.7"
          },
          "metadata": {}
        },
        {
          "output_type": "display_data",
          "data": {
            "text/plain": [
              "<IPython.core.display.Markdown object>"
            ],
            "text/markdown": "#### 🔍 Links Úteis para Pesquisa Manual Detalhada (abrem em nova aba):"
          },
          "metadata": {}
        },
        {
          "output_type": "display_data",
          "data": {
            "text/plain": [
              "<IPython.core.display.Markdown object>"
            ],
            "text/markdown": "- **[Google Search: Principais atrações](https://www.google.com/search?q=principais+atra%C3%A7%C3%B5es+tur%C3%ADsticas+em+Roma+It%C3%A1lia)** "
          },
          "metadata": {}
        },
        {
          "output_type": "display_data",
          "data": {
            "text/plain": [
              "<IPython.core.display.Markdown object>"
            ],
            "text/markdown": "- **[Google Maps: Atrações na área](https://www.google.com/maps/search/atra%C3%A7%C3%B5es+tur%C3%ADsticas+em+Roma%2C+It%C3%A1lia)** "
          },
          "metadata": {}
        },
        {
          "output_type": "display_data",
          "data": {
            "text/plain": [
              "<IPython.core.display.Markdown object>"
            ],
            "text/markdown": "- **[Google Maps: Visão geral da cidade](https://www.google.com/maps/place/Roma%2C+It%C3%A1lia)** "
          },
          "metadata": {}
        },
        {
          "output_type": "display_data",
          "data": {
            "text/plain": [
              "<IPython.core.display.Markdown object>"
            ],
            "text/markdown": "#### ✨ Sugestões de Atrações Principais (via Agente Gemini):"
          },
          "metadata": {}
        },
        {
          "output_type": "display_data",
          "data": {
            "text/plain": [
              "<IPython.core.display.Markdown object>"
            ],
            "text/markdown": "|   Nº | Atração                                         | Tipo Principal                            | Descrição Enxuta                                                                                                                    | Avaliação Geral   | Destaque Principal                            |\n|-----:|:------------------------------------------------|:------------------------------------------|:------------------------------------------------------------------------------------------------------------------------------------|:------------------|:----------------------------------------------|\n|    1 | Coliseu e Fórum Romano                          | Monumento Nacional e Ruínas Arqueológicas | Símbolo icônico de Roma, o Coliseu é um anfiteatro antigo, enquanto o Fórum Romano revela os restos da antiga cidade romana.        | Excelente         | Testemunhar a grandeza do Império Romano      |\n|    2 | Museus do Vaticano (incluindo a Capela Sistina) | Museu de Arte e Religião                  | Um complexo de museus que abriga uma vasta coleção de arte e artefatos, incluindo a Capela Sistina com os afrescos de Michelangelo. | Excelente         | Coleção de arte religiosa incomparável        |\n|    3 | Basílica de São Pedro                           | Catedral Católica                         | Uma das maiores e mais importantes igrejas católicas do mundo, com arquitetura impressionante e uma rica história.                  | Excelente         | Arquitetura grandiosa e importância religiosa |\n|    4 | Fontana di Trevi                                | Fonte Barroca                             | Uma das fontes mais famosas do mundo, com esculturas ornamentadas e um cenário encantador.                                          | Muito Popular     | Beleza e atmosfera romântica                  |\n|    5 | Piazza Navona                                   | Praça Barroca                             | Uma praça vibrante com fontes impressionantes, artistas de rua e uma atmosfera animada.                                             | Muito Popular     | Atmosfera animada e arquitetura barroca       |\n|    6 | Pantheon                                        | Templo Romano                             | Um templo romano antigo excepcionalmente bem preservado, conhecido por sua cúpula imponente e oculus.                               | Excelente         | Arquitetura romana impressionante             |\n|    7 | Espaço de Escavações do Palácio Imperial        | Sítio Arqueológico                        | Ruínas arqueológicas que revelam a história do Palácio Imperial Romano, oferecendo uma visão da vida na antiga Roma.                | Muito Popular     | Descobrir os segredos do Palácio Imperial     |\n|    8 | Castel Sant'Angelo                              | Castelo Histórico                         | Um castelo imponente com uma longa história, oferecendo vistas panorâmicas da cidade.                                               | Excelente         | Vistas panorâmicas e história fascinante      |\n|    9 | Galeria Borghese e Jardins                      | Museu de Arte e Jardim                    | Uma galeria de arte que abriga obras-primas de Bernini, Caravaggio e outros mestres, localizada em belos jardins.                   | Excelente         | Coleção de arte renascentista e barroca       |\n|   10 | Piazza di Spagna e a Escadaria Espanhola        | Praça e Escadaria                         | Uma praça elegante com a famosa Escadaria Espanhola, um ponto de encontro popular.                                                  | Muito Popular     | Elegância e atmosfera sofisticada             |\n|   11 | Campo de' Fiori                                 | Mercado Histórico e Praça                 | Um mercado animado durante o dia e uma praça vibrante à noite, com restaurantes e bares.                                            | Muito Popular     | Experiência autêntica romana                  |\n|   12 | Villa Borghese                                  | Parque Urbano                             | Um grande parque público com jardins, museus, galerias e lagos, ideal para relaxar e desfrutar da natureza.                         | Excelente         | Espaço verde e atividades ao ar livre         |\n|   13 | Janículo                                        | Mirante Panorâmico                        | Um mirante que oferece vistas deslumbrantes de Roma, especialmente ao pôr do sol.                                                   | Excelente         | Vistas panorâmicas de tirar o fôlego          |\n|   14 | Catacombas Romanas                              | Sítio Arqueológico e Religioso            | Um complexo subterrâneo de túneis e câmaras usados como cemitérios nos primeiros tempos do Cristianismo.                            | Muito Popular     | Experiência histórica e espiritual única      |\n|   15 | Circo Máximo                                    | Ruínas Arqueológicas                      | As ruínas de um antigo circo romano onde eram realizadas corridas de carros, oferecendo uma visão da vida na antiga Roma.           | Muito Popular     | Vislumbre da vida na antiga Roma              |"
          },
          "metadata": {}
        },
        {
          "output_type": "display_data",
          "data": {
            "text/plain": [
              "<IPython.core.display.Markdown object>"
            ],
            "text/markdown": "---"
          },
          "metadata": {}
        },
        {
          "output_type": "display_data",
          "data": {
            "text/plain": [
              "<IPython.core.display.Markdown object>"
            ],
            "text/markdown": "\n### 🌍 Agente Iniciando Pesquisa para: **Florença, Itália**"
          },
          "metadata": {}
        },
        {
          "output_type": "display_data",
          "data": {
            "text/plain": [
              "<IPython.core.display.Markdown object>"
            ],
            "text/markdown": "🧠 *Agente consultando Gemini sobre atrações em: **Florença, Itália** (Top 15)...*"
          },
          "metadata": {}
        },
        {
          "output_type": "display_data",
          "data": {
            "text/plain": [
              "<IPython.core.display.Markdown object>"
            ],
            "text/markdown": "✅ *Gemini retornou 15 sugestões de atrações para Florença.*"
          },
          "metadata": {}
        },
        {
          "output_type": "display_data",
          "data": {
            "text/plain": [
              "<IPython.core.display.Markdown object>"
            ],
            "text/markdown": "--- Pesquisa para **Florença, Itália** finalizada pelo agente. ---"
          },
          "metadata": {}
        },
        {
          "output_type": "display_data",
          "data": {
            "text/plain": [
              "<IPython.core.display.Markdown object>"
            ],
            "text/markdown": "\n## 📍 Destino: **Florença, Itália**"
          },
          "metadata": {}
        },
        {
          "output_type": "display_data",
          "data": {
            "text/plain": [
              "<IPython.core.display.Markdown object>"
            ],
            "text/markdown": "🗓️ **Período:** 2025-09-16 a 2025-09-19"
          },
          "metadata": {}
        },
        {
          "output_type": "display_data",
          "data": {
            "text/plain": [
              "<IPython.core.display.Markdown object>"
            ],
            "text/markdown": "🏨 **Hospedagem:** Hotel Bodoni"
          },
          "metadata": {}
        },
        {
          "output_type": "display_data",
          "data": {
            "text/plain": [
              "<IPython.core.display.Markdown object>"
            ],
            "text/markdown": "#### 🔍 Links Úteis para Pesquisa Manual Detalhada (abrem em nova aba):"
          },
          "metadata": {}
        },
        {
          "output_type": "display_data",
          "data": {
            "text/plain": [
              "<IPython.core.display.Markdown object>"
            ],
            "text/markdown": "- **[Google Search: Principais atrações](https://www.google.com/search?q=principais+atra%C3%A7%C3%B5es+tur%C3%ADsticas+em+Floren%C3%A7a+It%C3%A1lia)** "
          },
          "metadata": {}
        },
        {
          "output_type": "display_data",
          "data": {
            "text/plain": [
              "<IPython.core.display.Markdown object>"
            ],
            "text/markdown": "- **[Google Maps: Atrações na área](https://www.google.com/maps/search/atra%C3%A7%C3%B5es+tur%C3%ADsticas+em+Floren%C3%A7a%2C+It%C3%A1lia)** "
          },
          "metadata": {}
        },
        {
          "output_type": "display_data",
          "data": {
            "text/plain": [
              "<IPython.core.display.Markdown object>"
            ],
            "text/markdown": "- **[Google Maps: Visão geral da cidade](https://www.google.com/maps/place/Floren%C3%A7a%2C+It%C3%A1lia)** "
          },
          "metadata": {}
        },
        {
          "output_type": "display_data",
          "data": {
            "text/plain": [
              "<IPython.core.display.Markdown object>"
            ],
            "text/markdown": "#### ✨ Sugestões de Atrações Principais (via Agente Gemini):"
          },
          "metadata": {}
        },
        {
          "output_type": "display_data",
          "data": {
            "text/plain": [
              "<IPython.core.display.Markdown object>"
            ],
            "text/markdown": "|   Nº | Atração                      | Tipo Principal           | Descrição Enxuta                                                                                                              | Avaliação Geral   | Destaque Principal                                      |\n|-----:|:-----------------------------|:-------------------------|:------------------------------------------------------------------------------------------------------------------------------|:------------------|:--------------------------------------------------------|\n|    1 | Galeria da Academia          | Museu de Arte            | Abriga a maior coleção de obras de Michelangelo, incluindo o David e as pinturas dos afrescos da Capela Sistina.              | Excelente         | Coleção de arte renascentista incomparável              |\n|    2 | Ponte Vecchio                | Ponte Histórica          | Uma ponte medieval única, famosa por suas lojas construídas ao longo dela, que atravessa o rio Arno.                          | Muito Popular     | Arquitetura icônica e vistas encantadoras               |\n|    3 | Catedral de Florença (Duomo) | Catedral Gótica          | Uma impressionante catedral gótica com a icônica cúpula de Brunelleschi, um marco de Florença.                                | Excelente         | Arquitetura majestosa e obras de arte religiosa         |\n|    4 | Palazzo Pitti                | Palácio Histórico        | Um enorme palácio renascentista que abriga cinco museus, incluindo a Galeria de Arte Moderna e o Museu do Figurino e da Moda. | Muito Popular     | Arquitetura imponente e múltiplas coleções de arte      |\n|    5 | Uffizi Gallery               | Museu de Arte            | Um dos museus de arte mais importantes do mundo, com obras-primas do Renascimento italiano.                                   | Excelente         | Coleção de arte renascentista excepcional               |\n|    6 | Piazza della Signoria        | Praça Pública Histórica  | Uma praça central histórica, cercada por edifícios importantes, como o Palazzo Vecchio e a Fontana di Nettuno.                | Muito Popular     | Atmosfera vibrante e arquitetura histórica              |\n|    7 | Palazzo Vecchio              | Palácio Histórico        | O antigo palácio do governo de Florença, com uma rica história e impressionantes interiores.                                  | Muito Popular     | História e arquitetura renascentistas                   |\n|    8 | Baptistery of San Giovanni   | Batistério Românico      | Um batistério octogonal com portas de bronze famosas, especialmente as Portas do Paraíso de Ghiberti.                         | Excelente         | Obras de arte e arquitetura românica                    |\n|    9 | Boboli Gardens               | Jardim Histórico         | Um vasto e exuberante jardim italiano atrás do Palazzo Pitti, com fontes, esculturas e paisagismo.                            | Muito Popular     | Paisagismo impressionante e atmosfera serena            |\n|   10 | Mercado de San Lorenzo       | Mercado Histórico        | Um mercado movimentado com bancas de couro, artesanato e produtos locais.                                                     | Muito Popular     | Experiência de compras autêntica e atmosfera vibrante   |\n|   11 | Piazzale Michelangelo        | Mirante Panorâmico       | Um mirante com vistas panorâmicas deslumbrantes da cidade de Florença.                                                        | Excelente         | Vistas panorâmicas de tirar o fôlego                    |\n|   12 | Ponte Santa Trinita          | Ponte Histórica          | Uma elegante ponte de pedra que atravessa o rio Arno, oferecendo vistas encantadoras.                                         | Muito Popular     | Arquitetura elegante e vistas pitorescas                |\n|   13 | Galeria Palatina             | Museu de Arte            | Localizada no Palazzo Pitti, abriga uma coleção impressionante de pinturas renascentistas.                                    | Excelente         | Coleção de pinturas renascentistas de primeira linha    |\n|   14 | Museo di San Marco           | Museu de Arte e História | Um museu que abriga afrescos de Fra Angelico em um antigo mosteiro.                                                           | Muito Popular     | Obras-primas de Fra Angelico e arquitetura histórica    |\n|   15 | Bargello Museum              | Museu de Escultura       | Um museu que abriga uma coleção excepcional de esculturas renascentistas, incluindo obras de Donatello e Michelangelo.        | Excelente         | Coleção de esculturas renascentistas de primeira classe |"
          },
          "metadata": {}
        },
        {
          "output_type": "display_data",
          "data": {
            "text/plain": [
              "<IPython.core.display.Markdown object>"
            ],
            "text/markdown": "---"
          },
          "metadata": {}
        },
        {
          "output_type": "display_data",
          "data": {
            "text/plain": [
              "<IPython.core.display.Markdown object>"
            ],
            "text/markdown": "\n### 🌍 Agente Iniciando Pesquisa para: **Viena, Aústria**"
          },
          "metadata": {}
        },
        {
          "output_type": "display_data",
          "data": {
            "text/plain": [
              "<IPython.core.display.Markdown object>"
            ],
            "text/markdown": "🧠 *Agente consultando Gemini sobre atrações em: **Viena, Aústria** (Top 15)...*"
          },
          "metadata": {}
        },
        {
          "output_type": "display_data",
          "data": {
            "text/plain": [
              "<IPython.core.display.Markdown object>"
            ],
            "text/markdown": "✅ *Gemini retornou 15 sugestões de atrações para Viena.*"
          },
          "metadata": {}
        },
        {
          "output_type": "display_data",
          "data": {
            "text/plain": [
              "<IPython.core.display.Markdown object>"
            ],
            "text/markdown": "--- Pesquisa para **Viena, Aústria** finalizada pelo agente. ---"
          },
          "metadata": {}
        },
        {
          "output_type": "display_data",
          "data": {
            "text/plain": [
              "<IPython.core.display.Markdown object>"
            ],
            "text/markdown": "\n## 📍 Destino: **Viena, Aústria**"
          },
          "metadata": {}
        },
        {
          "output_type": "display_data",
          "data": {
            "text/plain": [
              "<IPython.core.display.Markdown object>"
            ],
            "text/markdown": "🗓️ **Período:** 2025-09-20 a 2025-09-24"
          },
          "metadata": {}
        },
        {
          "output_type": "display_data",
          "data": {
            "text/plain": [
              "<IPython.core.display.Markdown object>"
            ],
            "text/markdown": "🏨 **Hospedagem:** Hilton Vienna Park"
          },
          "metadata": {}
        },
        {
          "output_type": "display_data",
          "data": {
            "text/plain": [
              "<IPython.core.display.Markdown object>"
            ],
            "text/markdown": "#### 🔍 Links Úteis para Pesquisa Manual Detalhada (abrem em nova aba):"
          },
          "metadata": {}
        },
        {
          "output_type": "display_data",
          "data": {
            "text/plain": [
              "<IPython.core.display.Markdown object>"
            ],
            "text/markdown": "- **[Google Search: Principais atrações](https://www.google.com/search?q=principais+atra%C3%A7%C3%B5es+tur%C3%ADsticas+em+Viena+A%C3%BAstria)** "
          },
          "metadata": {}
        },
        {
          "output_type": "display_data",
          "data": {
            "text/plain": [
              "<IPython.core.display.Markdown object>"
            ],
            "text/markdown": "- **[Google Maps: Atrações na área](https://www.google.com/maps/search/atra%C3%A7%C3%B5es+tur%C3%ADsticas+em+Viena%2C+A%C3%BAstria)** "
          },
          "metadata": {}
        },
        {
          "output_type": "display_data",
          "data": {
            "text/plain": [
              "<IPython.core.display.Markdown object>"
            ],
            "text/markdown": "- **[Google Maps: Visão geral da cidade](https://www.google.com/maps/place/Viena%2C+A%C3%BAstria)** "
          },
          "metadata": {}
        },
        {
          "output_type": "display_data",
          "data": {
            "text/plain": [
              "<IPython.core.display.Markdown object>"
            ],
            "text/markdown": "#### ✨ Sugestões de Atrações Principais (via Agente Gemini):"
          },
          "metadata": {}
        },
        {
          "output_type": "display_data",
          "data": {
            "text/plain": [
              "<IPython.core.display.Markdown object>"
            ],
            "text/markdown": "|   Nº | Atração                       | Tipo Principal                  | Descrição Enxuta                                                                                                | Avaliação Geral   | Destaque Principal                             |\n|-----:|:------------------------------|:--------------------------------|:----------------------------------------------------------------------------------------------------------------|:------------------|:-----------------------------------------------|\n|    1 | Palácio de Hofburg            | Complexo de Palácios Históricos | Residência de inverno dos Habsburgos por séculos, abriga museus, capelas e apartamentos estatais opulentos.     | Excelente         | Arquitetura imperial e história austríaca      |\n|    2 | Palácio de Schönbrunn         | Palácio Barroco e Jardins       | Residência de verão dos Habsburgos, com magníficos jardins, fontes e um labirinto, além de museus internos.     | Excelente         | Grandiosidade barroca e extensos jardins       |\n|    3 | Catedral de Santo Estêvão     | Catedral Gótica                 | Símbolo icônico de Viena, com sua arquitetura gótica impressionante e tesouros históricos.                      | Excelente         | Arquitetura gótica e importância histórica     |\n|    4 | Museu de História da Arte     | Museu de Arte                   | Coleção excepcional de pinturas, esculturas e objetos de arte de diferentes épocas e culturas.                  | 4.5/5 estrelas    | Obras-primas de artistas renomados             |\n|    5 | Museu Albertina               | Museu de Arte Gráfica           | Uma das maiores e mais importantes coleções de arte gráfica do mundo, com obras de Dürer a Picasso.             | 4.5/5 estrelas    | Coleção abrangente de gravuras e desenhos      |\n|    6 | Belvedere                     | Museu de Arte e Palácios        | Palácio barroco que abriga a maior coleção de obras de Gustav Klimt, incluindo 'O Beijo'.                       | Excelente         | Obras-primas de Gustav Klimt                   |\n|    7 | Prater                        | Parque de Diversões Histórico   | Parque de diversões famoso pela icônica Roda Gigante, oferecendo atrações para todas as idades.                 | Muito Popular     | Entretenimento e diversão para toda a família  |\n|    8 | Naschmarkt                    | Mercado Histórico               | Um dos maiores e mais vibrantes mercados ao ar livre da Europa, com uma grande variedade de produtos e comidas. | Muito Popular     | Experiência gastronômica e cultural vibrante   |\n|    9 | Casa da Música                | Sala de Concertos Moderna       | Uma sala de concertos moderna e icônica com arquitetura impressionante e acústica excepcional.                  | 4.6/5 estrelas    | Experiência musical de alta qualidade          |\n|   10 | Danúbio                       | Rio e Passeios de Barco         | Passeios de barco pelo rio Danúbio oferecem vistas deslumbrantes da cidade e seus monumentos.                   | Muito Popular     | Vistas panorâmicas da cidade                   |\n|   11 | Stephansplatz                 | Praça Histórica                 | Praça central de Viena, com a Catedral de Santo Estêvão como ponto focal, ideal para passeios e observação.     | Muito Popular     | Coração histórico da cidade                    |\n|   12 | Volksgarten                   | Parque Urbano                   | Um dos parques mais belos de Viena, com jardins bem cuidados, esculturas e o famoso monumento de Mozart.        | 4.0/5 estrelas    | Espaço verde e relaxamento no centro da cidade |\n|   13 | MuseumsQuartier               | Complexo de Museus              | Um complexo de museus modernos e contemporâneos, com galerias, restaurantes e espaços culturais.                | 4.2/5 estrelas    | Diversidade de museus e arte moderna           |\n|   14 | Roda Gigante do Prater        | Atração de Entretenimento       | Uma das rodas gigantes mais famosas do mundo, oferecendo vistas panorâmicas deslumbrantes do Prater e de Viena. | Muito Popular     | Vistas panorâmicas icônicas                    |\n|   15 | Palácio do Belvedere Inferior | Museu de Arte Barroco           | Parte do complexo Belvedere, abriga uma coleção impressionante de arte barroca austríaca e internacional.       | Excelente         | Arte barroca e arquitetura esplendorosa        |"
          },
          "metadata": {}
        },
        {
          "output_type": "display_data",
          "data": {
            "text/plain": [
              "<IPython.core.display.Markdown object>"
            ],
            "text/markdown": "---"
          },
          "metadata": {}
        }
      ]
    },
    {
      "cell_type": "code",
      "metadata": {
        "colab": {
          "base_uri": "https://localhost:8080/",
          "height": 1000
        },
        "collapsed": true,
        "id": "4b422ff2",
        "outputId": "b5d14680-fb29-46b1-f1b2-99af08fcac40"
      },
      "source": [
        "executar_planejador_viagem(\"/content/europa.csv\")"
      ],
      "execution_count": 7,
      "outputs": [
        {
          "output_type": "display_data",
          "data": {
            "text/plain": [
              "<IPython.core.display.Markdown object>"
            ],
            "text/markdown": "### Arquivo de Viagem (`/content/europa.csv`)"
          },
          "metadata": {}
        },
        {
          "output_type": "display_data",
          "data": {
            "text/plain": [
              "     cidade     pais data_chegada data_partida                    hospedagem\n",
              "0      Roma   Itália   2025-09-13   2025-09-16  Via Francesco Caracciolo n.7\n",
              "1  Florença   Itália   2025-09-16   2025-09-19                  Hotel Bodoni\n",
              "2     Viena  Aústria   2025-09-20   2025-09-24            Hilton Vienna Park"
            ],
            "text/html": [
              "\n",
              "  <div id=\"df-00d57877-332a-4e6e-af24-9972762e2939\" class=\"colab-df-container\">\n",
              "    <div>\n",
              "<style scoped>\n",
              "    .dataframe tbody tr th:only-of-type {\n",
              "        vertical-align: middle;\n",
              "    }\n",
              "\n",
              "    .dataframe tbody tr th {\n",
              "        vertical-align: top;\n",
              "    }\n",
              "\n",
              "    .dataframe thead th {\n",
              "        text-align: right;\n",
              "    }\n",
              "</style>\n",
              "<table border=\"1\" class=\"dataframe\">\n",
              "  <thead>\n",
              "    <tr style=\"text-align: right;\">\n",
              "      <th></th>\n",
              "      <th>cidade</th>\n",
              "      <th>pais</th>\n",
              "      <th>data_chegada</th>\n",
              "      <th>data_partida</th>\n",
              "      <th>hospedagem</th>\n",
              "    </tr>\n",
              "  </thead>\n",
              "  <tbody>\n",
              "    <tr>\n",
              "      <th>0</th>\n",
              "      <td>Roma</td>\n",
              "      <td>Itália</td>\n",
              "      <td>2025-09-13</td>\n",
              "      <td>2025-09-16</td>\n",
              "      <td>Via Francesco Caracciolo n.7</td>\n",
              "    </tr>\n",
              "    <tr>\n",
              "      <th>1</th>\n",
              "      <td>Florença</td>\n",
              "      <td>Itália</td>\n",
              "      <td>2025-09-16</td>\n",
              "      <td>2025-09-19</td>\n",
              "      <td>Hotel Bodoni</td>\n",
              "    </tr>\n",
              "    <tr>\n",
              "      <th>2</th>\n",
              "      <td>Viena</td>\n",
              "      <td>Aústria</td>\n",
              "      <td>2025-09-20</td>\n",
              "      <td>2025-09-24</td>\n",
              "      <td>Hilton Vienna Park</td>\n",
              "    </tr>\n",
              "  </tbody>\n",
              "</table>\n",
              "</div>\n",
              "    <div class=\"colab-df-buttons\">\n",
              "\n",
              "  <div class=\"colab-df-container\">\n",
              "    <button class=\"colab-df-convert\" onclick=\"convertToInteractive('df-00d57877-332a-4e6e-af24-9972762e2939')\"\n",
              "            title=\"Convert this dataframe to an interactive table.\"\n",
              "            style=\"display:none;\">\n",
              "\n",
              "  <svg xmlns=\"http://www.w3.org/2000/svg\" height=\"24px\" viewBox=\"0 -960 960 960\">\n",
              "    <path d=\"M120-120v-720h720v720H120Zm60-500h600v-160H180v160Zm220 220h160v-160H400v160Zm0 220h160v-160H400v160ZM180-400h160v-160H180v160Zm440 0h160v-160H620v160ZM180-180h160v-160H180v160Zm440 0h160v-160H620v160Z\"/>\n",
              "  </svg>\n",
              "    </button>\n",
              "\n",
              "  <style>\n",
              "    .colab-df-container {\n",
              "      display:flex;\n",
              "      gap: 12px;\n",
              "    }\n",
              "\n",
              "    .colab-df-convert {\n",
              "      background-color: #E8F0FE;\n",
              "      border: none;\n",
              "      border-radius: 50%;\n",
              "      cursor: pointer;\n",
              "      display: none;\n",
              "      fill: #1967D2;\n",
              "      height: 32px;\n",
              "      padding: 0 0 0 0;\n",
              "      width: 32px;\n",
              "    }\n",
              "\n",
              "    .colab-df-convert:hover {\n",
              "      background-color: #E2EBFA;\n",
              "      box-shadow: 0px 1px 2px rgba(60, 64, 67, 0.3), 0px 1px 3px 1px rgba(60, 64, 67, 0.15);\n",
              "      fill: #174EA6;\n",
              "    }\n",
              "\n",
              "    .colab-df-buttons div {\n",
              "      margin-bottom: 4px;\n",
              "    }\n",
              "\n",
              "    [theme=dark] .colab-df-convert {\n",
              "      background-color: #3B4455;\n",
              "      fill: #D2E3FC;\n",
              "    }\n",
              "\n",
              "    [theme=dark] .colab-df-convert:hover {\n",
              "      background-color: #434B5C;\n",
              "      box-shadow: 0px 1px 3px 1px rgba(0, 0, 0, 0.15);\n",
              "      filter: drop-shadow(0px 1px 2px rgba(0, 0, 0, 0.3));\n",
              "      fill: #FFFFFF;\n",
              "    }\n",
              "  </style>\n",
              "\n",
              "    <script>\n",
              "      const buttonEl =\n",
              "        document.querySelector('#df-00d57877-332a-4e6e-af24-9972762e2939 button.colab-df-convert');\n",
              "      buttonEl.style.display =\n",
              "        google.colab.kernel.accessAllowed ? 'block' : 'none';\n",
              "\n",
              "      async function convertToInteractive(key) {\n",
              "        const element = document.querySelector('#df-00d57877-332a-4e6e-af24-9972762e2939');\n",
              "        const dataTable =\n",
              "          await google.colab.kernel.invokeFunction('convertToInteractive',\n",
              "                                                    [key], {});\n",
              "        if (!dataTable) return;\n",
              "\n",
              "        const docLinkHtml = 'Like what you see? Visit the ' +\n",
              "          '<a target=\"_blank\" href=https://colab.research.google.com/notebooks/data_table.ipynb>data table notebook</a>'\n",
              "          + ' to learn more about interactive tables.';\n",
              "        element.innerHTML = '';\n",
              "        dataTable['output_type'] = 'display_data';\n",
              "        await google.colab.output.renderOutput(dataTable, element);\n",
              "        const docLink = document.createElement('div');\n",
              "        docLink.innerHTML = docLinkHtml;\n",
              "        element.appendChild(docLink);\n",
              "      }\n",
              "    </script>\n",
              "  </div>\n",
              "\n",
              "\n",
              "    <div id=\"df-9bd6987e-9056-47bf-bc39-807ac0c1a551\">\n",
              "      <button class=\"colab-df-quickchart\" onclick=\"quickchart('df-9bd6987e-9056-47bf-bc39-807ac0c1a551')\"\n",
              "                title=\"Suggest charts\"\n",
              "                style=\"display:none;\">\n",
              "\n",
              "<svg xmlns=\"http://www.w3.org/2000/svg\" height=\"24px\"viewBox=\"0 0 24 24\"\n",
              "     width=\"24px\">\n",
              "    <g>\n",
              "        <path d=\"M19 3H5c-1.1 0-2 .9-2 2v14c0 1.1.9 2 2 2h14c1.1 0 2-.9 2-2V5c0-1.1-.9-2-2-2zM9 17H7v-7h2v7zm4 0h-2V7h2v10zm4 0h-2v-4h2v4z\"/>\n",
              "    </g>\n",
              "</svg>\n",
              "      </button>\n",
              "\n",
              "<style>\n",
              "  .colab-df-quickchart {\n",
              "      --bg-color: #E8F0FE;\n",
              "      --fill-color: #1967D2;\n",
              "      --hover-bg-color: #E2EBFA;\n",
              "      --hover-fill-color: #174EA6;\n",
              "      --disabled-fill-color: #AAA;\n",
              "      --disabled-bg-color: #DDD;\n",
              "  }\n",
              "\n",
              "  [theme=dark] .colab-df-quickchart {\n",
              "      --bg-color: #3B4455;\n",
              "      --fill-color: #D2E3FC;\n",
              "      --hover-bg-color: #434B5C;\n",
              "      --hover-fill-color: #FFFFFF;\n",
              "      --disabled-bg-color: #3B4455;\n",
              "      --disabled-fill-color: #666;\n",
              "  }\n",
              "\n",
              "  .colab-df-quickchart {\n",
              "    background-color: var(--bg-color);\n",
              "    border: none;\n",
              "    border-radius: 50%;\n",
              "    cursor: pointer;\n",
              "    display: none;\n",
              "    fill: var(--fill-color);\n",
              "    height: 32px;\n",
              "    padding: 0;\n",
              "    width: 32px;\n",
              "  }\n",
              "\n",
              "  .colab-df-quickchart:hover {\n",
              "    background-color: var(--hover-bg-color);\n",
              "    box-shadow: 0 1px 2px rgba(60, 64, 67, 0.3), 0 1px 3px 1px rgba(60, 64, 67, 0.15);\n",
              "    fill: var(--button-hover-fill-color);\n",
              "  }\n",
              "\n",
              "  .colab-df-quickchart-complete:disabled,\n",
              "  .colab-df-quickchart-complete:disabled:hover {\n",
              "    background-color: var(--disabled-bg-color);\n",
              "    fill: var(--disabled-fill-color);\n",
              "    box-shadow: none;\n",
              "  }\n",
              "\n",
              "  .colab-df-spinner {\n",
              "    border: 2px solid var(--fill-color);\n",
              "    border-color: transparent;\n",
              "    border-bottom-color: var(--fill-color);\n",
              "    animation:\n",
              "      spin 1s steps(1) infinite;\n",
              "  }\n",
              "\n",
              "  @keyframes spin {\n",
              "    0% {\n",
              "      border-color: transparent;\n",
              "      border-bottom-color: var(--fill-color);\n",
              "      border-left-color: var(--fill-color);\n",
              "    }\n",
              "    20% {\n",
              "      border-color: transparent;\n",
              "      border-left-color: var(--fill-color);\n",
              "      border-top-color: var(--fill-color);\n",
              "    }\n",
              "    30% {\n",
              "      border-color: transparent;\n",
              "      border-left-color: var(--fill-color);\n",
              "      border-top-color: var(--fill-color);\n",
              "      border-right-color: var(--fill-color);\n",
              "    }\n",
              "    40% {\n",
              "      border-color: transparent;\n",
              "      border-right-color: var(--fill-color);\n",
              "      border-top-color: var(--fill-color);\n",
              "    }\n",
              "    60% {\n",
              "      border-color: transparent;\n",
              "      border-right-color: var(--fill-color);\n",
              "    }\n",
              "    80% {\n",
              "      border-color: transparent;\n",
              "      border-right-color: var(--fill-color);\n",
              "      border-bottom-color: var(--fill-color);\n",
              "    }\n",
              "    90% {\n",
              "      border-color: transparent;\n",
              "      border-bottom-color: var(--fill-color);\n",
              "    }\n",
              "  }\n",
              "</style>\n",
              "\n",
              "      <script>\n",
              "        async function quickchart(key) {\n",
              "          const quickchartButtonEl =\n",
              "            document.querySelector('#' + key + ' button');\n",
              "          quickchartButtonEl.disabled = true;  // To prevent multiple clicks.\n",
              "          quickchartButtonEl.classList.add('colab-df-spinner');\n",
              "          try {\n",
              "            const charts = await google.colab.kernel.invokeFunction(\n",
              "                'suggestCharts', [key], {});\n",
              "          } catch (error) {\n",
              "            console.error('Error during call to suggestCharts:', error);\n",
              "          }\n",
              "          quickchartButtonEl.classList.remove('colab-df-spinner');\n",
              "          quickchartButtonEl.classList.add('colab-df-quickchart-complete');\n",
              "        }\n",
              "        (() => {\n",
              "          let quickchartButtonEl =\n",
              "            document.querySelector('#df-9bd6987e-9056-47bf-bc39-807ac0c1a551 button');\n",
              "          quickchartButtonEl.style.display =\n",
              "            google.colab.kernel.accessAllowed ? 'block' : 'none';\n",
              "        })();\n",
              "      </script>\n",
              "    </div>\n",
              "\n",
              "    </div>\n",
              "  </div>\n"
            ],
            "application/vnd.google.colaboratory.intrinsic+json": {
              "type": "dataframe",
              "summary": "{\n  \"name\": \"executar_planejador_viagem(\\\"/content/europa\",\n  \"rows\": 3,\n  \"fields\": [\n    {\n      \"column\": \"cidade\",\n      \"properties\": {\n        \"dtype\": \"string\",\n        \"num_unique_values\": 3,\n        \"samples\": [\n          \"Roma\",\n          \"Floren\\u00e7a\",\n          \"Viena\"\n        ],\n        \"semantic_type\": \"\",\n        \"description\": \"\"\n      }\n    },\n    {\n      \"column\": \"pais\",\n      \"properties\": {\n        \"dtype\": \"string\",\n        \"num_unique_values\": 2,\n        \"samples\": [\n          \"A\\u00fastria\",\n          \"It\\u00e1lia\"\n        ],\n        \"semantic_type\": \"\",\n        \"description\": \"\"\n      }\n    },\n    {\n      \"column\": \"data_chegada\",\n      \"properties\": {\n        \"dtype\": \"object\",\n        \"num_unique_values\": 3,\n        \"samples\": [\n          \"2025-09-13\",\n          \"2025-09-16\"\n        ],\n        \"semantic_type\": \"\",\n        \"description\": \"\"\n      }\n    },\n    {\n      \"column\": \"data_partida\",\n      \"properties\": {\n        \"dtype\": \"object\",\n        \"num_unique_values\": 3,\n        \"samples\": [\n          \"2025-09-16\",\n          \"2025-09-19\"\n        ],\n        \"semantic_type\": \"\",\n        \"description\": \"\"\n      }\n    },\n    {\n      \"column\": \"hospedagem\",\n      \"properties\": {\n        \"dtype\": \"string\",\n        \"num_unique_values\": 3,\n        \"samples\": [\n          \"Via Francesco Caracciolo n.7\",\n          \"Hotel Bodoni\"\n        ],\n        \"semantic_type\": \"\",\n        \"description\": \"\"\n      }\n    }\n  ]\n}"
            }
          },
          "metadata": {}
        },
        {
          "output_type": "display_data",
          "data": {
            "text/plain": [
              "<IPython.core.display.Markdown object>"
            ],
            "text/markdown": "\n# 🗺️ **Relatório de Pesquisa de Atrações do Agente** ✈️"
          },
          "metadata": {}
        },
        {
          "output_type": "display_data",
          "data": {
            "text/plain": [
              "<IPython.core.display.Markdown object>"
            ],
            "text/markdown": "\n### 🌍 Agente Iniciando Pesquisa para: **Roma, Itália**"
          },
          "metadata": {}
        },
        {
          "output_type": "display_data",
          "data": {
            "text/plain": [
              "<IPython.core.display.Markdown object>"
            ],
            "text/markdown": "🧠 *Agente consultando Gemini sobre atrações em: **Roma, Itália** (Top 15)...*"
          },
          "metadata": {}
        },
        {
          "output_type": "display_data",
          "data": {
            "text/plain": [
              "<IPython.core.display.Markdown object>"
            ],
            "text/markdown": "✅ *Gemini retornou 15 sugestões de atrações para Roma.*"
          },
          "metadata": {}
        },
        {
          "output_type": "display_data",
          "data": {
            "text/plain": [
              "<IPython.core.display.Markdown object>"
            ],
            "text/markdown": "--- Pesquisa para **Roma, Itália** finalizada pelo agente. ---"
          },
          "metadata": {}
        },
        {
          "output_type": "display_data",
          "data": {
            "text/plain": [
              "<IPython.core.display.Markdown object>"
            ],
            "text/markdown": "\n## 📍 Destino: **Roma, Itália**"
          },
          "metadata": {}
        },
        {
          "output_type": "display_data",
          "data": {
            "text/plain": [
              "<IPython.core.display.Markdown object>"
            ],
            "text/markdown": "🗓️ **Período:** 2025-09-13 a 2025-09-16"
          },
          "metadata": {}
        },
        {
          "output_type": "display_data",
          "data": {
            "text/plain": [
              "<IPython.core.display.Markdown object>"
            ],
            "text/markdown": "🏨 **Hospedagem:** Via Francesco Caracciolo n.7"
          },
          "metadata": {}
        },
        {
          "output_type": "display_data",
          "data": {
            "text/plain": [
              "<IPython.core.display.Markdown object>"
            ],
            "text/markdown": "#### 🔍 Links Úteis para Pesquisa Manual Detalhada (abrem em nova aba):"
          },
          "metadata": {}
        },
        {
          "output_type": "display_data",
          "data": {
            "text/plain": [
              "<IPython.core.display.Markdown object>"
            ],
            "text/markdown": "- **[Google Search: Principais atrações](https://www.google.com/search?q=principais+atra%C3%A7%C3%B5es+tur%C3%ADsticas+em+Roma+It%C3%A1lia)** "
          },
          "metadata": {}
        },
        {
          "output_type": "display_data",
          "data": {
            "text/plain": [
              "<IPython.core.display.Markdown object>"
            ],
            "text/markdown": "- **[Google Maps: Atrações na área](https://www.google.com/maps/search/atra%C3%A7%C3%B5es+tur%C3%ADsticas+em+Roma%2C+It%C3%A1lia)** "
          },
          "metadata": {}
        },
        {
          "output_type": "display_data",
          "data": {
            "text/plain": [
              "<IPython.core.display.Markdown object>"
            ],
            "text/markdown": "- **[Google Maps: Visão geral da cidade](https://www.google.com/maps/place/Roma%2C+It%C3%A1lia)** "
          },
          "metadata": {}
        },
        {
          "output_type": "display_data",
          "data": {
            "text/plain": [
              "<IPython.core.display.Markdown object>"
            ],
            "text/markdown": "#### ✨ Sugestões de Atrações Principais (via Agente Gemini):"
          },
          "metadata": {}
        },
        {
          "output_type": "display_data",
          "data": {
            "text/plain": [
              "<IPython.core.display.Markdown object>"
            ],
            "text/markdown": "|   Nº | Atração                                         | Tipo Principal                            | Descrição Enxuta                                                                                                                 | Avaliação Geral   | Destaque Principal                              |\n|-----:|:------------------------------------------------|:------------------------------------------|:---------------------------------------------------------------------------------------------------------------------------------|:------------------|:------------------------------------------------|\n|    1 | Coliseu e Fórum Romano                          | Monumento Nacional e Ruínas Arqueológicas | Símbolo icônico de Roma, o Coliseu é um anfiteatro antigo, enquanto o Fórum Romano revela os restos da antiga cidade romana.     | Excelente         | Experiência histórica inesquecível              |\n|    2 | Museus do Vaticano (incluindo a Capela Sistina) | Museu de Arte e Religião                  | Um complexo de museus que abriga uma vasta coleção de arte e artefatos, incluindo os afrescos da Capela Sistina de Michelangelo. | Excelente         | Tesouros artísticos e religiosos inigualáveis   |\n|    3 | Basílica de São Pedro                           | Catedral Católica                         | Uma das maiores e mais importantes igrejas católicas do mundo, com uma arquitetura impressionante e uma rica história.           | Excelente         | Arquitetura e significado religioso grandiosos  |\n|    4 | Fontana di Trevi                                | Fonte Barroca                             | Uma das fontes mais famosas do mundo, com uma arquitetura exuberante e um cenário mágico.                                        | Muito Popular     | Beleza e atmosfera romântica                    |\n|    5 | Pantheon                                        | Templo Romano                             | Um templo romano antigo maravilhosamente preservado, conhecido por sua cúpula impressionante e seu óculo.                        | Excelente         | Arquitetura e engenharia romana impressionantes |\n|    6 | Piazza Navona                                   | Praça Barroca                             | Uma praça vibrante e animada com fontes ornamentadas, artistas de rua e uma atmosfera animada.                                   | Muito Popular     | Atmosfera vibrante e beleza arquitetônica       |\n|    7 | Espaço de compras em Via del Corso              | Rua Comercial                             | Uma rua comercial movimentada com lojas de alta costura, boutiques e lojas de departamento.                                      | Muito Popular     | Compras de luxo e experiência urbana            |\n|    8 | Castel Sant'Angelo                              | Castelo Histórico                         | Um castelo histórico com vistas panorâmicas de Roma, que serviu como mausoléu, fortaleza e prisão papal.                         | Excelente         | História e vistas panorâmicas                   |\n|    9 | Jardins Borghese e Galleria Borghese            | Parque e Museu de Arte                    | Belos jardins com esculturas e uma galeria de arte que abriga obras-primas de Bernini, Caravaggio e outros mestres.              | Excelente         | Arte e paisagismo deslumbrantes                 |\n|   10 | Piazza di Spagna e a Escadaria Espanhola        | Praça e Escadaria                         | Uma praça elegante com a famosa escadaria espanhola, um local popular para relaxar e observar as pessoas.                        | Muito Popular     | Elegância e atmosfera romântica                 |\n|   11 | Campo de' Fiori                                 | Mercado Histórico e Praça                 | Um mercado animado durante o dia e uma praça animada à noite, com restaurantes e bares.                                          | Muito Popular     | Atmosfera vibrante e produtos frescos           |\n|   12 | Palácio do Quirinal                             | Palácio Histórico                         | A residência oficial do Presidente da Itália, com belos jardins e uma história rica.                                             | N/A               | História e arquitetura grandiosa                |\n|   13 | Catacombe de Roma                               | Sítio Arqueológico Subterrâneo            | Um extenso sistema de túneis subterrâneos usados ​​como cemitérios pelos primeiros cristãos.                                       | Excelente         | Experiência histórica e espiritual única        |\n|   14 | Janículo                                        | Mirante Panorâmico                        | Um mirante que oferece vistas panorâmicas deslumbrantes de Roma, especialmente ao pôr do sol.                                    | Excelente         | Vistas panorâmicas de tirar o fôlego            |\n|   15 | Appia Antica                                    | Parque Arqueológico                       | Uma antiga estrada romana com ruínas e paisagens encantadoras, ideal para caminhadas e ciclismo.                                 | Muito Popular     | Experiência histórica e paisagens encantadoras  |"
          },
          "metadata": {}
        },
        {
          "output_type": "display_data",
          "data": {
            "text/plain": [
              "<IPython.core.display.Markdown object>"
            ],
            "text/markdown": "---"
          },
          "metadata": {}
        },
        {
          "output_type": "display_data",
          "data": {
            "text/plain": [
              "<IPython.core.display.Markdown object>"
            ],
            "text/markdown": "\n### 🌍 Agente Iniciando Pesquisa para: **Florença, Itália**"
          },
          "metadata": {}
        },
        {
          "output_type": "display_data",
          "data": {
            "text/plain": [
              "<IPython.core.display.Markdown object>"
            ],
            "text/markdown": "🧠 *Agente consultando Gemini sobre atrações em: **Florença, Itália** (Top 15)...*"
          },
          "metadata": {}
        },
        {
          "output_type": "display_data",
          "data": {
            "text/plain": [
              "<IPython.core.display.Markdown object>"
            ],
            "text/markdown": "✅ *Gemini retornou 15 sugestões de atrações para Florença.*"
          },
          "metadata": {}
        },
        {
          "output_type": "display_data",
          "data": {
            "text/plain": [
              "<IPython.core.display.Markdown object>"
            ],
            "text/markdown": "--- Pesquisa para **Florença, Itália** finalizada pelo agente. ---"
          },
          "metadata": {}
        },
        {
          "output_type": "display_data",
          "data": {
            "text/plain": [
              "<IPython.core.display.Markdown object>"
            ],
            "text/markdown": "\n## 📍 Destino: **Florença, Itália**"
          },
          "metadata": {}
        },
        {
          "output_type": "display_data",
          "data": {
            "text/plain": [
              "<IPython.core.display.Markdown object>"
            ],
            "text/markdown": "🗓️ **Período:** 2025-09-16 a 2025-09-19"
          },
          "metadata": {}
        },
        {
          "output_type": "display_data",
          "data": {
            "text/plain": [
              "<IPython.core.display.Markdown object>"
            ],
            "text/markdown": "🏨 **Hospedagem:** Hotel Bodoni"
          },
          "metadata": {}
        },
        {
          "output_type": "display_data",
          "data": {
            "text/plain": [
              "<IPython.core.display.Markdown object>"
            ],
            "text/markdown": "#### 🔍 Links Úteis para Pesquisa Manual Detalhada (abrem em nova aba):"
          },
          "metadata": {}
        },
        {
          "output_type": "display_data",
          "data": {
            "text/plain": [
              "<IPython.core.display.Markdown object>"
            ],
            "text/markdown": "- **[Google Search: Principais atrações](https://www.google.com/search?q=principais+atra%C3%A7%C3%B5es+tur%C3%ADsticas+em+Floren%C3%A7a+It%C3%A1lia)** "
          },
          "metadata": {}
        },
        {
          "output_type": "display_data",
          "data": {
            "text/plain": [
              "<IPython.core.display.Markdown object>"
            ],
            "text/markdown": "- **[Google Maps: Atrações na área](https://www.google.com/maps/search/atra%C3%A7%C3%B5es+tur%C3%ADsticas+em+Floren%C3%A7a%2C+It%C3%A1lia)** "
          },
          "metadata": {}
        },
        {
          "output_type": "display_data",
          "data": {
            "text/plain": [
              "<IPython.core.display.Markdown object>"
            ],
            "text/markdown": "- **[Google Maps: Visão geral da cidade](https://www.google.com/maps/place/Floren%C3%A7a%2C+It%C3%A1lia)** "
          },
          "metadata": {}
        },
        {
          "output_type": "display_data",
          "data": {
            "text/plain": [
              "<IPython.core.display.Markdown object>"
            ],
            "text/markdown": "#### ✨ Sugestões de Atrações Principais (via Agente Gemini):"
          },
          "metadata": {}
        },
        {
          "output_type": "display_data",
          "data": {
            "text/plain": [
              "<IPython.core.display.Markdown object>"
            ],
            "text/markdown": "|   Nº | Atração                      | Tipo Principal             | Descrição Enxuta                                                                                                                | Avaliação Geral   | Destaque Principal                                               |\n|-----:|:-----------------------------|:---------------------------|:--------------------------------------------------------------------------------------------------------------------------------|:------------------|:-----------------------------------------------------------------|\n|    1 | Galeria da Academia          | Museu de Arte              | Abriga a maior coleção de obras de Michelangelo, incluindo o David e as pinturas dos afrescos da Capela Sistina.                | Excelente         | Coleção de arte renascentista incomparável                       |\n|    2 | Ponte Vecchio                | Ponte Histórica            | Uma ponte medieval única, famosa por suas lojas construídas ao longo dela, oferecendo vistas deslumbrantes do rio Arno.         | Muito Popular     | Arquitetura icônica e vistas panorâmicas                         |\n|    3 | Catedral de Florença (Duomo) | Catedral Gótica            | Uma magnífica catedral com uma cúpula de Brunelleschi, um marco icônico de Florença, com uma rica história e arte.              | Excelente         | Arquitetura gótica impressionante e obras de arte renascentistas |\n|    4 | Palazzo Pitti                | Palácio Histórico          | Um vasto palácio renascentista que abriga cinco museus, incluindo a Galeria de Arte Moderna e o Museu do Figurino e da Moda.    | Muito Popular     | Coleções de arte e arquitetura palaciana                         |\n|    5 | Piazza della Signoria        | Praça Pública Histórica    | Uma praça histórica no coração de Florença, cercada por edifícios importantes, esculturas e fontes.                             | Muito Popular     | Atmosfera vibrante e monumentos históricos                       |\n|    6 | Uffizi Gallery               | Museu de Arte              | Um dos museus de arte mais importantes do mundo, com uma coleção abrangente de pinturas renascentistas italianas.               | Excelente         | Coleção de arte renascentista italiana                           |\n|    7 | Palazzo Vecchio              | Palácio Histórico          | O antigo palácio do governo de Florença, com interiores opulentos, obras de arte e vistas panorâmicas da cidade.                | Muito Popular     | História e arquitetura renascentistas                            |\n|    8 | Boboli Gardens               | Jardim Histórico           | Belos jardins italianos com fontes, esculturas e paisagismo impressionante, oferecendo um oásis tranquilo no coração da cidade. | Excelente         | Paisagismo e esculturas renascentistas                           |\n|    9 | Mercado de San Lorenzo       | Mercado Histórico          | Um mercado vibrante e movimentado com barracas de couro, artesanato, comida e lembranças.                                       | Muito Popular     | Experiência de compras autêntica e atmosfera animada             |\n|   10 | Capela dos Médici            | Capela Mausoléu            | Uma capela suntuosa e opulenta, um mausoléu da família Médici, com esculturas e afrescos impressionantes.                       | Excelente         | Arquitetura e arte barrocas extravagantes                        |\n|   11 | Piazzale Michelangelo        | Mirante Panorâmico         | Um mirante com vistas panorâmicas de tirar o fôlego de Florença, especialmente ao pôr do sol.                                   | Excelente         | Vistas panorâmicas deslumbrantes de Florença                     |\n|   12 | Basílica de Santa Croce      | Basílica Franciscana       | Uma importante basílica franciscana com tumbas de figuras importantes, como Michelangelo e Galileu.                             | Muito Popular     | Arquitetura gótica e tumbas históricas                           |\n|   13 | Ponte Santa Trinita          | Ponte Histórica            | Uma elegante ponte de pedra sobre o rio Arno, com vistas encantadoras da cidade e do rio.                                       | Muito Popular     | Arquitetura e vistas do rio Arno                                 |\n|   14 | Bargello Museum              | Museu de Escultura         | Um museu de esculturas renascentistas, com uma coleção notável de obras-primas de Donatello, Michelangelo e outros mestres.     | Excelente         | Coleção de esculturas renascentistas                             |\n|   15 | Corredor Vasariano           | Corredor Secreto Histórico | Um corredor secreto que conecta a Galeria Uffizi ao Palazzo Pitti, oferecendo uma perspectiva única da cidade.                  | Muito Popular     | Experiência única e vistas exclusivas da cidade                  |"
          },
          "metadata": {}
        },
        {
          "output_type": "display_data",
          "data": {
            "text/plain": [
              "<IPython.core.display.Markdown object>"
            ],
            "text/markdown": "---"
          },
          "metadata": {}
        },
        {
          "output_type": "display_data",
          "data": {
            "text/plain": [
              "<IPython.core.display.Markdown object>"
            ],
            "text/markdown": "\n### 🌍 Agente Iniciando Pesquisa para: **Viena, Aústria**"
          },
          "metadata": {}
        },
        {
          "output_type": "display_data",
          "data": {
            "text/plain": [
              "<IPython.core.display.Markdown object>"
            ],
            "text/markdown": "🧠 *Agente consultando Gemini sobre atrações em: **Viena, Aústria** (Top 15)...*"
          },
          "metadata": {}
        },
        {
          "output_type": "display_data",
          "data": {
            "text/plain": [
              "<IPython.core.display.Markdown object>"
            ],
            "text/markdown": "✅ *Gemini retornou 15 sugestões de atrações para Viena.*"
          },
          "metadata": {}
        },
        {
          "output_type": "display_data",
          "data": {
            "text/plain": [
              "<IPython.core.display.Markdown object>"
            ],
            "text/markdown": "--- Pesquisa para **Viena, Aústria** finalizada pelo agente. ---"
          },
          "metadata": {}
        },
        {
          "output_type": "display_data",
          "data": {
            "text/plain": [
              "<IPython.core.display.Markdown object>"
            ],
            "text/markdown": "\n## 📍 Destino: **Viena, Aústria**"
          },
          "metadata": {}
        },
        {
          "output_type": "display_data",
          "data": {
            "text/plain": [
              "<IPython.core.display.Markdown object>"
            ],
            "text/markdown": "🗓️ **Período:** 2025-09-20 a 2025-09-24"
          },
          "metadata": {}
        },
        {
          "output_type": "display_data",
          "data": {
            "text/plain": [
              "<IPython.core.display.Markdown object>"
            ],
            "text/markdown": "🏨 **Hospedagem:** Hilton Vienna Park"
          },
          "metadata": {}
        },
        {
          "output_type": "display_data",
          "data": {
            "text/plain": [
              "<IPython.core.display.Markdown object>"
            ],
            "text/markdown": "#### 🔍 Links Úteis para Pesquisa Manual Detalhada (abrem em nova aba):"
          },
          "metadata": {}
        },
        {
          "output_type": "display_data",
          "data": {
            "text/plain": [
              "<IPython.core.display.Markdown object>"
            ],
            "text/markdown": "- **[Google Search: Principais atrações](https://www.google.com/search?q=principais+atra%C3%A7%C3%B5es+tur%C3%ADsticas+em+Viena+A%C3%BAstria)** "
          },
          "metadata": {}
        },
        {
          "output_type": "display_data",
          "data": {
            "text/plain": [
              "<IPython.core.display.Markdown object>"
            ],
            "text/markdown": "- **[Google Maps: Atrações na área](https://www.google.com/maps/search/atra%C3%A7%C3%B5es+tur%C3%ADsticas+em+Viena%2C+A%C3%BAstria)** "
          },
          "metadata": {}
        },
        {
          "output_type": "display_data",
          "data": {
            "text/plain": [
              "<IPython.core.display.Markdown object>"
            ],
            "text/markdown": "- **[Google Maps: Visão geral da cidade](https://www.google.com/maps/place/Viena%2C+A%C3%BAstria)** "
          },
          "metadata": {}
        },
        {
          "output_type": "display_data",
          "data": {
            "text/plain": [
              "<IPython.core.display.Markdown object>"
            ],
            "text/markdown": "#### ✨ Sugestões de Atrações Principais (via Agente Gemini):"
          },
          "metadata": {}
        },
        {
          "output_type": "display_data",
          "data": {
            "text/plain": [
              "<IPython.core.display.Markdown object>"
            ],
            "text/markdown": "|   Nº | Atração                       | Tipo Principal                         | Descrição Enxuta                                                                                                              | Avaliação Geral   | Destaque Principal                                 |\n|-----:|:------------------------------|:---------------------------------------|:------------------------------------------------------------------------------------------------------------------------------|:------------------|:---------------------------------------------------|\n|    1 | Palácio de Schönbrunn         | Palácio Histórico e Jardins            | Residência de verão dos Habsburgos, com exuberantes jardins, fontes e um museu rico em história imperial.                     | Excelente         | Magnificência arquitetônica e paisagística         |\n|    2 | Hofburg                       | Complexo de Palácios Imperiais         | Antiga residência de inverno dos Habsburgos, abrigando museus, capelas e a famosa Escola Espanhola de Equitação.              | Muito Popular     | História imperial e arquitetura opulenta           |\n|    3 | Catedral de Santo Estêvão     | Catedral Gótica                        | Símbolo icônico de Viena, com sua arquitetura gótica impressionante e tesouros históricos.                                    | Excelente         | Arquitetura gótica e significado histórico         |\n|    4 | Museu de História da Arte     | Museu de Arte                          | Coleção excepcional de arte mundial, desde a antiguidade até o século XVIII, com obras de mestres como Rafael e Michelangelo. | 4.5/5 estrelas    | Coleção de arte abrangente e de alta qualidade     |\n|    5 | Belvedere                     | Museu de Arte e Palácio                | Palácio barroco que abriga uma coleção de arte austríaca, incluindo obras-primas de Gustav Klimt, como O Beijo.               | Excelente         | Obras-primas de Gustav Klimt e arquitetura barroca |\n|    6 | Prater                        | Parque de Diversões e Área de Lazer    | Parque de diversões famoso pela icônica roda-gigante, oferecendo entretenimento para todas as idades.                         | Muito Popular     | Entretenimento clássico e atmosfera festiva        |\n|    7 | Naschmarkt                    | Mercado Histórico                      | Um dos maiores e mais vibrantes mercados ao ar livre da Europa, com uma variedade de produtos frescos, especiarias e comidas. | 4.0/5 estrelas    | Experiência gastronômica e cultural vibrante       |\n|    8 | Casa da Música                | Centro de Música e Arquitetura Moderna | Centro de concertos com arquitetura moderna e inovadora, palco para apresentações musicais de renome.                         | 4.5/5 estrelas    | Arquitetura moderna e concertos de alta qualidade  |\n|    9 | Donauturm (Torre do Danúbio)  | Mirante Panorâmico                     | Torre de observação que oferece vistas panorâmicas deslumbrantes de Viena e seus arredores.                                   | Muito Popular     | Vistas panorâmicas de Viena                        |\n|   10 | Palácio de Belvedere Inferior | Museu de Arte e Palácio                | Parte do complexo Belvedere, abriga uma coleção impressionante de arte austríaca, incluindo obras de Gustav Klimt.            | Excelente         | Coleção de arte austríaca e arquitetura barroca    |\n|   11 | Espaço de Arte Leopold        | Museu de Arte Moderna                  | Museu dedicado à arte austríaca do século XX, com uma coleção significativa de obras de Egon Schiele e Gustav Klimt.          | 4.5/5 estrelas    | Obras-primas da arte austríaca moderna             |\n|   12 | Volksgarten                   | Parque Urbano                          | Belo parque no centro de Viena, com jardins bem cuidados, monumentos e o famoso Teatro de Verão.                              | Muito Popular     | Espaço verde tranquilo no coração da cidade        |\n|   13 | MuseumsQuartier               | Complexo de Museus                     | Complexo de museus que abriga diversas instituições culturais, incluindo o Leopold Museum e o MUMOK.                          | Muito Popular     | Diversidade de museus e experiências culturais     |\n|   14 | Palácio do Arsenal            | Museu de História Militar              | Museu que apresenta a história militar da Áustria, com uma coleção de armas, armaduras e artefatos históricos.                | N/A               | Visão da história militar austríaca                |\n|   15 | Stephansplatz                 | Praça Histórica                        | Praça principal de Viena, localizada em frente à Catedral de Santo Estêvão, um importante centro histórico e turístico.       | Muito Popular     | Atmosfera histórica e centralidade na cidade       |"
          },
          "metadata": {}
        },
        {
          "output_type": "display_data",
          "data": {
            "text/plain": [
              "<IPython.core.display.Markdown object>"
            ],
            "text/markdown": "---"
          },
          "metadata": {}
        }
      ]
    },
    {
      "cell_type": "code",
      "source": [
        "from datetime import datetime, timedelta, timezone\n",
        "\n",
        "# --- INÍCIO: Adapte esta seção com os dados reais da sua pesquisa ---\n",
        "# Suponha que esta variável (ou um conjunto de variáveis) contenha\n",
        "# todas as informações compiladas pelo seu Agente \"Pesquisador de Atrações\".\n",
        "# O exemplo abaixo mostra uma ESTRUTURA SUGERIDA para organizar os dados\n",
        "# para facilitar a geração do Markdown. Você precisará preenchê-la ou\n",
        "# adaptar o código de geração do Markdown à sua estrutura de dados existente.\n",
        "\n",
        "# Obtenção da data e hora atuais para o relatório\n",
        "# Em um ambiente Colab real, para obter a hora dinâmica, você usaria:\n",
        "# current_time_utc = datetime.now(timezone.utc)\n",
        "\n",
        "\n",
        "# --- FIM: Adapte esta seção com os dados reais da sua pesquisa ---\n",
        "\n",
        "# Construção do conteúdo em formato Markdown\n",
        "markdown_output = []\n",
        "\n",
        "markdown_output.append(f\"# {dados_compilados.get('titulo_pesquisa', 'Resultados da Pesquisa de Atrações')}\")\n",
        "markdown_output.append(f\"\\n**Data da Pesquisa (Execução do Agente):** {dados_compilados.get('data_execucao_pesquisa', 'Não especificada')}\")\n",
        "markdown_output.append(f\"**Data de Geração deste Relatório:** {dados_compilados.get('data_geracao_relatorio_utc')} / {dados_compilados.get('data_geracao_relatorio_brasilia')}\\n\")\n",
        "\n",
        "markdown_output.append(f\"## Introdução\\n{dados_compilados.get('introducao', 'Introdução não fornecida.')}\\n\")\n",
        "\n",
        "if dados_compilados.get('atracoes_pesquisadas'):\n",
        "    markdown_output.append(\"## Detalhamento das Atrações Pesquisadas\")\n",
        "    for atracao in dados_compilados['atracoes_pesquisadas']:\n",
        "        markdown_output.append(f\"\\n### {atracao.get('nome_atracao', 'Atração Sem Nome')}\")\n",
        "\n",
        "        if atracao.get('dados_brutos'):\n",
        "            markdown_output.append(\"\\n#### Dados Brutos / Informações Essenciais\")\n",
        "            for chave, valor in atracao['dados_brutos'].items():\n",
        "                if isinstance(valor, str) and valor.startswith(\"http\"):\n",
        "                    markdown_output.append(f\"- **{chave}:** [{valor}]({valor})\")\n",
        "                else:\n",
        "                    markdown_output.append(f\"- **{chave}:** {valor}\")\n",
        "\n",
        "        markdown_output.append(f\"\\n#### Análise Detalhada\\n{atracao.get('analise_detalhada', 'N/A')}\")\n",
        "        markdown_output.append(f\"\\n#### Conclusões e Recomendações\\n{atracao.get('conclusoes_recomendacoes', 'N/A')}\")\n",
        "\n",
        "        if atracao.get('fontes_consultadas'):\n",
        "            markdown_output.append(\"\\n##### Fontes Consultadas:\")\n",
        "            for fonte in atracao['fontes_consultadas']:\n",
        "                markdown_output.append(f\"- [{fonte}]({fonte})\") # Formata como link clicável\n",
        "\n",
        "        markdown_output.append(f\"\\n##### Insights Adicionais\\n{atracao.get('insights_adicionais', 'Nenhum insight adicional.')}\\n\")\n",
        "\n",
        "markdown_output.append(f\"## Resumo Executivo da Pesquisa\\n{dados_compilados.get('resumo_executivo_pesquisa', 'Resumo não fornecido.')}\\n\")\n",
        "markdown_output.append(f\"## Considerações para o Agente Organizador de Roteiro\\n{dados_compilados.get('consideracoes_para_organizador_roteiro', 'Nenhuma consideração específica.')}\\n\")\n",
        "\n",
        "conteudo_final_markdown = \"\\n\".join(markdown_output)\n",
        "\n",
        "# Especificações do arquivo de saída\n",
        "nome_arquivo = \"pesquisa_agente.md\"\n",
        "localizacao_arquivo = f\"/content/{nome_arquivo}\" # Diretamente na raiz do /content/\n",
        "\n",
        "# Comando para salvar o arquivo\n",
        "try:\n",
        "    with open(localizacao_arquivo, \"w\", encoding=\"utf-8\") as f:\n",
        "        f.write(conteudo_final_markdown)\n",
        "    print(f\"Arquivo '{localizacao_arquivo}' gerado com sucesso! 🎉\")\n",
        "except Exception as e:\n",
        "    print(f\"Ocorreu um erro ao tentar salvar o arquivo '{localizacao_arquivo}': {e} 😥\")\n",
        "\n",
        "# Salva todos os dados de atrações em um arquivo JSON\n",
        "output_filename = \"atracoes_pesquisadas.json\"\n",
        "with open(output_filename, \"w\", encoding=\"utf-8\") as f:\n",
        "    json.dump(agente.all_attractions_data, f, ensure_ascii=False, indent=4)\n",
        "\n",
        "print(f\"Dados salvos em {output_filename}\")\n"
      ],
      "metadata": {
        "id": "eWd_1_Kzsahf",
        "colab": {
          "base_uri": "https://localhost:8080/",
          "height": 245
        },
        "outputId": "a2b8d526-369b-4723-a5b4-d50e0940b192"
      },
      "execution_count": 8,
      "outputs": [
        {
          "output_type": "error",
          "ename": "NameError",
          "evalue": "name 'dados_compilados' is not defined",
          "traceback": [
            "\u001b[0;31m---------------------------------------------------------------------------\u001b[0m",
            "\u001b[0;31mNameError\u001b[0m                                 Traceback (most recent call last)",
            "\u001b[0;32m/tmp/ipython-input-8-1222635000.py\u001b[0m in \u001b[0;36m<cell line: 0>\u001b[0;34m()\u001b[0m\n\u001b[1;32m     18\u001b[0m \u001b[0mmarkdown_output\u001b[0m \u001b[0;34m=\u001b[0m \u001b[0;34m[\u001b[0m\u001b[0;34m]\u001b[0m\u001b[0;34m\u001b[0m\u001b[0;34m\u001b[0m\u001b[0m\n\u001b[1;32m     19\u001b[0m \u001b[0;34m\u001b[0m\u001b[0m\n\u001b[0;32m---> 20\u001b[0;31m \u001b[0mmarkdown_output\u001b[0m\u001b[0;34m.\u001b[0m\u001b[0mappend\u001b[0m\u001b[0;34m(\u001b[0m\u001b[0;34mf\"# {dados_compilados.get('titulo_pesquisa', 'Resultados da Pesquisa de Atrações')}\"\u001b[0m\u001b[0;34m)\u001b[0m\u001b[0;34m\u001b[0m\u001b[0;34m\u001b[0m\u001b[0m\n\u001b[0m\u001b[1;32m     21\u001b[0m \u001b[0mmarkdown_output\u001b[0m\u001b[0;34m.\u001b[0m\u001b[0mappend\u001b[0m\u001b[0;34m(\u001b[0m\u001b[0;34mf\"\\n**Data da Pesquisa (Execução do Agente):** {dados_compilados.get('data_execucao_pesquisa', 'Não especificada')}\"\u001b[0m\u001b[0;34m)\u001b[0m\u001b[0;34m\u001b[0m\u001b[0;34m\u001b[0m\u001b[0m\n\u001b[1;32m     22\u001b[0m \u001b[0mmarkdown_output\u001b[0m\u001b[0;34m.\u001b[0m\u001b[0mappend\u001b[0m\u001b[0;34m(\u001b[0m\u001b[0;34mf\"**Data de Geração deste Relatório:** {dados_compilados.get('data_geracao_relatorio_utc')} / {dados_compilados.get('data_geracao_relatorio_brasilia')}\\n\"\u001b[0m\u001b[0;34m)\u001b[0m\u001b[0;34m\u001b[0m\u001b[0;34m\u001b[0m\u001b[0m\n",
            "\u001b[0;31mNameError\u001b[0m: name 'dados_compilados' is not defined"
          ]
        }
      ]
    }
  ]
}