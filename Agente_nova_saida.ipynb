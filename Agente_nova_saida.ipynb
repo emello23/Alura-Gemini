{
  "nbformat": 4,
  "nbformat_minor": 0,
  "metadata": {
    "colab": {
      "provenance": [],
      "include_colab_link": true
    },
    "kernelspec": {
      "name": "python3",
      "display_name": "Python 3"
    },
    "language_info": {
      "name": "python"
    }
  },
  "cells": [
    {
      "cell_type": "markdown",
      "metadata": {
        "id": "view-in-github",
        "colab_type": "text"
      },
      "source": [
        "<a href=\"https://colab.research.google.com/github/emello23/Alura-Gemini/blob/main/Agente_nova_saida.ipynb\" target=\"_parent\"><img src=\"https://colab.research.google.com/assets/colab-badge.svg\" alt=\"Open In Colab\"/></a>"
      ]
    },
    {
      "cell_type": "code",
      "metadata": {
        "colab": {
          "base_uri": "https://localhost:8080/",
          "height": 46
        },
        "id": "Bcfj-SOkALl_",
        "outputId": "77f42bbb-548e-4473-b096-fda351565ccb"
      },
      "source": [
        "import pandas as pd\n",
        "import time\n",
        "from IPython.display import display, Markdown\n",
        "from tabulate import tabulate\n",
        "from urllib.parse import quote_plus\n",
        "import google.generativeai as genai # SDK do Gemini\n",
        "import json # Para parsear a resposta do Gemini\n",
        "from google.colab import userdata # Para acessar a API key\n",
        "from datetime import datetime, timedelta # Importar datetime e timedelta\n",
        "\n",
        "# --- Configuração do Agente e API Key ---\n",
        "GOOGLE_API_KEY = None\n",
        "gemini_model_instance = None # Renomeado para clareza\n",
        "\n",
        "try:\n",
        "    # O nome padrão para secrets é sem o sufixo _, a menos que você tenha nomeado especificamente assim.\n",
        "    # Vou usar 'GOOGLE_API_KEY' como padrão, conforme a prática comum.\n",
        "    GOOGLE_API_KEY = userdata.get('GOOGLE_API_KEY')\n",
        "    if not GOOGLE_API_KEY:\n",
        "        display(Markdown(\"<font color='red'>**Erro Crítico: GOOGLE_API_KEY não encontrada nos Secrets do Colab.** \"\n",
        "                         \"Por favor, configure-a com o nome 'GOOGLE_API_KEY'.</font>\"))\n",
        "    else:\n",
        "        genai.configure(api_key=GOOGLE_API_KEY)\n",
        "        gemini_model_instance = genai.GenerativeModel(\n",
        "            model_name='gemini-1.5-flash-latest', # Modelo eficiente e capaz\n",
        "            # A opção response_mime_type pode ser usada com modelos mais recentes\n",
        "            # e configurações de segurança apropriadas.\n",
        "            # generation_config=genai.types.GenerationConfig(\n",
        "            #     response_mime_type=\"application/json\"\n",
        "            # )\n",
        "        )\n",
        "        display(Markdown(\"✅ *SDK do Gemini e modelo (`gemini-1.5-flash-latest`) configurados com sucesso.*\"))\n",
        "except Exception as e:\n",
        "    display(Markdown(f\"<font color='red'>**Erro Crítico ao configurar o SDK do Gemini:** {e}. \"\n",
        "                     \"Verifique sua API Key, permissões e se o nome do secret está correto ('GOOGLE_API_KEY'). \"\n",
        "                     \"O agente não funcionará sem isso.</font>\"))\n",
        "    # O script poderia parar aqui ou continuar com funcionalidades limitadas se houvesse um fallback.\n",
        "    # Para este agente, o Gemini é essencial.\n",
        "\n",
        "# --- Funções Utilitárias ---\n",
        "\n",
        "def carregar_dados_viagem(caminho_arquivo: str) -> pd.DataFrame | None:\n",
        "    \"\"\"\n",
        "    Carrega os dados de viagem do arquivo CSV e valida as colunas necessárias.\n",
        "    \"\"\"\n",
        "    colunas_requeridas = ['cidade', 'pais', 'data_chegada', 'data_partida', 'hospedagem']\n",
        "    try:\n",
        "        df = pd.read_csv(caminho_arquivo)\n",
        "\n",
        "        # Validar se as colunas requeridas existem\n",
        "        if not all(col in df.columns for col in colunas_requeridas):\n",
        "            colunas_faltando = [col for col in colunas_requeridas if col not in df.columns]\n",
        "            display(Markdown(f\"<font color='red'>**Erro: O arquivo `{caminho_arquivo}` não contém as colunas requeridas.** \"\n",
        "                             f\"Faltam as seguintes colunas: {', '.join(colunas_faltando)}.</font>\"))\n",
        "            return None\n",
        "\n",
        "        display(Markdown(f\"### Arquivo de Viagem (`{caminho_arquivo}`)\"))\n",
        "        display(df[colunas_requeridas]) # Exibe apenas as colunas relevantes\n",
        "        return df\n",
        "    except FileNotFoundError:\n",
        "        display(Markdown(f\"<font color='red'>**Erro: Arquivo `{caminho_arquivo}` não encontrado.** Verifique o nome e o local.</font>\"))\n",
        "        return None\n",
        "    except Exception as e:\n",
        "        display(Markdown(f\"<font color='red'>**Erro ao carregar o arquivo CSV `{caminho_arquivo}`:** {e}</font>\"))\n",
        "        return None\n",
        "\n",
        "def gerar_links_pesquisa_google(cidade: str, pais: str) -> tuple[str, str, str]:\n",
        "    \"\"\"Gera links de pesquisa úteis para Google Search e Google Maps.\"\"\"\n",
        "    query_atracoes = f\"principais atrações turísticas em {cidade} {pais}\"\n",
        "    link_google_search = f\"https://www.google.com/search?q={quote_plus(query_atracoes)}\"\n",
        "    query_maps_atracoes = f\"atrações turísticas em {cidade}, {pais}\"\n",
        "    link_google_maps_atracoes = f\"https://www.google.com/maps/search/{quote_plus(query_maps_atracoes)}\"\n",
        "    query_maps_cidade = f\"{cidade}, {pais}\"\n",
        "    link_google_maps_cidade = f\"https://www.google.com/maps/place/{quote_plus(query_maps_cidade)}\"\n",
        "    return link_google_search, link_google_maps_atracoes, link_google_maps_cidade\n",
        "\n",
        "# --- Definição do Agente Pesquisador de Atrações ---\n",
        "\n",
        "class AgentePesquisadorAtracoes:\n",
        "    \"\"\"\n",
        "    Um agente responsável por pesquisar atrações turísticas usando o Gemini\n",
        "    e fornecer links úteis para pesquisa manual.\n",
        "    \"\"\"\n",
        "    def __init__(self, modelo_llm: genai.GenerativeModel):\n",
        "        if modelo_llm is None:\n",
        "            raise ValueError(\"O modelo LLM (Gemini) não pode ser None para este agente.\")\n",
        "        self.modelo = modelo_llm\n",
        "        self.safety_settings = [ # Configurações de segurança para o Gemini\n",
        "            {\"category\": \"HARM_CATEGORY_HARASSMENT\", \"threshold\": \"BLOCK_MEDIUM_AND_ABOVE\"},\n",
        "            {\"category\": \"HARM_CATEGORY_HATE_SPEECH\", \"threshold\": \"BLOCK_MEDIUM_AND_ABOVE\"},\n",
        "            {\"category\": \"HARM_CATEGORY_SEXUALLY_EXPLICIT\", \"threshold\": \"BLOCK_MEDIUM_AND_ABOVE\"},\n",
        "            {\"category\": \"HARM_CATEGORY_DANGEROUS_CONTENT\", \"threshold\": \"BLOCK_MEDIUM_AND_ABOVE\"},\n",
        "        ]\n",
        "\n",
        "    def _obter_sugestoes_gemini(self, cidade: str, pais: str, top_n: int = 15) -> list[dict]:\n",
        "        \"\"\"\n",
        "        Ferramenta interna do agente para consultar o Gemini sobre atrações.\n",
        "        \"\"\"\n",
        "        display(Markdown(f\"🧠 *Agente consultando Gemini sobre atrações em: **{cidade}, {pais}** (Top {top_n})...*\"))\n",
        "\n",
        "        prompt = f\"\"\"\n",
        "        Você é um assistente de planejamento de viagens altamente especializado e eficiente.\n",
        "        Sua tarefa é identificar as {top_n} principais e mais recomendadas atrações turísticas para a cidade de {cidade}, localizada em {pais}.\n",
        "\n",
        "        Critérios para sua seleção:\n",
        "        1.  **Popularidade e Reconhecimento:** Atrações bem conhecidas e frequentemente visitadas.\n",
        "        2.  **Qualidade das Avaliações:** Lugares geralmente com avaliações positivas (ex: acima de 4.0/5 estrelas).\n",
        "        3.  **Relevância Cultural/Histórica:** Locais com significado importante.\n",
        "        4.  **Diversidade de Experiências:** Inclua uma mistura de tipos, como museus, monumentos, parques, mercados, igrejas/catedrais, mirantes, etc., quando apropriado para a cidade.\n",
        "        5.  **Singularidade:** Atrações que oferecem uma experiência única ou icônica da cidade/região.\n",
        "\n",
        "        Formato da Resposta:\n",
        "        Retorne **estritamente uma lista JSON**. Cada elemento da lista deve ser um dicionário representando uma atração,\n",
        "        contendo EXATAMENTE as seguintes chaves:\n",
        "        - \"nome\": (string) O nome oficial e completo da atração.\n",
        "        - \"tipo_principal\": (string) A categoria principal da atração (ex: \"Museu de Arte\", \"Catedral Gótica\", \"Parque Urbano\", \"Mercado Histórico\", \"Monumento Nacional\", \"Mirante Panorâmico\"). Seja específico.\n",
        "        - \"descricao_enxuta\": (string) Uma descrição concisa e informativa (1-2 frases) que justifique sua inclusão, destacando seus principais atrativos.\n",
        "        - \"avaliacao_geral\": (string, opcional) Uma estimativa da avaliação geral se for amplamente conhecida (ex: \"Excelente\", \"Muito Popular\", \"4.5/5 estrelas\"). Use \"N/A\" se não houver uma estimativa clara.\n",
        "        - \"destaque_principal\": (string) O motivo principal pelo qual um turista deveria visitar (ex: \"Vistas incríveis da cidade\", \"Coleção de arte renascentista\", \"Arquitetura impressionante\", \"Atmosfera vibrante\").\n",
        "\n",
        "        Exemplo de um item na lista JSON:\n",
        "        {{\n",
        "          \"nome\": \"Museu do Louvre\",\n",
        "          \"tipo_principal\": \"Museu de Arte e Antiguidades\",\n",
        "          \"descricao_enxuta\": \"Um dos maiores e mais visitados museus do mundo, lar de obras-primas como a Mona Lisa e a Vênus de Milo.\",\n",
        "          \"avaliacao_geral\": \"4.7/5 estrelas\",\n",
        "          \"destaque_principal\": \"Coleção de arte de renome mundial\"\n",
        "        }}\n",
        "\n",
        "        Garanta que a saída seja SOMENTE a lista JSON, sem nenhum texto introdutório, comentários ou formatação adicional.\n",
        "        \"\"\"\n",
        "\n",
        "        try:\n",
        "            response = self.modelo.generate_content(\n",
        "                prompt,\n",
        "                generation_config=genai.types.GenerationConfig(\n",
        "                    temperature=0.4, # Um pouco mais factual, menos aleatório\n",
        "                    max_output_tokens=3072 # Espaço suficiente para a lista JSON\n",
        "                ),\n",
        "                safety_settings=self.safety_settings\n",
        "            )\n",
        "\n",
        "            json_text = response.text.strip()\n",
        "            # Tentativa robusta de extrair JSON, mesmo que o modelo adicione ```json ... ```\n",
        "            if json_text.startswith(\"```json\"):\n",
        "                json_text = json_text[7:]\n",
        "            if json_text.endswith(\"```\"):\n",
        "                json_text = json_text[:-3]\n",
        "            json_text = json_text.strip()\n",
        "\n",
        "            if not json_text:\n",
        "                display(Markdown(f\"<font color='orange'>Aviso: Gemini retornou uma resposta vazia para {cidade}.</font>\"))\n",
        "                return []\n",
        "\n",
        "            atracoes = json.loads(json_text)\n",
        "            # Garantir que é uma lista, mesmo que o Gemini retorne algo diferente\n",
        "            if not isinstance(atracoes, list):\n",
        "                 display(Markdown(f\"<font color='orange'>Aviso: Gemini retornou um formato inesperado (não uma lista) para {cidade}.</font>\"))\n",
        "                 return []\n",
        "\n",
        "            display(Markdown(f\"✅ *Gemini retornou {len(atracoes)} sugestões de atrações para {cidade}.*\"))\n",
        "            return atracoes[:top_n]\n",
        "        except json.JSONDecodeError as e:\n",
        "            display(Markdown(f\"<font color='red'>**Erro (JSONDecodeError) ao processar resposta do Gemini para {cidade}:** {e}. \"\n",
        "                             \"Isso geralmente ocorre se o modelo não retornar um JSON válido.</font>\"))\n",
        "            if hasattr(response, 'text'):\n",
        "                display(Markdown(f\"<pre>Resposta Bruta do Gemini:\\n{response.text}</pre>\"))\n",
        "            else:\n",
        "                 display(Markdown(f\"<pre>Nenhuma resposta de texto recebida do Gemini.</pre>\"))\n",
        "            return []\n",
        "        except Exception as e:\n",
        "            # Captura de erros mais genéricos, como problemas de API (quota, etc.)\n",
        "            # ou bloqueios de segurança não esperados.\n",
        "            display(Markdown(f\"<font color='red'>**Erro inesperado ao consultar Gemini para {cidade}:** {e}</font>\"))\n",
        "            if hasattr(response, 'prompt_feedback'):\n",
        "                display(Markdown(f\"Feedback do Prompt: {response.prompt_feedback}\"))\n",
        "            return []\n",
        "\n",
        "    def pesquisar_destino(self, cidade: str, pais: str, top_n_sugestoes: int = 15) -> dict:\n",
        "        \"\"\"\n",
        "        Executa a pesquisa de atrações para um destino específico.\n",
        "        \"\"\"\n",
        "        display(Markdown(f\"\\n### 🌍 Agente Iniciando Pesquisa para: **{cidade}, {pais}**\"))\n",
        "\n",
        "        links = gerar_links_pesquisa_google(cidade, pais)\n",
        "        sugestoes_gemini = self._obter_sugestoes_gemini(cidade, pais, top_n=top_n_sugestoes)\n",
        "\n",
        "        display(Markdown(f\"--- Pesquisa para **{cidade}, {pais}** finalizada pelo agente. ---\"))\n",
        "        return {\n",
        "            \"cidade\": cidade,\n",
        "            \"pais\": pais,\n",
        "            \"link_google_search\": links[0],\n",
        "            \"link_google_maps_atracoes\": links[1],\n",
        "            \"link_google_maps_cidade\": links[2],\n",
        "            \"sugestoes_gemini\": sugestoes_gemini\n",
        "        }\n",
        "\n",
        "# --- Definição do Agente Montador de Roteiros ---\n",
        "\n",
        "class MontadorDeRoteiros:\n",
        "    \"\"\"\n",
        "    Um agente responsável por organizar as atrações por dia, considerando proximidade,\n",
        "    hospedagem como ponto de partida/chegada, e adicionando elementos para tornar o roteiro prazeroso e divertido.\n",
        "    \"\"\"\n",
        "    def __init__(self, modelo_llm: genai.GenerativeModel):\n",
        "        if modelo_llm is None:\n",
        "            raise ValueError(\"O modelo LLM (Gemini) não pode ser None para este agente.\")\n",
        "        self.modelo = modelo_llm\n",
        "        self.safety_settings = [ # Configurações de segurança para o Gemini\n",
        "            {\"category\": \"HARM_CATEGORY_HARASSMENT\", \"threshold\": \"BLOCK_MEDIUM_AND_ABOVE\"},\n",
        "            {\"category\": \"HARM_CATEGORY_HATE_SPEECH\", \"threshold\": \"BLOCK_MEDIUM_AND_ABOVE\"},\n",
        "            {\"category\": \"HARM_CATEGORY_SEXUALLY_EXPLICIT\", \"threshold\": \"BLOCK_MEDIUM_AND_ABOVE\"},\n",
        "            {\"category\": \"HARM_CATEGORY_DANGEROUS_CONTENT\", \"threshold\": \"BLOCK_MEDIUM_AND_ABOVE\"},\n",
        "        ]\n",
        "\n",
        "    def montar_roteiro(self, cidade: str, pais: str, atracoes: list, hospedagem: str, data_chegada: str, data_partida: str) -> dict:\n",
        "        \"\"\"\n",
        "        Monta um roteiro diário otimizado para as atrações, considerando a hospedagem e datas.\n",
        "        \"\"\"\n",
        "        from datetime import datetime\n",
        "        delta = datetime.strptime(data_partida, \"%Y-%m-%d\") - datetime.strptime(data_chegada, \"%Y-%m-%d\")\n",
        "        dias_viagem = delta.days + 1 # Inclui o dia de chegada e partida\n",
        "\n",
        "        atracoes_str = json.dumps(atracoes, ensure_ascii=False, indent=2)\n",
        "\n",
        "        prompt = f\"\"\"\n",
        "        Você é um especialista em planejamento de roteiros de viagem, focado em otimização e experiência do viajante.\n",
        "        Sua tarefa é criar um roteiro diário detalhado para uma viagem a {cidade}, {pais}, com base nas atrações fornecidas.\n",
        "        A viagem será de {data_chegada} a {data_partida}, totalizando {dias_viagem} dias.\n",
        "        A hospedagem principal é em: {hospedagem}.\n",
        "\n",
        "        Atrações disponíveis (formato JSON):\n",
        "{atracoes_str}\n",
        "\n",
        "        Critérios para o Roteiro:\n",
        "        1.  **Otimização Geográfica:** Agrupe atrações próximas no mesmo dia para minimizar deslocamentos.\n",
        "        2.  **Fluxo Lógico:** Organize as visitas de forma sequencial e eficiente.\n",
        "        3.  **Ritmo Agradável:** Considere tempos de deslocamento, duração estimada das visitas e pausas (almoço, descanso). Evite sobrecarregar os dias.\n",
        "        4.  **Hospedagem como Base:** O roteiro deve idealmente começar e terminar o dia próximo à área da hospedagem, se possível.\n",
        "        5.  **Flexibilidade:** Mencione que o roteiro é uma sugestão e pode ser adaptado.\n",
        "        6.  **Sugestões Adicionais:** Inclua sugestões gerais de onde comer na região das atrações do dia, ou atividades noturnas, se apropriado para a cidade.\n",
        "        7.  **Formato Diário:** Organize a saída por dia da viagem.\n",
        "\n",
        "        Formato da Resposta:\n",
        "        Retorne **estritamente uma lista JSON**. Cada elemento da lista deve ser um dicionário representando um dia do roteiro,\n",
        "        contendo EXATAMENTE as seguintes chaves:\n",
        "        - \"dia\": (integer) O número do dia da viagem (começando em 1).\n",
        "        - \"data\": (string) A data correspondente ao dia do roteiro no formato YYYY-MM-DD.\n",
        "        - \"atividades_sugeridas\": (lista de strings) Uma lista ordenada das atrações e atividades sugeridas para este dia, com descrições concisas (ex: \"Visitar o Museu do Louvre (reservar 3-4 horas)\", \"Passeio pelo Jardim de Tuileries (1-2 horas)\", \"Almoço na região do museu\"). Inclua tempos estimados ou sugestões de duração quando possível.\n",
        "        - \"observacoes\": (string) Sugestões adicionais para o dia, como opções de transporte, áreas para almoço/jantar, ou dicas específicas para as atrações do dia. Use \"N/A\" se não houver observações relevantes.\n",
        "\n",
        "        Exemplo de um item na lista JSON:\n",
        "        {{\n",
        "          \"dia\": 1,\n",
        "          \"data\": \"{data_chegada}\",\n",
        "          \"atividades_sugeridas\": [\n",
        "            \"Chegada e check-in na hospedagem ({hospedagem})\",\n",
        "            \"Passeio exploratório pela vizinhança da hospedagem\",\n",
        "            \"Jantar em um restaurante local\"\n",
        "          ],\n",
        "          \"observacoes\": \"Aproveite para se ambientar na área.\"\n",
        "        }}\n",
        "\n",
        "        Garanta que a saída seja SOMENTE a lista JSON, sem nenhum texto introdutório, comentários ou formatação adicional.\n",
        "        \"\"\"\n",
        "\n",
        "        display(Markdown(f\"🧠 *Agente montando roteiro para: **{cidade}, {pais}** ({dias_viagem} dias)...*\"))\n",
        "\n",
        "        try:\n",
        "            response = self.modelo.generate_content(\n",
        "                prompt,\n",
        "                generation_config=genai.types.GenerationConfig(\n",
        "                    temperature=0.7, # Um pouco mais criativo para o roteiro\n",
        "                    max_output_tokens=4096 # Espaço suficiente para o roteiro completo\n",
        "                ),\n",
        "                safety_settings=self.safety_settings\n",
        "            )\n",
        "\n",
        "            roteiro_text = response.text.strip()\n",
        "            # Tentativa robusta de extrair JSON\n",
        "            if roteiro_text.startswith(\"```json\"):\n",
        "                roteiro_text = roteiro_text[7:]\n",
        "            if roteiro_text.endswith(\"```\"):\n",
        "                roteiro_text = roteiro_text[:-3]\n",
        "            roteiro_text = roteiro_text.strip()\n",
        "\n",
        "\n",
        "            if not roteiro_text:\n",
        "                 display(Markdown(f\"<font color='orange'>Aviso: Gemini retornou uma resposta vazia ao tentar montar o roteiro para {cidade}.</font>\"))\n",
        "                 return {\"erro\": \"resposta vazia do Gemini\"}\n",
        "\n",
        "\n",
        "            roteiro = json.loads(roteiro_text)\n",
        "            if not isinstance(roteiro, list):\n",
        "                 display(Markdown(f\"<font color='orange'>Aviso: Gemini retornou um formato inesperado (não uma lista) para o roteiro de {cidade}.</font>\"))\n",
        "                 return {\"erro\": \"formato inesperado do Gemini\"}\n",
        "\n",
        "            display(Markdown(f\"✅ *Gemini montou um roteiro com {len(roteiro)} dias para {cidade}.*\"))\n",
        "            return {\"roteiro\": roteiro}\n",
        "\n",
        "        except json.JSONDecodeError as e:\n",
        "            display(Markdown(f\"<font color='red'>**Erro (JSONDecodeError) ao processar resposta do Gemini para o roteiro de {cidade}:** {e}. \"\n",
        "                             \"Isso geralmente ocorre se o modelo não retornar um JSON válido.</font>\"))\n",
        "            if hasattr(response, 'text'):\n",
        "                display(Markdown(f\"<pre>Resposta Bruta do Gemini:\\n{response.text}</pre>\"))\n",
        "            else:\n",
        "                 display(Markdown(f\"<pre>Nenhuma resposta de texto recebida do Gemini.</pre>\"))\n",
        "            return {\"erro\": f\"JSONDecodeError: {e}\"}\n",
        "        except Exception as e:\n",
        "            display(Markdown(f\"<font color='red'>**Erro inesperado ao consultar Gemini para montar o roteiro de {cidade}:** {e}</font>\"))\n",
        "            if hasattr(response, 'prompt_feedback'):\n",
        "                display(Markdown(f\"Feedback do Prompt: {response.prompt_feedback}\"))\n",
        "            return {\"erro\": f\"Erro inesperado: {e}\"}\n",
        "\n",
        "\n",
        "class AgenteOtimizadorRoteiros:\n",
        "    def __init__(self, modelo_llm: genai.GenerativeModel):\n",
        "        if modelo_llm is None:\n",
        "            raise ValueError(\"O modelo LLM (Gemini) não pode ser None para este agente.\")\n",
        "        self.modelo = modelo_llm\n",
        "        self.safety_settings = [\n",
        "            {\"category\": \"HARM_CATEGORY_HARASSMENT\", \"threshold\": \"BLOCK_MEDIUM_AND_ABOVE\"},\n",
        "            {\"category\": \"HARM_CATEGORY_HATE_SPEECH\", \"threshold\": \"BLOCK_MEDIUM_AND_ABOVE\"},\n",
        "            {\"category\": \"HARM_CATEGORY_SEXUALLY_EXPLICIT\", \"threshold\": \"BLOCK_MEDIUM_AND_ABOVE\"},\n",
        "            {\"category\": \"HARM_CATEGORY_DANGEROUS_CONTENT\", \"threshold\": \"BLOCK_MEDIUM_AND_ABOVE\"},\n",
        "        ]\n",
        "\n",
        "    def otimizar_roteiro(self, roteiro_original: list, cidade: str, pais: str, hospedagem: str, data_chegada: str, data_partida: str) -> dict:\n",
        "        display(Markdown(f\"🧠 *Agente Otimizador revisando roteiro para: **{cidade}, {pais}**...*\"))\n",
        "        roteiro_str = json.dumps(roteiro_original, ensure_ascii=False, indent=2)\n",
        "\n",
        "        prompt = f\"\"\"\n",
        "Você é um Agente Otimizador de Roteiros de Viagem, especialista em logística e experiência do viajante.\n",
        "Sua missão é revisar e otimizar um roteiro de viagem existente para {cidade}, {pais}, com base nos seguintes critérios:\n",
        "\n",
        "Roteiro Original (JSON):\n",
        "{roteiro_str}\n",
        "\n",
        "Critérios de Otimização:\n",
        "1.  **Melhoria do Fluxo:** Reorganize as atividades dentro de cada dia ou entre dias para criar um fluxo mais lógico e eficiente, minimizando o tempo de deslocamento.\n",
        "2.  **Balanceamento:** Distribua as atividades de forma mais equilibrada ao longo dos dias, evitando dias excessivamente cheios ou vazios.\n",
        "3.  **Considerar Horários:** Leve em conta horários de funcionamento de atrações, horários de pico e o melhor momento do dia para visitar certos locais (ex: pôr do sol em um mirante).\n",
        "4.  **Sugestões de Transição:** Adicione sugestões sobre como se deslocar entre as atrações (transporte público, caminhada, táxi) e tempos estimados.\n",
        "5.  **Refinar Sugestões Adicionais:** Melhore as sugestões de alimentação e atividades noturnas com base no roteiro otimizado.\n",
        "6.  **Formato de Saída:** Mantenha o mesmo formato JSON da lista de dias, mas com as atividades e observações revisadas.\n",
        "\n",
        "Formato da Resposta:\n",
        "Retorne **estritamente uma lista JSON**, seguindo o mesmo formato descrito para o roteiro original,\n",
        "mas com as otimizações aplicadas.\n",
        "\n",
        "Exemplo de um item otimizado na lista JSON:\n",
        "{{\n",
        "  \"dia\": 1,\n",
        "  \"data\": \"{data_chegada}\",\n",
        "  \"atividades_sugeridas\": [\n",
        "    \"Chegada no aeroporto, traslado para a hospedagem ({hospedagem})\",\n",
        "    \"Check-in e breve descanso\",\n",
        "    \"Passeio a pé pela área histórica próxima à hospedagem (1-2 horas)\",\n",
        "    \"Jantar em um restaurante recomendado na vizinhança\"\n",
        "  ],\n",
        "  \"observacoes\": \"Considere usar transporte público ou táxi do aeroporto. Explore a pé a área ao redor do hotel para se familiarizar com o local.\"\n",
        "}}\n",
        "\n",
        "Garanta que a saída seja SOMENTE a lista JSON, sem nenhum texto introdutório, comentários ou formatação adicional.\n",
        "\"\"\"\n",
        "\n",
        "        try:\n",
        "            response = self.modelo.generate_content(\n",
        "                prompt,\n",
        "                generation_config=genai.types.GenerationConfig(\n",
        "                    temperature=0.8, # Um pouco mais criativo para otimizar\n",
        "                    max_output_tokens=4096 # Espaço suficiente para o roteiro completo\n",
        "                ),\n",
        "                safety_settings=self.safety_settings\n",
        "            )\n",
        "\n",
        "            roteiro_otimizado_text = response.text.strip()\n",
        "            # Tentativa robusta de extrair JSON\n",
        "            if roteiro_otimizado_text.startswith(\"```json\"):\n",
        "                roteiro_otimizado_text = roteiro_otimizado_text[7:]\n",
        "            if roteiro_otimizado_text.endswith(\"```\"):\n",
        "                roteiro_otimizado_text = roteiro_otimizado_text[:-3]\n",
        "            roteiro_otimizado_text = roteiro_otimizado_text.strip()\n",
        "\n",
        "            if not roteiro_otimizado_text:\n",
        "                 display(Markdown(f\"<font color='orange'>Aviso: Gemini retornou uma resposta vazia ao tentar otimizar o roteiro para {cidade}.</font>\"))\n",
        "                 return {\"erro\": \"resposta vazia do Gemini\"}\n",
        "\n",
        "            roteiro_otimizado = json.loads(roteiro_otimizado_text)\n",
        "            if not isinstance(roteiro_otimizado, list):\n",
        "                 display(Markdown(f\"<font color='orange'>Aviso: Gemini retornou um formato inesperado (não uma lista) para o roteiro otimizado de {cidade}.</font>\"))\n",
        "                 return {\"erro\": \"formato inesperado do Gemini\"}\n",
        "\n",
        "            display(Markdown(f\"✅ *Gemini otimizou o roteiro com {len(roteiro_otimizado)} dias para {cidade}.*\"))\n",
        "            return {\"roteiro_otimizado\": roteiro_otimizado}\n",
        "\n",
        "        except json.JSONDecodeError as e:\n",
        "            display(Markdown(f\"<font color='red'>**Erro (JSONDecodeError) ao processar resposta do Gemini para o roteiro otimizado de {cidade}:** {e}. \"\n",
        "                             \"Isso geralmente ocorre se o modelo não retornar um JSON válido.</font>\"))\n",
        "            if hasattr(response, 'text'):\n",
        "                display(Markdown(f\"<pre>Resposta Bruta do Gemini:\\n{response.text}</pre>\"))\n",
        "            else:\n",
        "                 display(Markdown(f\"<pre>Nenhuma resposta de texto recebida do Gemini.</pre>\"))\n",
        "            return {\"erro\": f\"JSONDecodeError: {e}\"}\n",
        "        except Exception as e:\n",
        "            display(Markdown(f\"<font color='red'>**Erro inesperado ao consultar Gemini para otimizar o roteiro de {cidade}:** {e}</font>\"))\n",
        "            if hasattr(response, 'prompt_feedback'):\n",
        "                display(Markdown(f\"Feedback do Prompt: {response.prompt_feedback}\"))\n",
        "            return {\"erro\": f\"Erro inesperado: {e}\"}\n",
        "# ----------\n",
        "# --- Definição do Agente Montador de Roteiros ---\n",
        "\n",
        "class MontadorDeRoteiros:\n",
        "    \"\"\"\n",
        "    Um agente responsável por organizar as atrações por dia, considerando proximidade,\n",
        "    hospedagem como ponto de partida/chegada, e adicionando elementos para tornar o roteiro prazeroso e divertido.\n",
        "    \"\"\"\n",
        "    def __init__(self, modelo_llm: genai.GenerativeModel):\n",
        "        if modelo_llm is None:\n",
        "            raise ValueError(\"O modelo LLM (Gemini) não pode ser None para este agente.\")\n",
        "        self.modelo = modelo_llm\n",
        "        self.safety_settings = [ # Configurações de segurança para o Gemini\n",
        "            {\"category\": \"HARM_CATEGORY_HARASSMENT\", \"threshold\": \"BLOCK_MEDIUM_AND_ABOVE\"},\n",
        "            {\"category\": \"HARM_CATEGORY_HATE_SPEECH\", \"threshold\": \"BLOCK_MEDIUM_AND_ABOVE\"},\n",
        "            {\"category\": \"HARM_CATEGORY_SEXUALLY_EXPLICIT\", \"threshold\": \"BLOCK_MEDIUM_AND_ABOVE\"},\n",
        "            {\"category\": \"HARM_CATEGORY_DANGEROUS_CONTENT\", \"threshold\": \"BLOCK_MEDIUM_AND_ABOVE\"},\n",
        "        ]\n",
        "\n",
        "    def montar_roteiro(self, cidade: str, pais: str, atracoes: list, hospedagem: str, data_chegada: str, data_partida: str) -> dict:\n",
        "        \"\"\"\n",
        "        Monta um roteiro diário otimizado para as atrações, considerando a hospedagem e datas.\n",
        "        \"\"\"\n",
        "        from datetime import datetime\n",
        "        delta = datetime.strptime(data_partida, \"%Y-%m-%d\") - datetime.strptime(data_chegada, \"%Y-%m-%d\")\n",
        "        dias_viagem = delta.days + 1 # Inclui o dia de chegada e partida\n",
        "\n",
        "        atracoes_str = json.dumps(atracoes, ensure_ascii=False, indent=2)\n",
        "\n",
        "        prompt = f\"\"\"\n",
        "        Você é um especialista em planejamento de roteiros de viagem, focado em otimização e experiência do viajante.\n",
        "        Sua tarefa é criar um roteiro diário detalhado para uma viagem a {cidade}, {pais}, com base nas atrações fornecidas.\n",
        "        A viagem será de {data_chegada} a {data_partida}, totalizando {dias_viagem} dias.\n",
        "        A hospedagem principal é em: {hospedagem}.\n",
        "\n",
        "        Atrações disponíveis (formato JSON):\n",
        "{atracoes_str}\n",
        "\n",
        "        Critérios para o Roteiro:\n",
        "        1.  **Otimização Geográfica:** Agrupe atrações próximas no mesmo dia para minimizar deslocamentos.\n",
        "        2.  **Fluxo Lógico:** Organize as visitas de forma sequencial e eficiente.\n",
        "        3.  **Ritmo Agradável:** Considere tempos de deslocamento, duração estimada das visitas e pausas (almoço, descanso). Evite sobrecarregar os dias.\n",
        "        4.  **Hospedagem como Base:** O roteiro deve idealmente começar e terminar o dia próximo à área da hospedagem, se possível.\n",
        "        5.  **Flexibilidade:** Mencione que o roteiro é uma sugestão e pode ser adaptado.\n",
        "        6.  **Sugestões Adicionais:** Inclua sugestões gerais de onde comer na região das atrações do dia, ou atividades noturnas, se apropriado para a cidade.\n",
        "        7.  **Formato Diário:** Organize a saída por dia da viagem.\n",
        "\n",
        "        Formato da Resposta:\n",
        "        Retorne **estritamente uma lista JSON**. Cada elemento da lista deve ser um dicionário representando um dia do roteiro,\n",
        "        contendo EXATAMENTE as seguintes chaves:\n",
        "        - \"dia\": (integer) O número do dia da viagem (começando em 1).\n",
        "        - \"data\": (string) A data correspondente ao dia do roteiro no formato YYYY-MM-DD.\n",
        "        - \"atividades_sugeridas\": (lista de strings) Uma lista ordenada das atrações e atividades sugeridas para este dia, com descrições concisas (ex: \"Visitar o Museu do Louvre (reservar 3-4 horas)\", \"Passeio pelo Jardim de Tuileries (1-2 horas)\", \"Almoço na região do museu\"). Inclua tempos estimados ou sugestões de duração quando possível.\n",
        "        - \"observacoes\": (string) Sugestões adicionais para o dia, como opções de transporte, áreas para almoço/jantar, ou dicas específicas para as atrações do dia. Use \"N/A\" se não houver observações relevantes.\n",
        "\n",
        "        Exemplo de um item na lista JSON:\n",
        "        {{\n",
        "          \"dia\": 1,\n",
        "          \"data\": \"{data_chegada}\",\n",
        "          \"atividades_sugeridas\": [\n",
        "            \"Chegada e check-in na hospedagem ({hospedagem})\",\n",
        "            \"Passeio exploratório pela vizinhança da hospedagem\",\n",
        "            \"Jantar em um restaurante local\"\n",
        "          ],\n",
        "          \"observacoes\": \"Aproveite para se ambientar na área.\"\n",
        "        }}\n",
        "\n",
        "        Garanta que a saída seja SOMENTE a lista JSON, sem nenhum texto introdutório, comentários ou formatação adicional.\n",
        "        \"\"\"\n",
        "\n",
        "        display(Markdown(f\"🧠 *Agente montando roteiro para: **{cidade}, {pais}** ({dias_viagem} dias)...*\"))\n",
        "\n",
        "        try:\n",
        "            response = self.modelo.generate_content(\n",
        "                prompt,\n",
        "                generation_config=genai.types.GenerationConfig(\n",
        "                    temperature=0.7, # Um pouco mais criativo para o roteiro\n",
        "                    max_output_tokens=4096 # Espaço suficiente para o roteiro completo\n",
        "                ),\n",
        "                safety_settings=self.safety_settings\n",
        "            )\n",
        "\n",
        "            roteiro_text = response.text.strip()\n",
        "            # Tentativa robusta de extrair JSON\n",
        "            if roteiro_text.startswith(\"```json\"):\n",
        "                roteiro_text = roteiro_text[7:]\n",
        "            if roteiro_text.endswith(\"```\"):\n",
        "                roteiro_text = roteiro_text[:-3]\n",
        "            roteiro_text = roteiro_text.strip()\n",
        "\n",
        "\n",
        "            if not roteiro_text:\n",
        "                 display(Markdown(f\"<font color='orange'>Aviso: Gemini retornou uma resposta vazia ao tentar montar o roteiro para {cidade}.</font>\"))\n",
        "                 return {\"erro\": \"resposta vazia do Gemini\"}\n",
        "\n",
        "\n",
        "            roteiro = json.loads(roteiro_text)\n",
        "            if not isinstance(roteiro, list):\n",
        "                 display(Markdown(f\"<font color='orange'>Aviso: Gemini retornou um formato inesperado (não uma lista) para o roteiro de {cidade}.</font>\"))\n",
        "                 return {\"erro\": \"formato inesperado do Gemini\"}\n",
        "\n",
        "            display(Markdown(f\"✅ *Gemini montou um roteiro com {len(roteiro)} dias para {cidade}.*\"))\n",
        "            return {\"roteiro\": roteiro}\n",
        "\n",
        "        except json.JSONDecodeError as e:\n",
        "            display(Markdown(f\"<font color='red'>**Erro (JSONDecodeError) ao processar resposta do Gemini para o roteiro de {cidade}:** {e}. \"\n",
        "                             \"Isso geralmente ocorre se o modelo não retornar um JSON válido.</font>\"))\n",
        "            if hasattr(response, 'text'):\n",
        "                display(Markdown(f\"<pre>Resposta Bruta do Gemini:\\n{response.text}</pre>\"))\n",
        "            else:\n",
        "                 display(Markdown(f\"<pre>Nenhuma resposta de texto recebida do Gemini.</pre>\"))\n",
        "            return {\"erro\": f\"JSONDecodeError: {e}\"}\n",
        "        except Exception as e:\n",
        "            display(Markdown(f\"<font color='red'>**Erro inesperado ao consultar Gemini para montar o roteiro de {cidade}:** {e}</font>\"))\n",
        "            if hasattr(response, 'prompt_feedback'):\n",
        "                display(Markdown(f\"Feedback do Prompt: {response.prompt_feedback}\"))\n",
        "            return {\"erro\": f\"Erro inesperado: {e}\"}\n",
        "# ----------\n",
        "# --- Definição do Agente Montador de Roteiros ---\n",
        "\n",
        "import google.generativeai as genai # SDK do Gemini\n",
        "import json # Para parsear a resposta do Gemini\n",
        "from datetime import datetime, timedelta # Importar datetime e timedelta\n",
        "\n",
        "\n",
        "class MontadorDeRoteiros:\n",
        "    \"\"\"\n",
        "    Um agente responsável por organizar as atrações por dia, considerando proximidade,\n",
        "    hospedagem como ponto de partida/chegada, e adicionando elementos para tornar o roteiro prazeroso e divertido.\n",
        "    \"\"\"\n",
        "    def __init__(self, modelo_llm: genai.GenerativeModel):\n",
        "        if modelo_llm is None:\n",
        "            raise ValueError(\"O modelo LLM (Gemini) não pode ser None para este agente.\")\n",
        "        self.modelo = modelo_llm\n",
        "        self.safety_settings = [ # Configurações de segurança para o Gemini\n",
        "            {\"category\": \"HARM_CATEGORY_HARASSMENT\", \"threshold\": \"BLOCK_MEDIUM_AND_ABOVE\"},\n",
        "            {\"category\": \"HARM_CATEGORY_HATE_SPEECH\", \"threshold\": \"BLOCK_MEDIUM_AND_ABOVE\"},\n",
        "            {\"category\": \"HARMCATEGORY_SEXUALLY_EXPLICIT\", \"threshold\": \"BLOCK_MEDIUM_AND_ABOVE\"},\n",
        "            {\"category\": \"HARM_CATEGORY_DANGEROUS_CONTENT\", \"threshold\": \"BLOCK_MEDIUM_AND_ABOVE\"},\n",
        "        ]\n",
        "\n",
        "    def montar_roteiro(self, cidade: str, pais: str, atracoes: list, hospedagem: str, data_chegada: str, data_partida: str) -> dict:\n",
        "        \"\"\"\n",
        "        Monta um roteiro diário otimizado para as atrações, considerando a hospedagem e datas.\n",
        "        \"\"\"\n",
        "        from datetime import datetime\n",
        "        delta = datetime.strptime(data_partida, \"%Y-%m-%d\") - datetime.strptime(data_chegada, \"%Y-%m-%d\")\n",
        "        dias_viagem = delta.days + 1 # Inclui o dia de chegada e partida\n",
        "\n",
        "        atracoes_str = json.dumps(atracoes, ensure_ascii=False, indent=2)\n",
        "\n",
        "        prompt = f\"\"\"\n",
        "        Você é um especialista em planejamento de roteiros de viagem, focado em otimização e experiência do viajante.\n",
        "        Sua tarefa é criar um roteiro diário detalhado para uma viagem a {cidade}, {pais}, com base nas atrações fornecidas.\n",
        "        A viagem será de {data_chegada} a {data_partida}, totalizando {dias_viagem} dias.\n",
        "        A hospedagem principal é em: {hospedagem}.\n",
        "\n",
        "        Atrações disponíveis (formato JSON):\n",
        "{atracoes_str}\n",
        "\n",
        "        Critérios para o Roteiro:\n",
        "        1.  **Otimização Geográfica:** Agrupe atrações próximas no mesmo dia para minimizar deslocamentos.\n",
        "        2.  **Fluxo Lógico:** Organize as visitas de forma sequencial e eficiente.\n",
        "        3.  **Ritmo Agradável:** Considere tempos de deslocamento, duração estimada das visitas e pausas (almoço, descanso). Evite sobrecarregar os dias.\n",
        "        4.  **Hospedagem como Base:** O roteiro deve idealmente começar e terminar o dia próximo à área da hospedagem, se possível.\n",
        "        5.  **Flexibilidade:** Mencione que o roteiro é uma sugestão e pode ser adaptado.\n",
        "        6.  **Sugestões Adicionais:** Inclua sugestões gerais de onde comer na região das atrações do dia, ou atividades noturnas, se apropriado para a cidade.\n",
        "        7.  **Formato Diário:** Organize a saída por dia da viagem.\n",
        "\n",
        "        Formato da Resposta:\n",
        "        Retorne **estritamente uma lista JSON**. Cada elemento da lista deve ser um dicionário representando um dia do roteiro,\n",
        "        contendo EXATAMENTE as seguintes chaves:\n",
        "        - \"dia\": (integer) O número do dia da viagem (começando em 1).\n",
        "        - \"data\": (string) A data correspondente ao dia do roteiro no formato YYYY-MM-DD.\n",
        "        - \"atividades_sugeridas\": (lista de strings) Uma lista ordenada das atrações e atividades sugeridas para este dia, com descrições concisas (ex: \"Visitar o Museu do Louvre (reservar 3-4 horas)\", \"Passeio pelo Jardim de Tuileries (1-2 horas)\", \"Almoço na região do museu\"). Inclua tempos estimados ou sugestões de duração quando possível.\n",
        "        - \"observacoes\": (string) Sugestões adicionais para o dia, como opções de transporte, áreas para almoço/jantar, ou dicas específicas para as atrações do dia. Use \"N/A\" se não houver observações relevantes.\n",
        "\n",
        "        Exemplo de um item na lista JSON:\n",
        "        {{\n",
        "          \"dia\": 1,\n",
        "          \"data\": \"{data_chegada}\",\n",
        "          \"atividades_sugeridas\": [\n",
        "            \"Chegada e check-in na hospedagem ({hospedagem})\",\n",
        "            \"Passeio exploratório pela vizinhança da hospedagem\",\n",
        "            \"Jantar em um restaurante local\"\n",
        "          ],\n",
        "          \"observacoes\": \"Aproveite para se ambientar na área.\"\n",
        "        }}\n",
        "\n",
        "        Garanta que a saída seja SOMENTE a lista JSON, sem nenhum texto introdutório, comentários ou formatação adicional.\n",
        "        \"\"\"\n",
        "\n",
        "        display(Markdown(f\"🧠 *Agente montando roteiro para: **{cidade}, {pais}** ({dias_viagem} dias)...*\"))\n",
        "\n",
        "        try:\n",
        "            response = self.modelo.generate_content(\n",
        "                prompt,\n",
        "                generation_config=genai.types.GenerationConfig(\n",
        "                    temperature=0.7, # Um pouco mais criativo para o roteiro\n",
        "                    max_output_tokens=4096 # Espaço suficiente para o roteiro completo\n",
        "                ),\n",
        "                safety_settings=self.safety_settings\n",
        "            )\n",
        "\n",
        "            roteiro_text = response.text.strip()\n",
        "            # Tentativa robusta de extrair JSON\n",
        "            if roteiro_text.startswith(\"```json\"):\n",
        "                roteiro_text = roteiro_text[7:]\n",
        "            if roteiro_text.endswith(\"```\"):\n",
        "                roteiro_text = roteiro_text[:-3]\n",
        "            roteiro_text = roteiro_text.strip()\n",
        "\n",
        "\n",
        "            if not roteiro_text:\n",
        "                 display(Markdown(f\"<font color='orange'>Aviso: Gemini retornou uma resposta vazia ao tentar montar o roteiro para {cidade}.</font>\"))\n",
        "                 return {\"erro\": \"resposta vazia do Gemini\"}\n",
        "\n",
        "\n",
        "            roteiro = json.loads(roteiro_text)\n",
        "            if not isinstance(roteiro, list):\n",
        "                 display(Markdown(f\"<font color='orange'>Aviso: Gemini retornou um formato inesperado (não uma lista) para o roteiro de {cidade}.</font>\"))\n",
        "                 return {\"erro\": \"formato inesperado do Gemini\"}\n",
        "\n",
        "            display(Markdown(f\"✅ *Gemini montou um roteiro com {len(roteiro)} dias para {cidade}.*\"))\n",
        "            return {\"roteiro\": roteiro}\n",
        "\n",
        "        except json.JSONDecodeError as e:\n",
        "            display(Markdown(f\"<font color='red'>**Erro (JSONDecodeError) ao processar resposta do Gemini para o roteiro de {cidade}:** {e}. \"\n",
        "                             \"Isso geralmente ocorre se o modelo não retornar um JSON válido.</font>\"))\n",
        "            if hasattr(response, 'text'):\n",
        "                display(Markdown(f\"<pre>Resposta Bruta do Gemini:\\n{response.text}</pre>\"))\n",
        "            else:\n",
        "                 display(Markdown(f\"<pre>Nenhuma resposta de texto recebida do Gemini.</pre>\"))\n",
        "            return {\"erro\": f\"JSONDecodeError: {e}\"}\n",
        "        except Exception as e:\n",
        "            display(Markdown(f\"<font color='red'>**Erro inesperado ao consultar Gemini para montar o roteiro de {cidade}:** {e}</font>\"))\n",
        "            if hasattr(response, 'prompt_feedback'):\n",
        "                display(Markdown(f\"Feedback do Prompt: {response.prompt_feedback}\"))\n",
        "            return {\"erro\": f\"Erro inesperado: {e}\"}\n",
        "\n",
        "\n",
        "class AgenteOtimizadorRoteiros:\n",
        "    def __init__(self, modelo_llm: genai.GenerativeModel):\n",
        "        if modelo_llm is None:\n",
        "            raise ValueError(\"O modelo LLM (Gemini) não pode ser None para este agente.\")\n",
        "        self.modelo = modelo_llm\n",
        "        self.safety_settings = [\n",
        "            {\"category\": \"HARM_CATEGORY_HARASSMENT\", \"threshold\": \"BLOCK_MEDIUM_AND_ABOVE\"},\n",
        "            {\"category\": \"HARM_CATEGORY_HATE_SPEECH\", \"threshold\": \"BLOCK_MEDIUM_AND_ABOVE\"},\n",
        "            {\"category\": \"HARM_CATEGORY_SEXUALLY_EXPLICIT\", \"threshold\": \"BLOCK_MEDIUM_AND_ABOVE\"},\n",
        "            {\"category\": \"HARM_CATEGORY_DANGEROUS_CONTENT\", \"threshold\": \"BLOCK_MEDIUM_AND_ABOVE\"},\n",
        "        ]\n",
        "\n",
        "    def otimizar_roteiro(self, roteiro_original: list, cidade: str, pais: str, hospedagem: str, data_chegada: str, data_partida: str) -> dict:\n",
        "        display(Markdown(f\"🧠 *Agente Otimizador revisando roteiro para: **{cidade}, {pais}**...*\"))\n",
        "        roteiro_str = json.dumps(roteiro_original, ensure_ascii=False, indent=2)\n",
        "\n",
        "        prompt = f\"\"\"\n",
        "Você é um Agente Otimizador de Roteiros de Viagem, especialista em logística e experiência do viajante.\n",
        "Sua missão é revisar e otimizar um roteiro de viagem existente para {cidade}, {pais}, com base nos seguintes critérios:\n",
        "\n",
        "Roteiro Original (JSON):\n",
        "{roteiro_str}\n",
        "\n",
        "Critérios de Otimização:\n",
        "1.  **Melhoria do Fluxo:** Reorganize as atividades dentro de cada dia ou entre dias para criar um fluxo mais lógico e eficiente, minimizando o tempo de deslocamento.\n",
        "2.  **Balanceamento:** Distribua as atividades de forma mais equilibrada ao longo dos dias, evitando dias excessivamente cheios ou vazios.\n",
        "3.  **Considerar Horários:** Leve em conta horários de funcionamento de atrações, horários de pico e o melhor momento do dia para visitar certos locais (ex: pôr do sol em um mirante).\n",
        "4.  **Sugestões de Transição:** Adicione sugestões sobre como se deslocar entre as atrações (transporte público, caminhada, táxi) e tempos estimados.\n",
        "5.  **Refinar Sugestões Adicionais:** Melhore as sugestões de alimentação e atividades noturnas com base no roteiro otimizado.\n",
        "6.  **Formato de Saída:** Mantenha o mesmo formato JSON da lista de dias, mas com as atividades e observações revisadas.\n",
        "\n",
        "Formato da Resposta:\n",
        "Retorne **estritamente uma lista JSON**, seguindo o mesmo formato descrito para o roteiro original,\n",
        "mas com as otimizações aplicadas.\n",
        "\n",
        "Exemplo de um item otimizado na lista JSON:\n",
        "{{\n",
        "  \"dia\": 1,\n",
        "  \"data\": \"{data_chegada}\",\n",
        "  \"atividades_sugeridas\": [\n",
        "    \"Chegada no aeroporto, traslado para a hospedagem ({hospedagem})\",\n",
        "    \"Check-in e breve descanso\",\n",
        "    \"Passeio a pé pela área histórica próxima à hospedagem (1-2 horas)\",\n",
        "    \"Jantar em um restaurante recomendado na vizinhança\"\n",
        "  ],\n",
        "  \"observacoes\": \"Considere usar transporte público ou táxi do aeroporto. Explore a pé a área ao redor do hotel para se familiarizar com o local.\"\n",
        "}}\n",
        "\n",
        "Garanta que a saída seja SOMENTE a lista JSON, sem nenhum texto introdutório, comentários ou formatação adicional.\n",
        "\"\"\"\n",
        "\n",
        "        try:\n",
        "            response = self.modelo.generate_content(\n",
        "                prompt,\n",
        "                generation_config=genai.types.GenerationConfig(\n",
        "                    temperature=0.8, # Um pouco mais criativo para otimizar\n",
        "                    max_output_tokens=4096 # Espaço suficiente para o roteiro completo\n",
        "                ),\n",
        "                safety_settings=self.safety_settings\n",
        "            )\n",
        "\n",
        "            roteiro_otimizado_text = response.text.strip()\n",
        "            # Tentativa robusta de extrair JSON\n",
        "            if roteiro_otimizado_text.startswith(\"```json\"):\n",
        "                roteiro_otimizado_text = roteiro_otimizado_text[7:]\n",
        "            if roteiro_otimizado_text.endswith(\"```\"):\n",
        "                roteiro_otimizado_text = roteiro_otimizado_text[:-3]\n",
        "            roteiro_otimizado_text = roteiro_otimizado_text.strip()\n",
        "\n",
        "            if not roteiro_otimizado_text:\n",
        "                 display(Markdown(f\"<font color='orange'>Aviso: Gemini retornou uma resposta vazia ao tentar otimizar o roteiro para {cidade}.</font>\"))\n",
        "                 return {\"erro\": \"resposta vazia do Gemini\"}\n",
        "\n",
        "            roteiro_otimizado = json.loads(roteiro_otimizado_text)\n",
        "            if not isinstance(roteiro_otimizado, list):\n",
        "                 display(Markdown(f\"<font color='orange'>Aviso: Gemini retornou um formato inesperado (não uma lista) para o roteiro otimizado de {cidade}.</font>\"))\n",
        "                 return {\"erro\": \"formato inesperado do Gemini\"}\n",
        "\n",
        "            display(Markdown(f\"✅ *Gemini otimizou o roteiro com {len(roteiro_otimizado)} dias para {cidade}.*\"))\n",
        "            return {\"roteiro_otimizado\": roteiro_otimizado}\n",
        "\n",
        "        except json.JSONDecodeError as e:\n",
        "            display(Markdown(f\"<font color='red'>**Erro (JSONDecodeError) ao processar resposta do Gemini para o roteiro otimizado de {cidade}:** {e}. \"\n",
        "                             \"Isso geralmente ocorre se o modelo não retornar um JSON válido.</font>\"))\n",
        "            if hasattr(response, 'text'):\n",
        "                display(Markdown(f\"<pre>Resposta Bruta do Gemini:\\n{response.text}</pre>\"))\n",
        "            else:\n",
        "                 display(Markdown(f\"<pre>Nenhuma resposta de texto recebida do Gemini.</pre>\"))\n",
        "            return {\"erro\": f\"JSONDecodeError: {e}\"}\n",
        "        except Exception as e:\n",
        "            display(Markdown(f\"<font color='red'>**Erro inesperado ao consultar Gemini para otimizar o roteiro de {cidade}:** {e}</font>\"))\n",
        "            if hasattr(response, 'prompt_feedback'):\n",
        "                display(Markdown(f\"Feedback do Prompt: {response.prompt_feedback}\"))\n",
        "            return {\"erro\": f\"Erro inesperado: {e}\"}\n",
        "# ----------\n",
        "def executar_planejador_viagem(caminho_arquivo_csv: str) -> list:\n",
        "    \"\"\"\n",
        "    Orquestra o processo de planejamento de viagem: carrega dados, pesquisa atrações\n",
        "    e monta roteiros para cada destino no arquivo CSV.\n",
        "    \"\"\"\n",
        "    display(Markdown(\"## ✈️ Iniciando Planejamento de Viagem...\"))\n",
        "\n",
        "    # 1. Carregar os dados de viagem\n",
        "    df_viagens = carregar_dados_viagem(caminho_arquivo_csv)\n",
        "    if df_viagens is None or df_viagens.empty:\n",
        "        display(Markdown(\"<font color='red'>**Erro: Não foi possível carregar os dados de viagem ou o arquivo está vazio.**</font>\"))\n",
        "        return []\n",
        "\n",
        "    # Garantir que o modelo Gemini esteja configurado\n",
        "    if gemini_model_instance is None:\n",
        "         display(Markdown(\"<font color='red'>**Erro: O modelo Gemini não foi configurado corretamente. O planejamento não pode continuar.**</font>\"))\n",
        "         return []\n",
        "\n",
        "    agente_pesquisador = AgentePesquisadorAtracoes(gemini_model_instance)\n",
        "    agente_roteirista = MontadorDeRoteiros(gemini_model_instance)\n",
        "    agente_otimizador = AgenteOtimizadorRoteiros(gemini_model_instance)\n",
        "\n",
        "\n",
        "    resultados_viagem = []\n",
        "\n",
        "    # Iterar sobre cada linha do DataFrame (cada destino)\n",
        "    for index, linha in df_viagens.iterrows():\n",
        "        cidade = linha['cidade']\n",
        "        pais = linha['pais']\n",
        "        data_chegada = linha['data_chegada']\n",
        "        data_partida = linha['data_partida']\n",
        "        hospedagem = linha['hospedagem']\n",
        "\n",
        "        display(Markdown(f\"\\n--- Processando Destino: **{cidade}, {pais}** ---\"))\n",
        "\n",
        "        # Validar datas\n",
        "        try:\n",
        "            datetime.strptime(data_chegada, \"%Y-%m-%d\")\n",
        "            datetime.strptime(data_partida, \"%Y-%m-%d\")\n",
        "            if datetime.strptime(data_chegada, \"%Y-%m-%d\") > datetime.strptime(data_partida, \"%Y-%m-%d\"):\n",
        "                 display(Markdown(f\"<font color='orange'>Aviso: Data de chegada ({data_chegada}) é posterior à data de partida ({data_partida}) para {cidade}. Pulando este destino.</font>\"))\n",
        "                 continue # Pula para o próximo destino\n",
        "        except ValueError:\n",
        "            display(Markdown(f\"<font color='orange'>Aviso: Formato de data inválido para {cidade}. Esperado YYYY-MM-DD. Pulando este destino.</font>\"))\n",
        "            continue # Pula para o próximo destino\n",
        "\n",
        "\n",
        "        # 2. Pesquisar atrações com o Agente Pesquisador\n",
        "        resultado_pesquisa = agente_pesquisador.pesquisar_destino(cidade, pais)\n",
        "        sugestoes_atracoes = resultado_pesquisa.get(\"sugestoes_gemini\", [])\n",
        "\n",
        "        if not sugestoes_atracoes:\n",
        "            display(Markdown(f\"<font color='orange'>Aviso: Nenhuma sugestão de atração encontrada para {cidade}. Não será possível montar um roteiro detalhado.</font>\"))\n",
        "            # Ainda armazena os links e info básica\n",
        "            resultados_viagem.append({\n",
        "                \"cidade\": cidade,\n",
        "                \"pais\": pais,\n",
        "                \"data_chegada\": data_chegada,\n",
        "                \"data_partida\": data_partida,\n",
        "                \"hospedagem\": hospedagem,\n",
        "                \"pesquisa\": resultado_pesquisa,\n",
        "                \"roteiro\": None, # Indica que o roteiro não pôde ser gerado\n",
        "                \"roteiro_otimizado\": None # Indica que o roteiro otimizado não pôde ser gerado\n",
        "            })\n",
        "            continue # Pula para o próximo destino\n",
        "\n",
        "        # 3. Montar o roteiro inicial com o Agente Montador\n",
        "        resultado_roteiro_inicial = agente_roteirista.montar_roteiro(\n",
        "            cidade, pais, sugestoes_atracoes, hospedagem, data_chegada, data_partida\n",
        "        )\n",
        "\n",
        "        roteiro_final = None\n",
        "        if resultado_roteiro_inicial and resultado_roteiro_inicial.get(\"roteiro\"):\n",
        "            # 4. Otimizar o roteiro com o Agente Otimizador\n",
        "            resultado_roteiro_otimizado = agente_otimizador.otimizar_roteiro(\n",
        "                resultado_roteiro_inicial[\"roteiro\"], cidade, pais, hospedagem, data_chegada, data_partida\n",
        "            )\n",
        "            roteiro_final = resultado_roteiro_otimizado.get(\"roteiro_otimizado\")\n",
        "            if not roteiro_final:\n",
        "                 display(Markdown(f\"<font color='orange'>Aviso: Não foi possível otimizar o roteiro para {cidade}. Usando o roteiro inicial (se disponível).</font>\"))\n",
        "                 roteiro_final = resultado_roteiro_inicial.get(\"roteiro\") # Fallback para roteiro inicial\n",
        "\n",
        "\n",
        "        # Armazenar os resultados para este destino\n",
        "        resultados_viagem.append({\n",
        "            \"cidade\": cidade,\n",
        "            \"pais\": pais,\n",
        "            \"data_chegada\": data_chegada,\n",
        "            \"data_partida\": data_partida,\n",
        "            \"hospedagem\": hospedagem,\n",
        "            \"pesquisa\": resultado_pesquisa,\n",
        "            \"roteiro\": resultado_roteiro_inicial.get(\"roteiro\") if resultado_roteiro_inicial else None,\n",
        "            \"roteiro_otimizado\": roteiro_final\n",
        "        })\n",
        "\n",
        "    display(Markdown(\"\\n## ✅ Planejamento de Viagem Concluído!\"))\n",
        "    return resultados_viagem\n",
        "# ----------\n",
        "def executar_planejador_viagem(caminho_arquivo_csv: str) -> list:\n",
        "    \"\"\"\n",
        "    Orquestra o processo de planejamento de viagem: carrega dados, pesquisa atrações\n",
        "    e monta roteiros para cada destino no arquivo CSV.\n",
        "    \"\"\"\n",
        "    display(Markdown(\"## ✈️ Iniciando Planejamento de Viagem...\"))\n",
        "\n",
        "    # 1. Carregar os dados de viagem\n",
        "    df_viagens = carregar_dados_viagem(caminho_arquivo_csv)\n",
        "    if df_viagens is None or df_viagens.empty:\n",
        "        display(Markdown(\"<font color='red'>**Erro: Não foi possível carregar os dados de viagem ou o arquivo está vazio.**</font>\"))\n",
        "        return []\n",
        "\n",
        "    # Garantir que o modelo Gemini esteja configurado\n",
        "    if gemini_model_instance is None:\n",
        "         display(Markdown(\"<font color='red'>**Erro: O modelo Gemini não foi configurado corretamente. O planejamento não pode continuar.**</font>\"))\n",
        "         return []\n",
        "\n",
        "    agente_pesquisador = AgentePesquisadorAtracoes(gemini_model_instance)\n",
        "    agente_roteirista = MontadorDeRoteiros(gemini_model_instance)\n",
        "    agente_otimizador = AgenteOtimizadorRoteiros(gemini_model_instance)\n",
        "\n",
        "\n",
        "    resultados_viagem = []\n",
        "\n",
        "    # Iterar sobre cada linha do DataFrame (cada destino)\n",
        "    for index, linha in df_viagens.iterrows():\n",
        "        cidade = linha['cidade']\n",
        "        pais = linha['pais']\n",
        "        data_chegada = linha['data_chegada']\n",
        "        data_partida = linha['data_partida']\n",
        "        hospedagem = linha['hospedagem']\n",
        "\n",
        "        display(Markdown(f\"\\n--- Processando Destino: **{cidade}, {pais}** ---\"))\n",
        "\n",
        "        # Validar datas\n",
        "        try:\n",
        "            datetime.strptime(data_chegada, \"%Y-%m-%d\")\n",
        "            datetime.strptime(data_partida, \"%Y-%m-%d\")\n",
        "            if datetime.strptime(data_chegada, \"%Y-%m-%d\") > datetime.strptime(data_partida, \"%Y-%m-%d\"):\n",
        "                 display(Markdown(f\"<font color='orange'>Aviso: Data de chegada ({data_chegada}) é posterior à data de partida ({data_partida}) para {cidade}. Pulando este destino.</font>\"))\n",
        "                 continue # Pula para o próximo destino\n",
        "        except ValueError:\n",
        "            display(Markdown(f\"<font color='orange'>Aviso: Formato de data inválido para {cidade}. Esperado YYYY-MM-DD. Pulando este destino.</font>\"))\n",
        "            continue # Pula para o próximo destino\n",
        "\n",
        "\n",
        "        # 2. Pesquisar atrações com o Agente Pesquisador\n",
        "        resultado_pesquisa = agente_pesquisador.pesquisar_destino(cidade, pais)\n",
        "        sugestoes_atracoes = resultado_pesquisa.get(\"sugestoes_gemini\", [])\n",
        "\n",
        "        if not sugestoes_atracoes:\n",
        "            display(Markdown(f\"<font color='orange'>Aviso: Nenhuma sugestão de atração encontrada para {cidade}. Não será possível montar um roteiro detalhado.</font>\"))\n",
        "            # Ainda armazena os links e info básica\n",
        "            resultados_viagem.append({\n",
        "                \"cidade\": cidade,\n",
        "                \"pais\": pais,\n",
        "                \"data_chegada\": data_chegada,\n",
        "                \"data_partida\": data_partida,\n",
        "                \"hospedagem\": hospedagem,\n",
        "                \"pesquisa\": resultado_pesquisa,\n",
        "                \"roteiro\": None, # Indica que o roteiro não pôde ser gerado\n",
        "                \"roteiro_otimizado\": None # Indica que o roteiro otimizado não pôde ser gerado\n",
        "            })\n",
        "            continue # Pula para o próximo destino\n",
        "\n",
        "        # 3. Montar o roteiro inicial com o Agente Montador\n",
        "        resultado_roteiro_inicial = agente_roteirista.montar_roteiro(\n",
        "            cidade, pais, sugestoes_atracoes, hospedagem, data_chegada, data_partida\n",
        "        )\n",
        "\n",
        "        roteiro_final = None\n",
        "        if resultado_roteiro_inicial and resultado_roteiro_inicial.get(\"roteiro\"):\n",
        "            # 4. Otimizar o roteiro com o Agente Otimizador\n",
        "            resultado_roteiro_otimizado = agente_otimizador.otimizar_roteiro(\n",
        "                resultado_roteiro_inicial[\"roteiro\"], cidade, pais, hospedagem, data_chegada, data_partida\n",
        "            )\n",
        "            roteiro_final = resultado_roteiro_otimizado.get(\"roteiro_otimizado\")\n",
        "            if not roteiro_final:\n",
        "                 display(Markdown(f\"<font color='orange'>Aviso: Não foi possível otimizar o roteiro para {cidade}. Usando o roteiro inicial (se disponível).</font>\"))\n",
        "                 roteiro_final = resultado_roteiro_inicial.get(\"roteiro\") # Fallback para roteiro inicial\n",
        "\n",
        "\n",
        "        # Armazenar os resultados para este destino\n",
        "        resultados_viagem.append({\n",
        "            \"cidade\": cidade,\n",
        "            \"pais\": pais,\n",
        "            \"data_chegada\": data_chegada,\n",
        "            \"data_partida\": data_partida,\n",
        "            \"hospedagem\": hospedagem,\n",
        "            \"pesquisa\": resultado_pesquisa,\n",
        "            \"roteiro\": resultado_roteiro_inicial.get(\"roteiro\") if resultado_roteiro_inicial else None,\n",
        "            \"roteiro_otimizado\": roteiro_final\n",
        "        })\n",
        "\n",
        "    display(Markdown(\"\\n## ✅ Planejamento de Viagem Concluído!\"))\n",
        "    return resultados_viagem\n",
        "# ----------\n",
        "\n",
        "# ----------\n"
      ],
      "outputs": [
        {
          "output_type": "display_data",
          "data": {
            "text/plain": [
              "<IPython.core.display.Markdown object>"
            ],
            "text/markdown": "✅ *SDK do Gemini e modelo (`gemini-1.5-flash-latest`) configurados com sucesso.*"
          },
          "metadata": {}
        }
      ],
      "execution_count": 4
    },
    {
      "cell_type": "code",
      "metadata": {
        "colab": {
          "base_uri": "https://localhost:8080/",
          "height": 945
        },
        "id": "hack7IKUALmE",
        "outputId": "6953b514-5d7b-4118-e1b2-d8561a40c589"
      },
      "source": [
        "dados_finais_viagem = dados_compilados = executar_planejador_viagem(\"/content/europa.csv\")"
      ],
      "outputs": [
        {
          "output_type": "display_data",
          "data": {
            "text/plain": [
              "<IPython.core.display.Markdown object>"
            ],
            "text/markdown": "## ✈️ Iniciando Planejamento de Viagem..."
          },
          "metadata": {}
        },
        {
          "output_type": "display_data",
          "data": {
            "text/plain": [
              "<IPython.core.display.Markdown object>"
            ],
            "text/markdown": "### Arquivo de Viagem (`/content/europa.csv`)"
          },
          "metadata": {}
        },
        {
          "output_type": "display_data",
          "data": {
            "text/plain": [
              "     cidade     pais data_chegada data_partida                   hospedagem\n",
              "0      Roma   Itália   2025-09-13   2025-09-16  Via Candia n.143 CAP: 00192\n",
              "1  Florença   Itália   2025-09-16   2025-09-19                 Hotel Bodoni\n",
              "2     Viena  Aústria   2025-09-20   2025-09-24           Hotel-Pension Wild"
            ],
            "text/html": [
              "\n",
              "  <div id=\"df-46c26722-bd52-42d2-9812-5e08723f58d3\" class=\"colab-df-container\">\n",
              "    <div>\n",
              "<style scoped>\n",
              "    .dataframe tbody tr th:only-of-type {\n",
              "        vertical-align: middle;\n",
              "    }\n",
              "\n",
              "    .dataframe tbody tr th {\n",
              "        vertical-align: top;\n",
              "    }\n",
              "\n",
              "    .dataframe thead th {\n",
              "        text-align: right;\n",
              "    }\n",
              "</style>\n",
              "<table border=\"1\" class=\"dataframe\">\n",
              "  <thead>\n",
              "    <tr style=\"text-align: right;\">\n",
              "      <th></th>\n",
              "      <th>cidade</th>\n",
              "      <th>pais</th>\n",
              "      <th>data_chegada</th>\n",
              "      <th>data_partida</th>\n",
              "      <th>hospedagem</th>\n",
              "    </tr>\n",
              "  </thead>\n",
              "  <tbody>\n",
              "    <tr>\n",
              "      <th>0</th>\n",
              "      <td>Roma</td>\n",
              "      <td>Itália</td>\n",
              "      <td>2025-09-13</td>\n",
              "      <td>2025-09-16</td>\n",
              "      <td>Via Candia n.143 CAP: 00192</td>\n",
              "    </tr>\n",
              "    <tr>\n",
              "      <th>1</th>\n",
              "      <td>Florença</td>\n",
              "      <td>Itália</td>\n",
              "      <td>2025-09-16</td>\n",
              "      <td>2025-09-19</td>\n",
              "      <td>Hotel Bodoni</td>\n",
              "    </tr>\n",
              "    <tr>\n",
              "      <th>2</th>\n",
              "      <td>Viena</td>\n",
              "      <td>Aústria</td>\n",
              "      <td>2025-09-20</td>\n",
              "      <td>2025-09-24</td>\n",
              "      <td>Hotel-Pension Wild</td>\n",
              "    </tr>\n",
              "  </tbody>\n",
              "</table>\n",
              "</div>\n",
              "    <div class=\"colab-df-buttons\">\n",
              "\n",
              "  <div class=\"colab-df-container\">\n",
              "    <button class=\"colab-df-convert\" onclick=\"convertToInteractive('df-46c26722-bd52-42d2-9812-5e08723f58d3')\"\n",
              "            title=\"Convert this dataframe to an interactive table.\"\n",
              "            style=\"display:none;\">\n",
              "\n",
              "  <svg xmlns=\"http://www.w3.org/2000/svg\" height=\"24px\" viewBox=\"0 -960 960 960\">\n",
              "    <path d=\"M120-120v-720h720v720H120Zm60-500h600v-160H180v160Zm220 220h160v-160H400v160Zm0 220h160v-160H400v160ZM180-400h160v-160H180v160Zm440 0h160v-160H620v160ZM180-180h160v-160H180v160Zm440 0h160v-160H620v160Z\"/>\n",
              "  </svg>\n",
              "    </button>\n",
              "\n",
              "  <style>\n",
              "    .colab-df-container {\n",
              "      display:flex;\n",
              "      gap: 12px;\n",
              "    }\n",
              "\n",
              "    .colab-df-convert {\n",
              "      background-color: #E8F0FE;\n",
              "      border: none;\n",
              "      border-radius: 50%;\n",
              "      cursor: pointer;\n",
              "      display: none;\n",
              "      fill: #1967D2;\n",
              "      height: 32px;\n",
              "      padding: 0 0 0 0;\n",
              "      width: 32px;\n",
              "    }\n",
              "\n",
              "    .colab-df-convert:hover {\n",
              "      background-color: #E2EBFA;\n",
              "      box-shadow: 0px 1px 2px rgba(60, 64, 67, 0.3), 0px 1px 3px 1px rgba(60, 64, 67, 0.15);\n",
              "      fill: #174EA6;\n",
              "    }\n",
              "\n",
              "    .colab-df-buttons div {\n",
              "      margin-bottom: 4px;\n",
              "    }\n",
              "\n",
              "    [theme=dark] .colab-df-convert {\n",
              "      background-color: #3B4455;\n",
              "      fill: #D2E3FC;\n",
              "    }\n",
              "\n",
              "    [theme=dark] .colab-df-convert:hover {\n",
              "      background-color: #434B5C;\n",
              "      box-shadow: 0px 1px 3px 1px rgba(0, 0, 0, 0.15);\n",
              "      filter: drop-shadow(0px 1px 2px rgba(0, 0, 0, 0.3));\n",
              "      fill: #FFFFFF;\n",
              "    }\n",
              "  </style>\n",
              "\n",
              "    <script>\n",
              "      const buttonEl =\n",
              "        document.querySelector('#df-46c26722-bd52-42d2-9812-5e08723f58d3 button.colab-df-convert');\n",
              "      buttonEl.style.display =\n",
              "        google.colab.kernel.accessAllowed ? 'block' : 'none';\n",
              "\n",
              "      async function convertToInteractive(key) {\n",
              "        const element = document.querySelector('#df-46c26722-bd52-42d2-9812-5e08723f58d3');\n",
              "        const dataTable =\n",
              "          await google.colab.kernel.invokeFunction('convertToInteractive',\n",
              "                                                    [key], {});\n",
              "        if (!dataTable) return;\n",
              "\n",
              "        const docLinkHtml = 'Like what you see? Visit the ' +\n",
              "          '<a target=\"_blank\" href=https://colab.research.google.com/notebooks/data_table.ipynb>data table notebook</a>'\n",
              "          + ' to learn more about interactive tables.';\n",
              "        element.innerHTML = '';\n",
              "        dataTable['output_type'] = 'display_data';\n",
              "        await google.colab.output.renderOutput(dataTable, element);\n",
              "        const docLink = document.createElement('div');\n",
              "        docLink.innerHTML = docLinkHtml;\n",
              "        element.appendChild(docLink);\n",
              "      }\n",
              "    </script>\n",
              "  </div>\n",
              "\n",
              "\n",
              "    <div id=\"df-5c54a3c5-b03a-40cc-bb85-f3e3714592bd\">\n",
              "      <button class=\"colab-df-quickchart\" onclick=\"quickchart('df-5c54a3c5-b03a-40cc-bb85-f3e3714592bd')\"\n",
              "                title=\"Suggest charts\"\n",
              "                style=\"display:none;\">\n",
              "\n",
              "<svg xmlns=\"http://www.w3.org/2000/svg\" height=\"24px\"viewBox=\"0 0 24 24\"\n",
              "     width=\"24px\">\n",
              "    <g>\n",
              "        <path d=\"M19 3H5c-1.1 0-2 .9-2 2v14c0 1.1.9 2 2 2h14c1.1 0 2-.9 2-2V5c0-1.1-.9-2-2-2zM9 17H7v-7h2v7zm4 0h-2V7h2v10zm4 0h-2v-4h2v4z\"/>\n",
              "    </g>\n",
              "</svg>\n",
              "      </button>\n",
              "\n",
              "<style>\n",
              "  .colab-df-quickchart {\n",
              "      --bg-color: #E8F0FE;\n",
              "      --fill-color: #1967D2;\n",
              "      --hover-bg-color: #E2EBFA;\n",
              "      --hover-fill-color: #174EA6;\n",
              "      --disabled-fill-color: #AAA;\n",
              "      --disabled-bg-color: #DDD;\n",
              "  }\n",
              "\n",
              "  [theme=dark] .colab-df-quickchart {\n",
              "      --bg-color: #3B4455;\n",
              "      --fill-color: #D2E3FC;\n",
              "      --hover-bg-color: #434B5C;\n",
              "      --hover-fill-color: #FFFFFF;\n",
              "      --disabled-bg-color: #3B4455;\n",
              "      --disabled-fill-color: #666;\n",
              "  }\n",
              "\n",
              "  .colab-df-quickchart {\n",
              "    background-color: var(--bg-color);\n",
              "    border: none;\n",
              "    border-radius: 50%;\n",
              "    cursor: pointer;\n",
              "    display: none;\n",
              "    fill: var(--fill-color);\n",
              "    height: 32px;\n",
              "    padding: 0;\n",
              "    width: 32px;\n",
              "  }\n",
              "\n",
              "  .colab-df-quickchart:hover {\n",
              "    background-color: var(--hover-bg-color);\n",
              "    box-shadow: 0 1px 2px rgba(60, 64, 67, 0.3), 0 1px 3px 1px rgba(60, 64, 67, 0.15);\n",
              "    fill: var(--button-hover-fill-color);\n",
              "  }\n",
              "\n",
              "  .colab-df-quickchart-complete:disabled,\n",
              "  .colab-df-quickchart-complete:disabled:hover {\n",
              "    background-color: var(--disabled-bg-color);\n",
              "    fill: var(--disabled-fill-color);\n",
              "    box-shadow: none;\n",
              "  }\n",
              "\n",
              "  .colab-df-spinner {\n",
              "    border: 2px solid var(--fill-color);\n",
              "    border-color: transparent;\n",
              "    border-bottom-color: var(--fill-color);\n",
              "    animation:\n",
              "      spin 1s steps(1) infinite;\n",
              "  }\n",
              "\n",
              "  @keyframes spin {\n",
              "    0% {\n",
              "      border-color: transparent;\n",
              "      border-bottom-color: var(--fill-color);\n",
              "      border-left-color: var(--fill-color);\n",
              "    }\n",
              "    20% {\n",
              "      border-color: transparent;\n",
              "      border-left-color: var(--fill-color);\n",
              "      border-top-color: var(--fill-color);\n",
              "    }\n",
              "    30% {\n",
              "      border-color: transparent;\n",
              "      border-left-color: var(--fill-color);\n",
              "      border-top-color: var(--fill-color);\n",
              "      border-right-color: var(--fill-color);\n",
              "    }\n",
              "    40% {\n",
              "      border-color: transparent;\n",
              "      border-right-color: var(--fill-color);\n",
              "      border-top-color: var(--fill-color);\n",
              "    }\n",
              "    60% {\n",
              "      border-color: transparent;\n",
              "      border-right-color: var(--fill-color);\n",
              "    }\n",
              "    80% {\n",
              "      border-color: transparent;\n",
              "      border-right-color: var(--fill-color);\n",
              "      border-bottom-color: var(--fill-color);\n",
              "    }\n",
              "    90% {\n",
              "      border-color: transparent;\n",
              "      border-bottom-color: var(--fill-color);\n",
              "    }\n",
              "  }\n",
              "</style>\n",
              "\n",
              "      <script>\n",
              "        async function quickchart(key) {\n",
              "          const quickchartButtonEl =\n",
              "            document.querySelector('#' + key + ' button');\n",
              "          quickchartButtonEl.disabled = true;  // To prevent multiple clicks.\n",
              "          quickchartButtonEl.classList.add('colab-df-spinner');\n",
              "          try {\n",
              "            const charts = await google.colab.kernel.invokeFunction(\n",
              "                'suggestCharts', [key], {});\n",
              "          } catch (error) {\n",
              "            console.error('Error during call to suggestCharts:', error);\n",
              "          }\n",
              "          quickchartButtonEl.classList.remove('colab-df-spinner');\n",
              "          quickchartButtonEl.classList.add('colab-df-quickchart-complete');\n",
              "        }\n",
              "        (() => {\n",
              "          let quickchartButtonEl =\n",
              "            document.querySelector('#df-5c54a3c5-b03a-40cc-bb85-f3e3714592bd button');\n",
              "          quickchartButtonEl.style.display =\n",
              "            google.colab.kernel.accessAllowed ? 'block' : 'none';\n",
              "        })();\n",
              "      </script>\n",
              "    </div>\n",
              "\n",
              "    </div>\n",
              "  </div>\n"
            ],
            "application/vnd.google.colaboratory.intrinsic+json": {
              "type": "dataframe",
              "summary": "{\n  \"name\": \"dados_finais_viagem = dados_compilados = executar_planejador_viagem(\\\"/content/europa\",\n  \"rows\": 3,\n  \"fields\": [\n    {\n      \"column\": \"cidade\",\n      \"properties\": {\n        \"dtype\": \"string\",\n        \"num_unique_values\": 3,\n        \"samples\": [\n          \"Roma\",\n          \"Floren\\u00e7a\",\n          \"Viena\"\n        ],\n        \"semantic_type\": \"\",\n        \"description\": \"\"\n      }\n    },\n    {\n      \"column\": \"pais\",\n      \"properties\": {\n        \"dtype\": \"string\",\n        \"num_unique_values\": 2,\n        \"samples\": [\n          \"A\\u00fastria\",\n          \"It\\u00e1lia\"\n        ],\n        \"semantic_type\": \"\",\n        \"description\": \"\"\n      }\n    },\n    {\n      \"column\": \"data_chegada\",\n      \"properties\": {\n        \"dtype\": \"object\",\n        \"num_unique_values\": 3,\n        \"samples\": [\n          \"2025-09-13\",\n          \"2025-09-16\"\n        ],\n        \"semantic_type\": \"\",\n        \"description\": \"\"\n      }\n    },\n    {\n      \"column\": \"data_partida\",\n      \"properties\": {\n        \"dtype\": \"object\",\n        \"num_unique_values\": 3,\n        \"samples\": [\n          \"2025-09-16\",\n          \"2025-09-19\"\n        ],\n        \"semantic_type\": \"\",\n        \"description\": \"\"\n      }\n    },\n    {\n      \"column\": \"hospedagem\",\n      \"properties\": {\n        \"dtype\": \"string\",\n        \"num_unique_values\": 3,\n        \"samples\": [\n          \"Via Candia n.143 CAP: 00192\",\n          \"Hotel Bodoni\"\n        ],\n        \"semantic_type\": \"\",\n        \"description\": \"\"\n      }\n    }\n  ]\n}"
            }
          },
          "metadata": {}
        },
        {
          "output_type": "display_data",
          "data": {
            "text/plain": [
              "<IPython.core.display.Markdown object>"
            ],
            "text/markdown": "\n--- Processando Destino: **Roma, Itália** ---"
          },
          "metadata": {}
        },
        {
          "output_type": "display_data",
          "data": {
            "text/plain": [
              "<IPython.core.display.Markdown object>"
            ],
            "text/markdown": "\n### 🌍 Agente Iniciando Pesquisa para: **Roma, Itália**"
          },
          "metadata": {}
        },
        {
          "output_type": "display_data",
          "data": {
            "text/plain": [
              "<IPython.core.display.Markdown object>"
            ],
            "text/markdown": "🧠 *Agente consultando Gemini sobre atrações em: **Roma, Itália** (Top 7)...*"
          },
          "metadata": {}
        },
        {
          "output_type": "display_data",
          "data": {
            "text/plain": [
              "<IPython.core.display.Markdown object>"
            ],
            "text/markdown": "✅ *Gemini retornou 7 sugestões de atrações para Roma.*"
          },
          "metadata": {}
        },
        {
          "output_type": "display_data",
          "data": {
            "text/plain": [
              "<IPython.core.display.Markdown object>"
            ],
            "text/markdown": "--- Pesquisa para **Roma, Itália** finalizada pelo agente. ---"
          },
          "metadata": {}
        },
        {
          "output_type": "display_data",
          "data": {
            "text/plain": [
              "<IPython.core.display.Markdown object>"
            ],
            "text/markdown": "🧠 *Agente montando roteiro para: **Roma, Itália** (4 dias)...*"
          },
          "metadata": {}
        },
        {
          "output_type": "display_data",
          "data": {
            "text/plain": [
              "<IPython.core.display.Markdown object>"
            ],
            "text/markdown": "✅ *Gemini montou um roteiro com 4 dias para Roma.*"
          },
          "metadata": {}
        },
        {
          "output_type": "display_data",
          "data": {
            "text/plain": [
              "<IPython.core.display.Markdown object>"
            ],
            "text/markdown": "🧠 *Agente Otimizador revisando roteiro para: **Roma, Itália**...*"
          },
          "metadata": {}
        },
        {
          "output_type": "display_data",
          "data": {
            "text/plain": [
              "<IPython.core.display.Markdown object>"
            ],
            "text/markdown": "✅ *Gemini otimizou o roteiro com 4 dias para Roma.*"
          },
          "metadata": {}
        },
        {
          "output_type": "display_data",
          "data": {
            "text/plain": [
              "<IPython.core.display.Markdown object>"
            ],
            "text/markdown": "\n--- Processando Destino: **Florença, Itália** ---"
          },
          "metadata": {}
        },
        {
          "output_type": "display_data",
          "data": {
            "text/plain": [
              "<IPython.core.display.Markdown object>"
            ],
            "text/markdown": "\n### 🌍 Agente Iniciando Pesquisa para: **Florença, Itália**"
          },
          "metadata": {}
        },
        {
          "output_type": "display_data",
          "data": {
            "text/plain": [
              "<IPython.core.display.Markdown object>"
            ],
            "text/markdown": "🧠 *Agente consultando Gemini sobre atrações em: **Florença, Itália** (Top 7)...*"
          },
          "metadata": {}
        },
        {
          "output_type": "display_data",
          "data": {
            "text/plain": [
              "<IPython.core.display.Markdown object>"
            ],
            "text/markdown": "✅ *Gemini retornou 7 sugestões de atrações para Florença.*"
          },
          "metadata": {}
        },
        {
          "output_type": "display_data",
          "data": {
            "text/plain": [
              "<IPython.core.display.Markdown object>"
            ],
            "text/markdown": "--- Pesquisa para **Florença, Itália** finalizada pelo agente. ---"
          },
          "metadata": {}
        },
        {
          "output_type": "display_data",
          "data": {
            "text/plain": [
              "<IPython.core.display.Markdown object>"
            ],
            "text/markdown": "🧠 *Agente montando roteiro para: **Florença, Itália** (4 dias)...*"
          },
          "metadata": {}
        },
        {
          "output_type": "display_data",
          "data": {
            "text/plain": [
              "<IPython.core.display.Markdown object>"
            ],
            "text/markdown": "✅ *Gemini montou um roteiro com 4 dias para Florença.*"
          },
          "metadata": {}
        },
        {
          "output_type": "display_data",
          "data": {
            "text/plain": [
              "<IPython.core.display.Markdown object>"
            ],
            "text/markdown": "🧠 *Agente Otimizador revisando roteiro para: **Florença, Itália**...*"
          },
          "metadata": {}
        },
        {
          "output_type": "display_data",
          "data": {
            "text/plain": [
              "<IPython.core.display.Markdown object>"
            ],
            "text/markdown": "✅ *Gemini otimizou o roteiro com 4 dias para Florença.*"
          },
          "metadata": {}
        },
        {
          "output_type": "display_data",
          "data": {
            "text/plain": [
              "<IPython.core.display.Markdown object>"
            ],
            "text/markdown": "\n--- Processando Destino: **Viena, Aústria** ---"
          },
          "metadata": {}
        },
        {
          "output_type": "display_data",
          "data": {
            "text/plain": [
              "<IPython.core.display.Markdown object>"
            ],
            "text/markdown": "\n### 🌍 Agente Iniciando Pesquisa para: **Viena, Aústria**"
          },
          "metadata": {}
        },
        {
          "output_type": "display_data",
          "data": {
            "text/plain": [
              "<IPython.core.display.Markdown object>"
            ],
            "text/markdown": "🧠 *Agente consultando Gemini sobre atrações em: **Viena, Aústria** (Top 7)...*"
          },
          "metadata": {}
        },
        {
          "output_type": "display_data",
          "data": {
            "text/plain": [
              "<IPython.core.display.Markdown object>"
            ],
            "text/markdown": "✅ *Gemini retornou 7 sugestões de atrações para Viena.*"
          },
          "metadata": {}
        },
        {
          "output_type": "display_data",
          "data": {
            "text/plain": [
              "<IPython.core.display.Markdown object>"
            ],
            "text/markdown": "--- Pesquisa para **Viena, Aústria** finalizada pelo agente. ---"
          },
          "metadata": {}
        },
        {
          "output_type": "display_data",
          "data": {
            "text/plain": [
              "<IPython.core.display.Markdown object>"
            ],
            "text/markdown": "🧠 *Agente montando roteiro para: **Viena, Aústria** (5 dias)...*"
          },
          "metadata": {}
        },
        {
          "output_type": "display_data",
          "data": {
            "text/plain": [
              "<IPython.core.display.Markdown object>"
            ],
            "text/markdown": "✅ *Gemini montou um roteiro com 5 dias para Viena.*"
          },
          "metadata": {}
        },
        {
          "output_type": "display_data",
          "data": {
            "text/plain": [
              "<IPython.core.display.Markdown object>"
            ],
            "text/markdown": "🧠 *Agente Otimizador revisando roteiro para: **Viena, Aústria**...*"
          },
          "metadata": {}
        },
        {
          "output_type": "display_data",
          "data": {
            "text/plain": [
              "<IPython.core.display.Markdown object>"
            ],
            "text/markdown": "✅ *Gemini otimizou o roteiro com 5 dias para Viena.*"
          },
          "metadata": {}
        },
        {
          "output_type": "display_data",
          "data": {
            "text/plain": [
              "<IPython.core.display.Markdown object>"
            ],
            "text/markdown": "\n## ✅ Planejamento de Viagem Concluído!"
          },
          "metadata": {}
        }
      ],
      "execution_count": 5
    },
    {
      "cell_type": "code",
      "metadata": {
        "colab": {
          "base_uri": "https://localhost:8080/",
          "height": 315
        },
        "id": "OHneXoMLALmE",
        "outputId": "ffb0bf3d-21d9-4cfe-a4af-3efe41da5704"
      },
      "source": [
        "import jsonif 'dados_finais_viagem' in locals() and dados_finais_viagem:    # Salvar o planejamento completo da viagem em JSON    output_filename = \"planejamento_viagem_completo.json\"    with open(output_filename, \"w\", encoding=\"utf-8\") as f:        json.dump(dados_finais_viagem, f, ensure_ascii=False, indent=4)    display(Markdown(f\"✅ **Planejamento completo da viagem salvo em `{output_filename}`**\"))    # Mostrar o roteiro otimizado para cada cidade    for destino_info in dados_finais_viagem:        cidade = destino_info[\"cidade\"]        pais = destino_info[\"pais\"]        roteiro_otimizado = destino_info.get(\"roteiro_otimizado\")        sugestoes_restaurantes = destino_info.get(\"sugestoes_restaurantes\")        atracoes_detalhadas = destino_info.get(\"atracoes_detalhadas\")        display(Markdown(f\"### 🗺️ Roteiro Otimizado para: **{cidade}, {pais}**\"))        if roteiro_otimizado:            for dia_roteiro in roteiro_otimizado: # Renamed to avoid conflict with dia variable from pandas                display(Markdown(f\"#### Dia {dia_roteiro[\"dia\"]} ({dia_roteiro[\"data\"]}):\"))                display(Markdown(f\"**Atividades:**\"))                for atividade in dia_roteiro[\"atividades_sugeridas\"]:                    display(Markdown(f\"- {atividade}\"))                if dia_roteiro.get(\"observacoes\") and dia_roteiro[\"observacoes\"] != \"N/A\":                    display(Markdown(f\"*Observações:* {dia_roteiro[\"observacoes\"]}\"))                # Sugestões de Restaurantes para o dia                if sugestoes_restaurantes and str(dia_roteiro[\"dia\"]) in sugestoes_restaurantes:                    display(Markdown(f\"**Sugestões de Restaurantes para o Dia {dia_roteiro[\"dia\"]}:**\"))                    for categoria, restaurantes in sugestoes_restaurantes[str(dia_roteiro[\"dia\"])].items():                        display(Markdown(f\"* {categoria}:\"))                        for restaurante in restaurantes:                            display(Markdown(f\"    - {restaurante[\"nome\"]} ({restaurante[\"faixa_preco\"]}) - Avaliação: {restaurante[\"avaliacao_geral\"]} - Link: [Google Maps]({restaurante[\"link_google_maps\"]})\"))                # Detalhes de Atrações para o dia                if atracoes_detalhadas:                    display(Markdown(f\"**Detalhes de Atrações para o Dia {dia_roteiro[\"dia\"]}:**\"))                    for atracao in atracoes_detalhadas: # Assuming atracoes_detalhadas is a list of attractions for the city, not per day                        # This might need adjustment if atracoes_detalhadas is structured per day                        display(Markdown(f\"- **{atracao[\"nome\"]}** (Preço: {atracao.get(\"preco_ingresso_euros\")}€) - [Comprar Ingresso]({atracao.get(\"link_compra_ingresso\")})\"))                display(Markdown(\"---\n",
        "\"))        else:            display(Markdown(f\"<font color=\\\"orange\\\">Aviso: Roteiro otimizado não disponível para {cidade}.</font>\"))else:    display(Markdown(\"### ⚠️ Nenhum dado de viagem final disponível para exibição. Execute o planejador primeiro.\"))"
      ],
      "outputs": [
        {
          "output_type": "error",
          "ename": "SyntaxError",
          "evalue": "invalid syntax (ipython-input-6-2307881898.py, line 1)",
          "traceback": [
            "\u001b[0;36m  File \u001b[0;32m\"/tmp/ipython-input-6-2307881898.py\"\u001b[0;36m, line \u001b[0;32m1\u001b[0m\n\u001b[0;31m    import json if 'dados_finais_viagem' in locals() and dados_finais_viagem:    # Salvar o planejamento completo da viagem em JSON    output_filename = \"planejamento_viagem_completo.json\"    with open(output_filename, \"w\", encoding=\"utf-8\") as f:        json.dump(dados_finais_viagem, f, ensure_ascii=False, indent=4)    display(Markdown(f\"✅ **Planejamento completo da viagem salvo em `{output_filename}`**\"))    # Mostrar o roteiro otimizado para cada cidade    for destino_info in dados_finais_viagem:        cidade = destino_info[\"cidade\"]        pais = destino_info[\"pais\"]        roteiro_otimizado = destino_info.get(\"roteiro_otimizado\")        sugestoes_restaurantes = destino_info.get(\"sugestoes_restaurantes\")        atracoes_detalhadas = destino_info.get(\"atracoes_detalhadas\")        display(Markdown(f\"### 🗺️ Roteiro Otimizado para: **{cidade}, {pais}**\"))        if roteiro_otimizado:            for dia_roteiro in roteiro_otimizado: # Renamed to avoid conflict with dia variable from pandas                display(Markdown(f\"#### Dia {dia_roteiro[\"dia\"]} ({dia_roteiro[\"data\"]}):\"))                display(Markdown(f\"**Atividades:**\"))                for atividade in dia_roteiro[\"atividades_sugeridas\"]:                    display(Markdown(f\"- {atividade}\"))                if dia_roteiro.get(\"observacoes\") and dia_roteiro[\"observacoes\"] != \"N/A\":                    display(Markdown(f\"*Observações:* {dia_roteiro[\"observacoes\"]}\"))                # Sugestões de Restaurant...\n\u001b[0m                ^\u001b[0m\n\u001b[0;31mSyntaxError\u001b[0m\u001b[0;31m:\u001b[0m invalid syntax\n"
          ]
        }
      ],
      "execution_count": 6
    },
    {
      "cell_type": "code",
      "execution_count": 11,
      "metadata": {
        "id": "BtTC3gLfzG9R",
        "collapsed": true,
        "colab": {
          "base_uri": "https://localhost:8080/"
        },
        "outputId": "3f27041a-8aed-40e6-89f0-5c3de04262eb"
      },
      "outputs": [
        {
          "output_type": "stream",
          "name": "stdout",
          "text": [
            "Requirement already satisfied: pandas in /usr/local/lib/python3.11/dist-packages (2.2.2)\n",
            "Requirement already satisfied: google-api-python-client in /usr/local/lib/python3.11/dist-packages (2.172.0)\n",
            "Requirement already satisfied: google-generativeai in /usr/local/lib/python3.11/dist-packages (0.8.5)\n",
            "Requirement already satisfied: numpy>=1.23.2 in /usr/local/lib/python3.11/dist-packages (from pandas) (2.0.2)\n",
            "Requirement already satisfied: python-dateutil>=2.8.2 in /usr/local/lib/python3.11/dist-packages (from pandas) (2.9.0.post0)\n",
            "Requirement already satisfied: pytz>=2020.1 in /usr/local/lib/python3.11/dist-packages (from pandas) (2025.2)\n",
            "Requirement already satisfied: tzdata>=2022.7 in /usr/local/lib/python3.11/dist-packages (from pandas) (2025.2)\n",
            "Requirement already satisfied: httplib2<1.0.0,>=0.19.0 in /usr/local/lib/python3.11/dist-packages (from google-api-python-client) (0.22.0)\n",
            "Requirement already satisfied: google-auth!=2.24.0,!=2.25.0,<3.0.0,>=1.32.0 in /usr/local/lib/python3.11/dist-packages (from google-api-python-client) (2.38.0)\n",
            "Requirement already satisfied: google-auth-httplib2<1.0.0,>=0.2.0 in /usr/local/lib/python3.11/dist-packages (from google-api-python-client) (0.2.0)\n",
            "Requirement already satisfied: google-api-core!=2.0.*,!=2.1.*,!=2.2.*,!=2.3.0,<3.0.0,>=1.31.5 in /usr/local/lib/python3.11/dist-packages (from google-api-python-client) (2.25.1)\n",
            "Requirement already satisfied: uritemplate<5,>=3.0.1 in /usr/local/lib/python3.11/dist-packages (from google-api-python-client) (4.2.0)\n",
            "Requirement already satisfied: google-ai-generativelanguage==0.6.15 in /usr/local/lib/python3.11/dist-packages (from google-generativeai) (0.6.15)\n",
            "Requirement already satisfied: protobuf in /usr/local/lib/python3.11/dist-packages (from google-generativeai) (5.29.5)\n",
            "Requirement already satisfied: pydantic in /usr/local/lib/python3.11/dist-packages (from google-generativeai) (2.11.7)\n",
            "Requirement already satisfied: tqdm in /usr/local/lib/python3.11/dist-packages (from google-generativeai) (4.67.1)\n",
            "Requirement already satisfied: typing-extensions in /usr/local/lib/python3.11/dist-packages (from google-generativeai) (4.14.0)\n",
            "Requirement already satisfied: proto-plus<2.0.0dev,>=1.22.3 in /usr/local/lib/python3.11/dist-packages (from google-ai-generativelanguage==0.6.15->google-generativeai) (1.26.1)\n",
            "Requirement already satisfied: googleapis-common-protos<2.0.0,>=1.56.2 in /usr/local/lib/python3.11/dist-packages (from google-api-core!=2.0.*,!=2.1.*,!=2.2.*,!=2.3.0,<3.0.0,>=1.31.5->google-api-python-client) (1.70.0)\n",
            "Requirement already satisfied: requests<3.0.0,>=2.18.0 in /usr/local/lib/python3.11/dist-packages (from google-api-core!=2.0.*,!=2.1.*,!=2.2.*,!=2.3.0,<3.0.0,>=1.31.5->google-api-python-client) (2.32.3)\n",
            "Requirement already satisfied: cachetools<6.0,>=2.0.0 in /usr/local/lib/python3.11/dist-packages (from google-auth!=2.24.0,!=2.25.0,<3.0.0,>=1.32.0->google-api-python-client) (5.5.2)\n",
            "Requirement already satisfied: pyasn1-modules>=0.2.1 in /usr/local/lib/python3.11/dist-packages (from google-auth!=2.24.0,!=2.25.0,<3.0.0,>=1.32.0->google-api-python-client) (0.4.2)\n",
            "Requirement already satisfied: rsa<5,>=3.1.4 in /usr/local/lib/python3.11/dist-packages (from google-auth!=2.24.0,!=2.25.0,<3.0.0,>=1.32.0->google-api-python-client) (4.9.1)\n",
            "Requirement already satisfied: pyparsing!=3.0.0,!=3.0.1,!=3.0.2,!=3.0.3,<4,>=2.4.2 in /usr/local/lib/python3.11/dist-packages (from httplib2<1.0.0,>=0.19.0->google-api-python-client) (3.2.3)\n",
            "Requirement already satisfied: six>=1.5 in /usr/local/lib/python3.11/dist-packages (from python-dateutil>=2.8.2->pandas) (1.17.0)\n",
            "Requirement already satisfied: annotated-types>=0.6.0 in /usr/local/lib/python3.11/dist-packages (from pydantic->google-generativeai) (0.7.0)\n",
            "Requirement already satisfied: pydantic-core==2.33.2 in /usr/local/lib/python3.11/dist-packages (from pydantic->google-generativeai) (2.33.2)\n",
            "Requirement already satisfied: typing-inspection>=0.4.0 in /usr/local/lib/python3.11/dist-packages (from pydantic->google-generativeai) (0.4.1)\n",
            "Requirement already satisfied: grpcio<2.0.0,>=1.33.2 in /usr/local/lib/python3.11/dist-packages (from google-api-core[grpc]!=2.0.*,!=2.1.*,!=2.10.*,!=2.2.*,!=2.3.*,!=2.4.*,!=2.5.*,!=2.6.*,!=2.7.*,!=2.8.*,!=2.9.*,<3.0.0dev,>=1.34.1->google-ai-generativelanguage==0.6.15->google-generativeai) (1.73.0)\n",
            "Requirement already satisfied: grpcio-status<2.0.0,>=1.33.2 in /usr/local/lib/python3.11/dist-packages (from google-api-core[grpc]!=2.0.*,!=2.1.*,!=2.10.*,!=2.2.*,!=2.3.*,!=2.4.*,!=2.5.*,!=2.6.*,!=2.7.*,!=2.8.*,!=2.9.*,<3.0.0dev,>=1.34.1->google-ai-generativelanguage==0.6.15->google-generativeai) (1.71.0)\n",
            "Requirement already satisfied: pyasn1<0.7.0,>=0.6.1 in /usr/local/lib/python3.11/dist-packages (from pyasn1-modules>=0.2.1->google-auth!=2.24.0,!=2.25.0,<3.0.0,>=1.32.0->google-api-python-client) (0.6.1)\n",
            "Requirement already satisfied: charset-normalizer<4,>=2 in /usr/local/lib/python3.11/dist-packages (from requests<3.0.0,>=2.18.0->google-api-core!=2.0.*,!=2.1.*,!=2.2.*,!=2.3.0,<3.0.0,>=1.31.5->google-api-python-client) (3.4.2)\n",
            "Requirement already satisfied: idna<4,>=2.5 in /usr/local/lib/python3.11/dist-packages (from requests<3.0.0,>=2.18.0->google-api-core!=2.0.*,!=2.1.*,!=2.2.*,!=2.3.0,<3.0.0,>=1.31.5->google-api-python-client) (3.10)\n",
            "Requirement already satisfied: urllib3<3,>=1.21.1 in /usr/local/lib/python3.11/dist-packages (from requests<3.0.0,>=2.18.0->google-api-core!=2.0.*,!=2.1.*,!=2.2.*,!=2.3.0,<3.0.0,>=1.31.5->google-api-python-client) (2.4.0)\n",
            "Requirement already satisfied: certifi>=2017.4.17 in /usr/local/lib/python3.11/dist-packages (from requests<3.0.0,>=2.18.0->google-api-core!=2.0.*,!=2.1.*,!=2.2.*,!=2.3.0,<3.0.0,>=1.31.5->google-api-python-client) (2025.6.15)\n"
          ]
        }
      ],
      "source": [
        "!pip install pandas google-api-python-client google-generativeai\n"
      ]
    },
    {
      "cell_type": "code",
      "metadata": {
        "id": "9ecaed3b",
        "colab": {
          "base_uri": "https://localhost:8080/",
          "height": 1000
        },
        "outputId": "ce5ebf8f-5909-464a-ae25-bc3db628a388"
      },
      "source": [
        "if dados_finais_viagem and dados_finais_viagem[0].get(\"roteiro\"):\n",
        "    display(Markdown(\"### Roteiro Sugerido para a Primeira Cidade:\"))\n",
        "    for dia in dados_finais_viagem[0][\"roteiro\"]:\n",
        "         display(Markdown(f\"**Dia {dia['dia']} ({dia['data']}):**\"))\n",
        "         for atividade in dia['atividades_sugeridas']:\n",
        "             display(Markdown(f\"- {atividade}\"))\n",
        "         if dia.get(\"observacoes\") and dia[\"observacoes\"] != \"N/A\":\n",
        "             display(Markdown(f\"*Observações:* {dia['observacoes']}\"))\n",
        "         display(Markdown(\"---\"))\n",
        "\n",
        "if dados_finais_viagem and dados_finais_viagem[0].get(\"pesquisa\") and dados_finais_viagem[0][\"pesquisa\"].get(\"sugestoes_gemini\"):\n",
        "     display(Markdown(\"### Sugestões de Atrações do Gemini para a Primeira Cidade:\"))\n",
        "     for atracao in dados_finais_viagem[0][\"pesquisa\"][\"sugestoes_gemini\"]:\n",
        "          display(Markdown(f\"- **{atracao['nome']}** ({atracao['tipo_principal']}): {atracao['descricao_enxuta']} (Avaliação: {atracao.get('avaliacao_geral', 'N/A')})\"))"
      ],
      "execution_count": 7,
      "outputs": [
        {
          "output_type": "display_data",
          "data": {
            "text/plain": [
              "<IPython.core.display.Markdown object>"
            ],
            "text/markdown": "### Roteiro Sugerido para a Primeira Cidade:"
          },
          "metadata": {}
        },
        {
          "output_type": "display_data",
          "data": {
            "text/plain": [
              "<IPython.core.display.Markdown object>"
            ],
            "text/markdown": "**Dia 1 (2025-09-13):**"
          },
          "metadata": {}
        },
        {
          "output_type": "display_data",
          "data": {
            "text/plain": [
              "<IPython.core.display.Markdown object>"
            ],
            "text/markdown": "- Chegada e check-in na hospedagem (Via Candia n.143 CAP: 00192)"
          },
          "metadata": {}
        },
        {
          "output_type": "display_data",
          "data": {
            "text/plain": [
              "<IPython.core.display.Markdown object>"
            ],
            "text/markdown": "- Passeio exploratório pela vizinhança da hospedagem (1-2 horas)"
          },
          "metadata": {}
        },
        {
          "output_type": "display_data",
          "data": {
            "text/plain": [
              "<IPython.core.display.Markdown object>"
            ],
            "text/markdown": "- Almoço em um restaurante local no bairro Testaccio (conhecido por sua culinária tradicional)"
          },
          "metadata": {}
        },
        {
          "output_type": "display_data",
          "data": {
            "text/plain": [
              "<IPython.core.display.Markdown object>"
            ],
            "text/markdown": "- Visita ao Coliseu e Fórum Romano (3-4 horas - reservar ingressos antecipadamente)"
          },
          "metadata": {}
        },
        {
          "output_type": "display_data",
          "data": {
            "text/plain": [
              "<IPython.core.display.Markdown object>"
            ],
            "text/markdown": "- Passeio pelo bairro Monti (1-2 horas), conhecido por suas lojas e restaurantes charmosos"
          },
          "metadata": {}
        },
        {
          "output_type": "display_data",
          "data": {
            "text/plain": [
              "<IPython.core.display.Markdown object>"
            ],
            "text/markdown": "*Observações:* O transporte público é eficiente em Roma. Utilize o metrô ou ônibus para se locomover.  Para o jantar, explore os restaurantes próximos ao Coliseu ou no bairro Monti."
          },
          "metadata": {}
        },
        {
          "output_type": "display_data",
          "data": {
            "text/plain": [
              "<IPython.core.display.Markdown object>"
            ],
            "text/markdown": "---"
          },
          "metadata": {}
        },
        {
          "output_type": "display_data",
          "data": {
            "text/plain": [
              "<IPython.core.display.Markdown object>"
            ],
            "text/markdown": "**Dia 2 (2025-09-14):**"
          },
          "metadata": {}
        },
        {
          "output_type": "display_data",
          "data": {
            "text/plain": [
              "<IPython.core.display.Markdown object>"
            ],
            "text/markdown": "- Visita aos Museus Vaticanos e Capela Sistina (3-4 horas - reservar ingressos antecipadamente)"
          },
          "metadata": {}
        },
        {
          "output_type": "display_data",
          "data": {
            "text/plain": [
              "<IPython.core.display.Markdown object>"
            ],
            "text/markdown": "- Visita à Basílica de São Pedro (1-2 horas)"
          },
          "metadata": {}
        },
        {
          "output_type": "display_data",
          "data": {
            "text/plain": [
              "<IPython.core.display.Markdown object>"
            ],
            "text/markdown": "- Almoço próximo aos Museus Vaticanos (várias opções disponíveis)"
          },
          "metadata": {}
        },
        {
          "output_type": "display_data",
          "data": {
            "text/plain": [
              "<IPython.core.display.Markdown object>"
            ],
            "text/markdown": "- Visita à Piazza Navona (1 hora) e lançamento de uma moeda na Fontana di Trevi (30 minutos)"
          },
          "metadata": {}
        },
        {
          "output_type": "display_data",
          "data": {
            "text/plain": [
              "<IPython.core.display.Markdown object>"
            ],
            "text/markdown": "*Observações:* Os Museus Vaticanos são extensos. Priorize as áreas que mais lhe interessam.  Considere usar um aplicativo de transporte ou táxi para se locomover entre os Museus Vaticanos e a Piazza Navona, se preferir."
          },
          "metadata": {}
        },
        {
          "output_type": "display_data",
          "data": {
            "text/plain": [
              "<IPython.core.display.Markdown object>"
            ],
            "text/markdown": "---"
          },
          "metadata": {}
        },
        {
          "output_type": "display_data",
          "data": {
            "text/plain": [
              "<IPython.core.display.Markdown object>"
            ],
            "text/markdown": "**Dia 3 (2025-09-15):**"
          },
          "metadata": {}
        },
        {
          "output_type": "display_data",
          "data": {
            "text/plain": [
              "<IPython.core.display.Markdown object>"
            ],
            "text/markdown": "- Visita ao Panteão (1 hora)"
          },
          "metadata": {}
        },
        {
          "output_type": "display_data",
          "data": {
            "text/plain": [
              "<IPython.core.display.Markdown object>"
            ],
            "text/markdown": "- Passeio pela Piazza della Rotonda e suas redondezas (1 hora)"
          },
          "metadata": {}
        },
        {
          "output_type": "display_data",
          "data": {
            "text/plain": [
              "<IPython.core.display.Markdown object>"
            ],
            "text/markdown": "- Almoço em um restaurante próximo ao Panteão (várias opções)"
          },
          "metadata": {}
        },
        {
          "output_type": "display_data",
          "data": {
            "text/plain": [
              "<IPython.core.display.Markdown object>"
            ],
            "text/markdown": "- Passeio pela Cidade e Mirantes, incluindo a visita ao Janículo para vistas panorâmicas (2-3 horas)"
          },
          "metadata": {}
        },
        {
          "output_type": "display_data",
          "data": {
            "text/plain": [
              "<IPython.core.display.Markdown object>"
            ],
            "text/markdown": "- Jantar em Trastevere, um bairro charmoso com muitos restaurantes"
          },
          "metadata": {}
        },
        {
          "output_type": "display_data",
          "data": {
            "text/plain": [
              "<IPython.core.display.Markdown object>"
            ],
            "text/markdown": "*Observações:* O transporte público é uma boa opção para chegar ao Janículo.  Trastevere oferece uma ampla variedade de restaurantes, desde opções tradicionais italianas até restaurantes mais modernos."
          },
          "metadata": {}
        },
        {
          "output_type": "display_data",
          "data": {
            "text/plain": [
              "<IPython.core.display.Markdown object>"
            ],
            "text/markdown": "---"
          },
          "metadata": {}
        },
        {
          "output_type": "display_data",
          "data": {
            "text/plain": [
              "<IPython.core.display.Markdown object>"
            ],
            "text/markdown": "**Dia 4 (2025-09-16):**"
          },
          "metadata": {}
        },
        {
          "output_type": "display_data",
          "data": {
            "text/plain": [
              "<IPython.core.display.Markdown object>"
            ],
            "text/markdown": "- Visita a algum local que tenha sido deixado de lado nos dias anteriores ou revisitar um local favorito (tempo variável)"
          },
          "metadata": {}
        },
        {
          "output_type": "display_data",
          "data": {
            "text/plain": [
              "<IPython.core.display.Markdown object>"
            ],
            "text/markdown": "- Compras de lembranças (tempo variável)"
          },
          "metadata": {}
        },
        {
          "output_type": "display_data",
          "data": {
            "text/plain": [
              "<IPython.core.display.Markdown object>"
            ],
            "text/markdown": "- Almoço em um restaurante local"
          },
          "metadata": {}
        },
        {
          "output_type": "display_data",
          "data": {
            "text/plain": [
              "<IPython.core.display.Markdown object>"
            ],
            "text/markdown": "- Check-out da hospedagem (Via Candia n.143 CAP: 00192)"
          },
          "metadata": {}
        },
        {
          "output_type": "display_data",
          "data": {
            "text/plain": [
              "<IPython.core.display.Markdown object>"
            ],
            "text/markdown": "*Observações:* Este dia é flexível.  Aproveite para fazer compras de lembranças ou simplesmente relaxar e aproveitar os últimos momentos em Roma antes de partir."
          },
          "metadata": {}
        },
        {
          "output_type": "display_data",
          "data": {
            "text/plain": [
              "<IPython.core.display.Markdown object>"
            ],
            "text/markdown": "---"
          },
          "metadata": {}
        },
        {
          "output_type": "display_data",
          "data": {
            "text/plain": [
              "<IPython.core.display.Markdown object>"
            ],
            "text/markdown": "### Sugestões de Atrações do Gemini para a Primeira Cidade:"
          },
          "metadata": {}
        },
        {
          "output_type": "display_data",
          "data": {
            "text/plain": [
              "<IPython.core.display.Markdown object>"
            ],
            "text/markdown": "- **Coliseu e Fórum Romano** (Monumento Nacional e Ruínas Arqueológicas): Símbolo icônico de Roma, o Coliseu é um anfiteatro antigo, enquanto o Fórum Romano revela os restos da antiga cidade romana. (Avaliação: Excelente)"
          },
          "metadata": {}
        },
        {
          "output_type": "display_data",
          "data": {
            "text/plain": [
              "<IPython.core.display.Markdown object>"
            ],
            "text/markdown": "- **Museus Vaticanos e Capela Sistina** (Museu de Arte e Religião): Lar de uma vasta coleção de arte e esculturas, incluindo a Capela Sistina com os afrescos de Michelangelo. (Avaliação: Excelente)"
          },
          "metadata": {}
        },
        {
          "output_type": "display_data",
          "data": {
            "text/plain": [
              "<IPython.core.display.Markdown object>"
            ],
            "text/markdown": "- **Basílica de São Pedro** (Catedral Católica): Uma das maiores e mais importantes igrejas católicas do mundo, com arquitetura impressionante e uma atmosfera espiritual. (Avaliação: Excelente)"
          },
          "metadata": {}
        },
        {
          "output_type": "display_data",
          "data": {
            "text/plain": [
              "<IPython.core.display.Markdown object>"
            ],
            "text/markdown": "- **Fontana di Trevi** (Fonte Barroca): Uma das fontes mais famosas do mundo, com sua arquitetura exuberante e lendas envolventes. (Avaliação: Muito Popular)"
          },
          "metadata": {}
        },
        {
          "output_type": "display_data",
          "data": {
            "text/plain": [
              "<IPython.core.display.Markdown object>"
            ],
            "text/markdown": "- **Piazza Navona** (Praça Barroca): Uma praça vibrante e animada, com fontes barrocas, artistas de rua e uma atmosfera animada. (Avaliação: Muito Popular)"
          },
          "metadata": {}
        },
        {
          "output_type": "display_data",
          "data": {
            "text/plain": [
              "<IPython.core.display.Markdown object>"
            ],
            "text/markdown": "- **Panteão** (Templo Romano): Um templo romano antigo excepcionalmente bem preservado, conhecido por sua cúpula impressionante e arquitetura inovadora. (Avaliação: Excelente)"
          },
          "metadata": {}
        },
        {
          "output_type": "display_data",
          "data": {
            "text/plain": [
              "<IPython.core.display.Markdown object>"
            ],
            "text/markdown": "- **Passeio pela Cidade e Mirantes** (Mirante Panorâmico e Experiência Urbana): Explorar as ruas charmosas de Roma, descobrindo suas vielas escondidas e desfrutando de vistas panorâmicas de locais como a Janículo. (Avaliação: N/A)"
          },
          "metadata": {}
        }
      ]
    },
    {
      "cell_type": "code",
      "metadata": {
        "id": "d32c9670",
        "collapsed": true,
        "colab": {
          "base_uri": "https://localhost:8080/",
          "height": 1000
        },
        "outputId": "1657603b-03ab-4877-8e95-2659118b0cfd"
      },
      "source": [
        "if dados_finais_viagem and dados_finais_viagem[0].get(\"roteiro\"):\n",
        "    display(Markdown(\"### Roteiro Sugerido para a Primeira Cidade:\"))\n",
        "    for dia in dados_finais_viagem[0][\"roteiro\"]:\n",
        "         display(Markdown(f\"**Dia {dia['dia']} ({dia['data']}):**\"))\n",
        "         for atividade in dia['atividades_sugeridas']:\n",
        "             display(Markdown(f\"- {atividade}\"))\n",
        "         if dia.get(\"observacoes\") and dia[\"observacoes\"] != \"N/A\":\n",
        "             display(Markdown(f\"*Observações:* {dia['observacoes']}\"))\n",
        "         display(Markdown(\"---\"))\n",
        "\n",
        "if dados_finais_viagem and dados_finais_viagem[0].get(\"pesquisa\") and dados_finais_viagem[0][\"pesquisa\"].get(\"sugestoes_gemini\"):\n",
        "     display(Markdown(\"### Sugestões de Atrações do Gemini para a Primeira Cidade:\"))\n",
        "     for atracao in dados_finais_viagem[0][\"pesquisa\"][\"sugestoes_gemini\"]:\n",
        "          display(Markdown(f\"- **{atracao['nome']}** ({atracao['tipo_principal']}): {atracao['descricao_enxuta']} (Avaliação: {atracao.get('avaliacao_geral', 'N/A')})\"))"
      ],
      "execution_count": 8,
      "outputs": [
        {
          "output_type": "display_data",
          "data": {
            "text/plain": [
              "<IPython.core.display.Markdown object>"
            ],
            "text/markdown": "### Roteiro Sugerido para a Primeira Cidade:"
          },
          "metadata": {}
        },
        {
          "output_type": "display_data",
          "data": {
            "text/plain": [
              "<IPython.core.display.Markdown object>"
            ],
            "text/markdown": "**Dia 1 (2025-09-13):**"
          },
          "metadata": {}
        },
        {
          "output_type": "display_data",
          "data": {
            "text/plain": [
              "<IPython.core.display.Markdown object>"
            ],
            "text/markdown": "- Chegada e check-in na hospedagem (Via Candia n.143 CAP: 00192)"
          },
          "metadata": {}
        },
        {
          "output_type": "display_data",
          "data": {
            "text/plain": [
              "<IPython.core.display.Markdown object>"
            ],
            "text/markdown": "- Passeio exploratório pela vizinhança da hospedagem (1-2 horas)"
          },
          "metadata": {}
        },
        {
          "output_type": "display_data",
          "data": {
            "text/plain": [
              "<IPython.core.display.Markdown object>"
            ],
            "text/markdown": "- Almoço em um restaurante local no bairro Testaccio (conhecido por sua culinária tradicional)"
          },
          "metadata": {}
        },
        {
          "output_type": "display_data",
          "data": {
            "text/plain": [
              "<IPython.core.display.Markdown object>"
            ],
            "text/markdown": "- Visita ao Coliseu e Fórum Romano (3-4 horas - reservar ingressos antecipadamente)"
          },
          "metadata": {}
        },
        {
          "output_type": "display_data",
          "data": {
            "text/plain": [
              "<IPython.core.display.Markdown object>"
            ],
            "text/markdown": "- Passeio pelo bairro Monti (1-2 horas), conhecido por suas lojas e restaurantes charmosos"
          },
          "metadata": {}
        },
        {
          "output_type": "display_data",
          "data": {
            "text/plain": [
              "<IPython.core.display.Markdown object>"
            ],
            "text/markdown": "*Observações:* O transporte público é eficiente em Roma. Utilize o metrô ou ônibus para se locomover.  Para o jantar, explore os restaurantes próximos ao Coliseu ou no bairro Monti."
          },
          "metadata": {}
        },
        {
          "output_type": "display_data",
          "data": {
            "text/plain": [
              "<IPython.core.display.Markdown object>"
            ],
            "text/markdown": "---"
          },
          "metadata": {}
        },
        {
          "output_type": "display_data",
          "data": {
            "text/plain": [
              "<IPython.core.display.Markdown object>"
            ],
            "text/markdown": "**Dia 2 (2025-09-14):**"
          },
          "metadata": {}
        },
        {
          "output_type": "display_data",
          "data": {
            "text/plain": [
              "<IPython.core.display.Markdown object>"
            ],
            "text/markdown": "- Visita aos Museus Vaticanos e Capela Sistina (3-4 horas - reservar ingressos antecipadamente)"
          },
          "metadata": {}
        },
        {
          "output_type": "display_data",
          "data": {
            "text/plain": [
              "<IPython.core.display.Markdown object>"
            ],
            "text/markdown": "- Visita à Basílica de São Pedro (1-2 horas)"
          },
          "metadata": {}
        },
        {
          "output_type": "display_data",
          "data": {
            "text/plain": [
              "<IPython.core.display.Markdown object>"
            ],
            "text/markdown": "- Almoço próximo aos Museus Vaticanos (várias opções disponíveis)"
          },
          "metadata": {}
        },
        {
          "output_type": "display_data",
          "data": {
            "text/plain": [
              "<IPython.core.display.Markdown object>"
            ],
            "text/markdown": "- Visita à Piazza Navona (1 hora) e lançamento de uma moeda na Fontana di Trevi (30 minutos)"
          },
          "metadata": {}
        },
        {
          "output_type": "display_data",
          "data": {
            "text/plain": [
              "<IPython.core.display.Markdown object>"
            ],
            "text/markdown": "*Observações:* Os Museus Vaticanos são extensos. Priorize as áreas que mais lhe interessam.  Considere usar um aplicativo de transporte ou táxi para se locomover entre os Museus Vaticanos e a Piazza Navona, se preferir."
          },
          "metadata": {}
        },
        {
          "output_type": "display_data",
          "data": {
            "text/plain": [
              "<IPython.core.display.Markdown object>"
            ],
            "text/markdown": "---"
          },
          "metadata": {}
        },
        {
          "output_type": "display_data",
          "data": {
            "text/plain": [
              "<IPython.core.display.Markdown object>"
            ],
            "text/markdown": "**Dia 3 (2025-09-15):**"
          },
          "metadata": {}
        },
        {
          "output_type": "display_data",
          "data": {
            "text/plain": [
              "<IPython.core.display.Markdown object>"
            ],
            "text/markdown": "- Visita ao Panteão (1 hora)"
          },
          "metadata": {}
        },
        {
          "output_type": "display_data",
          "data": {
            "text/plain": [
              "<IPython.core.display.Markdown object>"
            ],
            "text/markdown": "- Passeio pela Piazza della Rotonda e suas redondezas (1 hora)"
          },
          "metadata": {}
        },
        {
          "output_type": "display_data",
          "data": {
            "text/plain": [
              "<IPython.core.display.Markdown object>"
            ],
            "text/markdown": "- Almoço em um restaurante próximo ao Panteão (várias opções)"
          },
          "metadata": {}
        },
        {
          "output_type": "display_data",
          "data": {
            "text/plain": [
              "<IPython.core.display.Markdown object>"
            ],
            "text/markdown": "- Passeio pela Cidade e Mirantes, incluindo a visita ao Janículo para vistas panorâmicas (2-3 horas)"
          },
          "metadata": {}
        },
        {
          "output_type": "display_data",
          "data": {
            "text/plain": [
              "<IPython.core.display.Markdown object>"
            ],
            "text/markdown": "- Jantar em Trastevere, um bairro charmoso com muitos restaurantes"
          },
          "metadata": {}
        },
        {
          "output_type": "display_data",
          "data": {
            "text/plain": [
              "<IPython.core.display.Markdown object>"
            ],
            "text/markdown": "*Observações:* O transporte público é uma boa opção para chegar ao Janículo.  Trastevere oferece uma ampla variedade de restaurantes, desde opções tradicionais italianas até restaurantes mais modernos."
          },
          "metadata": {}
        },
        {
          "output_type": "display_data",
          "data": {
            "text/plain": [
              "<IPython.core.display.Markdown object>"
            ],
            "text/markdown": "---"
          },
          "metadata": {}
        },
        {
          "output_type": "display_data",
          "data": {
            "text/plain": [
              "<IPython.core.display.Markdown object>"
            ],
            "text/markdown": "**Dia 4 (2025-09-16):**"
          },
          "metadata": {}
        },
        {
          "output_type": "display_data",
          "data": {
            "text/plain": [
              "<IPython.core.display.Markdown object>"
            ],
            "text/markdown": "- Visita a algum local que tenha sido deixado de lado nos dias anteriores ou revisitar um local favorito (tempo variável)"
          },
          "metadata": {}
        },
        {
          "output_type": "display_data",
          "data": {
            "text/plain": [
              "<IPython.core.display.Markdown object>"
            ],
            "text/markdown": "- Compras de lembranças (tempo variável)"
          },
          "metadata": {}
        },
        {
          "output_type": "display_data",
          "data": {
            "text/plain": [
              "<IPython.core.display.Markdown object>"
            ],
            "text/markdown": "- Almoço em um restaurante local"
          },
          "metadata": {}
        },
        {
          "output_type": "display_data",
          "data": {
            "text/plain": [
              "<IPython.core.display.Markdown object>"
            ],
            "text/markdown": "- Check-out da hospedagem (Via Candia n.143 CAP: 00192)"
          },
          "metadata": {}
        },
        {
          "output_type": "display_data",
          "data": {
            "text/plain": [
              "<IPython.core.display.Markdown object>"
            ],
            "text/markdown": "*Observações:* Este dia é flexível.  Aproveite para fazer compras de lembranças ou simplesmente relaxar e aproveitar os últimos momentos em Roma antes de partir."
          },
          "metadata": {}
        },
        {
          "output_type": "display_data",
          "data": {
            "text/plain": [
              "<IPython.core.display.Markdown object>"
            ],
            "text/markdown": "---"
          },
          "metadata": {}
        },
        {
          "output_type": "display_data",
          "data": {
            "text/plain": [
              "<IPython.core.display.Markdown object>"
            ],
            "text/markdown": "### Sugestões de Atrações do Gemini para a Primeira Cidade:"
          },
          "metadata": {}
        },
        {
          "output_type": "display_data",
          "data": {
            "text/plain": [
              "<IPython.core.display.Markdown object>"
            ],
            "text/markdown": "- **Coliseu e Fórum Romano** (Monumento Nacional e Ruínas Arqueológicas): Símbolo icônico de Roma, o Coliseu é um anfiteatro antigo, enquanto o Fórum Romano revela os restos da antiga cidade romana. (Avaliação: Excelente)"
          },
          "metadata": {}
        },
        {
          "output_type": "display_data",
          "data": {
            "text/plain": [
              "<IPython.core.display.Markdown object>"
            ],
            "text/markdown": "- **Museus Vaticanos e Capela Sistina** (Museu de Arte e Religião): Lar de uma vasta coleção de arte e esculturas, incluindo a Capela Sistina com os afrescos de Michelangelo. (Avaliação: Excelente)"
          },
          "metadata": {}
        },
        {
          "output_type": "display_data",
          "data": {
            "text/plain": [
              "<IPython.core.display.Markdown object>"
            ],
            "text/markdown": "- **Basílica de São Pedro** (Catedral Católica): Uma das maiores e mais importantes igrejas católicas do mundo, com arquitetura impressionante e uma atmosfera espiritual. (Avaliação: Excelente)"
          },
          "metadata": {}
        },
        {
          "output_type": "display_data",
          "data": {
            "text/plain": [
              "<IPython.core.display.Markdown object>"
            ],
            "text/markdown": "- **Fontana di Trevi** (Fonte Barroca): Uma das fontes mais famosas do mundo, com sua arquitetura exuberante e lendas envolventes. (Avaliação: Muito Popular)"
          },
          "metadata": {}
        },
        {
          "output_type": "display_data",
          "data": {
            "text/plain": [
              "<IPython.core.display.Markdown object>"
            ],
            "text/markdown": "- **Piazza Navona** (Praça Barroca): Uma praça vibrante e animada, com fontes barrocas, artistas de rua e uma atmosfera animada. (Avaliação: Muito Popular)"
          },
          "metadata": {}
        },
        {
          "output_type": "display_data",
          "data": {
            "text/plain": [
              "<IPython.core.display.Markdown object>"
            ],
            "text/markdown": "- **Panteão** (Templo Romano): Um templo romano antigo excepcionalmente bem preservado, conhecido por sua cúpula impressionante e arquitetura inovadora. (Avaliação: Excelente)"
          },
          "metadata": {}
        },
        {
          "output_type": "display_data",
          "data": {
            "text/plain": [
              "<IPython.core.display.Markdown object>"
            ],
            "text/markdown": "- **Passeio pela Cidade e Mirantes** (Mirante Panorâmico e Experiência Urbana): Explorar as ruas charmosas de Roma, descobrindo suas vielas escondidas e desfrutando de vistas panorâmicas de locais como a Janículo. (Avaliação: N/A)"
          },
          "metadata": {}
        }
      ]
    },
    {
      "cell_type": "code",
      "source": [
        "print(dados_finais_viagem)"
      ],
      "metadata": {
        "id": "o593Yhea9zBo",
        "colab": {
          "base_uri": "https://localhost:8080/"
        },
        "outputId": "fc2e7a60-c0ee-4c6b-8704-17b54d70fb37"
      },
      "execution_count": 9,
      "outputs": [
        {
          "output_type": "stream",
          "name": "stdout",
          "text": [
            "[{'cidade': 'Roma', 'pais': 'Itália', 'data_chegada': '2025-09-13', 'data_partida': '2025-09-16', 'hospedagem': 'Via Candia n.143 CAP: 00192', 'pesquisa': {'cidade': 'Roma', 'pais': 'Itália', 'link_google_search': 'https://www.google.com/search?q=principais+atra%C3%A7%C3%B5es+tur%C3%ADsticas+em+Roma+It%C3%A1lia', 'link_google_maps_atracoes': 'https://www.google.com/maps/search/atra%C3%A7%C3%B5es+tur%C3%ADsticas+em+Roma%2C+It%C3%A1lia', 'link_google_maps_cidade': 'https://www.google.com/maps/place/Roma%2C+It%C3%A1lia', 'sugestoes_gemini': [{'nome': 'Coliseu e Fórum Romano', 'tipo_principal': 'Monumento Nacional e Ruínas Arqueológicas', 'descricao_enxuta': 'Símbolo icônico de Roma, o Coliseu é um anfiteatro antigo, enquanto o Fórum Romano revela os restos da antiga cidade romana.', 'avaliacao_geral': 'Excelente', 'destaque_principal': 'Experiência histórica imersiva'}, {'nome': 'Museus Vaticanos e Capela Sistina', 'tipo_principal': 'Museu de Arte e Religião', 'descricao_enxuta': 'Lar de uma vasta coleção de arte e esculturas, incluindo a Capela Sistina com os afrescos de Michelangelo.', 'avaliacao_geral': 'Excelente', 'destaque_principal': 'Tesouros artísticos e religiosos inigualáveis'}, {'nome': 'Basílica de São Pedro', 'tipo_principal': 'Catedral Católica', 'descricao_enxuta': 'Uma das maiores e mais importantes igrejas católicas do mundo, com arquitetura impressionante e uma atmosfera espiritual.', 'avaliacao_geral': 'Excelente', 'destaque_principal': 'Arquitetura e espiritualidade grandiosas'}, {'nome': 'Fontana di Trevi', 'tipo_principal': 'Fonte Barroca', 'descricao_enxuta': 'Uma das fontes mais famosas do mundo, com sua arquitetura exuberante e lendas envolventes.', 'avaliacao_geral': 'Muito Popular', 'destaque_principal': 'Beleza e atmosfera romântica'}, {'nome': 'Piazza Navona', 'tipo_principal': 'Praça Barroca', 'descricao_enxuta': 'Uma praça vibrante e animada, com fontes barrocas, artistas de rua e uma atmosfera animada.', 'avaliacao_geral': 'Muito Popular', 'destaque_principal': 'Atmosfera vibrante e beleza arquitetônica'}, {'nome': 'Panteão', 'tipo_principal': 'Templo Romano', 'descricao_enxuta': 'Um templo romano antigo excepcionalmente bem preservado, conhecido por sua cúpula impressionante e arquitetura inovadora.', 'avaliacao_geral': 'Excelente', 'destaque_principal': 'Arquitetura e engenharia romanas impressionantes'}, {'nome': 'Passeio pela Cidade e Mirantes', 'tipo_principal': 'Mirante Panorâmico e Experiência Urbana', 'descricao_enxuta': 'Explorar as ruas charmosas de Roma, descobrindo suas vielas escondidas e desfrutando de vistas panorâmicas de locais como a Janículo.', 'avaliacao_geral': 'N/A', 'destaque_principal': 'Descobrir a beleza e a atmosfera únicas de Roma'}]}, 'roteiro': [{'dia': 1, 'data': '2025-09-13', 'atividades_sugeridas': ['Chegada e check-in na hospedagem (Via Candia n.143 CAP: 00192)', 'Passeio exploratório pela vizinhança da hospedagem (1-2 horas)', 'Almoço em um restaurante local no bairro Testaccio (conhecido por sua culinária tradicional)', 'Visita ao Coliseu e Fórum Romano (3-4 horas - reservar ingressos antecipadamente)', 'Passeio pelo bairro Monti (1-2 horas), conhecido por suas lojas e restaurantes charmosos'], 'observacoes': 'O transporte público é eficiente em Roma. Utilize o metrô ou ônibus para se locomover.  Para o jantar, explore os restaurantes próximos ao Coliseu ou no bairro Monti.'}, {'dia': 2, 'data': '2025-09-14', 'atividades_sugeridas': ['Visita aos Museus Vaticanos e Capela Sistina (3-4 horas - reservar ingressos antecipadamente)', 'Visita à Basílica de São Pedro (1-2 horas)', 'Almoço próximo aos Museus Vaticanos (várias opções disponíveis)', 'Visita à Piazza Navona (1 hora) e lançamento de uma moeda na Fontana di Trevi (30 minutos)'], 'observacoes': 'Os Museus Vaticanos são extensos. Priorize as áreas que mais lhe interessam.  Considere usar um aplicativo de transporte ou táxi para se locomover entre os Museus Vaticanos e a Piazza Navona, se preferir.'}, {'dia': 3, 'data': '2025-09-15', 'atividades_sugeridas': ['Visita ao Panteão (1 hora)', 'Passeio pela Piazza della Rotonda e suas redondezas (1 hora)', 'Almoço em um restaurante próximo ao Panteão (várias opções)', 'Passeio pela Cidade e Mirantes, incluindo a visita ao Janículo para vistas panorâmicas (2-3 horas)', 'Jantar em Trastevere, um bairro charmoso com muitos restaurantes'], 'observacoes': 'O transporte público é uma boa opção para chegar ao Janículo.  Trastevere oferece uma ampla variedade de restaurantes, desde opções tradicionais italianas até restaurantes mais modernos.'}, {'dia': 4, 'data': '2025-09-16', 'atividades_sugeridas': ['Visita a algum local que tenha sido deixado de lado nos dias anteriores ou revisitar um local favorito (tempo variável)', 'Compras de lembranças (tempo variável)', 'Almoço em um restaurante local', 'Check-out da hospedagem (Via Candia n.143 CAP: 00192)'], 'observacoes': 'Este dia é flexível.  Aproveite para fazer compras de lembranças ou simplesmente relaxar e aproveitar os últimos momentos em Roma antes de partir.'}], 'roteiro_otimizado': [{'dia': 1, 'data': '2025-09-13', 'atividades_sugeridas': ['Chegada em Roma e traslado para a hospedagem (Via Candia n.143 CAP: 00192) - transporte público ou táxi (aprox. 30-60 min)', 'Check-in e breve descanso (1 hora)', 'Almoço em um restaurante local no bairro Testaccio (1 hora)', 'Visita ao Coliseu e Fórum Romano (3-4 horas - ingressos pré-reservados).  Caminhada entre Testaccio e o Coliseu (aprox. 30 min)', 'Passeio pelo bairro Monti (1-2 horas). Caminhada do Coliseu para Monti (aprox. 20 min)', 'Jantar em um restaurante tradicional no bairro Monti (1,5 horas)'], 'observacoes': 'Reserve os ingressos do Coliseu com antecedência.  O transporte público é eficiente, mas a caminhada entre os pontos é agradável.'}, {'dia': 2, 'data': '2025-09-14', 'atividades_sugeridas': ['Visita aos Museus Vaticanos e Capela Sistina (3-4 horas - ingressos pré-reservados)', 'Visita à Basílica de São Pedro (1-2 horas). Caminhada entre os Museus Vaticanos e São Pedro (aprox. 10 min)', 'Almoço próximo aos Museus Vaticanos (1 hora)', 'Visita à Piazza Navona (1 hora) e lançamento de uma moeda na Fontana di Trevi (30 minutos). Metrô ou ônibus de Museus Vaticanos para Piazza Navona (aprox. 20-30 min)'], 'observacoes': 'Os Museus Vaticanos são extensos. Priorize as áreas de seu interesse. Considere um tour guiado para otimizar o tempo.  O transporte público é eficiente.'}, {'dia': 3, 'data': '2025-09-15', 'atividades_sugeridas': ['Visita ao Panteão (1 hora)', 'Passeio pela Piazza della Rotonda e suas redondezas (1 hora)', 'Almoço em um restaurante próximo ao Panteão (1 hora)', 'Passeio pela cidade e visita ao Janículo para vistas panorâmicas (2-3 horas incluindo o tempo de transporte). Transporte público até o Janículo (aprox. 30 min)', 'Jantar em Trastevere (1,5 horas). Transporte público ou táxi do Janículo para Trastevere (aprox. 30-45 min)'], 'observacoes': 'Considere visitar o Janículo no final da tarde para apreciar o pôr do sol. Trastevere oferece diversas opções gastronômicas.'}, {'dia': 4, 'data': '2025-09-16', 'atividades_sugeridas': ['Visita a um local não visitado ou revisitar um local favorito (2-3 horas)', 'Compras de lembranças (1-2 horas)', 'Almoço em um restaurante local (1 hora)', 'Check-out da hospedagem (Via Candia n.143 CAP: 00192)', 'Traslado para o aeroporto (tempo variável dependendo do horário do voo e método de transporte)'], 'observacoes': 'Este dia é flexível.  Ajuste o tempo das atividades de acordo com seu voo.  Considere transporte público ou táxi para o aeroporto.'}]}, {'cidade': 'Florença', 'pais': 'Itália', 'data_chegada': '2025-09-16', 'data_partida': '2025-09-19', 'hospedagem': 'Hotel Bodoni', 'pesquisa': {'cidade': 'Florença', 'pais': 'Itália', 'link_google_search': 'https://www.google.com/search?q=principais+atra%C3%A7%C3%B5es+tur%C3%ADsticas+em+Floren%C3%A7a+It%C3%A1lia', 'link_google_maps_atracoes': 'https://www.google.com/maps/search/atra%C3%A7%C3%B5es+tur%C3%ADsticas+em+Floren%C3%A7a%2C+It%C3%A1lia', 'link_google_maps_cidade': 'https://www.google.com/maps/place/Floren%C3%A7a%2C+It%C3%A1lia', 'sugestoes_gemini': [{'nome': 'Galeria da Academia', 'tipo_principal': 'Museu de Arte', 'descricao_enxuta': 'Abriga a maior coleção de obras de arte de Michelangelo, incluindo o David e as pinturas da Capela Sistina.', 'avaliacao_geral': 'Excelente', 'destaque_principal': 'Coleção de obras-primas de Michelangelo'}, {'nome': 'Catedral de Florença (Duomo)', 'tipo_principal': 'Catedral Gótica', 'descricao_enxuta': 'Uma obra-prima da arquitetura gótica, com a sua cúpula de Brunelleschi e o Campanário de Giotto, oferecendo vistas panorâmicas da cidade.', 'avaliacao_geral': 'Excelente', 'destaque_principal': 'Arquitetura gótica impressionante e vistas panorâmicas'}, {'nome': 'Ponte Vecchio', 'tipo_principal': 'Monumento Histórico e Ponte', 'descricao_enxuta': 'A única ponte de Florença a sobreviver à Segunda Guerra Mundial, famosa pelas suas lojas construídas ao longo dela.', 'avaliacao_geral': 'Muito Popular', 'destaque_principal': 'Arquitetura única e charme histórico'}, {'nome': 'Palazzo Pitti', 'tipo_principal': 'Palácio Histórico e Museu', 'descricao_enxuta': 'Um enorme palácio renascentista que abriga cinco museus, incluindo a Galeria de Arte Moderna e o Museu do Figurino e da Moda.', 'avaliacao_geral': '4.5/5 estrelas', 'destaque_principal': 'Coleções de arte e história impressionantes'}, {'nome': 'Piazza della Signoria', 'tipo_principal': 'Praça Pública e Centro Histórico', 'descricao_enxuta': 'Uma praça histórica no coração de Florença, cercada por edifícios importantes, como o Palazzo Vecchio e a Galeria da Academia.', 'avaliacao_geral': 'Muito Popular', 'destaque_principal': 'Atmosfera vibrante e arquitetura histórica'}, {'nome': 'Boboli Gardens', 'tipo_principal': 'Jardim Histórico', 'descricao_enxuta': 'Um vasto jardim italiano com fontes, esculturas e paisagismo exuberante, oferecendo um refúgio tranquilo no coração da cidade.', 'avaliacao_geral': '4.0/5 estrelas', 'destaque_principal': 'Paisagismo exuberante e atmosfera serena'}, {'nome': 'Mercado de San Lorenzo', 'tipo_principal': 'Mercado Histórico', 'descricao_enxuta': 'Um mercado vibrante e movimentado onde você pode encontrar produtos locais, artesanato, couro e lembranças.', 'avaliacao_geral': 'Muito Popular', 'destaque_principal': 'Experiência autêntica e compras únicas'}]}, 'roteiro': [{'dia': 1, 'data': '2025-09-16', 'atividades_sugeridas': ['Chegada e check-in no Hotel Bodoni', 'Passeio pela Piazza della Signoria (1-2 horas)', 'Visita à Galeria da Academia (2-3 horas - reservar com antecedência)', 'Almoço na região da Galeria da Academia', 'Passeio pela Ponte Vecchio (1 hora)'], 'observacoes': 'A região da Galeria da Academia e Ponte Vecchio oferece diversas opções de restaurantes.  Considere reservar seu ingresso para a Galeria da Academia com antecedência para evitar filas.  Transporte público ou caminhada são opções viáveis para se locomover entre as atrações.'}, {'dia': 2, 'data': '2025-09-17', 'atividades_sugeridas': ['Visita à Catedral de Florença (Duomo) (2-3 horas - subir à cúpula e ao Campanário de Giotto para vistas panorâmicas, se desejar - reservar com antecedência)', 'Almoço perto do Duomo', 'Visita ao Palazzo Pitti (2-3 horas - escolha um ou dois museus dentro do complexo)', 'Passeio pelos Boboli Gardens (1-2 horas)'], 'observacoes': 'Reserve com antecedência ingressos para subir à cúpula e ao campanário do Duomo.  Existem muitas opções de restaurantes perto do Duomo e do Palazzo Pitti.  Considere usar o transporte público ou táxi para se locomover entre o Duomo e o Palazzo Pitti, dependendo da sua disposição física.'}, {'dia': 3, 'data': '2025-09-18', 'atividades_sugeridas': ['Visita ao Mercado de San Lorenzo (1-2 horas)', 'Almoço no Mercado de San Lorenzo ou em um restaurante próximo', 'Tempo livre para compras ou explorar outras áreas de seu interesse em Florença (museus menores, passeios de bicicleta, etc.)', 'Jantar em um restaurante tradicional florentino'], 'observacoes': 'O Mercado de San Lorenzo é um ótimo lugar para experimentar comida de rua e comprar lembranças.  Pesquise restaurantes tradicionais florentinos para uma experiência gastronômica autêntica. À noite, considere um passeio noturno pela cidade.'}, {'dia': 4, 'data': '2025-09-19', 'atividades_sugeridas': ['Café da manhã no Hotel Bodoni', 'Check-out do hotel', 'Visita a um local que você tenha gostado ou que tenha faltado tempo no dia anterior (opcional)', 'Partida de Florença'], 'observacoes': 'N/A'}], 'roteiro_otimizado': [{'dia': 1, 'data': '2025-09-16', 'atividades_sugeridas': ['Chegada em Florença, traslado para o Hotel Bodoni (transporte público ou táxi, 30-60 min)', 'Check-in e breve descanso', 'Passeio pela Piazza della Signoria (1-2 horas)', 'Visita à Galeria da Academia (2-3 horas - ingresso reservado antecipadamente)', 'Almoço próximo à Galeria da Academia (30 min)', 'Passeio pela Ponte Vecchio (1 hora)'], 'observacoes': 'A região da Galeria da Academia e Ponte Vecchio oferece diversas opções de restaurantes. Caminhada entre as atrações.  Ingressos para a Galeria da Academia devem ser reservados com antecedência.'}, {'dia': 2, 'data': '2025-09-17', 'atividades_sugeridas': ['Visita à Catedral de Florença (Duomo) (2-3 horas - subir à cúpula e ao Campanário de Giotto, se desejar - ingressos reservados antecipadamente)', 'Almoço perto do Duomo (30 min)', 'Visita ao Palazzo Pitti (2-3 horas - escolha um ou dois museus dentro do complexo - ingresso reservado antecipadamente)', 'Passeio pelos Jardins de Boboli (1-2 horas)'], 'observacoes': 'Reserve com antecedência ingressos para subir à cúpula e ao campanário do Duomo e para o Palazzo Pitti. Transporte público (ônibus) ou táxi (20-30 min) entre o Duomo e o Palazzo Pitti.  Existem muitas opções de restaurantes perto do Duomo e do Palazzo Pitti.'}, {'dia': 3, 'data': '2025-09-18', 'atividades_sugeridas': ['Visita ao Mercado de San Lorenzo (1-2 horas)', 'Almoço no Mercado de San Lorenzo ou Trattoria próxima (1 hora)', 'Visita ao Oltrarno (exploração de oficinas de artesanato, galerias de arte) (2-3 horas)', 'Jantar em um restaurante tradicional florentino no Oltrarno (1,5 horas)'], 'observacoes': 'O Mercado de San Lorenzo é ótimo para compras e comida de rua. O Oltrarno oferece um ambiente mais autêntico e tranquilo. Caminhada entre as atrações.  Pesquise restaurantes tradicionais florentinos para uma experiência gastronômica autêntica.  Considere um passeio noturno pela Ponte Santa Trinita após o jantar.'}, {'dia': 4, 'data': '2025-09-19', 'atividades_sugeridas': ['Café da manhã no Hotel Bodoni', 'Check-out do hotel', 'Visita opcional a um local de seu interesse (considere o tempo necessário para a visita e deslocamento)', 'Traslado para o aeroporto (transporte público ou táxi, 30-60 min)', 'Partida de Florença'], 'observacoes': 'Planeje o tempo de traslado para o aeroporto com base no horário do seu voo.'}]}, {'cidade': 'Viena', 'pais': 'Aústria', 'data_chegada': '2025-09-20', 'data_partida': '2025-09-24', 'hospedagem': 'Hotel-Pension Wild', 'pesquisa': {'cidade': 'Viena', 'pais': 'Aústria', 'link_google_search': 'https://www.google.com/search?q=principais+atra%C3%A7%C3%B5es+tur%C3%ADsticas+em+Viena+A%C3%BAstria', 'link_google_maps_atracoes': 'https://www.google.com/maps/search/atra%C3%A7%C3%B5es+tur%C3%ADsticas+em+Viena%2C+A%C3%BAstria', 'link_google_maps_cidade': 'https://www.google.com/maps/place/Viena%2C+A%C3%BAstria', 'sugestoes_gemini': [{'nome': 'Palácio de Schönbrunn', 'tipo_principal': 'Palácio Histórico e Jardins', 'descricao_enxuta': 'Residência de verão dos Habsburgos, com palácios opulentos, jardins extensos e um zoológico histórico. Um exemplo magnífico da arquitetura barroca.', 'avaliacao_geral': 'Excelente', 'destaque_principal': 'Arquitetura imperial e vastos jardins'}, {'nome': 'Hofburg', 'tipo_principal': 'Complexo de Palácios', 'descricao_enxuta': 'Residência de inverno dos Habsburgos, um complexo de palácios interligados que abriga museus, capelas e apartamentos de estado.', 'avaliacao_geral': 'Muito Popular', 'destaque_principal': 'História imperial e arquitetura diversificada'}, {'nome': 'Catedral de Santo Estêvão', 'tipo_principal': 'Catedral Gótica', 'descricao_enxuta': 'Símbolo icônico de Viena, com uma arquitetura gótica impressionante, tesouros religiosos e vistas panorâmicas do topo da torre sul.', 'avaliacao_geral': 'Excelente', 'destaque_principal': 'Arquitetura gótica e vistas da cidade'}, {'nome': 'Museu de História da Arte', 'tipo_principal': 'Museu de Arte', 'descricao_enxuta': 'Coleção excepcional de pinturas, esculturas e objetos de arte de diferentes épocas e culturas, incluindo obras de Rembrandt, Michelangelo e Rafael.', 'avaliacao_geral': '4.5/5 estrelas', 'destaque_principal': 'Coleção de arte mundialmente famosa'}, {'nome': 'Belvedere', 'tipo_principal': 'Palácio e Museu de Arte', 'descricao_enxuta': \"Palácio barroco que abriga a maior coleção de obras de Gustav Klimt, incluindo 'O Beijo'.\", 'avaliacao_geral': 'Excelente', 'destaque_principal': 'Obras-primas de Gustav Klimt'}, {'nome': 'Naschmarkt', 'tipo_principal': 'Mercado Histórico', 'descricao_enxuta': 'Um dos maiores e mais antigos mercados ao ar livre da Europa, oferecendo uma variedade de produtos frescos, especiarias e comida de rua.', 'avaliacao_geral': 'Muito Popular', 'destaque_principal': 'Experiência cultural e gastronômica vibrante'}, {'nome': 'Prater', 'tipo_principal': 'Parque de Diversões e Área Verde', 'descricao_enxuta': 'Parque de diversões histórico com a icônica Roda-Gigante de Viena, além de outras atrações e áreas verdes para relaxar.', 'avaliacao_geral': 'Muito Popular', 'destaque_principal': 'Entretenimento e vistas panorâmicas da Roda-Gigante'}]}, 'roteiro': [{'dia': 1, 'data': '2025-09-20', 'atividades_sugeridas': ['Chegada e check-in no Hotel-Pension Wild', 'Passeio exploratório pela vizinhança do hotel', 'Jantar em um restaurante local próximo ao hotel (sugestão: procurar restaurantes tradicionais vienenses)'], 'observacoes': 'Aproveite para se ambientar na área e descansar após a viagem.  O Hotel-Pension Wild está bem localizado, facilitando o acesso a transportes públicos.'}, {'dia': 2, 'data': '2025-09-21', 'atividades_sugeridas': ['Visita ao Palácio de Schönbrunn (3-4 horas, incluindo os jardins)', 'Almoço próximo ao Palácio de Schönbrunn (várias opções de cafés e restaurantes)', 'Visita ao Naschmarkt (1-2 horas para explorar os produtos e a atmosfera)', 'Jantar no Naschmarkt ou em um restaurante próximo (experimente a culinária internacional oferecida no mercado).'], 'observacoes': 'Utilize o transporte público (metrô ou ônibus) para se locomover entre o hotel, o Palácio de Schönbrunn e o Naschmarkt.  Considere comprar ingressos para o Palácio de Schönbrunn antecipadamente para evitar filas.'}, {'dia': 3, 'data': '2025-09-22', 'atividades_sugeridas': ['Visita à Catedral de Santo Estêvão (1-2 horas, incluindo a subida à torre sul, se desejar)', 'Visita ao Hofburg (2-3 horas, dependendo dos museus que você escolher visitar)', 'Almoço na região do Hofburg (várias opções de cafés e restaurantes)', 'Visita ao Museu de História da Arte (2-3 horas, dependendo do seu interesse)', 'Jantar em um restaurante próximo ao Museu de História da Arte ou de volta à região do hotel.'], 'observacoes': 'A Catedral de Santo Estêvão e o Hofburg estão próximos um do outro. O Museu de História da Arte também fica relativamente próximo.  Utilize o transporte público ou um passeio a pé para se locomover entre os locais.'}, {'dia': 4, 'data': '2025-09-23', 'atividades_sugeridas': ['Visita ao Belvedere (2-3 horas, para apreciar a coleção de Klimt e o palácio)', 'Almoço próximo ao Belvedere (opções de cafés e restaurantes no entorno)', 'Visita ao Prater (2-3 horas, incluindo um passeio na Roda-Gigante)', 'Jantar em um restaurante no Prater ou em um restaurante próximo ao hotel.'], 'observacoes': 'O Belvedere e o Prater são bem servidos por transporte público. Considere comprar os ingressos para o Belvedere com antecedência, especialmente se for visitar em alta temporada.'}, {'dia': 5, 'data': '2025-09-24', 'atividades_sugeridas': ['Café da manhã no hotel', 'Compras de lembranças ou visita a algum local que tenha sido deixado de fora', 'Check-out do Hotel-Pension Wild', 'Partida de Viena'], 'observacoes': 'Este dia é flexível, permitindo que você aproveite o tempo restante para compras, revisitar locais favoritos ou simplesmente relaxar antes de partir.  Dependendo do horário do seu voo, você pode optar por deixar as malas no hotel e fazer um último passeio pela cidade.'}], 'roteiro_otimizado': [{'dia': 1, 'data': '2025-09-20', 'atividades_sugeridas': ['Chegada no aeroporto, traslado para o Hotel-Pension Wild (metrô ou táxi, aprox. 30 min)', 'Check-in e breve descanso', 'Passeio a pé pela vizinhança do hotel (1-2 horas)', 'Jantar em um restaurante tradicional vienense próximo ao hotel (Heuriger recomendado)'], 'observacoes': 'O Hotel-Pension Wild tem boa localização. Explore a área e procure um Heuriger (taverna local) para um jantar autêntico.'}, {'dia': 2, 'data': '2025-09-21', 'atividades_sugeridas': ['Visita ao Palácio de Schönbrunn (3-4 horas, incluindo os jardins, compre ingressos online)', 'Almoço em um café próximo ao Palácio de Schönbrunn (30 min)', 'Transporte público para o Naschmarkt (metrô U4, aprox. 20 min)', 'Visita ao Naschmarkt (1-2 horas)', 'Jantar no Naschmarkt (experimente diferentes barracas, 1-1.5 horas)'], 'observacoes': 'Priorize a visita ao Palácio de Schönbrunn pela manhã para evitar multidões. O Naschmarkt oferece diversas opções gastronômicas.'}, {'dia': 3, 'data': '2025-09-22', 'atividades_sugeridas': ['Visita à Catedral de Santo Estêvão (1-2 horas, incluindo subida à torre sul, se desejar - agende com antecedência)', 'Caminhada até o Hofburg (15 min)', 'Visita ao Hofburg (2-3 horas, escolha os museus com antecedência)', 'Almoço na região do Hofburg (30-45 min)', 'Caminhada até o Museu de História da Arte (10 min)', 'Visita ao Museu de História da Arte (2-3 horas)', 'Jantar próximo ao Museu de História da Arte ou de volta ao hotel (transporte público ou táxi)'], 'observacoes': 'A proximidade entre esses pontos permite um passeio a pé agradável.  Verifique os horários de funcionamento dos museus.'}, {'dia': 4, 'data': '2025-09-23', 'atividades_sugeridas': ['Transporte público para o Belvedere (metrô ou ônibus, aprox. 20 min)', 'Visita ao Belvedere (2-3 horas, incluindo a coleção de Klimt - compre ingressos online)', 'Almoço próximo ao Belvedere (30 min)', 'Transporte público para o Prater (metrô U4, aprox. 15 min)', 'Visita ao Prater (2-3 horas, incluindo passeio na Roda-Gigante - considere o pôr do sol)', 'Jantar em um restaurante no Prater ou transporte público de volta ao hotel para jantar próximo (aprox. 20-30min)'], 'observacoes': 'O Belvedere é melhor visitado pela manhã, e o Prater ao final da tarde para aproveitar o pôr do sol na Roda-Gigante.  Verifique os horários de funcionamento da Roda-Gigante.'}, {'dia': 5, 'data': '2025-09-24', 'atividades_sugeridas': ['Café da manhã no hotel', 'Compras de lembranças na região do hotel ou visita a um museu não visitado anteriormente (2-3 horas)', 'Check-out do Hotel-Pension Wild', 'Transporte para o aeroporto (metrô ou táxi, aprox. 30 min), dependendo do horário do voo'], 'observacoes': 'Este dia é flexível, adapte-o ao horário do seu voo. Considere deixar as malas no hotel para um último passeio.'}]}]\n"
          ]
        }
      ]
    },
    {
      "cell_type": "code",
      "metadata": {
        "colab": {
          "base_uri": "https://localhost:8080/",
          "height": 945
        },
        "id": "002f65c5",
        "outputId": "56e14e80-ddd5-444e-a1ef-aac2b8e70ce4"
      },
      "source": [
        "dados_finais_viagem = executar_planejador_viagem(\"/content/europa.csv\")"
      ],
      "execution_count": 10,
      "outputs": [
        {
          "output_type": "display_data",
          "data": {
            "text/plain": [
              "<IPython.core.display.Markdown object>"
            ],
            "text/markdown": "## ✈️ Iniciando Planejamento de Viagem..."
          },
          "metadata": {}
        },
        {
          "output_type": "display_data",
          "data": {
            "text/plain": [
              "<IPython.core.display.Markdown object>"
            ],
            "text/markdown": "### Arquivo de Viagem (`/content/europa.csv`)"
          },
          "metadata": {}
        },
        {
          "output_type": "display_data",
          "data": {
            "text/plain": [
              "     cidade     pais data_chegada data_partida                   hospedagem\n",
              "0      Roma   Itália   2025-09-13   2025-09-16  Via Candia n.143 CAP: 00192\n",
              "1  Florença   Itália   2025-09-16   2025-09-19                 Hotel Bodoni\n",
              "2     Viena  Aústria   2025-09-20   2025-09-24           Hotel-Pension Wild"
            ],
            "text/html": [
              "\n",
              "  <div id=\"df-7daed4be-b056-4b24-a476-8c382c8889fa\" class=\"colab-df-container\">\n",
              "    <div>\n",
              "<style scoped>\n",
              "    .dataframe tbody tr th:only-of-type {\n",
              "        vertical-align: middle;\n",
              "    }\n",
              "\n",
              "    .dataframe tbody tr th {\n",
              "        vertical-align: top;\n",
              "    }\n",
              "\n",
              "    .dataframe thead th {\n",
              "        text-align: right;\n",
              "    }\n",
              "</style>\n",
              "<table border=\"1\" class=\"dataframe\">\n",
              "  <thead>\n",
              "    <tr style=\"text-align: right;\">\n",
              "      <th></th>\n",
              "      <th>cidade</th>\n",
              "      <th>pais</th>\n",
              "      <th>data_chegada</th>\n",
              "      <th>data_partida</th>\n",
              "      <th>hospedagem</th>\n",
              "    </tr>\n",
              "  </thead>\n",
              "  <tbody>\n",
              "    <tr>\n",
              "      <th>0</th>\n",
              "      <td>Roma</td>\n",
              "      <td>Itália</td>\n",
              "      <td>2025-09-13</td>\n",
              "      <td>2025-09-16</td>\n",
              "      <td>Via Candia n.143 CAP: 00192</td>\n",
              "    </tr>\n",
              "    <tr>\n",
              "      <th>1</th>\n",
              "      <td>Florença</td>\n",
              "      <td>Itália</td>\n",
              "      <td>2025-09-16</td>\n",
              "      <td>2025-09-19</td>\n",
              "      <td>Hotel Bodoni</td>\n",
              "    </tr>\n",
              "    <tr>\n",
              "      <th>2</th>\n",
              "      <td>Viena</td>\n",
              "      <td>Aústria</td>\n",
              "      <td>2025-09-20</td>\n",
              "      <td>2025-09-24</td>\n",
              "      <td>Hotel-Pension Wild</td>\n",
              "    </tr>\n",
              "  </tbody>\n",
              "</table>\n",
              "</div>\n",
              "    <div class=\"colab-df-buttons\">\n",
              "\n",
              "  <div class=\"colab-df-container\">\n",
              "    <button class=\"colab-df-convert\" onclick=\"convertToInteractive('df-7daed4be-b056-4b24-a476-8c382c8889fa')\"\n",
              "            title=\"Convert this dataframe to an interactive table.\"\n",
              "            style=\"display:none;\">\n",
              "\n",
              "  <svg xmlns=\"http://www.w3.org/2000/svg\" height=\"24px\" viewBox=\"0 -960 960 960\">\n",
              "    <path d=\"M120-120v-720h720v720H120Zm60-500h600v-160H180v160Zm220 220h160v-160H400v160Zm0 220h160v-160H400v160ZM180-400h160v-160H180v160Zm440 0h160v-160H620v160ZM180-180h160v-160H180v160Zm440 0h160v-160H620v160Z\"/>\n",
              "  </svg>\n",
              "    </button>\n",
              "\n",
              "  <style>\n",
              "    .colab-df-container {\n",
              "      display:flex;\n",
              "      gap: 12px;\n",
              "    }\n",
              "\n",
              "    .colab-df-convert {\n",
              "      background-color: #E8F0FE;\n",
              "      border: none;\n",
              "      border-radius: 50%;\n",
              "      cursor: pointer;\n",
              "      display: none;\n",
              "      fill: #1967D2;\n",
              "      height: 32px;\n",
              "      padding: 0 0 0 0;\n",
              "      width: 32px;\n",
              "    }\n",
              "\n",
              "    .colab-df-convert:hover {\n",
              "      background-color: #E2EBFA;\n",
              "      box-shadow: 0px 1px 2px rgba(60, 64, 67, 0.3), 0px 1px 3px 1px rgba(60, 64, 67, 0.15);\n",
              "      fill: #174EA6;\n",
              "    }\n",
              "\n",
              "    .colab-df-buttons div {\n",
              "      margin-bottom: 4px;\n",
              "    }\n",
              "\n",
              "    [theme=dark] .colab-df-convert {\n",
              "      background-color: #3B4455;\n",
              "      fill: #D2E3FC;\n",
              "    }\n",
              "\n",
              "    [theme=dark] .colab-df-convert:hover {\n",
              "      background-color: #434B5C;\n",
              "      box-shadow: 0px 1px 3px 1px rgba(0, 0, 0, 0.15);\n",
              "      filter: drop-shadow(0px 1px 2px rgba(0, 0, 0, 0.3));\n",
              "      fill: #FFFFFF;\n",
              "    }\n",
              "  </style>\n",
              "\n",
              "    <script>\n",
              "      const buttonEl =\n",
              "        document.querySelector('#df-7daed4be-b056-4b24-a476-8c382c8889fa button.colab-df-convert');\n",
              "      buttonEl.style.display =\n",
              "        google.colab.kernel.accessAllowed ? 'block' : 'none';\n",
              "\n",
              "      async function convertToInteractive(key) {\n",
              "        const element = document.querySelector('#df-7daed4be-b056-4b24-a476-8c382c8889fa');\n",
              "        const dataTable =\n",
              "          await google.colab.kernel.invokeFunction('convertToInteractive',\n",
              "                                                    [key], {});\n",
              "        if (!dataTable) return;\n",
              "\n",
              "        const docLinkHtml = 'Like what you see? Visit the ' +\n",
              "          '<a target=\"_blank\" href=https://colab.research.google.com/notebooks/data_table.ipynb>data table notebook</a>'\n",
              "          + ' to learn more about interactive tables.';\n",
              "        element.innerHTML = '';\n",
              "        dataTable['output_type'] = 'display_data';\n",
              "        await google.colab.output.renderOutput(dataTable, element);\n",
              "        const docLink = document.createElement('div');\n",
              "        docLink.innerHTML = docLinkHtml;\n",
              "        element.appendChild(docLink);\n",
              "      }\n",
              "    </script>\n",
              "  </div>\n",
              "\n",
              "\n",
              "    <div id=\"df-5a9c3fc1-db55-4192-8d1e-942d7d4f1905\">\n",
              "      <button class=\"colab-df-quickchart\" onclick=\"quickchart('df-5a9c3fc1-db55-4192-8d1e-942d7d4f1905')\"\n",
              "                title=\"Suggest charts\"\n",
              "                style=\"display:none;\">\n",
              "\n",
              "<svg xmlns=\"http://www.w3.org/2000/svg\" height=\"24px\"viewBox=\"0 0 24 24\"\n",
              "     width=\"24px\">\n",
              "    <g>\n",
              "        <path d=\"M19 3H5c-1.1 0-2 .9-2 2v14c0 1.1.9 2 2 2h14c1.1 0 2-.9 2-2V5c0-1.1-.9-2-2-2zM9 17H7v-7h2v7zm4 0h-2V7h2v10zm4 0h-2v-4h2v4z\"/>\n",
              "    </g>\n",
              "</svg>\n",
              "      </button>\n",
              "\n",
              "<style>\n",
              "  .colab-df-quickchart {\n",
              "      --bg-color: #E8F0FE;\n",
              "      --fill-color: #1967D2;\n",
              "      --hover-bg-color: #E2EBFA;\n",
              "      --hover-fill-color: #174EA6;\n",
              "      --disabled-fill-color: #AAA;\n",
              "      --disabled-bg-color: #DDD;\n",
              "  }\n",
              "\n",
              "  [theme=dark] .colab-df-quickchart {\n",
              "      --bg-color: #3B4455;\n",
              "      --fill-color: #D2E3FC;\n",
              "      --hover-bg-color: #434B5C;\n",
              "      --hover-fill-color: #FFFFFF;\n",
              "      --disabled-bg-color: #3B4455;\n",
              "      --disabled-fill-color: #666;\n",
              "  }\n",
              "\n",
              "  .colab-df-quickchart {\n",
              "    background-color: var(--bg-color);\n",
              "    border: none;\n",
              "    border-radius: 50%;\n",
              "    cursor: pointer;\n",
              "    display: none;\n",
              "    fill: var(--fill-color);\n",
              "    height: 32px;\n",
              "    padding: 0;\n",
              "    width: 32px;\n",
              "  }\n",
              "\n",
              "  .colab-df-quickchart:hover {\n",
              "    background-color: var(--hover-bg-color);\n",
              "    box-shadow: 0 1px 2px rgba(60, 64, 67, 0.3), 0 1px 3px 1px rgba(60, 64, 67, 0.15);\n",
              "    fill: var(--button-hover-fill-color);\n",
              "  }\n",
              "\n",
              "  .colab-df-quickchart-complete:disabled,\n",
              "  .colab-df-quickchart-complete:disabled:hover {\n",
              "    background-color: var(--disabled-bg-color);\n",
              "    fill: var(--disabled-fill-color);\n",
              "    box-shadow: none;\n",
              "  }\n",
              "\n",
              "  .colab-df-spinner {\n",
              "    border: 2px solid var(--fill-color);\n",
              "    border-color: transparent;\n",
              "    border-bottom-color: var(--fill-color);\n",
              "    animation:\n",
              "      spin 1s steps(1) infinite;\n",
              "  }\n",
              "\n",
              "  @keyframes spin {\n",
              "    0% {\n",
              "      border-color: transparent;\n",
              "      border-bottom-color: var(--fill-color);\n",
              "      border-left-color: var(--fill-color);\n",
              "    }\n",
              "    20% {\n",
              "      border-color: transparent;\n",
              "      border-left-color: var(--fill-color);\n",
              "      border-top-color: var(--fill-color);\n",
              "    }\n",
              "    30% {\n",
              "      border-color: transparent;\n",
              "      border-left-color: var(--fill-color);\n",
              "      border-top-color: var(--fill-color);\n",
              "      border-right-color: var(--fill-color);\n",
              "    }\n",
              "    40% {\n",
              "      border-color: transparent;\n",
              "      border-right-color: var(--fill-color);\n",
              "      border-top-color: var(--fill-color);\n",
              "    }\n",
              "    60% {\n",
              "      border-color: transparent;\n",
              "      border-right-color: var(--fill-color);\n",
              "    }\n",
              "    80% {\n",
              "      border-color: transparent;\n",
              "      border-right-color: var(--fill-color);\n",
              "      border-bottom-color: var(--fill-color);\n",
              "    }\n",
              "    90% {\n",
              "      border-color: transparent;\n",
              "      border-bottom-color: var(--fill-color);\n",
              "    }\n",
              "  }\n",
              "</style>\n",
              "\n",
              "      <script>\n",
              "        async function quickchart(key) {\n",
              "          const quickchartButtonEl =\n",
              "            document.querySelector('#' + key + ' button');\n",
              "          quickchartButtonEl.disabled = true;  // To prevent multiple clicks.\n",
              "          quickchartButtonEl.classList.add('colab-df-spinner');\n",
              "          try {\n",
              "            const charts = await google.colab.kernel.invokeFunction(\n",
              "                'suggestCharts', [key], {});\n",
              "          } catch (error) {\n",
              "            console.error('Error during call to suggestCharts:', error);\n",
              "          }\n",
              "          quickchartButtonEl.classList.remove('colab-df-spinner');\n",
              "          quickchartButtonEl.classList.add('colab-df-quickchart-complete');\n",
              "        }\n",
              "        (() => {\n",
              "          let quickchartButtonEl =\n",
              "            document.querySelector('#df-5a9c3fc1-db55-4192-8d1e-942d7d4f1905 button');\n",
              "          quickchartButtonEl.style.display =\n",
              "            google.colab.kernel.accessAllowed ? 'block' : 'none';\n",
              "        })();\n",
              "      </script>\n",
              "    </div>\n",
              "\n",
              "    </div>\n",
              "  </div>\n"
            ],
            "application/vnd.google.colaboratory.intrinsic+json": {
              "type": "dataframe",
              "summary": "{\n  \"name\": \"dados_finais_viagem = executar_planejador_viagem(\\\"/content/europa\",\n  \"rows\": 3,\n  \"fields\": [\n    {\n      \"column\": \"cidade\",\n      \"properties\": {\n        \"dtype\": \"string\",\n        \"num_unique_values\": 3,\n        \"samples\": [\n          \"Roma\",\n          \"Floren\\u00e7a\",\n          \"Viena\"\n        ],\n        \"semantic_type\": \"\",\n        \"description\": \"\"\n      }\n    },\n    {\n      \"column\": \"pais\",\n      \"properties\": {\n        \"dtype\": \"string\",\n        \"num_unique_values\": 2,\n        \"samples\": [\n          \"A\\u00fastria\",\n          \"It\\u00e1lia\"\n        ],\n        \"semantic_type\": \"\",\n        \"description\": \"\"\n      }\n    },\n    {\n      \"column\": \"data_chegada\",\n      \"properties\": {\n        \"dtype\": \"object\",\n        \"num_unique_values\": 3,\n        \"samples\": [\n          \"2025-09-13\",\n          \"2025-09-16\"\n        ],\n        \"semantic_type\": \"\",\n        \"description\": \"\"\n      }\n    },\n    {\n      \"column\": \"data_partida\",\n      \"properties\": {\n        \"dtype\": \"object\",\n        \"num_unique_values\": 3,\n        \"samples\": [\n          \"2025-09-16\",\n          \"2025-09-19\"\n        ],\n        \"semantic_type\": \"\",\n        \"description\": \"\"\n      }\n    },\n    {\n      \"column\": \"hospedagem\",\n      \"properties\": {\n        \"dtype\": \"string\",\n        \"num_unique_values\": 3,\n        \"samples\": [\n          \"Via Candia n.143 CAP: 00192\",\n          \"Hotel Bodoni\"\n        ],\n        \"semantic_type\": \"\",\n        \"description\": \"\"\n      }\n    }\n  ]\n}"
            }
          },
          "metadata": {}
        },
        {
          "output_type": "display_data",
          "data": {
            "text/plain": [
              "<IPython.core.display.Markdown object>"
            ],
            "text/markdown": "\n--- Processando Destino: **Roma, Itália** ---"
          },
          "metadata": {}
        },
        {
          "output_type": "display_data",
          "data": {
            "text/plain": [
              "<IPython.core.display.Markdown object>"
            ],
            "text/markdown": "\n### 🌍 Agente Iniciando Pesquisa para: **Roma, Itália**"
          },
          "metadata": {}
        },
        {
          "output_type": "display_data",
          "data": {
            "text/plain": [
              "<IPython.core.display.Markdown object>"
            ],
            "text/markdown": "🧠 *Agente consultando Gemini sobre atrações em: **Roma, Itália** (Top 7)...*"
          },
          "metadata": {}
        },
        {
          "output_type": "display_data",
          "data": {
            "text/plain": [
              "<IPython.core.display.Markdown object>"
            ],
            "text/markdown": "✅ *Gemini retornou 7 sugestões de atrações para Roma.*"
          },
          "metadata": {}
        },
        {
          "output_type": "display_data",
          "data": {
            "text/plain": [
              "<IPython.core.display.Markdown object>"
            ],
            "text/markdown": "--- Pesquisa para **Roma, Itália** finalizada pelo agente. ---"
          },
          "metadata": {}
        },
        {
          "output_type": "display_data",
          "data": {
            "text/plain": [
              "<IPython.core.display.Markdown object>"
            ],
            "text/markdown": "🧠 *Agente montando roteiro para: **Roma, Itália** (4 dias)...*"
          },
          "metadata": {}
        },
        {
          "output_type": "display_data",
          "data": {
            "text/plain": [
              "<IPython.core.display.Markdown object>"
            ],
            "text/markdown": "✅ *Gemini montou um roteiro com 4 dias para Roma.*"
          },
          "metadata": {}
        },
        {
          "output_type": "display_data",
          "data": {
            "text/plain": [
              "<IPython.core.display.Markdown object>"
            ],
            "text/markdown": "🧠 *Agente Otimizador revisando roteiro para: **Roma, Itália**...*"
          },
          "metadata": {}
        },
        {
          "output_type": "display_data",
          "data": {
            "text/plain": [
              "<IPython.core.display.Markdown object>"
            ],
            "text/markdown": "✅ *Gemini otimizou o roteiro com 4 dias para Roma.*"
          },
          "metadata": {}
        },
        {
          "output_type": "display_data",
          "data": {
            "text/plain": [
              "<IPython.core.display.Markdown object>"
            ],
            "text/markdown": "\n--- Processando Destino: **Florença, Itália** ---"
          },
          "metadata": {}
        },
        {
          "output_type": "display_data",
          "data": {
            "text/plain": [
              "<IPython.core.display.Markdown object>"
            ],
            "text/markdown": "\n### 🌍 Agente Iniciando Pesquisa para: **Florença, Itália**"
          },
          "metadata": {}
        },
        {
          "output_type": "display_data",
          "data": {
            "text/plain": [
              "<IPython.core.display.Markdown object>"
            ],
            "text/markdown": "🧠 *Agente consultando Gemini sobre atrações em: **Florença, Itália** (Top 7)...*"
          },
          "metadata": {}
        },
        {
          "output_type": "display_data",
          "data": {
            "text/plain": [
              "<IPython.core.display.Markdown object>"
            ],
            "text/markdown": "✅ *Gemini retornou 7 sugestões de atrações para Florença.*"
          },
          "metadata": {}
        },
        {
          "output_type": "display_data",
          "data": {
            "text/plain": [
              "<IPython.core.display.Markdown object>"
            ],
            "text/markdown": "--- Pesquisa para **Florença, Itália** finalizada pelo agente. ---"
          },
          "metadata": {}
        },
        {
          "output_type": "display_data",
          "data": {
            "text/plain": [
              "<IPython.core.display.Markdown object>"
            ],
            "text/markdown": "🧠 *Agente montando roteiro para: **Florença, Itália** (4 dias)...*"
          },
          "metadata": {}
        },
        {
          "output_type": "display_data",
          "data": {
            "text/plain": [
              "<IPython.core.display.Markdown object>"
            ],
            "text/markdown": "✅ *Gemini montou um roteiro com 4 dias para Florença.*"
          },
          "metadata": {}
        },
        {
          "output_type": "display_data",
          "data": {
            "text/plain": [
              "<IPython.core.display.Markdown object>"
            ],
            "text/markdown": "🧠 *Agente Otimizador revisando roteiro para: **Florença, Itália**...*"
          },
          "metadata": {}
        },
        {
          "output_type": "display_data",
          "data": {
            "text/plain": [
              "<IPython.core.display.Markdown object>"
            ],
            "text/markdown": "✅ *Gemini otimizou o roteiro com 4 dias para Florença.*"
          },
          "metadata": {}
        },
        {
          "output_type": "display_data",
          "data": {
            "text/plain": [
              "<IPython.core.display.Markdown object>"
            ],
            "text/markdown": "\n--- Processando Destino: **Viena, Aústria** ---"
          },
          "metadata": {}
        },
        {
          "output_type": "display_data",
          "data": {
            "text/plain": [
              "<IPython.core.display.Markdown object>"
            ],
            "text/markdown": "\n### 🌍 Agente Iniciando Pesquisa para: **Viena, Aústria**"
          },
          "metadata": {}
        },
        {
          "output_type": "display_data",
          "data": {
            "text/plain": [
              "<IPython.core.display.Markdown object>"
            ],
            "text/markdown": "🧠 *Agente consultando Gemini sobre atrações em: **Viena, Aústria** (Top 7)...*"
          },
          "metadata": {}
        },
        {
          "output_type": "display_data",
          "data": {
            "text/plain": [
              "<IPython.core.display.Markdown object>"
            ],
            "text/markdown": "✅ *Gemini retornou 7 sugestões de atrações para Viena.*"
          },
          "metadata": {}
        },
        {
          "output_type": "display_data",
          "data": {
            "text/plain": [
              "<IPython.core.display.Markdown object>"
            ],
            "text/markdown": "--- Pesquisa para **Viena, Aústria** finalizada pelo agente. ---"
          },
          "metadata": {}
        },
        {
          "output_type": "display_data",
          "data": {
            "text/plain": [
              "<IPython.core.display.Markdown object>"
            ],
            "text/markdown": "🧠 *Agente montando roteiro para: **Viena, Aústria** (5 dias)...*"
          },
          "metadata": {}
        },
        {
          "output_type": "display_data",
          "data": {
            "text/plain": [
              "<IPython.core.display.Markdown object>"
            ],
            "text/markdown": "✅ *Gemini montou um roteiro com 5 dias para Viena.*"
          },
          "metadata": {}
        },
        {
          "output_type": "display_data",
          "data": {
            "text/plain": [
              "<IPython.core.display.Markdown object>"
            ],
            "text/markdown": "🧠 *Agente Otimizador revisando roteiro para: **Viena, Aústria**...*"
          },
          "metadata": {}
        },
        {
          "output_type": "display_data",
          "data": {
            "text/plain": [
              "<IPython.core.display.Markdown object>"
            ],
            "text/markdown": "✅ *Gemini otimizou o roteiro com 5 dias para Viena.*"
          },
          "metadata": {}
        },
        {
          "output_type": "display_data",
          "data": {
            "text/plain": [
              "<IPython.core.display.Markdown object>"
            ],
            "text/markdown": "\n## ✅ Planejamento de Viagem Concluído!"
          },
          "metadata": {}
        }
      ]
    }
  ]
}