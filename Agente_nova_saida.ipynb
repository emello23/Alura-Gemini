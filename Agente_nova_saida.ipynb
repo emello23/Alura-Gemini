{
  "nbformat": 4,
  "nbformat_minor": 0,
  "metadata": {
    "colab": {
      "provenance": [],
      "include_colab_link": true
    },
    "kernelspec": {
      "name": "python3",
      "display_name": "Python 3"
    },
    "language_info": {
      "name": "python"
    }
  },
  "cells": [
    {
      "cell_type": "markdown",
      "metadata": {
        "id": "view-in-github",
        "colab_type": "text"
      },
      "source": [
        "<a href=\"https://colab.research.google.com/github/emello23/Alura-Gemini/blob/main/Agente_nova_saida.ipynb\" target=\"_parent\"><img src=\"https://colab.research.google.com/assets/colab-badge.svg\" alt=\"Open In Colab\"/></a>"
      ]
    },
    {
      "cell_type": "code",
      "metadata": {
        "colab": {
          "base_uri": "https://localhost:8080/",
          "height": 46
        },
        "id": "tlZzoK2TUUZv",
        "outputId": "3cda4a8a-7632-49b5-a75c-e3595e607147"
      },
      "source": [
        "import pandas as pd\n",
        "import time\n",
        "from IPython.display import display, Markdown\n",
        "from tabulate import tabulate\n",
        "from urllib.parse import quote_plus\n",
        "import google.generativeai as genai # SDK do Gemini\n",
        "import json # Para parsear a resposta do Gemini\n",
        "from google.colab import userdata # Para acessar a API key\n",
        "from datetime import datetime, timedelta # Importar datetime e timedelta\n",
        "\n",
        "# --- Configuração do Agente e API Key ---\n",
        "GOOGLE_API_KEY = None\n",
        "gemini_model_instance = None # Renomeado para clareza\n",
        "\n",
        "try:\n",
        "    # O nome padrão para secrets é sem o sufixo _, a menos que você tenha nomeado especificamente assim.\n",
        "    # Vou usar 'GOOGLE_API_KEY' como padrão, conforme a prática comum.\n",
        "    GOOGLE_API_KEY = userdata.get('GOOGLE_API_KEY')\n",
        "    if not GOOGLE_API_KEY:\n",
        "        display(Markdown(\"<font color='red'>**Erro Crítico: GOOGLE_API_KEY não encontrada nos Secrets do Colab.** \"\n",
        "                         \"Por favor, configure-a com o nome 'GOOGLE_API_KEY'.</font>\"))\n",
        "    else:\n",
        "        genai.configure(api_key=GOOGLE_API_KEY)\n",
        "        gemini_model_instance = genai.GenerativeModel(\n",
        "            model_name='gemini-1.5-flash-latest', # Modelo eficiente e capaz\n",
        "            # A opção response_mime_type pode ser usada com modelos mais recentes\n",
        "            # e configurações de segurança apropriadas.\n",
        "            # generation_config=genai.types.GenerationConfig(\n",
        "            #     response_mime_type=\"application/json\"\n",
        "            # )\n",
        "        )\n",
        "        display(Markdown(\"✅ *SDK do Gemini e modelo (`gemini-1.5-flash-latest`) configurados com sucesso.*\"))\n",
        "except Exception as e:\n",
        "    display(Markdown(f\"<font color='red'>**Erro Crítico ao configurar o SDK do Gemini:** {e}. \"\n",
        "                     \"Verifique sua API Key, permissões e se o nome do secret está correto ('GOOGLE_API_KEY'). \"\n",
        "                     \"O agente não funcionará sem isso.</font>\"))\n",
        "    # O script poderia parar aqui ou continuar com funcionalidades limitadas se houvesse um fallback.\n",
        "    # Para este agente, o Gemini é essencial.\n",
        "\n",
        "# --- Funções Utilitárias ---\n",
        "\n",
        "def carregar_dados_viagem(caminho_arquivo: str) -> pd.DataFrame | None:\n",
        "    \"\"\"\n",
        "    Carrega os dados de viagem do arquivo CSV e valida as colunas necessárias.\n",
        "    \"\"\"\n",
        "    colunas_requeridas = ['cidade', 'pais', 'data_chegada', 'data_partida', 'hospedagem']\n",
        "    try:\n",
        "        df = pd.read_csv(caminho_arquivo)\n",
        "\n",
        "        # Validar se as colunas requeridas existem\n",
        "        if not all(col in df.columns for col in colunas_requeridas):\n",
        "            colunas_faltando = [col for col in colunas_requeridas if col not in df.columns]\n",
        "            display(Markdown(f\"<font color='red'>**Erro: O arquivo `{caminho_arquivo}` não contém as colunas requeridas.** \"\n",
        "                             f\"Faltam as seguintes colunas: {', '.join(colunas_faltando)}.</font>\"))\n",
        "            return None\n",
        "\n",
        "        display(Markdown(f\"### Arquivo de Viagem (`{caminho_arquivo}`)\"))\n",
        "        display(df[colunas_requeridas]) # Exibe apenas as colunas relevantes\n",
        "        return df\n",
        "    except FileNotFoundError:\n",
        "        display(Markdown(f\"<font color='red'>**Erro: Arquivo `{caminho_arquivo}` não encontrado.** Verifique o nome e o local.</font>\"))\n",
        "        return None\n",
        "    except Exception as e:\n",
        "        display(Markdown(f\"<font color='red'>**Erro ao carregar o arquivo CSV `{caminho_arquivo}`:** {e}</font>\"))\n",
        "        return None\n",
        "\n",
        "def gerar_links_pesquisa_google(cidade: str, pais: str) -> tuple[str, str, str]:\n",
        "    \"\"\"Gera links de pesquisa úteis para Google Search e Google Maps.\"\"\"\n",
        "    query_atracoes = f\"principais atrações turísticas em {cidade} {pais}\"\n",
        "    link_google_search = f\"https://www.google.com/search?q={quote_plus(query_atracoes)}\"\n",
        "    query_maps_atracoes = f\"atrações turísticas em {cidade}, {pais}\"\n",
        "    link_google_maps_atracoes = f\"https://www.google.com/maps/search/{quote_plus(query_maps_atracoes)}\"\n",
        "    query_maps_cidade = f\"{cidade}, {pais}\"\n",
        "    link_google_maps_cidade = f\"https://www.google.com/maps/place/{quote_plus(query_maps_cidade)}\"\n",
        "    return link_google_search, link_google_maps_atracoes, link_google_maps_cidade\n",
        "\n",
        "# --- Definição do Agente Pesquisador de Atrações ---\n",
        "\n",
        "class AgentePesquisadorAtracoes:\n",
        "    \"\"\"\n",
        "    Um agente responsável por pesquisar atrações turísticas usando o Gemini\n",
        "    e fornecer links úteis para pesquisa manual.\n",
        "    \"\"\"\n",
        "    def __init__(self, modelo_llm: genai.GenerativeModel):\n",
        "        if modelo_llm is None:\n",
        "            raise ValueError(\"O modelo LLM (Gemini) não pode ser None para este agente.\")\n",
        "        self.modelo = modelo_llm\n",
        "        self.safety_settings = [ # Configurações de segurança para o Gemini\n",
        "            {\"category\": \"HARM_CATEGORY_HARASSMENT\", \"threshold\": \"BLOCK_MEDIUM_AND_ABOVE\"},\n",
        "            {\"category\": \"HARM_CATEGORY_HATE_SPEECH\", \"threshold\": \"BLOCK_MEDIUM_AND_ABOVE\"},\n",
        "            {\"category\": \"HARM_CATEGORY_SEXUALLY_EXPLICIT\", \"threshold\": \"BLOCK_MEDIUM_AND_ABOVE\"},\n",
        "            {\"category\": \"HARM_CATEGORY_DANGEROUS_CONTENT\", \"threshold\": \"BLOCK_MEDIUM_AND_ABOVE\"},\n",
        "        ]\n",
        "\n",
        "    def _obter_sugestoes_gemini(self, cidade: str, pais: str, top_n: int = 15) -> list[dict]:\n",
        "        \"\"\"\n",
        "        Ferramenta interna do agente para consultar o Gemini sobre atrações.\n",
        "        \"\"\"\n",
        "        display(Markdown(f\"🧠 *Agente consultando Gemini sobre atrações em: **{cidade}, {pais}** (Top {top_n})...*\"))\n",
        "\n",
        "        prompt = f\"\"\"\n",
        "        Você é um assistente de planejamento de viagens altamente especializado e eficiente.\n",
        "        Sua tarefa é identificar as {top_n} principais e mais recomendadas atrações turísticas para a cidade de {cidade}, localizada em {pais}.\n",
        "\n",
        "        Critérios para sua seleção:\n",
        "        1.  **Popularidade e Reconhecimento:** Atrações bem conhecidas e frequentemente visitadas.\n",
        "        2.  **Qualidade das Avaliações:** Lugares geralmente com avaliações positivas (ex: acima de 4.0/5 estrelas).\n",
        "        3.  **Relevância Cultural/Histórica:** Locais com significado importante.\n",
        "        4.  **Diversidade de Experiências:** Inclua uma mistura de tipos, como museus, monumentos, parques, mercados, igrejas/catedrais, mirantes, etc., quando apropriado para a cidade.\n",
        "        5.  **Singularidade:** Atrações que oferecem uma experiência única ou icônica da cidade/região.\n",
        "\n",
        "        Formato da Resposta:\n",
        "        Retorne **estritamente uma lista JSON**. Cada elemento da lista deve ser um dicionário representando uma atração,\n",
        "        contendo EXATAMENTE as seguintes chaves:\n",
        "        - \"nome\": (string) O nome oficial e completo da atração.\n",
        "        - \"tipo_principal\": (string) A categoria principal da atração (ex: \"Museu de Arte\", \"Catedral Gótica\", \"Parque Urbano\", \"Mercado Histórico\", \"Monumento Nacional\", \"Mirante Panorâmico\"). Seja específico.\n",
        "        - \"descricao_enxuta\": (string) Uma descrição concisa e informativa (1-2 frases) que justifique sua inclusão, destacando seus principais atrativos.\n",
        "        - \"avaliacao_geral\": (string, opcional) Uma estimativa da avaliação geral se for amplamente conhecida (ex: \"Excelente\", \"Muito Popular\", \"4.5/5 estrelas\"). Use \"N/A\" se não houver uma estimativa clara.\n",
        "        - \"destaque_principal\": (string) O motivo principal pelo qual um turista deveria visitar (ex: \"Vistas incríveis da cidade\", \"Coleção de arte renascentista\", \"Arquitetura impressionante\", \"Atmosfera vibrante\").\n",
        "\n",
        "        Exemplo de um item na lista JSON:\n",
        "        {{\n",
        "          \"nome\": \"Museu do Louvre\",\n",
        "          \"tipo_principal\": \"Museu de Arte e Antiguidades\",\n",
        "          \"descricao_enxuta\": \"Um dos maiores e mais visitados museus do mundo, lar de obras-primas como a Mona Lisa e a Vênus de Milo.\",\n",
        "          \"avaliacao_geral\": \"4.7/5 estrelas\",\n",
        "          \"destaque_principal\": \"Coleção de arte de renome mundial\"\n",
        "        }}\n",
        "\n",
        "        Garanta que a saída seja SOMENTE a lista JSON, sem nenhum texto introdutório, comentários ou formatação adicional.\n",
        "        \"\"\"\n",
        "\n",
        "        try:\n",
        "            response = self.modelo.generate_content(\n",
        "                prompt,\n",
        "                generation_config=genai.types.GenerationConfig(\n",
        "                    temperature=0.4, # Um pouco mais factual, menos aleatório\n",
        "                    max_output_tokens=3072 # Espaço suficiente para a lista JSON\n",
        "                ),\n",
        "                safety_settings=self.safety_settings\n",
        "            )\n",
        "\n",
        "            json_text = response.text.strip()\n",
        "            # Tentativa robusta de extrair JSON, mesmo que o modelo adicione ```json ... ```\n",
        "            if json_text.startswith(\"```json\"):\n",
        "                json_text = json_text[7:]\n",
        "            if json_text.endswith(\"```\"):\n",
        "                json_text = json_text[:-3]\n",
        "            json_text = json_text.strip()\n",
        "\n",
        "            if not json_text:\n",
        "                display(Markdown(f\"<font color='orange'>Aviso: Gemini retornou uma resposta vazia para {cidade}.</font>\"))\n",
        "                return []\n",
        "\n",
        "            atracoes = json.loads(json_text)\n",
        "            # Garantir que é uma lista, mesmo que o Gemini retorne algo diferente\n",
        "            if not isinstance(atracoes, list):\n",
        "                 display(Markdown(f\"<font color='orange'>Aviso: Gemini retornou um formato inesperado (não uma lista) para {cidade}.</font>\"))\n",
        "                 return []\n",
        "\n",
        "            display(Markdown(f\"✅ *Gemini retornou {len(atracoes)} sugestões de atrações para {cidade}.*\"))\n",
        "            return atracoes[:top_n]\n",
        "        except json.JSONDecodeError as e:\n",
        "            display(Markdown(f\"<font color='red'>**Erro (JSONDecodeError) ao processar resposta do Gemini para {cidade}:** {e}. \"\n",
        "                             \"Isso geralmente ocorre se o modelo não retornar um JSON válido.</font>\"))\n",
        "            if hasattr(response, 'text'):\n",
        "                display(Markdown(f\"<pre>Resposta Bruta do Gemini:\\n{response.text}</pre>\"))\n",
        "            else:\n",
        "                 display(Markdown(f\"<pre>Nenhuma resposta de texto recebida do Gemini.</pre>\"))\n",
        "            return []\n",
        "        except Exception as e:\n",
        "            # Captura de erros mais genéricos, como problemas de API (quota, etc.)\n",
        "            # ou bloqueios de segurança não esperados.\n",
        "            display(Markdown(f\"<font color='red'>**Erro inesperado ao consultar Gemini para {cidade}:** {e}</font>\"))\n",
        "            if hasattr(response, 'prompt_feedback'):\n",
        "                display(Markdown(f\"Feedback do Prompt: {response.prompt_feedback}\"))\n",
        "            return []\n",
        "\n",
        "    def pesquisar_destino(self, cidade: str, pais: str, top_n_sugestoes: int = 15) -> dict:\n",
        "        \"\"\"\n",
        "        Executa a pesquisa de atrações para um destino específico.\n",
        "        \"\"\"\n",
        "        display(Markdown(f\"\\n### 🌍 Agente Iniciando Pesquisa para: **{cidade}, {pais}**\"))\n",
        "\n",
        "        links = gerar_links_pesquisa_google(cidade, pais)\n",
        "        sugestoes_gemini = self._obter_sugestoes_gemini(cidade, pais, top_n=top_n_sugestoes)\n",
        "\n",
        "        display(Markdown(f\"--- Pesquisa para **{cidade}, {pais}** finalizada pelo agente. ---\"))\n",
        "        return {\n",
        "            \"cidade\": cidade,\n",
        "            \"pais\": pais,\n",
        "            \"link_google_search\": links[0],\n",
        "            \"link_google_maps_atracoes\": links[1],\n",
        "            \"link_google_maps_cidade\": links[2],\n",
        "            \"sugestoes_gemini\": sugestoes_gemini\n",
        "        }\n",
        "\n",
        "# --- Definição do Agente Montador de Roteiros ---\n",
        "\n",
        "class MontadorDeRoteiros:\n",
        "    \"\"\"\n",
        "    Um agente responsável por organizar as atrações por dia, considerando proximidade,\n",
        "    hospedagem como ponto de partida/chegada, e adicionando elementos para tornar o roteiro prazeroso e divertido.\n",
        "    \"\"\"\n",
        "    def __init__(self, modelo_llm: genai.GenerativeModel):\n",
        "        if modelo_llm is None:\n",
        "            raise ValueError(\"O modelo LLM (Gemini) não pode ser None para este agente.\")\n",
        "        self.modelo = modelo_llm\n",
        "        self.safety_settings = [ # Configurações de segurança para o Gemini\n",
        "            {\"category\": \"HARM_CATEGORY_HARASSMENT\", \"threshold\": \"BLOCK_MEDIUM_AND_ABOVE\"},\n",
        "            {\"category\": \"HARM_CATEGORY_HATE_SPEECH\", \"threshold\": \"BLOCK_MEDIUM_AND_ABOVE\"},\n",
        "            {\"category\": \"HARM_CATEGORY_SEXUALLY_EXPLICIT\", \"threshold\": \"BLOCK_MEDIUM_AND_ABOVE\"},\n",
        "            {\"category\": \"HARM_CATEGORY_DANGEROUS_CONTENT\", \"threshold\": \"BLOCK_MEDIUM_AND_ABOVE\"},\n",
        "        ]\n",
        "\n",
        "    def montar_roteiro(self, cidade: str, pais: str, atracoes: list, hospedagem: str, data_chegada: str, data_partida: str) -> dict:\n",
        "        \"\"\"\n",
        "        Monta um roteiro diário otimizado para as atrações, considerando a hospedagem e datas.\n",
        "        \"\"\"\n",
        "        from datetime import datetime\n",
        "        delta = datetime.strptime(data_partida, \"%Y-%m-%d\") - datetime.strptime(data_chegada, \"%Y-%m-%d\")\n",
        "        dias_viagem = delta.days + 1 # Inclui o dia de chegada e partida\n",
        "\n",
        "        atracoes_str = json.dumps(atracoes, ensure_ascii=False, indent=2)\n",
        "\n",
        "        prompt = f\"\"\"\n",
        "        Você é um especialista em planejamento de roteiros de viagem, focado em otimização e experiência do viajante.\n",
        "        Sua tarefa é criar um roteiro diário detalhado para uma viagem a {cidade}, {pais}, com base nas atrações fornecidas.\n",
        "        A viagem será de {data_chegada} a {data_partida}, totalizando {dias_viagem} dias.\n",
        "        A hospedagem principal é em: {hospedagem}.\n",
        "\n",
        "        Atrações disponíveis (formato JSON):\n",
        "{atracoes_str}\n",
        "\n",
        "        Critérios para o Roteiro:\n",
        "        1.  **Otimização Geográfica:** Agrupe atrações próximas no mesmo dia para minimizar deslocamentos.\n",
        "        2.  **Fluxo Lógico:** Organize as visitas de forma sequencial e eficiente.\n",
        "        3.  **Ritmo Agradável:** Considere tempos de deslocamento, duração estimada das visitas e pausas (almoço, descanso). Evite sobrecarregar os dias.\n",
        "        4.  **Hospedagem como Base:** O roteiro deve idealmente começar e terminar o dia próximo à área da hospedagem, se possível.\n",
        "        5.  **Flexibilidade:** Mencione que o roteiro é uma sugestão e pode ser adaptado.\n",
        "        6.  **Sugestões Adicionais:** Inclua sugestões gerais de onde comer na região das atrações do dia, ou atividades noturnas, se apropriado para a cidade.\n",
        "        7.  **Formato Diário:** Organize a saída por dia da viagem.\n",
        "\n",
        "        Formato da Resposta:\n",
        "        Retorne **estritamente uma lista JSON**. Cada elemento da lista deve ser um dicionário representando um dia do roteiro,\n",
        "        contendo EXATAMENTE as seguintes chaves:\n",
        "        - \"dia\": (integer) O número do dia da viagem (começando em 1).\n",
        "        - \"data\": (string) A data correspondente ao dia do roteiro no formato YYYY-MM-DD.\n",
        "        - \"atividades_sugeridas\": (lista de strings) Uma lista ordenada das atrações e atividades sugeridas para este dia, com descrições concisas (ex: \"Visitar o Museu do Louvre (reservar 3-4 horas)\", \"Passeio pelo Jardim de Tuileries (1-2 horas)\", \"Almoço na região do museu\"). Inclua tempos estimados ou sugestões de duração quando possível.\n",
        "        - \"observacoes\": (string) Sugestões adicionais para o dia, como opções de transporte, áreas para almoço/jantar, ou dicas específicas para as atrações do dia. Use \"N/A\" se não houver observações relevantes.\n",
        "\n",
        "        Exemplo de um item na lista JSON:\n",
        "        {{\n",
        "          \"dia\": 1,\n",
        "          \"data\": \"{data_chegada}\",\n",
        "          \"atividades_sugeridas\": [\n",
        "            \"Chegada e check-in na hospedagem ({hospedagem})\",\n",
        "            \"Passeio exploratório pela vizinhança da hospedagem\",\n",
        "            \"Jantar em um restaurante local\"\n",
        "          ],\n",
        "          \"observacoes\": \"Aproveite para se ambientar na área.\"\n",
        "        }}\n",
        "\n",
        "        Garanta que a saída seja SOMENTE a lista JSON, sem nenhum texto introdutório, comentários ou formatação adicional.\n",
        "        \"\"\"\n",
        "\n",
        "        display(Markdown(f\"🧠 *Agente montando roteiro para: **{cidade}, {pais}** ({dias_viagem} dias)...*\"))\n",
        "\n",
        "        try:\n",
        "            response = self.modelo.generate_content(\n",
        "                prompt,\n",
        "                generation_config=genai.types.GenerationConfig(\n",
        "                    temperature=0.7, # Um pouco mais criativo para o roteiro\n",
        "                    max_output_tokens=4096 # Espaço suficiente para o roteiro completo\n",
        "                ),\n",
        "                safety_settings=self.safety_settings\n",
        "            )\n",
        "\n",
        "            roteiro_text = response.text.strip()\n",
        "            # Tentativa robusta de extrair JSON\n",
        "            if roteiro_text.startswith(\"```json\"):\n",
        "                roteiro_text = roteiro_text[7:]\n",
        "            if roteiro_text.endswith(\"```\"):\n",
        "                roteiro_text = roteiro_text[:-3]\n",
        "            roteiro_text = roteiro_text.strip()\n",
        "\n",
        "\n",
        "            if not roteiro_text:\n",
        "                 display(Markdown(f\"<font color='orange'>Aviso: Gemini retornou uma resposta vazia ao tentar montar o roteiro para {cidade}.</font>\"))\n",
        "                 return {\"erro\": \"resposta vazia do Gemini\"}\n",
        "\n",
        "\n",
        "            roteiro = json.loads(roteiro_text)\n",
        "            if not isinstance(roteiro, list):\n",
        "                 display(Markdown(f\"<font color='orange'>Aviso: Gemini retornou um formato inesperado (não uma lista) para o roteiro de {cidade}.</font>\"))\n",
        "                 return {\"erro\": \"formato inesperado do Gemini\"}\n",
        "\n",
        "            display(Markdown(f\"✅ *Gemini montou um roteiro com {len(roteiro)} dias para {cidade}.*\"))\n",
        "            return {\"roteiro\": roteiro}\n",
        "\n",
        "        except json.JSONDecodeError as e:\n",
        "            display(Markdown(f\"<font color='red'>**Erro (JSONDecodeError) ao processar resposta do Gemini para o roteiro de {cidade}:** {e}. \"\n",
        "                             \"Isso geralmente ocorre se o modelo não retornar um JSON válido.</font>\"))\n",
        "            if hasattr(response, 'text'):\n",
        "                display(Markdown(f\"<pre>Resposta Bruta do Gemini:\\n{response.text}</pre>\"))\n",
        "            else:\n",
        "                 display(Markdown(f\"<pre>Nenhuma resposta de texto recebida do Gemini.</pre>\"))\n",
        "            return {\"erro\": f\"JSONDecodeError: {e}\"}\n",
        "        except Exception as e:\n",
        "            display(Markdown(f\"<font color='red'>**Erro inesperado ao consultar Gemini para montar o roteiro de {cidade}:** {e}</font>\"))\n",
        "            if hasattr(response, 'prompt_feedback'):\n",
        "                display(Markdown(f\"Feedback do Prompt: {response.prompt_feedback}\"))\n",
        "            return {\"erro\": f\"Erro inesperado: {e}\"}\n",
        "\n",
        "\n",
        "class AgenteOtimizadorRoteiros:\n",
        "    def __init__(self, modelo_llm: genai.GenerativeModel):\n",
        "        if modelo_llm is None:\n",
        "            raise ValueError(\"O modelo LLM (Gemini) não pode ser None para este agente.\")\n",
        "        self.modelo = modelo_llm\n",
        "        self.safety_settings = [\n",
        "            {\"category\": \"HARM_CATEGORY_HARASSMENT\", \"threshold\": \"BLOCK_MEDIUM_AND_ABOVE\"},\n",
        "            {\"category\": \"HARM_CATEGORY_HATE_SPEECH\", \"threshold\": \"BLOCK_MEDIUM_AND_ABOVE\"},\n",
        "            {\"category\": \"HARM_CATEGORY_SEXUALLY_EXPLICIT\", \"threshold\": \"BLOCK_MEDIUM_AND_ABOVE\"},\n",
        "            {\"category\": \"HARM_CATEGORY_DANGEROUS_CONTENT\", \"threshold\": \"BLOCK_MEDIUM_AND_ABOVE\"},\n",
        "        ]\n",
        "\n",
        "    def otimizar_roteiro(self, roteiro_original: list, cidade: str, pais: str, hospedagem: str, data_chegada: str, data_partida: str) -> dict:\n",
        "        display(Markdown(f\"🧠 *Agente Otimizador revisando roteiro para: **{cidade}, {pais}**...*\"))\n",
        "        roteiro_str = json.dumps(roteiro_original, ensure_ascii=False, indent=2)\n",
        "\n",
        "        prompt = f\"\"\"\n",
        "Você é um Agente Otimizador de Roteiros de Viagem, especialista em logística e experiência do viajante.\n",
        "Sua missão é revisar e otimizar um roteiro de viagem existente para {cidade}, {pais}, com base nos seguintes critérios:\n",
        "\n",
        "Roteiro Original (JSON):\n",
        "{roteiro_str}\n",
        "\n",
        "Critérios de Otimização:\n",
        "1.  **Melhoria do Fluxo:** Reorganize as atividades dentro de cada dia ou entre dias para criar um fluxo mais lógico e eficiente, minimizando o tempo de deslocamento.\n",
        "2.  **Balanceamento:** Distribua as atividades de forma mais equilibrada ao longo dos dias, evitando dias excessivamente cheios ou vazios.\n",
        "3.  **Considerar Horários:** Leve em conta horários de funcionamento de atrações, horários de pico e o melhor momento do dia para visitar certos locais (ex: pôr do sol em um mirante).\n",
        "4.  **Sugestões de Transição:** Adicione sugestões sobre como se deslocar entre as atrações (transporte público, caminhada, táxi) e tempos estimados.\n",
        "5.  **Refinar Sugestões Adicionais:** Melhore as sugestões de alimentação e atividades noturnas com base no roteiro otimizado.\n",
        "6.  **Formato de Saída:** Mantenha o mesmo formato JSON da lista de dias, mas com as atividades e observações revisadas.\n",
        "\n",
        "Formato da Resposta:\n",
        "Retorne **estritamente uma lista JSON**, seguindo o mesmo formato descrito para o roteiro original,\n",
        "mas com as otimizações aplicadas.\n",
        "\n",
        "Exemplo de um item otimizado na lista JSON:\n",
        "{{\n",
        "  \"dia\": 1,\n",
        "  \"data\": \"{data_chegada}\",\n",
        "  \"atividades_sugeridas\": [\n",
        "    \"Chegada no aeroporto, traslado para a hospedagem ({hospedagem})\",\n",
        "    \"Check-in e breve descanso\",\n",
        "    \"Passeio a pé pela área histórica próxima à hospedagem (1-2 horas)\",\n",
        "    \"Jantar em um restaurante recomendado na vizinhança\"\n",
        "  ],\n",
        "  \"observacoes\": \"Considere usar transporte público ou táxi do aeroporto. Explore a pé a área ao redor do hotel para se familiarizar com o local.\"\n",
        "}}\n",
        "\n",
        "Garanta que a saída seja SOMENTE a lista JSON, sem nenhum texto introdutório, comentários ou formatação adicional.\n",
        "\"\"\"\n",
        "\n",
        "        try:\n",
        "            response = self.modelo.generate_content(\n",
        "                prompt,\n",
        "                generation_config=genai.types.GenerationConfig(\n",
        "                    temperature=0.8, # Um pouco mais criativo para otimizar\n",
        "                    max_output_tokens=4096 # Espaço suficiente para o roteiro completo\n",
        "                ),\n",
        "                safety_settings=self.safety_settings\n",
        "            )\n",
        "\n",
        "            roteiro_otimizado_text = response.text.strip()\n",
        "            # Tentativa robusta de extrair JSON\n",
        "            if roteiro_otimizado_text.startswith(\"```json\"):\n",
        "                roteiro_otimizado_text = roteiro_otimizado_text[7:]\n",
        "            if roteiro_otimizado_text.endswith(\"```\"):\n",
        "                roteiro_otimizado_text = roteiro_otimizado_text[:-3]\n",
        "            roteiro_otimizado_text = roteiro_otimizado_text.strip()\n",
        "\n",
        "            if not roteiro_otimizado_text:\n",
        "                 display(Markdown(f\"<font color='orange'>Aviso: Gemini retornou uma resposta vazia ao tentar otimizar o roteiro para {cidade}.</font>\"))\n",
        "                 return {\"erro\": \"resposta vazia do Gemini\"}\n",
        "\n",
        "            roteiro_otimizado = json.loads(roteiro_otimizado_text)\n",
        "            if not isinstance(roteiro_otimizado, list):\n",
        "                 display(Markdown(f\"<font color='orange'>Aviso: Gemini retornou um formato inesperado (não uma lista) para o roteiro otimizado de {cidade}.</font>\"))\n",
        "                 return {\"erro\": \"formato inesperado do Gemini\"}\n",
        "\n",
        "            display(Markdown(f\"✅ *Gemini otimizou o roteiro com {len(roteiro_otimizado)} dias para {cidade}.*\"))\n",
        "            return {\"roteiro_otimizado\": roteiro_otimizado}\n",
        "\n",
        "        except json.JSONDecodeError as e:\n",
        "            display(Markdown(f\"<font color='red'>**Erro (JSONDecodeError) ao processar resposta do Gemini para o roteiro otimizado de {cidade}:** {e}. \"\n",
        "                             \"Isso geralmente ocorre se o modelo não retornar um JSON válido.</font>\"))\n",
        "            if hasattr(response, 'text'):\n",
        "                display(Markdown(f\"<pre>Resposta Bruta do Gemini:\\n{response.text}</pre>\"))\n",
        "            else:\n",
        "                 display(Markdown(f\"<pre>Nenhuma resposta de texto recebida do Gemini.</pre>\"))\n",
        "            return {\"erro\": f\"JSONDecodeError: {e}\"}\n",
        "        except Exception as e:\n",
        "            display(Markdown(f\"<font color='red'>**Erro inesperado ao consultar Gemini para otimizar o roteiro de {cidade}:** {e}</font>\"))\n",
        "            if hasattr(response, 'prompt_feedback'):\n",
        "                display(Markdown(f\"Feedback do Prompt: {response.prompt_feedback}\"))\n",
        "            return {\"erro\": f\"Erro inesperado: {e}\"}\n",
        "# ----------\n",
        "def executar_planejador_viagem(caminho_arquivo_csv: str) -> list:\n",
        "    \"\"\"\n",
        "    Orquestra o processo de planejamento de viagem: carrega dados, pesquisa atrações\n",
        "    e monta roteiros para cada destino no arquivo CSV.\n",
        "    \"\"\"\n",
        "    display(Markdown(\"## ✈️ Iniciando Planejamento de Viagem...\"))\n",
        "\n",
        "    # 1. Carregar os dados de viagem\n",
        "    df_viagens = carregar_dados_viagem(caminho_arquivo_csv)\n",
        "    if df_viagens is None or df_viagens.empty:\n",
        "        display(Markdown(\"<font color='red'>**Erro: Não foi possível carregar os dados de viagem ou o arquivo está vazio.**</font>\"))\n",
        "        return []\n",
        "\n",
        "    # Garantir que o modelo Gemini esteja configurado\n",
        "    if gemini_model_instance is None:\n",
        "         display(Markdown(\"<font color='red'>**Erro: O modelo Gemini não foi configurado corretamente. O planejamento não pode continuar.**</font>\"))\n",
        "         return []\n",
        "\n",
        "    agente_pesquisador = AgentePesquisadorAtracoes(gemini_model_instance)\n",
        "    agente_roteirista = MontadorDeRoteiros(gemini_model_instance)\n",
        "    agente_otimizador = AgenteOtimizadorRoteiros(gemini_model_instance)\n",
        "\n",
        "\n",
        "    resultados_viagem = []\n",
        "\n",
        "    # Iterar sobre cada linha do DataFrame (cada destino)\n",
        "    for index, linha in df_viagens.iterrows():\n",
        "        cidade = linha['cidade']\n",
        "        pais = linha['pais']\n",
        "        data_chegada = linha['data_chegada']\n",
        "        data_partida = linha['data_partida']\n",
        "        hospedagem = linha['hospedagem']\n",
        "\n",
        "        display(Markdown(f\"\\n--- Processando Destino: **{cidade}, {pais}** ---\"))\n",
        "\n",
        "        # Validar datas\n",
        "        try:\n",
        "            datetime.strptime(data_chegada, \"%Y-%m-%d\")\n",
        "            datetime.strptime(data_partida, \"%Y-%m-%d\")\n",
        "            if datetime.strptime(data_chegada, \"%Y-%m-%d\") > datetime.strptime(data_partida, \"%Y-%m-%d\"):\n",
        "                 display(Markdown(f\"<font color='orange'>Aviso: Data de chegada ({data_chegada}) é posterior à data de partida ({data_partida}) para {cidade}. Pulando este destino.</font>\"))\n",
        "                 continue # Pula para o próximo destino\n",
        "        except ValueError:\n",
        "            display(Markdown(f\"<font color='orange'>Aviso: Formato de data inválido para {cidade}. Esperado YYYY-MM-DD. Pulando este destino.</font>\"))\n",
        "            continue # Pula para o próximo destino\n",
        "\n",
        "\n",
        "        # 2. Pesquisar atrações com o Agente Pesquisador\n",
        "        resultado_pesquisa = agente_pesquisador.pesquisar_destino(cidade, pais)\n",
        "        sugestoes_atracoes = resultado_pesquisa.get(\"sugestoes_gemini\", [])\n",
        "\n",
        "        if not sugestoes_atracoes:\n",
        "            display(Markdown(f\"<font color='orange'>Aviso: Nenhuma sugestão de atração encontrada para {cidade}. Não será possível montar um roteiro detalhado.</font>\"))\n",
        "            # Ainda armazena os links e info básica\n",
        "            resultados_viagem.append({\n",
        "                \"cidade\": cidade,\n",
        "                \"pais\": pais,\n",
        "                \"data_chegada\": data_chegada,\n",
        "                \"data_partida\": data_partida,\n",
        "                \"hospedagem\": hospedagem,\n",
        "                \"pesquisa\": resultado_pesquisa,\n",
        "                \"roteiro\": None, # Indica que o roteiro não pôde ser gerado\n",
        "                \"roteiro_otimizado\": None # Indica que o roteiro otimizado não pôde ser gerado\n",
        "            })\n",
        "            continue # Pula para o próximo destino\n",
        "\n",
        "        # 3. Montar o roteiro inicial com o Agente Montador\n",
        "        resultado_roteiro_inicial = agente_roteirista.montar_roteiro(\n",
        "            cidade, pais, sugestoes_atracoes, hospedagem, data_chegada, data_partida\n",
        "        )\n",
        "\n",
        "        roteiro_final = None\n",
        "        if resultado_roteiro_inicial and resultado_roteiro_inicial.get(\"roteiro\"):\n",
        "            # 4. Otimizar o roteiro com o Agente Otimizador\n",
        "            resultado_roteiro_otimizado = agente_otimizador.otimizar_roteiro(\n",
        "                resultado_roteiro_inicial[\"roteiro\"], cidade, pais, hospedagem, data_chegada, data_partida\n",
        "            )\n",
        "            roteiro_final = resultado_roteiro_otimizado.get(\"roteiro_otimizado\")\n",
        "            if not roteiro_final:\n",
        "                 display(Markdown(f\"<font color='orange'>Aviso: Não foi possível otimizar o roteiro para {cidade}. Usando o roteiro inicial (se disponível).</font>\"))\n",
        "                 roteiro_final = resultado_roteiro_inicial.get(\"roteiro\") # Fallback para roteiro inicial\n",
        "\n",
        "\n",
        "        # Armazenar os resultados para este destino\n",
        "        resultados_viagem.append({\n",
        "            \"cidade\": cidade,\n",
        "            \"pais\": pais,\n",
        "            \"data_chegada\": data_chegada,\n",
        "            \"data_partida\": data_partida,\n",
        "            \"hospedagem\": hospedagem,\n",
        "            \"pesquisa\": resultado_pesquisa,\n",
        "            \"roteiro\": resultado_roteiro_inicial.get(\"roteiro\") if resultado_roteiro_inicial else None,\n",
        "            \"roteiro_otimizado\": roteiro_final\n",
        "        })\n",
        "\n",
        "    display(Markdown(\"\\n## ✅ Planejamento de Viagem Concluído!\"))\n",
        "    return resultados_viagem"
      ],
      "outputs": [
        {
          "output_type": "display_data",
          "data": {
            "text/plain": [
              "<IPython.core.display.Markdown object>"
            ],
            "text/markdown": "✅ *SDK do Gemini e modelo (`gemini-1.5-flash-latest`) configurados com sucesso.*"
          },
          "metadata": {}
        }
      ],
      "execution_count": 1
    },
    {
      "cell_type": "code",
      "metadata": {
        "colab": {
          "base_uri": "https://localhost:8080/",
          "height": 945
        },
        "id": "Kvuz9kOCUUZ0",
        "outputId": "75d2148c-58ef-453a-83b1-f8a1ff896708"
      },
      "source": [
        "dados_finais_viagem = dados_compilados = executar_planejador_viagem(\"/content/europa.csv\")"
      ],
      "outputs": [
        {
          "output_type": "display_data",
          "data": {
            "text/plain": [
              "<IPython.core.display.Markdown object>"
            ],
            "text/markdown": "## ✈️ Iniciando Planejamento de Viagem..."
          },
          "metadata": {}
        },
        {
          "output_type": "display_data",
          "data": {
            "text/plain": [
              "<IPython.core.display.Markdown object>"
            ],
            "text/markdown": "### Arquivo de Viagem (`/content/europa.csv`)"
          },
          "metadata": {}
        },
        {
          "output_type": "display_data",
          "data": {
            "text/plain": [
              "     cidade     pais data_chegada data_partida                   hospedagem\n",
              "0      Roma   Itália   2025-09-13   2025-09-16  Via Candia n.143 CAP: 00192\n",
              "1  Florença   Itália   2025-09-16   2025-09-19                 Hotel Bodoni\n",
              "2     Viena  Aústria   2025-09-20   2025-09-24           Hotel-Pension Wild"
            ],
            "text/html": [
              "\n",
              "  <div id=\"df-8a17ed03-8b80-4929-99f6-9cc2d256021c\" class=\"colab-df-container\">\n",
              "    <div>\n",
              "<style scoped>\n",
              "    .dataframe tbody tr th:only-of-type {\n",
              "        vertical-align: middle;\n",
              "    }\n",
              "\n",
              "    .dataframe tbody tr th {\n",
              "        vertical-align: top;\n",
              "    }\n",
              "\n",
              "    .dataframe thead th {\n",
              "        text-align: right;\n",
              "    }\n",
              "</style>\n",
              "<table border=\"1\" class=\"dataframe\">\n",
              "  <thead>\n",
              "    <tr style=\"text-align: right;\">\n",
              "      <th></th>\n",
              "      <th>cidade</th>\n",
              "      <th>pais</th>\n",
              "      <th>data_chegada</th>\n",
              "      <th>data_partida</th>\n",
              "      <th>hospedagem</th>\n",
              "    </tr>\n",
              "  </thead>\n",
              "  <tbody>\n",
              "    <tr>\n",
              "      <th>0</th>\n",
              "      <td>Roma</td>\n",
              "      <td>Itália</td>\n",
              "      <td>2025-09-13</td>\n",
              "      <td>2025-09-16</td>\n",
              "      <td>Via Candia n.143 CAP: 00192</td>\n",
              "    </tr>\n",
              "    <tr>\n",
              "      <th>1</th>\n",
              "      <td>Florença</td>\n",
              "      <td>Itália</td>\n",
              "      <td>2025-09-16</td>\n",
              "      <td>2025-09-19</td>\n",
              "      <td>Hotel Bodoni</td>\n",
              "    </tr>\n",
              "    <tr>\n",
              "      <th>2</th>\n",
              "      <td>Viena</td>\n",
              "      <td>Aústria</td>\n",
              "      <td>2025-09-20</td>\n",
              "      <td>2025-09-24</td>\n",
              "      <td>Hotel-Pension Wild</td>\n",
              "    </tr>\n",
              "  </tbody>\n",
              "</table>\n",
              "</div>\n",
              "    <div class=\"colab-df-buttons\">\n",
              "\n",
              "  <div class=\"colab-df-container\">\n",
              "    <button class=\"colab-df-convert\" onclick=\"convertToInteractive('df-8a17ed03-8b80-4929-99f6-9cc2d256021c')\"\n",
              "            title=\"Convert this dataframe to an interactive table.\"\n",
              "            style=\"display:none;\">\n",
              "\n",
              "  <svg xmlns=\"http://www.w3.org/2000/svg\" height=\"24px\" viewBox=\"0 -960 960 960\">\n",
              "    <path d=\"M120-120v-720h720v720H120Zm60-500h600v-160H180v160Zm220 220h160v-160H400v160Zm0 220h160v-160H400v160ZM180-400h160v-160H180v160Zm440 0h160v-160H620v160ZM180-180h160v-160H180v160Zm440 0h160v-160H620v160Z\"/>\n",
              "  </svg>\n",
              "    </button>\n",
              "\n",
              "  <style>\n",
              "    .colab-df-container {\n",
              "      display:flex;\n",
              "      gap: 12px;\n",
              "    }\n",
              "\n",
              "    .colab-df-convert {\n",
              "      background-color: #E8F0FE;\n",
              "      border: none;\n",
              "      border-radius: 50%;\n",
              "      cursor: pointer;\n",
              "      display: none;\n",
              "      fill: #1967D2;\n",
              "      height: 32px;\n",
              "      padding: 0 0 0 0;\n",
              "      width: 32px;\n",
              "    }\n",
              "\n",
              "    .colab-df-convert:hover {\n",
              "      background-color: #E2EBFA;\n",
              "      box-shadow: 0px 1px 2px rgba(60, 64, 67, 0.3), 0px 1px 3px 1px rgba(60, 64, 67, 0.15);\n",
              "      fill: #174EA6;\n",
              "    }\n",
              "\n",
              "    .colab-df-buttons div {\n",
              "      margin-bottom: 4px;\n",
              "    }\n",
              "\n",
              "    [theme=dark] .colab-df-convert {\n",
              "      background-color: #3B4455;\n",
              "      fill: #D2E3FC;\n",
              "    }\n",
              "\n",
              "    [theme=dark] .colab-df-convert:hover {\n",
              "      background-color: #434B5C;\n",
              "      box-shadow: 0px 1px 3px 1px rgba(0, 0, 0, 0.15);\n",
              "      filter: drop-shadow(0px 1px 2px rgba(0, 0, 0, 0.3));\n",
              "      fill: #FFFFFF;\n",
              "    }\n",
              "  </style>\n",
              "\n",
              "    <script>\n",
              "      const buttonEl =\n",
              "        document.querySelector('#df-8a17ed03-8b80-4929-99f6-9cc2d256021c button.colab-df-convert');\n",
              "      buttonEl.style.display =\n",
              "        google.colab.kernel.accessAllowed ? 'block' : 'none';\n",
              "\n",
              "      async function convertToInteractive(key) {\n",
              "        const element = document.querySelector('#df-8a17ed03-8b80-4929-99f6-9cc2d256021c');\n",
              "        const dataTable =\n",
              "          await google.colab.kernel.invokeFunction('convertToInteractive',\n",
              "                                                    [key], {});\n",
              "        if (!dataTable) return;\n",
              "\n",
              "        const docLinkHtml = 'Like what you see? Visit the ' +\n",
              "          '<a target=\"_blank\" href=https://colab.research.google.com/notebooks/data_table.ipynb>data table notebook</a>'\n",
              "          + ' to learn more about interactive tables.';\n",
              "        element.innerHTML = '';\n",
              "        dataTable['output_type'] = 'display_data';\n",
              "        await google.colab.output.renderOutput(dataTable, element);\n",
              "        const docLink = document.createElement('div');\n",
              "        docLink.innerHTML = docLinkHtml;\n",
              "        element.appendChild(docLink);\n",
              "      }\n",
              "    </script>\n",
              "  </div>\n",
              "\n",
              "\n",
              "    <div id=\"df-c2962001-8944-40ec-873a-5f1db9cc97a9\">\n",
              "      <button class=\"colab-df-quickchart\" onclick=\"quickchart('df-c2962001-8944-40ec-873a-5f1db9cc97a9')\"\n",
              "                title=\"Suggest charts\"\n",
              "                style=\"display:none;\">\n",
              "\n",
              "<svg xmlns=\"http://www.w3.org/2000/svg\" height=\"24px\"viewBox=\"0 0 24 24\"\n",
              "     width=\"24px\">\n",
              "    <g>\n",
              "        <path d=\"M19 3H5c-1.1 0-2 .9-2 2v14c0 1.1.9 2 2 2h14c1.1 0 2-.9 2-2V5c0-1.1-.9-2-2-2zM9 17H7v-7h2v7zm4 0h-2V7h2v10zm4 0h-2v-4h2v4z\"/>\n",
              "    </g>\n",
              "</svg>\n",
              "      </button>\n",
              "\n",
              "<style>\n",
              "  .colab-df-quickchart {\n",
              "      --bg-color: #E8F0FE;\n",
              "      --fill-color: #1967D2;\n",
              "      --hover-bg-color: #E2EBFA;\n",
              "      --hover-fill-color: #174EA6;\n",
              "      --disabled-fill-color: #AAA;\n",
              "      --disabled-bg-color: #DDD;\n",
              "  }\n",
              "\n",
              "  [theme=dark] .colab-df-quickchart {\n",
              "      --bg-color: #3B4455;\n",
              "      --fill-color: #D2E3FC;\n",
              "      --hover-bg-color: #434B5C;\n",
              "      --hover-fill-color: #FFFFFF;\n",
              "      --disabled-bg-color: #3B4455;\n",
              "      --disabled-fill-color: #666;\n",
              "  }\n",
              "\n",
              "  .colab-df-quickchart {\n",
              "    background-color: var(--bg-color);\n",
              "    border: none;\n",
              "    border-radius: 50%;\n",
              "    cursor: pointer;\n",
              "    display: none;\n",
              "    fill: var(--fill-color);\n",
              "    height: 32px;\n",
              "    padding: 0;\n",
              "    width: 32px;\n",
              "  }\n",
              "\n",
              "  .colab-df-quickchart:hover {\n",
              "    background-color: var(--hover-bg-color);\n",
              "    box-shadow: 0 1px 2px rgba(60, 64, 67, 0.3), 0 1px 3px 1px rgba(60, 64, 67, 0.15);\n",
              "    fill: var(--button-hover-fill-color);\n",
              "  }\n",
              "\n",
              "  .colab-df-quickchart-complete:disabled,\n",
              "  .colab-df-quickchart-complete:disabled:hover {\n",
              "    background-color: var(--disabled-bg-color);\n",
              "    fill: var(--disabled-fill-color);\n",
              "    box-shadow: none;\n",
              "  }\n",
              "\n",
              "  .colab-df-spinner {\n",
              "    border: 2px solid var(--fill-color);\n",
              "    border-color: transparent;\n",
              "    border-bottom-color: var(--fill-color);\n",
              "    animation:\n",
              "      spin 1s steps(1) infinite;\n",
              "  }\n",
              "\n",
              "  @keyframes spin {\n",
              "    0% {\n",
              "      border-color: transparent;\n",
              "      border-bottom-color: var(--fill-color);\n",
              "      border-left-color: var(--fill-color);\n",
              "    }\n",
              "    20% {\n",
              "      border-color: transparent;\n",
              "      border-left-color: var(--fill-color);\n",
              "      border-top-color: var(--fill-color);\n",
              "    }\n",
              "    30% {\n",
              "      border-color: transparent;\n",
              "      border-left-color: var(--fill-color);\n",
              "      border-top-color: var(--fill-color);\n",
              "      border-right-color: var(--fill-color);\n",
              "    }\n",
              "    40% {\n",
              "      border-color: transparent;\n",
              "      border-right-color: var(--fill-color);\n",
              "      border-top-color: var(--fill-color);\n",
              "    }\n",
              "    60% {\n",
              "      border-color: transparent;\n",
              "      border-right-color: var(--fill-color);\n",
              "    }\n",
              "    80% {\n",
              "      border-color: transparent;\n",
              "      border-right-color: var(--fill-color);\n",
              "      border-bottom-color: var(--fill-color);\n",
              "    }\n",
              "    90% {\n",
              "      border-color: transparent;\n",
              "      border-bottom-color: var(--fill-color);\n",
              "    }\n",
              "  }\n",
              "</style>\n",
              "\n",
              "      <script>\n",
              "        async function quickchart(key) {\n",
              "          const quickchartButtonEl =\n",
              "            document.querySelector('#' + key + ' button');\n",
              "          quickchartButtonEl.disabled = true;  // To prevent multiple clicks.\n",
              "          quickchartButtonEl.classList.add('colab-df-spinner');\n",
              "          try {\n",
              "            const charts = await google.colab.kernel.invokeFunction(\n",
              "                'suggestCharts', [key], {});\n",
              "          } catch (error) {\n",
              "            console.error('Error during call to suggestCharts:', error);\n",
              "          }\n",
              "          quickchartButtonEl.classList.remove('colab-df-spinner');\n",
              "          quickchartButtonEl.classList.add('colab-df-quickchart-complete');\n",
              "        }\n",
              "        (() => {\n",
              "          let quickchartButtonEl =\n",
              "            document.querySelector('#df-c2962001-8944-40ec-873a-5f1db9cc97a9 button');\n",
              "          quickchartButtonEl.style.display =\n",
              "            google.colab.kernel.accessAllowed ? 'block' : 'none';\n",
              "        })();\n",
              "      </script>\n",
              "    </div>\n",
              "\n",
              "    </div>\n",
              "  </div>\n"
            ],
            "application/vnd.google.colaboratory.intrinsic+json": {
              "type": "dataframe",
              "summary": "{\n  \"name\": \"dados_finais_viagem = dados_compilados = executar_planejador_viagem(\\\"/content/europa\",\n  \"rows\": 3,\n  \"fields\": [\n    {\n      \"column\": \"cidade\",\n      \"properties\": {\n        \"dtype\": \"string\",\n        \"num_unique_values\": 3,\n        \"samples\": [\n          \"Roma\",\n          \"Floren\\u00e7a\",\n          \"Viena\"\n        ],\n        \"semantic_type\": \"\",\n        \"description\": \"\"\n      }\n    },\n    {\n      \"column\": \"pais\",\n      \"properties\": {\n        \"dtype\": \"string\",\n        \"num_unique_values\": 2,\n        \"samples\": [\n          \"A\\u00fastria\",\n          \"It\\u00e1lia\"\n        ],\n        \"semantic_type\": \"\",\n        \"description\": \"\"\n      }\n    },\n    {\n      \"column\": \"data_chegada\",\n      \"properties\": {\n        \"dtype\": \"object\",\n        \"num_unique_values\": 3,\n        \"samples\": [\n          \"2025-09-13\",\n          \"2025-09-16\"\n        ],\n        \"semantic_type\": \"\",\n        \"description\": \"\"\n      }\n    },\n    {\n      \"column\": \"data_partida\",\n      \"properties\": {\n        \"dtype\": \"object\",\n        \"num_unique_values\": 3,\n        \"samples\": [\n          \"2025-09-16\",\n          \"2025-09-19\"\n        ],\n        \"semantic_type\": \"\",\n        \"description\": \"\"\n      }\n    },\n    {\n      \"column\": \"hospedagem\",\n      \"properties\": {\n        \"dtype\": \"string\",\n        \"num_unique_values\": 3,\n        \"samples\": [\n          \"Via Candia n.143 CAP: 00192\",\n          \"Hotel Bodoni\"\n        ],\n        \"semantic_type\": \"\",\n        \"description\": \"\"\n      }\n    }\n  ]\n}"
            }
          },
          "metadata": {}
        },
        {
          "output_type": "display_data",
          "data": {
            "text/plain": [
              "<IPython.core.display.Markdown object>"
            ],
            "text/markdown": "\n--- Processando Destino: **Roma, Itália** ---"
          },
          "metadata": {}
        },
        {
          "output_type": "display_data",
          "data": {
            "text/plain": [
              "<IPython.core.display.Markdown object>"
            ],
            "text/markdown": "\n### 🌍 Agente Iniciando Pesquisa para: **Roma, Itália**"
          },
          "metadata": {}
        },
        {
          "output_type": "display_data",
          "data": {
            "text/plain": [
              "<IPython.core.display.Markdown object>"
            ],
            "text/markdown": "🧠 *Agente consultando Gemini sobre atrações em: **Roma, Itália** (Top 15)...*"
          },
          "metadata": {}
        },
        {
          "output_type": "display_data",
          "data": {
            "text/plain": [
              "<IPython.core.display.Markdown object>"
            ],
            "text/markdown": "✅ *Gemini retornou 15 sugestões de atrações para Roma.*"
          },
          "metadata": {}
        },
        {
          "output_type": "display_data",
          "data": {
            "text/plain": [
              "<IPython.core.display.Markdown object>"
            ],
            "text/markdown": "--- Pesquisa para **Roma, Itália** finalizada pelo agente. ---"
          },
          "metadata": {}
        },
        {
          "output_type": "display_data",
          "data": {
            "text/plain": [
              "<IPython.core.display.Markdown object>"
            ],
            "text/markdown": "🧠 *Agente montando roteiro para: **Roma, Itália** (4 dias)...*"
          },
          "metadata": {}
        },
        {
          "output_type": "display_data",
          "data": {
            "text/plain": [
              "<IPython.core.display.Markdown object>"
            ],
            "text/markdown": "✅ *Gemini montou um roteiro com 4 dias para Roma.*"
          },
          "metadata": {}
        },
        {
          "output_type": "display_data",
          "data": {
            "text/plain": [
              "<IPython.core.display.Markdown object>"
            ],
            "text/markdown": "🧠 *Agente Otimizador revisando roteiro para: **Roma, Itália**...*"
          },
          "metadata": {}
        },
        {
          "output_type": "display_data",
          "data": {
            "text/plain": [
              "<IPython.core.display.Markdown object>"
            ],
            "text/markdown": "✅ *Gemini otimizou o roteiro com 4 dias para Roma.*"
          },
          "metadata": {}
        },
        {
          "output_type": "display_data",
          "data": {
            "text/plain": [
              "<IPython.core.display.Markdown object>"
            ],
            "text/markdown": "\n--- Processando Destino: **Florença, Itália** ---"
          },
          "metadata": {}
        },
        {
          "output_type": "display_data",
          "data": {
            "text/plain": [
              "<IPython.core.display.Markdown object>"
            ],
            "text/markdown": "\n### 🌍 Agente Iniciando Pesquisa para: **Florença, Itália**"
          },
          "metadata": {}
        },
        {
          "output_type": "display_data",
          "data": {
            "text/plain": [
              "<IPython.core.display.Markdown object>"
            ],
            "text/markdown": "🧠 *Agente consultando Gemini sobre atrações em: **Florença, Itália** (Top 15)...*"
          },
          "metadata": {}
        },
        {
          "output_type": "display_data",
          "data": {
            "text/plain": [
              "<IPython.core.display.Markdown object>"
            ],
            "text/markdown": "✅ *Gemini retornou 15 sugestões de atrações para Florença.*"
          },
          "metadata": {}
        },
        {
          "output_type": "display_data",
          "data": {
            "text/plain": [
              "<IPython.core.display.Markdown object>"
            ],
            "text/markdown": "--- Pesquisa para **Florença, Itália** finalizada pelo agente. ---"
          },
          "metadata": {}
        },
        {
          "output_type": "display_data",
          "data": {
            "text/plain": [
              "<IPython.core.display.Markdown object>"
            ],
            "text/markdown": "🧠 *Agente montando roteiro para: **Florença, Itália** (4 dias)...*"
          },
          "metadata": {}
        },
        {
          "output_type": "display_data",
          "data": {
            "text/plain": [
              "<IPython.core.display.Markdown object>"
            ],
            "text/markdown": "✅ *Gemini montou um roteiro com 4 dias para Florença.*"
          },
          "metadata": {}
        },
        {
          "output_type": "display_data",
          "data": {
            "text/plain": [
              "<IPython.core.display.Markdown object>"
            ],
            "text/markdown": "🧠 *Agente Otimizador revisando roteiro para: **Florença, Itália**...*"
          },
          "metadata": {}
        },
        {
          "output_type": "display_data",
          "data": {
            "text/plain": [
              "<IPython.core.display.Markdown object>"
            ],
            "text/markdown": "✅ *Gemini otimizou o roteiro com 4 dias para Florença.*"
          },
          "metadata": {}
        },
        {
          "output_type": "display_data",
          "data": {
            "text/plain": [
              "<IPython.core.display.Markdown object>"
            ],
            "text/markdown": "\n--- Processando Destino: **Viena, Aústria** ---"
          },
          "metadata": {}
        },
        {
          "output_type": "display_data",
          "data": {
            "text/plain": [
              "<IPython.core.display.Markdown object>"
            ],
            "text/markdown": "\n### 🌍 Agente Iniciando Pesquisa para: **Viena, Aústria**"
          },
          "metadata": {}
        },
        {
          "output_type": "display_data",
          "data": {
            "text/plain": [
              "<IPython.core.display.Markdown object>"
            ],
            "text/markdown": "🧠 *Agente consultando Gemini sobre atrações em: **Viena, Aústria** (Top 15)...*"
          },
          "metadata": {}
        },
        {
          "output_type": "display_data",
          "data": {
            "text/plain": [
              "<IPython.core.display.Markdown object>"
            ],
            "text/markdown": "✅ *Gemini retornou 15 sugestões de atrações para Viena.*"
          },
          "metadata": {}
        },
        {
          "output_type": "display_data",
          "data": {
            "text/plain": [
              "<IPython.core.display.Markdown object>"
            ],
            "text/markdown": "--- Pesquisa para **Viena, Aústria** finalizada pelo agente. ---"
          },
          "metadata": {}
        },
        {
          "output_type": "display_data",
          "data": {
            "text/plain": [
              "<IPython.core.display.Markdown object>"
            ],
            "text/markdown": "🧠 *Agente montando roteiro para: **Viena, Aústria** (5 dias)...*"
          },
          "metadata": {}
        },
        {
          "output_type": "display_data",
          "data": {
            "text/plain": [
              "<IPython.core.display.Markdown object>"
            ],
            "text/markdown": "✅ *Gemini montou um roteiro com 5 dias para Viena.*"
          },
          "metadata": {}
        },
        {
          "output_type": "display_data",
          "data": {
            "text/plain": [
              "<IPython.core.display.Markdown object>"
            ],
            "text/markdown": "🧠 *Agente Otimizador revisando roteiro para: **Viena, Aústria**...*"
          },
          "metadata": {}
        },
        {
          "output_type": "display_data",
          "data": {
            "text/plain": [
              "<IPython.core.display.Markdown object>"
            ],
            "text/markdown": "✅ *Gemini otimizou o roteiro com 5 dias para Viena.*"
          },
          "metadata": {}
        },
        {
          "output_type": "display_data",
          "data": {
            "text/plain": [
              "<IPython.core.display.Markdown object>"
            ],
            "text/markdown": "\n## ✅ Planejamento de Viagem Concluído!"
          },
          "metadata": {}
        }
      ],
      "execution_count": 2
    },
    {
      "cell_type": "code",
      "metadata": {
        "colab": {
          "base_uri": "https://localhost:8080/",
          "height": 46
        },
        "id": "k5eEPVJbcvSy",
        "outputId": "03a11ef9-d994-4f87-bac8-10a9e18c6440"
      },
      "source": [
        "import json\n",
        "\n",
        "output_json_path = \"/content/planejamento_viagem_completo.json\"\n",
        "\n",
        "if 'dados_finais_viagem' in locals() and dados_finais_viagem:\n",
        "    try:\n",
        "        with open(output_json_path, \"w\", encoding=\"utf-8\") as f:\n",
        "            json.dump(dados_finais_viagem, f, ensure_ascii=False, indent=4)\n",
        "        display(Markdown(f\"✅ **Planejamento completo da viagem salvo em:** `{output_json_path}`\"))\n",
        "    except Exception as e:\n",
        "        display(Markdown(f\"<font color='red'>**Erro ao salvar o planejamento em JSON:** {e}</font>\"))\n",
        "else:\n",
        "    display(Markdown(\"⚠️ **Nenhum dado de planejamento de viagem encontrado para salvar em JSON.** Certifique-se de que o planejador foi executado.\"))\n"
      ],
      "execution_count": 3,
      "outputs": [
        {
          "output_type": "display_data",
          "data": {
            "text/plain": [
              "<IPython.core.display.Markdown object>"
            ],
            "text/markdown": "✅ **Planejamento completo da viagem salvo em:** `/content/planejamento_viagem_completo.json`"
          },
          "metadata": {}
        }
      ]
    },
    {
      "cell_type": "code",
      "metadata": {
        "colab": {
          "base_uri": "https://localhost:8080/",
          "height": 552
        },
        "id": "l5xIkepLcvSz",
        "outputId": "6cff091b-d38a-48c2-f437-af18143d7243"
      },
      "source": [
        "!pip install fpdf2 # Instala a biblioteca para gerar PDF\n",
        "\n",
        "import json\n",
        "from fpdf import FPDF # Biblioteca para gerar PDF\n",
        "\n",
        "input_json_path = \"/content/planejamento_viagem_completo.json\"\n",
        "output_pdf_path = \"/content/planejamento_viagem_completo.pdf\"\n",
        "\n",
        "try:\n",
        "    with open(input_json_path, \"r\", encoding=\"utf-8\") as f:\n",
        "        planejamento_completo = json.load(f)\n",
        "\n",
        "    pdf = FPDF()\n",
        "    pdf.add_page()\n",
        "    pdf.set_font(\"Arial\", \"B\", 16)\n",
        "    pdf.cell(200, 10, txt=\"Planejamento Completo da Viagem\", ln=True, align=\"C\")\n",
        "    pdf.ln(10)\n",
        "\n",
        "    for destino_info in planejamento_completo:\n",
        "        pdf.set_font(\"Arial\", \"B\", 14)\n",
        "        pdf.cell(200, 10, txt=f\"Cidade: {destino_info.get('cidade', 'N/A')} ({destino_info.get('pais', 'N/A')})\", ln=True)\n",
        "        pdf.set_font(\"Arial\", \"\", 12)\n",
        "        pdf.multi_cell(0, 8, txt=f\"Hospedagem: {destino_info.get('hospedagem', 'N/A')}\")\n",
        "        pdf.multi_cell(0, 8, txt=f\"Período: {destino_info.get('data_chegada', 'N/A')} a {destino_info.get('data_partida', 'N/A')}\")\n",
        "        pdf.ln(5)\n",
        "\n",
        "        if destino_info.get('roteiro_otimizado'):\n",
        "            pdf.set_font(\"Arial\", \"B\", 12)\n",
        "            pdf.cell(200, 10, txt=\"Roteiro Otimizado:\", ln=True)\n",
        "            pdf.set_font(\"Arial\", \"\", 10)\n",
        "            for dia_roteiro in destino_info['roteiro_otimizado']:\n",
        "                pdf.multi_cell(0, 6, txt=f\"Dia {dia_roteiro.get('dia', 'N/A')}: {dia_roteiro.get('atividades', 'N/A')}\")\n",
        "                if dia_roteiro.get('restaurantes'):\n",
        "                    pdf.set_font(\"Arial\", \"I\", 10)\n",
        "                    pdf.multi_cell(0, 6, txt=\"  Sugestões de Restaurantes:\")\n",
        "                    for restaurante in dia_roteiro['restaurantes']:\n",
        "                        pdf.multi_cell(0, 6, txt=f\"    - {restaurante.get('nome', 'N/A')} ({restaurante.get('faixa_preco', 'N/A')})\")\n",
        "                    pdf.set_font(\"Arial\", \"\", 10)\n",
        "                if dia_roteiro.get('detalhes_atracoes'):\n",
        "                    pdf.set_font(\"Arial\", \"I\", 10)\n",
        "                    pdf.multi_cell(0, 6, txt=\"  Detalhes das Atrações:\")\n",
        "                    for atracao_detalhe in dia_roteiro['detalhes_atracoes']:\n",
        "                        pdf.multi_cell(0, 6, txt=f\"    - {atracao_detalhe.get('nome', 'N/A')} (Preço: {atracao_detalhe.get('preco_ingresso', 'N/A')}, Link: {atracao_detalhe.get('link_ingresso', 'N/A')})\")\n",
        "                    pdf.set_font(\"Arial\", \"\", 10)\n",
        "                pdf.ln(2)\n",
        "        else:\n",
        "            pdf.set_font(\"Arial\", \"\", 10)\n",
        "            pdf.multi_cell(0, 8, txt=\"Nenhum roteiro otimizado disponível para esta cidade.\")\n",
        "        pdf.ln(10)\n",
        "\n",
        "    pdf.output(output_pdf_path)\n",
        "    display(Markdown(f\"✅ **Planejamento completo da viagem salvo em PDF:** `{output_pdf_path}`\"))\n",
        "except FileNotFoundError:\n",
        "    display(Markdown(f\"<font color='red'>**Erro: Arquivo JSON de planejamento não encontrado em `{input_json_path}`.**</font>\"))\n",
        "except json.JSONDecodeError as e:\n",
        "    display(Markdown(f\"<font color='red'>**Erro ao ler o arquivo JSON de planejamento:** {e}. Verifique se o arquivo está formatado corretamente.</font>\"))\n",
        "except Exception as e:\n",
        "    display(Markdown(f\"<font color='red'>**Erro inesperado ao gerar o PDF:** {e}</font>\"))\n"
      ],
      "execution_count": 4,
      "outputs": [
        {
          "output_type": "stream",
          "name": "stdout",
          "text": [
            "Collecting fpdf2\n",
            "  Downloading fpdf2-2.8.3-py2.py3-none-any.whl.metadata (69 kB)\n",
            "\u001b[?25l     \u001b[90m━━━━━━━━━━━━━━━━━━━━━━━━━━━━━━━━━━━━━━━━\u001b[0m \u001b[32m0.0/69.7 kB\u001b[0m \u001b[31m?\u001b[0m eta \u001b[36m-:--:--\u001b[0m\r\u001b[2K     \u001b[90m━━━━━━━━━━━━━━━━━━━━━━━━━━━━━━━━━━━━━━━━\u001b[0m \u001b[32m69.7/69.7 kB\u001b[0m \u001b[31m3.0 MB/s\u001b[0m eta \u001b[36m0:00:00\u001b[0m\n",
            "\u001b[?25hRequirement already satisfied: defusedxml in /usr/local/lib/python3.11/dist-packages (from fpdf2) (0.7.1)\n",
            "Requirement already satisfied: Pillow!=9.2.*,>=6.2.2 in /usr/local/lib/python3.11/dist-packages (from fpdf2) (11.2.1)\n",
            "Requirement already satisfied: fonttools>=4.34.0 in /usr/local/lib/python3.11/dist-packages (from fpdf2) (4.58.4)\n",
            "Downloading fpdf2-2.8.3-py2.py3-none-any.whl (245 kB)\n",
            "\u001b[?25l   \u001b[90m━━━━━━━━━━━━━━━━━━━━━━━━━━━━━━━━━━━━━━━━\u001b[0m \u001b[32m0.0/245.7 kB\u001b[0m \u001b[31m?\u001b[0m eta \u001b[36m-:--:--\u001b[0m\r\u001b[2K   \u001b[90m━━━━━━━━━━━━━━━━━━━━━━━━━━━━━━━━━━━━━━━━\u001b[0m \u001b[32m245.7/245.7 kB\u001b[0m \u001b[31m10.1 MB/s\u001b[0m eta \u001b[36m0:00:00\u001b[0m\n",
            "\u001b[?25hInstalling collected packages: fpdf2\n",
            "Successfully installed fpdf2-2.8.3\n"
          ]
        },
        {
          "output_type": "stream",
          "name": "stderr",
          "text": [
            "/tmp/ipython-input-4-1380054526.py:15: DeprecationWarning: Substituting font arial by core font helvetica - This is deprecated since v2.7.8, and will soon be removed\n",
            "  pdf.set_font(\"Arial\", \"B\", 16)\n",
            "/tmp/ipython-input-4-1380054526.py:16: DeprecationWarning: The parameter \"txt\" has been renamed to \"text\" in 2.7.6\n",
            "  pdf.cell(200, 10, txt=\"Planejamento Completo da Viagem\", ln=True, align=\"C\")\n",
            "/tmp/ipython-input-4-1380054526.py:16: DeprecationWarning: The parameter \"ln\" is deprecated since v2.5.2. Instead of ln=True use new_x=XPos.LMARGIN, new_y=YPos.NEXT.\n",
            "  pdf.cell(200, 10, txt=\"Planejamento Completo da Viagem\", ln=True, align=\"C\")\n",
            "/tmp/ipython-input-4-1380054526.py:20: DeprecationWarning: Substituting font arial by core font helvetica - This is deprecated since v2.7.8, and will soon be removed\n",
            "  pdf.set_font(\"Arial\", \"B\", 14)\n",
            "/tmp/ipython-input-4-1380054526.py:21: DeprecationWarning: The parameter \"txt\" has been renamed to \"text\" in 2.7.6\n",
            "  pdf.cell(200, 10, txt=f\"Cidade: {destino_info.get('cidade', 'N/A')} ({destino_info.get('pais', 'N/A')})\", ln=True)\n",
            "/tmp/ipython-input-4-1380054526.py:21: DeprecationWarning: The parameter \"ln\" is deprecated since v2.5.2. Instead of ln=True use new_x=XPos.LMARGIN, new_y=YPos.NEXT.\n",
            "  pdf.cell(200, 10, txt=f\"Cidade: {destino_info.get('cidade', 'N/A')} ({destino_info.get('pais', 'N/A')})\", ln=True)\n",
            "/tmp/ipython-input-4-1380054526.py:22: DeprecationWarning: Substituting font arial by core font helvetica - This is deprecated since v2.7.8, and will soon be removed\n",
            "  pdf.set_font(\"Arial\", \"\", 12)\n",
            "/tmp/ipython-input-4-1380054526.py:23: DeprecationWarning: The parameter \"txt\" has been renamed to \"text\" in 2.7.6\n",
            "  pdf.multi_cell(0, 8, txt=f\"Hospedagem: {destino_info.get('hospedagem', 'N/A')}\")\n",
            "/tmp/ipython-input-4-1380054526.py:24: DeprecationWarning: The parameter \"txt\" has been renamed to \"text\" in 2.7.6\n",
            "  pdf.multi_cell(0, 8, txt=f\"Período: {destino_info.get('data_chegada', 'N/A')} a {destino_info.get('data_partida', 'N/A')}\")\n"
          ]
        },
        {
          "output_type": "display_data",
          "data": {
            "text/plain": [
              "<IPython.core.display.Markdown object>"
            ],
            "text/markdown": "<font color='red'>**Erro inesperado ao gerar o PDF:** Not enough horizontal space to render a single character</font>"
          },
          "metadata": {}
        }
      ]
    },
    {
      "cell_type": "code",
      "source": [
        "import json\n",
        "# As funções 'display' e 'Markdown' são específicas de ambientes como Jupyter Notebook ou Google Colab.\n",
        "# Se estiver usando um, este import é necessário.\n",
        "from IPython.display import display, Markdown\n",
        "\n",
        "# Verifica se a variável 'dados_finais_viagem' existe e não está vazia\n",
        "if 'dados_finais_viagem' in locals() and dados_finais_viagem:\n",
        "\n",
        "    # Salva o planejamento completo da viagem em um arquivo JSON\n",
        "    output_filename = \"planejamento_viagem_completo.json\"\n",
        "    with open(output_filename, \"w\", encoding=\"utf-8\") as f:\n",
        "        json.dump(dados_finais_viagem, f, ensure_ascii=False, indent=4)\n",
        "\n",
        "    display(Markdown(f\"✅ **Planejamento completo da viagem salvo em `{output_filename}`**\"))\n",
        "\n",
        "    # Mostra o roteiro otimizado para cada cidade\n",
        "    for destino_info in dados_finais_viagem:\n",
        "        cidade = destino_info[\"cidade\"]\n",
        "        pais = destino_info[\"pais\"]\n",
        "        roteiro_otimizado = destino_info.get(\"roteiro_otimizado\")\n",
        "        sugestoes_restaurantes = destino_info.get(\"sugestoes_restaurantes\")\n",
        "        atracoes_detalhadas = destino_info.get(\"atracoes_detalhadas\")\n",
        "\n",
        "        display(Markdown(f\"### 🗺️ Roteiro Otimizado para: **{cidade}, {pais}**\"))\n",
        "\n",
        "        if roteiro_otimizado:\n",
        "            for dia_roteiro in roteiro_otimizado:\n",
        "                display(Markdown(f\"#### Dia {dia_roteiro['dia']} ({dia_roteiro['data']}):\"))\n",
        "\n",
        "                display(Markdown(\"**Atividades:**\"))\n",
        "                for atividade in dia_roteiro[\"atividades_sugeridas\"]:\n",
        "                    display(Markdown(f\"- {atividade}\"))\n",
        "\n",
        "                if dia_roteiro.get(\"observacoes\") and dia_roteiro[\"observacoes\"] != \"N/A\":\n",
        "                    display(Markdown(f\"*Observações:* {dia_roteiro['observacoes']}\"))\n",
        "\n",
        "                # Sugestões de Restaurantes para o dia\n",
        "                if sugestoes_restaurantes and str(dia_roteiro[\"dia\"]) in sugestoes_restaurantes:\n",
        "                    display(Markdown(f\"**Sugestões de Restaurantes para o Dia {dia_roteiro['dia']}:**\"))\n",
        "                    for categoria, restaurantes in sugestoes_restaurantes[str(dia_roteiro['dia'])].items():\n",
        "                        display(Markdown(f\"* {categoria}:\"))\n",
        "                        for restaurante in restaurantes:\n",
        "                            display(Markdown(f\"    - {restaurante['nome']} ({restaurante['faixa_preco']}) - Avaliação: {restaurante['avaliacao_geral']} - Link: [Google Maps]({restaurante['link_google_maps']})\"))\n",
        "\n",
        "                # Detalhes de Atrações para o dia\n",
        "                if atracoes_detalhadas:\n",
        "                    display(Markdown(f\"**Detalhes de Atrações para o Dia {dia_roteiro['dia']}:**\"))\n",
        "                    for atracao in atracoes_detalhadas:\n",
        "                        display(Markdown(f\"- **{atracao['nome']}** (Preço: {atracao.get('preco_ingresso_euros', 'N/A')}€) - [Comprar Ingresso]({atracao.get('link_compra_ingresso', '#')})\"))\n",
        "\n",
        "                display(Markdown(\"---\"))\n",
        "        else:\n",
        "            display(Markdown(f\"<font color='orange'>Aviso: Roteiro otimizado não disponível para {cidade}.</font>\"))\n",
        "else:\n",
        "    display(Markdown(\"### ⚠️ Nenhum dado de viagem final disponível para exibição. Execute o planejador primeiro.\"))"
      ],
      "metadata": {
        "colab": {
          "base_uri": "https://localhost:8080/",
          "height": 1000
        },
        "id": "uMKRbRQMNZfz",
        "outputId": "aaefbe68-13c0-4d8a-a49e-302dc6198efe"
      },
      "execution_count": 5,
      "outputs": [
        {
          "output_type": "display_data",
          "data": {
            "text/plain": [
              "<IPython.core.display.Markdown object>"
            ],
            "text/markdown": "✅ **Planejamento completo da viagem salvo em `planejamento_viagem_completo.json`**"
          },
          "metadata": {}
        },
        {
          "output_type": "display_data",
          "data": {
            "text/plain": [
              "<IPython.core.display.Markdown object>"
            ],
            "text/markdown": "### 🗺️ Roteiro Otimizado para: **Roma, Itália**"
          },
          "metadata": {}
        },
        {
          "output_type": "display_data",
          "data": {
            "text/plain": [
              "<IPython.core.display.Markdown object>"
            ],
            "text/markdown": "#### Dia 1 (2025-09-13):"
          },
          "metadata": {}
        },
        {
          "output_type": "display_data",
          "data": {
            "text/plain": [
              "<IPython.core.display.Markdown object>"
            ],
            "text/markdown": "**Atividades:**"
          },
          "metadata": {}
        },
        {
          "output_type": "display_data",
          "data": {
            "text/plain": [
              "<IPython.core.display.Markdown object>"
            ],
            "text/markdown": "- Chegada no aeroporto Fiumicino (FCO), traslado para a hospedagem (Via Candia n.143 CAP: 00192) - Utilize o Leonardo Express (trem) até a estação Termini, depois táxi ou transporte público até o hotel (aprox. 1 hora e 30 minutos)"
          },
          "metadata": {}
        },
        {
          "output_type": "display_data",
          "data": {
            "text/plain": [
              "<IPython.core.display.Markdown object>"
            ],
            "text/markdown": "- Check-in e breve descanso."
          },
          "metadata": {}
        },
        {
          "output_type": "display_data",
          "data": {
            "text/plain": [
              "<IPython.core.display.Markdown object>"
            ],
            "text/markdown": "- Passeio a pé pela vizinhança da Via Candia (1-2 horas) - Explore as ruas charmosas e descubra um lugar para um gelato."
          },
          "metadata": {}
        },
        {
          "output_type": "display_data",
          "data": {
            "text/plain": [
              "<IPython.core.display.Markdown object>"
            ],
            "text/markdown": "- Jantar em um restaurante tradicional na vizinhança da Via Candia."
          },
          "metadata": {}
        },
        {
          "output_type": "display_data",
          "data": {
            "text/plain": [
              "<IPython.core.display.Markdown object>"
            ],
            "text/markdown": "*Observações:* O Leonardo Express é uma opção eficiente e econômica para chegar ao centro de Roma.  A Via Candia é uma área residencial tranquila com algumas opções gastronômicas excelentes."
          },
          "metadata": {}
        },
        {
          "output_type": "display_data",
          "data": {
            "text/plain": [
              "<IPython.core.display.Markdown object>"
            ],
            "text/markdown": "---"
          },
          "metadata": {}
        },
        {
          "output_type": "display_data",
          "data": {
            "text/plain": [
              "<IPython.core.display.Markdown object>"
            ],
            "text/markdown": "#### Dia 2 (2025-09-14):"
          },
          "metadata": {}
        },
        {
          "output_type": "display_data",
          "data": {
            "text/plain": [
              "<IPython.core.display.Markdown object>"
            ],
            "text/markdown": "**Atividades:**"
          },
          "metadata": {}
        },
        {
          "output_type": "display_data",
          "data": {
            "text/plain": [
              "<IPython.core.display.Markdown object>"
            ],
            "text/markdown": "- Coliseu e Fórum Romano (3-4 horas) - Ingressos comprados online."
          },
          "metadata": {}
        },
        {
          "output_type": "display_data",
          "data": {
            "text/plain": [
              "<IPython.core.display.Markdown object>"
            ],
            "text/markdown": "- Palatino (1-2 horas) - Acesso incluído no ingresso do Coliseu."
          },
          "metadata": {}
        },
        {
          "output_type": "display_data",
          "data": {
            "text/plain": [
              "<IPython.core.display.Markdown object>"
            ],
            "text/markdown": "- Almoço próximo ao Coliseu (várias opções)."
          },
          "metadata": {}
        },
        {
          "output_type": "display_data",
          "data": {
            "text/plain": [
              "<IPython.core.display.Markdown object>"
            ],
            "text/markdown": "- Passeio pela Piazza Venezia (30 minutos) - Caminhada curta do Coliseu."
          },
          "metadata": {}
        },
        {
          "output_type": "display_data",
          "data": {
            "text/plain": [
              "<IPython.core.display.Markdown object>"
            ],
            "text/markdown": "- Visita ao Pantheon (1 hora) - Caminhada de aproximadamente 20 minutos da Piazza Venezia."
          },
          "metadata": {}
        },
        {
          "output_type": "display_data",
          "data": {
            "text/plain": [
              "<IPython.core.display.Markdown object>"
            ],
            "text/markdown": "- Jantar na região do Pantheon - Explore restaurantes com terraço para aproveitar a atmosfera."
          },
          "metadata": {}
        },
        {
          "output_type": "display_data",
          "data": {
            "text/plain": [
              "<IPython.core.display.Markdown object>"
            ],
            "text/markdown": "*Observações:* Reserve os ingressos para o Coliseu com antecedência para evitar filas.  A caminhada entre os monumentos é agradável e permite explorar o centro histórico."
          },
          "metadata": {}
        },
        {
          "output_type": "display_data",
          "data": {
            "text/plain": [
              "<IPython.core.display.Markdown object>"
            ],
            "text/markdown": "---"
          },
          "metadata": {}
        },
        {
          "output_type": "display_data",
          "data": {
            "text/plain": [
              "<IPython.core.display.Markdown object>"
            ],
            "text/markdown": "#### Dia 3 (2025-09-15):"
          },
          "metadata": {}
        },
        {
          "output_type": "display_data",
          "data": {
            "text/plain": [
              "<IPython.core.display.Markdown object>"
            ],
            "text/markdown": "**Atividades:**"
          },
          "metadata": {}
        },
        {
          "output_type": "display_data",
          "data": {
            "text/plain": [
              "<IPython.core.display.Markdown object>"
            ],
            "text/markdown": "- Museus do Vaticano e Capela Sistina (3-4 horas) - Ingressos reservados com antecedência! Utilize o metrô para chegar aos Museus."
          },
          "metadata": {}
        },
        {
          "output_type": "display_data",
          "data": {
            "text/plain": [
              "<IPython.core.display.Markdown object>"
            ],
            "text/markdown": "- Basílica de São Pedro (1-2 horas) - Acesso direto dos Museus do Vaticano."
          },
          "metadata": {}
        },
        {
          "output_type": "display_data",
          "data": {
            "text/plain": [
              "<IPython.core.display.Markdown object>"
            ],
            "text/markdown": "- Almoço próximo aos Museus do Vaticano."
          },
          "metadata": {}
        },
        {
          "output_type": "display_data",
          "data": {
            "text/plain": [
              "<IPython.core.display.Markdown object>"
            ],
            "text/markdown": "- Visita à Fontana di Trevi (30 minutos) - Utilize o transporte público ou um táxi (aprox. 30 minutos)."
          },
          "metadata": {}
        },
        {
          "output_type": "display_data",
          "data": {
            "text/plain": [
              "<IPython.core.display.Markdown object>"
            ],
            "text/markdown": "- Passeio pela Piazza Navona (1 hora) - Caminhada curta da Fontana di Trevi."
          },
          "metadata": {}
        },
        {
          "output_type": "display_data",
          "data": {
            "text/plain": [
              "<IPython.core.display.Markdown object>"
            ],
            "text/markdown": "- Jantar na região da Piazza Navona - Procure por trattorias tradicionais."
          },
          "metadata": {}
        },
        {
          "output_type": "display_data",
          "data": {
            "text/plain": [
              "<IPython.core.display.Markdown object>"
            ],
            "text/markdown": "*Observações:* Reserve os ingressos para os Museus do Vaticano com muita antecedência.  O transporte público é eficiente, mas considere o tempo de deslocamento entre os locais."
          },
          "metadata": {}
        },
        {
          "output_type": "display_data",
          "data": {
            "text/plain": [
              "<IPython.core.display.Markdown object>"
            ],
            "text/markdown": "---"
          },
          "metadata": {}
        },
        {
          "output_type": "display_data",
          "data": {
            "text/plain": [
              "<IPython.core.display.Markdown object>"
            ],
            "text/markdown": "#### Dia 4 (2025-09-16):"
          },
          "metadata": {}
        },
        {
          "output_type": "display_data",
          "data": {
            "text/plain": [
              "<IPython.core.display.Markdown object>"
            ],
            "text/markdown": "**Atividades:**"
          },
          "metadata": {}
        },
        {
          "output_type": "display_data",
          "data": {
            "text/plain": [
              "<IPython.core.display.Markdown object>"
            ],
            "text/markdown": "- Castel Sant'Angelo (1-2 horas) - Utilize o transporte público ou caminhada (aprox. 30 minutos da Piazza Navona)."
          },
          "metadata": {}
        },
        {
          "output_type": "display_data",
          "data": {
            "text/plain": [
              "<IPython.core.display.Markdown object>"
            ],
            "text/markdown": "- Passeio pela Ponte Sisto (30 minutos) - Caminhada agradável com vista para o rio Tibre."
          },
          "metadata": {}
        },
        {
          "output_type": "display_data",
          "data": {
            "text/plain": [
              "<IPython.core.display.Markdown object>"
            ],
            "text/markdown": "- Jardins Borghese (2-3 horas) - Reserve com antecedência!  Utilize o transporte público ou táxi."
          },
          "metadata": {}
        },
        {
          "output_type": "display_data",
          "data": {
            "text/plain": [
              "<IPython.core.display.Markdown object>"
            ],
            "text/markdown": "- Almoço próximo aos Jardins Borghese ou no Campo de' Fiori."
          },
          "metadata": {}
        },
        {
          "output_type": "display_data",
          "data": {
            "text/plain": [
              "<IPython.core.display.Markdown object>"
            ],
            "text/markdown": "- Campo de' Fiori (1 hora) - Caminhada curta dos Jardins Borghese ou transporte público."
          },
          "metadata": {}
        },
        {
          "output_type": "display_data",
          "data": {
            "text/plain": [
              "<IPython.core.display.Markdown object>"
            ],
            "text/markdown": "- Janículo para apreciar o pôr do sol (1-2 horas) - Utilize o transporte público ou táxi (aprox. 20 minutos do Campo de' Fiori)."
          },
          "metadata": {}
        },
        {
          "output_type": "display_data",
          "data": {
            "text/plain": [
              "<IPython.core.display.Markdown object>"
            ],
            "text/markdown": "- Jantar próximo ao Janículo ou em um restaurante de sua escolha."
          },
          "metadata": {}
        },
        {
          "output_type": "display_data",
          "data": {
            "text/plain": [
              "<IPython.core.display.Markdown object>"
            ],
            "text/markdown": "- Traslado para o aeroporto Fiumicino (FCO) - Utilize o Leonardo Express ou táxi (considere o tempo de viagem para o aeroporto)."
          },
          "metadata": {}
        },
        {
          "output_type": "display_data",
          "data": {
            "text/plain": [
              "<IPython.core.display.Markdown object>"
            ],
            "text/markdown": "*Observações:* Verifique os horários de funcionamento dos Jardins Borghese e reserve com antecedência.  O Janículo oferece uma vista panorâmica incrível ao pôr do sol. Planeje o transporte para o aeroporto com bastante antecedência."
          },
          "metadata": {}
        },
        {
          "output_type": "display_data",
          "data": {
            "text/plain": [
              "<IPython.core.display.Markdown object>"
            ],
            "text/markdown": "---"
          },
          "metadata": {}
        },
        {
          "output_type": "display_data",
          "data": {
            "text/plain": [
              "<IPython.core.display.Markdown object>"
            ],
            "text/markdown": "### 🗺️ Roteiro Otimizado para: **Florença, Itália**"
          },
          "metadata": {}
        },
        {
          "output_type": "display_data",
          "data": {
            "text/plain": [
              "<IPython.core.display.Markdown object>"
            ],
            "text/markdown": "#### Dia 1 (2025-09-16):"
          },
          "metadata": {}
        },
        {
          "output_type": "display_data",
          "data": {
            "text/plain": [
              "<IPython.core.display.Markdown object>"
            ],
            "text/markdown": "**Atividades:**"
          },
          "metadata": {}
        },
        {
          "output_type": "display_data",
          "data": {
            "text/plain": [
              "<IPython.core.display.Markdown object>"
            ],
            "text/markdown": "- Chegada em Florença e check-in no Hotel Bodoni."
          },
          "metadata": {}
        },
        {
          "output_type": "display_data",
          "data": {
            "text/plain": [
              "<IPython.core.display.Markdown object>"
            ],
            "text/markdown": "- Passeio a pé pela Piazza della Repubblica e visita ao Mercado de San Lorenzo (2-3 horas)."
          },
          "metadata": {}
        },
        {
          "output_type": "display_data",
          "data": {
            "text/plain": [
              "<IPython.core.display.Markdown object>"
            ],
            "text/markdown": "- Almoço em uma trattoria perto do Mercado de San Lorenzo."
          },
          "metadata": {}
        },
        {
          "output_type": "display_data",
          "data": {
            "text/plain": [
              "<IPython.core.display.Markdown object>"
            ],
            "text/markdown": "- Visita à Catedral de Florença (Duomo) (1-2 horas)."
          },
          "metadata": {}
        },
        {
          "output_type": "display_data",
          "data": {
            "text/plain": [
              "<IPython.core.display.Markdown object>"
            ],
            "text/markdown": "- Subida ao Campanário de Giotto (opcional, reservar com antecedência) (1 hora) - considere fazer isso logo após o Duomo para evitar filas."
          },
          "metadata": {}
        },
        {
          "output_type": "display_data",
          "data": {
            "text/plain": [
              "<IPython.core.display.Markdown object>"
            ],
            "text/markdown": "- Jantar em um restaurante no bairro de San Lorenzo."
          },
          "metadata": {}
        },
        {
          "output_type": "display_data",
          "data": {
            "text/plain": [
              "<IPython.core.display.Markdown object>"
            ],
            "text/markdown": "*Observações:* O Mercado de San Lorenzo é ótimo para compras e petiscos. Reserve com antecedência a subida ao Campanário de Giotto.  Caminhe entre as atrações, todas estão próximas. Há muitas opções de restaurantes na região."
          },
          "metadata": {}
        },
        {
          "output_type": "display_data",
          "data": {
            "text/plain": [
              "<IPython.core.display.Markdown object>"
            ],
            "text/markdown": "---"
          },
          "metadata": {}
        },
        {
          "output_type": "display_data",
          "data": {
            "text/plain": [
              "<IPython.core.display.Markdown object>"
            ],
            "text/markdown": "#### Dia 2 (2025-09-17):"
          },
          "metadata": {}
        },
        {
          "output_type": "display_data",
          "data": {
            "text/plain": [
              "<IPython.core.display.Markdown object>"
            ],
            "text/markdown": "**Atividades:**"
          },
          "metadata": {}
        },
        {
          "output_type": "display_data",
          "data": {
            "text/plain": [
              "<IPython.core.display.Markdown object>"
            ],
            "text/markdown": "- Visita à Galeria da Academia (reservar com antecedência) (2-3 horas) para ver o David e as pinturas."
          },
          "metadata": {}
        },
        {
          "output_type": "display_data",
          "data": {
            "text/plain": [
              "<IPython.core.display.Markdown object>"
            ],
            "text/markdown": "- Passeio pela Piazza della Signoria e observação das esculturas (1 hora) -  a pé da Galeria da Academia."
          },
          "metadata": {}
        },
        {
          "output_type": "display_data",
          "data": {
            "text/plain": [
              "<IPython.core.display.Markdown object>"
            ],
            "text/markdown": "- Almoço em uma trattoria perto da Piazza della Signoria."
          },
          "metadata": {}
        },
        {
          "output_type": "display_data",
          "data": {
            "text/plain": [
              "<IPython.core.display.Markdown object>"
            ],
            "text/markdown": "- Visita ao Palazzo Vecchio (1,5-2 horas)."
          },
          "metadata": {}
        },
        {
          "output_type": "display_data",
          "data": {
            "text/plain": [
              "<IPython.core.display.Markdown object>"
            ],
            "text/markdown": "- Visita ao Palazzo Pitti e escolha de um dos seus museus (Galeria de Arte Moderna ou Museu do Figurino e da Moda, reservar com antecedência) (2-3 horas dependendo do museu escolhido)."
          },
          "metadata": {}
        },
        {
          "output_type": "display_data",
          "data": {
            "text/plain": [
              "<IPython.core.display.Markdown object>"
            ],
            "text/markdown": "- Passeio pelos Jardins de Boboli (1-1,5 horas) - acesso direto do Palazzo Pitti."
          },
          "metadata": {}
        },
        {
          "output_type": "display_data",
          "data": {
            "text/plain": [
              "<IPython.core.display.Markdown object>"
            ],
            "text/markdown": "*Observações:* Reserve ingressos para a Galeria da Academia e o Palazzo Pitti com antecedência para evitar filas longas.  Caminhe entre as atrações. Considere subir ao terraço do Palazzo Pitti para uma vista incrível.  Há muitas opções de restaurantes nas proximidades."
          },
          "metadata": {}
        },
        {
          "output_type": "display_data",
          "data": {
            "text/plain": [
              "<IPython.core.display.Markdown object>"
            ],
            "text/markdown": "---"
          },
          "metadata": {}
        },
        {
          "output_type": "display_data",
          "data": {
            "text/plain": [
              "<IPython.core.display.Markdown object>"
            ],
            "text/markdown": "#### Dia 3 (2025-09-18):"
          },
          "metadata": {}
        },
        {
          "output_type": "display_data",
          "data": {
            "text/plain": [
              "<IPython.core.display.Markdown object>"
            ],
            "text/markdown": "**Atividades:**"
          },
          "metadata": {}
        },
        {
          "output_type": "display_data",
          "data": {
            "text/plain": [
              "<IPython.core.display.Markdown object>"
            ],
            "text/markdown": "- Visita à Uffizi Gallery (reservar com antecedência) (3-4 horas)."
          },
          "metadata": {}
        },
        {
          "output_type": "display_data",
          "data": {
            "text/plain": [
              "<IPython.core.display.Markdown object>"
            ],
            "text/markdown": "- Almoço em uma trattoria perto da Galeria Uffizi."
          },
          "metadata": {}
        },
        {
          "output_type": "display_data",
          "data": {
            "text/plain": [
              "<IPython.core.display.Markdown object>"
            ],
            "text/markdown": "- Passeio pela Ponte Vecchio (30 minutos) e Ponte Santa Trinita (30 minutos) - a pé, após a Uffizi."
          },
          "metadata": {}
        },
        {
          "output_type": "display_data",
          "data": {
            "text/plain": [
              "<IPython.core.display.Markdown object>"
            ],
            "text/markdown": "- Visita à Basílica de Santa Croce (1,5-2 horas) - utilize transporte público ou táxi para otimizar tempo, se preferir."
          },
          "metadata": {}
        },
        {
          "output_type": "display_data",
          "data": {
            "text/plain": [
              "<IPython.core.display.Markdown object>"
            ],
            "text/markdown": "- Subida ao Piazzale Michelangelo para apreciar o pôr do sol (1-2 horas) - transporte público ou táxi recomendado."
          },
          "metadata": {}
        },
        {
          "output_type": "display_data",
          "data": {
            "text/plain": [
              "<IPython.core.display.Markdown object>"
            ],
            "text/markdown": "*Observações:* Reserve ingressos para a Uffizi Gallery com bastante antecedência. A região da Galeria Uffizi e a Ponte Vecchio oferecem muitas opções de restaurantes. O pôr do sol no Piazzale Michelangelo é espetacular.  Considere o tempo de deslocamento para a Basílica de Santa Croce e o Piazzale Michelangelo."
          },
          "metadata": {}
        },
        {
          "output_type": "display_data",
          "data": {
            "text/plain": [
              "<IPython.core.display.Markdown object>"
            ],
            "text/markdown": "---"
          },
          "metadata": {}
        },
        {
          "output_type": "display_data",
          "data": {
            "text/plain": [
              "<IPython.core.display.Markdown object>"
            ],
            "text/markdown": "#### Dia 4 (2025-09-19):"
          },
          "metadata": {}
        },
        {
          "output_type": "display_data",
          "data": {
            "text/plain": [
              "<IPython.core.display.Markdown object>"
            ],
            "text/markdown": "**Atividades:**"
          },
          "metadata": {}
        },
        {
          "output_type": "display_data",
          "data": {
            "text/plain": [
              "<IPython.core.display.Markdown object>"
            ],
            "text/markdown": "- Visita ao Bargello Museum (1,5-2 horas)."
          },
          "metadata": {}
        },
        {
          "output_type": "display_data",
          "data": {
            "text/plain": [
              "<IPython.core.display.Markdown object>"
            ],
            "text/markdown": "- Visita ao Palazzo Davanzati (1 hora) - próximo ao Bargello."
          },
          "metadata": {}
        },
        {
          "output_type": "display_data",
          "data": {
            "text/plain": [
              "<IPython.core.display.Markdown object>"
            ],
            "text/markdown": "- Visita às Capelas Medici (1 hora) - utilize transporte público ou táxi para otimizar tempo, se preferir."
          },
          "metadata": {}
        },
        {
          "output_type": "display_data",
          "data": {
            "text/plain": [
              "<IPython.core.display.Markdown object>"
            ],
            "text/markdown": "- Almoço perto das atrações visitadas pela manhã."
          },
          "metadata": {}
        },
        {
          "output_type": "display_data",
          "data": {
            "text/plain": [
              "<IPython.core.display.Markdown object>"
            ],
            "text/markdown": "- Compras de lembranças (1-2 horas) - Mercado de San Lorenzo ou lojas perto da Ponte Vecchio."
          },
          "metadata": {}
        },
        {
          "output_type": "display_data",
          "data": {
            "text/plain": [
              "<IPython.core.display.Markdown object>"
            ],
            "text/markdown": "- Partida de Florença."
          },
          "metadata": {}
        },
        {
          "output_type": "display_data",
          "data": {
            "text/plain": [
              "<IPython.core.display.Markdown object>"
            ],
            "text/markdown": "*Observações:* Este dia é dedicado a museus mais específicos, escolha aqueles que mais lhe interessam.  Há várias opções de restaurantes próximos aos museus. Considere o tempo de deslocamento entre os museus.  Considere comprar lembranças no Mercado de San Lorenzo ou em lojas perto da Ponte Vecchio."
          },
          "metadata": {}
        },
        {
          "output_type": "display_data",
          "data": {
            "text/plain": [
              "<IPython.core.display.Markdown object>"
            ],
            "text/markdown": "---"
          },
          "metadata": {}
        },
        {
          "output_type": "display_data",
          "data": {
            "text/plain": [
              "<IPython.core.display.Markdown object>"
            ],
            "text/markdown": "### 🗺️ Roteiro Otimizado para: **Viena, Aústria**"
          },
          "metadata": {}
        },
        {
          "output_type": "display_data",
          "data": {
            "text/plain": [
              "<IPython.core.display.Markdown object>"
            ],
            "text/markdown": "#### Dia 1 (2025-09-20):"
          },
          "metadata": {}
        },
        {
          "output_type": "display_data",
          "data": {
            "text/plain": [
              "<IPython.core.display.Markdown object>"
            ],
            "text/markdown": "**Atividades:**"
          },
          "metadata": {}
        },
        {
          "output_type": "display_data",
          "data": {
            "text/plain": [
              "<IPython.core.display.Markdown object>"
            ],
            "text/markdown": "- Chegada no aeroporto de Viena (VIE), traslado para o Hotel-Pension Wild (metrô + caminhada, aprox. 1 hora)"
          },
          "metadata": {}
        },
        {
          "output_type": "display_data",
          "data": {
            "text/plain": [
              "<IPython.core.display.Markdown object>"
            ],
            "text/markdown": "- Check-in e descanso"
          },
          "metadata": {}
        },
        {
          "output_type": "display_data",
          "data": {
            "text/plain": [
              "<IPython.core.display.Markdown object>"
            ],
            "text/markdown": "- Passeio a pé pela vizinhança do hotel (1 hora)"
          },
          "metadata": {}
        },
        {
          "output_type": "display_data",
          "data": {
            "text/plain": [
              "<IPython.core.display.Markdown object>"
            ],
            "text/markdown": "- Jantar em um restaurante tradicional austríaco próximo ao hotel"
          },
          "metadata": {}
        },
        {
          "output_type": "display_data",
          "data": {
            "text/plain": [
              "<IPython.core.display.Markdown object>"
            ],
            "text/markdown": "*Observações:* Utilize o City Airport Train (CAT) ou o S7 para chegar ao centro. O Hotel-Pension Wild tem boa localização para explorar a pé."
          },
          "metadata": {}
        },
        {
          "output_type": "display_data",
          "data": {
            "text/plain": [
              "<IPython.core.display.Markdown object>"
            ],
            "text/markdown": "---"
          },
          "metadata": {}
        },
        {
          "output_type": "display_data",
          "data": {
            "text/plain": [
              "<IPython.core.display.Markdown object>"
            ],
            "text/markdown": "#### Dia 2 (2025-09-21):"
          },
          "metadata": {}
        },
        {
          "output_type": "display_data",
          "data": {
            "text/plain": [
              "<IPython.core.display.Markdown object>"
            ],
            "text/markdown": "**Atividades:**"
          },
          "metadata": {}
        },
        {
          "output_type": "display_data",
          "data": {
            "text/plain": [
              "<IPython.core.display.Markdown object>"
            ],
            "text/markdown": "- Visita à Catedral de Santo Estêvão (1-2 horas)"
          },
          "metadata": {}
        },
        {
          "output_type": "display_data",
          "data": {
            "text/plain": [
              "<IPython.core.display.Markdown object>"
            ],
            "text/markdown": "- Passeio pelo centro histórico, incluindo a Stephansplatz e Graben (1-2 horas)"
          },
          "metadata": {}
        },
        {
          "output_type": "display_data",
          "data": {
            "text/plain": [
              "<IPython.core.display.Markdown object>"
            ],
            "text/markdown": "- Almoço em um café tradicional vienense no centro histórico"
          },
          "metadata": {}
        },
        {
          "output_type": "display_data",
          "data": {
            "text/plain": [
              "<IPython.core.display.Markdown object>"
            ],
            "text/markdown": "- Visita ao Palácio de Hofburg (3-4 horas)"
          },
          "metadata": {}
        },
        {
          "output_type": "display_data",
          "data": {
            "text/plain": [
              "<IPython.core.display.Markdown object>"
            ],
            "text/markdown": "- Jantar em um Heuriger (taverna de vinhos) em Grinzing (transporte público, aprox. 30 min)"
          },
          "metadata": {}
        },
        {
          "output_type": "display_data",
          "data": {
            "text/plain": [
              "<IPython.core.display.Markdown object>"
            ],
            "text/markdown": "*Observações:* A Catedral e o Palácio de Hofburg ficam próximos.  Grinzing oferece um ambiente mais autêntico para o jantar."
          },
          "metadata": {}
        },
        {
          "output_type": "display_data",
          "data": {
            "text/plain": [
              "<IPython.core.display.Markdown object>"
            ],
            "text/markdown": "---"
          },
          "metadata": {}
        },
        {
          "output_type": "display_data",
          "data": {
            "text/plain": [
              "<IPython.core.display.Markdown object>"
            ],
            "text/markdown": "#### Dia 3 (2025-09-22):"
          },
          "metadata": {}
        },
        {
          "output_type": "display_data",
          "data": {
            "text/plain": [
              "<IPython.core.display.Markdown object>"
            ],
            "text/markdown": "**Atividades:**"
          },
          "metadata": {}
        },
        {
          "output_type": "display_data",
          "data": {
            "text/plain": [
              "<IPython.core.display.Markdown object>"
            ],
            "text/markdown": "- Visita ao Palácio de Schönbrunn e seus jardins (4-5 horas, considere reservar ingressos antecipadamente)"
          },
          "metadata": {}
        },
        {
          "output_type": "display_data",
          "data": {
            "text/plain": [
              "<IPython.core.display.Markdown object>"
            ],
            "text/markdown": "- Almoço nos jardins do Palácio de Schönbrunn"
          },
          "metadata": {}
        },
        {
          "output_type": "display_data",
          "data": {
            "text/plain": [
              "<IPython.core.display.Markdown object>"
            ],
            "text/markdown": "- Visita ao Museu de História da Arte (2-3 horas)"
          },
          "metadata": {}
        },
        {
          "output_type": "display_data",
          "data": {
            "text/plain": [
              "<IPython.core.display.Markdown object>"
            ],
            "text/markdown": "- Jantar em um restaurante no MuseumsQuartier"
          },
          "metadata": {}
        },
        {
          "output_type": "display_data",
          "data": {
            "text/plain": [
              "<IPython.core.display.Markdown object>"
            ],
            "text/markdown": "*Observações:* Utilize o U-Bahn para ir ao Palácio de Schönbrunn. O museu fica próximo ao Palácio."
          },
          "metadata": {}
        },
        {
          "output_type": "display_data",
          "data": {
            "text/plain": [
              "<IPython.core.display.Markdown object>"
            ],
            "text/markdown": "---"
          },
          "metadata": {}
        },
        {
          "output_type": "display_data",
          "data": {
            "text/plain": [
              "<IPython.core.display.Markdown object>"
            ],
            "text/markdown": "#### Dia 4 (2025-09-23):"
          },
          "metadata": {}
        },
        {
          "output_type": "display_data",
          "data": {
            "text/plain": [
              "<IPython.core.display.Markdown object>"
            ],
            "text/markdown": "**Atividades:**"
          },
          "metadata": {}
        },
        {
          "output_type": "display_data",
          "data": {
            "text/plain": [
              "<IPython.core.display.Markdown object>"
            ],
            "text/markdown": "- Visita ao MuseumsQuartier (2-3 horas), incluindo o Leopold Museum (opcional)"
          },
          "metadata": {}
        },
        {
          "output_type": "display_data",
          "data": {
            "text/plain": [
              "<IPython.core.display.Markdown object>"
            ],
            "text/markdown": "- Almoço no MuseumsQuartier"
          },
          "metadata": {}
        },
        {
          "output_type": "display_data",
          "data": {
            "text/plain": [
              "<IPython.core.display.Markdown object>"
            ],
            "text/markdown": "- Visita ao Belvedere (2-3 horas), incluindo o Palácio de Belvedere Inferior (caminhada curta entre os locais)"
          },
          "metadata": {}
        },
        {
          "output_type": "display_data",
          "data": {
            "text/plain": [
              "<IPython.core.display.Markdown object>"
            ],
            "text/markdown": "- Visita ao Naschmarkt (1-2 horas) para experimentar a culinária local"
          },
          "metadata": {}
        },
        {
          "output_type": "display_data",
          "data": {
            "text/plain": [
              "<IPython.core.display.Markdown object>"
            ],
            "text/markdown": "- Jantar no Naschmarkt"
          },
          "metadata": {}
        },
        {
          "output_type": "display_data",
          "data": {
            "text/plain": [
              "<IPython.core.display.Markdown object>"
            ],
            "text/markdown": "*Observações:* Belvedere e MuseumsQuartier são próximos. O Naschmarkt oferece diversas opções gastronômicas."
          },
          "metadata": {}
        },
        {
          "output_type": "display_data",
          "data": {
            "text/plain": [
              "<IPython.core.display.Markdown object>"
            ],
            "text/markdown": "---"
          },
          "metadata": {}
        },
        {
          "output_type": "display_data",
          "data": {
            "text/plain": [
              "<IPython.core.display.Markdown object>"
            ],
            "text/markdown": "#### Dia 5 (2025-09-24):"
          },
          "metadata": {}
        },
        {
          "output_type": "display_data",
          "data": {
            "text/plain": [
              "<IPython.core.display.Markdown object>"
            ],
            "text/markdown": "**Atividades:**"
          },
          "metadata": {}
        },
        {
          "output_type": "display_data",
          "data": {
            "text/plain": [
              "<IPython.core.display.Markdown object>"
            ],
            "text/markdown": "- Visita ao Prater e passeio na Roda Gigante (2-3 horas)"
          },
          "metadata": {}
        },
        {
          "output_type": "display_data",
          "data": {
            "text/plain": [
              "<IPython.core.display.Markdown object>"
            ],
            "text/markdown": "- Almoço no Prater"
          },
          "metadata": {}
        },
        {
          "output_type": "display_data",
          "data": {
            "text/plain": [
              "<IPython.core.display.Markdown object>"
            ],
            "text/markdown": "- Visita opcional ao Donauturm para vistas panorâmicas do pôr do sol (1-2 horas, transporte público, aprox. 30 min)"
          },
          "metadata": {}
        },
        {
          "output_type": "display_data",
          "data": {
            "text/plain": [
              "<IPython.core.display.Markdown object>"
            ],
            "text/markdown": "- Compras de lembranças no centro da cidade (aprox. 1-2 horas)"
          },
          "metadata": {}
        },
        {
          "output_type": "display_data",
          "data": {
            "text/plain": [
              "<IPython.core.display.Markdown object>"
            ],
            "text/markdown": "- Jantar de despedida em um restaurante de sua escolha"
          },
          "metadata": {}
        },
        {
          "output_type": "display_data",
          "data": {
            "text/plain": [
              "<IPython.core.display.Markdown object>"
            ],
            "text/markdown": "- Check-out do Hotel-Pension Wild"
          },
          "metadata": {}
        },
        {
          "output_type": "display_data",
          "data": {
            "text/plain": [
              "<IPython.core.display.Markdown object>"
            ],
            "text/markdown": "*Observações:* Combine o Prater com o Donauturm para aproveitar o pôr do sol.  Retorne ao centro para compras de lembranças."
          },
          "metadata": {}
        },
        {
          "output_type": "display_data",
          "data": {
            "text/plain": [
              "<IPython.core.display.Markdown object>"
            ],
            "text/markdown": "---"
          },
          "metadata": {}
        }
      ]
    },
    {
      "cell_type": "code",
      "metadata": {
        "colab": {
          "base_uri": "https://localhost:8080/"
        },
        "id": "8GnJLeOcfvEl",
        "outputId": "e783f552-e00b-4801-ebaf-07a1960378c9"
      },
      "source": [
        "import json\n",
        "\n",
        "# Caminho para salvar o arquivo JSON\n",
        "json_output_path = \"/content/planejamento_viagem_completo.json\"\n",
        "\n",
        "# Verifica se 'dados_finais_viagem' está definido e não é None\n",
        "if 'dados_finais_viagem' in locals() and dados_finais_viagem is not None:\n",
        "    try:\n",
        "        with open(json_output_path, 'w', encoding='utf-8') as f:\n",
        "            json.dump(dados_finais_viagem, f, ensure_ascii=False, indent=4)\n",
        "        print(f\"✅ Planejamento completo da viagem salvo em {json_output_path}\")\n",
        "    except Exception as e:\n",
        "        print(f\"❌ Erro ao salvar o planejamento em JSON: {e}\")\n",
        "else:\n",
        "    print(\"⚠️ Variável 'dados_finais_viagem' não encontrada ou está vazia. Certifique-se de que o planejador foi executado.\")\n"
      ],
      "execution_count": 6,
      "outputs": [
        {
          "output_type": "stream",
          "name": "stdout",
          "text": [
            "✅ Planejamento completo da viagem salvo em /content/planejamento_viagem_completo.json\n"
          ]
        }
      ]
    },
    {
      "cell_type": "code",
      "metadata": {
        "colab": {
          "base_uri": "https://localhost:8080/"
        },
        "id": "oKINF3VNfvEl",
        "outputId": "4f3be1df-7849-4832-c544-fc4fc2e4305a"
      },
      "source": [
        "import json\n",
        "from fpdf import FPDF\n",
        "import os\n",
        "\n",
        "json_input_path = \"/content/planejamento_viagem_completo.json\"\n",
        "pdf_output_path = \"/content/planejamento_viagem_completo.pdf\"\n",
        "\n",
        "if not os.path.exists(json_input_path):\n",
        "    print(f\"❌ Erro: Arquivo JSON de planejamento não encontrado em {json_input_path}.Certifique-se de que a célula anterior foi executada e o JSON foi salvo.\")\n",
        "\n",
        "else:\n",
        "    try:\n",
        "        with open(json_input_path, \"r\", encoding=\"utf-8\") as f:\n",
        "            planejamento_viagem = json.load(f)\n",
        "\n",
        "        pdf = FPDF()\n",
        "        pdf.add_page()\n",
        "        pdf.set_font(\"Arial\", \"B\", 16)\n",
        "        pdf.cell(200, 10, txt=\"Planejamento de Viagem Otimizado\", ln=True, align=\"C\")\n",
        "        pdf.set_font(\"Arial\", \"\", 12)\n",
        "        pdf.ln(10)\n",
        "\n",
        "        for destino_info in planejamento_viagem:\n",
        "            pdf.set_font(\"Arial\", \"B\", 14)\n",
        "            pdf.cell(200, 10, txt=f\"Cidade: {destino_info.get('cidade', 'N/A')} ({destino_info.get('pais', 'N/A')})\", ln=True)\n",
        "            pdf.set_font(\"Arial\", \"\", 12)\n",
        "            pdf.multi_cell(0, 8, txt=f\"Hospedagem: {destino_info.get('hospedagem', 'N/A')}\")\n",
        "            pdf.multi_cell(0, 8, txt=f\"Período: {destino_info.get('data_chegada', 'N/A')} a {destino_info.get('data_partida', 'N/A')}\")\n",
        "            pdf.ln(5)\n",
        "\n",
        "            if \"roteiro_otimizado\" in destino_info and destino_info[\"roteiro_otimizado\"]:\n",
        "                pdf.set_font(\"Arial\", \"B\", 12)\n",
        "                pdf.cell(200, 10, txt=\"Roteiro Otimizado:\", ln=True)\n",
        "                pdf.set_font(\"Arial\", \"\", 10)\n",
        "                for dia_roteiro in destino_info[\"roteiro_otimizado\"]:\n",
        "                    pdf.multi_cell(0, 6, txt=f\"Dia {dia_roteiro.get('dia', 'N/A')}: {dia_roteiro.get('atividades', 'N/A')}\")\n",
        "                    if \"restaurantes\" in dia_roteiro and dia_roteiro[\"restaurantes\"]:\n",
        "                        pdf.multi_cell(0, 6, txt=\"  Sugestões de Restaurantes:\")\n",
        "                        for cat, rest_list in dia_roteiro[\"restaurantes\"] .items():\n",
        "                            pdf.multi_cell(0, 6, txt=f\"    {cat}:\")\n",
        "                            for rest in rest_list:\n",
        "                                pdf.multi_cell(0, 6, txt=f\"      - {rest.get('nome', 'N/A')} ({rest.get('faixa_preco', 'N/A')})\")\n",
        "                    if \"atracoes_detalhadas\" in dia_roteiro and dia_roteiro[\"atracoes_detalhadas\"]:\n",
        "                        pdf.multi_cell(0, 6, txt=\"  Detalhes das Atrações:\")\n",
        "                        for atracao_detalhe in dia_roteiro[\"atracoes_detalhadas\"]:\n",
        "                            pdf.multi_cell(0, 6, txt=f\"    - {atracao_detalhe.get('nome', 'N/A')}: Preço: {atracao_detalhe.get('preco_ingresso', 'N/A')}, Link: {atracao_detalhe.get('link_ingresso', 'N/A')}\")\n",
        "            else:\n",
        "                pdf.multi_cell(0, 8, txt=\"Nenhum roteiro otimizado disponível para esta cidade.\")\n",
        "            pdf.ln(10)\n",
        "\n",
        "        pdf.output(pdf_output_path)\n",
        "        print(f\"✅ Planejamento completo da viagem salvo em PDF: {pdf_output_path}\")\n",
        "    except Exception as e:\n",
        "        print(f\"❌ Erro ao gerar o PDF: {e}\")\n"
      ],
      "execution_count": 10,
      "outputs": [
        {
          "output_type": "stream",
          "name": "stdout",
          "text": [
            "❌ Erro ao gerar o PDF: Not enough horizontal space to render a single character\n"
          ]
        },
        {
          "output_type": "stream",
          "name": "stderr",
          "text": [
            "/tmp/ipython-input-10-3963205386.py:18: DeprecationWarning: Substituting font arial by core font helvetica - This is deprecated since v2.7.8, and will soon be removed\n",
            "  pdf.set_font(\"Arial\", \"B\", 16)\n",
            "/tmp/ipython-input-10-3963205386.py:19: DeprecationWarning: The parameter \"txt\" has been renamed to \"text\" in 2.7.6\n",
            "  pdf.cell(200, 10, txt=\"Planejamento de Viagem Otimizado\", ln=True, align=\"C\")\n",
            "/tmp/ipython-input-10-3963205386.py:19: DeprecationWarning: The parameter \"ln\" is deprecated since v2.5.2. Instead of ln=True use new_x=XPos.LMARGIN, new_y=YPos.NEXT.\n",
            "  pdf.cell(200, 10, txt=\"Planejamento de Viagem Otimizado\", ln=True, align=\"C\")\n",
            "/tmp/ipython-input-10-3963205386.py:20: DeprecationWarning: Substituting font arial by core font helvetica - This is deprecated since v2.7.8, and will soon be removed\n",
            "  pdf.set_font(\"Arial\", \"\", 12)\n",
            "/tmp/ipython-input-10-3963205386.py:24: DeprecationWarning: Substituting font arial by core font helvetica - This is deprecated since v2.7.8, and will soon be removed\n",
            "  pdf.set_font(\"Arial\", \"B\", 14)\n",
            "/tmp/ipython-input-10-3963205386.py:25: DeprecationWarning: The parameter \"txt\" has been renamed to \"text\" in 2.7.6\n",
            "  pdf.cell(200, 10, txt=f\"Cidade: {destino_info.get('cidade', 'N/A')} ({destino_info.get('pais', 'N/A')})\", ln=True)\n",
            "/tmp/ipython-input-10-3963205386.py:25: DeprecationWarning: The parameter \"ln\" is deprecated since v2.5.2. Instead of ln=True use new_x=XPos.LMARGIN, new_y=YPos.NEXT.\n",
            "  pdf.cell(200, 10, txt=f\"Cidade: {destino_info.get('cidade', 'N/A')} ({destino_info.get('pais', 'N/A')})\", ln=True)\n",
            "/tmp/ipython-input-10-3963205386.py:26: DeprecationWarning: Substituting font arial by core font helvetica - This is deprecated since v2.7.8, and will soon be removed\n",
            "  pdf.set_font(\"Arial\", \"\", 12)\n",
            "/tmp/ipython-input-10-3963205386.py:27: DeprecationWarning: The parameter \"txt\" has been renamed to \"text\" in 2.7.6\n",
            "  pdf.multi_cell(0, 8, txt=f\"Hospedagem: {destino_info.get('hospedagem', 'N/A')}\")\n",
            "/tmp/ipython-input-10-3963205386.py:28: DeprecationWarning: The parameter \"txt\" has been renamed to \"text\" in 2.7.6\n",
            "  pdf.multi_cell(0, 8, txt=f\"Período: {destino_info.get('data_chegada', 'N/A')} a {destino_info.get('data_partida', 'N/A')}\")\n"
          ]
        }
      ]
    },
    {
      "cell_type": "code",
      "metadata": {
        "id": "DyC3WAmwjAr3"
      },
      "source": [
        "import osimport jsonfrom fpdf import FPDF# Caminhos dos arquivosjson_input_path = \"/content/planejamento_viagem_completo.json\"pdf_output_path = \"/content/planejamento_viagem_completo.pdf\"# Verificar se o arquivo JSON existeif not os.path.exists(json_input_path):    print(f\"❌ Erro: Arquivo JSON de planejamento não encontrado em {json_input_path}.\")    print(\"Certifique-se de que a célula anterior foi executada e o JSON foi salvo.\")else:    try:        # Carregar dados do JSON        with open(json_input_path, \"r\", encoding=\"utf-8\") as f:            planejamento_viagem = json.load(f)        # Criar PDF        pdf = FPDF()        pdf.add_page()        pdf.set_font(\"Arial\", \"B\", 16)        pdf.cell(200, 10, txt=\"Planejamento de Viagem Otimizado\", ln=True, align=\"C\")        pdf.set_font(\"Arial\", \"\", 12)        pdf.ln(10)        # Adicionar conteúdo para cada destino        for destino_info in planejamento_viagem:            # Título da cidade            pdf.set_font(\"Arial\", \"B\", 14)            cidade = destino_info.get('cidade', 'N/A')            pais = destino_info.get('pais', 'N/A')            pdf.cell(200, 10, txt=f\"Cidade: {cidade} ({pais})\", ln=True)                        # Informações básicas            pdf.set_font(\"Arial\", \"\", 12)            hospedagem = destino_info.get('hospedagem', 'N/A')            pdf.multi_cell(0, 8, txt=f\"Hospedagem: {hospedagem}\")                        data_chegada = destino_info.get('data_chegada', 'N/A')            data_partida = destino_info.get('data_partida', 'N/A')            pdf.multi_cell(0, 8, txt=f\"Período: {data_chegada} a {data_partida}\")            pdf.ln(5)            # Roteiro otimizado            if \"roteiro_otimizado\" in destino_info and destino_info[\"roteiro_otimizado\"]:                pdf.set_font(\"Arial\", \"B\", 12)                pdf.cell(200, 10, txt=\"Roteiro Otimizado:\", ln=True)                pdf.set_font(\"Arial\", \"\", 10)                                for dia_roteiro in destino_info[\"roteiro_otimizado\"]:                    dia = dia_roteiro.get('dia', 'N/A')                    atividades = dia_roteiro.get('atividades', 'N/A')                    pdf.multi_cell(0, 6, txt=f\"Dia {dia}: {atividades}\")                                        # Restaurantes                    if \"restaurantes\" in dia_roteiro and dia_roteiro[\"restaurantes\"]:                        pdf.multi_cell(0, 6, txt=\"  Sugestões de Restaurantes:\")                        for categoria, restaurantes in dia_roteiro[\"restaurantes\"].items():                            pdf.multi_cell(0, 6, txt=f\"    {categoria}:\")                            for restaurante in restaurantes:                                nome = restaurante.get('nome', 'N/A')                                faixa_preco = restaurante.get('faixa_preco', 'N/A')                                pdf.multi_cell(0, 6, txt=f\"      - {nome} ({faixa_preco})\")                                        # Detalhes das atrações                    if \"atracoes_detalhadas\" in dia_roteiro and dia_roteiro[\"atracoes_detalhadas\"]:                        pdf.multi_cell(0, 6, txt=\"  Detalhes das Atrações:\")                        for atracao in dia_roteiro[\"atracoes_detalhadas\"]:                            nome = atracao.get('nome', 'N/A')                            preco = atracao.get('preco_ingresso', 'N/A')                            link = atracao.get('link_ingresso', 'N/A')                            pdf.multi_cell(0, 6, txt=f\"    - {nome}: Preço: {preco}, Link: {link}\")            else:                pdf.multi_cell(0, 8, txt=\"Nenhum roteiro otimizado disponível para esta cidade.\")                        pdf.ln(10)        # Salvar PDF        pdf.output(pdf_output_path)        print(f\"✅ Planejamento completo da viagem salvo em PDF: {pdf_output_path}\")            except Exception as e:        print(f\"❌ Erro ao gerar o PDF: {e}\")"
      ],
      "execution_count": null,
      "outputs": []
    }
  ]
}