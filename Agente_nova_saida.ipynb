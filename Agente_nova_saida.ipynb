{
  "nbformat": 4,
  "nbformat_minor": 0,
  "metadata": {
    "colab": {
      "provenance": [],
      "authorship_tag": "ABX9TyOtUEBgK37wIGKLAM2r+ewK",
      "include_colab_link": true
    },
    "kernelspec": {
      "name": "python3",
      "display_name": "Python 3"
    },
    "language_info": {
      "name": "python"
    }
  },
  "cells": [
    {
      "cell_type": "markdown",
      "metadata": {
        "id": "view-in-github",
        "colab_type": "text"
      },
      "source": [
        "<a href=\"https://colab.research.google.com/github/emello23/Alura-Gemini/blob/main/Agente_nova_saida.ipynb\" target=\"_parent\"><img src=\"https://colab.research.google.com/assets/colab-badge.svg\" alt=\"Open In Colab\"/></a>"
      ]
    },
    {
      "cell_type": "code",
      "execution_count": null,
      "metadata": {
        "id": "BtTC3gLfzG9R",
        "colab": {
          "base_uri": "https://localhost:8080/"
        },
        "outputId": "516114d0-b982-4cd3-f813-acea78db40b2"
      },
      "outputs": [
        {
          "output_type": "stream",
          "name": "stdout",
          "text": [
            "Requirement already satisfied: pandas in /usr/local/lib/python3.11/dist-packages (2.2.2)\n",
            "Requirement already satisfied: google-api-python-client in /usr/local/lib/python3.11/dist-packages (2.171.0)\n",
            "Requirement already satisfied: google-generativeai in /usr/local/lib/python3.11/dist-packages (0.8.5)\n",
            "Requirement already satisfied: numpy>=1.23.2 in /usr/local/lib/python3.11/dist-packages (from pandas) (2.0.2)\n",
            "Requirement already satisfied: python-dateutil>=2.8.2 in /usr/local/lib/python3.11/dist-packages (from pandas) (2.9.0.post0)\n",
            "Requirement already satisfied: pytz>=2020.1 in /usr/local/lib/python3.11/dist-packages (from pandas) (2025.2)\n",
            "Requirement already satisfied: tzdata>=2022.7 in /usr/local/lib/python3.11/dist-packages (from pandas) (2025.2)\n",
            "Requirement already satisfied: httplib2<1.0.0,>=0.19.0 in /usr/local/lib/python3.11/dist-packages (from google-api-python-client) (0.22.0)\n",
            "Requirement already satisfied: google-auth!=2.24.0,!=2.25.0,<3.0.0,>=1.32.0 in /usr/local/lib/python3.11/dist-packages (from google-api-python-client) (2.38.0)\n",
            "Requirement already satisfied: google-auth-httplib2<1.0.0,>=0.2.0 in /usr/local/lib/python3.11/dist-packages (from google-api-python-client) (0.2.0)\n",
            "Requirement already satisfied: google-api-core!=2.0.*,!=2.1.*,!=2.2.*,!=2.3.0,<3.0.0,>=1.31.5 in /usr/local/lib/python3.11/dist-packages (from google-api-python-client) (2.25.0)\n",
            "Requirement already satisfied: uritemplate<5,>=3.0.1 in /usr/local/lib/python3.11/dist-packages (from google-api-python-client) (4.2.0)\n",
            "Requirement already satisfied: google-ai-generativelanguage==0.6.15 in /usr/local/lib/python3.11/dist-packages (from google-generativeai) (0.6.15)\n",
            "Requirement already satisfied: protobuf in /usr/local/lib/python3.11/dist-packages (from google-generativeai) (5.29.5)\n",
            "Requirement already satisfied: pydantic in /usr/local/lib/python3.11/dist-packages (from google-generativeai) (2.11.5)\n",
            "Requirement already satisfied: tqdm in /usr/local/lib/python3.11/dist-packages (from google-generativeai) (4.67.1)\n",
            "Requirement already satisfied: typing-extensions in /usr/local/lib/python3.11/dist-packages (from google-generativeai) (4.14.0)\n",
            "Requirement already satisfied: proto-plus<2.0.0dev,>=1.22.3 in /usr/local/lib/python3.11/dist-packages (from google-ai-generativelanguage==0.6.15->google-generativeai) (1.26.1)\n",
            "Requirement already satisfied: googleapis-common-protos<2.0.0,>=1.56.2 in /usr/local/lib/python3.11/dist-packages (from google-api-core!=2.0.*,!=2.1.*,!=2.2.*,!=2.3.0,<3.0.0,>=1.31.5->google-api-python-client) (1.70.0)\n",
            "Requirement already satisfied: requests<3.0.0,>=2.18.0 in /usr/local/lib/python3.11/dist-packages (from google-api-core!=2.0.*,!=2.1.*,!=2.2.*,!=2.3.0,<3.0.0,>=1.31.5->google-api-python-client) (2.32.3)\n",
            "Requirement already satisfied: cachetools<6.0,>=2.0.0 in /usr/local/lib/python3.11/dist-packages (from google-auth!=2.24.0,!=2.25.0,<3.0.0,>=1.32.0->google-api-python-client) (5.5.2)\n",
            "Requirement already satisfied: pyasn1-modules>=0.2.1 in /usr/local/lib/python3.11/dist-packages (from google-auth!=2.24.0,!=2.25.0,<3.0.0,>=1.32.0->google-api-python-client) (0.4.2)\n",
            "Requirement already satisfied: rsa<5,>=3.1.4 in /usr/local/lib/python3.11/dist-packages (from google-auth!=2.24.0,!=2.25.0,<3.0.0,>=1.32.0->google-api-python-client) (4.9.1)\n",
            "Requirement already satisfied: pyparsing!=3.0.0,!=3.0.1,!=3.0.2,!=3.0.3,<4,>=2.4.2 in /usr/local/lib/python3.11/dist-packages (from httplib2<1.0.0,>=0.19.0->google-api-python-client) (3.2.3)\n",
            "Requirement already satisfied: six>=1.5 in /usr/local/lib/python3.11/dist-packages (from python-dateutil>=2.8.2->pandas) (1.17.0)\n",
            "Requirement already satisfied: annotated-types>=0.6.0 in /usr/local/lib/python3.11/dist-packages (from pydantic->google-generativeai) (0.7.0)\n",
            "Requirement already satisfied: pydantic-core==2.33.2 in /usr/local/lib/python3.11/dist-packages (from pydantic->google-generativeai) (2.33.2)\n",
            "Requirement already satisfied: typing-inspection>=0.4.0 in /usr/local/lib/python3.11/dist-packages (from pydantic->google-generativeai) (0.4.1)\n",
            "Requirement already satisfied: grpcio<2.0.0,>=1.33.2 in /usr/local/lib/python3.11/dist-packages (from google-api-core[grpc]!=2.0.*,!=2.1.*,!=2.10.*,!=2.2.*,!=2.3.*,!=2.4.*,!=2.5.*,!=2.6.*,!=2.7.*,!=2.8.*,!=2.9.*,<3.0.0dev,>=1.34.1->google-ai-generativelanguage==0.6.15->google-generativeai) (1.72.1)\n",
            "Requirement already satisfied: grpcio-status<2.0.0,>=1.33.2 in /usr/local/lib/python3.11/dist-packages (from google-api-core[grpc]!=2.0.*,!=2.1.*,!=2.10.*,!=2.2.*,!=2.3.*,!=2.4.*,!=2.5.*,!=2.6.*,!=2.7.*,!=2.8.*,!=2.9.*,<3.0.0dev,>=1.34.1->google-ai-generativelanguage==0.6.15->google-generativeai) (1.71.0)\n",
            "Requirement already satisfied: pyasn1<0.7.0,>=0.6.1 in /usr/local/lib/python3.11/dist-packages (from pyasn1-modules>=0.2.1->google-auth!=2.24.0,!=2.25.0,<3.0.0,>=1.32.0->google-api-python-client) (0.6.1)\n",
            "Requirement already satisfied: charset-normalizer<4,>=2 in /usr/local/lib/python3.11/dist-packages (from requests<3.0.0,>=2.18.0->google-api-core!=2.0.*,!=2.1.*,!=2.2.*,!=2.3.0,<3.0.0,>=1.31.5->google-api-python-client) (3.4.2)\n",
            "Requirement already satisfied: idna<4,>=2.5 in /usr/local/lib/python3.11/dist-packages (from requests<3.0.0,>=2.18.0->google-api-core!=2.0.*,!=2.1.*,!=2.2.*,!=2.3.0,<3.0.0,>=1.31.5->google-api-python-client) (3.10)\n",
            "Requirement already satisfied: urllib3<3,>=1.21.1 in /usr/local/lib/python3.11/dist-packages (from requests<3.0.0,>=2.18.0->google-api-core!=2.0.*,!=2.1.*,!=2.2.*,!=2.3.0,<3.0.0,>=1.31.5->google-api-python-client) (2.4.0)\n",
            "Requirement already satisfied: certifi>=2017.4.17 in /usr/local/lib/python3.11/dist-packages (from requests<3.0.0,>=2.18.0->google-api-core!=2.0.*,!=2.1.*,!=2.2.*,!=2.3.0,<3.0.0,>=1.31.5->google-api-python-client) (2025.4.26)\n"
          ]
        }
      ],
      "source": [
        "!pip install pandas google-api-python-client google-generativeai\n"
      ]
    },
    {
      "cell_type": "code",
      "source": [
        "import pandas as pd\n",
        "import time\n",
        "from IPython.display import display, Markdown\n",
        "from tabulate import tabulate\n",
        "from urllib.parse import quote_plus\n",
        "import google.generativeai as genai # SDK do Gemini\n",
        "import json # Para parsear a resposta do Gemini\n",
        "from google.colab import userdata # Para acessar a API key\n",
        "\n",
        "# --- Configuração do Agente e API Key ---\n",
        "GOOGLE_API_KEY = None\n",
        "gemini_model_instance = None # Renomeado para clareza\n",
        "\n",
        "try:\n",
        "    # O nome padrão para secrets é sem o sufixo _, a menos que você tenha nomeado especificamente assim.\n",
        "    # Vou usar 'GOOGLE_API_KEY' como padrão, conforme a prática comum.\n",
        "    GOOGLE_API_KEY = userdata.get('GOOGLE_API_KEY')\n",
        "    if not GOOGLE_API_KEY:\n",
        "        display(Markdown(\"<font color='red'>**Erro Crítico: GOOGLE_API_KEY não encontrada nos Secrets do Colab.** \"\n",
        "                         \"Por favor, configure-a com o nome 'GOOGLE_API_KEY'.</font>\"))\n",
        "    else:\n",
        "        genai.configure(api_key=GOOGLE_API_KEY)\n",
        "        gemini_model_instance = genai.GenerativeModel(\n",
        "            model_name='gemini-1.5-flash-latest', # Modelo eficiente e capaz\n",
        "            # A opção response_mime_type pode ser usada com modelos mais recentes\n",
        "            # e configurações de segurança apropriadas.\n",
        "            # generation_config=genai.types.GenerationConfig(\n",
        "            #     response_mime_type=\"application/json\"\n",
        "            # )\n",
        "        )\n",
        "        display(Markdown(\"✅ *SDK do Gemini e modelo (`gemini-1.5-flash-latest`) configurados com sucesso.*\"))\n",
        "except Exception as e:\n",
        "    display(Markdown(f\"<font color='red'>**Erro Crítico ao configurar o SDK do Gemini:** {e}. \"\n",
        "                     \"Verifique sua API Key, permissões e se o nome do secret está correto ('GOOGLE_API_KEY'). \"\n",
        "                     \"O agente não funcionará sem isso.</font>\"))\n",
        "    # O script poderia parar aqui ou continuar com funcionalidades limitadas se houvesse um fallback.\n",
        "    # Para este agente, o Gemini é essencial.\n",
        "\n",
        "# --- Funções Utilitárias ---\n",
        "\n",
        "def carregar_dados_viagem(caminho_arquivo: str) -> pd.DataFrame | None:\n",
        "    \"\"\"\n",
        "    Carrega os dados de viagem do arquivo CSV e valida as colunas necessárias.\n",
        "    \"\"\"\n",
        "    colunas_requeridas = ['cidade', 'pais', 'data_chegada', 'data_partida', 'hospedagem']\n",
        "    try:\n",
        "        df = pd.read_csv(caminho_arquivo)\n",
        "\n",
        "        # Validar se as colunas requeridas existem\n",
        "        if not all(col in df.columns for col in colunas_requeridas):\n",
        "            colunas_faltando = [col for col in colunas_requeridas if col not in df.columns]\n",
        "            display(Markdown(f\"<font color='red'>**Erro: O arquivo `{caminho_arquivo}` não contém as colunas requeridas.** \"\n",
        "                             f\"Faltam as seguintes colunas: {', '.join(colunas_faltando)}.</font>\"))\n",
        "            return None\n",
        "\n",
        "        display(Markdown(f\"### Arquivo de Viagem (`{caminho_arquivo}`)\"))\n",
        "        display(df[colunas_requeridas]) # Exibe apenas as colunas relevantes\n",
        "        return df\n",
        "    except FileNotFoundError:\n",
        "        display(Markdown(f\"<font color='red'>**Erro: Arquivo `{caminho_arquivo}` não encontrado.** Verifique o nome e o local.</font>\"))\n",
        "        return None\n",
        "    except Exception as e:\n",
        "        display(Markdown(f\"<font color='red'>**Erro ao carregar o arquivo CSV `{caminho_arquivo}`:** {e}</font>\"))\n",
        "        return None\n",
        "\n",
        "def gerar_links_pesquisa_google(cidade: str, pais: str) -> tuple[str, str, str]:\n",
        "    \"\"\"Gera links de pesquisa úteis para Google Search e Google Maps.\"\"\"\n",
        "    query_atracoes = f\"principais atrações turísticas em {cidade} {pais}\"\n",
        "    link_google_search = f\"https://www.google.com/search?q={quote_plus(query_atracoes)}\"\n",
        "    query_maps_atracoes = f\"atrações turísticas em {cidade}, {pais}\"\n",
        "    link_google_maps_atracoes = f\"https://www.google.com/maps/search/{quote_plus(query_maps_atracoes)}\"\n",
        "    query_maps_cidade = f\"{cidade}, {pais}\"\n",
        "    link_google_maps_cidade = f\"https://www.google.com/maps/place/{quote_plus(query_maps_cidade)}\"\n",
        "    return link_google_search, link_google_maps_atracoes, link_google_maps_cidade\n",
        "\n",
        "# --- Definição do Agente Pesquisador de Atrações ---\n",
        "\n",
        "class AgentePesquisadorAtracoes:\n",
        "    \"\"\"\n",
        "    Um agente responsável por pesquisar atrações turísticas usando o Gemini\n",
        "    e fornecer links úteis para pesquisa manual.\n",
        "    \"\"\"\n",
        "    def __init__(self, modelo_llm: genai.GenerativeModel):\n",
        "        if modelo_llm is None:\n",
        "            raise ValueError(\"O modelo LLM (Gemini) não pode ser None para este agente.\")\n",
        "        self.modelo = modelo_llm\n",
        "        self.safety_settings = [ # Configurações de segurança para o Gemini\n",
        "            {\"category\": \"HARM_CATEGORY_HARASSMENT\", \"threshold\": \"BLOCK_MEDIUM_AND_ABOVE\"},\n",
        "            {\"category\": \"HARM_CATEGORY_HATE_SPEECH\", \"threshold\": \"BLOCK_MEDIUM_AND_ABOVE\"},\n",
        "            {\"category\": \"HARM_CATEGORY_SEXUALLY_EXPLICIT\", \"threshold\": \"BLOCK_MEDIUM_AND_ABOVE\"},\n",
        "            {\"category\": \"HARM_CATEGORY_DANGEROUS_CONTENT\", \"threshold\": \"BLOCK_MEDIUM_AND_ABOVE\"},\n",
        "        ]\n",
        "\n",
        "    def _obter_sugestoes_gemini(self, cidade: str, pais: str, top_n: int = 7) -> list[dict]:\n",
        "        \"\"\"\n",
        "        Ferramenta interna do agente para consultar o Gemini sobre atrações.\n",
        "        \"\"\"\n",
        "        display(Markdown(f\"🧠 *Agente consultando Gemini sobre atrações em: **{cidade}, {pais}** (Top {top_n})...*\"))\n",
        "\n",
        "        prompt = f\"\"\"\n",
        "        Você é um assistente de planejamento de viagens altamente especializado e eficiente.\n",
        "        Sua tarefa é identificar as {top_n} principais e mais recomendadas atrações turísticas para a cidade de {cidade}, localizada em {pais}.\n",
        "\n",
        "        Critérios para sua seleção:\n",
        "        1.  **Popularidade e Reconhecimento:** Atrações bem conhecidas e frequentemente visitadas.\n",
        "        2.  **Qualidade das Avaliações:** Lugares geralmente com avaliações positivas (ex: acima de 4.0/5 estrelas).\n",
        "        3.  **Relevância Cultural/Histórica:** Locais com significado importante.\n",
        "        4.  **Diversidade de Experiências:** Inclua uma mistura de tipos, como museus, monumentos, parques, mercados, igrejas/catedrais, mirantes, etc., quando apropriado para a cidade.\n",
        "        5.  **Singularidade:** Atrações que oferecem uma experiência única ou icônica da cidade/região.\n",
        "\n",
        "        Formato da Resposta:\n",
        "        Retorne **estritamente uma lista JSON**. Cada elemento da lista deve ser um dicionário representando uma atração,\n",
        "        contendo EXATAMENTE as seguintes chaves:\n",
        "        - \"nome\": (string) O nome oficial e completo da atração.\n",
        "        - \"tipo_principal\": (string) A categoria principal da atração (ex: \"Museu de Arte\", \"Catedral Gótica\", \"Parque Urbano\", \"Mercado Histórico\", \"Monumento Nacional\", \"Mirante Panorâmico\"). Seja específico.\n",
        "        - \"descricao_enxuta\": (string) Uma descrição concisa e informativa (1-2 frases) que justifique sua inclusão, destacando seus principais atrativos.\n",
        "        - \"avaliacao_geral\": (string, opcional) Uma estimativa da avaliação geral se for amplamente conhecida (ex: \"Excelente\", \"Muito Popular\", \"4.5/5 estrelas\"). Use \"N/A\" se não houver uma estimativa clara.\n",
        "        - \"destaque_principal\": (string) O motivo principal pelo qual um turista deveria visitar (ex: \"Vistas incríveis da cidade\", \"Coleção de arte renascentista\", \"Arquitetura impressionante\", \"Atmosfera vibrante\").\n",
        "\n",
        "        Exemplo de um item na lista JSON:\n",
        "        {{\n",
        "          \"nome\": \"Museu do Louvre\",\n",
        "          \"tipo_principal\": \"Museu de Arte e Antiguidades\",\n",
        "          \"descricao_enxuta\": \"Um dos maiores e mais visitados museus do mundo, lar de obras-primas como a Mona Lisa e a Vênus de Milo.\",\n",
        "          \"avaliacao_geral\": \"4.7/5 estrelas\",\n",
        "          \"destaque_principal\": \"Coleção de arte de renome mundial\"\n",
        "        }}\n",
        "\n",
        "        Garanta que a saída seja SOMENTE a lista JSON, sem nenhum texto introdutório, comentários ou formatação adicional.\n",
        "        \"\"\"\n",
        "\n",
        "        try:\n",
        "            response = self.modelo.generate_content(\n",
        "                prompt,\n",
        "                generation_config=genai.types.GenerationConfig(\n",
        "                    temperature=0.4, # Um pouco mais factual, menos aleatório\n",
        "                    max_output_tokens=3072 # Espaço suficiente para a lista JSON\n",
        "                ),\n",
        "                safety_settings=self.safety_settings\n",
        "            )\n",
        "\n",
        "            json_text = response.text.strip()\n",
        "            # Tentativa robusta de extrair JSON, mesmo que o modelo adicione ```json ... ```\n",
        "            if json_text.startswith(\"```json\"):\n",
        "                json_text = json_text[7:]\n",
        "            if json_text.endswith(\"```\"):\n",
        "                json_text = json_text[:-3]\n",
        "            json_text = json_text.strip()\n",
        "\n",
        "            if not json_text:\n",
        "                display(Markdown(f\"<font color='orange'>Aviso: Gemini retornou uma resposta vazia para {cidade}.</font>\"))\n",
        "                return []\n",
        "\n",
        "            atracoes = json.loads(json_text)\n",
        "            # Garantir que é uma lista, mesmo que o Gemini retorne algo diferente\n",
        "            if not isinstance(atracoes, list):\n",
        "                 display(Markdown(f\"<font color='orange'>Aviso: Gemini retornou um formato inesperado (não uma lista) para {cidade}.</font>\"))\n",
        "                 return []\n",
        "\n",
        "            display(Markdown(f\"✅ *Gemini retornou {len(atracoes)} sugestões de atrações para {cidade}.*\"))\n",
        "            return atracoes[:top_n]\n",
        "        except json.JSONDecodeError as e:\n",
        "            display(Markdown(f\"<font color='red'>**Erro (JSONDecodeError) ao processar resposta do Gemini para {cidade}:** {e}. \"\n",
        "                             \"Isso geralmente ocorre se o modelo não retornar um JSON válido.</font>\"))\n",
        "            if hasattr(response, 'text'):\n",
        "                display(Markdown(f\"<pre>Resposta Bruta do Gemini:\\n{response.text}</pre>\"))\n",
        "            else:\n",
        "                 display(Markdown(f\"<pre>Nenhuma resposta de texto recebida do Gemini.</pre>\"))\n",
        "            return []\n",
        "        except Exception as e:\n",
        "            # Captura de erros mais genéricos, como problemas de API (quota, etc.)\n",
        "            # ou bloqueios de segurança não esperados.\n",
        "            display(Markdown(f\"<font color='red'>**Erro inesperado ao consultar Gemini para {cidade}:** {e}</font>\"))\n",
        "            if hasattr(response, 'prompt_feedback'):\n",
        "                display(Markdown(f\"Feedback do Prompt: {response.prompt_feedback}\"))\n",
        "            return []\n",
        "\n",
        "    def pesquisar_destino(self, cidade: str, pais: str, top_n_sugestoes: int = 7) -> dict:\n",
        "        \"\"\"\n",
        "        Executa a pesquisa de atrações para um destino específico.\n",
        "        \"\"\"\n",
        "        display(Markdown(f\"\\n### 🌍 Agente Iniciando Pesquisa para: **{cidade}, {pais}**\"))\n",
        "\n",
        "        links = gerar_links_pesquisa_google(cidade, pais)\n",
        "        sugestoes_gemini = self._obter_sugestoes_gemini(cidade, pais, top_n=top_n_sugestoes)\n",
        "\n",
        "        display(Markdown(f\"--- Pesquisa para **{cidade}, {pais}** finalizada pelo agente. ---\"))\n",
        "        return {\n",
        "            \"cidade\": cidade,\n",
        "            \"pais\": pais,\n",
        "            \"link_google_search\": links[0],\n",
        "            \"link_google_maps_atracoes\": links[1],\n",
        "            \"link_google_maps_cidade\": links[2],\n",
        "            \"sugestoes_gemini\": sugestoes_gemini\n",
        "        }\n",
        "\n",
        "# --- Função Principal de Execução ---\n",
        "def executar_planejador_viagem(caminho_arquivo_csv: str = 'europa.csv'):\n",
        "    \"\"\"\n",
        "    Orquestra o carregamento dos dados da viagem e a pesquisa de atrações para cada destino.\n",
        "    Recebe o caminho do arquivo CSV como parâmetro.\n",
        "    \"\"\"\n",
        "    if not GOOGLE_API_KEY or not gemini_model_instance:\n",
        "        display(Markdown(\"<font color='red'>**Execução Interrompida.** API Key do Google ou modelo Gemini não configurados corretamente na inicialização.</font>\"))\n",
        "        return\n",
        "\n",
        "    df_viagem = carregar_dados_viagem(caminho_arquivo_csv)\n",
        "\n",
        "    if df_viagem is None:\n",
        "        display(Markdown(\"<font color='red'>**Não foi possível prosseguir sem os dados da viagem.**</font>\"))\n",
        "        return\n",
        "\n",
        "    try:\n",
        "        agente_pesquisador = AgentePesquisadorAtracoes(modelo_llm=gemini_model_instance)\n",
        "    except ValueError as e:\n",
        "        display(Markdown(f\"<font color='red'>**Erro ao criar o agente pesquisador:** {e}</font>\"))\n",
        "        return\n",
        "\n",
        "    display(Markdown(\"\\n# 🗺️ **Relatório de Pesquisa de Atrações do Agente** ✈️\"))\n",
        "\n",
        "    resultados_completos = []\n",
        "    for indice, linha_viagem in df_viagem.iterrows():\n",
        "        cidade = linha_viagem['cidade']\n",
        "        pais = linha_viagem['pais']\n",
        "\n",
        "        resultado_destino = agente_pesquisador.pesquisar_destino(cidade, pais, top_n_sugestoes=15)\n",
        "\n",
        "        # Adicionar dados da viagem original ao resultado\n",
        "        resultado_destino['data_chegada'] = linha_viagem['data_chegada']\n",
        "        resultado_destino['data_partida'] = linha_viagem['data_partida']\n",
        "        resultado_destino['hospedagem'] = linha_viagem['hospedagem']\n",
        "        resultados_completos.append(resultado_destino)\n",
        "\n",
        "        # Exibição imediata por destino\n",
        "        display(Markdown(f\"\\n## 📍 Destino: **{resultado_destino['cidade']}, {resultado_destino['pais']}**\"))\n",
        "        display(Markdown(f\"🗓️ **Período:** {resultado_destino['data_chegada']} a {resultado_destino['data_partida']}\"))\n",
        "        display(Markdown(f\"🏨 **Hospedagem:** {resultado_destino['hospedagem']}\"))\n",
        "\n",
        "        display(Markdown(\"#### 🔍 Links Úteis para Pesquisa Manual Detalhada (abrem em nova aba):\"))\n",
        "        display(Markdown(f\"- **[Google Search: Principais atrações]({resultado_destino['link_google_search']})** \")) # Removido {} extra\n",
        "        display(Markdown(f\"- **[Google Maps: Atrações na área]({resultado_destino['link_google_maps_atracoes']})** \")) # Removido {} extra\n",
        "        display(Markdown(f\"- **[Google Maps: Visão geral da cidade]({resultado_destino['link_google_maps_cidade']})** \")) # Removido {} extra\n",
        "\n",
        "        if resultado_destino['sugestoes_gemini']:\n",
        "            display(Markdown(\"#### ✨ Sugestões de Atrações Principais (via Agente Gemini):\"))\n",
        "\n",
        "            tabela_atracoes_data = []\n",
        "            # Chaves como definidas no prompt do Gemini\n",
        "            headers = [\"Nº\", \"Atração\", \"Tipo Principal\", \"Descrição Enxuta\", \"Avaliação Geral\", \"Destaque Principal\"]\n",
        "\n",
        "            for i, atracao in enumerate(resultado_destino['sugestoes_gemini']):\n",
        "                tabela_atracoes_data.append([\n",
        "                    i + 1,\n",
        "                    atracao.get('nome', 'N/A'),\n",
        "                    atracao.get('tipo_principal', 'N/A'),\n",
        "                    atracao.get('descricao_enxuta', 'N/A'),\n",
        "                    atracao.get('avaliacao_geral', 'N/A'),\n",
        "                    atracao.get('destaque_principal', 'N/A')\n",
        "                ])\n",
        "\n",
        "            tabela_formatada = tabulate(tabela_atracoes_data, headers=headers, tablefmt=\"pipe\", stralign=\"left\")\n",
        "            display(Markdown(tabela_formatada))\n",
        "        else:\n",
        "            display(Markdown(\"<font color='orange'>⚠️ Nenhuma sugestão de atração específica retornada pelo Gemini para este destino. \"\n",
        "                             \"Utilize os links de pesquisa manual acima.</font>\"))\n",
        "        display(Markdown(\"---\")) # Separador visual entre destinos\n",
        "\n",
        "    # Você pode querer fazer algo com 'resultados_completos' aqui, como salvar em um JSON.\n",
        "    # Exemplo:\n",
        "    # with open('planejamento_viagem_atracoes.json', 'w', encoding='utf-8') as f:\n",
        "    #     json.dump(resultados_completos, f, ensure_ascii=False, indent=4)\n",
        "    # display(Markdown(\"\\n💾 *Relatório completo também salvo em `planejamento_viagem_atracoes.json` (descomente para ativar).*\"))\n",
        "\n",
        "# --- Ponto de Entrada da Execução ---\n",
        "if __name__ == \"__main__\":\n",
        "    # Certifique-se de que as bibliotecas estão instaladas\n",
        "    # Em um notebook Colab, você executaria !pip install -q pandas google-generativeai tabulate em uma célula separada.\n",
        "    # Agora você pode chamar a função passando o caminho do seu arquivo CSV, por exemplo:\n",
        "    # executar_planejador_viagem('meu_arquivo_viagem.csv')\n",
        "    # Se nenhum caminho for fornecido, ele usará 'europa.csv' por padrão.\n",
        "    executar_planejador_viagem()"
      ],
      "metadata": {
        "id": "OK0vHJM92vIj",
        "colab": {
          "base_uri": "https://localhost:8080/",
          "height": 1000
        },
        "collapsed": true,
        "outputId": "f41a9ee6-dc74-4a2f-bd72-ba95d0265de8"
      },
      "execution_count": null,
      "outputs": [
        {
          "output_type": "display_data",
          "data": {
            "text/plain": [
              "<IPython.core.display.Markdown object>"
            ],
            "text/markdown": "✅ *SDK do Gemini e modelo (`gemini-1.5-flash-latest`) configurados com sucesso.*"
          },
          "metadata": {}
        },
        {
          "output_type": "display_data",
          "data": {
            "text/plain": [
              "<IPython.core.display.Markdown object>"
            ],
            "text/markdown": "### Arquivo de Viagem (`europa.csv`)"
          },
          "metadata": {}
        },
        {
          "output_type": "display_data",
          "data": {
            "text/plain": [
              "     cidade     pais data_chegada data_partida                    hospedagem\n",
              "0      Roma   Itália   2025-09-13   2025-09-16  Via Francesco Caracciolo n.7\n",
              "1  Florença   Itália   2025-09-16   2025-09-19                  Hotel Bodoni\n",
              "2     Viena  Aústria   2025-09-20   2025-09-24            Hilton Vienna Park"
            ],
            "text/html": [
              "\n",
              "  <div id=\"df-4b237f6e-8429-4a50-af35-d883fefc501c\" class=\"colab-df-container\">\n",
              "    <div>\n",
              "<style scoped>\n",
              "    .dataframe tbody tr th:only-of-type {\n",
              "        vertical-align: middle;\n",
              "    }\n",
              "\n",
              "    .dataframe tbody tr th {\n",
              "        vertical-align: top;\n",
              "    }\n",
              "\n",
              "    .dataframe thead th {\n",
              "        text-align: right;\n",
              "    }\n",
              "</style>\n",
              "<table border=\"1\" class=\"dataframe\">\n",
              "  <thead>\n",
              "    <tr style=\"text-align: right;\">\n",
              "      <th></th>\n",
              "      <th>cidade</th>\n",
              "      <th>pais</th>\n",
              "      <th>data_chegada</th>\n",
              "      <th>data_partida</th>\n",
              "      <th>hospedagem</th>\n",
              "    </tr>\n",
              "  </thead>\n",
              "  <tbody>\n",
              "    <tr>\n",
              "      <th>0</th>\n",
              "      <td>Roma</td>\n",
              "      <td>Itália</td>\n",
              "      <td>2025-09-13</td>\n",
              "      <td>2025-09-16</td>\n",
              "      <td>Via Francesco Caracciolo n.7</td>\n",
              "    </tr>\n",
              "    <tr>\n",
              "      <th>1</th>\n",
              "      <td>Florença</td>\n",
              "      <td>Itália</td>\n",
              "      <td>2025-09-16</td>\n",
              "      <td>2025-09-19</td>\n",
              "      <td>Hotel Bodoni</td>\n",
              "    </tr>\n",
              "    <tr>\n",
              "      <th>2</th>\n",
              "      <td>Viena</td>\n",
              "      <td>Aústria</td>\n",
              "      <td>2025-09-20</td>\n",
              "      <td>2025-09-24</td>\n",
              "      <td>Hilton Vienna Park</td>\n",
              "    </tr>\n",
              "  </tbody>\n",
              "</table>\n",
              "</div>\n",
              "    <div class=\"colab-df-buttons\">\n",
              "\n",
              "  <div class=\"colab-df-container\">\n",
              "    <button class=\"colab-df-convert\" onclick=\"convertToInteractive('df-4b237f6e-8429-4a50-af35-d883fefc501c')\"\n",
              "            title=\"Convert this dataframe to an interactive table.\"\n",
              "            style=\"display:none;\">\n",
              "\n",
              "  <svg xmlns=\"http://www.w3.org/2000/svg\" height=\"24px\" viewBox=\"0 -960 960 960\">\n",
              "    <path d=\"M120-120v-720h720v720H120Zm60-500h600v-160H180v160Zm220 220h160v-160H400v160Zm0 220h160v-160H400v160ZM180-400h160v-160H180v160Zm440 0h160v-160H620v160ZM180-180h160v-160H180v160Zm440 0h160v-160H620v160Z\"/>\n",
              "  </svg>\n",
              "    </button>\n",
              "\n",
              "  <style>\n",
              "    .colab-df-container {\n",
              "      display:flex;\n",
              "      gap: 12px;\n",
              "    }\n",
              "\n",
              "    .colab-df-convert {\n",
              "      background-color: #E8F0FE;\n",
              "      border: none;\n",
              "      border-radius: 50%;\n",
              "      cursor: pointer;\n",
              "      display: none;\n",
              "      fill: #1967D2;\n",
              "      height: 32px;\n",
              "      padding: 0 0 0 0;\n",
              "      width: 32px;\n",
              "    }\n",
              "\n",
              "    .colab-df-convert:hover {\n",
              "      background-color: #E2EBFA;\n",
              "      box-shadow: 0px 1px 2px rgba(60, 64, 67, 0.3), 0px 1px 3px 1px rgba(60, 64, 67, 0.15);\n",
              "      fill: #174EA6;\n",
              "    }\n",
              "\n",
              "    .colab-df-buttons div {\n",
              "      margin-bottom: 4px;\n",
              "    }\n",
              "\n",
              "    [theme=dark] .colab-df-convert {\n",
              "      background-color: #3B4455;\n",
              "      fill: #D2E3FC;\n",
              "    }\n",
              "\n",
              "    [theme=dark] .colab-df-convert:hover {\n",
              "      background-color: #434B5C;\n",
              "      box-shadow: 0px 1px 3px 1px rgba(0, 0, 0, 0.15);\n",
              "      filter: drop-shadow(0px 1px 2px rgba(0, 0, 0, 0.3));\n",
              "      fill: #FFFFFF;\n",
              "    }\n",
              "  </style>\n",
              "\n",
              "    <script>\n",
              "      const buttonEl =\n",
              "        document.querySelector('#df-4b237f6e-8429-4a50-af35-d883fefc501c button.colab-df-convert');\n",
              "      buttonEl.style.display =\n",
              "        google.colab.kernel.accessAllowed ? 'block' : 'none';\n",
              "\n",
              "      async function convertToInteractive(key) {\n",
              "        const element = document.querySelector('#df-4b237f6e-8429-4a50-af35-d883fefc501c');\n",
              "        const dataTable =\n",
              "          await google.colab.kernel.invokeFunction('convertToInteractive',\n",
              "                                                    [key], {});\n",
              "        if (!dataTable) return;\n",
              "\n",
              "        const docLinkHtml = 'Like what you see? Visit the ' +\n",
              "          '<a target=\"_blank\" href=https://colab.research.google.com/notebooks/data_table.ipynb>data table notebook</a>'\n",
              "          + ' to learn more about interactive tables.';\n",
              "        element.innerHTML = '';\n",
              "        dataTable['output_type'] = 'display_data';\n",
              "        await google.colab.output.renderOutput(dataTable, element);\n",
              "        const docLink = document.createElement('div');\n",
              "        docLink.innerHTML = docLinkHtml;\n",
              "        element.appendChild(docLink);\n",
              "      }\n",
              "    </script>\n",
              "  </div>\n",
              "\n",
              "\n",
              "    <div id=\"df-3c12bea4-2243-4ad5-a1be-ea46e78cd5c2\">\n",
              "      <button class=\"colab-df-quickchart\" onclick=\"quickchart('df-3c12bea4-2243-4ad5-a1be-ea46e78cd5c2')\"\n",
              "                title=\"Suggest charts\"\n",
              "                style=\"display:none;\">\n",
              "\n",
              "<svg xmlns=\"http://www.w3.org/2000/svg\" height=\"24px\"viewBox=\"0 0 24 24\"\n",
              "     width=\"24px\">\n",
              "    <g>\n",
              "        <path d=\"M19 3H5c-1.1 0-2 .9-2 2v14c0 1.1.9 2 2 2h14c1.1 0 2-.9 2-2V5c0-1.1-.9-2-2-2zM9 17H7v-7h2v7zm4 0h-2V7h2v10zm4 0h-2v-4h2v4z\"/>\n",
              "    </g>\n",
              "</svg>\n",
              "      </button>\n",
              "\n",
              "<style>\n",
              "  .colab-df-quickchart {\n",
              "      --bg-color: #E8F0FE;\n",
              "      --fill-color: #1967D2;\n",
              "      --hover-bg-color: #E2EBFA;\n",
              "      --hover-fill-color: #174EA6;\n",
              "      --disabled-fill-color: #AAA;\n",
              "      --disabled-bg-color: #DDD;\n",
              "  }\n",
              "\n",
              "  [theme=dark] .colab-df-quickchart {\n",
              "      --bg-color: #3B4455;\n",
              "      --fill-color: #D2E3FC;\n",
              "      --hover-bg-color: #434B5C;\n",
              "      --hover-fill-color: #FFFFFF;\n",
              "      --disabled-bg-color: #3B4455;\n",
              "      --disabled-fill-color: #666;\n",
              "  }\n",
              "\n",
              "  .colab-df-quickchart {\n",
              "    background-color: var(--bg-color);\n",
              "    border: none;\n",
              "    border-radius: 50%;\n",
              "    cursor: pointer;\n",
              "    display: none;\n",
              "    fill: var(--fill-color);\n",
              "    height: 32px;\n",
              "    padding: 0;\n",
              "    width: 32px;\n",
              "  }\n",
              "\n",
              "  .colab-df-quickchart:hover {\n",
              "    background-color: var(--hover-bg-color);\n",
              "    box-shadow: 0 1px 2px rgba(60, 64, 67, 0.3), 0 1px 3px 1px rgba(60, 64, 67, 0.15);\n",
              "    fill: var(--button-hover-fill-color);\n",
              "  }\n",
              "\n",
              "  .colab-df-quickchart-complete:disabled,\n",
              "  .colab-df-quickchart-complete:disabled:hover {\n",
              "    background-color: var(--disabled-bg-color);\n",
              "    fill: var(--disabled-fill-color);\n",
              "    box-shadow: none;\n",
              "  }\n",
              "\n",
              "  .colab-df-spinner {\n",
              "    border: 2px solid var(--fill-color);\n",
              "    border-color: transparent;\n",
              "    border-bottom-color: var(--fill-color);\n",
              "    animation:\n",
              "      spin 1s steps(1) infinite;\n",
              "  }\n",
              "\n",
              "  @keyframes spin {\n",
              "    0% {\n",
              "      border-color: transparent;\n",
              "      border-bottom-color: var(--fill-color);\n",
              "      border-left-color: var(--fill-color);\n",
              "    }\n",
              "    20% {\n",
              "      border-color: transparent;\n",
              "      border-left-color: var(--fill-color);\n",
              "      border-top-color: var(--fill-color);\n",
              "    }\n",
              "    30% {\n",
              "      border-color: transparent;\n",
              "      border-left-color: var(--fill-color);\n",
              "      border-top-color: var(--fill-color);\n",
              "      border-right-color: var(--fill-color);\n",
              "    }\n",
              "    40% {\n",
              "      border-color: transparent;\n",
              "      border-right-color: var(--fill-color);\n",
              "      border-top-color: var(--fill-color);\n",
              "    }\n",
              "    60% {\n",
              "      border-color: transparent;\n",
              "      border-right-color: var(--fill-color);\n",
              "    }\n",
              "    80% {\n",
              "      border-color: transparent;\n",
              "      border-right-color: var(--fill-color);\n",
              "      border-bottom-color: var(--fill-color);\n",
              "    }\n",
              "    90% {\n",
              "      border-color: transparent;\n",
              "      border-bottom-color: var(--fill-color);\n",
              "    }\n",
              "  }\n",
              "</style>\n",
              "\n",
              "      <script>\n",
              "        async function quickchart(key) {\n",
              "          const quickchartButtonEl =\n",
              "            document.querySelector('#' + key + ' button');\n",
              "          quickchartButtonEl.disabled = true;  // To prevent multiple clicks.\n",
              "          quickchartButtonEl.classList.add('colab-df-spinner');\n",
              "          try {\n",
              "            const charts = await google.colab.kernel.invokeFunction(\n",
              "                'suggestCharts', [key], {});\n",
              "          } catch (error) {\n",
              "            console.error('Error during call to suggestCharts:', error);\n",
              "          }\n",
              "          quickchartButtonEl.classList.remove('colab-df-spinner');\n",
              "          quickchartButtonEl.classList.add('colab-df-quickchart-complete');\n",
              "        }\n",
              "        (() => {\n",
              "          let quickchartButtonEl =\n",
              "            document.querySelector('#df-3c12bea4-2243-4ad5-a1be-ea46e78cd5c2 button');\n",
              "          quickchartButtonEl.style.display =\n",
              "            google.colab.kernel.accessAllowed ? 'block' : 'none';\n",
              "        })();\n",
              "      </script>\n",
              "    </div>\n",
              "\n",
              "    </div>\n",
              "  </div>\n"
            ],
            "application/vnd.google.colaboratory.intrinsic+json": {
              "type": "dataframe",
              "summary": "{\n  \"name\": \"    executar_planejador_viagem()\",\n  \"rows\": 3,\n  \"fields\": [\n    {\n      \"column\": \"cidade\",\n      \"properties\": {\n        \"dtype\": \"string\",\n        \"num_unique_values\": 3,\n        \"samples\": [\n          \"Roma\",\n          \"Floren\\u00e7a\",\n          \"Viena\"\n        ],\n        \"semantic_type\": \"\",\n        \"description\": \"\"\n      }\n    },\n    {\n      \"column\": \"pais\",\n      \"properties\": {\n        \"dtype\": \"string\",\n        \"num_unique_values\": 2,\n        \"samples\": [\n          \"A\\u00fastria\",\n          \"It\\u00e1lia\"\n        ],\n        \"semantic_type\": \"\",\n        \"description\": \"\"\n      }\n    },\n    {\n      \"column\": \"data_chegada\",\n      \"properties\": {\n        \"dtype\": \"object\",\n        \"num_unique_values\": 3,\n        \"samples\": [\n          \"2025-09-13\",\n          \"2025-09-16\"\n        ],\n        \"semantic_type\": \"\",\n        \"description\": \"\"\n      }\n    },\n    {\n      \"column\": \"data_partida\",\n      \"properties\": {\n        \"dtype\": \"object\",\n        \"num_unique_values\": 3,\n        \"samples\": [\n          \"2025-09-16\",\n          \"2025-09-19\"\n        ],\n        \"semantic_type\": \"\",\n        \"description\": \"\"\n      }\n    },\n    {\n      \"column\": \"hospedagem\",\n      \"properties\": {\n        \"dtype\": \"string\",\n        \"num_unique_values\": 3,\n        \"samples\": [\n          \"Via Francesco Caracciolo n.7\",\n          \"Hotel Bodoni\"\n        ],\n        \"semantic_type\": \"\",\n        \"description\": \"\"\n      }\n    }\n  ]\n}"
            }
          },
          "metadata": {}
        },
        {
          "output_type": "display_data",
          "data": {
            "text/plain": [
              "<IPython.core.display.Markdown object>"
            ],
            "text/markdown": "\n# 🗺️ **Relatório de Pesquisa de Atrações do Agente** ✈️"
          },
          "metadata": {}
        },
        {
          "output_type": "display_data",
          "data": {
            "text/plain": [
              "<IPython.core.display.Markdown object>"
            ],
            "text/markdown": "\n### 🌍 Agente Iniciando Pesquisa para: **Roma, Itália**"
          },
          "metadata": {}
        },
        {
          "output_type": "display_data",
          "data": {
            "text/plain": [
              "<IPython.core.display.Markdown object>"
            ],
            "text/markdown": "🧠 *Agente consultando Gemini sobre atrações em: **Roma, Itália** (Top 15)...*"
          },
          "metadata": {}
        },
        {
          "output_type": "display_data",
          "data": {
            "text/plain": [
              "<IPython.core.display.Markdown object>"
            ],
            "text/markdown": "✅ *Gemini retornou 15 sugestões de atrações para Roma.*"
          },
          "metadata": {}
        },
        {
          "output_type": "display_data",
          "data": {
            "text/plain": [
              "<IPython.core.display.Markdown object>"
            ],
            "text/markdown": "--- Pesquisa para **Roma, Itália** finalizada pelo agente. ---"
          },
          "metadata": {}
        },
        {
          "output_type": "display_data",
          "data": {
            "text/plain": [
              "<IPython.core.display.Markdown object>"
            ],
            "text/markdown": "\n## 📍 Destino: **Roma, Itália**"
          },
          "metadata": {}
        },
        {
          "output_type": "display_data",
          "data": {
            "text/plain": [
              "<IPython.core.display.Markdown object>"
            ],
            "text/markdown": "🗓️ **Período:** 2025-09-13 a 2025-09-16"
          },
          "metadata": {}
        },
        {
          "output_type": "display_data",
          "data": {
            "text/plain": [
              "<IPython.core.display.Markdown object>"
            ],
            "text/markdown": "🏨 **Hospedagem:** Via Francesco Caracciolo n.7"
          },
          "metadata": {}
        },
        {
          "output_type": "display_data",
          "data": {
            "text/plain": [
              "<IPython.core.display.Markdown object>"
            ],
            "text/markdown": "#### 🔍 Links Úteis para Pesquisa Manual Detalhada (abrem em nova aba):"
          },
          "metadata": {}
        },
        {
          "output_type": "display_data",
          "data": {
            "text/plain": [
              "<IPython.core.display.Markdown object>"
            ],
            "text/markdown": "- **[Google Search: Principais atrações](https://www.google.com/search?q=principais+atra%C3%A7%C3%B5es+tur%C3%ADsticas+em+Roma+It%C3%A1lia)** "
          },
          "metadata": {}
        },
        {
          "output_type": "display_data",
          "data": {
            "text/plain": [
              "<IPython.core.display.Markdown object>"
            ],
            "text/markdown": "- **[Google Maps: Atrações na área](https://www.google.com/maps/search/atra%C3%A7%C3%B5es+tur%C3%ADsticas+em+Roma%2C+It%C3%A1lia)** "
          },
          "metadata": {}
        },
        {
          "output_type": "display_data",
          "data": {
            "text/plain": [
              "<IPython.core.display.Markdown object>"
            ],
            "text/markdown": "- **[Google Maps: Visão geral da cidade](https://www.google.com/maps/place/Roma%2C+It%C3%A1lia)** "
          },
          "metadata": {}
        },
        {
          "output_type": "display_data",
          "data": {
            "text/plain": [
              "<IPython.core.display.Markdown object>"
            ],
            "text/markdown": "#### ✨ Sugestões de Atrações Principais (via Agente Gemini):"
          },
          "metadata": {}
        },
        {
          "output_type": "display_data",
          "data": {
            "text/plain": [
              "<IPython.core.display.Markdown object>"
            ],
            "text/markdown": "|   Nº | Atração               | Tipo Principal               | Descrição Enxuta                                                                                         | Avaliação Geral   | Destaque Principal                                  |\n|-----:|:----------------------|:-----------------------------|:---------------------------------------------------------------------------------------------------------|:------------------|:----------------------------------------------------|\n|    1 | Coliseu               | Monumento Nacional           | Anfiteatro icônico do Império Romano, palco de combates de gladiadores e espetáculos públicos.           | Excelente         | Símbolo de Roma e da história imperial              |\n|    2 | Fórum Romano          | Sítio Arqueológico           | Ruínas do centro cívico e político da antiga Roma, com templos, basílicas e edifícios públicos.          | Muito Popular     | Viagem ao coração da Roma Antiga                    |\n|    3 | Palácio do Vaticano   | Complexo Religioso e Museu   | Sede do Papa e centro do catolicismo, com a Basílica de São Pedro e os Museus Vaticanos.                 | Excelente         | Arte, história e fé em um só lugar                  |\n|    4 | Basílica de São Pedro | Catedral Católica            | Basílica monumental, uma obra-prima da arquitetura renascentista e barroca, com a Pietà de Michelangelo. | Excelente         | Magnificência arquitetônica e importância religiosa |\n|    5 | Museus Vaticanos      | Museu de Arte e Antiguidades | Coleção extensa de arte e artefatos, incluindo a Capela Sistina com os afrescos de Michelangelo.         | Excelente         | Tesouros artísticos inigualáveis                    |\n|    6 | Fontana di Trevi      | Fonte Barroca                | Fonte monumental e icônica, um dos símbolos mais reconhecidos de Roma, com esculturas exuberantes.       | Muito Popular     | Beleza e atmosfera romântica                        |\n|    7 | Pantheon              | Templo Romano                | Templo romano bem preservado, admirado pela sua cúpula perfeita e arquitetura inovadora.                 | Excelente         | Maravilha da engenharia e arquitetura romana        |\n|    8 | Piazza Navona         | Praça Barroca                | Praça animada com fontes barrocas, artistas de rua e cafés, ideal para passear e desfrutar da atmosfera. | Muito Popular     | Ambiente vibrante e beleza arquitetônica            |\n|    9 | Piazza di Spagna      | Praça Histórica              | Praça elegante com a famosa Escadaria Espanhola, ponto de encontro e local de compras.                   | Muito Popular     | Elegância e charme romano                           |\n|   10 | Castel Sant'Angelo    | Castelo Histórico            | Castelo imponente com vistas panorâmicas de Roma, que serviu como mausoléu, fortaleza e prisão papal.    | Muito Popular     | História, arquitetura e vistas deslumbrantes        |\n|   11 | Bairro Trastevere     | Bairro Histórico             | Bairro charmoso com ruas de paralelepípedos, restaurantes tradicionais e atmosfera boêmia.               | Muito Popular     | Experiência autêntica romana                        |\n|   12 | Jardins Borghese      | Parque Urbano e Museu        | Belos jardins com esculturas, fontes e galerias de arte, incluindo a Galeria Borghese.                   | Excelente         | Arte, natureza e relaxamento                        |\n|   13 | Galeria Borghese      | Museu de Arte                | Museu com uma coleção impressionante de esculturas e pinturas, incluindo obras de Bernini e Caravaggio.  | Excelente         | Obras-primas da arte barroca                        |\n|   14 | Catacombas de Roma    | Sítio Arqueológico           | Rede subterrânea de túneis e câmaras usadas como cemitérios pelos primeiros cristãos.                    | Muito Popular     | Experiência histórica e espiritual única            |\n|   15 | Circo Máximo          | Sítio Arqueológico           | Antigo estádio romano para corridas de bigas, com capacidade para mais de 250.000 espectadores.          | Muito Popular     | Vislumbre da grandiosidade da Roma Antiga           |"
          },
          "metadata": {}
        },
        {
          "output_type": "display_data",
          "data": {
            "text/plain": [
              "<IPython.core.display.Markdown object>"
            ],
            "text/markdown": "---"
          },
          "metadata": {}
        },
        {
          "output_type": "display_data",
          "data": {
            "text/plain": [
              "<IPython.core.display.Markdown object>"
            ],
            "text/markdown": "\n### 🌍 Agente Iniciando Pesquisa para: **Florença, Itália**"
          },
          "metadata": {}
        },
        {
          "output_type": "display_data",
          "data": {
            "text/plain": [
              "<IPython.core.display.Markdown object>"
            ],
            "text/markdown": "🧠 *Agente consultando Gemini sobre atrações em: **Florença, Itália** (Top 15)...*"
          },
          "metadata": {}
        },
        {
          "output_type": "display_data",
          "data": {
            "text/plain": [
              "<IPython.core.display.Markdown object>"
            ],
            "text/markdown": "✅ *Gemini retornou 15 sugestões de atrações para Florença.*"
          },
          "metadata": {}
        },
        {
          "output_type": "display_data",
          "data": {
            "text/plain": [
              "<IPython.core.display.Markdown object>"
            ],
            "text/markdown": "--- Pesquisa para **Florença, Itália** finalizada pelo agente. ---"
          },
          "metadata": {}
        },
        {
          "output_type": "display_data",
          "data": {
            "text/plain": [
              "<IPython.core.display.Markdown object>"
            ],
            "text/markdown": "\n## 📍 Destino: **Florença, Itália**"
          },
          "metadata": {}
        },
        {
          "output_type": "display_data",
          "data": {
            "text/plain": [
              "<IPython.core.display.Markdown object>"
            ],
            "text/markdown": "🗓️ **Período:** 2025-09-16 a 2025-09-19"
          },
          "metadata": {}
        },
        {
          "output_type": "display_data",
          "data": {
            "text/plain": [
              "<IPython.core.display.Markdown object>"
            ],
            "text/markdown": "🏨 **Hospedagem:** Hotel Bodoni"
          },
          "metadata": {}
        },
        {
          "output_type": "display_data",
          "data": {
            "text/plain": [
              "<IPython.core.display.Markdown object>"
            ],
            "text/markdown": "#### 🔍 Links Úteis para Pesquisa Manual Detalhada (abrem em nova aba):"
          },
          "metadata": {}
        },
        {
          "output_type": "display_data",
          "data": {
            "text/plain": [
              "<IPython.core.display.Markdown object>"
            ],
            "text/markdown": "- **[Google Search: Principais atrações](https://www.google.com/search?q=principais+atra%C3%A7%C3%B5es+tur%C3%ADsticas+em+Floren%C3%A7a+It%C3%A1lia)** "
          },
          "metadata": {}
        },
        {
          "output_type": "display_data",
          "data": {
            "text/plain": [
              "<IPython.core.display.Markdown object>"
            ],
            "text/markdown": "- **[Google Maps: Atrações na área](https://www.google.com/maps/search/atra%C3%A7%C3%B5es+tur%C3%ADsticas+em+Floren%C3%A7a%2C+It%C3%A1lia)** "
          },
          "metadata": {}
        },
        {
          "output_type": "display_data",
          "data": {
            "text/plain": [
              "<IPython.core.display.Markdown object>"
            ],
            "text/markdown": "- **[Google Maps: Visão geral da cidade](https://www.google.com/maps/place/Floren%C3%A7a%2C+It%C3%A1lia)** "
          },
          "metadata": {}
        },
        {
          "output_type": "display_data",
          "data": {
            "text/plain": [
              "<IPython.core.display.Markdown object>"
            ],
            "text/markdown": "#### ✨ Sugestões de Atrações Principais (via Agente Gemini):"
          },
          "metadata": {}
        },
        {
          "output_type": "display_data",
          "data": {
            "text/plain": [
              "<IPython.core.display.Markdown object>"
            ],
            "text/markdown": "|   Nº | Atração                      | Tipo Principal          | Descrição Enxuta                                                                                                              | Avaliação Geral   | Destaque Principal                                   |\n|-----:|:-----------------------------|:------------------------|:------------------------------------------------------------------------------------------------------------------------------|:------------------|:-----------------------------------------------------|\n|    1 | Galeria da Academia          | Museu de Arte           | Abriga a coleção mais completa de obras de arte de Michelangelo, incluindo o David e as pinturas da Capela Sistina.           | Excelente         | Coleção de obras-primas de Michelangelo              |\n|    2 | Ponte Vecchio                | Ponte Histórica         | Uma ponte medieval única, famosa por suas lojas construídas ao longo dela, oferecendo vistas deslumbrantes do rio Arno.       | Muito Popular     | Arquitetura medieval e vistas panorâmicas            |\n|    3 | Catedral de Florença (Duomo) | Catedral Gótica         | Uma obra-prima da arquitetura gótica, com a sua cúpula de Brunelleschi e o campanário de Giotto.                              | Excelente         | Arquitetura imponente e obras de arte renascentistas |\n|    4 | Palazzo Pitti                | Palácio Histórico       | Um enorme palácio renascentista que abriga cinco museus, incluindo a Galeria de Arte Moderna e o Museu do Figurino e da Moda. | Muito Bom         | Coleções de arte e arquitetura grandiosa             |\n|    5 | Uffizi Gallery               | Museu de Arte           | Um dos museus mais importantes do mundo, com uma vasta coleção de pinturas renascentistas italianas.                          | Excelente         | Obras-primas da Renascença italiana                  |\n|    6 | Piazza della Signoria        | Praça Pública Histórica | Uma praça histórica no coração de Florença, cercada por edifícios importantes, esculturas e fontes.                           | Muito Popular     | Atmosfera vibrante e arquitetura histórica           |\n|    7 | Palazzo Vecchio              | Palácio Municipal       | O antigo palácio municipal de Florença, com uma rica história e belos salões decorados com afrescos.                          | Muito Bom         | História e arquitetura renascentistas                |\n|    8 | Boboli Gardens               | Jardim Histórico        | Um dos primeiros e mais importantes jardins italianos, com fontes, esculturas e paisagismo exuberante.                        | Excelente         | Paisagismo exuberante e esculturas renascentistas    |\n|    9 | Mercado de San Lorenzo       | Mercado Histórico       | Um mercado vibrante com bancas de couro, artesanato e produtos locais.                                                        | Muito Popular     | Experiência de compras autêntica e atmosfera animada |\n|   10 | Piazzale Michelangelo        | Mirante Panorâmico      | Um mirante com vistas panorâmicas de tirar o fôlego de toda a cidade de Florença.                                             | Excelente         | Vistas panorâmicas deslumbrantes de Florença         |\n|   11 | Basílica de Santa Croce      | Basílica Franciscana    | Uma basílica gótica que abriga os túmulos de figuras importantes da história italiana, como Michelangelo e Galileu.           | Muito Bom         | Arquitetura gótica e túmulos de figuras históricas   |\n|   12 | Bargello Museum              | Museu de Escultura      | Um museu que abriga uma coleção excepcional de esculturas renascentistas, incluindo obras de Donatello e Michelangelo.        | Muito Bom         | Coleção de esculturas renascentistas                 |\n|   13 | Ponte Santa Trinita          | Ponte Histórica         | Uma elegante ponte de pedra sobre o rio Arno, conhecida por suas vistas e arquitetura.                                        | Muito Popular     | Arquitetura elegante e vistas do rio Arno            |\n|   14 | Palazzo Davanzati            | Museu Histórico         | Um palácio medieval bem preservado que oferece um vislumbre da vida de uma rica família florentina no século XIV.             | Muito Bom         | Vislumbre da vida medieval florentina                |\n|   15 | Capela dos Médici            | Capela Mausoléu         | Uma capela suntuosa que serve como mausoléu para os membros da família Médici, com decoração exuberante e esculturas.         | Excelente         | Arquitetura e decoração exuberantes                  |"
          },
          "metadata": {}
        },
        {
          "output_type": "display_data",
          "data": {
            "text/plain": [
              "<IPython.core.display.Markdown object>"
            ],
            "text/markdown": "---"
          },
          "metadata": {}
        },
        {
          "output_type": "display_data",
          "data": {
            "text/plain": [
              "<IPython.core.display.Markdown object>"
            ],
            "text/markdown": "\n### 🌍 Agente Iniciando Pesquisa para: **Viena, Aústria**"
          },
          "metadata": {}
        },
        {
          "output_type": "display_data",
          "data": {
            "text/plain": [
              "<IPython.core.display.Markdown object>"
            ],
            "text/markdown": "🧠 *Agente consultando Gemini sobre atrações em: **Viena, Aústria** (Top 15)...*"
          },
          "metadata": {}
        },
        {
          "output_type": "display_data",
          "data": {
            "text/plain": [
              "<IPython.core.display.Markdown object>"
            ],
            "text/markdown": "✅ *Gemini retornou 15 sugestões de atrações para Viena.*"
          },
          "metadata": {}
        },
        {
          "output_type": "display_data",
          "data": {
            "text/plain": [
              "<IPython.core.display.Markdown object>"
            ],
            "text/markdown": "--- Pesquisa para **Viena, Aústria** finalizada pelo agente. ---"
          },
          "metadata": {}
        },
        {
          "output_type": "display_data",
          "data": {
            "text/plain": [
              "<IPython.core.display.Markdown object>"
            ],
            "text/markdown": "\n## 📍 Destino: **Viena, Aústria**"
          },
          "metadata": {}
        },
        {
          "output_type": "display_data",
          "data": {
            "text/plain": [
              "<IPython.core.display.Markdown object>"
            ],
            "text/markdown": "🗓️ **Período:** 2025-09-20 a 2025-09-24"
          },
          "metadata": {}
        },
        {
          "output_type": "display_data",
          "data": {
            "text/plain": [
              "<IPython.core.display.Markdown object>"
            ],
            "text/markdown": "🏨 **Hospedagem:** Hilton Vienna Park"
          },
          "metadata": {}
        },
        {
          "output_type": "display_data",
          "data": {
            "text/plain": [
              "<IPython.core.display.Markdown object>"
            ],
            "text/markdown": "#### 🔍 Links Úteis para Pesquisa Manual Detalhada (abrem em nova aba):"
          },
          "metadata": {}
        },
        {
          "output_type": "display_data",
          "data": {
            "text/plain": [
              "<IPython.core.display.Markdown object>"
            ],
            "text/markdown": "- **[Google Search: Principais atrações](https://www.google.com/search?q=principais+atra%C3%A7%C3%B5es+tur%C3%ADsticas+em+Viena+A%C3%BAstria)** "
          },
          "metadata": {}
        },
        {
          "output_type": "display_data",
          "data": {
            "text/plain": [
              "<IPython.core.display.Markdown object>"
            ],
            "text/markdown": "- **[Google Maps: Atrações na área](https://www.google.com/maps/search/atra%C3%A7%C3%B5es+tur%C3%ADsticas+em+Viena%2C+A%C3%BAstria)** "
          },
          "metadata": {}
        },
        {
          "output_type": "display_data",
          "data": {
            "text/plain": [
              "<IPython.core.display.Markdown object>"
            ],
            "text/markdown": "- **[Google Maps: Visão geral da cidade](https://www.google.com/maps/place/Viena%2C+A%C3%BAstria)** "
          },
          "metadata": {}
        },
        {
          "output_type": "display_data",
          "data": {
            "text/plain": [
              "<IPython.core.display.Markdown object>"
            ],
            "text/markdown": "#### ✨ Sugestões de Atrações Principais (via Agente Gemini):"
          },
          "metadata": {}
        },
        {
          "output_type": "display_data",
          "data": {
            "text/plain": [
              "<IPython.core.display.Markdown object>"
            ],
            "text/markdown": "|   Nº | Atração                                         | Tipo Principal                 | Descrição Enxuta                                                                                                                   | Avaliação Geral   | Destaque Principal                                 |\n|-----:|:------------------------------------------------|:-------------------------------|:-----------------------------------------------------------------------------------------------------------------------------------|:------------------|:---------------------------------------------------|\n|    1 | Palácio de Schönbrunn                           | Palácio Histórico e Jardins    | Residência de verão dos Habsburgos, com belos jardins, fontes e um labirinto.  Oferece um vislumbre da vida imperial austríaca.    | Excelente         | Arquitetura imperial e jardins exuberantes         |\n|    2 | Hofburg                                         | Complexo de Palácios           | Antiga residência de inverno dos Habsburgos, agora um complexo que abriga museus, capelas e a Escola Espanhola de Equitação.       | Muito Popular     | História imperial e arquitetura grandiosa          |\n|    3 | Catedral de Santo Estêvão                       | Catedral Gótica                | Símbolo icônico de Viena, com sua arquitetura gótica impressionante e tesouros históricos.                                         | Excelente         | Arquitetura gótica e importância histórica         |\n|    4 | Museu de História da Arte                       | Museu de Arte                  | Coleção extensa de pinturas, esculturas e objetos de arte desde a antiguidade até o século XVIII.                                  | 4.5/5 estrelas    | Coleção abrangente de obras-primas                 |\n|    5 | Museu Albertina                                 | Museu de Arte Gráfica          | Uma das maiores e mais importantes coleções de arte gráfica do mundo, com obras de Dürer, Michelangelo e Picasso.                  | 4.6/5 estrelas    | Coleção excepcional de gravuras e desenhos         |\n|    6 | Belvedere                                       | Museu de Arte e Palácio        | Palácio barroco que abriga a maior coleção de obras de Gustav Klimt, incluindo 'O Beijo'.                                          | Excelente         | Obras-primas de Gustav Klimt                       |\n|    7 | Prater                                          | Parque de Diversões            | Parque de diversões famoso pela sua icônica roda-gigante, oferecendo diversão para todas as idades.                                | Muito Popular     | Diversão e entretenimento para toda a família      |\n|    8 | Naschmarkt                                      | Mercado Histórico              | Um dos maiores e mais antigos mercados ao ar livre da Europa, com uma grande variedade de produtos frescos, especiarias e comidas. | 4.4/5 estrelas    | Experiência gastronômica e cultural vibrante       |\n|    9 | Casa da Música                                  | Centro Cultural e de Concertos | Centro de concertos moderno com arquitetura impressionante e uma programação diversificada de eventos musicais.                    | 4.5/5 estrelas    | Arquitetura moderna e concertos de alta qualidade  |\n|   10 | Roda Gigante do Prater                          | Mirante Panorâmico             | Oferece vistas panorâmicas deslumbrantes da cidade de Viena a partir de sua altura.                                                | Muito Popular     | Vistas panorâmicas de Viena                        |\n|   11 | Palácio de Belvedere Superior                   | Palácio Barroco e Museu        | Palácio barroco que abriga a maior coleção de obras de Gustav Klimt, incluindo 'O Beijo'.                                          | Excelente         | Obras-primas de Gustav Klimt e arquitetura barroca |\n|   12 | Espaço de Exposições de Viena (MuseumsQuartier) | Complexo de Museus             | Complexo de museus que abriga diversas instituições culturais, incluindo o Leopold Museum e o MUMOK.                               | Muito Popular     | Diversidade de museus e galerias de arte           |\n|   13 | Volksgarten                                     | Parque Urbano                  | Um belo parque no centro de Viena, com jardins bem cuidados, monumentos e o famoso Teatro de Verão.                                | 4.3/5 estrelas    | Espaço verde tranquilo no coração da cidade        |\n|   14 | Danúbio                                         | Rio e Área Recreativa          | O rio Danúbio oferece passeios de barco, ciclovias e áreas de lazer ao longo de suas margens.                                      | N/A               | Passeios de barco e atividades ao ar livre         |\n|   15 | Stephansplatz                                   | Praça Histórica                | Praça central de Viena, localizada em frente à Catedral de Santo Estêvão, um ponto de encontro vibrante.                           | Muito Popular     | Atmosfera vibrante e localização central           |"
          },
          "metadata": {}
        },
        {
          "output_type": "display_data",
          "data": {
            "text/plain": [
              "<IPython.core.display.Markdown object>"
            ],
            "text/markdown": "---"
          },
          "metadata": {}
        }
      ]
    },
    {
      "cell_type": "code",
      "metadata": {
        "colab": {
          "base_uri": "https://localhost:8080/",
          "height": 1000
        },
        "collapsed": true,
        "id": "4b422ff2",
        "outputId": "68331002-915c-40b6-a027-b7193205526f"
      },
      "source": [
        "executar_planejador_viagem(\"/content/europa.csv\")"
      ],
      "execution_count": null,
      "outputs": [
        {
          "output_type": "display_data",
          "data": {
            "text/plain": [
              "<IPython.core.display.Markdown object>"
            ],
            "text/markdown": "### Arquivo de Viagem (`/content/europa.csv`)"
          },
          "metadata": {}
        },
        {
          "output_type": "display_data",
          "data": {
            "text/plain": [
              "     cidade     pais data_chegada data_partida                    hospedagem\n",
              "0      Roma   Itália   2025-09-13   2025-09-16  Via Francesco Caracciolo n.7\n",
              "1  Florença   Itália   2025-09-16   2025-09-19                  Hotel Bodoni\n",
              "2     Viena  Aústria   2025-09-20   2025-09-24            Hilton Vienna Park"
            ],
            "text/html": [
              "\n",
              "  <div id=\"df-107f5227-924f-4646-9631-74b5dfeb0c22\" class=\"colab-df-container\">\n",
              "    <div>\n",
              "<style scoped>\n",
              "    .dataframe tbody tr th:only-of-type {\n",
              "        vertical-align: middle;\n",
              "    }\n",
              "\n",
              "    .dataframe tbody tr th {\n",
              "        vertical-align: top;\n",
              "    }\n",
              "\n",
              "    .dataframe thead th {\n",
              "        text-align: right;\n",
              "    }\n",
              "</style>\n",
              "<table border=\"1\" class=\"dataframe\">\n",
              "  <thead>\n",
              "    <tr style=\"text-align: right;\">\n",
              "      <th></th>\n",
              "      <th>cidade</th>\n",
              "      <th>pais</th>\n",
              "      <th>data_chegada</th>\n",
              "      <th>data_partida</th>\n",
              "      <th>hospedagem</th>\n",
              "    </tr>\n",
              "  </thead>\n",
              "  <tbody>\n",
              "    <tr>\n",
              "      <th>0</th>\n",
              "      <td>Roma</td>\n",
              "      <td>Itália</td>\n",
              "      <td>2025-09-13</td>\n",
              "      <td>2025-09-16</td>\n",
              "      <td>Via Francesco Caracciolo n.7</td>\n",
              "    </tr>\n",
              "    <tr>\n",
              "      <th>1</th>\n",
              "      <td>Florença</td>\n",
              "      <td>Itália</td>\n",
              "      <td>2025-09-16</td>\n",
              "      <td>2025-09-19</td>\n",
              "      <td>Hotel Bodoni</td>\n",
              "    </tr>\n",
              "    <tr>\n",
              "      <th>2</th>\n",
              "      <td>Viena</td>\n",
              "      <td>Aústria</td>\n",
              "      <td>2025-09-20</td>\n",
              "      <td>2025-09-24</td>\n",
              "      <td>Hilton Vienna Park</td>\n",
              "    </tr>\n",
              "  </tbody>\n",
              "</table>\n",
              "</div>\n",
              "    <div class=\"colab-df-buttons\">\n",
              "\n",
              "  <div class=\"colab-df-container\">\n",
              "    <button class=\"colab-df-convert\" onclick=\"convertToInteractive('df-107f5227-924f-4646-9631-74b5dfeb0c22')\"\n",
              "            title=\"Convert this dataframe to an interactive table.\"\n",
              "            style=\"display:none;\">\n",
              "\n",
              "  <svg xmlns=\"http://www.w3.org/2000/svg\" height=\"24px\" viewBox=\"0 -960 960 960\">\n",
              "    <path d=\"M120-120v-720h720v720H120Zm60-500h600v-160H180v160Zm220 220h160v-160H400v160Zm0 220h160v-160H400v160ZM180-400h160v-160H180v160Zm440 0h160v-160H620v160ZM180-180h160v-160H180v160Zm440 0h160v-160H620v160Z\"/>\n",
              "  </svg>\n",
              "    </button>\n",
              "\n",
              "  <style>\n",
              "    .colab-df-container {\n",
              "      display:flex;\n",
              "      gap: 12px;\n",
              "    }\n",
              "\n",
              "    .colab-df-convert {\n",
              "      background-color: #E8F0FE;\n",
              "      border: none;\n",
              "      border-radius: 50%;\n",
              "      cursor: pointer;\n",
              "      display: none;\n",
              "      fill: #1967D2;\n",
              "      height: 32px;\n",
              "      padding: 0 0 0 0;\n",
              "      width: 32px;\n",
              "    }\n",
              "\n",
              "    .colab-df-convert:hover {\n",
              "      background-color: #E2EBFA;\n",
              "      box-shadow: 0px 1px 2px rgba(60, 64, 67, 0.3), 0px 1px 3px 1px rgba(60, 64, 67, 0.15);\n",
              "      fill: #174EA6;\n",
              "    }\n",
              "\n",
              "    .colab-df-buttons div {\n",
              "      margin-bottom: 4px;\n",
              "    }\n",
              "\n",
              "    [theme=dark] .colab-df-convert {\n",
              "      background-color: #3B4455;\n",
              "      fill: #D2E3FC;\n",
              "    }\n",
              "\n",
              "    [theme=dark] .colab-df-convert:hover {\n",
              "      background-color: #434B5C;\n",
              "      box-shadow: 0px 1px 3px 1px rgba(0, 0, 0, 0.15);\n",
              "      filter: drop-shadow(0px 1px 2px rgba(0, 0, 0, 0.3));\n",
              "      fill: #FFFFFF;\n",
              "    }\n",
              "  </style>\n",
              "\n",
              "    <script>\n",
              "      const buttonEl =\n",
              "        document.querySelector('#df-107f5227-924f-4646-9631-74b5dfeb0c22 button.colab-df-convert');\n",
              "      buttonEl.style.display =\n",
              "        google.colab.kernel.accessAllowed ? 'block' : 'none';\n",
              "\n",
              "      async function convertToInteractive(key) {\n",
              "        const element = document.querySelector('#df-107f5227-924f-4646-9631-74b5dfeb0c22');\n",
              "        const dataTable =\n",
              "          await google.colab.kernel.invokeFunction('convertToInteractive',\n",
              "                                                    [key], {});\n",
              "        if (!dataTable) return;\n",
              "\n",
              "        const docLinkHtml = 'Like what you see? Visit the ' +\n",
              "          '<a target=\"_blank\" href=https://colab.research.google.com/notebooks/data_table.ipynb>data table notebook</a>'\n",
              "          + ' to learn more about interactive tables.';\n",
              "        element.innerHTML = '';\n",
              "        dataTable['output_type'] = 'display_data';\n",
              "        await google.colab.output.renderOutput(dataTable, element);\n",
              "        const docLink = document.createElement('div');\n",
              "        docLink.innerHTML = docLinkHtml;\n",
              "        element.appendChild(docLink);\n",
              "      }\n",
              "    </script>\n",
              "  </div>\n",
              "\n",
              "\n",
              "    <div id=\"df-2b36065f-7d32-474a-929f-e6a7df5b8ea0\">\n",
              "      <button class=\"colab-df-quickchart\" onclick=\"quickchart('df-2b36065f-7d32-474a-929f-e6a7df5b8ea0')\"\n",
              "                title=\"Suggest charts\"\n",
              "                style=\"display:none;\">\n",
              "\n",
              "<svg xmlns=\"http://www.w3.org/2000/svg\" height=\"24px\"viewBox=\"0 0 24 24\"\n",
              "     width=\"24px\">\n",
              "    <g>\n",
              "        <path d=\"M19 3H5c-1.1 0-2 .9-2 2v14c0 1.1.9 2 2 2h14c1.1 0 2-.9 2-2V5c0-1.1-.9-2-2-2zM9 17H7v-7h2v7zm4 0h-2V7h2v10zm4 0h-2v-4h2v4z\"/>\n",
              "    </g>\n",
              "</svg>\n",
              "      </button>\n",
              "\n",
              "<style>\n",
              "  .colab-df-quickchart {\n",
              "      --bg-color: #E8F0FE;\n",
              "      --fill-color: #1967D2;\n",
              "      --hover-bg-color: #E2EBFA;\n",
              "      --hover-fill-color: #174EA6;\n",
              "      --disabled-fill-color: #AAA;\n",
              "      --disabled-bg-color: #DDD;\n",
              "  }\n",
              "\n",
              "  [theme=dark] .colab-df-quickchart {\n",
              "      --bg-color: #3B4455;\n",
              "      --fill-color: #D2E3FC;\n",
              "      --hover-bg-color: #434B5C;\n",
              "      --hover-fill-color: #FFFFFF;\n",
              "      --disabled-bg-color: #3B4455;\n",
              "      --disabled-fill-color: #666;\n",
              "  }\n",
              "\n",
              "  .colab-df-quickchart {\n",
              "    background-color: var(--bg-color);\n",
              "    border: none;\n",
              "    border-radius: 50%;\n",
              "    cursor: pointer;\n",
              "    display: none;\n",
              "    fill: var(--fill-color);\n",
              "    height: 32px;\n",
              "    padding: 0;\n",
              "    width: 32px;\n",
              "  }\n",
              "\n",
              "  .colab-df-quickchart:hover {\n",
              "    background-color: var(--hover-bg-color);\n",
              "    box-shadow: 0 1px 2px rgba(60, 64, 67, 0.3), 0 1px 3px 1px rgba(60, 64, 67, 0.15);\n",
              "    fill: var(--button-hover-fill-color);\n",
              "  }\n",
              "\n",
              "  .colab-df-quickchart-complete:disabled,\n",
              "  .colab-df-quickchart-complete:disabled:hover {\n",
              "    background-color: var(--disabled-bg-color);\n",
              "    fill: var(--disabled-fill-color);\n",
              "    box-shadow: none;\n",
              "  }\n",
              "\n",
              "  .colab-df-spinner {\n",
              "    border: 2px solid var(--fill-color);\n",
              "    border-color: transparent;\n",
              "    border-bottom-color: var(--fill-color);\n",
              "    animation:\n",
              "      spin 1s steps(1) infinite;\n",
              "  }\n",
              "\n",
              "  @keyframes spin {\n",
              "    0% {\n",
              "      border-color: transparent;\n",
              "      border-bottom-color: var(--fill-color);\n",
              "      border-left-color: var(--fill-color);\n",
              "    }\n",
              "    20% {\n",
              "      border-color: transparent;\n",
              "      border-left-color: var(--fill-color);\n",
              "      border-top-color: var(--fill-color);\n",
              "    }\n",
              "    30% {\n",
              "      border-color: transparent;\n",
              "      border-left-color: var(--fill-color);\n",
              "      border-top-color: var(--fill-color);\n",
              "      border-right-color: var(--fill-color);\n",
              "    }\n",
              "    40% {\n",
              "      border-color: transparent;\n",
              "      border-right-color: var(--fill-color);\n",
              "      border-top-color: var(--fill-color);\n",
              "    }\n",
              "    60% {\n",
              "      border-color: transparent;\n",
              "      border-right-color: var(--fill-color);\n",
              "    }\n",
              "    80% {\n",
              "      border-color: transparent;\n",
              "      border-right-color: var(--fill-color);\n",
              "      border-bottom-color: var(--fill-color);\n",
              "    }\n",
              "    90% {\n",
              "      border-color: transparent;\n",
              "      border-bottom-color: var(--fill-color);\n",
              "    }\n",
              "  }\n",
              "</style>\n",
              "\n",
              "      <script>\n",
              "        async function quickchart(key) {\n",
              "          const quickchartButtonEl =\n",
              "            document.querySelector('#' + key + ' button');\n",
              "          quickchartButtonEl.disabled = true;  // To prevent multiple clicks.\n",
              "          quickchartButtonEl.classList.add('colab-df-spinner');\n",
              "          try {\n",
              "            const charts = await google.colab.kernel.invokeFunction(\n",
              "                'suggestCharts', [key], {});\n",
              "          } catch (error) {\n",
              "            console.error('Error during call to suggestCharts:', error);\n",
              "          }\n",
              "          quickchartButtonEl.classList.remove('colab-df-spinner');\n",
              "          quickchartButtonEl.classList.add('colab-df-quickchart-complete');\n",
              "        }\n",
              "        (() => {\n",
              "          let quickchartButtonEl =\n",
              "            document.querySelector('#df-2b36065f-7d32-474a-929f-e6a7df5b8ea0 button');\n",
              "          quickchartButtonEl.style.display =\n",
              "            google.colab.kernel.accessAllowed ? 'block' : 'none';\n",
              "        })();\n",
              "      </script>\n",
              "    </div>\n",
              "\n",
              "    </div>\n",
              "  </div>\n"
            ],
            "application/vnd.google.colaboratory.intrinsic+json": {
              "type": "dataframe",
              "summary": "{\n  \"name\": \"executar_planejador_viagem(\\\"/content/europa\",\n  \"rows\": 3,\n  \"fields\": [\n    {\n      \"column\": \"cidade\",\n      \"properties\": {\n        \"dtype\": \"string\",\n        \"num_unique_values\": 3,\n        \"samples\": [\n          \"Roma\",\n          \"Floren\\u00e7a\",\n          \"Viena\"\n        ],\n        \"semantic_type\": \"\",\n        \"description\": \"\"\n      }\n    },\n    {\n      \"column\": \"pais\",\n      \"properties\": {\n        \"dtype\": \"string\",\n        \"num_unique_values\": 2,\n        \"samples\": [\n          \"A\\u00fastria\",\n          \"It\\u00e1lia\"\n        ],\n        \"semantic_type\": \"\",\n        \"description\": \"\"\n      }\n    },\n    {\n      \"column\": \"data_chegada\",\n      \"properties\": {\n        \"dtype\": \"object\",\n        \"num_unique_values\": 3,\n        \"samples\": [\n          \"2025-09-13\",\n          \"2025-09-16\"\n        ],\n        \"semantic_type\": \"\",\n        \"description\": \"\"\n      }\n    },\n    {\n      \"column\": \"data_partida\",\n      \"properties\": {\n        \"dtype\": \"object\",\n        \"num_unique_values\": 3,\n        \"samples\": [\n          \"2025-09-16\",\n          \"2025-09-19\"\n        ],\n        \"semantic_type\": \"\",\n        \"description\": \"\"\n      }\n    },\n    {\n      \"column\": \"hospedagem\",\n      \"properties\": {\n        \"dtype\": \"string\",\n        \"num_unique_values\": 3,\n        \"samples\": [\n          \"Via Francesco Caracciolo n.7\",\n          \"Hotel Bodoni\"\n        ],\n        \"semantic_type\": \"\",\n        \"description\": \"\"\n      }\n    }\n  ]\n}"
            }
          },
          "metadata": {}
        },
        {
          "output_type": "display_data",
          "data": {
            "text/plain": [
              "<IPython.core.display.Markdown object>"
            ],
            "text/markdown": "\n# 🗺️ **Relatório de Pesquisa de Atrações do Agente** ✈️"
          },
          "metadata": {}
        },
        {
          "output_type": "display_data",
          "data": {
            "text/plain": [
              "<IPython.core.display.Markdown object>"
            ],
            "text/markdown": "\n### 🌍 Agente Iniciando Pesquisa para: **Roma, Itália**"
          },
          "metadata": {}
        },
        {
          "output_type": "display_data",
          "data": {
            "text/plain": [
              "<IPython.core.display.Markdown object>"
            ],
            "text/markdown": "🧠 *Agente consultando Gemini sobre atrações em: **Roma, Itália** (Top 15)...*"
          },
          "metadata": {}
        },
        {
          "output_type": "display_data",
          "data": {
            "text/plain": [
              "<IPython.core.display.Markdown object>"
            ],
            "text/markdown": "✅ *Gemini retornou 15 sugestões de atrações para Roma.*"
          },
          "metadata": {}
        },
        {
          "output_type": "display_data",
          "data": {
            "text/plain": [
              "<IPython.core.display.Markdown object>"
            ],
            "text/markdown": "--- Pesquisa para **Roma, Itália** finalizada pelo agente. ---"
          },
          "metadata": {}
        },
        {
          "output_type": "display_data",
          "data": {
            "text/plain": [
              "<IPython.core.display.Markdown object>"
            ],
            "text/markdown": "\n## 📍 Destino: **Roma, Itália**"
          },
          "metadata": {}
        },
        {
          "output_type": "display_data",
          "data": {
            "text/plain": [
              "<IPython.core.display.Markdown object>"
            ],
            "text/markdown": "🗓️ **Período:** 2025-09-13 a 2025-09-16"
          },
          "metadata": {}
        },
        {
          "output_type": "display_data",
          "data": {
            "text/plain": [
              "<IPython.core.display.Markdown object>"
            ],
            "text/markdown": "🏨 **Hospedagem:** Via Francesco Caracciolo n.7"
          },
          "metadata": {}
        },
        {
          "output_type": "display_data",
          "data": {
            "text/plain": [
              "<IPython.core.display.Markdown object>"
            ],
            "text/markdown": "#### 🔍 Links Úteis para Pesquisa Manual Detalhada (abrem em nova aba):"
          },
          "metadata": {}
        },
        {
          "output_type": "display_data",
          "data": {
            "text/plain": [
              "<IPython.core.display.Markdown object>"
            ],
            "text/markdown": "- **[Google Search: Principais atrações](https://www.google.com/search?q=principais+atra%C3%A7%C3%B5es+tur%C3%ADsticas+em+Roma+It%C3%A1lia)** "
          },
          "metadata": {}
        },
        {
          "output_type": "display_data",
          "data": {
            "text/plain": [
              "<IPython.core.display.Markdown object>"
            ],
            "text/markdown": "- **[Google Maps: Atrações na área](https://www.google.com/maps/search/atra%C3%A7%C3%B5es+tur%C3%ADsticas+em+Roma%2C+It%C3%A1lia)** "
          },
          "metadata": {}
        },
        {
          "output_type": "display_data",
          "data": {
            "text/plain": [
              "<IPython.core.display.Markdown object>"
            ],
            "text/markdown": "- **[Google Maps: Visão geral da cidade](https://www.google.com/maps/place/Roma%2C+It%C3%A1lia)** "
          },
          "metadata": {}
        },
        {
          "output_type": "display_data",
          "data": {
            "text/plain": [
              "<IPython.core.display.Markdown object>"
            ],
            "text/markdown": "#### ✨ Sugestões de Atrações Principais (via Agente Gemini):"
          },
          "metadata": {}
        },
        {
          "output_type": "display_data",
          "data": {
            "text/plain": [
              "<IPython.core.display.Markdown object>"
            ],
            "text/markdown": "|   Nº | Atração                 | Tipo Principal                 | Descrição Enxuta                                                                                        | Avaliação Geral   | Destaque Principal                             |\n|-----:|:------------------------|:-------------------------------|:--------------------------------------------------------------------------------------------------------|:------------------|:-----------------------------------------------|\n|    1 | Coliseu                 | Monumento Nacional             | Anfiteatro icônico do Império Romano, palco de espetáculos grandiosos, símbolo da cidade.               | Excelente         | Arquitetura impressionante e história milenar  |\n|    2 | Fórum Romano            | Sítio Arqueológico             | Ruínas do centro cívico e político da antiga Roma, com templos, basílicas e monumentos.                 | Muito Popular     | Viagem ao passado da civilização romana        |\n|    3 | Palácio do Vaticano     | Complexo Religioso e Histórico | Sede da Igreja Católica, com a Basílica de São Pedro e os Museus Vaticanos, incluindo a Capela Sistina. | Excelente         | Arte renascentista e arquitetura monumental    |\n|    4 | Basílica de São Pedro   | Catedral                       | Basílica papal de grandiosidade arquitetônica, com obras-primas de Michelangelo e Bernini.              | Excelente         | Magnífica arquitetura e arte religiosa         |\n|    5 | Museus Vaticanos        | Museu de Arte e Antiguidades   | Coleção vasta de arte e artefatos de diferentes épocas, incluindo a Capela Sistina.                     | Excelente         | Coleção de arte e história incomparável        |\n|    6 | Fontana di Trevi        | Fonte Monumental               | Fonte barroca exuberante, cenário de filmes e lendas, um marco icônico de Roma.                         | Muito Popular     | Beleza arquitetônica e atmosfera romântica     |\n|    7 | Pantheon                | Templo Romano                  | Templo romano excepcionalmente preservado, com uma cúpula impressionante e um oculus.                   | Excelente         | Arquitetura e engenharia romana surpreendentes |\n|    8 | Piazza Navona           | Praça Histórica                | Praça barroca vibrante, com fontes ornamentadas, artistas de rua e cafés.                               | Muito Popular     | Atmosfera animada e beleza arquitetônica       |\n|    9 | Espaço Nacional de Roma | Parque Urbano                  | Grande parque com jardins, museus e monumentos, ideal para relaxar e apreciar a natureza.               | Muito Popular     | Espaço verde e áreas culturais                 |\n|   10 | Castel Sant'Angelo      | Castelo Histórico              | Castelo com história complexa, que serviu como mausoléu, fortaleza e prisão papal.                      | Muito Popular     | Vista panorâmica e história fascinante         |\n|   11 | Ponte Sisto             | Ponte Histórica                | Ponte pitoresca com vistas encantadoras do Rio Tibre e da cidade.                                       | Muito Popular     | Vistas românticas e atmosfera tranquila        |\n|   12 | Campo de' Fiori         | Mercado Histórico              | Mercado movimentado com produtos frescos, flores e atmosfera vibrante, especialmente pela manhã.        | Muito Popular     | Experiência autêntica e produtos locais        |\n|   13 | Janículo                | Mirante Panorâmico             | Colina que oferece vistas panorâmicas deslumbrantes de Roma, especialmente ao pôr do sol.               | Muito Popular     | Vistas panorâmicas de tirar o fôlego           |\n|   14 | Galeria Borghese        | Museu de Arte                  | Museu com uma coleção impressionante de esculturas e pinturas de Bernini, Caravaggio e outros mestres.  | Excelente         | Obras-primas da arte barroca e renascentista   |\n|   15 | Catacombas Romanas      | Sítio Arqueológico             | Rede subterrânea de túneis e câmaras usadas como cemitérios pelos primeiros cristãos.                   | Muito Popular     | Experiência histórica e espiritual única       |"
          },
          "metadata": {}
        },
        {
          "output_type": "display_data",
          "data": {
            "text/plain": [
              "<IPython.core.display.Markdown object>"
            ],
            "text/markdown": "---"
          },
          "metadata": {}
        },
        {
          "output_type": "display_data",
          "data": {
            "text/plain": [
              "<IPython.core.display.Markdown object>"
            ],
            "text/markdown": "\n### 🌍 Agente Iniciando Pesquisa para: **Florença, Itália**"
          },
          "metadata": {}
        },
        {
          "output_type": "display_data",
          "data": {
            "text/plain": [
              "<IPython.core.display.Markdown object>"
            ],
            "text/markdown": "🧠 *Agente consultando Gemini sobre atrações em: **Florença, Itália** (Top 15)...*"
          },
          "metadata": {}
        },
        {
          "output_type": "display_data",
          "data": {
            "text/plain": [
              "<IPython.core.display.Markdown object>"
            ],
            "text/markdown": "✅ *Gemini retornou 15 sugestões de atrações para Florença.*"
          },
          "metadata": {}
        },
        {
          "output_type": "display_data",
          "data": {
            "text/plain": [
              "<IPython.core.display.Markdown object>"
            ],
            "text/markdown": "--- Pesquisa para **Florença, Itália** finalizada pelo agente. ---"
          },
          "metadata": {}
        },
        {
          "output_type": "display_data",
          "data": {
            "text/plain": [
              "<IPython.core.display.Markdown object>"
            ],
            "text/markdown": "\n## 📍 Destino: **Florença, Itália**"
          },
          "metadata": {}
        },
        {
          "output_type": "display_data",
          "data": {
            "text/plain": [
              "<IPython.core.display.Markdown object>"
            ],
            "text/markdown": "🗓️ **Período:** 2025-09-16 a 2025-09-19"
          },
          "metadata": {}
        },
        {
          "output_type": "display_data",
          "data": {
            "text/plain": [
              "<IPython.core.display.Markdown object>"
            ],
            "text/markdown": "🏨 **Hospedagem:** Hotel Bodoni"
          },
          "metadata": {}
        },
        {
          "output_type": "display_data",
          "data": {
            "text/plain": [
              "<IPython.core.display.Markdown object>"
            ],
            "text/markdown": "#### 🔍 Links Úteis para Pesquisa Manual Detalhada (abrem em nova aba):"
          },
          "metadata": {}
        },
        {
          "output_type": "display_data",
          "data": {
            "text/plain": [
              "<IPython.core.display.Markdown object>"
            ],
            "text/markdown": "- **[Google Search: Principais atrações](https://www.google.com/search?q=principais+atra%C3%A7%C3%B5es+tur%C3%ADsticas+em+Floren%C3%A7a+It%C3%A1lia)** "
          },
          "metadata": {}
        },
        {
          "output_type": "display_data",
          "data": {
            "text/plain": [
              "<IPython.core.display.Markdown object>"
            ],
            "text/markdown": "- **[Google Maps: Atrações na área](https://www.google.com/maps/search/atra%C3%A7%C3%B5es+tur%C3%ADsticas+em+Floren%C3%A7a%2C+It%C3%A1lia)** "
          },
          "metadata": {}
        },
        {
          "output_type": "display_data",
          "data": {
            "text/plain": [
              "<IPython.core.display.Markdown object>"
            ],
            "text/markdown": "- **[Google Maps: Visão geral da cidade](https://www.google.com/maps/place/Floren%C3%A7a%2C+It%C3%A1lia)** "
          },
          "metadata": {}
        },
        {
          "output_type": "display_data",
          "data": {
            "text/plain": [
              "<IPython.core.display.Markdown object>"
            ],
            "text/markdown": "#### ✨ Sugestões de Atrações Principais (via Agente Gemini):"
          },
          "metadata": {}
        },
        {
          "output_type": "display_data",
          "data": {
            "text/plain": [
              "<IPython.core.display.Markdown object>"
            ],
            "text/markdown": "|   Nº | Atração                      | Tipo Principal           | Descrição Enxuta                                                                                                              | Avaliação Geral   | Destaque Principal                                        |\n|-----:|:-----------------------------|:-------------------------|:------------------------------------------------------------------------------------------------------------------------------|:------------------|:----------------------------------------------------------|\n|    1 | Galeria da Academia          | Museu de Arte            | Abriga a maior coleção de obras de Michelangelo, incluindo o David e as pinturas da Capela Sistina.                           | Excelente         | Coleção de obras-primas renascentistas                    |\n|    2 | Ponte Vecchio                | Ponte Histórica          | Uma ponte medieval única, famosa por suas lojas construídas ao longo dela, oferecendo vistas encantadoras do rio Arno.        | Muito Popular     | Arquitetura icônica e vistas pitorescas                   |\n|    3 | Catedral de Florença (Duomo) | Catedral Gótica          | Uma magnífica catedral com uma cúpula de Brunelleschi e o Campanário de Giotto, símbolos de Florença.                         | Excelente         | Arquitetura impressionante e obras de arte renascentistas |\n|    4 | Palazzo Pitti                | Palácio Histórico        | Um enorme palácio renascentista que abriga cinco museus, incluindo a Galeria de Arte Moderna e o Museu do Figurino e da Moda. | Muito Bom         | Arquitetura grandiosa e coleções de arte diversificadas   |\n|    5 | Uffizi Gallery               | Museu de Arte            | Um dos museus mais importantes do mundo, com uma coleção excepcional de pinturas renascentistas.                              | Excelente         | Coleção incomparável de arte renascentista italiana       |\n|    6 | Piazza della Signoria        | Praça Pública Histórica  | Uma praça animada no coração de Florença, cercada por edifícios históricos importantes, como o Palazzo Vecchio.               | Muito Popular     | Atmosfera vibrante e arquitetura histórica                |\n|    7 | Palazzo Vecchio              | Palácio Histórico        | O antigo palácio do governo de Florença, com interiores opulentos e uma rica história.                                        | Muito Bom         | História e arte florentina                                |\n|    8 | Boboli Gardens               | Jardim Histórico         | Belos jardins italianos com fontes, esculturas e vistas panorâmicas da cidade.                                                | Excelente         | Paisagismo italiano e vistas deslumbrantes                |\n|    9 | Mercado de San Lorenzo       | Mercado Histórico        | Um mercado vibrante com produtos frescos, artesanato e artigos de couro.                                                      | Muito Popular     | Experiência autêntica e compras únicas                    |\n|   10 | Piazzale Michelangelo        | Mirante Panorâmico       | Um mirante com vistas deslumbrantes de toda a cidade de Florença.                                                             | Excelente         | Vistas panorâmicas de tirar o fôlego                      |\n|   11 | Baptistery of San Giovanni   | Batistério Românico      | Um batistério octogonal com portas de bronze famosas, incluindo as Portas do Paraíso de Ghiberti.                             | Muito Bom         | Arquitetura e arte românica                               |\n|   12 | Ponte Santa Trinita          | Ponte Histórica          | Uma elegante ponte com vistas encantadoras do rio Arno e da cidade.                                                           | Muito Popular     | Vistas pitorescas e arquitetura elegante                  |\n|   13 | Palazzo Davanzati            | Museu Histórico          | Um museu que mostra a vida de uma rica família florentina no século XIV.                                                      | Bom               | Vislumbre da vida medieval florentina                     |\n|   14 | Museo di San Marco           | Museu de Arte e História | Um museu que abriga uma coleção de obras de Fra Angelico, incluindo afrescos no antigo mosteiro.                              | Muito Bom         | Obras-primas de Fra Angelico e arquitetura histórica      |\n|   15 | Bargello Museum              | Museu de Escultura       | Um museu que abriga uma coleção impressionante de esculturas renascentistas, incluindo obras de Donatello e Michelangelo.     | Muito Bom         | Coleção excepcional de esculturas renascentistas          |"
          },
          "metadata": {}
        },
        {
          "output_type": "display_data",
          "data": {
            "text/plain": [
              "<IPython.core.display.Markdown object>"
            ],
            "text/markdown": "---"
          },
          "metadata": {}
        },
        {
          "output_type": "display_data",
          "data": {
            "text/plain": [
              "<IPython.core.display.Markdown object>"
            ],
            "text/markdown": "\n### 🌍 Agente Iniciando Pesquisa para: **Viena, Aústria**"
          },
          "metadata": {}
        },
        {
          "output_type": "display_data",
          "data": {
            "text/plain": [
              "<IPython.core.display.Markdown object>"
            ],
            "text/markdown": "🧠 *Agente consultando Gemini sobre atrações em: **Viena, Aústria** (Top 15)...*"
          },
          "metadata": {}
        },
        {
          "output_type": "display_data",
          "data": {
            "text/plain": [
              "<IPython.core.display.Markdown object>"
            ],
            "text/markdown": "✅ *Gemini retornou 15 sugestões de atrações para Viena.*"
          },
          "metadata": {}
        },
        {
          "output_type": "display_data",
          "data": {
            "text/plain": [
              "<IPython.core.display.Markdown object>"
            ],
            "text/markdown": "--- Pesquisa para **Viena, Aústria** finalizada pelo agente. ---"
          },
          "metadata": {}
        },
        {
          "output_type": "display_data",
          "data": {
            "text/plain": [
              "<IPython.core.display.Markdown object>"
            ],
            "text/markdown": "\n## 📍 Destino: **Viena, Aústria**"
          },
          "metadata": {}
        },
        {
          "output_type": "display_data",
          "data": {
            "text/plain": [
              "<IPython.core.display.Markdown object>"
            ],
            "text/markdown": "🗓️ **Período:** 2025-09-20 a 2025-09-24"
          },
          "metadata": {}
        },
        {
          "output_type": "display_data",
          "data": {
            "text/plain": [
              "<IPython.core.display.Markdown object>"
            ],
            "text/markdown": "🏨 **Hospedagem:** Hilton Vienna Park"
          },
          "metadata": {}
        },
        {
          "output_type": "display_data",
          "data": {
            "text/plain": [
              "<IPython.core.display.Markdown object>"
            ],
            "text/markdown": "#### 🔍 Links Úteis para Pesquisa Manual Detalhada (abrem em nova aba):"
          },
          "metadata": {}
        },
        {
          "output_type": "display_data",
          "data": {
            "text/plain": [
              "<IPython.core.display.Markdown object>"
            ],
            "text/markdown": "- **[Google Search: Principais atrações](https://www.google.com/search?q=principais+atra%C3%A7%C3%B5es+tur%C3%ADsticas+em+Viena+A%C3%BAstria)** "
          },
          "metadata": {}
        },
        {
          "output_type": "display_data",
          "data": {
            "text/plain": [
              "<IPython.core.display.Markdown object>"
            ],
            "text/markdown": "- **[Google Maps: Atrações na área](https://www.google.com/maps/search/atra%C3%A7%C3%B5es+tur%C3%ADsticas+em+Viena%2C+A%C3%BAstria)** "
          },
          "metadata": {}
        },
        {
          "output_type": "display_data",
          "data": {
            "text/plain": [
              "<IPython.core.display.Markdown object>"
            ],
            "text/markdown": "- **[Google Maps: Visão geral da cidade](https://www.google.com/maps/place/Viena%2C+A%C3%BAstria)** "
          },
          "metadata": {}
        },
        {
          "output_type": "display_data",
          "data": {
            "text/plain": [
              "<IPython.core.display.Markdown object>"
            ],
            "text/markdown": "#### ✨ Sugestões de Atrações Principais (via Agente Gemini):"
          },
          "metadata": {}
        },
        {
          "output_type": "display_data",
          "data": {
            "text/plain": [
              "<IPython.core.display.Markdown object>"
            ],
            "text/markdown": "|   Nº | Atração                                   | Tipo Principal                 | Descrição Enxuta                                                                                                                          | Avaliação Geral   | Destaque Principal                                |\n|-----:|:------------------------------------------|:-------------------------------|:------------------------------------------------------------------------------------------------------------------------------------------|:------------------|:--------------------------------------------------|\n|    1 | Palácio de Schönbrunn                     | Palácio Histórico e Jardins    | Residência de verão dos Habsburgos, com exuberantes jardins, fontes e museus, oferecendo um vislumbre da história imperial austríaca.     | Excelente         | Arquitetura imperial e jardins magníficos         |\n|    2 | Hofburg                                   | Complexo de Palácios           | Antiga residência de inverno dos Habsburgos, abrigando museus, capelas e a Escola Espanhola de Equitação, um centro histórico e cultural. | Muito Popular     | História imperial e arquitetura impressionante    |\n|    3 | Catedral de São Estêvão                   | Catedral Gótica                | Símbolo icônico de Viena, com sua arquitetura gótica impressionante, tesouros religiosos e vistas panorâmicas do topo da torre sul.       | Excelente         | Arquitetura gótica e vistas panorâmicas           |\n|    4 | Museu de História da Arte                 | Museu de Arte                  | Coleção excepcional de pinturas, esculturas e objetos de arte, abrangendo séculos de história da arte europeia.                           | 4.5/5 estrelas    | Coleção de arte de renome mundial                 |\n|    5 | Museu Albertina                           | Museu de Arte Gráfica          | Coleção impressionante de gravuras, desenhos e fotografias, incluindo obras de mestres como Dürer e Michelangelo.                         | 4.5/5 estrelas    | Coleção de arte gráfica excepcional               |\n|    6 | Belvedere                                 | Museu de Arte e Palácio        | Palácio barroco que abriga a maior coleção de obras de Gustav Klimt, incluindo 'O Beijo'.                                                 | Excelente         | Obras-primas de Gustav Klimt                      |\n|    7 | Prater                                    | Parque de Diversões            | Parque de diversões icônico, com a famosa roda-gigante Wiener Riesenrad, oferecendo vistas deslumbrantes da cidade.                       | Muito Popular     | Entretenimento e vistas panorâmicas               |\n|    8 | Naschmarkt                                | Mercado Histórico              | Mercado vibrante e colorido, oferecendo uma ampla variedade de produtos frescos, especiarias e comidas internacionais.                    | 4.0/5 estrelas    | Experiência gastronômica e cultural               |\n|    9 | Casa da Música                            | Centro de Música e Arquitetura | Centro de concertos moderno com arquitetura impressionante e acústica excepcional, palco de eventos musicais de renome.                   | 4.5/5 estrelas    | Arquitetura moderna e concertos de alta qualidade |\n|   10 | Stephansplatz                             | Praça Pública Histórica        | Praça central de Viena, localizada em frente à Catedral de São Estêvão, um local histórico e ponto de encontro.                           | Muito Popular     | Atmosfera vibrante e localização central          |\n|   11 | Danúbio                                   | Rio e Passeios de Barco        | Rio que atravessa Viena, oferecendo passeios de barco panorâmicos e vistas únicas da cidade.                                              | Muito Popular     | Passeios de barco e vistas da cidade              |\n|   12 | Volksgarten                               | Parque Urbano                  | Parque tranquilo e bonito, ideal para relaxar, passear ou visitar o monumento a Mozart.                                                   | 4.0/5 estrelas    | Espaço verde e relaxamento                        |\n|   13 | Museu do Estado de Viena                  | Museu de Arte e História       | Museu abrangente com coleções de arte e história da Áustria, incluindo artefatos históricos e obras de arte.                              | 4.0/5 estrelas    | História e arte austríacas                        |\n|   14 | Roda Gigante do Prater (Wiener Riesenrad) | Atração de Parque de Diversões | Roda gigante icônica do Prater, oferecendo vistas panorâmicas de Viena, um símbolo da cidade.                                             | Muito Popular     | Vistas panorâmicas de Viena                       |\n|   15 | Palácio de Belvedere Inferior             | Palácio e Museu de Arte        | Palácio barroco que abriga coleções de arte austríaca, incluindo obras de Gustav Klimt e Egon Schiele.                                    | Excelente         | Obras de arte austríacas importantes              |"
          },
          "metadata": {}
        },
        {
          "output_type": "display_data",
          "data": {
            "text/plain": [
              "<IPython.core.display.Markdown object>"
            ],
            "text/markdown": "---"
          },
          "metadata": {}
        }
      ]
    },
    {
      "cell_type": "code",
      "source": [
        "from datetime import datetime, timedelta, timezone\n",
        "\n",
        "# --- INÍCIO: Adapte esta seção com os dados reais da sua pesquisa ---\n",
        "# Suponha que esta variável (ou um conjunto de variáveis) contenha\n",
        "# todas as informações compiladas pelo seu Agente \"Pesquisador de Atrações\".\n",
        "# O exemplo abaixo mostra uma ESTRUTURA SUGERIDA para organizar os dados\n",
        "# para facilitar a geração do Markdown. Você precisará preenchê-la ou\n",
        "# adaptar o código de geração do Markdown à sua estrutura de dados existente.\n",
        "\n",
        "# Obtenção da data e hora atuais para o relatório\n",
        "# Em um ambiente Colab real, para obter a hora dinâmica, você usaria:\n",
        "# current_time_utc = datetime.now(timezone.utc)\n",
        "# Para este exemplo, usaremos a hora fornecida no contexto: 2025-06-16T12:19:18.371Z\n",
        "fixed_current_time_iso = \"2025-06-16T12:19:18.371Z\"\n",
        "current_time_utc = datetime.fromisoformat(fixed_current_time_iso.replace('Z', '+00:00'))\n",
        "\n",
        "current_time_brasilia = current_time_utc - timedelta(hours=3)\n",
        "\n",
        "data_geracao_relatorio_utc_str = current_time_utc.strftime(\"%d/%m/%Y %H:%M:%S (UTC)\")\n",
        "data_geracao_relatorio_brasilia_str = current_time_brasilia.strftime(\"%d/%m/%Y %H:%M:%S (UTC-3)\")\n",
        "\n",
        "dados_compilados = {\n",
        "    \"titulo_pesquisa\": \"Relatório da Pesquisa de Atrações Turísticas\",\n",
        "    \"data_execucao_pesquisa\": \"15/06/2025\",  # Substitua pela data real da sua pesquisa\n",
        "    \"data_geracao_relatorio_utc\": data_geracao_relatorio_utc_str,\n",
        "    \"data_geracao_relatorio_brasilia\": data_geracao_relatorio_brasilia_str,\n",
        "    \"introducao\": (\n",
        "        \"Este documento contém os resultados detalhados da pesquisa de atrações \"\n",
        "        \"realizada pelo Agente Pesquisador. As informações aqui presentes servirão \"\n",
        "        \"como base para o Agente Organizador de Roteiro.\"\n",
        "    ),\n",
        "    \"atracoes_pesquisadas\": [\n",
        "        {\n",
        "            \"nome_atracao\": \"Nome da Atração Exemplo 1\",\n",
        "            \"dados_brutos\": {\n",
        "                \"Localização\": \"Endereço completo, coordenadas GPS\",\n",
        "                \"Horário de Funcionamento\": \"Seg-Sex: 09:00-18:00, Sáb: 10:00-16:00\",\n",
        "                \"Preço(s)\": \"Adulto: R$XX, Criança: R$YY, Idoso: R$ZZ\",\n",
        "                \"Website Oficial\": \"http://www.exemploatracao1.com\"\n",
        "            },\n",
        "            \"analise_detalhada\": (\n",
        "                \"Análise aprofundada sobre a atração, incluindo sua história, \"\n",
        "                \"relevância cultural, pontos de interesse principais, o que esperar, \"\n",
        "                \"dicas de visitação (melhor horário, tempo estimado de visita), etc.\"\n",
        "            ),\n",
        "            \"conclusoes_recomendacoes\": (\n",
        "                \"Conclusões sobre a atração: para qual perfil de turista é mais indicada, \"\n",
        "                \"se é imperdível ou opcional, prós e contras.\"\n",
        "            ),\n",
        "            \"fontes_consultadas\": [\n",
        "                \"https://www.wikipedia.org/wiki/AtracaoExemplo1\",\n",
        "                \"https://www.tripadvisor.com/AtracaoExemplo1Review\"\n",
        "            ],\n",
        "            \"insights_adicionais\": (\n",
        "                \"Qualquer insight extra gerado, como: 'A compra de ingressos online \"\n",
        "                \"evita filas significativas.' ou 'Ideal para visitar em dias de semana \"\n",
        "                \"pela manhã para uma experiência mais tranquila.'\"\n",
        "            )\n",
        "        },\n",
        "        {\n",
        "            \"nome_atracao\": \"Nome da Atração Exemplo 2\",\n",
        "            \"dados_brutos\": { # Preencha com dados da segunda atração\n",
        "                \"Localização\": \"...\",\n",
        "                \"Horário de Funcionamento\": \"...\",\n",
        "            },\n",
        "            \"analise_detalhada\": \"...\",\n",
        "            \"conclusoes_recomendacoes\": \"...\",\n",
        "            \"fontes_consultadas\": [\"...\"],\n",
        "            \"insights_adicionais\": \"...\"\n",
        "        }\n",
        "        # Adicione mais dicionários de atrações conforme necessário\n",
        "    ],\n",
        "    \"resumo_executivo_pesquisa\": (\n",
        "        \"Um breve resumo das principais descobertas, tendências observadas \"\n",
        "        \"e as atrações mais promissoras identificadas.\"\n",
        "    ),\n",
        "    \"consideracoes_para_organizador_roteiro\": (\n",
        "        \"Sugestões e pontos de atenção para o Agente Organizador de Roteiro, \"\n",
        "        \"como: 'Considerar o tempo de deslocamento entre as atrações X e Y.' \"\n",
        "        \"ou 'Verificar eventos especiais durante o período da viagem.'\"\n",
        "    )\n",
        "}\n",
        "# --- FIM: Adapte esta seção com os dados reais da sua pesquisa ---\n",
        "\n",
        "# Construção do conteúdo em formato Markdown\n",
        "markdown_output = []\n",
        "\n",
        "markdown_output.append(f\"# {dados_compilados.get('titulo_pesquisa', 'Resultados da Pesquisa de Atrações')}\")\n",
        "markdown_output.append(f\"\\n**Data da Pesquisa (Execução do Agente):** {dados_compilados.get('data_execucao_pesquisa', 'Não especificada')}\")\n",
        "markdown_output.append(f\"**Data de Geração deste Relatório:** {dados_compilados.get('data_geracao_relatorio_utc')} / {dados_compilados.get('data_geracao_relatorio_brasilia')}\\n\")\n",
        "\n",
        "markdown_output.append(f\"## Introdução\\n{dados_compilados.get('introducao', 'Introdução não fornecida.')}\\n\")\n",
        "\n",
        "if dados_compilados.get('atracoes_pesquisadas'):\n",
        "    markdown_output.append(\"## Detalhamento das Atrações Pesquisadas\")\n",
        "    for atracao in dados_compilados['atracoes_pesquisadas']:\n",
        "        markdown_output.append(f\"\\n### {atracao.get('nome_atracao', 'Atração Sem Nome')}\")\n",
        "\n",
        "        if atracao.get('dados_brutos'):\n",
        "            markdown_output.append(\"\\n#### Dados Brutos / Informações Essenciais\")\n",
        "            for chave, valor in atracao['dados_brutos'].items():\n",
        "                if isinstance(valor, str) and valor.startswith(\"http\"):\n",
        "                    markdown_output.append(f\"- **{chave}:** [{valor}]({valor})\")\n",
        "                else:\n",
        "                    markdown_output.append(f\"- **{chave}:** {valor}\")\n",
        "\n",
        "        markdown_output.append(f\"\\n#### Análise Detalhada\\n{atracao.get('analise_detalhada', 'N/A')}\")\n",
        "        markdown_output.append(f\"\\n#### Conclusões e Recomendações\\n{atracao.get('conclusoes_recomendacoes', 'N/A')}\")\n",
        "\n",
        "        if atracao.get('fontes_consultadas'):\n",
        "            markdown_output.append(\"\\n##### Fontes Consultadas:\")\n",
        "            for fonte in atracao['fontes_consultadas']:\n",
        "                markdown_output.append(f\"- [{fonte}]({fonte})\") # Formata como link clicável\n",
        "\n",
        "        markdown_output.append(f\"\\n##### Insights Adicionais\\n{atracao.get('insights_adicionais', 'Nenhum insight adicional.')}\\n\")\n",
        "\n",
        "markdown_output.append(f\"## Resumo Executivo da Pesquisa\\n{dados_compilados.get('resumo_executivo_pesquisa', 'Resumo não fornecido.')}\\n\")\n",
        "markdown_output.append(f\"## Considerações para o Agente Organizador de Roteiro\\n{dados_compilados.get('consideracoes_para_organizador_roteiro', 'Nenhuma consideração específica.')}\\n\")\n",
        "\n",
        "conteudo_final_markdown = \"\\n\".join(markdown_output)\n",
        "\n",
        "# Especificações do arquivo de saída\n",
        "nome_arquivo = \"pesquisa_agente.md\"\n",
        "localizacao_arquivo = f\"/content/{nome_arquivo}\" # Diretamente na raiz do /content/\n",
        "\n",
        "# Comando para salvar o arquivo\n",
        "try:\n",
        "    with open(localizacao_arquivo, \"w\", encoding=\"utf-8\") as f:\n",
        "        f.write(conteudo_final_markdown)\n",
        "    print(f\"Arquivo '{localizacao_arquivo}' gerado com sucesso! 🎉\")\n",
        "except Exception as e:\n",
        "    print(f\"Ocorreu um erro ao tentar salvar o arquivo '{localizacao_arquivo}': {e} 😥\")\n"
      ],
      "metadata": {
        "id": "eWd_1_Kzsahf"
      },
      "execution_count": null,
      "outputs": []
    }
  ]
}