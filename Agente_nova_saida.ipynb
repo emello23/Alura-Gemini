{
  "nbformat": 4,
  "nbformat_minor": 0,
  "metadata": {
    "colab": {
      "provenance": [],
      "include_colab_link": true
    },
    "kernelspec": {
      "name": "python3",
      "display_name": "Python 3"
    },
    "language_info": {
      "name": "python"
    }
  },
  "cells": [
    {
      "cell_type": "markdown",
      "metadata": {
        "id": "view-in-github",
        "colab_type": "text"
      },
      "source": [
        "<a href=\"https://colab.research.google.com/github/emello23/Alura-Gemini/blob/main/Agente_nova_saida.ipynb\" target=\"_parent\"><img src=\"https://colab.research.google.com/assets/colab-badge.svg\" alt=\"Open In Colab\"/></a>"
      ]
    },
    {
      "cell_type": "code",
      "execution_count": null,
      "metadata": {
        "id": "BtTC3gLfzG9R",
        "colab": {
          "base_uri": "https://localhost:8080/"
        },
        "outputId": "16583166-a483-4417-f131-a2cd405cabf2",
        "collapsed": true
      },
      "outputs": [
        {
          "output_type": "stream",
          "name": "stdout",
          "text": [
            "Requirement already satisfied: pandas in /usr/local/lib/python3.11/dist-packages (2.2.2)\n",
            "Requirement already satisfied: google-api-python-client in /usr/local/lib/python3.11/dist-packages (2.172.0)\n",
            "Requirement already satisfied: google-generativeai in /usr/local/lib/python3.11/dist-packages (0.8.5)\n",
            "Requirement already satisfied: numpy>=1.23.2 in /usr/local/lib/python3.11/dist-packages (from pandas) (2.0.2)\n",
            "Requirement already satisfied: python-dateutil>=2.8.2 in /usr/local/lib/python3.11/dist-packages (from pandas) (2.9.0.post0)\n",
            "Requirement already satisfied: pytz>=2020.1 in /usr/local/lib/python3.11/dist-packages (from pandas) (2025.2)\n",
            "Requirement already satisfied: tzdata>=2022.7 in /usr/local/lib/python3.11/dist-packages (from pandas) (2025.2)\n",
            "Requirement already satisfied: httplib2<1.0.0,>=0.19.0 in /usr/local/lib/python3.11/dist-packages (from google-api-python-client) (0.22.0)\n",
            "Requirement already satisfied: google-auth!=2.24.0,!=2.25.0,<3.0.0,>=1.32.0 in /usr/local/lib/python3.11/dist-packages (from google-api-python-client) (2.38.0)\n",
            "Requirement already satisfied: google-auth-httplib2<1.0.0,>=0.2.0 in /usr/local/lib/python3.11/dist-packages (from google-api-python-client) (0.2.0)\n",
            "Requirement already satisfied: google-api-core!=2.0.*,!=2.1.*,!=2.2.*,!=2.3.0,<3.0.0,>=1.31.5 in /usr/local/lib/python3.11/dist-packages (from google-api-python-client) (2.25.1)\n",
            "Requirement already satisfied: uritemplate<5,>=3.0.1 in /usr/local/lib/python3.11/dist-packages (from google-api-python-client) (4.2.0)\n",
            "Requirement already satisfied: google-ai-generativelanguage==0.6.15 in /usr/local/lib/python3.11/dist-packages (from google-generativeai) (0.6.15)\n",
            "Requirement already satisfied: protobuf in /usr/local/lib/python3.11/dist-packages (from google-generativeai) (5.29.5)\n",
            "Requirement already satisfied: pydantic in /usr/local/lib/python3.11/dist-packages (from google-generativeai) (2.11.7)\n",
            "Requirement already satisfied: tqdm in /usr/local/lib/python3.11/dist-packages (from google-generativeai) (4.67.1)\n",
            "Requirement already satisfied: typing-extensions in /usr/local/lib/python3.11/dist-packages (from google-generativeai) (4.14.0)\n",
            "Requirement already satisfied: proto-plus<2.0.0dev,>=1.22.3 in /usr/local/lib/python3.11/dist-packages (from google-ai-generativelanguage==0.6.15->google-generativeai) (1.26.1)\n",
            "Requirement already satisfied: googleapis-common-protos<2.0.0,>=1.56.2 in /usr/local/lib/python3.11/dist-packages (from google-api-core!=2.0.*,!=2.1.*,!=2.2.*,!=2.3.0,<3.0.0,>=1.31.5->google-api-python-client) (1.70.0)\n",
            "Requirement already satisfied: requests<3.0.0,>=2.18.0 in /usr/local/lib/python3.11/dist-packages (from google-api-core!=2.0.*,!=2.1.*,!=2.2.*,!=2.3.0,<3.0.0,>=1.31.5->google-api-python-client) (2.32.3)\n",
            "Requirement already satisfied: cachetools<6.0,>=2.0.0 in /usr/local/lib/python3.11/dist-packages (from google-auth!=2.24.0,!=2.25.0,<3.0.0,>=1.32.0->google-api-python-client) (5.5.2)\n",
            "Requirement already satisfied: pyasn1-modules>=0.2.1 in /usr/local/lib/python3.11/dist-packages (from google-auth!=2.24.0,!=2.25.0,<3.0.0,>=1.32.0->google-api-python-client) (0.4.2)\n",
            "Requirement already satisfied: rsa<5,>=3.1.4 in /usr/local/lib/python3.11/dist-packages (from google-auth!=2.24.0,!=2.25.0,<3.0.0,>=1.32.0->google-api-python-client) (4.9.1)\n",
            "Requirement already satisfied: pyparsing!=3.0.0,!=3.0.1,!=3.0.2,!=3.0.3,<4,>=2.4.2 in /usr/local/lib/python3.11/dist-packages (from httplib2<1.0.0,>=0.19.0->google-api-python-client) (3.2.3)\n",
            "Requirement already satisfied: six>=1.5 in /usr/local/lib/python3.11/dist-packages (from python-dateutil>=2.8.2->pandas) (1.17.0)\n",
            "Requirement already satisfied: annotated-types>=0.6.0 in /usr/local/lib/python3.11/dist-packages (from pydantic->google-generativeai) (0.7.0)\n",
            "Requirement already satisfied: pydantic-core==2.33.2 in /usr/local/lib/python3.11/dist-packages (from pydantic->google-generativeai) (2.33.2)\n",
            "Requirement already satisfied: typing-inspection>=0.4.0 in /usr/local/lib/python3.11/dist-packages (from pydantic->google-generativeai) (0.4.1)\n",
            "Requirement already satisfied: grpcio<2.0.0,>=1.33.2 in /usr/local/lib/python3.11/dist-packages (from google-api-core[grpc]!=2.0.*,!=2.1.*,!=2.10.*,!=2.2.*,!=2.3.*,!=2.4.*,!=2.5.*,!=2.6.*,!=2.7.*,!=2.8.*,!=2.9.*,<3.0.0dev,>=1.34.1->google-ai-generativelanguage==0.6.15->google-generativeai) (1.73.0)\n",
            "Requirement already satisfied: grpcio-status<2.0.0,>=1.33.2 in /usr/local/lib/python3.11/dist-packages (from google-api-core[grpc]!=2.0.*,!=2.1.*,!=2.10.*,!=2.2.*,!=2.3.*,!=2.4.*,!=2.5.*,!=2.6.*,!=2.7.*,!=2.8.*,!=2.9.*,<3.0.0dev,>=1.34.1->google-ai-generativelanguage==0.6.15->google-generativeai) (1.71.0)\n",
            "Requirement already satisfied: pyasn1<0.7.0,>=0.6.1 in /usr/local/lib/python3.11/dist-packages (from pyasn1-modules>=0.2.1->google-auth!=2.24.0,!=2.25.0,<3.0.0,>=1.32.0->google-api-python-client) (0.6.1)\n",
            "Requirement already satisfied: charset-normalizer<4,>=2 in /usr/local/lib/python3.11/dist-packages (from requests<3.0.0,>=2.18.0->google-api-core!=2.0.*,!=2.1.*,!=2.2.*,!=2.3.0,<3.0.0,>=1.31.5->google-api-python-client) (3.4.2)\n",
            "Requirement already satisfied: idna<4,>=2.5 in /usr/local/lib/python3.11/dist-packages (from requests<3.0.0,>=2.18.0->google-api-core!=2.0.*,!=2.1.*,!=2.2.*,!=2.3.0,<3.0.0,>=1.31.5->google-api-python-client) (3.10)\n",
            "Requirement already satisfied: urllib3<3,>=1.21.1 in /usr/local/lib/python3.11/dist-packages (from requests<3.0.0,>=2.18.0->google-api-core!=2.0.*,!=2.1.*,!=2.2.*,!=2.3.0,<3.0.0,>=1.31.5->google-api-python-client) (2.4.0)\n",
            "Requirement already satisfied: certifi>=2017.4.17 in /usr/local/lib/python3.11/dist-packages (from requests<3.0.0,>=2.18.0->google-api-core!=2.0.*,!=2.1.*,!=2.2.*,!=2.3.0,<3.0.0,>=1.31.5->google-api-python-client) (2025.6.15)\n"
          ]
        }
      ],
      "source": [
        "!pip install pandas google-api-python-client google-generativeai\n"
      ]
    },
    {
      "cell_type": "code",
      "source": [
        "import pandas as pd\n",
        "import time\n",
        "from IPython.display import display, Markdown\n",
        "from tabulate import tabulate\n",
        "from urllib.parse import quote_plus\n",
        "import google.generativeai as genai # SDK do Gemini\n",
        "import json # Para parsear a resposta do Gemini\n",
        "from google.colab import userdata # Para acessar a API key\n",
        "from datetime import datetime, timedelta # Importar datetime e timedelta\n",
        "\n",
        "# --- Configuração do Agente e API Key ---\n",
        "GOOGLE_API_KEY = None\n",
        "gemini_model_instance = None # Renomeado para clareza\n",
        "\n",
        "try:\n",
        "    # O nome padrão para secrets é sem o sufixo _, a menos que você tenha nomeado especificamente assim.\n",
        "    # Vou usar 'GOOGLE_API_KEY' como padrão, conforme a prática comum.\n",
        "    GOOGLE_API_KEY = userdata.get('GOOGLE_API_KEY')\n",
        "    if not GOOGLE_API_KEY:\n",
        "        display(Markdown(\"<font color='red'>**Erro Crítico: GOOGLE_API_KEY não encontrada nos Secrets do Colab.** \"\n",
        "                         \"Por favor, configure-a com o nome 'GOOGLE_API_KEY'.</font>\"))\n",
        "    else:\n",
        "        genai.configure(api_key=GOOGLE_API_KEY)\n",
        "        gemini_model_instance = genai.GenerativeModel(\n",
        "            model_name='gemini-1.5-flash-latest', # Modelo eficiente e capaz\n",
        "            # A opção response_mime_type pode ser usada com modelos mais recentes\n",
        "            # e configurações de segurança apropriadas.\n",
        "            # generation_config=genai.types.GenerationConfig(\n",
        "            #     response_mime_type=\"application/json\"\n",
        "            # )\n",
        "        )\n",
        "        display(Markdown(\"✅ *SDK do Gemini e modelo (`gemini-1.5-flash-latest`) configurados com sucesso.*\"))\n",
        "except Exception as e:\n",
        "    display(Markdown(f\"<font color='red'>**Erro Crítico ao configurar o SDK do Gemini:** {e}. \"\n",
        "                     \"Verifique sua API Key, permissões e se o nome do secret está correto ('GOOGLE_API_KEY'). \"\n",
        "                     \"O agente não funcionará sem isso.</font>\"))\n",
        "    # O script poderia parar aqui ou continuar com funcionalidades limitadas se houvesse um fallback.\n",
        "    # Para este agente, o Gemini é essencial.\n",
        "\n",
        "# --- Funções Utilitárias ---\n",
        "\n",
        "def carregar_dados_viagem(caminho_arquivo: str) -> pd.DataFrame | None:\n",
        "    \"\"\"\n",
        "    Carrega os dados de viagem do arquivo CSV e valida as colunas necessárias.\n",
        "    \"\"\"\n",
        "    colunas_requeridas = ['cidade', 'pais', 'data_chegada', 'data_partida', 'hospedagem']\n",
        "    try:\n",
        "        df = pd.read_csv(caminho_arquivo)\n",
        "\n",
        "        # Validar se as colunas requeridas existem\n",
        "        if not all(col in df.columns for col in colunas_requeridas):\n",
        "            colunas_faltando = [col for col in colunas_requeridas if col not in df.columns]\n",
        "            display(Markdown(f\"<font color='red'>**Erro: O arquivo `{caminho_arquivo}` não contém as colunas requeridas.** \"\n",
        "                             f\"Faltam as seguintes colunas: {', '.join(colunas_faltando)}.</font>\"))\n",
        "            return None\n",
        "\n",
        "        display(Markdown(f\"### Arquivo de Viagem (`{caminho_arquivo}`)\"))\n",
        "        display(df[colunas_requeridas]) # Exibe apenas as colunas relevantes\n",
        "        return df\n",
        "    except FileNotFoundError:\n",
        "        display(Markdown(f\"<font color='red'>**Erro: Arquivo `{caminho_arquivo}` não encontrado.** Verifique o nome e o local.</font>\"))\n",
        "        return None\n",
        "    except Exception as e:\n",
        "        display(Markdown(f\"<font color='red'>**Erro ao carregar o arquivo CSV `{caminho_arquivo}`:** {e}</font>\"))\n",
        "        return None\n",
        "\n",
        "def gerar_links_pesquisa_google(cidade: str, pais: str) -> tuple[str, str, str]:\n",
        "    \"\"\"Gera links de pesquisa úteis para Google Search e Google Maps.\"\"\"\n",
        "    query_atracoes = f\"principais atrações turísticas em {cidade} {pais}\"\n",
        "    link_google_search = f\"https://www.google.com/search?q={quote_plus(query_atracoes)}\"\n",
        "    query_maps_atracoes = f\"atrações turísticas em {cidade}, {pais}\"\n",
        "    link_google_maps_atracoes = f\"https://www.google.com/maps/search/{quote_plus(query_maps_atracoes)}\"\n",
        "    query_maps_cidade = f\"{cidade}, {pais}\"\n",
        "    link_google_maps_cidade = f\"https://www.google.com/maps/place/{quote_plus(query_maps_cidade)}\"\n",
        "    return link_google_search, link_google_maps_atracoes, link_google_maps_cidade\n",
        "\n",
        "# --- Definição do Agente Pesquisador de Atrações ---\n",
        "\n",
        "class AgentePesquisadorAtracoes:\n",
        "    \"\"\"\n",
        "    Um agente responsável por pesquisar atrações turísticas usando o Gemini\n",
        "    e fornecer links úteis para pesquisa manual.\n",
        "    \"\"\"\n",
        "    def __init__(self, modelo_llm: genai.GenerativeModel):\n",
        "        if modelo_llm is None:\n",
        "            raise ValueError(\"O modelo LLM (Gemini) não pode ser None para este agente.\")\n",
        "        self.modelo = modelo_llm\n",
        "        self.safety_settings = [ # Configurações de segurança para o Gemini\n",
        "            {\"category\": \"HARM_CATEGORY_HARASSMENT\", \"threshold\": \"BLOCK_MEDIUM_AND_ABOVE\"},\n",
        "            {\"category\": \"HARM_CATEGORY_HATE_SPEECH\", \"threshold\": \"BLOCK_MEDIUM_AND_ABOVE\"},\n",
        "            {\"category\": \"HARM_CATEGORY_SEXUALLY_EXPLICIT\", \"threshold\": \"BLOCK_MEDIUM_AND_ABOVE\"},\n",
        "            {\"category\": \"HARM_CATEGORY_DANGEROUS_CONTENT\", \"threshold\": \"BLOCK_MEDIUM_AND_ABOVE\"},\n",
        "        ]\n",
        "\n",
        "    def _obter_sugestoes_gemini(self, cidade: str, pais: str, top_n: int = 7) -> list[dict]:\n",
        "        \"\"\"\n",
        "        Ferramenta interna do agente para consultar o Gemini sobre atrações.\n",
        "        \"\"\"\n",
        "        display(Markdown(f\"🧠 *Agente consultando Gemini sobre atrações em: **{cidade}, {pais}** (Top {top_n})...*\"))\n",
        "\n",
        "        prompt = f\"\"\"\n",
        "        Você é um assistente de planejamento de viagens altamente especializado e eficiente.\n",
        "        Sua tarefa é identificar as {top_n} principais e mais recomendadas atrações turísticas para a cidade de {cidade}, localizada em {pais}.\n",
        "\n",
        "        Critérios para sua seleção:\n",
        "        1.  **Popularidade e Reconhecimento:** Atrações bem conhecidas e frequentemente visitadas.\n",
        "        2.  **Qualidade das Avaliações:** Lugares geralmente com avaliações positivas (ex: acima de 4.0/5 estrelas).\n",
        "        3.  **Relevância Cultural/Histórica:** Locais com significado importante.\n",
        "        4.  **Diversidade de Experiências:** Inclua uma mistura de tipos, como museus, monumentos, parques, mercados, igrejas/catedrais, mirantes, etc., quando apropriado para a cidade.\n",
        "        5.  **Singularidade:** Atrações que oferecem uma experiência única ou icônica da cidade/região.\n",
        "\n",
        "        Formato da Resposta:\n",
        "        Retorne **estritamente uma lista JSON**. Cada elemento da lista deve ser um dicionário representando uma atração,\n",
        "        contendo EXATAMENTE as seguintes chaves:\n",
        "        - \"nome\": (string) O nome oficial e completo da atração.\n",
        "        - \"tipo_principal\": (string) A categoria principal da atração (ex: \"Museu de Arte\", \"Catedral Gótica\", \"Parque Urbano\", \"Mercado Histórico\", \"Monumento Nacional\", \"Mirante Panorâmico\"). Seja específico.\n",
        "        - \"descricao_enxuta\": (string) Uma descrição concisa e informativa (1-2 frases) que justifique sua inclusão, destacando seus principais atrativos.\n",
        "        - \"avaliacao_geral\": (string, opcional) Uma estimativa da avaliação geral se for amplamente conhecida (ex: \"Excelente\", \"Muito Popular\", \"4.5/5 estrelas\"). Use \"N/A\" se não houver uma estimativa clara.\n",
        "        - \"destaque_principal\": (string) O motivo principal pelo qual um turista deveria visitar (ex: \"Vistas incríveis da cidade\", \"Coleção de arte renascentista\", \"Arquitetura impressionante\", \"Atmosfera vibrante\").\n",
        "\n",
        "        Exemplo de um item na lista JSON:\n",
        "        {{\n",
        "          \"nome\": \"Museu do Louvre\",\n",
        "          \"tipo_principal\": \"Museu de Arte e Antiguidades\",\n",
        "          \"descricao_enxuta\": \"Um dos maiores e mais visitados museus do mundo, lar de obras-primas como a Mona Lisa e a Vênus de Milo.\",\n",
        "          \"avaliacao_geral\": \"4.7/5 estrelas\",\n",
        "          \"destaque_principal\": \"Coleção de arte de renome mundial\"\n",
        "        }}\n",
        "\n",
        "        Garanta que a saída seja SOMENTE a lista JSON, sem nenhum texto introdutório, comentários ou formatação adicional.\n",
        "        \"\"\"\n",
        "\n",
        "        try:\n",
        "            response = self.modelo.generate_content(\n",
        "                prompt,\n",
        "                generation_config=genai.types.GenerationConfig(\n",
        "                    temperature=0.4, # Um pouco mais factual, menos aleatório\n",
        "                    max_output_tokens=3072 # Espaço suficiente para a lista JSON\n",
        "                ),\n",
        "                safety_settings=self.safety_settings\n",
        "            )\n",
        "\n",
        "            json_text = response.text.strip()\n",
        "            # Tentativa robusta de extrair JSON, mesmo que o modelo adicione ```json ... ```\n",
        "            if json_text.startswith(\"```json\"):\n",
        "                json_text = json_text[7:]\n",
        "            if json_text.endswith(\"```\"):\n",
        "                json_text = json_text[:-3]\n",
        "            json_text = json_text.strip()\n",
        "\n",
        "            if not json_text:\n",
        "                display(Markdown(f\"<font color='orange'>Aviso: Gemini retornou uma resposta vazia para {cidade}.</font>\"))\n",
        "                return []\n",
        "\n",
        "            atracoes = json.loads(json_text)\n",
        "            # Garantir que é uma lista, mesmo que o Gemini retorne algo diferente\n",
        "            if not isinstance(atracoes, list):\n",
        "                 display(Markdown(f\"<font color='orange'>Aviso: Gemini retornou um formato inesperado (não uma lista) para {cidade}.</font>\"))\n",
        "                 return []\n",
        "\n",
        "            display(Markdown(f\"✅ *Gemini retornou {len(atracoes)} sugestões de atrações para {cidade}.*\"))\n",
        "            return atracoes[:top_n]\n",
        "        except json.JSONDecodeError as e:\n",
        "            display(Markdown(f\"<font color='red'>**Erro (JSONDecodeError) ao processar resposta do Gemini para {cidade}:** {e}. \"\n",
        "                             \"Isso geralmente ocorre se o modelo não retornar um JSON válido.</font>\"))\n",
        "            if hasattr(response, 'text'):\n",
        "                display(Markdown(f\"<pre>Resposta Bruta do Gemini:\\n{response.text}</pre>\"))\n",
        "            else:\n",
        "                 display(Markdown(f\"<pre>Nenhuma resposta de texto recebida do Gemini.</pre>\"))\n",
        "            return []\n",
        "        except Exception as e:\n",
        "            # Captura de erros mais genéricos, como problemas de API (quota, etc.)\n",
        "            # ou bloqueios de segurança não esperados.\n",
        "            display(Markdown(f\"<font color='red'>**Erro inesperado ao consultar Gemini para {cidade}:** {e}</font>\"))\n",
        "            if hasattr(response, 'prompt_feedback'):\n",
        "                display(Markdown(f\"Feedback do Prompt: {response.prompt_feedback}\"))\n",
        "            return []\n",
        "\n",
        "    def pesquisar_destino(self, cidade: str, pais: str, top_n_sugestoes: int = 15) -> dict:\n",
        "        \"\"\"\n",
        "        Executa a pesquisa de atrações para um destino específico.\n",
        "        \"\"\"\n",
        "        display(Markdown(f\"\\n### 🌍 Agente Iniciando Pesquisa para: **{cidade}, {pais}**\"))\n",
        "\n",
        "        links = gerar_links_pesquisa_google(cidade, pais)\n",
        "        sugestoes_gemini = self._obter_sugestoes_gemini(cidade, pais, top_n=top_n_sugestoes)\n",
        "\n",
        "        display(Markdown(f\"--- Pesquisa para **{cidade}, {pais}** finalizada pelo agente. ---\"))\n",
        "        return {\n",
        "            \"cidade\": cidade,\n",
        "            \"pais\": pais,\n",
        "            \"link_google_search\": links[0],\n",
        "            \"link_google_maps_atracoes\": links[1],\n",
        "            \"link_google_maps_cidade\": links[2],\n",
        "            \"sugestoes_gemini\": sugestoes_gemini\n",
        "        }\n",
        "\n",
        "# --- Definição do Agente Montador de Roteiros ---\n",
        "\n",
        "class MontadorDeRoteiros:\n",
        "    \"\"\"\n",
        "    Um agente responsável por organizar as atrações por dia, considerando proximidade,\n",
        "    hospedagem como ponto de partida/chegada, e adicionando elementos para tornar o roteiro prazeroso e divertido.\n",
        "    \"\"\"\n",
        "    def __init__(self, modelo_llm: genai.GenerativeModel):\n",
        "        if modelo_llm is None:\n",
        "            raise ValueError(\"O modelo LLM (Gemini) não pode ser None para este agente.\")\n",
        "        self.modelo = modelo_llm\n",
        "        self.safety_settings = [ # Configurações de segurança para o Gemini\n",
        "            {\"category\": \"HARM_CATEGORY_HARASSMENT\", \"threshold\": \"BLOCK_MEDIUM_AND_ABOVE\"},\n",
        "            {\"category\": \"HARM_CATEGORY_HATE_SPEECH\", \"threshold\": \"BLOCK_MEDIUM_AND_ABOVE\"},\n",
        "            {\"category\": \"HARM_CATEGORY_SEXUALLY_EXPLICIT\", \"threshold\": \"BLOCK_MEDIUM_AND_ABOVE\"},\n",
        "            {\"category\": \"HARM_CATEGORY_DANGEROUS_CONTENT\", \"threshold\": \"BLOCK_MEDIUM_AND_ABOVE\"},\n",
        "        ]\n",
        "\n",
        "    def montar_roteiro(self, cidade: str, pais: str, atracoes: list, hospedagem: str, data_chegada: str, data_partida: str) -> dict:\n",
        "        \"\"\"\n",
        "        Monta um roteiro diário otimizado para as atrações, considerando a hospedagem e datas.\n",
        "        \"\"\"\n",
        "        from datetime import datetime\n",
        "        delta = datetime.strptime(data_partida, \"%Y-%m-%d\") - datetime.strptime(data_chegada, \"%Y-%m-%d\")\n",
        "        dias_viagem = delta.days + 1 # Inclui o dia de chegada e partida\n",
        "\n",
        "        atracoes_str = json.dumps(atracoes, ensure_ascii=False, indent=2)\n",
        "\n",
        "        prompt = f\"\"\"\n",
        "        Você é um especialista em planejamento de roteiros de viagem, focado em otimização e experiência do viajante.\n",
        "        Sua tarefa é criar um roteiro diário detalhado para uma viagem a {cidade}, {pais}, com base nas atrações fornecidas.\n",
        "        A viagem será de {data_chegada} a {data_partida}, totalizando {dias_viagem} dias.\n",
        "        A hospedagem principal é em: {hospedagem}.\n",
        "\n",
        "        Atrações disponíveis (formato JSON):\n",
        "{atracoes_str}\n",
        "\n",
        "        Critérios para o Roteiro:\n",
        "        1.  **Otimização Geográfica:** Agrupe atrações próximas no mesmo dia para minimizar deslocamentos.\n",
        "        2.  **Fluxo Lógico:** Organize as visitas de forma sequencial e eficiente.\n",
        "        3.  **Ritmo Agradável:** Considere tempos de deslocamento, duração estimada das visitas e pausas (almoço, descanso). Evite sobrecarregar os dias.\n",
        "        4.  **Hospedagem como Base:** O roteiro deve idealmente começar e terminar o dia próximo à área da hospedagem, se possível.\n",
        "        5.  **Flexibilidade:** Mencione que o roteiro é uma sugestão e pode ser adaptado.\n",
        "        6.  **Sugestões Adicionais:** Inclua sugestões gerais de onde comer na região das atrações do dia, ou atividades noturnas, se apropriado para a cidade.\n",
        "        7.  **Formato Diário:** Organize a saída por dia da viagem.\n",
        "\n",
        "        Formato da Resposta:\n",
        "        Retorne **estritamente uma lista JSON**. Cada elemento da lista deve ser um dicionário representando um dia do roteiro,\n",
        "        contendo EXATAMENTE as seguintes chaves:\n",
        "        - \"dia\": (integer) O número do dia da viagem (começando em 1).\n",
        "        - \"data\": (string) A data correspondente ao dia do roteiro no formato YYYY-MM-DD.\n",
        "        - \"atividades_sugeridas\": (lista de strings) Uma lista ordenada das atrações e atividades sugeridas para este dia, com descrições concisas (ex: \"Visitar o Museu do Louvre (reservar 3-4 horas)\", \"Passeio pelo Jardim de Tuileries (1-2 horas)\", \"Almoço na região do museu\"). Inclua tempos estimados ou sugestões de duração quando possível.\n",
        "        - \"observacoes\": (string) Sugestões adicionais para o dia, como opções de transporte, áreas para almoço/jantar, ou dicas específicas para as atrações do dia. Use \"N/A\" se não houver observações relevantes.\n",
        "\n",
        "        Exemplo de um item na lista JSON:\n",
        "        {{\n",
        "          \"dia\": 1,\n",
        "          \"data\": \"{data_chegada}\",\n",
        "          \"atividades_sugeridas\": [\n",
        "            \"Chegada e check-in na hospedagem ({hospedagem})\",\n",
        "            \"Passeio exploratório pela vizinhança da hospedagem\",\n",
        "            \"Jantar em um restaurante local\"\n",
        "          ],\n",
        "          \"observacoes\": \"Aproveite para se ambientar na área.\"\n",
        "        }}\n",
        "\n",
        "        Garanta que a saída seja SOMENTE a lista JSON, sem nenhum texto introdutório, comentários ou formatação adicional.\n",
        "        \"\"\"\n",
        "\n",
        "        display(Markdown(f\"🧠 *Agente montando roteiro para: **{cidade}, {pais}** ({dias_viagem} dias)...*\"))\n",
        "\n",
        "        try:\n",
        "            response = self.modelo.generate_content(\n",
        "                prompt,\n",
        "                generation_config=genai.types.GenerationConfig(\n",
        "                    temperature=0.7, # Um pouco mais criativo para o roteiro\n",
        "                    max_output_tokens=4096 # Espaço suficiente para o roteiro completo\n",
        "                ),\n",
        "                safety_settings=self.safety_settings\n",
        "            )\n",
        "\n",
        "            roteiro_text = response.text.strip()\n",
        "            # Tentativa robusta de extrair JSON\n",
        "            if roteiro_text.startswith(\"```json\"):\n",
        "                roteiro_text = roteiro_text[7:]\n",
        "            if roteiro_text.endswith(\"```\"):\n",
        "                roteiro_text = roteiro_text[:-3]\n",
        "            roteiro_text = roteiro_text.strip()\n",
        "\n",
        "\n",
        "            if not roteiro_text:\n",
        "                 display(Markdown(f\"<font color='orange'>Aviso: Gemini retornou uma resposta vazia ao tentar montar o roteiro para {cidade}.</font>\"))\n",
        "                 return {\"erro\": \"resposta vazia do Gemini\"}\n",
        "\n",
        "\n",
        "            roteiro = json.loads(roteiro_text)\n",
        "            if not isinstance(roteiro, list):\n",
        "                 display(Markdown(f\"<font color='orange'>Aviso: Gemini retornou um formato inesperado (não uma lista) para o roteiro de {cidade}.</font>\"))\n",
        "                 return {\"erro\": \"formato inesperado do Gemini\"}\n",
        "\n",
        "            display(Markdown(f\"✅ *Gemini montou um roteiro com {len(roteiro)} dias para {cidade}.*\"))\n",
        "            return {\"roteiro\": roteiro}\n",
        "\n",
        "        except json.JSONDecodeError as e:\n",
        "            display(Markdown(f\"<font color='red'>**Erro (JSONDecodeError) ao processar resposta do Gemini para o roteiro de {cidade}:** {e}. \"\n",
        "                             \"Isso geralmente ocorre se o modelo não retornar um JSON válido.</font>\"))\n",
        "            if hasattr(response, 'text'):\n",
        "                display(Markdown(f\"<pre>Resposta Bruta do Gemini:\\n{response.text}</pre>\"))\n",
        "            else:\n",
        "                 display(Markdown(f\"<pre>Nenhuma resposta de texto recebida do Gemini.</pre>\"))\n",
        "            return {\"erro\": f\"JSONDecodeError: {e}\"}\n",
        "        except Exception as e:\n",
        "            display(Markdown(f\"<font color='red'>**Erro inesperado ao consultar Gemini para montar o roteiro de {cidade}:** {e}</font>\"))\n",
        "            if hasattr(response, 'prompt_feedback'):\n",
        "                display(Markdown(f\"Feedback do Prompt: {response.prompt_feedback}\"))\n",
        "            return {\"erro\": f\"Erro inesperado: {e}\"}\n",
        "\n",
        "\n",
        "# --- Função Principal de Execução ---\n",
        "\n",
        "def executar_planejador_viagem(caminho_arquivo_csv: str):\n",
        "    \"\"\"\n",
        "    Carrega os dados, pesquisa atrações para cada destino e monta o roteiro.\n",
        "    \"\"\"\n",
        "    display(Markdown(\"## ✨ Iniciando Planejador de Viagens ✨\"))\n",
        "\n",
        "    df_viagens = carregar_dados_viagem(caminho_arquivo_csv)\n",
        "    if df_viagens is None or df_viagens.empty:\n",
        "        display(Markdown(\"<font color='red'>**Erro: Não foi possível carregar os dados de viagem ou o arquivo está vazio.** O planejamento não pode continuar.</font>\"))\n",
        "        return None\n",
        "\n",
        "    if gemini_model_instance is None:\n",
        "         display(Markdown(\"<font color='red'>**Erro: O modelo Gemini não foi configurado corretamente.** Não é possível pesquisar atrações ou montar roteiros.</font>\"))\n",
        "         return None\n",
        "\n",
        "    agente_pesquisador = AgentePesquisadorAtracoes(gemini_model_instance)\n",
        "    agente_roteirista = MontadorDeRoteiros(gemini_model_instance) # Instancia o agente roteirista AQUI\n",
        "\n",
        "    resultados_compilados = []\n",
        "\n",
        "    for index, row in df_viagens.iterrows():\n",
        "        cidade = row['cidade']\n",
        "        pais = row['pais']\n",
        "        data_chegada = row['data_chegada']\n",
        "        data_partida = row['data_partida']\n",
        "        hospedagem = row['hospedagem']\n",
        "\n",
        "        display(Markdown(f\"\\n--- Processando destino: **{cidade}, {pais}** ---\"))\n",
        "\n",
        "        # 1. Pesquisar atrações\n",
        "        pesquisa_destino = agente_pesquisador.pesquisar_destino(cidade, pais)\n",
        "\n",
        "        # 2. Montar roteiro, APENAS se houver sugestões de atrações\n",
        "        roteiro_destino = {\"roteiro\": [], \"erro\": \"Sem sugestões de atrações para montar roteiro\"}\n",
        "        if pesquisa_destino and pesquisa_destino.get(\"sugestoes_gemini\"):\n",
        "             roteiro_destino = agente_roteirista.montar_roteiro(\n",
        "                 cidade, pais,\n",
        "                 pesquisa_destino[\"sugestoes_gemini\"],\n",
        "                 hospedagem,\n",
        "                 data_chegada,\n",
        "                 data_partida\n",
        "             )\n",
        "        elif pesquisa_destino and pesquisa_destino.get(\"erro\"):\n",
        "             roteiro_destino[\"erro\"] = f\"Erro na pesquisa de atrações: {pesquisa_destino['erro']}\"\n",
        "\n",
        "\n",
        "        # Compilar resultados\n",
        "        resultados_compilados.append({\n",
        "            \"cidade\": cidade,\n",
        "            \"pais\": pais,\n",
        "            \"data_chegada\": data_chegada,\n",
        "            \"data_partida\": data_partida,\n",
        "            \"hospedagem\": hospedagem,\n",
        "            \"pesquisa\": pesquisa_destino,\n",
        "            \"roteiro\": roteiro_destino.get(\"roteiro\"),\n",
        "            \"erro_roteiro\": roteiro_destino.get(\"erro\") # Adiciona campo de erro específico para o roteiro\n",
        "        })\n",
        "\n",
        "        # Pequena pausa para não sobrecarregar APIs ou o console\n",
        "        time.sleep(2)\n",
        "\n",
        "    display(Markdown(\"\\n## ✅ Planejamento de Viagens Concluído ✅\"))\n",
        "    return resultados_compilados\n",
        "\n",
        "\n",
        "# --- Execução Principal (Exemplo) ---\n",
        "# Certifique-se de que o arquivo 'europa.csv' está no caminho especificado.\n",
        "# dados_finais_viagem = executar_planejador_viagem(\"/content/europa.csv\")\n",
        "\n",
        "# Você pode então inspecionar 'dados_finais_viagem' para ver os resultados.\n",
        "# Por exemplo, para ver o roteiro da primeira cidade:\n",
        "# if dados_finais_viagem and dados_finais_viagem[0].get(\"roteiro\"):\n",
        "#     display(Markdown(\"### Roteiro Sugerido para a Primeira Cidade:\"))\n",
        "#     for dia in dados_finais_viagem[0][\"roteiro\"]:\n",
        "#          display(Markdown(f\"**Dia {dia['dia']} ({dia['data']}):**\"))\n",
        "#          for atividade in dia['atividades_sugeridas']:\n",
        "#              display(Markdown(f\"- {atividade}\"))\n",
        "#          if dia.get(\"observacoes\") and dia[\"observacoes\"] != \"N/A\":\n",
        "#              display(Markdown(f\"*Observações:* {dia['observacoes']}\"))\n",
        "#          display(Markdown(\"---\"))\n",
        "\n",
        "# Para ver as sugestões de atrações da primeira cidade:\n",
        "# if dados_finais_viagem and dados_finais_viagem[0].get(\"pesquisa\") and dados_finais_viagem[0][\"pesquisa\"].get(\"sugestoes_gemini\"):\n",
        "#      display(Markdown(\"### Sugestões de Atrações do Gemini para a Primeira Cidade:\"))\n",
        "#      for atracao in dados_finais_viagem[0][\"pesquisa\"][\"sugestoes_gemini\"]:\n",
        "#           display(Markdown(f\"- **{atracao['nome']}** ({atracao['tipo_principal']}): {atracao['descricao_enxuta']} (Avaliação: {atracao.get('avaliacao_geral', 'N/A')})\"))"
      ],
      "metadata": {
        "id": "OK0vHJM92vIj",
        "colab": {
          "base_uri": "https://localhost:8080/",
          "height": 46
        },
        "collapsed": true,
        "outputId": "6a779420-efbc-486c-e114-d82ad8853f56"
      },
      "execution_count": null,
      "outputs": [
        {
          "output_type": "display_data",
          "data": {
            "text/plain": [
              "<IPython.core.display.Markdown object>"
            ],
            "text/markdown": "✅ *SDK do Gemini e modelo (`gemini-1.5-flash-latest`) configurados com sucesso.*"
          },
          "metadata": {}
        }
      ]
    },
    {
      "cell_type": "code",
      "metadata": {
        "id": "7C8bqQw_jR4N"
      },
      "source": [
        "# --- Definição do Agente Montador de Roteiros ---\n",
        "\n",
        "class MontadorDeRoteiros:\n",
        "    \"\"\"\n",
        "    Um agente responsável por organizar as atrações por dia, considerando proximidade,\n",
        "    hospedagem como ponto de partida/chegada, e adicionando elementos para tornar o roteiro prazeroso e divertido.\n",
        "    \"\"\"\n",
        "    def __init__(self, modelo_llm: genai.GenerativeModel):\n",
        "        if modelo_llm is None:\n",
        "            raise ValueError(\"O modelo LLM (Gemini) não pode ser None para este agente.\")\n",
        "        self.modelo = modelo_llm\n",
        "        self.safety_settings = [ # Configurações de segurança para o Gemini\n",
        "            {\"category\": \"HARM_CATEGORY_HARASSMENT\", \"threshold\": \"BLOCK_MEDIUM_AND_ABOVE\"},\n",
        "            {\"category\": \"HARM_CATEGORY_HATE_SPEECH\", \"threshold\": \"BLOCK_MEDIUM_AND_ABOVE\"},\n",
        "            {\"category\": \"HARM_CATEGORY_SEXUALLY_EXPLICIT\", \"threshold\": \"BLOCK_MEDIUM_AND_ABOVE\"},\n",
        "            {\"category\": \"HARM_CATEGORY_DANGEROUS_CONTENT\", \"threshold\": \"BLOCK_MEDIUM_AND_ABOVE\"},\n",
        "        ]\n",
        "\n",
        "    def montar_roteiro(self, cidade: str, pais: str, atracoes: list, hospedagem: str, data_chegada: str, data_partida: str) -> dict:\n",
        "        \"\"\"\n",
        "        Monta um roteiro diário otimizado para as atrações, considerando a hospedagem e datas.\n",
        "        \"\"\"\n",
        "        from datetime import datetime\n",
        "        delta = datetime.strptime(data_partida, \"%Y-%m-%d\") - datetime.strptime(data_chegada, \"%Y-%m-%d\")\n",
        "        dias_viagem = delta.days + 1 # Inclui o dia de chegada e partida\n",
        "\n",
        "        atracoes_str = json.dumps(atracoes, ensure_ascii=False, indent=2)\n",
        "\n",
        "        prompt = f\"\"\"\n",
        "        Você é um especialista em planejamento de roteiros de viagem, focado em otimização e experiência do viajante.\n",
        "        Sua tarefa é criar um roteiro diário detalhado para uma viagem a {cidade}, {pais}, com base nas atrações fornecidas.\n",
        "        A viagem será de {data_chegada} a {data_partida}, totalizando {dias_viagem} dias.\n",
        "        A hospedagem principal é em: {hospedagem}.\n",
        "\n",
        "        Atrações disponíveis (formato JSON):\n",
        "{atracoes_str}\n",
        "\n",
        "        Critérios para o Roteiro:\n",
        "        1.  **Otimização Geográfica:** Agrupe atrações próximas no mesmo dia para minimizar deslocamentos.\n",
        "        2.  **Fluxo Lógico:** Organize as visitas de forma sequencial e eficiente.\n",
        "        3.  **Ritmo Agradável:** Considere tempos de deslocamento, duração estimada das visitas e pausas (almoço, descanso). Evite sobrecarregar os dias.\n",
        "        4.  **Hospedagem como Base:** O roteiro deve idealmente começar e terminar o dia próximo à área da hospedagem, se possível.\n",
        "        5.  **Flexibilidade:** Mencione que o roteiro é uma sugestão e pode ser adaptado.\n",
        "        6.  **Sugestões Adicionais:** Inclua sugestões gerais de onde comer na região das atrações do dia, ou atividades noturnas, se apropriado para a cidade.\n",
        "        7.  **Formato Diário:** Organize a saída por dia da viagem.\n",
        "\n",
        "        Formato da Resposta:\n",
        "        Retorne **estritamente uma lista JSON**. Cada elemento da lista deve ser um dicionário representando um dia do roteiro,\n",
        "        contendo EXATAMENTE as seguintes chaves:\n",
        "        - \"dia\": (integer) O número do dia da viagem (começando em 1).\n",
        "        - \"data\": (string) A data correspondente ao dia do roteiro no formato YYYY-MM-DD.\n",
        "        - \"atividades_sugeridas\": (lista de strings) Uma lista ordenada das atrações e atividades sugeridas para este dia, com descrições concisas (ex: \"Visitar o Museu do Louvre (reservar 3-4 horas)\", \"Passeio pelo Jardim de Tuileries (1-2 horas)\", \"Almoço na região do museu\"). Inclua tempos estimados ou sugestões de duração quando possível.\n",
        "        - \"observacoes\": (string) Sugestões adicionais para o dia, como opções de transporte, áreas para almoço/jantar, ou dicas específicas para as atrações do dia. Use \"N/A\" se não houver observações relevantes.\n",
        "\n",
        "        Exemplo de um item na lista JSON:\n",
        "        {{\n",
        "          \"dia\": 1,\n",
        "          \"data\": \"{data_chegada}\",\n",
        "          \"atividades_sugeridas\": [\n",
        "            \"Chegada e check-in na hospedagem ({hospedagem})\",\n",
        "            \"Passeio exploratório pela vizinhança da hospedagem\",\n",
        "            \"Jantar em um restaurante local\"\n",
        "          ],\n",
        "          \"observacoes\": \"Aproveite para se ambientar na área.\"\n",
        "        }}\n",
        "\n",
        "        Garanta que a saída seja SOMENTE a lista JSON, sem nenhum texto introdutório, comentários ou formatação adicional.\n",
        "        \"\"\"\n",
        "\n",
        "        display(Markdown(f\"🧠 *Agente montando roteiro para: **{cidade}, {pais}** ({dias_viagem} dias)...*\"))\n",
        "\n",
        "        try:\n",
        "            response = self.modelo.generate_content(\n",
        "                prompt,\n",
        "                generation_config=genai.types.GenerationConfig(\n",
        "                    temperature=0.7, # Um pouco mais criativo para o roteiro\n",
        "                    max_output_tokens=4096 # Espaço suficiente para o roteiro completo\n",
        "                ),\n",
        "                safety_settings=self.safety_settings\n",
        "            )\n",
        "\n",
        "            roteiro_text = response.text.strip()\n",
        "            # Tentativa robusta de extrair JSON\n",
        "            if roteiro_text.startswith(\"```json\"):\n",
        "                roteiro_text = roteiro_text[7:]\n",
        "            if roteiro_text.endswith(\"```\"):\n",
        "                roteiro_text = roteiro_text[:-3]\n",
        "            roteiro_text = roteiro_text.strip()\n",
        "\n",
        "\n",
        "            if not roteiro_text:\n",
        "                 display(Markdown(f\"<font color='orange'>Aviso: Gemini retornou uma resposta vazia ao tentar montar o roteiro para {cidade}.</font>\"))\n",
        "                 return {\"erro\": \"resposta vazia do Gemini\"}\n",
        "\n",
        "\n",
        "            roteiro = json.loads(roteiro_text)\n",
        "            if not isinstance(roteiro, list):\n",
        "                 display(Markdown(f\"<font color='orange'>Aviso: Gemini retornou um formato inesperado (não uma lista) para o roteiro de {cidade}.</font>\"))\n",
        "                 return {\"erro\": \"formato inesperado do Gemini\"}\n",
        "\n",
        "            display(Markdown(f\"✅ *Gemini montou um roteiro com {len(roteiro)} dias para {cidade}.*\"))\n",
        "            return {\"roteiro\": roteiro}\n",
        "\n",
        "        except json.JSONDecodeError as e:\n",
        "            display(Markdown(f\"<font color='red'>**Erro (JSONDecodeError) ao processar resposta do Gemini para o roteiro de {cidade}:** {e}. \"\n",
        "                             \"Isso geralmente ocorre se o modelo não retornar um JSON válido.</font>\"))\n",
        "            if hasattr(response, 'text'):\n",
        "                display(Markdown(f\"<pre>Resposta Bruta do Gemini:\\n{response.text}</pre>\"))\n",
        "            else:\n",
        "                 display(Markdown(f\"<pre>Nenhuma resposta de texto recebida do Gemini.</pre>\"))\n",
        "            return {\"erro\": f\"JSONDecodeError: {e}\"}\n",
        "        except Exception as e:\n",
        "            display(Markdown(f\"<font color='red'>**Erro inesperado ao consultar Gemini para montar o roteiro de {cidade}:** {e}</font>\"))\n",
        "            if hasattr(response, 'prompt_feedback'):\n",
        "                display(Markdown(f\"Feedback do Prompt: {response.prompt_feedback}\"))\n",
        "            return {\"erro\": f\"Erro inesperado: {e}\"}"
      ],
      "execution_count": null,
      "outputs": []
    },
    {
      "cell_type": "code",
      "metadata": {
        "id": "DbloKMtwjR4O"
      },
      "source": [
        "# --- Definição do Agente Montador de Roteiros ---\n",
        "\n",
        "class MontadorDeRoteiros:\n",
        "    \"\"\"\n",
        "    Um agente responsável por organizar as atrações por dia, considerando proximidade,\n",
        "    hospedagem como ponto de partida/chegada, e adicionando elementos para tornar o roteiro prazeroso e divertido.\n",
        "    \"\"\"\n",
        "    def __init__(self, modelo_llm: genai.GenerativeModel):\n",
        "        if modelo_llm is None:\n",
        "            raise ValueError(\"O modelo LLM (Gemini) não pode ser None para este agente.\")\n",
        "        self.modelo = modelo_llm\n",
        "        self.safety_settings = [ # Configurações de segurança para o Gemini\n",
        "            {\"category\": \"HARM_CATEGORY_HARASSMENT\", \"threshold\": \"BLOCK_MEDIUM_AND_ABOVE\"},\n",
        "            {\"category\": \"HARM_CATEGORY_HATE_SPEECH\", \"threshold\": \"BLOCK_MEDIUM_AND_ABOVE\"},\n",
        "            {\"category\": \"HARM_CATEGORY_SEXUALLY_EXPLICIT\", \"threshold\": \"BLOCK_MEDIUM_AND_ABOVE\"},\n",
        "            {\"category\": \"HARM_CATEGORY_DANGEROUS_CONTENT\", \"threshold\": \"BLOCK_MEDIUM_AND_ABOVE\"},\n",
        "        ]\n",
        "\n",
        "    def montar_roteiro(self, cidade: str, pais: str, atracoes: list, hospedagem: str, data_chegada: str, data_partida: str) -> dict:\n",
        "        \"\"\"\n",
        "        Monta um roteiro diário otimizado para as atrações, considerando a hospedagem e datas.\n",
        "        \"\"\"\n",
        "        from datetime import datetime\n",
        "        delta = datetime.strptime(data_partida, \"%Y-%m-%d\") - datetime.strptime(data_chegada, \"%Y-%m-%d\")\n",
        "        dias_viagem = delta.days + 1 # Inclui o dia de chegada e partida\n",
        "\n",
        "        atracoes_str = json.dumps(atracoes, ensure_ascii=False, indent=2)\n",
        "\n",
        "        prompt = f\"\"\"\n",
        "        Você é um especialista em planejamento de roteiros de viagem, focado em otimização e experiência do viajante.\n",
        "        Sua tarefa é criar um roteiro diário detalhado para uma viagem a {cidade}, {pais}, com base nas atrações fornecidas.\n",
        "        A viagem será de {data_chegada} a {data_partida}, totalizando {dias_viagem} dias.\n",
        "        A hospedagem principal é em: {hospedagem}.\n",
        "\n",
        "        Atrações disponíveis (formato JSON):\n",
        "{atracoes_str}\n",
        "\n",
        "        Critérios para o Roteiro:\n",
        "        1.  **Otimização Geográfica:** Agrupe atrações próximas no mesmo dia para minimizar deslocamentos.\n",
        "        2.  **Fluxo Lógico:** Organize as visitas de forma sequencial e eficiente.\n",
        "        3.  **Ritmo Agradável:** Considere tempos de deslocamento, duração estimada das visitas e pausas (almoço, descanso). Evite sobrecarregar os dias.\n",
        "        4.  **Hospedagem como Base:** O roteiro deve idealmente começar e terminar o dia próximo à área da hospedagem, se possível.\n",
        "        5.  **Flexibilidade:** Mencione que o roteiro é uma sugestão e pode ser adaptado.\n",
        "        6.  **Sugestões Adicionais:** Inclua sugestões gerais de onde comer na região das atrações do dia, ou atividades noturnas, se apropriado para a cidade.\n",
        "        7.  **Formato Diário:** Organize a saída por dia da viagem.\n",
        "\n",
        "        Formato da Resposta:\n",
        "        Retorne **estritamente uma lista JSON**. Cada elemento da lista deve ser um dicionário representando um dia do roteiro,\n",
        "        contendo EXATAMENTE as seguintes chaves:\n",
        "        - \"dia\": (integer) O número do dia da viagem (começando em 1).\n",
        "        - \"data\": (string) A data correspondente ao dia do roteiro no formato YYYY-MM-DD.\n",
        "        - \"atividades_sugeridas\": (lista de strings) Uma lista ordenada das atrações e atividades sugeridas para este dia, com descrições concisas (ex: \"Visitar o Museu do Louvre (reservar 3-4 horas)\", \"Passeio pelo Jardim de Tuileries (1-2 horas)\", \"Almoço na região do museu\"). Inclua tempos estimados ou sugestões de duração quando possível.\n",
        "        - \"observacoes\": (string) Sugestões adicionais para o dia, como opções de transporte, áreas para almoço/jantar, ou dicas específicas para as atrações do dia. Use \"N/A\" se não houver observações relevantes.\n",
        "\n",
        "        Exemplo de um item na lista JSON:\n",
        "        {{\n",
        "          \"dia\": 1,\n",
        "          \"data\": \"{data_chegada}\",\n",
        "          \"atividades_sugeridas\": [\n",
        "            \"Chegada e check-in na hospedagem ({hospedagem})\",\n",
        "            \"Passeio exploratório pela vizinhança da hospedagem\",\n",
        "            \"Jantar em um restaurante local\"\n",
        "          ],\n",
        "          \"observacoes\": \"Aproveite para se ambientar na área.\"\n",
        "        }}\n",
        "\n",
        "        Garanta que a saída seja SOMENTE a lista JSON, sem nenhum texto introdutório, comentários ou formatação adicional.\n",
        "        \"\"\"\n",
        "\n",
        "        display(Markdown(f\"🧠 *Agente montando roteiro para: **{cidade}, {pais}** ({dias_viagem} dias)...*\"))\n",
        "\n",
        "        try:\n",
        "            response = self.modelo.generate_content(\n",
        "                prompt,\n",
        "                generation_config=genai.types.GenerationConfig(\n",
        "                    temperature=0.7, # Um pouco mais criativo para o roteiro\n",
        "                    max_output_tokens=4096 # Espaço suficiente para o roteiro completo\n",
        "                ),\n",
        "                safety_settings=self.safety_settings\n",
        "            )\n",
        "\n",
        "            roteiro_text = response.text.strip()\n",
        "            # Tentativa robusta de extrair JSON\n",
        "            if roteiro_text.startswith(\"```json\"):\n",
        "                roteiro_text = roteiro_text[7:]\n",
        "            if roteiro_text.endswith(\"```\"):\n",
        "                roteiro_text = roteiro_text[:-3]\n",
        "            roteiro_text = roteiro_text.strip()\n",
        "\n",
        "\n",
        "            if not roteiro_text:\n",
        "                 display(Markdown(f\"<font color='orange'>Aviso: Gemini retornou uma resposta vazia ao tentar montar o roteiro para {cidade}.</font>\"))\n",
        "                 return {\"erro\": \"resposta vazia do Gemini\"}\n",
        "\n",
        "\n",
        "            roteiro = json.loads(roteiro_text)\n",
        "            if not isinstance(roteiro, list):\n",
        "                 display(Markdown(f\"<font color='orange'>Aviso: Gemini retornou um formato inesperado (não uma lista) para o roteiro de {cidade}.</font>\"))\n",
        "                 return {\"erro\": \"formato inesperado do Gemini\"}\n",
        "\n",
        "            display(Markdown(f\"✅ *Gemini montou um roteiro com {len(roteiro)} dias para {cidade}.*\"))\n",
        "            return {\"roteiro\": roteiro}\n",
        "\n",
        "        except json.JSONDecodeError as e:\n",
        "            display(Markdown(f\"<font color='red'>**Erro (JSONDecodeError) ao processar resposta do Gemini para o roteiro de {cidade}:** {e}. \"\n",
        "                             \"Isso geralmente ocorre se o modelo não retornar um JSON válido.</font>\"))\n",
        "            if hasattr(response, 'text'):\n",
        "                display(Markdown(f\"<pre>Resposta Bruta do Gemini:\\n{response.text}</pre>\"))\n",
        "            else:\n",
        "                 display(Markdown(f\"<pre>Nenhuma resposta de texto recebida do Gemini.</pre>\"))\n",
        "            return {\"erro\": f\"JSONDecodeError: {e}\"}\n",
        "        except Exception as e:\n",
        "            display(Markdown(f\"<font color='red'>**Erro inesperado ao consultar Gemini para montar o roteiro de {cidade}:** {e}</font>\"))\n",
        "            if hasattr(response, 'prompt_feedback'):\n",
        "                display(Markdown(f\"Feedback do Prompt: {response.prompt_feedback}\"))\n",
        "            return {\"erro\": f\"Erro inesperado: {e}\"}"
      ],
      "execution_count": null,
      "outputs": []
    },
    {
      "cell_type": "code",
      "metadata": {
        "colab": {
          "base_uri": "https://localhost:8080/",
          "height": 805
        },
        "collapsed": true,
        "id": "4b422ff2",
        "outputId": "314f3a8d-9dbf-45f1-96e8-20d8af5d5935"
      },
      "source": [
        "dados_finais_viagem = dados_compilados = executar_planejador_viagem(\"/content/europa.csv\")"
      ],
      "execution_count": null,
      "outputs": [
        {
          "output_type": "display_data",
          "data": {
            "text/plain": [
              "<IPython.core.display.Markdown object>"
            ],
            "text/markdown": "## ✨ Iniciando Planejador de Viagens ✨"
          },
          "metadata": {}
        },
        {
          "output_type": "display_data",
          "data": {
            "text/plain": [
              "<IPython.core.display.Markdown object>"
            ],
            "text/markdown": "### Arquivo de Viagem (`/content/europa.csv`)"
          },
          "metadata": {}
        },
        {
          "output_type": "display_data",
          "data": {
            "text/plain": [
              "     cidade     pais data_chegada data_partida                    hospedagem\n",
              "0      Roma   Itália   2025-09-13   2025-09-16  Via Francesco Caracciolo n.7\n",
              "1  Florença   Itália   2025-09-16   2025-09-19                  Hotel Bodoni\n",
              "2     Viena  Aústria   2025-09-20   2025-09-24            Hilton Vienna Park"
            ],
            "text/html": [
              "\n",
              "  <div id=\"df-ec7b33c1-5ff3-4f7a-815a-4b6146abcb3c\" class=\"colab-df-container\">\n",
              "    <div>\n",
              "<style scoped>\n",
              "    .dataframe tbody tr th:only-of-type {\n",
              "        vertical-align: middle;\n",
              "    }\n",
              "\n",
              "    .dataframe tbody tr th {\n",
              "        vertical-align: top;\n",
              "    }\n",
              "\n",
              "    .dataframe thead th {\n",
              "        text-align: right;\n",
              "    }\n",
              "</style>\n",
              "<table border=\"1\" class=\"dataframe\">\n",
              "  <thead>\n",
              "    <tr style=\"text-align: right;\">\n",
              "      <th></th>\n",
              "      <th>cidade</th>\n",
              "      <th>pais</th>\n",
              "      <th>data_chegada</th>\n",
              "      <th>data_partida</th>\n",
              "      <th>hospedagem</th>\n",
              "    </tr>\n",
              "  </thead>\n",
              "  <tbody>\n",
              "    <tr>\n",
              "      <th>0</th>\n",
              "      <td>Roma</td>\n",
              "      <td>Itália</td>\n",
              "      <td>2025-09-13</td>\n",
              "      <td>2025-09-16</td>\n",
              "      <td>Via Francesco Caracciolo n.7</td>\n",
              "    </tr>\n",
              "    <tr>\n",
              "      <th>1</th>\n",
              "      <td>Florença</td>\n",
              "      <td>Itália</td>\n",
              "      <td>2025-09-16</td>\n",
              "      <td>2025-09-19</td>\n",
              "      <td>Hotel Bodoni</td>\n",
              "    </tr>\n",
              "    <tr>\n",
              "      <th>2</th>\n",
              "      <td>Viena</td>\n",
              "      <td>Aústria</td>\n",
              "      <td>2025-09-20</td>\n",
              "      <td>2025-09-24</td>\n",
              "      <td>Hilton Vienna Park</td>\n",
              "    </tr>\n",
              "  </tbody>\n",
              "</table>\n",
              "</div>\n",
              "    <div class=\"colab-df-buttons\">\n",
              "\n",
              "  <div class=\"colab-df-container\">\n",
              "    <button class=\"colab-df-convert\" onclick=\"convertToInteractive('df-ec7b33c1-5ff3-4f7a-815a-4b6146abcb3c')\"\n",
              "            title=\"Convert this dataframe to an interactive table.\"\n",
              "            style=\"display:none;\">\n",
              "\n",
              "  <svg xmlns=\"http://www.w3.org/2000/svg\" height=\"24px\" viewBox=\"0 -960 960 960\">\n",
              "    <path d=\"M120-120v-720h720v720H120Zm60-500h600v-160H180v160Zm220 220h160v-160H400v160Zm0 220h160v-160H400v160ZM180-400h160v-160H180v160Zm440 0h160v-160H620v160ZM180-180h160v-160H180v160Zm440 0h160v-160H620v160Z\"/>\n",
              "  </svg>\n",
              "    </button>\n",
              "\n",
              "  <style>\n",
              "    .colab-df-container {\n",
              "      display:flex;\n",
              "      gap: 12px;\n",
              "    }\n",
              "\n",
              "    .colab-df-convert {\n",
              "      background-color: #E8F0FE;\n",
              "      border: none;\n",
              "      border-radius: 50%;\n",
              "      cursor: pointer;\n",
              "      display: none;\n",
              "      fill: #1967D2;\n",
              "      height: 32px;\n",
              "      padding: 0 0 0 0;\n",
              "      width: 32px;\n",
              "    }\n",
              "\n",
              "    .colab-df-convert:hover {\n",
              "      background-color: #E2EBFA;\n",
              "      box-shadow: 0px 1px 2px rgba(60, 64, 67, 0.3), 0px 1px 3px 1px rgba(60, 64, 67, 0.15);\n",
              "      fill: #174EA6;\n",
              "    }\n",
              "\n",
              "    .colab-df-buttons div {\n",
              "      margin-bottom: 4px;\n",
              "    }\n",
              "\n",
              "    [theme=dark] .colab-df-convert {\n",
              "      background-color: #3B4455;\n",
              "      fill: #D2E3FC;\n",
              "    }\n",
              "\n",
              "    [theme=dark] .colab-df-convert:hover {\n",
              "      background-color: #434B5C;\n",
              "      box-shadow: 0px 1px 3px 1px rgba(0, 0, 0, 0.15);\n",
              "      filter: drop-shadow(0px 1px 2px rgba(0, 0, 0, 0.3));\n",
              "      fill: #FFFFFF;\n",
              "    }\n",
              "  </style>\n",
              "\n",
              "    <script>\n",
              "      const buttonEl =\n",
              "        document.querySelector('#df-ec7b33c1-5ff3-4f7a-815a-4b6146abcb3c button.colab-df-convert');\n",
              "      buttonEl.style.display =\n",
              "        google.colab.kernel.accessAllowed ? 'block' : 'none';\n",
              "\n",
              "      async function convertToInteractive(key) {\n",
              "        const element = document.querySelector('#df-ec7b33c1-5ff3-4f7a-815a-4b6146abcb3c');\n",
              "        const dataTable =\n",
              "          await google.colab.kernel.invokeFunction('convertToInteractive',\n",
              "                                                    [key], {});\n",
              "        if (!dataTable) return;\n",
              "\n",
              "        const docLinkHtml = 'Like what you see? Visit the ' +\n",
              "          '<a target=\"_blank\" href=https://colab.research.google.com/notebooks/data_table.ipynb>data table notebook</a>'\n",
              "          + ' to learn more about interactive tables.';\n",
              "        element.innerHTML = '';\n",
              "        dataTable['output_type'] = 'display_data';\n",
              "        await google.colab.output.renderOutput(dataTable, element);\n",
              "        const docLink = document.createElement('div');\n",
              "        docLink.innerHTML = docLinkHtml;\n",
              "        element.appendChild(docLink);\n",
              "      }\n",
              "    </script>\n",
              "  </div>\n",
              "\n",
              "\n",
              "    <div id=\"df-ac283e05-e26a-4d21-a451-8fe47aec062d\">\n",
              "      <button class=\"colab-df-quickchart\" onclick=\"quickchart('df-ac283e05-e26a-4d21-a451-8fe47aec062d')\"\n",
              "                title=\"Suggest charts\"\n",
              "                style=\"display:none;\">\n",
              "\n",
              "<svg xmlns=\"http://www.w3.org/2000/svg\" height=\"24px\"viewBox=\"0 0 24 24\"\n",
              "     width=\"24px\">\n",
              "    <g>\n",
              "        <path d=\"M19 3H5c-1.1 0-2 .9-2 2v14c0 1.1.9 2 2 2h14c1.1 0 2-.9 2-2V5c0-1.1-.9-2-2-2zM9 17H7v-7h2v7zm4 0h-2V7h2v10zm4 0h-2v-4h2v4z\"/>\n",
              "    </g>\n",
              "</svg>\n",
              "      </button>\n",
              "\n",
              "<style>\n",
              "  .colab-df-quickchart {\n",
              "      --bg-color: #E8F0FE;\n",
              "      --fill-color: #1967D2;\n",
              "      --hover-bg-color: #E2EBFA;\n",
              "      --hover-fill-color: #174EA6;\n",
              "      --disabled-fill-color: #AAA;\n",
              "      --disabled-bg-color: #DDD;\n",
              "  }\n",
              "\n",
              "  [theme=dark] .colab-df-quickchart {\n",
              "      --bg-color: #3B4455;\n",
              "      --fill-color: #D2E3FC;\n",
              "      --hover-bg-color: #434B5C;\n",
              "      --hover-fill-color: #FFFFFF;\n",
              "      --disabled-bg-color: #3B4455;\n",
              "      --disabled-fill-color: #666;\n",
              "  }\n",
              "\n",
              "  .colab-df-quickchart {\n",
              "    background-color: var(--bg-color);\n",
              "    border: none;\n",
              "    border-radius: 50%;\n",
              "    cursor: pointer;\n",
              "    display: none;\n",
              "    fill: var(--fill-color);\n",
              "    height: 32px;\n",
              "    padding: 0;\n",
              "    width: 32px;\n",
              "  }\n",
              "\n",
              "  .colab-df-quickchart:hover {\n",
              "    background-color: var(--hover-bg-color);\n",
              "    box-shadow: 0 1px 2px rgba(60, 64, 67, 0.3), 0 1px 3px 1px rgba(60, 64, 67, 0.15);\n",
              "    fill: var(--button-hover-fill-color);\n",
              "  }\n",
              "\n",
              "  .colab-df-quickchart-complete:disabled,\n",
              "  .colab-df-quickchart-complete:disabled:hover {\n",
              "    background-color: var(--disabled-bg-color);\n",
              "    fill: var(--disabled-fill-color);\n",
              "    box-shadow: none;\n",
              "  }\n",
              "\n",
              "  .colab-df-spinner {\n",
              "    border: 2px solid var(--fill-color);\n",
              "    border-color: transparent;\n",
              "    border-bottom-color: var(--fill-color);\n",
              "    animation:\n",
              "      spin 1s steps(1) infinite;\n",
              "  }\n",
              "\n",
              "  @keyframes spin {\n",
              "    0% {\n",
              "      border-color: transparent;\n",
              "      border-bottom-color: var(--fill-color);\n",
              "      border-left-color: var(--fill-color);\n",
              "    }\n",
              "    20% {\n",
              "      border-color: transparent;\n",
              "      border-left-color: var(--fill-color);\n",
              "      border-top-color: var(--fill-color);\n",
              "    }\n",
              "    30% {\n",
              "      border-color: transparent;\n",
              "      border-left-color: var(--fill-color);\n",
              "      border-top-color: var(--fill-color);\n",
              "      border-right-color: var(--fill-color);\n",
              "    }\n",
              "    40% {\n",
              "      border-color: transparent;\n",
              "      border-right-color: var(--fill-color);\n",
              "      border-top-color: var(--fill-color);\n",
              "    }\n",
              "    60% {\n",
              "      border-color: transparent;\n",
              "      border-right-color: var(--fill-color);\n",
              "    }\n",
              "    80% {\n",
              "      border-color: transparent;\n",
              "      border-right-color: var(--fill-color);\n",
              "      border-bottom-color: var(--fill-color);\n",
              "    }\n",
              "    90% {\n",
              "      border-color: transparent;\n",
              "      border-bottom-color: var(--fill-color);\n",
              "    }\n",
              "  }\n",
              "</style>\n",
              "\n",
              "      <script>\n",
              "        async function quickchart(key) {\n",
              "          const quickchartButtonEl =\n",
              "            document.querySelector('#' + key + ' button');\n",
              "          quickchartButtonEl.disabled = true;  // To prevent multiple clicks.\n",
              "          quickchartButtonEl.classList.add('colab-df-spinner');\n",
              "          try {\n",
              "            const charts = await google.colab.kernel.invokeFunction(\n",
              "                'suggestCharts', [key], {});\n",
              "          } catch (error) {\n",
              "            console.error('Error during call to suggestCharts:', error);\n",
              "          }\n",
              "          quickchartButtonEl.classList.remove('colab-df-spinner');\n",
              "          quickchartButtonEl.classList.add('colab-df-quickchart-complete');\n",
              "        }\n",
              "        (() => {\n",
              "          let quickchartButtonEl =\n",
              "            document.querySelector('#df-ac283e05-e26a-4d21-a451-8fe47aec062d button');\n",
              "          quickchartButtonEl.style.display =\n",
              "            google.colab.kernel.accessAllowed ? 'block' : 'none';\n",
              "        })();\n",
              "      </script>\n",
              "    </div>\n",
              "\n",
              "    </div>\n",
              "  </div>\n"
            ],
            "application/vnd.google.colaboratory.intrinsic+json": {
              "type": "dataframe",
              "summary": "{\n  \"name\": \"dados_finais_viagem = dados_compilados = executar_planejador_viagem(\\\"/content/europa\",\n  \"rows\": 3,\n  \"fields\": [\n    {\n      \"column\": \"cidade\",\n      \"properties\": {\n        \"dtype\": \"string\",\n        \"num_unique_values\": 3,\n        \"samples\": [\n          \"Roma\",\n          \"Floren\\u00e7a\",\n          \"Viena\"\n        ],\n        \"semantic_type\": \"\",\n        \"description\": \"\"\n      }\n    },\n    {\n      \"column\": \"pais\",\n      \"properties\": {\n        \"dtype\": \"string\",\n        \"num_unique_values\": 2,\n        \"samples\": [\n          \"A\\u00fastria\",\n          \"It\\u00e1lia\"\n        ],\n        \"semantic_type\": \"\",\n        \"description\": \"\"\n      }\n    },\n    {\n      \"column\": \"data_chegada\",\n      \"properties\": {\n        \"dtype\": \"object\",\n        \"num_unique_values\": 3,\n        \"samples\": [\n          \"2025-09-13\",\n          \"2025-09-16\"\n        ],\n        \"semantic_type\": \"\",\n        \"description\": \"\"\n      }\n    },\n    {\n      \"column\": \"data_partida\",\n      \"properties\": {\n        \"dtype\": \"object\",\n        \"num_unique_values\": 3,\n        \"samples\": [\n          \"2025-09-16\",\n          \"2025-09-19\"\n        ],\n        \"semantic_type\": \"\",\n        \"description\": \"\"\n      }\n    },\n    {\n      \"column\": \"hospedagem\",\n      \"properties\": {\n        \"dtype\": \"string\",\n        \"num_unique_values\": 3,\n        \"samples\": [\n          \"Via Francesco Caracciolo n.7\",\n          \"Hotel Bodoni\"\n        ],\n        \"semantic_type\": \"\",\n        \"description\": \"\"\n      }\n    }\n  ]\n}"
            }
          },
          "metadata": {}
        },
        {
          "output_type": "display_data",
          "data": {
            "text/plain": [
              "<IPython.core.display.Markdown object>"
            ],
            "text/markdown": "\n--- Processando destino: **Roma, Itália** ---"
          },
          "metadata": {}
        },
        {
          "output_type": "display_data",
          "data": {
            "text/plain": [
              "<IPython.core.display.Markdown object>"
            ],
            "text/markdown": "\n### 🌍 Agente Iniciando Pesquisa para: **Roma, Itália**"
          },
          "metadata": {}
        },
        {
          "output_type": "display_data",
          "data": {
            "text/plain": [
              "<IPython.core.display.Markdown object>"
            ],
            "text/markdown": "🧠 *Agente consultando Gemini sobre atrações em: **Roma, Itália** (Top 7)...*"
          },
          "metadata": {}
        },
        {
          "output_type": "display_data",
          "data": {
            "text/plain": [
              "<IPython.core.display.Markdown object>"
            ],
            "text/markdown": "✅ *Gemini retornou 7 sugestões de atrações para Roma.*"
          },
          "metadata": {}
        },
        {
          "output_type": "display_data",
          "data": {
            "text/plain": [
              "<IPython.core.display.Markdown object>"
            ],
            "text/markdown": "--- Pesquisa para **Roma, Itália** finalizada pelo agente. ---"
          },
          "metadata": {}
        },
        {
          "output_type": "display_data",
          "data": {
            "text/plain": [
              "<IPython.core.display.Markdown object>"
            ],
            "text/markdown": "🧠 *Agente montando roteiro para: **Roma, Itália** (4 dias)...*"
          },
          "metadata": {}
        },
        {
          "output_type": "display_data",
          "data": {
            "text/plain": [
              "<IPython.core.display.Markdown object>"
            ],
            "text/markdown": "✅ *Gemini montou um roteiro com 4 dias para Roma.*"
          },
          "metadata": {}
        },
        {
          "output_type": "display_data",
          "data": {
            "text/plain": [
              "<IPython.core.display.Markdown object>"
            ],
            "text/markdown": "\n--- Processando destino: **Florença, Itália** ---"
          },
          "metadata": {}
        },
        {
          "output_type": "display_data",
          "data": {
            "text/plain": [
              "<IPython.core.display.Markdown object>"
            ],
            "text/markdown": "\n### 🌍 Agente Iniciando Pesquisa para: **Florença, Itália**"
          },
          "metadata": {}
        },
        {
          "output_type": "display_data",
          "data": {
            "text/plain": [
              "<IPython.core.display.Markdown object>"
            ],
            "text/markdown": "🧠 *Agente consultando Gemini sobre atrações em: **Florença, Itália** (Top 7)...*"
          },
          "metadata": {}
        },
        {
          "output_type": "display_data",
          "data": {
            "text/plain": [
              "<IPython.core.display.Markdown object>"
            ],
            "text/markdown": "✅ *Gemini retornou 7 sugestões de atrações para Florença.*"
          },
          "metadata": {}
        },
        {
          "output_type": "display_data",
          "data": {
            "text/plain": [
              "<IPython.core.display.Markdown object>"
            ],
            "text/markdown": "--- Pesquisa para **Florença, Itália** finalizada pelo agente. ---"
          },
          "metadata": {}
        },
        {
          "output_type": "display_data",
          "data": {
            "text/plain": [
              "<IPython.core.display.Markdown object>"
            ],
            "text/markdown": "🧠 *Agente montando roteiro para: **Florença, Itália** (4 dias)...*"
          },
          "metadata": {}
        },
        {
          "output_type": "display_data",
          "data": {
            "text/plain": [
              "<IPython.core.display.Markdown object>"
            ],
            "text/markdown": "✅ *Gemini montou um roteiro com 4 dias para Florença.*"
          },
          "metadata": {}
        },
        {
          "output_type": "display_data",
          "data": {
            "text/plain": [
              "<IPython.core.display.Markdown object>"
            ],
            "text/markdown": "\n--- Processando destino: **Viena, Aústria** ---"
          },
          "metadata": {}
        },
        {
          "output_type": "display_data",
          "data": {
            "text/plain": [
              "<IPython.core.display.Markdown object>"
            ],
            "text/markdown": "\n### 🌍 Agente Iniciando Pesquisa para: **Viena, Aústria**"
          },
          "metadata": {}
        },
        {
          "output_type": "display_data",
          "data": {
            "text/plain": [
              "<IPython.core.display.Markdown object>"
            ],
            "text/markdown": "🧠 *Agente consultando Gemini sobre atrações em: **Viena, Aústria** (Top 7)...*"
          },
          "metadata": {}
        },
        {
          "output_type": "display_data",
          "data": {
            "text/plain": [
              "<IPython.core.display.Markdown object>"
            ],
            "text/markdown": "✅ *Gemini retornou 7 sugestões de atrações para Viena.*"
          },
          "metadata": {}
        },
        {
          "output_type": "display_data",
          "data": {
            "text/plain": [
              "<IPython.core.display.Markdown object>"
            ],
            "text/markdown": "--- Pesquisa para **Viena, Aústria** finalizada pelo agente. ---"
          },
          "metadata": {}
        },
        {
          "output_type": "display_data",
          "data": {
            "text/plain": [
              "<IPython.core.display.Markdown object>"
            ],
            "text/markdown": "🧠 *Agente montando roteiro para: **Viena, Aústria** (5 dias)...*"
          },
          "metadata": {}
        },
        {
          "output_type": "display_data",
          "data": {
            "text/plain": [
              "<IPython.core.display.Markdown object>"
            ],
            "text/markdown": "✅ *Gemini montou um roteiro com 5 dias para Viena.*"
          },
          "metadata": {}
        },
        {
          "output_type": "display_data",
          "data": {
            "text/plain": [
              "<IPython.core.display.Markdown object>"
            ],
            "text/markdown": "\n## ✅ Planejamento de Viagens Concluído ✅"
          },
          "metadata": {}
        }
      ]
    },
    {
      "cell_type": "code",
      "metadata": {
        "colab": {
          "base_uri": "https://localhost:8080/",
          "height": 1000
        },
        "id": "9ecaed3b",
        "outputId": "8f82d7f7-332b-4ca6-c76f-3645d747a4ab"
      },
      "source": [
        "if dados_finais_viagem and dados_finais_viagem[0].get(\"roteiro\"):\n",
        "    display(Markdown(\"### Roteiro Sugerido para a Primeira Cidade:\"))\n",
        "    for dia in dados_finais_viagem[0][\"roteiro\"]:\n",
        "         display(Markdown(f\"**Dia {dia['dia']} ({dia['data']}):**\"))\n",
        "         for atividade in dia['atividades_sugeridas']:\n",
        "             display(Markdown(f\"- {atividade}\"))\n",
        "         if dia.get(\"observacoes\") and dia[\"observacoes\"] != \"N/A\":\n",
        "             display(Markdown(f\"*Observações:* {dia['observacoes']}\"))\n",
        "         display(Markdown(\"---\"))\n",
        "\n",
        "if dados_finais_viagem and dados_finais_viagem[0].get(\"pesquisa\") and dados_finais_viagem[0][\"pesquisa\"].get(\"sugestoes_gemini\"):\n",
        "     display(Markdown(\"### Sugestões de Atrações do Gemini para a Primeira Cidade:\"))\n",
        "     for atracao in dados_finais_viagem[0][\"pesquisa\"][\"sugestoes_gemini\"]:\n",
        "          display(Markdown(f\"- **{atracao['nome']}** ({atracao['tipo_principal']}): {atracao['descricao_enxuta']} (Avaliação: {atracao.get('avaliacao_geral', 'N/A')})\"))"
      ],
      "execution_count": null,
      "outputs": [
        {
          "output_type": "display_data",
          "data": {
            "text/plain": [
              "<IPython.core.display.Markdown object>"
            ],
            "text/markdown": "### Roteiro Sugerido para a Primeira Cidade:"
          },
          "metadata": {}
        },
        {
          "output_type": "display_data",
          "data": {
            "text/plain": [
              "<IPython.core.display.Markdown object>"
            ],
            "text/markdown": "**Dia 1 (2025-09-13):**"
          },
          "metadata": {}
        },
        {
          "output_type": "display_data",
          "data": {
            "text/plain": [
              "<IPython.core.display.Markdown object>"
            ],
            "text/markdown": "- Chegada e check-in na hospedagem (Via Francesco Caracciolo n.7)"
          },
          "metadata": {}
        },
        {
          "output_type": "display_data",
          "data": {
            "text/plain": [
              "<IPython.core.display.Markdown object>"
            ],
            "text/markdown": "- Passeio exploratório pela vizinhança da hospedagem"
          },
          "metadata": {}
        },
        {
          "output_type": "display_data",
          "data": {
            "text/plain": [
              "<IPython.core.display.Markdown object>"
            ],
            "text/markdown": "- Jantar em um restaurante local próximo à Via Francesco Caracciolo."
          },
          "metadata": {}
        },
        {
          "output_type": "display_data",
          "data": {
            "text/plain": [
              "<IPython.core.display.Markdown object>"
            ],
            "text/markdown": "*Observações:* A região oferece diversas opções gastronômicas.  Aproveite para se ambientar na área."
          },
          "metadata": {}
        },
        {
          "output_type": "display_data",
          "data": {
            "text/plain": [
              "<IPython.core.display.Markdown object>"
            ],
            "text/markdown": "---"
          },
          "metadata": {}
        },
        {
          "output_type": "display_data",
          "data": {
            "text/plain": [
              "<IPython.core.display.Markdown object>"
            ],
            "text/markdown": "**Dia 2 (2025-09-14):**"
          },
          "metadata": {}
        },
        {
          "output_type": "display_data",
          "data": {
            "text/plain": [
              "<IPython.core.display.Markdown object>"
            ],
            "text/markdown": "- Coliseu e Fórum Romano (3-4 horas)"
          },
          "metadata": {}
        },
        {
          "output_type": "display_data",
          "data": {
            "text/plain": [
              "<IPython.core.display.Markdown object>"
            ],
            "text/markdown": "- Almoço em um restaurante próximo ao Coliseu (várias opções de trattorias)"
          },
          "metadata": {}
        },
        {
          "output_type": "display_data",
          "data": {
            "text/plain": [
              "<IPython.core.display.Markdown object>"
            ],
            "text/markdown": "- Panteão (1 hora)"
          },
          "metadata": {}
        },
        {
          "output_type": "display_data",
          "data": {
            "text/plain": [
              "<IPython.core.display.Markdown object>"
            ],
            "text/markdown": "- Piazza Navona (1-2 horas, incluindo um gelato)"
          },
          "metadata": {}
        },
        {
          "output_type": "display_data",
          "data": {
            "text/plain": [
              "<IPython.core.display.Markdown object>"
            ],
            "text/markdown": "- Jantar na região da Piazza Navona."
          },
          "metadata": {}
        },
        {
          "output_type": "display_data",
          "data": {
            "text/plain": [
              "<IPython.core.display.Markdown object>"
            ],
            "text/markdown": "*Observações:* Use o metrô ou ônibus para se locomover entre as atrações.  A região oferece muitas opções de restaurantes, desde fast food até restaurantes sofisticados."
          },
          "metadata": {}
        },
        {
          "output_type": "display_data",
          "data": {
            "text/plain": [
              "<IPython.core.display.Markdown object>"
            ],
            "text/markdown": "---"
          },
          "metadata": {}
        },
        {
          "output_type": "display_data",
          "data": {
            "text/plain": [
              "<IPython.core.display.Markdown object>"
            ],
            "text/markdown": "**Dia 3 (2025-09-15):**"
          },
          "metadata": {}
        },
        {
          "output_type": "display_data",
          "data": {
            "text/plain": [
              "<IPython.core.display.Markdown object>"
            ],
            "text/markdown": "- Museus do Vaticano (incluindo a Capela Sistina) (3-4 horas - reserve ingressos com antecedência!)"
          },
          "metadata": {}
        },
        {
          "output_type": "display_data",
          "data": {
            "text/plain": [
              "<IPython.core.display.Markdown object>"
            ],
            "text/markdown": "- Basílica de São Pedro (1-2 horas)"
          },
          "metadata": {}
        },
        {
          "output_type": "display_data",
          "data": {
            "text/plain": [
              "<IPython.core.display.Markdown object>"
            ],
            "text/markdown": "- Almoço próximo aos Museus do Vaticano (várias opções de cafés e restaurantes)"
          },
          "metadata": {}
        },
        {
          "output_type": "display_data",
          "data": {
            "text/plain": [
              "<IPython.core.display.Markdown object>"
            ],
            "text/markdown": "- Fontana di Trevi (30 minutos - aproveite para tirar fotos)"
          },
          "metadata": {}
        },
        {
          "output_type": "display_data",
          "data": {
            "text/plain": [
              "<IPython.core.display.Markdown object>"
            ],
            "text/markdown": "- Passeio pela região da Fontana di Trevi"
          },
          "metadata": {}
        },
        {
          "output_type": "display_data",
          "data": {
            "text/plain": [
              "<IPython.core.display.Markdown object>"
            ],
            "text/markdown": "- Jantar em um restaurante perto da Fontana di Trevi ou no caminho de volta para a hospedagem."
          },
          "metadata": {}
        },
        {
          "output_type": "display_data",
          "data": {
            "text/plain": [
              "<IPython.core.display.Markdown object>"
            ],
            "text/markdown": "*Observações:* Reserve os ingressos para os Museus do Vaticano com bastante antecedência para evitar filas longas. Considere usar o transporte público para se locomover entre as atrações. A região oferece diversas opções gastronômicas, de lanches rápidos a restaurantes finos."
          },
          "metadata": {}
        },
        {
          "output_type": "display_data",
          "data": {
            "text/plain": [
              "<IPython.core.display.Markdown object>"
            ],
            "text/markdown": "---"
          },
          "metadata": {}
        },
        {
          "output_type": "display_data",
          "data": {
            "text/plain": [
              "<IPython.core.display.Markdown object>"
            ],
            "text/markdown": "**Dia 4 (2025-09-16):**"
          },
          "metadata": {}
        },
        {
          "output_type": "display_data",
          "data": {
            "text/plain": [
              "<IPython.core.display.Markdown object>"
            ],
            "text/markdown": "- Espaço Verde: Jardins Borghese e Villa Borghese (2-3 horas - considere visitar a Galeria Borghese, se interessado, mas reserve ingressos com antecedência!)"
          },
          "metadata": {}
        },
        {
          "output_type": "display_data",
          "data": {
            "text/plain": [
              "<IPython.core.display.Markdown object>"
            ],
            "text/markdown": "- Almoço na Villa Borghese ou em um restaurante próximo"
          },
          "metadata": {}
        },
        {
          "output_type": "display_data",
          "data": {
            "text/plain": [
              "<IPython.core.display.Markdown object>"
            ],
            "text/markdown": "- Compras de lembrancinhas (dependendo do interesse e tempo disponível)"
          },
          "metadata": {}
        },
        {
          "output_type": "display_data",
          "data": {
            "text/plain": [
              "<IPython.core.display.Markdown object>"
            ],
            "text/markdown": "- Retorno para a hospedagem e check-out"
          },
          "metadata": {}
        },
        {
          "output_type": "display_data",
          "data": {
            "text/plain": [
              "<IPython.core.display.Markdown object>"
            ],
            "text/markdown": "- Jantar em um restaurante próximo ao aeroporto ou estação de trem (dependendo do seu transporte)."
          },
          "metadata": {}
        },
        {
          "output_type": "display_data",
          "data": {
            "text/plain": [
              "<IPython.core.display.Markdown object>"
            ],
            "text/markdown": "*Observações:* Os Jardins Borghese são um ótimo lugar para relaxar antes de partir.  Considere o tempo de viagem para o aeroporto ou estação de trem ao planejar seu último almoço."
          },
          "metadata": {}
        },
        {
          "output_type": "display_data",
          "data": {
            "text/plain": [
              "<IPython.core.display.Markdown object>"
            ],
            "text/markdown": "---"
          },
          "metadata": {}
        },
        {
          "output_type": "display_data",
          "data": {
            "text/plain": [
              "<IPython.core.display.Markdown object>"
            ],
            "text/markdown": "### Sugestões de Atrações do Gemini para a Primeira Cidade:"
          },
          "metadata": {}
        },
        {
          "output_type": "display_data",
          "data": {
            "text/plain": [
              "<IPython.core.display.Markdown object>"
            ],
            "text/markdown": "- **Coliseu e Fórum Romano** (Monumento Nacional e Sítio Arqueológico): Símbolo icônico de Roma, o Coliseu é um anfiteatro antigo, enquanto o Fórum Romano revela os restos da antiga cidade romana. (Avaliação: Excelente)"
          },
          "metadata": {}
        },
        {
          "output_type": "display_data",
          "data": {
            "text/plain": [
              "<IPython.core.display.Markdown object>"
            ],
            "text/markdown": "- **Museus do Vaticano (incluindo a Capela Sistina)** (Museu de Arte e Religião): Um complexo de museus que abriga uma vasta coleção de arte e artefatos, incluindo a deslumbrante Capela Sistina de Michelangelo. (Avaliação: Excelente)"
          },
          "metadata": {}
        },
        {
          "output_type": "display_data",
          "data": {
            "text/plain": [
              "<IPython.core.display.Markdown object>"
            ],
            "text/markdown": "- **Fontana di Trevi** (Fonte Barroca): Uma das fontes mais famosas do mundo, conhecida por sua beleza e pela tradição de jogar uma moeda na água. (Avaliação: Muito Popular)"
          },
          "metadata": {}
        },
        {
          "output_type": "display_data",
          "data": {
            "text/plain": [
              "<IPython.core.display.Markdown object>"
            ],
            "text/markdown": "- **Basílica de São Pedro** (Catedral Católica Romana): Uma das maiores e mais importantes igrejas católicas do mundo, com uma arquitetura impressionante e uma rica história. (Avaliação: Excelente)"
          },
          "metadata": {}
        },
        {
          "output_type": "display_data",
          "data": {
            "text/plain": [
              "<IPython.core.display.Markdown object>"
            ],
            "text/markdown": "- **Panteão** (Templo Romano): Um antigo templo romano excepcionalmente bem preservado, conhecido por sua cúpula inovadora e arquitetura impressionante. (Avaliação: Excelente)"
          },
          "metadata": {}
        },
        {
          "output_type": "display_data",
          "data": {
            "text/plain": [
              "<IPython.core.display.Markdown object>"
            ],
            "text/markdown": "- **Piazza Navona** (Praça Barroca): Uma animada praça barroca com fontes ornamentadas, artistas de rua e uma atmosfera vibrante. (Avaliação: Muito Popular)"
          },
          "metadata": {}
        },
        {
          "output_type": "display_data",
          "data": {
            "text/plain": [
              "<IPython.core.display.Markdown object>"
            ],
            "text/markdown": "- **Espaço Verde: Jardins Borghese e Villa Borghese** (Parque Urbano e Galeria de Arte): Um grande parque com jardins exuberantes, galerias de arte, museus e vistas panorâmicas da cidade, oferecendo um refúgio tranquilo no coração de Roma. (Avaliação: Excelente)"
          },
          "metadata": {}
        }
      ]
    },
    {
      "cell_type": "code",
      "metadata": {
        "colab": {
          "base_uri": "https://localhost:8080/",
          "height": 805
        },
        "id": "e76678d4",
        "outputId": "b433507b-2234-440d-fbdc-c7374979d53a"
      },
      "source": [
        "dados_finais_viagem = dados_compilados = executar_planejador_viagem(\"/content/europa.csv\")"
      ],
      "execution_count": null,
      "outputs": [
        {
          "output_type": "display_data",
          "data": {
            "text/plain": [
              "<IPython.core.display.Markdown object>"
            ],
            "text/markdown": "## ✨ Iniciando Planejador de Viagens ✨"
          },
          "metadata": {}
        },
        {
          "output_type": "display_data",
          "data": {
            "text/plain": [
              "<IPython.core.display.Markdown object>"
            ],
            "text/markdown": "### Arquivo de Viagem (`/content/europa.csv`)"
          },
          "metadata": {}
        },
        {
          "output_type": "display_data",
          "data": {
            "text/plain": [
              "     cidade     pais data_chegada data_partida                    hospedagem\n",
              "0      Roma   Itália   2025-09-13   2025-09-16  Via Francesco Caracciolo n.7\n",
              "1  Florença   Itália   2025-09-16   2025-09-19                  Hotel Bodoni\n",
              "2     Viena  Aústria   2025-09-20   2025-09-24            Hilton Vienna Park"
            ],
            "text/html": [
              "\n",
              "  <div id=\"df-f01a867a-bee7-46b3-8af7-613fd16e0149\" class=\"colab-df-container\">\n",
              "    <div>\n",
              "<style scoped>\n",
              "    .dataframe tbody tr th:only-of-type {\n",
              "        vertical-align: middle;\n",
              "    }\n",
              "\n",
              "    .dataframe tbody tr th {\n",
              "        vertical-align: top;\n",
              "    }\n",
              "\n",
              "    .dataframe thead th {\n",
              "        text-align: right;\n",
              "    }\n",
              "</style>\n",
              "<table border=\"1\" class=\"dataframe\">\n",
              "  <thead>\n",
              "    <tr style=\"text-align: right;\">\n",
              "      <th></th>\n",
              "      <th>cidade</th>\n",
              "      <th>pais</th>\n",
              "      <th>data_chegada</th>\n",
              "      <th>data_partida</th>\n",
              "      <th>hospedagem</th>\n",
              "    </tr>\n",
              "  </thead>\n",
              "  <tbody>\n",
              "    <tr>\n",
              "      <th>0</th>\n",
              "      <td>Roma</td>\n",
              "      <td>Itália</td>\n",
              "      <td>2025-09-13</td>\n",
              "      <td>2025-09-16</td>\n",
              "      <td>Via Francesco Caracciolo n.7</td>\n",
              "    </tr>\n",
              "    <tr>\n",
              "      <th>1</th>\n",
              "      <td>Florença</td>\n",
              "      <td>Itália</td>\n",
              "      <td>2025-09-16</td>\n",
              "      <td>2025-09-19</td>\n",
              "      <td>Hotel Bodoni</td>\n",
              "    </tr>\n",
              "    <tr>\n",
              "      <th>2</th>\n",
              "      <td>Viena</td>\n",
              "      <td>Aústria</td>\n",
              "      <td>2025-09-20</td>\n",
              "      <td>2025-09-24</td>\n",
              "      <td>Hilton Vienna Park</td>\n",
              "    </tr>\n",
              "  </tbody>\n",
              "</table>\n",
              "</div>\n",
              "    <div class=\"colab-df-buttons\">\n",
              "\n",
              "  <div class=\"colab-df-container\">\n",
              "    <button class=\"colab-df-convert\" onclick=\"convertToInteractive('df-f01a867a-bee7-46b3-8af7-613fd16e0149')\"\n",
              "            title=\"Convert this dataframe to an interactive table.\"\n",
              "            style=\"display:none;\">\n",
              "\n",
              "  <svg xmlns=\"http://www.w3.org/2000/svg\" height=\"24px\" viewBox=\"0 -960 960 960\">\n",
              "    <path d=\"M120-120v-720h720v720H120Zm60-500h600v-160H180v160Zm220 220h160v-160H400v160Zm0 220h160v-160H400v160ZM180-400h160v-160H180v160Zm440 0h160v-160H620v160ZM180-180h160v-160H180v160Zm440 0h160v-160H620v160Z\"/>\n",
              "  </svg>\n",
              "    </button>\n",
              "\n",
              "  <style>\n",
              "    .colab-df-container {\n",
              "      display:flex;\n",
              "      gap: 12px;\n",
              "    }\n",
              "\n",
              "    .colab-df-convert {\n",
              "      background-color: #E8F0FE;\n",
              "      border: none;\n",
              "      border-radius: 50%;\n",
              "      cursor: pointer;\n",
              "      display: none;\n",
              "      fill: #1967D2;\n",
              "      height: 32px;\n",
              "      padding: 0 0 0 0;\n",
              "      width: 32px;\n",
              "    }\n",
              "\n",
              "    .colab-df-convert:hover {\n",
              "      background-color: #E2EBFA;\n",
              "      box-shadow: 0px 1px 2px rgba(60, 64, 67, 0.3), 0px 1px 3px 1px rgba(60, 64, 67, 0.15);\n",
              "      fill: #174EA6;\n",
              "    }\n",
              "\n",
              "    .colab-df-buttons div {\n",
              "      margin-bottom: 4px;\n",
              "    }\n",
              "\n",
              "    [theme=dark] .colab-df-convert {\n",
              "      background-color: #3B4455;\n",
              "      fill: #D2E3FC;\n",
              "    }\n",
              "\n",
              "    [theme=dark] .colab-df-convert:hover {\n",
              "      background-color: #434B5C;\n",
              "      box-shadow: 0px 1px 3px 1px rgba(0, 0, 0, 0.15);\n",
              "      filter: drop-shadow(0px 1px 2px rgba(0, 0, 0, 0.3));\n",
              "      fill: #FFFFFF;\n",
              "    }\n",
              "  </style>\n",
              "\n",
              "    <script>\n",
              "      const buttonEl =\n",
              "        document.querySelector('#df-f01a867a-bee7-46b3-8af7-613fd16e0149 button.colab-df-convert');\n",
              "      buttonEl.style.display =\n",
              "        google.colab.kernel.accessAllowed ? 'block' : 'none';\n",
              "\n",
              "      async function convertToInteractive(key) {\n",
              "        const element = document.querySelector('#df-f01a867a-bee7-46b3-8af7-613fd16e0149');\n",
              "        const dataTable =\n",
              "          await google.colab.kernel.invokeFunction('convertToInteractive',\n",
              "                                                    [key], {});\n",
              "        if (!dataTable) return;\n",
              "\n",
              "        const docLinkHtml = 'Like what you see? Visit the ' +\n",
              "          '<a target=\"_blank\" href=https://colab.research.google.com/notebooks/data_table.ipynb>data table notebook</a>'\n",
              "          + ' to learn more about interactive tables.';\n",
              "        element.innerHTML = '';\n",
              "        dataTable['output_type'] = 'display_data';\n",
              "        await google.colab.output.renderOutput(dataTable, element);\n",
              "        const docLink = document.createElement('div');\n",
              "        docLink.innerHTML = docLinkHtml;\n",
              "        element.appendChild(docLink);\n",
              "      }\n",
              "    </script>\n",
              "  </div>\n",
              "\n",
              "\n",
              "    <div id=\"df-52d2e233-fbc2-4df4-b16b-b40a0055768a\">\n",
              "      <button class=\"colab-df-quickchart\" onclick=\"quickchart('df-52d2e233-fbc2-4df4-b16b-b40a0055768a')\"\n",
              "                title=\"Suggest charts\"\n",
              "                style=\"display:none;\">\n",
              "\n",
              "<svg xmlns=\"http://www.w3.org/2000/svg\" height=\"24px\"viewBox=\"0 0 24 24\"\n",
              "     width=\"24px\">\n",
              "    <g>\n",
              "        <path d=\"M19 3H5c-1.1 0-2 .9-2 2v14c0 1.1.9 2 2 2h14c1.1 0 2-.9 2-2V5c0-1.1-.9-2-2-2zM9 17H7v-7h2v7zm4 0h-2V7h2v10zm4 0h-2v-4h2v4z\"/>\n",
              "    </g>\n",
              "</svg>\n",
              "      </button>\n",
              "\n",
              "<style>\n",
              "  .colab-df-quickchart {\n",
              "      --bg-color: #E8F0FE;\n",
              "      --fill-color: #1967D2;\n",
              "      --hover-bg-color: #E2EBFA;\n",
              "      --hover-fill-color: #174EA6;\n",
              "      --disabled-fill-color: #AAA;\n",
              "      --disabled-bg-color: #DDD;\n",
              "  }\n",
              "\n",
              "  [theme=dark] .colab-df-quickchart {\n",
              "      --bg-color: #3B4455;\n",
              "      --fill-color: #D2E3FC;\n",
              "      --hover-bg-color: #434B5C;\n",
              "      --hover-fill-color: #FFFFFF;\n",
              "      --disabled-bg-color: #3B4455;\n",
              "      --disabled-fill-color: #666;\n",
              "  }\n",
              "\n",
              "  .colab-df-quickchart {\n",
              "    background-color: var(--bg-color);\n",
              "    border: none;\n",
              "    border-radius: 50%;\n",
              "    cursor: pointer;\n",
              "    display: none;\n",
              "    fill: var(--fill-color);\n",
              "    height: 32px;\n",
              "    padding: 0;\n",
              "    width: 32px;\n",
              "  }\n",
              "\n",
              "  .colab-df-quickchart:hover {\n",
              "    background-color: var(--hover-bg-color);\n",
              "    box-shadow: 0 1px 2px rgba(60, 64, 67, 0.3), 0 1px 3px 1px rgba(60, 64, 67, 0.15);\n",
              "    fill: var(--button-hover-fill-color);\n",
              "  }\n",
              "\n",
              "  .colab-df-quickchart-complete:disabled,\n",
              "  .colab-df-quickchart-complete:disabled:hover {\n",
              "    background-color: var(--disabled-bg-color);\n",
              "    fill: var(--disabled-fill-color);\n",
              "    box-shadow: none;\n",
              "  }\n",
              "\n",
              "  .colab-df-spinner {\n",
              "    border: 2px solid var(--fill-color);\n",
              "    border-color: transparent;\n",
              "    border-bottom-color: var(--fill-color);\n",
              "    animation:\n",
              "      spin 1s steps(1) infinite;\n",
              "  }\n",
              "\n",
              "  @keyframes spin {\n",
              "    0% {\n",
              "      border-color: transparent;\n",
              "      border-bottom-color: var(--fill-color);\n",
              "      border-left-color: var(--fill-color);\n",
              "    }\n",
              "    20% {\n",
              "      border-color: transparent;\n",
              "      border-left-color: var(--fill-color);\n",
              "      border-top-color: var(--fill-color);\n",
              "    }\n",
              "    30% {\n",
              "      border-color: transparent;\n",
              "      border-left-color: var(--fill-color);\n",
              "      border-top-color: var(--fill-color);\n",
              "      border-right-color: var(--fill-color);\n",
              "    }\n",
              "    40% {\n",
              "      border-color: transparent;\n",
              "      border-right-color: var(--fill-color);\n",
              "      border-top-color: var(--fill-color);\n",
              "    }\n",
              "    60% {\n",
              "      border-color: transparent;\n",
              "      border-right-color: var(--fill-color);\n",
              "    }\n",
              "    80% {\n",
              "      border-color: transparent;\n",
              "      border-right-color: var(--fill-color);\n",
              "      border-bottom-color: var(--fill-color);\n",
              "    }\n",
              "    90% {\n",
              "      border-color: transparent;\n",
              "      border-bottom-color: var(--fill-color);\n",
              "    }\n",
              "  }\n",
              "</style>\n",
              "\n",
              "      <script>\n",
              "        async function quickchart(key) {\n",
              "          const quickchartButtonEl =\n",
              "            document.querySelector('#' + key + ' button');\n",
              "          quickchartButtonEl.disabled = true;  // To prevent multiple clicks.\n",
              "          quickchartButtonEl.classList.add('colab-df-spinner');\n",
              "          try {\n",
              "            const charts = await google.colab.kernel.invokeFunction(\n",
              "                'suggestCharts', [key], {});\n",
              "          } catch (error) {\n",
              "            console.error('Error during call to suggestCharts:', error);\n",
              "          }\n",
              "          quickchartButtonEl.classList.remove('colab-df-spinner');\n",
              "          quickchartButtonEl.classList.add('colab-df-quickchart-complete');\n",
              "        }\n",
              "        (() => {\n",
              "          let quickchartButtonEl =\n",
              "            document.querySelector('#df-52d2e233-fbc2-4df4-b16b-b40a0055768a button');\n",
              "          quickchartButtonEl.style.display =\n",
              "            google.colab.kernel.accessAllowed ? 'block' : 'none';\n",
              "        })();\n",
              "      </script>\n",
              "    </div>\n",
              "\n",
              "    </div>\n",
              "  </div>\n"
            ],
            "application/vnd.google.colaboratory.intrinsic+json": {
              "type": "dataframe",
              "summary": "{\n  \"name\": \"dados_finais_viagem = dados_compilados = executar_planejador_viagem(\\\"/content/europa\",\n  \"rows\": 3,\n  \"fields\": [\n    {\n      \"column\": \"cidade\",\n      \"properties\": {\n        \"dtype\": \"string\",\n        \"num_unique_values\": 3,\n        \"samples\": [\n          \"Roma\",\n          \"Floren\\u00e7a\",\n          \"Viena\"\n        ],\n        \"semantic_type\": \"\",\n        \"description\": \"\"\n      }\n    },\n    {\n      \"column\": \"pais\",\n      \"properties\": {\n        \"dtype\": \"string\",\n        \"num_unique_values\": 2,\n        \"samples\": [\n          \"A\\u00fastria\",\n          \"It\\u00e1lia\"\n        ],\n        \"semantic_type\": \"\",\n        \"description\": \"\"\n      }\n    },\n    {\n      \"column\": \"data_chegada\",\n      \"properties\": {\n        \"dtype\": \"object\",\n        \"num_unique_values\": 3,\n        \"samples\": [\n          \"2025-09-13\",\n          \"2025-09-16\"\n        ],\n        \"semantic_type\": \"\",\n        \"description\": \"\"\n      }\n    },\n    {\n      \"column\": \"data_partida\",\n      \"properties\": {\n        \"dtype\": \"object\",\n        \"num_unique_values\": 3,\n        \"samples\": [\n          \"2025-09-16\",\n          \"2025-09-19\"\n        ],\n        \"semantic_type\": \"\",\n        \"description\": \"\"\n      }\n    },\n    {\n      \"column\": \"hospedagem\",\n      \"properties\": {\n        \"dtype\": \"string\",\n        \"num_unique_values\": 3,\n        \"samples\": [\n          \"Via Francesco Caracciolo n.7\",\n          \"Hotel Bodoni\"\n        ],\n        \"semantic_type\": \"\",\n        \"description\": \"\"\n      }\n    }\n  ]\n}"
            }
          },
          "metadata": {}
        },
        {
          "output_type": "display_data",
          "data": {
            "text/plain": [
              "<IPython.core.display.Markdown object>"
            ],
            "text/markdown": "\n--- Processando destino: **Roma, Itália** ---"
          },
          "metadata": {}
        },
        {
          "output_type": "display_data",
          "data": {
            "text/plain": [
              "<IPython.core.display.Markdown object>"
            ],
            "text/markdown": "\n### 🌍 Agente Iniciando Pesquisa para: **Roma, Itália**"
          },
          "metadata": {}
        },
        {
          "output_type": "display_data",
          "data": {
            "text/plain": [
              "<IPython.core.display.Markdown object>"
            ],
            "text/markdown": "🧠 *Agente consultando Gemini sobre atrações em: **Roma, Itália** (Top 7)...*"
          },
          "metadata": {}
        },
        {
          "output_type": "display_data",
          "data": {
            "text/plain": [
              "<IPython.core.display.Markdown object>"
            ],
            "text/markdown": "✅ *Gemini retornou 7 sugestões de atrações para Roma.*"
          },
          "metadata": {}
        },
        {
          "output_type": "display_data",
          "data": {
            "text/plain": [
              "<IPython.core.display.Markdown object>"
            ],
            "text/markdown": "--- Pesquisa para **Roma, Itália** finalizada pelo agente. ---"
          },
          "metadata": {}
        },
        {
          "output_type": "display_data",
          "data": {
            "text/plain": [
              "<IPython.core.display.Markdown object>"
            ],
            "text/markdown": "🧠 *Agente montando roteiro para: **Roma, Itália** (4 dias)...*"
          },
          "metadata": {}
        },
        {
          "output_type": "display_data",
          "data": {
            "text/plain": [
              "<IPython.core.display.Markdown object>"
            ],
            "text/markdown": "✅ *Gemini montou um roteiro com 4 dias para Roma.*"
          },
          "metadata": {}
        },
        {
          "output_type": "display_data",
          "data": {
            "text/plain": [
              "<IPython.core.display.Markdown object>"
            ],
            "text/markdown": "\n--- Processando destino: **Florença, Itália** ---"
          },
          "metadata": {}
        },
        {
          "output_type": "display_data",
          "data": {
            "text/plain": [
              "<IPython.core.display.Markdown object>"
            ],
            "text/markdown": "\n### 🌍 Agente Iniciando Pesquisa para: **Florença, Itália**"
          },
          "metadata": {}
        },
        {
          "output_type": "display_data",
          "data": {
            "text/plain": [
              "<IPython.core.display.Markdown object>"
            ],
            "text/markdown": "🧠 *Agente consultando Gemini sobre atrações em: **Florença, Itália** (Top 7)...*"
          },
          "metadata": {}
        },
        {
          "output_type": "display_data",
          "data": {
            "text/plain": [
              "<IPython.core.display.Markdown object>"
            ],
            "text/markdown": "✅ *Gemini retornou 7 sugestões de atrações para Florença.*"
          },
          "metadata": {}
        },
        {
          "output_type": "display_data",
          "data": {
            "text/plain": [
              "<IPython.core.display.Markdown object>"
            ],
            "text/markdown": "--- Pesquisa para **Florença, Itália** finalizada pelo agente. ---"
          },
          "metadata": {}
        },
        {
          "output_type": "display_data",
          "data": {
            "text/plain": [
              "<IPython.core.display.Markdown object>"
            ],
            "text/markdown": "🧠 *Agente montando roteiro para: **Florença, Itália** (4 dias)...*"
          },
          "metadata": {}
        },
        {
          "output_type": "display_data",
          "data": {
            "text/plain": [
              "<IPython.core.display.Markdown object>"
            ],
            "text/markdown": "✅ *Gemini montou um roteiro com 4 dias para Florença.*"
          },
          "metadata": {}
        },
        {
          "output_type": "display_data",
          "data": {
            "text/plain": [
              "<IPython.core.display.Markdown object>"
            ],
            "text/markdown": "\n--- Processando destino: **Viena, Aústria** ---"
          },
          "metadata": {}
        },
        {
          "output_type": "display_data",
          "data": {
            "text/plain": [
              "<IPython.core.display.Markdown object>"
            ],
            "text/markdown": "\n### 🌍 Agente Iniciando Pesquisa para: **Viena, Aústria**"
          },
          "metadata": {}
        },
        {
          "output_type": "display_data",
          "data": {
            "text/plain": [
              "<IPython.core.display.Markdown object>"
            ],
            "text/markdown": "🧠 *Agente consultando Gemini sobre atrações em: **Viena, Aústria** (Top 7)...*"
          },
          "metadata": {}
        },
        {
          "output_type": "display_data",
          "data": {
            "text/plain": [
              "<IPython.core.display.Markdown object>"
            ],
            "text/markdown": "✅ *Gemini retornou 7 sugestões de atrações para Viena.*"
          },
          "metadata": {}
        },
        {
          "output_type": "display_data",
          "data": {
            "text/plain": [
              "<IPython.core.display.Markdown object>"
            ],
            "text/markdown": "--- Pesquisa para **Viena, Aústria** finalizada pelo agente. ---"
          },
          "metadata": {}
        },
        {
          "output_type": "display_data",
          "data": {
            "text/plain": [
              "<IPython.core.display.Markdown object>"
            ],
            "text/markdown": "🧠 *Agente montando roteiro para: **Viena, Aústria** (5 dias)...*"
          },
          "metadata": {}
        },
        {
          "output_type": "display_data",
          "data": {
            "text/plain": [
              "<IPython.core.display.Markdown object>"
            ],
            "text/markdown": "✅ *Gemini montou um roteiro com 5 dias para Viena.*"
          },
          "metadata": {}
        },
        {
          "output_type": "display_data",
          "data": {
            "text/plain": [
              "<IPython.core.display.Markdown object>"
            ],
            "text/markdown": "\n## ✅ Planejamento de Viagens Concluído ✅"
          },
          "metadata": {}
        }
      ]
    },
    {
      "cell_type": "code",
      "metadata": {
        "colab": {
          "base_uri": "https://localhost:8080/",
          "height": 1000
        },
        "id": "d32c9670",
        "outputId": "98d26c5e-4222-48dd-90cc-627190c22a16"
      },
      "source": [
        "if dados_finais_viagem and dados_finais_viagem[0].get(\"roteiro\"):\n",
        "    display(Markdown(\"### Roteiro Sugerido para a Primeira Cidade:\"))\n",
        "    for dia in dados_finais_viagem[0][\"roteiro\"]:\n",
        "         display(Markdown(f\"**Dia {dia['dia']} ({dia['data']}):**\"))\n",
        "         for atividade in dia['atividades_sugeridas']:\n",
        "             display(Markdown(f\"- {atividade}\"))\n",
        "         if dia.get(\"observacoes\") and dia[\"observacoes\"] != \"N/A\":\n",
        "             display(Markdown(f\"*Observações:* {dia['observacoes']}\"))\n",
        "         display(Markdown(\"---\"))\n",
        "\n",
        "if dados_finais_viagem and dados_finais_viagem[0].get(\"pesquisa\") and dados_finais_viagem[0][\"pesquisa\"].get(\"sugestoes_gemini\"):\n",
        "     display(Markdown(\"### Sugestões de Atrações do Gemini para a Primeira Cidade:\"))\n",
        "     for atracao in dados_finais_viagem[0][\"pesquisa\"][\"sugestoes_gemini\"]:\n",
        "          display(Markdown(f\"- **{atracao['nome']}** ({atracao['tipo_principal']}): {atracao['descricao_enxuta']} (Avaliação: {atracao.get('avaliacao_geral', 'N/A')})\"))"
      ],
      "execution_count": null,
      "outputs": [
        {
          "output_type": "display_data",
          "data": {
            "text/plain": [
              "<IPython.core.display.Markdown object>"
            ],
            "text/markdown": "### Roteiro Sugerido para a Primeira Cidade:"
          },
          "metadata": {}
        },
        {
          "output_type": "display_data",
          "data": {
            "text/plain": [
              "<IPython.core.display.Markdown object>"
            ],
            "text/markdown": "**Dia 1 (2025-09-13):**"
          },
          "metadata": {}
        },
        {
          "output_type": "display_data",
          "data": {
            "text/plain": [
              "<IPython.core.display.Markdown object>"
            ],
            "text/markdown": "- Chegada e check-in na hospedagem (Via Francesco Caracciolo n.7)"
          },
          "metadata": {}
        },
        {
          "output_type": "display_data",
          "data": {
            "text/plain": [
              "<IPython.core.display.Markdown object>"
            ],
            "text/markdown": "- Passeio exploratório pela vizinhança da hospedagem"
          },
          "metadata": {}
        },
        {
          "output_type": "display_data",
          "data": {
            "text/plain": [
              "<IPython.core.display.Markdown object>"
            ],
            "text/markdown": "- Jantar em um restaurante local próximo à Via Francesco Caracciolo"
          },
          "metadata": {}
        },
        {
          "output_type": "display_data",
          "data": {
            "text/plain": [
              "<IPython.core.display.Markdown object>"
            ],
            "text/markdown": "*Observações:* A região oferece diversas opções gastronômicas.  Aproveite para se ambientar na área."
          },
          "metadata": {}
        },
        {
          "output_type": "display_data",
          "data": {
            "text/plain": [
              "<IPython.core.display.Markdown object>"
            ],
            "text/markdown": "---"
          },
          "metadata": {}
        },
        {
          "output_type": "display_data",
          "data": {
            "text/plain": [
              "<IPython.core.display.Markdown object>"
            ],
            "text/markdown": "**Dia 2 (2025-09-14):**"
          },
          "metadata": {}
        },
        {
          "output_type": "display_data",
          "data": {
            "text/plain": [
              "<IPython.core.display.Markdown object>"
            ],
            "text/markdown": "- Coliseu e Fórum Romano (3-4 horas)"
          },
          "metadata": {}
        },
        {
          "output_type": "display_data",
          "data": {
            "text/plain": [
              "<IPython.core.display.Markdown object>"
            ],
            "text/markdown": "- Almoço próximo ao Coliseu (várias opções de trattorias)"
          },
          "metadata": {}
        },
        {
          "output_type": "display_data",
          "data": {
            "text/plain": [
              "<IPython.core.display.Markdown object>"
            ],
            "text/markdown": "- Panteão (1 hora)"
          },
          "metadata": {}
        },
        {
          "output_type": "display_data",
          "data": {
            "text/plain": [
              "<IPython.core.display.Markdown object>"
            ],
            "text/markdown": "- Piazza Navona (1-2 horas, incluindo um gelato)"
          },
          "metadata": {}
        },
        {
          "output_type": "display_data",
          "data": {
            "text/plain": [
              "<IPython.core.display.Markdown object>"
            ],
            "text/markdown": "- Fontana di Trevi (30 minutos a 1 hora)"
          },
          "metadata": {}
        },
        {
          "output_type": "display_data",
          "data": {
            "text/plain": [
              "<IPython.core.display.Markdown object>"
            ],
            "text/markdown": "- Jantar na região da Piazza Navona"
          },
          "metadata": {}
        },
        {
          "output_type": "display_data",
          "data": {
            "text/plain": [
              "<IPython.core.display.Markdown object>"
            ],
            "text/markdown": "*Observações:* Utilize o transporte público (metrô) para se deslocar entre as atrações.  Compre ingressos para o Coliseu e Fórum Romano antecipadamente para evitar filas.  A região oferece muitas opções de restaurantes, desde fast food a restaurantes sofisticados."
          },
          "metadata": {}
        },
        {
          "output_type": "display_data",
          "data": {
            "text/plain": [
              "<IPython.core.display.Markdown object>"
            ],
            "text/markdown": "---"
          },
          "metadata": {}
        },
        {
          "output_type": "display_data",
          "data": {
            "text/plain": [
              "<IPython.core.display.Markdown object>"
            ],
            "text/markdown": "**Dia 3 (2025-09-15):**"
          },
          "metadata": {}
        },
        {
          "output_type": "display_data",
          "data": {
            "text/plain": [
              "<IPython.core.display.Markdown object>"
            ],
            "text/markdown": "- Museus Vaticanos e Capela Sistina (3-4 horas - reserve com antecedência!)"
          },
          "metadata": {}
        },
        {
          "output_type": "display_data",
          "data": {
            "text/plain": [
              "<IPython.core.display.Markdown object>"
            ],
            "text/markdown": "- Basílica de São Pedro (1-2 horas)"
          },
          "metadata": {}
        },
        {
          "output_type": "display_data",
          "data": {
            "text/plain": [
              "<IPython.core.display.Markdown object>"
            ],
            "text/markdown": "- Almoço próximo aos Museus Vaticanos (várias opções)"
          },
          "metadata": {}
        },
        {
          "output_type": "display_data",
          "data": {
            "text/plain": [
              "<IPython.core.display.Markdown object>"
            ],
            "text/markdown": "- Passeio pela Cidade e Jardins Borghese (2-3 horas - inclua tempo para o passeio e os jardins)"
          },
          "metadata": {}
        },
        {
          "output_type": "display_data",
          "data": {
            "text/plain": [
              "<IPython.core.display.Markdown object>"
            ],
            "text/markdown": "- Jantar em um restaurante próximo aos Jardins Borghese ou de volta para a região da hospedagem."
          },
          "metadata": {}
        },
        {
          "output_type": "display_data",
          "data": {
            "text/plain": [
              "<IPython.core.display.Markdown object>"
            ],
            "text/markdown": "*Observações:* Reserve os ingressos para os Museus Vaticanos e a Capela Sistina com bastante antecedência, pois as filas podem ser muito longas.  Utilize o transporte público ou táxi para se locomover entre os Museus Vaticanos e os Jardins Borghese.  Os Jardins Borghese oferecem um ambiente tranquilo para relaxar após a visita aos museus."
          },
          "metadata": {}
        },
        {
          "output_type": "display_data",
          "data": {
            "text/plain": [
              "<IPython.core.display.Markdown object>"
            ],
            "text/markdown": "---"
          },
          "metadata": {}
        },
        {
          "output_type": "display_data",
          "data": {
            "text/plain": [
              "<IPython.core.display.Markdown object>"
            ],
            "text/markdown": "**Dia 4 (2025-09-16):**"
          },
          "metadata": {}
        },
        {
          "output_type": "display_data",
          "data": {
            "text/plain": [
              "<IPython.core.display.Markdown object>"
            ],
            "text/markdown": "- Visita a um mercado local (experimente produtos locais)"
          },
          "metadata": {}
        },
        {
          "output_type": "display_data",
          "data": {
            "text/plain": [
              "<IPython.core.display.Markdown object>"
            ],
            "text/markdown": "- Compras de lembrancinhas"
          },
          "metadata": {}
        },
        {
          "output_type": "display_data",
          "data": {
            "text/plain": [
              "<IPython.core.display.Markdown object>"
            ],
            "text/markdown": "- Almoço em um restaurante escolhido a seu gosto"
          },
          "metadata": {}
        },
        {
          "output_type": "display_data",
          "data": {
            "text/plain": [
              "<IPython.core.display.Markdown object>"
            ],
            "text/markdown": "- Check-out da hospedagem (Via Francesco Caracciolo n.7)"
          },
          "metadata": {}
        },
        {
          "output_type": "display_data",
          "data": {
            "text/plain": [
              "<IPython.core.display.Markdown object>"
            ],
            "text/markdown": "- Saída de Roma"
          },
          "metadata": {}
        },
        {
          "output_type": "display_data",
          "data": {
            "text/plain": [
              "<IPython.core.display.Markdown object>"
            ],
            "text/markdown": "*Observações:* Este dia é flexível e permite que você aproveite para fazer compras de última hora, visitar um mercado local ou simplesmente desfrutar de um café da manhã mais demorado antes de partir.  Dependendo do horário do seu voo, você pode ajustar as atividades da manhã."
          },
          "metadata": {}
        },
        {
          "output_type": "display_data",
          "data": {
            "text/plain": [
              "<IPython.core.display.Markdown object>"
            ],
            "text/markdown": "---"
          },
          "metadata": {}
        },
        {
          "output_type": "display_data",
          "data": {
            "text/plain": [
              "<IPython.core.display.Markdown object>"
            ],
            "text/markdown": "### Sugestões de Atrações do Gemini para a Primeira Cidade:"
          },
          "metadata": {}
        },
        {
          "output_type": "display_data",
          "data": {
            "text/plain": [
              "<IPython.core.display.Markdown object>"
            ],
            "text/markdown": "- **Coliseu e Fórum Romano** (Monumento Nacional e Ruínas Arqueológicas): Símbolo icônico de Roma, o Coliseu é um anfiteatro antigo, enquanto o Fórum Romano revela os restos da antiga cidade romana. (Avaliação: Excelente)"
          },
          "metadata": {}
        },
        {
          "output_type": "display_data",
          "data": {
            "text/plain": [
              "<IPython.core.display.Markdown object>"
            ],
            "text/markdown": "- **Museus Vaticanos e Capela Sistina** (Museu de Arte e Religião): Um complexo de museus que abriga uma vasta coleção de arte e esculturas, culminando na deslumbrante Capela Sistina de Michelangelo. (Avaliação: Excelente)"
          },
          "metadata": {}
        },
        {
          "output_type": "display_data",
          "data": {
            "text/plain": [
              "<IPython.core.display.Markdown object>"
            ],
            "text/markdown": "- **Basílica de São Pedro** (Catedral Católica Romana): Uma das maiores e mais importantes igrejas do mundo, com uma arquitetura impressionante e uma rica história. (Avaliação: Excelente)"
          },
          "metadata": {}
        },
        {
          "output_type": "display_data",
          "data": {
            "text/plain": [
              "<IPython.core.display.Markdown object>"
            ],
            "text/markdown": "- **Fontana di Trevi** (Fonte Barroca): Uma das fontes mais famosas do mundo, com uma escultura exuberante e uma atmosfera mágica, especialmente à noite. (Avaliação: Muito Popular)"
          },
          "metadata": {}
        },
        {
          "output_type": "display_data",
          "data": {
            "text/plain": [
              "<IPython.core.display.Markdown object>"
            ],
            "text/markdown": "- **Piazza Navona** (Praça Barroca): Uma praça vibrante e charmosa com fontes ornamentadas, artistas de rua e uma atmosfera animada. (Avaliação: Muito Popular)"
          },
          "metadata": {}
        },
        {
          "output_type": "display_data",
          "data": {
            "text/plain": [
              "<IPython.core.display.Markdown object>"
            ],
            "text/markdown": "- **Panteão** (Templo Romano): Um templo romano antigo maravilhosamente preservado, conhecido por sua cúpula impressionante e arquitetura inovadora. (Avaliação: Excelente)"
          },
          "metadata": {}
        },
        {
          "output_type": "display_data",
          "data": {
            "text/plain": [
              "<IPython.core.display.Markdown object>"
            ],
            "text/markdown": "- **Passeio pela Cidade e Jardins Borghese** (Mirante Panorâmico e Parque Urbano): Um passeio pela cidade oferece vistas deslumbrantes, enquanto os Jardins Borghese proporcionam um refúgio verde com galerias de arte e esculturas. (Avaliação: Excelente)"
          },
          "metadata": {}
        }
      ]
    }
  ]
}